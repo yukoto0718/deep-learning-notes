{
 "cells": [
  {
   "cell_type": "markdown",
   "id": "d0b95be0-2868-4445-b545-31265ca42174",
   "metadata": {},
   "source": [
    "互相关运算"
   ]
  },
  {
   "cell_type": "code",
   "execution_count": 1,
   "id": "0b90f024-90a1-44c0-aad0-a468ad0131f1",
   "metadata": {},
   "outputs": [],
   "source": [
    "import torch\n",
    "from torch import nn\n",
    "from d2l import torch as d2l\n",
    "\n",
    "def corr2d(X, K):  \n",
    "    \"\"\"计算二维互相关运算\"\"\"\n",
    "    h,w = K.shape  # 获取卷积核的高度和宽度\n",
    "    #X.shape[0] 是输入张量X的高度 ； X.shape[1] 是输入张量X的宽度\n",
    "    #输出高度 = 输入高度 - 卷积核高度 + 1\n",
    "    #输出宽度 = 输入宽度 - 卷积核宽度 + 1\n",
    "    Y = torch.zeros((X.shape[0]- h + 1, X.shape[1] - w + 1))\n",
    "    for i in range(Y.shape[0]):\n",
    "        for j in range(Y.shape[1]):\n",
    "            Y[i,j] = (X[i:i + h, j:j +w] * K).sum()\n",
    "    return Y    "
   ]
  },
  {
   "cell_type": "markdown",
   "id": "4c20f3f9-0870-47ad-b314-a182044961da",
   "metadata": {},
   "source": [
    "验证上述二维互关运输的输出"
   ]
  },
  {
   "cell_type": "code",
   "execution_count": 2,
   "id": "ba5ec0a6-3287-4b09-b0e2-07c5a02c43ae",
   "metadata": {},
   "outputs": [
    {
     "data": {
      "text/plain": [
       "tensor([[19., 25.],\n",
       "        [37., 43.]])"
      ]
     },
     "execution_count": 2,
     "metadata": {},
     "output_type": "execute_result"
    }
   ],
   "source": [
    "X = torch.tensor([[0.0, 1.0, 2.0], [3.0, 4.0, 5.0], [6.0, 7.0, 8.0]])\n",
    "K = torch.tensor([[0.0, 1.0], [2.0, 3.0]])\n",
    "corr2d(X, K)"
   ]
  },
  {
   "cell_type": "markdown",
   "id": "22ac84fd-017e-413d-8862-59678576489c",
   "metadata": {},
   "source": [
    "实现二维卷积层"
   ]
  },
  {
   "cell_type": "code",
   "execution_count": 7,
   "id": "9cda1db2-a7f9-400c-b108-28a300ad7dd3",
   "metadata": {},
   "outputs": [],
   "source": [
    "class Conv2D(nn.Module):\n",
    "    def __init__(self, kernel_size):\n",
    "        super().__init__()\n",
    "        #定义两个可以学习参数\n",
    "        self.weight = nn.Parameter(torch.rand(kernel_size))\n",
    "        self.bias = nn.Parameter(torch.zeros(1))\n",
    "\n",
    "    def forward(self, x):\n",
    "        return corr2d(x, self.weight) + self.bias"
   ]
  },
  {
   "cell_type": "markdown",
   "id": "ae7d2217-35f8-4bf6-932d-63e1b448b1b2",
   "metadata": {},
   "source": [
    "卷积层的一个简单应用：检测图像中不同颜色的边缘"
   ]
  },
  {
   "cell_type": "markdown",
   "id": "7fe5c367-321c-4df4-80c9-83820e1e984f",
   "metadata": {},
   "source": [
    "首先，我们构造一个6X8像素的黑白图像。中间四列为黑色（0），其余像素为白色（1）"
   ]
  },
  {
   "cell_type": "code",
   "execution_count": 8,
   "id": "58db1e28-0b34-423f-806c-478160baf3d8",
   "metadata": {},
   "outputs": [
    {
     "data": {
      "text/plain": [
       "tensor([[1., 1., 0., 0., 0., 0., 1., 1.],\n",
       "        [1., 1., 0., 0., 0., 0., 1., 1.],\n",
       "        [1., 1., 0., 0., 0., 0., 1., 1.],\n",
       "        [1., 1., 0., 0., 0., 0., 1., 1.],\n",
       "        [1., 1., 0., 0., 0., 0., 1., 1.],\n",
       "        [1., 1., 0., 0., 0., 0., 1., 1.]])"
      ]
     },
     "execution_count": 8,
     "metadata": {},
     "output_type": "execute_result"
    }
   ],
   "source": [
    "X = torch.ones((6, 8))\n",
    "X[:, 2:6] = 0\n",
    "X"
   ]
  },
  {
   "cell_type": "markdown",
   "id": "cf3ff5d3-288d-41c2-93cd-5406392c66b4",
   "metadata": {},
   "source": [
    "接下来，我们构造一个高度为1、宽度为2的卷积核K。当进行互相关运算时，如果水平相邻的两元素相同，则输出为零，否则输出为非零。"
   ]
  },
  {
   "cell_type": "code",
   "execution_count": 9,
   "id": "ca75bd1c-805b-437c-93bb-191bc903f350",
   "metadata": {},
   "outputs": [],
   "source": [
    "K = torch.tensor([[1.0, -1.0]])"
   ]
  },
  {
   "cell_type": "markdown",
   "id": "70093fe5-3b0b-4080-979e-b8aab54d6bc9",
   "metadata": {},
   "source": [
    "现在，我们对参数X（输入）和K（卷积核）执行互相关运算。 如下所示，输出Y中的1代表从白色到黑色的边缘，-1代表从黑色到白色的边缘，其他情况的输出为0"
   ]
  },
  {
   "cell_type": "markdown",
   "id": "3ccd00c2-aff4-4eb5-8e49-bd0b8949fc94",
   "metadata": {},
   "source": [
    "```\n",
    "边缘检测原理\n",
    "当卷积核滑过图像时，它计算的是相邻像素的差值：\n",
    "情况1：从白到黑的边缘\n",
    "    图像片段: [1, 0]  (白色到黑色)\n",
    "    卷积运算: 1×1 + 0×(-1) = 1\n",
    "    结果: 1 (检测到白→黑边缘)\n",
    "情况2：从黑到白的边缘\n",
    "    图像片段: [0, 1]  (黑色到白色)\n",
    "    卷积运算: 0×1 + 1×(-1) = -1\n",
    "    结果: -1 (检测到黑→白边缘)\n",
    "情况3：颜色一致，无边缘\n",
    "    图像片段: [1, 1] 或 [0, 0]  (颜色一致)\n",
    "    卷积运算: 1×1 + 1×(-1) = 0 或 0×1 + 0×(-1) = 0\n",
    "    结果: 0 (无边缘)"
   ]
  },
  {
   "cell_type": "code",
   "execution_count": 10,
   "id": "bac98df4-0ed4-430a-8bf6-d0000734b919",
   "metadata": {},
   "outputs": [
    {
     "data": {
      "text/plain": [
       "tensor([[ 0.,  1.,  0.,  0.,  0., -1.,  0.],\n",
       "        [ 0.,  1.,  0.,  0.,  0., -1.,  0.],\n",
       "        [ 0.,  1.,  0.,  0.,  0., -1.,  0.],\n",
       "        [ 0.,  1.,  0.,  0.,  0., -1.,  0.],\n",
       "        [ 0.,  1.,  0.,  0.,  0., -1.,  0.],\n",
       "        [ 0.,  1.,  0.,  0.,  0., -1.,  0.]])"
      ]
     },
     "execution_count": 10,
     "metadata": {},
     "output_type": "execute_result"
    }
   ],
   "source": [
    "Y = corr2d(X, K)\n",
    "Y"
   ]
  },
  {
   "cell_type": "markdown",
   "id": "d3c1a40b-a80d-42b1-9896-e526ced73409",
   "metadata": {},
   "source": [
    "现在我们将输入的二维图像转置，再进行如上的互相关运算。 其输出如下，之前检测到的垂直边缘消失了。 不出所料，这个卷积核K只可以检测垂直边缘，无法检测水平边缘。"
   ]
  },
  {
   "cell_type": "markdown",
   "id": "95891bde-d88f-4901-85de-93400633a664",
   "metadata": {},
   "source": [
    "```\n",
    "要检测水平边缘（垂直方向的颜色变化），需要垂直排列的卷积核：\n",
    "pythonK_horizontal = torch.tensor([[1.0], \n",
    "                                  [-1.0]])  # 2×1 的垂直卷积核"
   ]
  },
  {
   "cell_type": "code",
   "execution_count": 11,
   "id": "8efc0439-f425-431c-93a5-c41d2c614971",
   "metadata": {},
   "outputs": [
    {
     "data": {
      "text/plain": [
       "tensor([[0., 0., 0., 0., 0.],\n",
       "        [0., 0., 0., 0., 0.],\n",
       "        [0., 0., 0., 0., 0.],\n",
       "        [0., 0., 0., 0., 0.],\n",
       "        [0., 0., 0., 0., 0.],\n",
       "        [0., 0., 0., 0., 0.],\n",
       "        [0., 0., 0., 0., 0.],\n",
       "        [0., 0., 0., 0., 0.]])"
      ]
     },
     "execution_count": 11,
     "metadata": {},
     "output_type": "execute_result"
    }
   ],
   "source": [
    "corr2d(X.t(), K)"
   ]
  },
  {
   "cell_type": "markdown",
   "id": "dd03b249-253e-4a8c-9253-c51385e25119",
   "metadata": {},
   "source": [
    "学习由X生成Y的卷积核"
   ]
  },
  {
   "cell_type": "markdown",
   "id": "39ffcc5c-dc83-45ce-89e5-67999961878a",
   "metadata": {},
   "source": [
    "```\n",
    "Conv2d 参数解析\n",
    "pythonnn.Conv2d(in_channels, out_channels, kernel_size, bias=False)\n",
    "                       ↑           ↑            ↑          ↑\n",
    "                     输入通道     输出通道      卷积核大小   是否使用偏置"
   ]
  },
  {
   "cell_type": "code",
   "execution_count": 12,
   "id": "a3057ad2-9ffe-416a-8ab9-c9280d6e6f5c",
   "metadata": {},
   "outputs": [
    {
     "name": "stdout",
     "output_type": "stream",
     "text": [
      "epoch 2, loss 12.927\n",
      "epoch 4, loss 3.364\n",
      "epoch 6, loss 1.054\n",
      "epoch 8, loss 0.377\n",
      "epoch 10, loss 0.145\n"
     ]
    }
   ],
   "source": [
    "# 构造一个二维卷积层，它具有1个输出通道和形状为（1，2）的卷积核\n",
    "conv2d = nn.Conv2d(1,1, kernel_size=(1, 2), bias=False)\n",
    "\n",
    "# 这个二维卷积层使用四维输入和输出格式（批量大小、通道、高度、宽度），\n",
    "# 其中批量大小和通道数都为1\n",
    "X = X.reshape((1, 1, 6, 8))\n",
    "Y = Y.reshape((1, 1, 6, 7))\n",
    "lr = 3e-2  # 学习率\n",
    "\n",
    "for i in range(10):\n",
    "    Y_hat = conv2d(X)\n",
    "    l = (Y_hat - Y) ** 2\n",
    "    conv2d.zero_grad()  # 清空之前的梯度\n",
    "    l.sum().backward()  # 计算梯度\n",
    "    # 迭代卷积核\n",
    "    #[:] 表示\"所有元素\"\n",
    "    #更新参数\n",
    "    #梯度下降公式：参数 = 参数 - 学习率 × 梯度\n",
    "    conv2d.weight.data[:] -= lr * conv2d.weight.grad\n",
    "    if (i + 1) % 2 == 0:\n",
    "        print(f'epoch {i+1}, loss {l.sum():.3f}')"
   ]
  },
  {
   "cell_type": "markdown",
   "id": "4f106c47-a132-416b-ad18-1385b4c2d812",
   "metadata": {},
   "source": [
    "现在我们来看看我们所学的卷积核的权重张量"
   ]
  },
  {
   "cell_type": "code",
   "execution_count": 13,
   "id": "3ce37b8f-47d0-4bdf-854a-110df418745a",
   "metadata": {},
   "outputs": [
    {
     "data": {
      "text/plain": [
       "tensor([[ 0.9468, -1.0238]])"
      ]
     },
     "execution_count": 13,
     "metadata": {},
     "output_type": "execute_result"
    }
   ],
   "source": [
    "# kernel_size=(1, 2)  # 这里的(1,2)是卷积核的尺寸\n",
    "# h, w = K.shape      # h=1, w=2 是高度和宽度\n",
    "conv2d.weight.data.reshape((1, 2))"
   ]
  }
 ],
 "metadata": {
  "kernelspec": {
   "display_name": "Python 3.11 (Lee Course)",
   "language": "python",
   "name": "lee_course_env"
  },
  "language_info": {
   "codemirror_mode": {
    "name": "ipython",
    "version": 3
   },
   "file_extension": ".py",
   "mimetype": "text/x-python",
   "name": "python",
   "nbconvert_exporter": "python",
   "pygments_lexer": "ipython3",
   "version": "3.11.13"
  }
 },
 "nbformat": 4,
 "nbformat_minor": 5
}
