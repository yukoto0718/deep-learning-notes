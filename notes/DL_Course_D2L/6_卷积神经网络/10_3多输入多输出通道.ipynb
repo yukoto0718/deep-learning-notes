{
 "cells": [
  {
   "cell_type": "markdown",
   "id": "16b67d62-60d5-4906-923c-855617cfae47",
   "metadata": {},
   "source": [
    "实现一下多输入通道互相关运算。 简而言之，我们所做的就是对每个通道执行互相关操作，然后将结果相加"
   ]
  },
  {
   "cell_type": "code",
   "execution_count": 1,
   "id": "3a10f753-e258-442b-8945-393b20c946d2",
   "metadata": {},
   "outputs": [],
   "source": [
    "import torch\n",
    "from d2l import torch as d2l\n",
    "\n",
    "def corr2d_multi_in(X, K):\n",
    "    # 先遍历“X”和“K”的第0个维度（通道维度），再把它们加在一起\n",
    "    return sum(d2l.corr2d(x, k) for x, k in zip(X, K))"
   ]
  },
  {
   "cell_type": "markdown",
   "id": "e4409c90-0c16-41ce-a760-74783d86eb02",
   "metadata": {},
   "source": [
    "验证互相关运算的输出"
   ]
  },
  {
   "cell_type": "code",
   "execution_count": 2,
   "id": "2ba17e85-02fd-4544-9f80-f3f7ec705030",
   "metadata": {},
   "outputs": [
    {
     "data": {
      "text/plain": [
       "tensor([[ 56.,  72.],\n",
       "        [104., 120.]])"
      ]
     },
     "execution_count": 2,
     "metadata": {},
     "output_type": "execute_result"
    }
   ],
   "source": [
    "X = torch.tensor([[[0.0, 1.0, 2.0], [3.0, 4.0, 5.0], [6.0, 7.0, 8.0]],\n",
    "               [[1.0, 2.0, 3.0], [4.0, 5.0, 6.0], [7.0, 8.0, 9.0]]])\n",
    "K = torch.tensor([[[0.0, 1.0], [2.0, 3.0]], [[1.0, 2.0], [3.0, 4.0]]])\n",
    "\n",
    "corr2d_multi_in(X, K)"
   ]
  },
  {
   "cell_type": "markdown",
   "id": "84dfa538-51f3-4dce-b5f1-244693848787",
   "metadata": {},
   "source": [
    "计算多个通道的输出的互相关函数"
   ]
  },
  {
   "cell_type": "markdown",
   "id": "d105229f-9bcb-4026-b000-652ee357a3a5",
   "metadata": {},
   "source": [
    " ```\n",
    " torch.Size([3, 2, 2, 2])\n",
    "            ↓  ↓  ↓  ↓\n",
    "            |  |  |  └── 卷积核宽度 = 2\n",
    "            |  |  └───── 卷积核高度 = 2  \n",
    "            |  └──────── 输入通道数 = 2 (必须匹配X的通道数)\n",
    "            └─────────── 输出通道数 = 3 (因为stack了3个(K, K + 1, K + 2))"
   ]
  },
  {
   "cell_type": "code",
   "execution_count": 4,
   "id": "7e9a68f2-4c37-4fa6-88af-70f539cce97b",
   "metadata": {},
   "outputs": [
    {
     "data": {
      "text/plain": [
       "torch.Size([3, 2, 2, 2])"
      ]
     },
     "execution_count": 4,
     "metadata": {},
     "output_type": "execute_result"
    }
   ],
   "source": [
    "def corr2d_multi_in_out(X, K):\n",
    "    # 迭代“K”的第0个维度，每次都对输入“X”执行互相关运算。\n",
    "    # 最后将所有结果都叠加在一起\n",
    "    return torch.stack([corr2d_multi_in(X, k) for k in K], 0)\n",
    "\n",
    "K = torch.stack((K, K + 1, K + 2), 0)\n",
    "K.shape"
   ]
  },
  {
   "cell_type": "markdown",
   "id": "79551ffc-250f-402c-9476-cb878a91177f",
   "metadata": {},
   "source": [
    "我们对输入张量X与卷积核张量K执行互相关运算。现在的输出包含3个通道，第一个通道的结果与先前输入张量X和多输入单输出通道的结果一致。"
   ]
  },
  {
   "cell_type": "markdown",
   "id": "f0bd3bca-bc35-4cae-b6dc-76f3c55a1718",
   "metadata": {},
   "source": [
    "之所以第一个向量和之前的结果一样，是因为其实我们K,K+1和K+2其实是在对同一个内容做卷积，只是这次我们的卷积核换成了3个。在现实的CNN中，不同的卷积核就像是专门的特征检测器。"
   ]
  },
  {
   "cell_type": "code",
   "execution_count": 5,
   "id": "3bf76710-b0f5-4fca-b26c-5721558b09b2",
   "metadata": {},
   "outputs": [
    {
     "data": {
      "text/plain": [
       "tensor([[[ 56.,  72.],\n",
       "         [104., 120.]],\n",
       "\n",
       "        [[ 76., 100.],\n",
       "         [148., 172.]],\n",
       "\n",
       "        [[ 96., 128.],\n",
       "         [192., 224.]]])"
      ]
     },
     "execution_count": 5,
     "metadata": {},
     "output_type": "execute_result"
    }
   ],
   "source": [
    "corr2d_multi_in_out(X, K)"
   ]
  },
  {
   "cell_type": "markdown",
   "id": "0abcebe3-afc2-4f2b-bc50-5f17c3a8e030",
   "metadata": {},
   "source": [
    "1×1卷积"
   ]
  },
  {
   "cell_type": "markdown",
   "id": "1cf1e6d9-d2d2-4060-9f4c-cd3ff7f1cb4c",
   "metadata": {},
   "source": [
    "当以像素为基础应用时，1×1卷积层相当于全连接层"
   ]
  },
  {
   "cell_type": "code",
   "execution_count": 6,
   "id": "c8bfa811-222b-4bb1-8173-70ba8707f1a2",
   "metadata": {},
   "outputs": [],
   "source": [
    "def corr2d_multi_in_out_1x1(X, K):\n",
    "    #c_i表示\"channels input\"（输入通道数）；h表示\"height\"（高度）；w表示\"width\"（宽度）；c_o表示\"channels output\"（输出通道数）\n",
    "    c_i, h, w = X.shape\n",
    "    c_o = K.shape[0]\n",
    "    X = X.reshape((c_i, h * w))\n",
    "    K = K.reshape((c_o, c_i))\n",
    "    # 全连接层中的矩阵乘法\n",
    "    Y = torch.matmul(K, X)\n",
    "    return Y.reshape((c_o, h, w))\n",
    "\n",
    "X = torch.normal(0, 1, (3, 3, 3))\n",
    "K = torch.normal(0, 1, (2, 3, 1, 1))\n",
    "\n",
    "Y1 = corr2d_multi_in_out_1x1(X, K)\n",
    "Y2 = corr2d_multi_in_out(X, K)\n",
    "assert float(torch.abs(Y1 - Y2).sum()) < 1e-6    "
   ]
  }
 ],
 "metadata": {
  "kernelspec": {
   "display_name": "Python 3.11 (Lee Course)",
   "language": "python",
   "name": "lee_course_env"
  },
  "language_info": {
   "codemirror_mode": {
    "name": "ipython",
    "version": 3
   },
   "file_extension": ".py",
   "mimetype": "text/x-python",
   "name": "python",
   "nbconvert_exporter": "python",
   "pygments_lexer": "ipython3",
   "version": "3.11.13"
  }
 },
 "nbformat": 4,
 "nbformat_minor": 5
}
