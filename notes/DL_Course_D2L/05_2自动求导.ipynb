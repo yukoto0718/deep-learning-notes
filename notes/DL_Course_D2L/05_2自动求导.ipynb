{
 "cells": [
  {
   "cell_type": "markdown",
   "id": "06221c6a-026e-42bb-af66-00dd6399c5a9",
   "metadata": {},
   "source": [
    "假设我们想对函数  \n",
    "$$y = 2\\mathbf{x}^T\\mathbf{x}$$\n",
    "关于列向量x求导"
   ]
  },
  {
   "cell_type": "code",
   "execution_count": 1,
   "id": "bc77d4aa-ec3e-46b3-bf10-b12a354cd10a",
   "metadata": {},
   "outputs": [
    {
     "data": {
      "text/plain": [
       "tensor([0., 1., 2., 3.])"
      ]
     },
     "execution_count": 1,
     "metadata": {},
     "output_type": "execute_result"
    }
   ],
   "source": [
    "import torch\n",
    "\n",
    "x = torch.arange(4.0)\n",
    "x"
   ]
  },
  {
   "cell_type": "code",
   "execution_count": 2,
   "id": "d80a0438-9d8f-435d-9968-c8e6591d5b07",
   "metadata": {},
   "outputs": [],
   "source": [
    "#在我们计算y关于x的梯度之前，我们需要一个地方来储存梯度\n",
    "#下面的这个代码等价于 x = torch.arange(4.0,requires_grad=True)\n",
    "x.requires_grad_(True)\n",
    "x.grad #默认值是None"
   ]
  },
  {
   "cell_type": "code",
   "execution_count": 3,
   "id": "ece72590-873e-4917-be46-c0a51b9b9b77",
   "metadata": {},
   "outputs": [
    {
     "data": {
      "text/plain": [
       "tensor(28., grad_fn=<MulBackward0>)"
      ]
     },
     "execution_count": 3,
     "metadata": {},
     "output_type": "execute_result"
    }
   ],
   "source": [
    "#现在让我们计算y\n",
    "y = 2 * torch.dot(x,x)\n",
    "#dot(x,x)=14\n",
    "y"
   ]
  },
  {
   "cell_type": "markdown",
   "id": "a1ef3da9-6f64-48e9-b83d-025bed7da018",
   "metadata": {},
   "source": [
    "通过调用反向传播函数来自动计算y关于x每个分量的梯度"
   ]
  },
  {
   "cell_type": "markdown",
   "id": "ba953964-f7a9-4911-a9b8-e0d5b7537fa7",
   "metadata": {},
   "source": [
    "1.对每个x_i求偏导数：\n",
    "∂y/∂x₀ = ∂/∂x₀(2 * (x₀² + x₁² + x₂² + x₃²)) = 2 * 2x₀ = 4x₀ = 4*0 = 0\n",
    "∂y/∂x₁ = ∂/∂x₁(2 * (x₀² + x₁² + x₂² + x₃²)) = 2 * 2x₁ = 4x₁ = 4*1 = 4  \n",
    "∂y/∂x₂ = ∂/∂x₂(2 * (x₀² + x₁² + x₂² + x₃²)) = 2 * 2x₂ = 4x₂ = 4*2 = 8\n",
    "∂y/∂x₃ = ∂/∂x₃(2 * (x₀² + x₁² + x₂² + x₃²)) = 2 * 2x₃ = 4x₃ = 4*3 = 12"
   ]
  },
  {
   "cell_type": "markdown",
   "id": "9d72dacd-4322-4ab9-b28e-04ca967dc7b4",
   "metadata": {},
   "source": [
    "2.对于 y = 2x^T x，梯度公式是：∂y/∂x = 4x\n",
    "1) 首先理解 $\\mathbf{x}^T \\mathbf{x}$ 是什么\n",
    "\n",
    "对于向量 $\\mathbf{x} = [x_1, x_2, x_3, x_4]^T$：\n",
    "\n",
    "$$\\mathbf{x}^T \\mathbf{x} = x_1^2 + x_2^2 + x_3^2 + x_4^2$$\n",
    "\n",
    "2)  展开函数 $y = 2\\mathbf{x}^T\\mathbf{x}$\n",
    "\n",
    "$$y = 2(x_1^2 + x_2^2 + x_3^2 + x_4^2)$$\n",
    "\n",
    "3) 求偏导数（逐个分量）\n",
    "\n",
    "$$\\frac{\\partial y}{\\partial x_1} = \\frac{\\partial}{\\partial x_1}[2(x_1^2 + x_2^2 + x_3^2 + x_4^2)] = 2 \\cdot 2x_1 = 4x_1$$\n",
    "\n",
    "$$\\frac{\\partial y}{\\partial x_2} = \\frac{\\partial}{\\partial x_2}[2(x_1^2 + x_2^2 + x_3^2 + x_4^2)] = 2 \\cdot 2x_2 = 4x_2$$\n",
    "\n",
    "$$\\frac{\\partial y}{\\partial x_3} = 4x_3$$\n",
    "\n",
    "$$\\frac{\\partial y}{\\partial x_4} = 4x_4$$\n",
    "\n",
    "4) 组合成梯度向量\n",
    "\n",
    "$$\\frac{\\partial y}{\\partial \\mathbf{x}} = \\begin{bmatrix} 4x_1 \\\\ 4x_2 \\\\ 4x_3 \\\\ 4x_4 \\end{bmatrix} = 4 \\begin{bmatrix} x_1 \\\\ x_2 \\\\ x_3 \\\\ x_4 \\end{bmatrix} = 4\\mathbf{x}$$\n",
    "\n",
    "验证：4 * [0., 1., 2., 3.] = [0., 4., 8., 12.] ✓"
   ]
  },
  {
   "cell_type": "code",
   "execution_count": 4,
   "id": "148c57c1-23ca-478c-b486-088c300c89a1",
   "metadata": {},
   "outputs": [
    {
     "data": {
      "text/plain": [
       "tensor([ 0.,  4.,  8., 12.])"
      ]
     },
     "execution_count": 4,
     "metadata": {},
     "output_type": "execute_result"
    }
   ],
   "source": [
    "y.backward()\n",
    "x.grad"
   ]
  },
  {
   "cell_type": "code",
   "execution_count": 5,
   "id": "d9dfd4d9-f66b-48e2-b096-bf996ec7862e",
   "metadata": {},
   "outputs": [
    {
     "data": {
      "text/plain": [
       "tensor([True, True, True, True])"
      ]
     },
     "execution_count": 5,
     "metadata": {},
     "output_type": "execute_result"
    }
   ],
   "source": [
    "x.grad == 4 * x"
   ]
  },
  {
   "cell_type": "markdown",
   "id": "c31674c4-d53e-450d-a98b-f2edbd0944c5",
   "metadata": {},
   "source": [
    "现在让我们计算x的另一个函数"
   ]
  },
  {
   "cell_type": "markdown",
   "id": "0daa30ad-2902-4941-83d2-369aa70d2885",
   "metadata": {},
   "source": [
    "y = x.sum() = x₁ + x₂ + x₃ + x₄ = 0 + 1 + 2 + 3 = 6\n",
    "$$y = x_1 + x_2 + x_3 + x_4$$\n",
    "\n",
    "$$\\frac{\\partial y}{\\partial x_1} = \\frac{\\partial}{\\partial x_1}(x_1 + x_2 + x_3 + x_4) = 1$$\n",
    "\n",
    "$$\\frac{\\partial y}{\\partial x_2} = \\frac{\\partial}{\\partial x_2}(x_1 + x_2 + x_3 + x_4) = 1$$\n",
    "\n",
    "$$\\frac{\\partial y}{\\partial x_3} = 1$$\n",
    "\n",
    "$$\\frac{\\partial y}{\\partial x_4} = 1$$"
   ]
  },
  {
   "cell_type": "code",
   "execution_count": 6,
   "id": "b943c9c5-c047-4ce9-bcfb-b3ddf0e9c29b",
   "metadata": {},
   "outputs": [
    {
     "data": {
      "text/plain": [
       "tensor([1., 1., 1., 1.])"
      ]
     },
     "execution_count": 6,
     "metadata": {},
     "output_type": "execute_result"
    }
   ],
   "source": [
    "#在默认情况下，PyTorch会积累梯度，需要我们清除之前的值\n",
    "x.grad.zero_()\n",
    "y = x.sum()\n",
    "y.backward()\n",
    "x.grad"
   ]
  },
  {
   "cell_type": "markdown",
   "id": "726dead8-a0e6-4def-9f7b-cd2f1bde8f0a",
   "metadata": {},
   "source": [
    "在深度学习中，我们的目的不是计算微积分矩阵，而是批量中每个样本单独计算的偏导数之和"
   ]
  },
  {
   "cell_type": "markdown",
   "id": "39c4fb45-13be-46a7-ba6c-c00fba7e07c6",
   "metadata": {},
   "source": [
    "1. y = x * x 计算什么？\n",
    "对于 x = [0., 1., 2., 3.]：\n",
    "y = x * x = [0², 1², 2², 3²] = [0., 1., 4., 9.]\n",
    "这里 y 是一个向量（Vector），不是标量（Scalar）\n",
    "在PyTorch中：\n",
    "向量 = 一维数组（多个数字排成一排）\n",
    "标量 = 单个数字\n",
    "方向不是重点，形状才是重点\n",
    "2. y.sum() 是什么？\n",
    "y.sum() = 0 + 1 + 4 + 9 = 14\n",
    "所以实际求导的函数是：\n",
    "f = y.sum() = x₁² + x₂² + x₃² + x₄²"
   ]
  },
  {
   "cell_type": "markdown",
   "id": "e5d8d3c2-e42b-45ff-9cf2-55c82baa5480",
   "metadata": {},
   "source": [
    "$$f = x_1^2 + x_2^2 + x_3^2 + x_4^2$$\n",
    "\n",
    "$$\\frac{\\partial f}{\\partial x_1} = \\frac{\\partial}{\\partial x_1}(x_1^2 + x_2^2 + x_3^2 + x_4^2) = 2x_1$$\n",
    "\n",
    "$$\\frac{\\partial f}{\\partial x_2} = \\frac{\\partial}{\\partial x_2}(x_1^2 + x_2^2 + x_3^2 + x_4^2) = 2x_2$$\n",
    "\n",
    "$$\\frac{\\partial f}{\\partial x_3} = 2x_3$$\n",
    "\n",
    "$$\\frac{\\partial f}{\\partial x_4} = 2x_4$$\n",
    "\n",
    "$$\\frac{\\partial f}{\\partial \\mathbf{x}} = 2\\mathbf{x} = 2[x_1, x_2, x_3, x_4]^T$$"
   ]
  },
  {
   "cell_type": "code",
   "execution_count": 7,
   "id": "cac11585-9593-406d-8576-2c76109ead74",
   "metadata": {},
   "outputs": [
    {
     "data": {
      "text/plain": [
       "tensor([0., 2., 4., 6.])"
      ]
     },
     "execution_count": 7,
     "metadata": {},
     "output_type": "execute_result"
    }
   ],
   "source": [
    "#对非标量调用backward需要传入一个gradient参数，该参数指定微积分函数\n",
    "x.grad.zero_()\n",
    "y = x * x\n",
    "#等价于y.backward(torch.ones(len(x)))\n",
    "#梯度 = 2x = 2[0., 1., 2., 3.] = [0., 2., 4., 6.]\n",
    "y.sum().backward()\n",
    "x.grad"
   ]
  },
  {
   "cell_type": "markdown",
   "id": "60d1ed75-6d70-4d96-966d-dcdede884ccb",
   "metadata": {},
   "source": [
    "将某些计算移动到记录的计算图之外"
   ]
  },
  {
   "cell_type": "code",
   "execution_count": 8,
   "id": "16d6e70d-bfe2-4d44-86a8-4b22dd814c8a",
   "metadata": {},
   "outputs": [
    {
     "data": {
      "text/plain": [
       "tensor([True, True, True, True])"
      ]
     },
     "execution_count": 8,
     "metadata": {},
     "output_type": "execute_result"
    }
   ],
   "source": [
    "#把y当成常数而不是函数赋值给u\n",
    "x.grad.zero_()\n",
    "y = x * x\n",
    "u = y.detach()\n",
    "z = u * x\n",
    "\n",
    "z.sum().backward()\n",
    "x.grad == u"
   ]
  },
  {
   "cell_type": "code",
   "execution_count": 9,
   "id": "8e1b85e0-736b-433d-aba5-1179d4957799",
   "metadata": {},
   "outputs": [
    {
     "data": {
      "text/plain": [
       "tensor([True, True, True, True])"
      ]
     },
     "execution_count": 9,
     "metadata": {},
     "output_type": "execute_result"
    }
   ],
   "source": [
    "x.grad.zero_()\n",
    "y.sum().backward()\n",
    "x.grad == 2 * x"
   ]
  },
  {
   "cell_type": "markdown",
   "id": "aea64c24-eb6a-4a8d-a473-ad872d49e8dc",
   "metadata": {},
   "source": [
    "即使构造函数的计算图需要通过Python控制流(例如：条件，循环或任意函数调用)，我们仍然可以计算得到变量的梯度"
   ]
  },
  {
   "cell_type": "code",
   "execution_count": 10,
   "id": "38413272-4952-4963-b598-d2bdac66fe77",
   "metadata": {},
   "outputs": [
    {
     "data": {
      "text/plain": [
       "tensor(True)"
      ]
     },
     "execution_count": 10,
     "metadata": {},
     "output_type": "execute_result"
    }
   ],
   "source": [
    "def f(a):\n",
    "    b = a * 2                    # b = 2a\n",
    "    while b.norm() < 1000:       # 当|b| < 1000时继续循环\n",
    "        b = b * 2                # b = b * 2\n",
    "    if b.sum() > 0:              # 如果b > 0\n",
    "        c = b                    # c = b\n",
    "    else:                        # 如果b ≤ 0  \n",
    "        c = 100 * b              # c = 100b\n",
    "    return c\n",
    "\n",
    "a = torch.randn(size=(), requires_grad=True)\n",
    "d = f(a)\n",
    "d.backward()\n",
    "\n",
    "a.grad == d / a"
   ]
  }
 ],
 "metadata": {
  "kernelspec": {
   "display_name": "Python [conda env:base] *",
   "language": "python",
   "name": "conda-base-py"
  },
  "language_info": {
   "codemirror_mode": {
    "name": "ipython",
    "version": 3
   },
   "file_extension": ".py",
   "mimetype": "text/x-python",
   "name": "python",
   "nbconvert_exporter": "python",
   "pygments_lexer": "ipython3",
   "version": "3.13.5"
  }
 },
 "nbformat": 4,
 "nbformat_minor": 5
}
