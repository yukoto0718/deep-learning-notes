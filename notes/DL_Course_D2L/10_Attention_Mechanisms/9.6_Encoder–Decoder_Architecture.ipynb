{
 "cells": [
  {
   "cell_type": "markdown",
   "id": "5527641d-9f9b-4899-ab9f-4b0c99067576",
   "metadata": {},
   "source": [
    "# 9.6. 编码器-解码器架构"
   ]
  },
  {
   "cell_type": "markdown",
   "id": "6522921f-505d-451a-8dea-a091ffd53066",
   "metadata": {},
   "source": [
    "```\n",
    "Python 固定语法：\n",
    "    *args = 可变位置参数（tuple）\n",
    "    **kwargs = 可变关键字参数（dict）\n",
    "\n",
    "def baz(*args, **kwargs):\n",
    "    print(\"args =\", args)\n",
    "    print(\"kwargs =\", kwargs)\n",
    "\n",
    "baz(1, 2, 3, x=10, y=20)\n",
    "# args = (1, 2, 3)\n",
    "# kwargs = {'x': 10, 'y': 20}"
   ]
  },
  {
   "cell_type": "markdown",
   "id": "8cb68c17-5f23-40fd-a852-0926638dddda",
   "metadata": {},
   "source": [
    "## 编码器"
   ]
  },
  {
   "cell_type": "code",
   "execution_count": 1,
   "id": "f8a821ab-5b78-4244-9661-88cd2b57bc8d",
   "metadata": {},
   "outputs": [],
   "source": [
    "from torch import nn\n",
    "\n",
    "class Encoder(nn.Module):\n",
    "    \"\"\"编码器-解码器架构的基本编码器接口\"\"\"\n",
    "    def __init__(self, **kwargs):\n",
    "        super(Encoder, self).__init__(**kwargs) # 调用父类nn.Module的初始化方法，确保正确继承PyTorch模块的所有功能\n",
    "\n",
    "    def forward(self, X, *args):\n",
    "        raise NotImplementedError # 抛出\"未实现\"异常，表示这是一个抽象方法，需要在子类中具体实现"
   ]
  },
  {
   "cell_type": "markdown",
   "id": "5d74f0b5-5a64-4825-85e7-e7ccaebe3b36",
   "metadata": {},
   "source": [
    "## 合并编码器和解码器"
   ]
  },
  {
   "cell_type": "code",
   "execution_count": 2,
   "id": "f1327d90-67e2-4afa-bc58-5e01e8e9483b",
   "metadata": {},
   "outputs": [],
   "source": [
    "class EncoderDecoder(nn.Module):\n",
    "    \"\"\"编码器-解码器架构的基类\"\"\"\n",
    "    def __init__(self, encoder, decoder, **kwargs):\n",
    "        super(EncoderDecoder, self).__init__(**kwargs)  # 调用父类nn.Module的初始化方法\n",
    "        self.encoder = encoder  # 将传入的编码器实例保存为类的属性\n",
    "        self.decoder = decoder  # 将传入的解码器实例保存为类的属性\n",
    "\n",
    "    def forward(self, enc_X, dec_X, *args):\n",
    "        enc_outputs = self.encoder(enc_X, *args)\n",
    "        dec_state = self.decoder.init_state(enc_outputs, *args)\n",
    "        return self.decoder(dec_X, dec_state)"
   ]
  },
  {
   "cell_type": "code",
   "execution_count": null,
   "id": "90b3d2c7-062d-4acf-93ea-13c0599f25b9",
   "metadata": {},
   "outputs": [],
   "source": []
  }
 ],
 "metadata": {
  "kernelspec": {
   "display_name": "Python 3.11 (Lee Course)",
   "language": "python",
   "name": "lee_course_env"
  },
  "language_info": {
   "codemirror_mode": {
    "name": "ipython",
    "version": 3
   },
   "file_extension": ".py",
   "mimetype": "text/x-python",
   "name": "python",
   "nbconvert_exporter": "python",
   "pygments_lexer": "ipython3",
   "version": "3.11.13"
  }
 },
 "nbformat": 4,
 "nbformat_minor": 5
}
