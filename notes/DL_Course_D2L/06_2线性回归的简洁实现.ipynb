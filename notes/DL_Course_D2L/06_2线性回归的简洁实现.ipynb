{
 "cells": [
  {
   "cell_type": "markdown",
   "id": "5947e58d-afe4-4b28-bd11-4cf5498502a2",
   "metadata": {},
   "source": [
    "通过使用深度学习框架来简洁地实现 线性回归模型 生成数据集"
   ]
  },
  {
   "cell_type": "code",
   "execution_count": 1,
   "id": "89a5487b-4f8c-4279-a81b-26ae317c1bf9",
   "metadata": {},
   "outputs": [],
   "source": [
    "import numpy as np\n",
    "import torch\n",
    "from torch.utils import data\n",
    "from d2l import torch as d2l\n",
    "\n",
    "true_w = torch.tensor([2,-3.4]) # 这里定义了2个权重\n",
    "true_b = 4.2\n",
    "features, labels = d2l.synthetic_data(true_w, true_b, 1000)"
   ]
  },
  {
   "cell_type": "markdown",
   "id": "b577d5a0-ce94-4858-8b22-51268a1b0a9d",
   "metadata": {},
   "source": [
    "调用框架中现有的API来读取数据"
   ]
  },
  {
   "cell_type": "raw",
   "id": "7781bb39-76e8-4ad3-9dc6-4625b889a43f",
   "metadata": {},
   "source": [
    "# 使用 * 的情况：\n",
    "python# 假设 data_arrays = (features, labels) \n",
    "dataset = data.TensorDataset(*data_arrays)\n",
    "# 这相当于：\n",
    "dataset = data.TensorDataset(features, labels)\n",
    "# * 将元组展开为单独的参数\n",
    "--\n",
    "iter() 将可迭代对象转换为迭代器\n",
    "data_iter 本身是一个 DataLoader 对象，它是可迭代的\n",
    "next() 从迭代器中获取下一个元素"
   ]
  },
  {
   "cell_type": "code",
   "execution_count": 2,
   "id": "fed6b1a8-18c2-4fc0-9a4b-eee9aa593ee2",
   "metadata": {},
   "outputs": [
    {
     "data": {
      "text/plain": [
       "[tensor([[-0.3611, -0.4042],\n",
       "         [ 0.9339,  1.4154],\n",
       "         [-0.2837,  0.5076],\n",
       "         [-1.1524,  0.5245],\n",
       "         [ 0.2299, -0.8701],\n",
       "         [-0.2935, -0.0057],\n",
       "         [ 1.4649,  0.5509],\n",
       "         [ 1.9312, -0.1023],\n",
       "         [-0.7528,  0.0781],\n",
       "         [-0.8626, -0.1243]]),\n",
       " tensor([[4.8342],\n",
       "         [1.2542],\n",
       "         [1.8953],\n",
       "         [0.1069],\n",
       "         [7.6066],\n",
       "         [3.6378],\n",
       "         [5.2558],\n",
       "         [8.4204],\n",
       "         [2.4261],\n",
       "         [2.8906]])]"
      ]
     },
     "execution_count": 2,
     "metadata": {},
     "output_type": "execute_result"
    }
   ],
   "source": [
    "def load_array(data_arrays, batch_size, is_train=True):\n",
    "    \"\"\"构造一个PyTorch数据迭代器。\"\"\"\n",
    "    dataset = data.TensorDataset(*data_arrays)\n",
    "    return data.DataLoader(dataset, batch_size, shuffle=is_train)\n",
    "\n",
    "batch_size=10\n",
    "data_iter=load_array((features,labels),batch_size)\n",
    "\n",
    "next(iter(data_iter))"
   ]
  },
  {
   "cell_type": "markdown",
   "id": "eb66df0b-b5a7-44f2-a1ed-1caf0ed05ba5",
   "metadata": {},
   "source": [
    "使用框架的预定义好的层"
   ]
  },
  {
   "cell_type": "code",
   "execution_count": 3,
   "id": "e34ed0af-2f61-49f8-b530-f04de856cfc5",
   "metadata": {},
   "outputs": [],
   "source": [
    "#'nn'是神经网络的缩写\n",
    "from torch import nn\n",
    "net = nn.Sequential(nn.Linear(2,1)) #2是输入，1是输出"
   ]
  },
  {
   "cell_type": "markdown",
   "id": "0cecb274-2c1f-4ae4-bbec-c41f2ff659d6",
   "metadata": {},
   "source": [
    "初始化模型参数"
   ]
  },
  {
   "cell_type": "markdown",
   "id": "acb8810c-af85-4f8a-b139-e51fb6e66d56",
   "metadata": {},
   "source": [
    "```\n",
    "net[0].weight：访问第一层（线性层）的权重矩阵\n",
    ".data：获取参数的实际数值（张量数据）\n",
    ".normal_(0, 0.01)：用正态分布初始化权重\n",
    "均值 = 0\n",
    "标准差 = 0.01\n",
    "下划线 _ 表示就地操作（直接修改原数据）\n",
    "\n",
    "net[0].bias：访问第一层的偏置向量\n",
    ".data：获取偏置的实际数值\n",
    ".fill_(0)：将偏置填充为0\n",
    "\n",
    "为什么要手动初始化？\n",
    "默认初始化的问题：\n",
    "PyTorch会自动初始化参数，但可能不是最优的\n",
    "不同的初始化策略会影响训练效果"
   ]
  },
  {
   "cell_type": "code",
   "execution_count": 4,
   "id": "5723db54-b5e1-4cd3-a8e3-2f87dddc35f6",
   "metadata": {},
   "outputs": [
    {
     "data": {
      "text/plain": [
       "tensor([0.])"
      ]
     },
     "execution_count": 4,
     "metadata": {},
     "output_type": "execute_result"
    }
   ],
   "source": [
    "net[0].weight.data.normal_(0, 0.01)\n",
    "net[0].bias.data.fill_(0)"
   ]
  },
  {
   "cell_type": "markdown",
   "id": "b8c12913-506d-4fc1-bc6e-917dfbfdd76f",
   "metadata": {},
   "source": [
    "计算均方误差使用的是MSELoss类，也称为平方L2范数"
   ]
  },
  {
   "cell_type": "code",
   "execution_count": 5,
   "id": "6cd84c95-7176-4725-8540-9622e9f24f13",
   "metadata": {},
   "outputs": [],
   "source": [
    "loss = nn.MSELoss()"
   ]
  },
  {
   "cell_type": "markdown",
   "id": "5ca8a0ab-28e2-47ad-bbd4-76471dc8ce0d",
   "metadata": {},
   "source": [
    "实例化SGD实例"
   ]
  },
  {
   "cell_type": "code",
   "execution_count": 6,
   "id": "0e871223-6b91-4917-814f-04097dc6a539",
   "metadata": {},
   "outputs": [],
   "source": [
    "trainer = torch.optim.SGD(net.parameters(),lr=0.03)"
   ]
  },
  {
   "cell_type": "markdown",
   "id": "db4448f1-8e94-4f71-9858-00d4e1bca64e",
   "metadata": {},
   "source": [
    "训练过程代码与我们从零开始时所做的非常相似"
   ]
  },
  {
   "cell_type": "code",
   "execution_count": 13,
   "id": "67dca2ae-1280-4769-8905-b9ed84ec9d5b",
   "metadata": {},
   "outputs": [
    {
     "name": "stdout",
     "output_type": "stream",
     "text": [
      "epoch 1, loss 0.000260\n",
      "epoch 2, loss 0.000108\n",
      "epoch 3, loss 0.000109\n"
     ]
    }
   ],
   "source": [
    "num_epochs = 3\n",
    "for epoch in range(num_epochs):\n",
    "    for X,y in data_iter:\n",
    "        l = loss(net(X),y)\n",
    "        trainer.zero_grad()\n",
    "        l.backward()\n",
    "        trainer.step()\n",
    "    l = loss(net(features), labels)    \n",
    "    print(f'epoch {epoch + 1}, loss {l:f}')"
   ]
  }
 ],
 "metadata": {
  "kernelspec": {
   "display_name": "Python 3.11 (Lee Course)",
   "language": "python",
   "name": "lee_course_env"
  },
  "language_info": {
   "codemirror_mode": {
    "name": "ipython",
    "version": 3
   },
   "file_extension": ".py",
   "mimetype": "text/x-python",
   "name": "python",
   "nbconvert_exporter": "python",
   "pygments_lexer": "ipython3",
   "version": "3.11.13"
  }
 },
 "nbformat": 4,
 "nbformat_minor": 5
}
