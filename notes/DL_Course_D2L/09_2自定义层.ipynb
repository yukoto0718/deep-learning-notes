{
 "cells": [
  {
   "cell_type": "markdown",
   "id": "7f6713b2-8c36-4169-8bb0-b71cf8e4dc27",
   "metadata": {},
   "source": [
    "构造一个没有任何超参数的自定义层"
   ]
  },
  {
   "cell_type": "code",
   "execution_count": 1,
   "id": "ec42376f-2e26-407f-9240-223a84796ebe",
   "metadata": {},
   "outputs": [
    {
     "data": {
      "text/plain": [
       "tensor([-2., -1.,  0.,  1.,  2.])"
      ]
     },
     "execution_count": 1,
     "metadata": {},
     "output_type": "execute_result"
    }
   ],
   "source": [
    "import torch\n",
    "import torch.nn.functional as F\n",
    "from torch import nn\n",
    "\n",
    "\n",
    "class CenteredLayer(nn.Module):\n",
    "    def __init__(self):\n",
    "        super().__init__()\n",
    "\n",
    "    def forward(self, X):\n",
    "        return X - X.mean()\n",
    "\n",
    "layer = CenteredLayer()\n",
    "layer(torch.FloatTensor([1, 2, 3, 4, 5]))"
   ]
  },
  {
   "cell_type": "markdown",
   "id": "eb7daa06-b57d-4486-a052-7c6386146049",
   "metadata": {},
   "source": [
    "将层作为组件合并到构建复杂的模型中"
   ]
  },
  {
   "cell_type": "code",
   "execution_count": 2,
   "id": "c29e97ca-57ee-461c-a5d8-e9ce57549eb3",
   "metadata": {},
   "outputs": [
    {
     "data": {
      "text/plain": [
       "tensor(5.0059e-09, grad_fn=<MeanBackward0>)"
      ]
     },
     "execution_count": 2,
     "metadata": {},
     "output_type": "execute_result"
    }
   ],
   "source": [
    "net = nn.Sequential(nn.Linear(8, 128), CenteredLayer())\n",
    "\n",
    "Y = net(torch.rand(4, 8))\n",
    "Y.mean()"
   ]
  },
  {
   "cell_type": "markdown",
   "id": "2ee91c8e-e0a3-4806-816e-c37e460c7a32",
   "metadata": {},
   "source": [
    "带参数的图层"
   ]
  },
  {
   "cell_type": "code",
   "execution_count": 3,
   "id": "5e35f7e8-6aa0-41ac-81dc-e67c909b81ac",
   "metadata": {},
   "outputs": [
    {
     "data": {
      "text/plain": [
       "Parameter containing:\n",
       "tensor([[ 1.0076, -0.5744,  1.1149],\n",
       "        [ 0.5604, -0.8797, -0.5302],\n",
       "        [ 0.3781,  0.2633, -0.4773],\n",
       "        [ 0.5055, -1.0165, -1.2464],\n",
       "        [ 0.3799, -0.3798, -0.2226]], requires_grad=True)"
      ]
     },
     "execution_count": 3,
     "metadata": {},
     "output_type": "execute_result"
    }
   ],
   "source": [
    "class MyLinear(nn.Module):\n",
    "    def __init__(self,in_units,units):\n",
    "        super().__init__()\n",
    "        self.weight = nn.Parameter(torch.randn(in_units,units))\n",
    "        #print(type(units)) # <class 'int'>\n",
    "        #print(type((units,))) # <class 'tuple'>\n",
    "        self.bias = nn.Parameter(torch.randn(units,))\n",
    "\n",
    "    def forward(self,X):\n",
    "        #在forward中使用.data会断开梯度连接\n",
    "        linear = torch.matmul(X,self.weight.data) + self.bias.data\n",
    "        return F.relu(linear)\n",
    "\n",
    "dense = MyLinear(5,3)\n",
    "dense.weight"
   ]
  },
  {
   "cell_type": "markdown",
   "id": "e8d71b49-85f1-4015-ad5a-f4e910850776",
   "metadata": {},
   "source": [
    "使用自定义层直接执行正向传播计算"
   ]
  },
  {
   "cell_type": "code",
   "execution_count": 4,
   "id": "b6a3ec99-fbca-4282-ada2-86e2380e9538",
   "metadata": {},
   "outputs": [
    {
     "data": {
      "text/plain": [
       "tensor([[2.3752, 0.0000, 0.0000],\n",
       "        [2.6127, 0.0000, 0.0000]])"
      ]
     },
     "execution_count": 4,
     "metadata": {},
     "output_type": "execute_result"
    }
   ],
   "source": [
    "dense(torch.rand(2,5))"
   ]
  },
  {
   "cell_type": "markdown",
   "id": "830ba2be-089e-4d79-97d1-eb02c03bb1a5",
   "metadata": {},
   "source": [
    "使用自定义层构建模型"
   ]
  },
  {
   "cell_type": "code",
   "execution_count": 5,
   "id": "8e4c1e17-df83-45d8-82ed-47c7d1fd8449",
   "metadata": {},
   "outputs": [
    {
     "data": {
      "text/plain": [
       "tensor([[11.7555],\n",
       "        [ 5.5910]])"
      ]
     },
     "execution_count": 5,
     "metadata": {},
     "output_type": "execute_result"
    }
   ],
   "source": [
    "net = nn.Sequential(MyLinear(64,8),MyLinear(8,1))\n",
    "net(torch.rand(2,64))"
   ]
  }
 ],
 "metadata": {
  "kernelspec": {
   "display_name": "Python 3.11 (Lee Course)",
   "language": "python",
   "name": "lee_course_env"
  },
  "language_info": {
   "codemirror_mode": {
    "name": "ipython",
    "version": 3
   },
   "file_extension": ".py",
   "mimetype": "text/x-python",
   "name": "python",
   "nbconvert_exporter": "python",
   "pygments_lexer": "ipython3",
   "version": "3.11.13"
  }
 },
 "nbformat": 4,
 "nbformat_minor": 5
}
