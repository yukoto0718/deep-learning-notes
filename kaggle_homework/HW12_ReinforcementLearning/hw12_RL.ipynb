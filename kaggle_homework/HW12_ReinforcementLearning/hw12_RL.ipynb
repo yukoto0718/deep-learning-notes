{
 "cells": [
  {
   "cell_type": "markdown",
   "metadata": {
    "id": "Fp30SB4bxeQb"
   },
   "source": [
    "# **Homework 12 - Reinforcement Learning**\n",
    "\n",
    "If you have any problem, e-mail us at ntu-ml-2022spring-ta@googlegroups.com\n",
    "\n"
   ]
  },
  {
   "cell_type": "code",
   "execution_count": 61,
   "metadata": {
    "colab": {
     "base_uri": "https://localhost:8080/"
    },
    "executionInfo": {
     "elapsed": 2346,
     "status": "ok",
     "timestamp": 1757937072991,
     "user": {
      "displayName": "湯琴",
      "userId": "00701203190468333804"
     },
     "user_tz": -540
    },
    "id": "tpdRF3btp5RD",
    "outputId": "feb27ec7-0868-4344-d52f-4a05ca0d6d1b"
   },
   "outputs": [
    {
     "name": "stdout",
     "output_type": "stream",
     "text": [
      "Drive already mounted at /content/drive; to attempt to forcibly remount, call drive.mount(\"/content/drive\", force_remount=True).\n"
     ]
    }
   ],
   "source": [
    "from google.colab import drive\n",
    "drive.mount('/content/drive')"
   ]
  },
  {
   "cell_type": "markdown",
   "metadata": {
    "id": "yXsnCWPtWSNk"
   },
   "source": [
    "## Preliminary work\n",
    "\n",
    "First, we need to install all necessary packages.\n",
    "One of them, gym, builded by OpenAI, is a toolkit for developing Reinforcement Learning algorithm. Other packages are for visualization in colab."
   ]
  },
  {
   "cell_type": "markdown",
   "metadata": {
    "id": "RwHv8eDnsEua"
   },
   "source": [
    "# 方案1：分步安装\n",
    "!apt update\n",
    "!apt install python3-dev build-essential swig cmake python-opengl xvfb -y\n",
    "!pip install wheel setuptools\n",
    "!pip install box2d-py --no-cache-dir\n",
    "!pip install gym==0.21.0\n",
    "!pip install pyvirtualdisplay tqdm numpy torch"
   ]
  },
  {
   "cell_type": "code",
   "execution_count": 62,
   "metadata": {
    "colab": {
     "base_uri": "https://localhost:8080/"
    },
    "executionInfo": {
     "elapsed": 18943,
     "status": "ok",
     "timestamp": 1757937091938,
     "user": {
      "displayName": "湯琴",
      "userId": "00701203190468333804"
     },
     "user_tz": -540
    },
    "id": "2gxxT1d1sOEE",
    "outputId": "81ada206-5654-43f7-b86d-dd1180d088e8"
   },
   "outputs": [
    {
     "name": "stdout",
     "output_type": "stream",
     "text": [
      "Requirement already satisfied: swig in /usr/local/lib/python3.12/dist-packages (4.3.1.post0)\n",
      "Requirement already satisfied: gymnasium[box2d] in /usr/local/lib/python3.12/dist-packages (1.2.0)\n",
      "Requirement already satisfied: numpy>=1.21.0 in /usr/local/lib/python3.12/dist-packages (from gymnasium[box2d]) (2.0.2)\n",
      "Requirement already satisfied: cloudpickle>=1.2.0 in /usr/local/lib/python3.12/dist-packages (from gymnasium[box2d]) (3.1.1)\n",
      "Requirement already satisfied: typing-extensions>=4.3.0 in /usr/local/lib/python3.12/dist-packages (from gymnasium[box2d]) (4.15.0)\n",
      "Requirement already satisfied: farama-notifications>=0.0.1 in /usr/local/lib/python3.12/dist-packages (from gymnasium[box2d]) (0.0.4)\n",
      "Requirement already satisfied: box2d-py==2.3.5 in /usr/local/lib/python3.12/dist-packages (from gymnasium[box2d]) (2.3.5)\n",
      "Requirement already satisfied: pygame>=2.1.3 in /usr/local/lib/python3.12/dist-packages (from gymnasium[box2d]) (2.6.1)\n",
      "Requirement already satisfied: swig==4.* in /usr/local/lib/python3.12/dist-packages (from gymnasium[box2d]) (4.3.1.post0)\n",
      "Requirement already satisfied: pyvirtualdisplay in /usr/local/lib/python3.12/dist-packages (3.0)\n",
      "Requirement already satisfied: tqdm in /usr/local/lib/python3.12/dist-packages (4.67.1)\n",
      "Requirement already satisfied: numpy in /usr/local/lib/python3.12/dist-packages (2.0.2)\n",
      "Requirement already satisfied: torch in /usr/local/lib/python3.12/dist-packages (2.8.0+cu126)\n",
      "Requirement already satisfied: filelock in /usr/local/lib/python3.12/dist-packages (from torch) (3.19.1)\n",
      "Requirement already satisfied: typing-extensions>=4.10.0 in /usr/local/lib/python3.12/dist-packages (from torch) (4.15.0)\n",
      "Requirement already satisfied: setuptools in /usr/local/lib/python3.12/dist-packages (from torch) (75.2.0)\n",
      "Requirement already satisfied: sympy>=1.13.3 in /usr/local/lib/python3.12/dist-packages (from torch) (1.13.3)\n",
      "Requirement already satisfied: networkx in /usr/local/lib/python3.12/dist-packages (from torch) (3.5)\n",
      "Requirement already satisfied: jinja2 in /usr/local/lib/python3.12/dist-packages (from torch) (3.1.6)\n",
      "Requirement already satisfied: fsspec in /usr/local/lib/python3.12/dist-packages (from torch) (2025.3.0)\n",
      "Requirement already satisfied: nvidia-cuda-nvrtc-cu12==12.6.77 in /usr/local/lib/python3.12/dist-packages (from torch) (12.6.77)\n",
      "Requirement already satisfied: nvidia-cuda-runtime-cu12==12.6.77 in /usr/local/lib/python3.12/dist-packages (from torch) (12.6.77)\n",
      "Requirement already satisfied: nvidia-cuda-cupti-cu12==12.6.80 in /usr/local/lib/python3.12/dist-packages (from torch) (12.6.80)\n",
      "Requirement already satisfied: nvidia-cudnn-cu12==9.10.2.21 in /usr/local/lib/python3.12/dist-packages (from torch) (9.10.2.21)\n",
      "Requirement already satisfied: nvidia-cublas-cu12==12.6.4.1 in /usr/local/lib/python3.12/dist-packages (from torch) (12.6.4.1)\n",
      "Requirement already satisfied: nvidia-cufft-cu12==11.3.0.4 in /usr/local/lib/python3.12/dist-packages (from torch) (11.3.0.4)\n",
      "Requirement already satisfied: nvidia-curand-cu12==10.3.7.77 in /usr/local/lib/python3.12/dist-packages (from torch) (10.3.7.77)\n",
      "Requirement already satisfied: nvidia-cusolver-cu12==11.7.1.2 in /usr/local/lib/python3.12/dist-packages (from torch) (11.7.1.2)\n",
      "Requirement already satisfied: nvidia-cusparse-cu12==12.5.4.2 in /usr/local/lib/python3.12/dist-packages (from torch) (12.5.4.2)\n",
      "Requirement already satisfied: nvidia-cusparselt-cu12==0.7.1 in /usr/local/lib/python3.12/dist-packages (from torch) (0.7.1)\n",
      "Requirement already satisfied: nvidia-nccl-cu12==2.27.3 in /usr/local/lib/python3.12/dist-packages (from torch) (2.27.3)\n",
      "Requirement already satisfied: nvidia-nvtx-cu12==12.6.77 in /usr/local/lib/python3.12/dist-packages (from torch) (12.6.77)\n",
      "Requirement already satisfied: nvidia-nvjitlink-cu12==12.6.85 in /usr/local/lib/python3.12/dist-packages (from torch) (12.6.85)\n",
      "Requirement already satisfied: nvidia-cufile-cu12==1.11.1.6 in /usr/local/lib/python3.12/dist-packages (from torch) (1.11.1.6)\n",
      "Requirement already satisfied: triton==3.4.0 in /usr/local/lib/python3.12/dist-packages (from torch) (3.4.0)\n",
      "Requirement already satisfied: mpmath<1.4,>=1.1.0 in /usr/local/lib/python3.12/dist-packages (from sympy>=1.13.3->torch) (1.3.0)\n",
      "Requirement already satisfied: MarkupSafe>=2.0 in /usr/local/lib/python3.12/dist-packages (from jinja2->torch) (3.0.2)\n"
     ]
    }
   ],
   "source": [
    "!pip install swig\n",
    "!pip install gymnasium[box2d]\n",
    "!pip install pyvirtualdisplay tqdm numpy torch"
   ]
  },
  {
   "cell_type": "markdown",
   "metadata": {
    "id": "M_-i3cdoYsks"
   },
   "source": [
    "\n",
    "Next, set up virtual display，and import all necessaary packages."
   ]
  },
  {
   "cell_type": "markdown",
   "metadata": {
    "id": "CaEJ8BUCpN9P"
   },
   "source": [
    "# Warning ! Do not revise random seed !!!\n",
    "# Your submission on JudgeBoi will not reproduce your result !!!\n",
    "Make your HW result to be reproducible.\n"
   ]
  },
  {
   "cell_type": "code",
   "execution_count": 63,
   "metadata": {
    "executionInfo": {
     "elapsed": 5,
     "status": "ok",
     "timestamp": 1757937091939,
     "user": {
      "displayName": "湯琴",
      "userId": "00701203190468333804"
     },
     "user_tz": -540
    },
    "id": "fV9i8i2YkRbO"
   },
   "outputs": [],
   "source": [
    "import random\n",
    "import numpy as np\n",
    "import torch\n",
    "\n",
    "seed = 543 # Do not change this\n",
    "\n",
    "def fix(env, seed):\n",
    "    # 兼容新旧版本的方法\n",
    "    try:\n",
    "        env.seed(seed)  # 旧版本\n",
    "    except AttributeError:\n",
    "        pass  # 新版本没有seed方法\n",
    "\n",
    "    env.action_space.seed(seed)\n",
    "    torch.manual_seed(seed)\n",
    "    torch.cuda.manual_seed(seed)\n",
    "    torch.cuda.manual_seed_all(seed)\n",
    "    np.random.seed(seed)\n",
    "    random.seed(seed)\n",
    "    torch.use_deterministic_algorithms(True)\n",
    "    torch.backends.cudnn.benchmark = False\n",
    "    torch.backends.cudnn.deterministic = True"
   ]
  },
  {
   "cell_type": "markdown",
   "metadata": {
    "id": "He0XDx6bzjgC"
   },
   "source": [
    "Last, call gym and build an [Lunar Lander](https://gym.openai.com/envs/LunarLander-v2/) environment."
   ]
  },
  {
   "cell_type": "code",
   "execution_count": 64,
   "metadata": {
    "executionInfo": {
     "elapsed": 1,
     "status": "ok",
     "timestamp": 1757937091940,
     "user": {
      "displayName": "湯琴",
      "userId": "00701203190468333804"
     },
     "user_tz": -540
    },
    "id": "N_4-xJcbBt09"
   },
   "outputs": [],
   "source": [
    "%%capture\n",
    "#import gym\n",
    "import gymnasium as gym\n",
    "import random\n",
    "#env = gym.make('LunarLander-v2')\n",
    "env = gym.make('LunarLander-v3')\n",
    "fix(env, seed) # fix the environment Do not revise this !!!"
   ]
  },
  {
   "cell_type": "markdown",
   "metadata": {
    "id": "NrkVvTrvWZ5H"
   },
   "source": [
    "## What Lunar Lander？\n",
    "\n",
    "“LunarLander-v2”is to simulate the situation when the craft lands on the surface of the moon.\n",
    "\n",
    "This task is to enable the craft to land \"safely\" at the pad between the two yellow flags.\n",
    "> Landing pad is always at coordinates (0,0).\n",
    "> Coordinates are the first two numbers in state vector.\n",
    "\n",
    "![](https://gym.openai.com/assets/docs/aeloop-138c89d44114492fd02822303e6b4b07213010bb14ca5856d2d49d6b62d88e53.svg)\n",
    "\n",
    "\"LunarLander-v2\" actually includes \"Agent\" and \"Environment\".\n",
    "\n",
    "In this homework, we will utilize the function `step()` to control the action of \"Agent\".\n",
    "\n",
    "Then `step()` will return the observation/state and reward given by the \"Environment\"."
   ]
  },
  {
   "cell_type": "markdown",
   "metadata": {
    "id": "bIbp82sljvAt"
   },
   "source": [
    "### Observation / State\n",
    "\n",
    "First, we can take a look at what an Observation / State looks like."
   ]
  },
  {
   "cell_type": "code",
   "execution_count": 65,
   "metadata": {
    "colab": {
     "base_uri": "https://localhost:8080/"
    },
    "executionInfo": {
     "elapsed": 7,
     "status": "ok",
     "timestamp": 1757937091948,
     "user": {
      "displayName": "湯琴",
      "userId": "00701203190468333804"
     },
     "user_tz": -540
    },
    "id": "rsXZra3N9R5T",
    "outputId": "34abaa12-f6bb-439e-ff6f-834fc75defc5"
   },
   "outputs": [
    {
     "name": "stdout",
     "output_type": "stream",
     "text": [
      "Box([ -2.5        -2.5       -10.        -10.         -6.2831855 -10.\n",
      "  -0.         -0.       ], [ 2.5        2.5       10.        10.         6.2831855 10.\n",
      "  1.         1.       ], (8,), float32)\n"
     ]
    }
   ],
   "source": [
    "print(env.observation_space)"
   ]
  },
  {
   "cell_type": "markdown",
   "metadata": {
    "id": "ezdfoThbAQ49"
   },
   "source": [
    "\n",
    "`Box(8,)`means that observation is an 8-dim vector\n",
    "### Action\n",
    "\n",
    "Actions can be taken by looks like"
   ]
  },
  {
   "cell_type": "code",
   "execution_count": 66,
   "metadata": {
    "colab": {
     "base_uri": "https://localhost:8080/"
    },
    "executionInfo": {
     "elapsed": 3,
     "status": "ok",
     "timestamp": 1757937091952,
     "user": {
      "displayName": "湯琴",
      "userId": "00701203190468333804"
     },
     "user_tz": -540
    },
    "id": "p1k4dIrBAaKi",
    "outputId": "ee2e83fb-8a3d-43df-eec4-688bcd41614f"
   },
   "outputs": [
    {
     "name": "stdout",
     "output_type": "stream",
     "text": [
      "Discrete(4)\n"
     ]
    }
   ],
   "source": [
    "print(env.action_space)"
   ]
  },
  {
   "cell_type": "markdown",
   "metadata": {
    "id": "dejXT6PHBrPn"
   },
   "source": [
    "`Discrete(4)` implies that there are four kinds of actions can be taken by agent.\n",
    "- 0 implies the agent will not take any actions\n",
    "- 2 implies the agent will accelerate downward\n",
    "- 1, 3 implies the agent will accelerate left and right\n",
    "\n",
    "Next, we will try to make the agent interact with the environment.\n",
    "Before taking any actions, we recommend to call `reset()` function to reset the environment. Also, this function will return the initial state of the environment."
   ]
  },
  {
   "cell_type": "code",
   "execution_count": 67,
   "metadata": {
    "colab": {
     "base_uri": "https://localhost:8080/"
    },
    "executionInfo": {
     "elapsed": 3,
     "status": "ok",
     "timestamp": 1757937091956,
     "user": {
      "displayName": "湯琴",
      "userId": "00701203190468333804"
     },
     "user_tz": -540
    },
    "id": "pi4OmrmZgnWA",
    "outputId": "90b100a0-9638-429f-95b1-593bda109d6e"
   },
   "outputs": [
    {
     "name": "stdout",
     "output_type": "stream",
     "text": [
      "[-0.0046772   1.4117451  -0.47376925  0.03665722  0.00542653  0.10731568\n",
      "  0.          0.        ]\n"
     ]
    }
   ],
   "source": [
    "initial_state, _ = env.reset()\n",
    "print(initial_state)"
   ]
  },
  {
   "cell_type": "markdown",
   "metadata": {
    "id": "uBx0mEqqgxJ9"
   },
   "source": [
    "Then, we try to get a random action from the agent's action space."
   ]
  },
  {
   "cell_type": "code",
   "execution_count": 68,
   "metadata": {
    "colab": {
     "base_uri": "https://localhost:8080/"
    },
    "executionInfo": {
     "elapsed": 3,
     "status": "ok",
     "timestamp": 1757937091960,
     "user": {
      "displayName": "湯琴",
      "userId": "00701203190468333804"
     },
     "user_tz": -540
    },
    "id": "vxkOEXRKgizt",
    "outputId": "573d8473-1b9b-498b-eaaa-c222bf61d370"
   },
   "outputs": [
    {
     "name": "stdout",
     "output_type": "stream",
     "text": [
      "3\n"
     ]
    }
   ],
   "source": [
    "random_action = env.action_space.sample()\n",
    "print(random_action)"
   ]
  },
  {
   "cell_type": "markdown",
   "metadata": {
    "id": "mns-bO01g0-J"
   },
   "source": [
    "More, we can utilize `step()` to make agent act according to the randomly-selected `random_action`.\n",
    "The `step()` function will return four values:\n",
    "- observation / state\n",
    "- reward\n",
    "- done (True/ False)\n",
    "- Other information"
   ]
  },
  {
   "cell_type": "code",
   "execution_count": 69,
   "metadata": {
    "colab": {
     "base_uri": "https://localhost:8080/"
    },
    "executionInfo": {
     "elapsed": 4,
     "status": "ok",
     "timestamp": 1757937091966,
     "user": {
      "displayName": "湯琴",
      "userId": "00701203190468333804"
     },
     "user_tz": -540
    },
    "id": "E_WViSxGgIk9",
    "outputId": "277365a0-ea06-4d88-fbc9-acfb33d42946"
   },
   "outputs": [
    {
     "name": "stdout",
     "output_type": "stream",
     "text": [
      "Box([ -2.5        -2.5       -10.        -10.         -6.2831855 -10.\n",
      "  -0.         -0.       ], [ 2.5        2.5       10.        10.         6.2831855 10.\n",
      "  1.         1.       ], (8,), float32)\n",
      "Discrete(4)\n",
      "[-9.28878799e-05  1.40814424e+00 -9.41965543e-03 -1.23365261e-01\n",
      "  1.14365335e-04  2.13369145e-03  0.00000000e+00  0.00000000e+00]\n",
      "1\n",
      "False\n",
      "-2.6072714931395624\n"
     ]
    }
   ],
   "source": [
    "print(env.observation_space)\n",
    "print(env.action_space)\n",
    "\n",
    "initial_state, _ = env.reset()\n",
    "print(initial_state)\n",
    "\n",
    "random_action = env.action_space.sample()\n",
    "print(random_action)\n",
    "\n",
    "observation, reward, terminated, truncated, info = env.step(random_action)\n",
    "done = terminated or truncated\n",
    "\n",
    "print(done)\n",
    "print(reward)"
   ]
  },
  {
   "cell_type": "code",
   "execution_count": 70,
   "metadata": {
    "colab": {
     "base_uri": "https://localhost:8080/"
    },
    "executionInfo": {
     "elapsed": 3,
     "status": "ok",
     "timestamp": 1757937091970,
     "user": {
      "displayName": "湯琴",
      "userId": "00701203190468333804"
     },
     "user_tz": -540
    },
    "id": "yK7r126kuCNp",
    "outputId": "9fb3b74d-62cc-467c-9ce3-b8dc756b5082"
   },
   "outputs": [
    {
     "name": "stdout",
     "output_type": "stream",
     "text": [
      "False\n"
     ]
    }
   ],
   "source": [
    "print(done)"
   ]
  },
  {
   "cell_type": "markdown",
   "metadata": {
    "id": "GKdS8vOihxhc"
   },
   "source": [
    "### Reward\n",
    "\n",
    "\n",
    "> Landing pad is always at coordinates (0,0). Coordinates are the first two numbers in state vector. Reward for moving from the top of the screen to landing pad and zero speed is about 100..140 points. If lander moves away from landing pad it loses reward back. Episode finishes if the lander crashes or comes to rest, receiving additional -100 or +100 points. Each leg ground contact is +10. Firing main engine is -0.3 points each frame. Solved is 200 points."
   ]
  },
  {
   "cell_type": "code",
   "execution_count": 71,
   "metadata": {
    "colab": {
     "base_uri": "https://localhost:8080/"
    },
    "executionInfo": {
     "elapsed": 2,
     "status": "ok",
     "timestamp": 1757937091972,
     "user": {
      "displayName": "湯琴",
      "userId": "00701203190468333804"
     },
     "user_tz": -540
    },
    "id": "vxQNs77hi0_7",
    "outputId": "19c29aa1-5790-4c1b-b561-a454e8cc0d4f"
   },
   "outputs": [
    {
     "name": "stdout",
     "output_type": "stream",
     "text": [
      "-2.6072714931395624\n"
     ]
    }
   ],
   "source": [
    "print(reward)"
   ]
  },
  {
   "cell_type": "markdown",
   "metadata": {
    "id": "Mhqp6D-XgHpe"
   },
   "source": [
    "### Random Agent\n",
    "In the end, before we start training, we can see whether a random agent can successfully land the moon or not."
   ]
  },
  {
   "cell_type": "code",
   "execution_count": 72,
   "metadata": {
    "colab": {
     "base_uri": "https://localhost:8080/",
     "height": 396
    },
    "executionInfo": {
     "elapsed": 445,
     "status": "ok",
     "timestamp": 1757937092418,
     "user": {
      "displayName": "湯琴",
      "userId": "00701203190468333804"
     },
     "user_tz": -540
    },
    "id": "Y3G0bxoccelv",
    "outputId": "7c5811cd-3db7-44fe-bf0e-cc9f353c10b2"
   },
   "outputs": [
    {
     "data": {
      "image/png": "[encoded data removed]",
      "text/plain": [
       "<Figure size 640x480 with 1 Axes>"
      ]
     },
     "metadata": {},
     "output_type": "display_data"
    }
   ],
   "source": [
    "import matplotlib.pyplot as plt\n",
    "from IPython import display\n",
    "\n",
    "state, _ = env.reset()\n",
    "\n",
    "# 创建一个临时的渲染环境\n",
    "render_env = gym.make('LunarLander-v3', render_mode='rgb_array')\n",
    "render_env.reset()\n",
    "\n",
    "img = plt.imshow(render_env.render())\n",
    "\n",
    "done = False\n",
    "while not done:\n",
    "    action = env.action_space.sample()\n",
    "    observation, reward, terminated, truncated, _ = env.step(action)\n",
    "    done = terminated or truncated"
   ]
  },
  {
   "cell_type": "markdown",
   "metadata": {
    "id": "F5paWqo7tWL2"
   },
   "source": [
    "## Policy Gradient\n",
    "Now, we can build a simple policy network. The network will return one of action in the action space."
   ]
  },
  {
   "cell_type": "code",
   "execution_count": 73,
   "metadata": {
    "executionInfo": {
     "elapsed": 142,
     "status": "ok",
     "timestamp": 1757937092579,
     "user": {
      "displayName": "湯琴",
      "userId": "00701203190468333804"
     },
     "user_tz": -540
    },
    "id": "J8tdmeD-tZew"
   },
   "outputs": [],
   "source": [
    "import numpy as np\n",
    "import torch\n",
    "import torch.nn as nn\n",
    "import torch.optim as optim\n",
    "import torch.nn.functional as F\n",
    "from torch.distributions import Categorical\n",
    "from tqdm.notebook import tqdm\n",
    "\n",
    "class ActorNetwork(nn.Module):\n",
    "    def __init__(self):\n",
    "        super().__init__()\n",
    "        self.fc1 = nn.Linear(8, 128)\n",
    "        self.fc2 = nn.Linear(128, 64)\n",
    "        self.fc3 = nn.Linear(64, 4)\n",
    "        self.dropout = nn.Dropout(0.2)\n",
    "\n",
    "    def forward(self, state):\n",
    "        x = torch.tanh(self.fc1(state))\n",
    "        x = self.dropout(x)\n",
    "        x = torch.tanh(self.fc2(x))\n",
    "        return F.softmax(self.fc3(x), dim=-1)\n",
    "\n",
    "class CriticNetwork(nn.Module):\n",
    "    def __init__(self):\n",
    "        super().__init__()\n",
    "        self.fc1 = nn.Linear(8, 128)\n",
    "        self.fc2 = nn.Linear(128, 64)\n",
    "        self.fc3 = nn.Linear(64, 1)  # 输出状态价值\n",
    "        self.dropout = nn.Dropout(0.2)\n",
    "\n",
    "    def forward(self, state):\n",
    "        x = torch.tanh(self.fc1(state))\n",
    "        x = self.dropout(x)\n",
    "        x = torch.tanh(self.fc2(x))\n",
    "        return self.fc3(x)"
   ]
  },
  {
   "cell_type": "markdown",
   "metadata": {
    "id": "ynbqJrhIFTC3"
   },
   "source": [
    "Then, we need to build a simple agent. The agent will acts according to the output of the policy network above. There are a few things can be done by agent:\n",
    "- `learn()`：update the policy network from log probabilities and rewards.\n",
    "- `sample()`：After receiving observation from the environment, utilize policy network to tell which action to take. The return values of this function includes action and log probabilities."
   ]
  },
  {
   "cell_type": "code",
   "execution_count": 74,
   "metadata": {
    "executionInfo": {
     "elapsed": 151,
     "status": "ok",
     "timestamp": 1757937092596,
     "user": {
      "displayName": "湯琴",
      "userId": "00701203190468333804"
     },
     "user_tz": -540
    },
    "id": "zZo-IxJx286z"
   },
   "outputs": [],
   "source": [
    "from torch.optim.lr_scheduler import StepLR\n",
    "class ActorCriticAgent():\n",
    "    def __init__(self, actor_network, critic_network):\n",
    "        self.actor = actor_network\n",
    "        self.critic = critic_network\n",
    "        # 分别的优化器\n",
    "        self.actor_optimizer = optim.Adam(self.actor.parameters(), lr=0.001)\n",
    "        self.critic_optimizer = optim.Adam(self.critic.parameters(), lr=0.002)\n",
    "        # 学习率调度器\n",
    "        self.actor_scheduler = optim.lr_scheduler.StepLR(self.actor_optimizer, step_size=100, gamma=0.95)\n",
    "        self.critic_scheduler = optim.lr_scheduler.StepLR(self.critic_optimizer, step_size=100, gamma=0.95)\n",
    "\n",
    "    def sample(self, state):\n",
    "        state_tensor = torch.FloatTensor(state)\n",
    "        action_prob = self.actor(state_tensor)\n",
    "        action_dist = Categorical(action_prob)\n",
    "        action = action_dist.sample()\n",
    "        log_prob = action_dist.log_prob(action)\n",
    "        return action.item(), log_prob\n",
    "\n",
    "    def learn(self, states, actions, rewards, next_states, dones):\n",
    "        states = torch.FloatTensor(states)\n",
    "        next_states = torch.FloatTensor(next_states)\n",
    "        rewards = torch.FloatTensor(rewards)\n",
    "        actions = torch.LongTensor(actions)\n",
    "        dones = torch.BoolTensor(dones)\n",
    "\n",
    "        # 计算状态价值\n",
    "        state_values = self.critic(states).squeeze()\n",
    "        next_state_values = self.critic(next_states).squeeze()\n",
    "\n",
    "        # 计算目标价值和优势函数\n",
    "        gamma = 0.99\n",
    "        target_values = rewards + gamma * next_state_values * (~dones)\n",
    "        advantages = target_values - state_values\n",
    "\n",
    "        # 计算动作概率\n",
    "        action_probs = self.actor(states)\n",
    "        action_dist = Categorical(action_probs)\n",
    "        log_probs = action_dist.log_prob(actions)\n",
    "\n",
    "        # Actor损失（策略梯度）\n",
    "        actor_loss = -(log_probs * advantages.detach()).mean()\n",
    "\n",
    "        # Critic损失（MSE）\n",
    "        critic_loss = F.mse_loss(state_values, target_values.detach())\n",
    "\n",
    "        # 更新Actor\n",
    "        self.actor_optimizer.zero_grad()\n",
    "        actor_loss.backward()\n",
    "        torch.nn.utils.clip_grad_norm_(self.actor.parameters(), max_norm=0.5)\n",
    "        self.actor_optimizer.step()\n",
    "\n",
    "        # 更新Critic\n",
    "        self.critic_optimizer.zero_grad()\n",
    "        critic_loss.backward()\n",
    "        torch.nn.utils.clip_grad_norm_(self.critic.parameters(), max_norm=0.5)\n",
    "        self.critic_optimizer.step()\n",
    "\n",
    "        self.actor_scheduler.step()\n",
    "        self.critic_scheduler.step()"
   ]
  },
  {
   "cell_type": "markdown",
   "metadata": {
    "id": "ehPlnTKyRZf9"
   },
   "source": [
    "Lastly, build a network and agent to start training."
   ]
  },
  {
   "cell_type": "code",
   "execution_count": 75,
   "metadata": {
    "executionInfo": {
     "elapsed": 313,
     "status": "ok",
     "timestamp": 1757937092911,
     "user": {
      "displayName": "湯琴",
      "userId": "00701203190468333804"
     },
     "user_tz": -540
    },
    "id": "GfJIvML-RYjL"
   },
   "outputs": [],
   "source": [
    "actor_network = ActorNetwork()\n",
    "critic_network = CriticNetwork()\n",
    "agent = ActorCriticAgent(actor_network, critic_network)"
   ]
  },
  {
   "cell_type": "markdown",
   "metadata": {
    "id": "ouv23glgf5Qt"
   },
   "source": [
    "## Training Agent\n",
    "\n",
    "Now let's start to train our agent.\n",
    "Through taking all the interactions between agent and environment as training data, the policy network can learn from all these attempts,"
   ]
  },
  {
   "cell_type": "code",
   "execution_count": 76,
   "metadata": {
    "colab": {
     "base_uri": "https://localhost:8080/",
     "height": 337,
     "referenced_widgets": [
      "1d08c886f4b743c28cc26a77c117e606",
      "085308a6cd3e4936ac61c43740f45d90",
      "f914d7d090ec41bb9bc79bda880d424e",
      "685db029e2fe4af0863c294ae903b2f4",
      "340c0c95b9b14d49a633c714b3ed07c3",
      "24d9918c607e4fbd9160d0f87539c9dc",
      "2e411f3754024d1ba986df32659fe07d",
      "37a9bc32ba004749b009a3882ef1b5fc",
      "72568b85624a4dc19e9b7ef56261a26f",
      "917a3a5c95cd4a35abbfb5a2ca5813f9",
      "edb164a83902498d948185672a357384"
     ]
    },
    "executionInfo": {
     "elapsed": 477728,
     "status": "ok",
     "timestamp": 1757937570642,
     "user": {
      "displayName": "湯琴",
      "userId": "00701203190468333804"
     },
     "user_tz": -540
    },
    "id": "vg5rxBBaf38_",
    "outputId": "c198ea9c-a1a6-4bc8-f3c0-72909bbf2c64"
   },
   "outputs": [
    {
     "data": {
      "application/vnd.jupyter.widget-view+json": {
       "model_id": "1d08c886f4b743c28cc26a77c117e606",
       "version_major": 2,
       "version_minor": 0
      },
      "text/plain": [
       "  0%|          | 0/400 [00:00<?, ?it/s]"
      ]
     },
     "metadata": {},
     "output_type": "display_data"
    },
    {
     "name": "stderr",
     "output_type": "stream",
     "text": [
      "/tmp/ipython-input-406423520.py:22: UserWarning: Creating a tensor from a list of numpy.ndarrays is extremely slow. Please consider converting the list to a single numpy.ndarray with numpy.array() before converting to a tensor. (Triggered internally at /pytorch/torch/csrc/utils/tensor_new.cpp:253.)\n",
      "  states = torch.FloatTensor(states)\n"
     ]
    },
    {
     "name": "stdout",
     "output_type": "stream",
     "text": [
      "New best AC model saved at batch 1 with avg reward: -204.11\n",
      "New best AC model saved at batch 2 with avg reward: -119.58\n",
      "New best AC model saved at batch 9 with avg reward: -83.41\n",
      "New best AC model saved at batch 11 with avg reward: -77.76\n",
      "New best AC model saved at batch 53 with avg reward: -29.71\n",
      "New best AC model saved at batch 156 with avg reward: -11.17\n",
      "New best AC model saved at batch 214 with avg reward: -3.81\n",
      "New best AC model saved at batch 312 with avg reward: -0.68\n",
      "New best AC model saved at batch 322 with avg reward: 6.01\n",
      "New best AC model saved at batch 323 with avg reward: 93.41\n",
      "New best AC model saved at batch 400 with avg reward: 146.28\n",
      "Actor-Critic training completed!\n",
      "Best average reward achieved: 146.28\n"
     ]
    }
   ],
   "source": [
    "# Actor-Critic训练循环\n",
    "agent.actor.train()\n",
    "agent.critic.train()\n",
    "\n",
    "EPISODE_PER_BATCH = 5\n",
    "NUM_BATCH = 400\n",
    "\n",
    "avg_total_rewards, avg_final_rewards = [], []\n",
    "best_avg_reward = -float('inf')\n",
    "\n",
    "prg_bar = tqdm(range(NUM_BATCH))\n",
    "for batch in prg_bar:\n",
    "    # 初始化batch数据收集\n",
    "    batch_states, batch_actions, batch_rewards = [], [], []\n",
    "    batch_next_states, batch_dones = [], []\n",
    "    total_rewards, final_rewards = [], []\n",
    "\n",
    "    # 收集一个batch的经验\n",
    "    for episode in range(EPISODE_PER_BATCH):\n",
    "        state, _ = env.reset()\n",
    "        episode_states, episode_actions, episode_rewards = [], [], []\n",
    "        episode_next_states, episode_dones = [], []\n",
    "        total_reward = 0\n",
    "\n",
    "        while True:\n",
    "            action, log_prob = agent.sample(state)\n",
    "            next_state, reward, terminated, truncated, _ = env.step(action)\n",
    "            done = terminated or truncated\n",
    "\n",
    "            episode_states.append(state)\n",
    "            episode_actions.append(action)\n",
    "            episode_rewards.append(reward)\n",
    "            episode_next_states.append(next_state if not done else state)\n",
    "            episode_dones.append(done)\n",
    "\n",
    "            state = next_state\n",
    "            total_reward += reward\n",
    "\n",
    "            if done:\n",
    "                final_rewards.append(reward)\n",
    "                total_rewards.append(total_reward)\n",
    "                break\n",
    "\n",
    "        # 将这一episode的数据添加到batch中\n",
    "        batch_states.extend(episode_states)\n",
    "        batch_actions.extend(episode_actions)\n",
    "        batch_rewards.extend(episode_rewards)\n",
    "        batch_next_states.extend(episode_next_states)\n",
    "        batch_dones.extend(episode_dones)\n",
    "\n",
    "    # 更新智能体\n",
    "    if len(batch_states) > 0:\n",
    "        agent.learn(batch_states, batch_actions, batch_rewards, batch_next_states, batch_dones)\n",
    "\n",
    "    # 记录训练过程\n",
    "    avg_total_reward = sum(total_rewards) / len(total_rewards)\n",
    "    avg_final_reward = sum(final_rewards) / len(final_rewards)\n",
    "    avg_total_rewards.append(avg_total_reward)\n",
    "    avg_final_rewards.append(avg_final_reward)\n",
    "\n",
    "    prg_bar.set_description(f\"Total: {avg_total_reward: 4.1f}, Final: {avg_final_reward: 4.1f}\")\n",
    "\n",
    "    # 只保存最佳模型\n",
    "    if avg_total_reward > best_avg_reward:\n",
    "        best_avg_reward = avg_total_reward\n",
    "        torch.save({\n",
    "            'actor_state_dict': agent.actor.state_dict(),\n",
    "            'critic_state_dict': agent.critic.state_dict(),\n",
    "            'actor_optimizer_state_dict': agent.actor_optimizer.state_dict(),\n",
    "            'critic_optimizer_state_dict': agent.critic_optimizer.state_dict(),\n",
    "            'best_avg_reward': best_avg_reward,\n",
    "            'batch': batch + 1,\n",
    "        }, '/content/drive/MyDrive/lunar_lander_ac_best_model.pth')\n",
    "        print(f\"New best AC model saved at batch {batch+1} with avg reward: {best_avg_reward:.2f}\")\n",
    "\n",
    "# 训练完成后保存最终模型\n",
    "torch.save({\n",
    "    'actor_state_dict': agent.actor.state_dict(),\n",
    "    'critic_state_dict': agent.critic.state_dict(),\n",
    "    'actor_optimizer_state_dict': agent.actor_optimizer.state_dict(),\n",
    "    'critic_optimizer_state_dict': agent.critic_optimizer.state_dict(),\n",
    "    'batch': NUM_BATCH,\n",
    "    'avg_total_rewards': avg_total_rewards,\n",
    "    'avg_final_rewards': avg_final_rewards,\n",
    "    'final_avg_reward': avg_total_rewards[-1] if avg_total_rewards else 0,\n",
    "}, '/content/drive/MyDrive/lunar_lander_ac_final_model.pth')\n",
    "\n",
    "print(\"Actor-Critic training completed!\")\n",
    "print(f\"Best average reward achieved: {best_avg_reward:.2f}\")\n",
    "\n",
    "# 保存训练历史\n",
    "np.save('/content/drive/MyDrive/avg_total_rewards_ac.npy', avg_total_rewards)\n",
    "np.save('/content/drive/MyDrive/avg_final_rewards_ac.npy', avg_final_rewards)"
   ]
  },
  {
   "cell_type": "markdown",
   "metadata": {
    "id": "vNb_tuFYhKVK"
   },
   "source": [
    "### Training Result\n",
    "During the training process, we recorded `avg_total_reward`, which represents the average total reward of episodes before updating the policy network.\n",
    "\n",
    "Theoretically, if the agent becomes better, the `avg_total_reward` will increase.\n",
    "The visualization of the training process is shown below:  \n"
   ]
  },
  {
   "cell_type": "code",
   "execution_count": 77,
   "metadata": {
    "colab": {
     "base_uri": "https://localhost:8080/",
     "height": 452
    },
    "executionInfo": {
     "elapsed": 131,
     "status": "ok",
     "timestamp": 1757937570776,
     "user": {
      "displayName": "湯琴",
      "userId": "00701203190468333804"
     },
     "user_tz": -540
    },
    "id": "wZYOI8H10SHN",
    "outputId": "d3e492c8-9a5f-40e0-b000-cabb03e351a2"
   },
   "outputs": [
    {
     "data": {
      "image/png": "[encoded data removed]",
      "text/plain": [
       "<Figure size 640x480 with 1 Axes>"
      ]
     },
     "metadata": {},
     "output_type": "display_data"
    }
   ],
   "source": [
    "plt.plot(avg_total_rewards)\n",
    "plt.title(\"Total Rewards\")\n",
    "plt.show()"
   ]
  },
  {
   "cell_type": "markdown",
   "metadata": {
    "id": "mV5jj4dThz0Y"
   },
   "source": [
    "In addition, `avg_final_reward` represents average final rewards of episodes. To be specific, final rewards is the last reward received in one episode, indicating whether the craft lands successfully or not.\n"
   ]
  },
  {
   "cell_type": "code",
   "execution_count": 78,
   "metadata": {
    "colab": {
     "base_uri": "https://localhost:8080/",
     "height": 452
    },
    "executionInfo": {
     "elapsed": 129,
     "status": "ok",
     "timestamp": 1757937570905,
     "user": {
      "displayName": "湯琴",
      "userId": "00701203190468333804"
     },
     "user_tz": -540
    },
    "id": "txDZ5vlGWz5w",
    "outputId": "ab625844-feeb-4a4c-a233-f19ca1afea67"
   },
   "outputs": [
    {
     "data": {
      "image/png": "[encoded data removed]",
      "text/plain": [
       "<Figure size 640x480 with 1 Axes>"
      ]
     },
     "metadata": {},
     "output_type": "display_data"
    }
   ],
   "source": [
    "plt.plot(avg_final_rewards)\n",
    "plt.title(\"Final Rewards\")\n",
    "plt.show()"
   ]
  },
  {
   "cell_type": "markdown",
   "metadata": {
    "id": "u2HaGRVEYGQS"
   },
   "source": [
    "## Testing\n",
    "The testing result will be the average reward of 5 testing"
   ]
  },
  {
   "cell_type": "raw",
   "metadata": {
    "colab": {
     "base_uri": "https://localhost:8080/",
     "height": 432
    },
    "executionInfo": {
     "elapsed": 320674,
     "status": "ok",
     "timestamp": 1757937955813,
     "user": {
      "displayName": "湯琴",
      "userId": "00701203190468333804"
     },
     "user_tz": -540
    },
    "id": "5yFuUKKRYH73",
    "outputId": "c0bb3884-379a-43cf-ec19-8c8d644e95b9"
   },
   "source": [
    "import os\n",
    "\n",
    "# 加载Actor-Critic模型\n",
    "try:\n",
    "    if os.path.exists('/content/drive/MyDrive/lunar_lander_ac_best_model.pth'):\n",
    "        checkpoint = torch.load('/content/drive/MyDrive/lunar_lander_ac_best_model.pth',\n",
    "                              weights_only=False)\n",
    "        agent.actor.load_state_dict(checkpoint['actor_state_dict'])\n",
    "        agent.critic.load_state_dict(checkpoint['critic_state_dict'])\n",
    "        print(f\"Best AC model loaded! Training reward was: {checkpoint.get('best_avg_reward', 'N/A')}\")\n",
    "    elif os.path.exists('/content/drive/MyDrive/lunar_lander_ac_final_model.pth'):\n",
    "        checkpoint = torch.load('/content/drive/MyDrive/lunar_lander_ac_final_model.pth',\n",
    "                              weights_only=False)\n",
    "        agent.actor.load_state_dict(checkpoint['actor_state_dict'])\n",
    "        agent.critic.load_state_dict(checkpoint['critic_state_dict'])\n",
    "        print(\"Final AC model loaded!\")\n",
    "    else:\n",
    "        print(\"No saved AC model found, using current trained model\")\n",
    "except Exception as e:\n",
    "    print(f\"Failed to load AC model: {e}, using current trained model\")\n",
    "\n",
    "# 创建测试环境\n",
    "test_env = gym.make('LunarLander-v3', render_mode='rgb_array')\n",
    "fix(test_env, seed)\n",
    "\n",
    "# 设置模型为评估模式\n",
    "agent.actor.eval()\n",
    "agent.critic.eval()\n",
    "\n",
    "NUM_OF_TEST = 5\n",
    "test_total_reward = []\n",
    "action_list = []\n",
    "\n",
    "for i in range(NUM_OF_TEST):\n",
    "    actions = []\n",
    "    state, _ = test_env.reset()\n",
    "\n",
    "    img = plt.imshow(test_env.render())\n",
    "\n",
    "    total_reward = 0\n",
    "    done = False\n",
    "    step_count = 0\n",
    "\n",
    "    while not done and step_count < 1000:\n",
    "        action, _ = agent.sample(state)\n",
    "\n",
    "        actions.append(action)\n",
    "        state, reward, terminated, truncated, _ = test_env.step(action)\n",
    "        done = terminated or truncated\n",
    "        total_reward += reward\n",
    "        step_count += 1\n",
    "\n",
    "        img.set_data(test_env.render())\n",
    "        display.display(plt.gcf())\n",
    "        display.clear_output(wait=True)\n",
    "\n",
    "    print(f\"Test {i+1} total reward: {total_reward:.2f}\")\n",
    "    test_total_reward.append(total_reward)\n",
    "    action_list.append(actions)\n",
    "\n",
    "print(f\"Average test reward: {np.mean(test_total_reward):.2f}\")"
   ]
  },
  {
   "cell_type": "code",
   "execution_count": null,
   "metadata": {
    "executionInfo": {
     "elapsed": 501290,
     "status": "aborted",
     "timestamp": 1757937571659,
     "user": {
      "displayName": "湯琴",
      "userId": "00701203190468333804"
     },
     "user_tz": -540
    },
    "id": "Aex7mcKr0J01"
   },
   "outputs": [],
   "source": [
    "print(np.mean(test_total_reward))"
   ]
  },
  {
   "cell_type": "markdown",
   "metadata": {
    "id": "leyebGYRpqsF"
   },
   "source": [
    "Action list"
   ]
  },
  {
   "cell_type": "raw",
   "metadata": {
    "colab": {
     "base_uri": "https://localhost:8080/"
    },
    "executionInfo": {
     "elapsed": 286,
     "status": "ok",
     "timestamp": 1757938311578,
     "user": {
      "displayName": "湯琴",
      "userId": "00701203190468333804"
     },
     "user_tz": -540
    },
    "id": "hGAH4YWDpp4u",
    "outputId": "96015fbe-7842-4c81-ab88-06a2b37c0dc9"
   },
   "source": [
    "# 📋 Action list statistics with improved analysis\n",
    "print(\"\\n📋 Action list statistics:\")\n",
    "for i, actions in enumerate(action_list):\n",
    "    print(f\"Episode {i+1}: {len(actions)} actions\")\n",
    "    action_counts = {0: 0, 1: 0, 2: 0, 3: 0}  # 0: no-op, 1: left, 2: main, 3: right\n",
    "    for action in actions:\n",
    "        if action in action_counts:\n",
    "            action_counts[action] += 1\n",
    "    print(f\"  Action distribution: {action_counts}\")\n",
    "\n",
    "# 计算总体统计\n",
    "total_actions = sum(len(actions) for actions in action_list)\n",
    "avg_episode_length = total_actions / len(action_list)\n",
    "print(f\"📊 Average episode length: {avg_episode_length:.1f}\")\n",
    "\n",
    "# 检查episode长度合理性\n",
    "if avg_episode_length < 50:\n",
    "    print(\"⚠️  Episode太短，可能智能体快速坠毁\")\n",
    "elif avg_episode_length > 500:\n",
    "    print(\"⚠️  Episode太长，可能智能体没学会着陆\")\n",
    "else:\n",
    "    print(\"✅ Episode长度看起来合理\")\n",
    "\n",
    "# 保存动作列表\n",
    "PATH = \"/content/drive/MyDrive/Action_List.npy\"\n",
    "np.save(PATH, np.array(action_list, dtype=object))\n",
    "print(f\"💾 Actions saved to {PATH}\")"
   ]
  },
  {
   "cell_type": "markdown",
   "metadata": {
    "id": "asK7WfbkaLjt"
   },
   "source": [
    "### This is the file you need to submit !!!\n",
    "Download the testing result to your device\n",
    "\n"
   ]
  },
  {
   "cell_type": "raw",
   "metadata": {
    "colab": {
     "base_uri": "https://localhost:8080/",
     "height": 17
    },
    "executionInfo": {
     "elapsed": 20,
     "status": "ok",
     "timestamp": 1757938315633,
     "user": {
      "displayName": "湯琴",
      "userId": "00701203190468333804"
     },
     "user_tz": -540
    },
    "id": "c-CqyhHzaWAL",
    "outputId": "a8cd4110-bd78-4064-8b9b-228012f2c07f"
   },
   "source": [
    "from google.colab import files\n",
    "files.download(PATH)"
   ]
  },
  {
   "cell_type": "markdown",
   "metadata": {
    "id": "seT4NUmWmAZ1"
   },
   "source": [
    "# Server\n",
    "The code below simulate the environment on the judge server. Can be used for testing."
   ]
  },
  {
   "cell_type": "raw",
   "metadata": {
    "colab": {
     "base_uri": "https://localhost:8080/",
     "height": 503
    },
    "executionInfo": {
     "elapsed": 422,
     "status": "ok",
     "timestamp": 1757938364029,
     "user": {
      "displayName": "湯琴",
      "userId": "00701203190468333804"
     },
     "user_tz": -540
    },
    "id": "-QPUv2ZxmC5w",
    "outputId": "6e7bf615-354c-4166-8148-07c4fa232bde"
   },
   "source": [
    "action_list = np.load(PATH, allow_pickle=True) # The action list you upload\n",
    "seed = 543 # Do not revise this\n",
    "\n",
    "# 创建一个带渲染功能的测试环境\n",
    "test_env = gym.make('LunarLander-v3', render_mode='rgb_array')\n",
    "fix(test_env, seed)\n",
    "\n",
    "# 修复：设置Actor-Critic为评估模式\n",
    "agent.actor.eval()\n",
    "agent.critic.eval()\n",
    "\n",
    "test_total_reward = []\n",
    "if len(action_list) != 5:\n",
    "    print(\"Wrong format of file !!!\")\n",
    "    exit(0)\n",
    "\n",
    "for actions in action_list:\n",
    "    state, _ = test_env.reset()\n",
    "    img = plt.imshow(test_env.render())\n",
    "\n",
    "    total_reward = 0\n",
    "    done = False\n",
    "\n",
    "    for action in actions:\n",
    "\n",
    "        state, reward, terminated, truncated, _ = test_env.step(action)\n",
    "        done = terminated or truncated\n",
    "        total_reward += reward\n",
    "        if done:\n",
    "            break\n",
    "\n",
    "    print(f\"Your reward is : %.2f\" % total_reward)\n",
    "    test_total_reward.append(total_reward)\n",
    "\n",
    "print(f\"Your final reward is : %.2f\" % np.mean(test_total_reward))"
   ]
  },
  {
   "cell_type": "markdown",
   "metadata": {
    "id": "TjFBWwQP1hVe"
   },
   "source": [
    "# Your score"
   ]
  },
  {
   "cell_type": "raw",
   "metadata": {
    "colab": {
     "base_uri": "https://localhost:8080/"
    },
    "executionInfo": {
     "elapsed": 13,
     "status": "ok",
     "timestamp": 1757938385777,
     "user": {
      "displayName": "湯琴",
      "userId": "00701203190468333804"
     },
     "user_tz": -540
    },
    "id": "GpJpZz3Wbm0X",
    "outputId": "c5d3cf3b-0e7e-4cdd-b9fc-ef0d950c35e0"
   },
   "source": [
    "print(f\"Your final reward is : %.2f\"%np.mean(test_total_reward))"
   ]
  },
  {
   "cell_type": "markdown",
   "metadata": {
    "id": "wUBtYXG2eaqf"
   },
   "source": [
    "## Reference\n",
    "\n",
    "Below are some useful tips for you to get high score.\n",
    "\n",
    "- [DRL Lecture 1: Policy Gradient (Review)](https://youtu.be/z95ZYgPgXOY)\n",
    "- [ML Lecture 23-3: Reinforcement Learning (including Q-learning) start at 30:00](https://youtu.be/2-JNBzCq77c?t=1800)\n",
    "- [Lecture 7: Policy Gradient, David Silver](http://www0.cs.ucl.ac.uk/staff/d.silver/web/Teaching_files/pg.pdf)\n"
   ]
  }
 ],
 "metadata": {
  "colab": {
   "provenance": []
  },
  "kernelspec": {
   "display_name": "Python 3 (ipykernel)",
   "language": "python",
   "name": "python3"
  },
  "language_info": {
   "codemirror_mode": {
    "name": "ipython",
    "version": 3
   },
   "file_extension": ".py",
   "mimetype": "text/x-python",
   "name": "python",
   "nbconvert_exporter": "python",
   "pygments_lexer": "ipython3",
   "version": "3.10.18"
  },
  "widgets": {
   "application/vnd.jupyter.widget-state+json": {
    "085308a6cd3e4936ac61c43740f45d90": {
     "model_module": "@jupyter-widgets/controls",
     "model_module_version": "1.5.0",
     "model_name": "HTMLModel",
     "state": {
      "_dom_classes": [],
      "_model_module": "@jupyter-widgets/controls",
      "_model_module_version": "1.5.0",
      "_model_name": "HTMLModel",
      "_view_count": null,
      "_view_module": "@jupyter-widgets/controls",
      "_view_module_version": "1.5.0",
      "_view_name": "HTMLView",
      "description": "",
      "description_tooltip": null,
      "layout": "IPY_MODEL_24d9918c607e4fbd9160d0f87539c9dc",
      "placeholder": "​",
      "style": "IPY_MODEL_2e411f3754024d1ba986df32659fe07d",
      "value": "Total:  146.3, Final:  39.9: 100%"
     }
    },
    "1d08c886f4b743c28cc26a77c117e606": {
     "model_module": "@jupyter-widgets/controls",
     "model_module_version": "1.5.0",
     "model_name": "HBoxModel",
     "state": {
      "_dom_classes": [],
      "_model_module": "@jupyter-widgets/controls",
      "_model_module_version": "1.5.0",
      "_model_name": "HBoxModel",
      "_view_count": null,
      "_view_module": "@jupyter-widgets/controls",
      "_view_module_version": "1.5.0",
      "_view_name": "HBoxView",
      "box_style": "",
      "children": [
       "IPY_MODEL_085308a6cd3e4936ac61c43740f45d90",
       "IPY_MODEL_f914d7d090ec41bb9bc79bda880d424e",
       "IPY_MODEL_685db029e2fe4af0863c294ae903b2f4"
      ],
      "layout": "IPY_MODEL_340c0c95b9b14d49a633c714b3ed07c3"
     }
    },
    "24d9918c607e4fbd9160d0f87539c9dc": {
     "model_module": "@jupyter-widgets/base",
     "model_module_version": "1.2.0",
     "model_name": "LayoutModel",
     "state": {
      "_model_module": "@jupyter-widgets/base",
      "_model_module_version": "1.2.0",
      "_model_name": "LayoutModel",
      "_view_count": null,
      "_view_module": "@jupyter-widgets/base",
      "_view_module_version": "1.2.0",
      "_view_name": "LayoutView",
      "align_content": null,
      "align_items": null,
      "align_self": null,
      "border": null,
      "bottom": null,
      "display": null,
      "flex": null,
      "flex_flow": null,
      "grid_area": null,
      "grid_auto_columns": null,
      "grid_auto_flow": null,
      "grid_auto_rows": null,
      "grid_column": null,
      "grid_gap": null,
      "grid_row": null,
      "grid_template_areas": null,
      "grid_template_columns": null,
      "grid_template_rows": null,
      "height": null,
      "justify_content": null,
      "justify_items": null,
      "left": null,
      "margin": null,
      "max_height": null,
      "max_width": null,
      "min_height": null,
      "min_width": null,
      "object_fit": null,
      "object_position": null,
      "order": null,
      "overflow": null,
      "overflow_x": null,
      "overflow_y": null,
      "padding": null,
      "right": null,
      "top": null,
      "visibility": null,
      "width": null
     }
    },
    "2e411f3754024d1ba986df32659fe07d": {
     "model_module": "@jupyter-widgets/controls",
     "model_module_version": "1.5.0",
     "model_name": "DescriptionStyleModel",
     "state": {
      "_model_module": "@jupyter-widgets/controls",
      "_model_module_version": "1.5.0",
      "_model_name": "DescriptionStyleModel",
      "_view_count": null,
      "_view_module": "@jupyter-widgets/base",
      "_view_module_version": "1.2.0",
      "_view_name": "StyleView",
      "description_width": ""
     }
    },
    "340c0c95b9b14d49a633c714b3ed07c3": {
     "model_module": "@jupyter-widgets/base",
     "model_module_version": "1.2.0",
     "model_name": "LayoutModel",
     "state": {
      "_model_module": "@jupyter-widgets/base",
      "_model_module_version": "1.2.0",
      "_model_name": "LayoutModel",
      "_view_count": null,
      "_view_module": "@jupyter-widgets/base",
      "_view_module_version": "1.2.0",
      "_view_name": "LayoutView",
      "align_content": null,
      "align_items": null,
      "align_self": null,
      "border": null,
      "bottom": null,
      "display": null,
      "flex": null,
      "flex_flow": null,
      "grid_area": null,
      "grid_auto_columns": null,
      "grid_auto_flow": null,
      "grid_auto_rows": null,
      "grid_column": null,
      "grid_gap": null,
      "grid_row": null,
      "grid_template_areas": null,
      "grid_template_columns": null,
      "grid_template_rows": null,
      "height": null,
      "justify_content": null,
      "justify_items": null,
      "left": null,
      "margin": null,
      "max_height": null,
      "max_width": null,
      "min_height": null,
      "min_width": null,
      "object_fit": null,
      "object_position": null,
      "order": null,
      "overflow": null,
      "overflow_x": null,
      "overflow_y": null,
      "padding": null,
      "right": null,
      "top": null,
      "visibility": null,
      "width": null
     }
    },
    "37a9bc32ba004749b009a3882ef1b5fc": {
     "model_module": "@jupyter-widgets/base",
     "model_module_version": "1.2.0",
     "model_name": "LayoutModel",
     "state": {
      "_model_module": "@jupyter-widgets/base",
      "_model_module_version": "1.2.0",
      "_model_name": "LayoutModel",
      "_view_count": null,
      "_view_module": "@jupyter-widgets/base",
      "_view_module_version": "1.2.0",
      "_view_name": "LayoutView",
      "align_content": null,
      "align_items": null,
      "align_self": null,
      "border": null,
      "bottom": null,
      "display": null,
      "flex": null,
      "flex_flow": null,
      "grid_area": null,
      "grid_auto_columns": null,
      "grid_auto_flow": null,
      "grid_auto_rows": null,
      "grid_column": null,
      "grid_gap": null,
      "grid_row": null,
      "grid_template_areas": null,
      "grid_template_columns": null,
      "grid_template_rows": null,
      "height": null,
      "justify_content": null,
      "justify_items": null,
      "left": null,
      "margin": null,
      "max_height": null,
      "max_width": null,
      "min_height": null,
      "min_width": null,
      "object_fit": null,
      "object_position": null,
      "order": null,
      "overflow": null,
      "overflow_x": null,
      "overflow_y": null,
      "padding": null,
      "right": null,
      "top": null,
      "visibility": null,
      "width": null
     }
    },
    "685db029e2fe4af0863c294ae903b2f4": {
     "model_module": "@jupyter-widgets/controls",
     "model_module_version": "1.5.0",
     "model_name": "HTMLModel",
     "state": {
      "_dom_classes": [],
      "_model_module": "@jupyter-widgets/controls",
      "_model_module_version": "1.5.0",
      "_model_name": "HTMLModel",
      "_view_count": null,
      "_view_module": "@jupyter-widgets/controls",
      "_view_module_version": "1.5.0",
      "_view_name": "HTMLView",
      "description": "",
      "description_tooltip": null,
      "layout": "IPY_MODEL_917a3a5c95cd4a35abbfb5a2ca5813f9",
      "placeholder": "​",
      "style": "IPY_MODEL_edb164a83902498d948185672a357384",
      "value": " 400/400 [07:58&lt;00:00,  1.97s/it]"
     }
    },
    "72568b85624a4dc19e9b7ef56261a26f": {
     "model_module": "@jupyter-widgets/controls",
     "model_module_version": "1.5.0",
     "model_name": "ProgressStyleModel",
     "state": {
      "_model_module": "@jupyter-widgets/controls",
      "_model_module_version": "1.5.0",
      "_model_name": "ProgressStyleModel",
      "_view_count": null,
      "_view_module": "@jupyter-widgets/base",
      "_view_module_version": "1.2.0",
      "_view_name": "StyleView",
      "bar_color": null,
      "description_width": ""
     }
    },
    "917a3a5c95cd4a35abbfb5a2ca5813f9": {
     "model_module": "@jupyter-widgets/base",
     "model_module_version": "1.2.0",
     "model_name": "LayoutModel",
     "state": {
      "_model_module": "@jupyter-widgets/base",
      "_model_module_version": "1.2.0",
      "_model_name": "LayoutModel",
      "_view_count": null,
      "_view_module": "@jupyter-widgets/base",
      "_view_module_version": "1.2.0",
      "_view_name": "LayoutView",
      "align_content": null,
      "align_items": null,
      "align_self": null,
      "border": null,
      "bottom": null,
      "display": null,
      "flex": null,
      "flex_flow": null,
      "grid_area": null,
      "grid_auto_columns": null,
      "grid_auto_flow": null,
      "grid_auto_rows": null,
      "grid_column": null,
      "grid_gap": null,
      "grid_row": null,
      "grid_template_areas": null,
      "grid_template_columns": null,
      "grid_template_rows": null,
      "height": null,
      "justify_content": null,
      "justify_items": null,
      "left": null,
      "margin": null,
      "max_height": null,
      "max_width": null,
      "min_height": null,
      "min_width": null,
      "object_fit": null,
      "object_position": null,
      "order": null,
      "overflow": null,
      "overflow_x": null,
      "overflow_y": null,
      "padding": null,
      "right": null,
      "top": null,
      "visibility": null,
      "width": null
     }
    },
    "edb164a83902498d948185672a357384": {
     "model_module": "@jupyter-widgets/controls",
     "model_module_version": "1.5.0",
     "model_name": "DescriptionStyleModel",
     "state": {
      "_model_module": "@jupyter-widgets/controls",
      "_model_module_version": "1.5.0",
      "_model_name": "DescriptionStyleModel",
      "_view_count": null,
      "_view_module": "@jupyter-widgets/base",
      "_view_module_version": "1.2.0",
      "_view_name": "StyleView",
      "description_width": ""
     }
    },
    "f914d7d090ec41bb9bc79bda880d424e": {
     "model_module": "@jupyter-widgets/controls",
     "model_module_version": "1.5.0",
     "model_name": "FloatProgressModel",
     "state": {
      "_dom_classes": [],
      "_model_module": "@jupyter-widgets/controls",
      "_model_module_version": "1.5.0",
      "_model_name": "FloatProgressModel",
      "_view_count": null,
      "_view_module": "@jupyter-widgets/controls",
      "_view_module_version": "1.5.0",
      "_view_name": "ProgressView",
      "bar_style": "success",
      "description": "",
      "description_tooltip": null,
      "layout": "IPY_MODEL_37a9bc32ba004749b009a3882ef1b5fc",
      "max": 400,
      "min": 0,
      "orientation": "horizontal",
      "style": "IPY_MODEL_72568b85624a4dc19e9b7ef56261a26f",
      "value": 400
     }
    }
   }
  }
 },
 "nbformat": 4,
 "nbformat_minor": 4
}
