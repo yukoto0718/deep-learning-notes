{
 "cells": [
  {
   "cell_type": "markdown",
   "metadata": {
    "id": "guE34D3Fj2R9"
   },
   "source": [
    "# **Homework 1: COVID-19 Cases Prediction (Regression)**"
   ]
  },
  {
   "cell_type": "markdown",
   "metadata": {
    "id": "V57zhcTp1Xxb"
   },
   "source": [
    "Objectives:\n",
    "* Solve a regression problem with deep neural networks (DNN).\n",
    "* Understand basic DNN training tips.\n",
    "* Familiarize yourself with PyTorch.\n",
    "\n",
    "If you have any questions, please contact the TAs via TA hours, NTU COOL, or email to mlta-2022-spring@googlegroups.com"
   ]
  },
  {
   "cell_type": "markdown",
   "metadata": {
    "id": "Tm2aXcb-j9Fc"
   },
   "source": [
    "# Download data\n",
    "If the Google Drive links below do not work, you can download data from [Kaggle](https://www.kaggle.com/t/a3ebd5b5542f0f55e828d4f00de8e59a), and upload data manually to the workspace."
   ]
  },
  {
   "cell_type": "markdown",
   "metadata": {
    "colab": {
     "base_uri": "https://localhost:8080/"
    },
    "executionInfo": {
     "elapsed": 9895,
     "status": "ok",
     "timestamp": 1753142327127,
     "user": {
      "displayName": "湯琴",
      "userId": "00701203190468333804"
     },
     "user_tz": -540
    },
    "id": "YPmfl-awlKZA",
    "outputId": "c639d181-22a9-4562-f1c0-63d78cd22914"
   },
   "source": [
    "!gdown --id '1kLSW_-cW2Huj7bh84YTdimGBOJaODiOS' --output covid.train.csv\n",
    "!gdown --id '1iiI5qROrAhZn-o4FPqsE97bMzDEFvIdg' --output covid.test.csv"
   ]
  },
  {
   "cell_type": "markdown",
   "metadata": {
    "id": "igqIMEgu64-F"
   },
   "source": [
    "# Import packages"
   ]
  },
  {
   "cell_type": "code",
   "execution_count": 1,
   "metadata": {
    "id": "xybQNYCXYu13"
   },
   "outputs": [],
   "source": [
    "# Numerical Operations\n",
    "import math\n",
    "import numpy as np\n",
    "\n",
    "# Reading/Writing Data\n",
    "import pandas as pd\n",
    "import os\n",
    "import csv\n",
    "\n",
    "# For Progress Bar\n",
    "from tqdm import tqdm\n",
    "\n",
    "# Pytorch\n",
    "import torch\n",
    "import torch.nn as nn\n",
    "from torch.utils.data import Dataset, DataLoader, random_split\n",
    "\n",
    "# For plotting learning curve\n",
    "from torch.utils.tensorboard import SummaryWriter\n",
    "\n",
    "# 用于数据分析可视化\n",
    "import matplotlib.pyplot as plt\n",
    "import seaborn as sns\n",
    "\n",
    "from sklearn.feature_selection import SelectKBest, f_regression, RFE\n",
    "from sklearn.linear_model import Ridge\n"
   ]
  },
  {
   "cell_type": "code",
   "execution_count": 2,
   "metadata": {},
   "outputs": [],
   "source": [
    "df = pd.read_csv('covid.train.csv',index_col=0)\n",
    "test_df = pd.read_csv('covid.test.csv',index_col=0)"
   ]
  },
  {
   "cell_type": "markdown",
   "metadata": {
    "id": "fTAVqRfc2KK3"
   },
   "source": [
    "# Some Utility Functions\n",
    "\n",
    "You do not need to modify this part."
   ]
  },
  {
   "cell_type": "code",
   "execution_count": 3,
   "metadata": {
    "id": "RbrcpfYN2I-H"
   },
   "outputs": [],
   "source": [
    "def same_seed(seed):\n",
    "    '''Fixes random number generator seeds for reproducibility.'''\n",
    "    torch.backends.cudnn.deterministic = True\n",
    "    torch.backends.cudnn.benchmark = False\n",
    "    np.random.seed(seed)\n",
    "    torch.manual_seed(seed)\n",
    "    if torch.cuda.is_available():\n",
    "        torch.cuda.manual_seed_all(seed)\n",
    "\n",
    "def train_valid_split(data_set, valid_ratio, seed):\n",
    "    '''Split provided training data into training set and validation set'''\n",
    "    valid_set_size = int(valid_ratio * len(data_set))\n",
    "    train_set_size = len(data_set) - valid_set_size\n",
    "    train_set, valid_set = random_split(data_set, [train_set_size, valid_set_size], generator=torch.Generator().manual_seed(seed))\n",
    "    return np.array(train_set), np.array(valid_set)\n",
    "\n",
    "def predict(test_loader, model, device):\n",
    "    model.eval() # Set your model to evaluation mode.\n",
    "    preds = []\n",
    "    for x in tqdm(test_loader):\n",
    "        x = x.to(device)\n",
    "        with torch.no_grad():\n",
    "            pred = model(x)\n",
    "            preds.append(pred.detach().cpu())\n",
    "    preds = torch.cat(preds, dim=0).numpy()\n",
    "    return preds"
   ]
  },
  {
   "cell_type": "markdown",
   "metadata": {
    "id": "IqO3lTm78nNO"
   },
   "source": [
    "# Dataset"
   ]
  },
  {
   "cell_type": "markdown",
   "metadata": {
    "id": "iB9kJ6DRdcPZ"
   },
   "source": [
    "Dataset类包装 → 变成PyTorch能理解的格式，提供索引访问\n",
    "- def __init__(self, x, y=None):     # ✅ 存储数据\n",
    "- def __getitem__(self, idx):       # ✅ 提供\"按索引取数据\"的能力  \n",
    "- def __len__(self):            # ✅ 提供\"数据总数\"的信息"
   ]
  },
  {
   "cell_type": "code",
   "execution_count": 4,
   "metadata": {
    "id": "-mjaJM0wprMs"
   },
   "outputs": [],
   "source": [
    "class COVID19Dataset(Dataset):\n",
    "    '''\n",
    "    x: Features.\n",
    "    y: Targets, if none, do prediction.\n",
    "    '''\n",
    "    def __init__(self, x, y=None):\n",
    "        if y is None:\n",
    "            self.y = y\n",
    "        else:\n",
    "            self.y = torch.FloatTensor(y)\n",
    "        self.x = torch.FloatTensor(x)\n",
    "\n",
    "    def __getitem__(self, idx):\n",
    "        if self.y is None:\n",
    "            return self.x[idx]\n",
    "        else:\n",
    "            return self.x[idx], self.y[idx]\n",
    "\n",
    "    def __len__(self):\n",
    "        return len(self.x)"
   ]
  },
  {
   "cell_type": "markdown",
   "metadata": {
    "id": "m73ooU75CL_j"
   },
   "source": [
    "# Neural Network Model\n",
    "Try out different model architectures by modifying the class below."
   ]
  },
  {
   "cell_type": "code",
   "execution_count": 5,
   "metadata": {},
   "outputs": [],
   "source": [
    "class My_Model(nn.Module):\n",
    "    def __init__(self, input_dim):\n",
    "        super(My_Model, self).__init__()\n",
    "        # 改进的网络结构\n",
    "        self.net = nn.Sequential(\n",
    "            #1\n",
    "            nn.Linear(input_dim, 64),\n",
    "            nn.BatchNorm1d(64),\n",
    "            nn.LeakyReLU(),    \n",
    "            nn.Dropout(p=0.35),      \n",
    "            nn.Linear(64, 1)  \n",
    "            #2\n",
    "            # nn.Linear(input_dim, 64),\n",
    "            # nn.LeakyReLU(0.2),\n",
    "            # nn.BatchNorm1d(64),\n",
    "            # nn.Dropout(0.2),\n",
    "            # nn.Linear(64, 16),\n",
    "            # nn.LeakyReLU(0.2),\n",
    "            # nn.Dropout(0.1),\n",
    "            # nn.Linear(16, 1)\n",
    "            #3\n",
    "            # nn.Linear(input_dim, 64),\n",
    "            # nn.LeakyReLU(),                  \n",
    "            # nn.Linear(64, 32),        \n",
    "            # nn.LeakyReLU(), \n",
    "            # nn.Linear(32, 1)\n",
    "        )\n",
    "        # 将损失函数移到模型内部\n",
    "        self.criterion = nn.MSELoss(reduction='mean')\n",
    "\n",
    "    def forward(self, x):\n",
    "        return self.net(x).squeeze(1)\n",
    "    \n",
    "    def cal_loss(self, pred, target):\n",
    "        # 使用RMSE而不是MSE\n",
    "        return torch.sqrt(self.criterion(pred, target))"
   ]
  },
  {
   "cell_type": "markdown",
   "metadata": {
    "id": "x5-LKF6R8xeq"
   },
   "source": [
    "# Feature Selection\n",
    "Choose features you deem useful by modifying the function below."
   ]
  },
  {
   "cell_type": "code",
   "execution_count": 6,
   "metadata": {},
   "outputs": [],
   "source": [
    "def select_feat(train_data, valid_data, test_data, select_all=True, use_simple_selection=False, add_auto_features=True):\n",
    "    \n",
    "    y_train, y_valid = train_data[:,-1], valid_data[:,-1]\n",
    "    raw_x_train, raw_x_valid, raw_x_test = train_data[:,:-1], valid_data[:,:-1], test_data\n",
    "\n",
    "    if select_all:\n",
    "        feat_idx = list(range(raw_x_train.shape[1]))\n",
    "        print(f\"📊 使用全部特征: {len(feat_idx)} 个\")\n",
    "        \n",
    "        # 归一化代码 - 位置1 ⭐\n",
    "        selected_x_train = raw_x_train[:,feat_idx]\n",
    "        selected_x_valid = raw_x_valid[:,feat_idx]\n",
    "        selected_x_test = raw_x_test[:,feat_idx]\n",
    "        \n",
    "        # 数据归一化\n",
    "        print(\"🔄 开始数据归一化...\")\n",
    "        x_min = selected_x_train.min(axis=0)\n",
    "        x_max = selected_x_train.max(axis=0)\n",
    "        x_range = x_max - x_min\n",
    "        x_range[x_range == 0] = 1  # 避免除零\n",
    "        \n",
    "        x_train_norm = (selected_x_train - x_min) / x_range\n",
    "        x_valid_norm = (selected_x_valid - x_min) / x_range  \n",
    "        x_test_norm = (selected_x_test - x_min) / x_range\n",
    "        print(\"✅ 数据归一化完成\")\n",
    "        \n",
    "        return x_train_norm, x_valid_norm, x_test_norm, y_train, y_valid\n",
    "    \n",
    "    elif use_simple_selection:\n",
    "        print(\"🎯 开始特征选择...\")\n",
    "        print(f\"📊 原始特征总数: {raw_x_train.shape[1]}\")\n",
    "        \n",
    "        # 手动选择\n",
    "        feature_positions = []\n",
    "        for time_period in range(4):\n",
    "            base_start = 38 + time_period * 16\n",
    "            period_features = [\n",
    "                base_start + 15,  # tested_positive\n",
    "                base_start + 1,   # ili\n",
    "                base_start + 0,   # cli\n",
    "                base_start + 2,   # hh_cmnty_cli\n",
    "            ]\n",
    "            feature_positions.extend(period_features)\n",
    "        \n",
    "        manual_idx = feature_positions\n",
    "        \n",
    "        # 自动选择\n",
    "        if add_auto_features:\n",
    "            print(\"🤖 开始自动特征选择...\")\n",
    "            \n",
    "            all_idx = list(range(raw_x_train.shape[1]))\n",
    "            remaining_idx = [i for i in all_idx if i not in manual_idx]\n",
    "            print(f\"📊 剩余可选特征: {len(remaining_idx)} 个\")\n",
    "            \n",
    "            k_auto = 12  # 自动选择特征数量\n",
    "            \n",
    "            if len(remaining_idx) >= k_auto:\n",
    "                remaining_features = raw_x_train[:, remaining_idx]\n",
    "                print(f\"🔍 从 {len(remaining_idx)} 个特征中自动选择 {k_auto} 个最好的\")\n",
    "                \n",
    "                selector = SelectKBest(score_func=f_regression, k=k_auto)\n",
    "                selector.fit(remaining_features, y_train)\n",
    "                \n",
    "                selected_mask = selector.get_support()\n",
    "                auto_idx = [remaining_idx[i] for i, selected in enumerate(selected_mask) if selected]\n",
    "                \n",
    "                # 显示自动选择的特征得分\n",
    "                scores = selector.scores_[selected_mask]\n",
    "                print(f\"✅ 自动选择完成: {len(auto_idx)} 个特征\")\n",
    "                print(f\"📈 自动选择特征的平均得分: {scores.mean():.2f}\")\n",
    "                \n",
    "                final_idx = manual_idx + auto_idx\n",
    "                \n",
    "            else:\n",
    "                print(f\"⚠️ 剩余特征({len(remaining_idx)})不足{k_auto}个，只使用手动选择\")\n",
    "                final_idx = manual_idx\n",
    "        \n",
    "        else:\n",
    "            print(\"🚫 跳过自动选择\")\n",
    "            final_idx = manual_idx\n",
    "        \n",
    "        print(f\"🎉 最终使用特征数: {len(final_idx)} 个\")\n",
    "         # 归一化代码 - 位置2 ⭐\n",
    "        selected_x_train = raw_x_train[:,final_idx]\n",
    "        selected_x_valid = raw_x_valid[:,final_idx]\n",
    "        selected_x_test = raw_x_test[:,final_idx]\n",
    "        \n",
    "        # 数据归一化\n",
    "        print(\"🔄 开始数据归一化...\")\n",
    "        x_min = selected_x_train.min(axis=0)\n",
    "        x_max = selected_x_train.max(axis=0)\n",
    "        x_range = x_max - x_min\n",
    "        x_range[x_range == 0] = 1  # 避免除零\n",
    "        \n",
    "        x_train_norm = (selected_x_train - x_min) / x_range\n",
    "        x_valid_norm = (selected_x_valid - x_min) / x_range  \n",
    "        x_test_norm = (selected_x_test - x_min) / x_range\n",
    "        print(\"✅ 数据归一化完成\")\n",
    "        print(\"=\"*50)\n",
    "        \n",
    "        return (raw_x_train[:,final_idx], \n",
    "                raw_x_valid[:,final_idx], \n",
    "                raw_x_test[:,final_idx], \n",
    "                y_train, y_valid)"
   ]
  },
  {
   "cell_type": "markdown",
   "metadata": {
    "id": "kADIPNQ2Ih5X"
   },
   "source": [
    "# Training Loop"
   ]
  },
  {
   "cell_type": "code",
   "execution_count": 7,
   "metadata": {},
   "outputs": [],
   "source": [
    "def trainer(train_loader, valid_loader, test_loader, model, config, device):\n",
    "    criterion = nn.MSELoss(reduction='mean')\n",
    "\n",
    "    # 改用Adam优化器 + L2正则化 ⭐⭐⭐\n",
    "    optimizer = torch.optim.Adam(model.parameters(), \n",
    "                               lr=config['learning_rate'] * 50,  # 提高学习率\n",
    "                               weight_decay=2e-3 )                # L2正则化1e-3>2e-3 \n",
    "    \n",
    "    # 加上学习率调度器 ⭐⭐⭐\n",
    "    scheduler = torch.optim.lr_scheduler.CosineAnnealingWarmRestarts(\n",
    "        optimizer, T_0=2, T_mult=2, eta_min=config['learning_rate'])\n",
    "    \n",
    "    # optimizer = torch.optim.SGD(model.parameters(), lr=config['learning_rate'], momentum=0.9)\n",
    "    writer = SummaryWriter()\n",
    "\n",
    "    if not os.path.isdir('./models'):\n",
    "        os.mkdir('./models')\n",
    "    \n",
    "    n_epochs, best_loss, step, early_stop_count = config['n_epochs'], math.inf, 0, 0\n",
    "    train_losses, val_losses = [], [] \n",
    "\n",
    "    for epoch in range(n_epochs):\n",
    "        model.train()\n",
    "        loss_record = []\n",
    "\n",
    "        train_pbar = tqdm(train_loader, position=0, leave=True)\n",
    "\n",
    "        for x, y in train_pbar:\n",
    "            optimizer.zero_grad()\n",
    "            x, y = x.to(device), y.to(device)\n",
    "            pred = model(x)\n",
    "            loss = model.cal_loss(pred, y)\n",
    "            loss.backward()\n",
    "            optimizer.step()\n",
    "            step += 1\n",
    "            loss_record.append(loss.detach().item())\n",
    "\n",
    "            train_pbar.set_description(f'Epoch [{epoch+1}/{n_epochs}]')\n",
    "            train_pbar.set_postfix({'loss': loss.detach().item()})\n",
    "\n",
    "        mean_train_loss = sum(loss_record)/len(loss_record)\n",
    "        writer.add_scalar('Loss/train', mean_train_loss, step)\n",
    "\n",
    "        # 验证集评估\n",
    "        model.eval()\n",
    "        valid_loss_record = []\n",
    "        for x, y in valid_loader:\n",
    "            x, y = x.to(device), y.to(device)\n",
    "            with torch.no_grad():\n",
    "                pred = model(x)\n",
    "                loss = model.cal_loss(pred, y)\n",
    "            valid_loss_record.append(loss.item())\n",
    "\n",
    "        mean_valid_loss = sum(valid_loss_record)/len(valid_loss_record)\n",
    "        writer.add_scalar('Loss/valid', mean_valid_loss, step)\n",
    "        \n",
    "        # 测试集评估（每10个epoch评估一次，避免过于频繁）\n",
    "        if epoch % 10 == 0 or epoch == n_epochs - 1:\n",
    "            test_loss_record = []\n",
    "            for x in test_loader:  # 注意：测试集没有标签，这里我们用验证集代替来演示\n",
    "                pass\n",
    "            \n",
    "        print(f'Epoch [{epoch+1}/{n_epochs}]: Train loss: {mean_train_loss:.4f}, Valid loss: {mean_valid_loss:.4f}')\n",
    "        \n",
    "        train_losses.append(mean_train_loss)\n",
    "        val_losses.append(mean_valid_loss)  \n",
    "\n",
    "        if mean_valid_loss < best_loss:\n",
    "            best_loss = mean_valid_loss\n",
    "            torch.save(model.state_dict(), config['save_path'])\n",
    "            print('Saving model with loss {:.3f}...'.format(best_loss))\n",
    "            early_stop_count = 0\n",
    "        else:\n",
    "            early_stop_count += 1\n",
    "\n",
    "        # ⭐⭐⭐ 在这里加scheduler.step() ⭐⭐⭐\n",
    "        scheduler.step()  # 在epoch的最后，所有计算完成后调用\n",
    "\n",
    "        if early_stop_count >= config['early_stop']:\n",
    "            print('\\nModel is not improving, so we halt the training session.')\n",
    "            break  \n",
    "            \n",
    "    return train_losses, val_losses "
   ]
  },
  {
   "cell_type": "markdown",
   "metadata": {
    "id": "0pgkOh2e9UjE"
   },
   "source": [
    "# Configurations\n",
    "`config` contains hyper-parameters for training and the path to save your model."
   ]
  },
  {
   "cell_type": "markdown",
   "metadata": {
    "id": "QoWPUahCtoT6"
   },
   "source": [
    "device = 'cuda' if torch.cuda.is_available() else 'cpu'\n",
    "config = {\n",
    "    'seed': 5201314,      # Your seed number, you can pick your lucky number. :)\n",
    "    'select_all': False,   # Whether to use all features.\n",
    "    'valid_ratio': 0.2,   # validation_size = train_size * valid_ratio\n",
    "    'n_epochs': 3000,     # Number of epochs.3000\n",
    "    'batch_size': 256,\n",
    "    'learning_rate': 1e-2,\n",
    "    'early_stop': 200,    # If model has not improved for this many consecutive epochs, stop training.\n",
    "    'save_path': './models/model.ckpt'  # Your model will be saved here.\n",
    "}"
   ]
  },
  {
   "cell_type": "code",
   "execution_count": 8,
   "metadata": {},
   "outputs": [],
   "source": [
    "device = 'cuda' if torch.cuda.is_available() else 'cpu'\n",
    "config = {\n",
    "    'seed': 5201314,      # Your seed number, you can pick your lucky number. :)\n",
    "    'select_all': False,   # Whether to use all features.\n",
    "    'valid_ratio': 0.2,   # validation_size = train_size * valid_ratio\n",
    "    'n_epochs': 5000,     # Number of epochs.3000\n",
    "    'batch_size': 256,\n",
    "    'learning_rate': 1e-5,\n",
    "    'early_stop': 500,    # If model has not improved for this many consecutive epochs, stop training.\n",
    "    'save_path': './models/model.ckpt'  # Your model will be saved here.\n",
    "}"
   ]
  },
  {
   "cell_type": "markdown",
   "metadata": {
    "id": "lrS-aJJh9XkW"
   },
   "source": [
    "# Dataloader\n",
    "Read data from files and set up training, validation, and testing sets. You do not need to modify this part."
   ]
  },
  {
   "cell_type": "code",
   "execution_count": 9,
   "metadata": {
    "colab": {
     "base_uri": "https://localhost:8080/"
    },
    "executionInfo": {
     "elapsed": 1084,
     "status": "ok",
     "timestamp": 1645204882690,
     "user": {
      "displayName": "汪宣甫",
      "photoUrl": "https://lh3.googleusercontent.com/a-/AOh14GjBKotf4XJMKIqPny9QolMGdXtetpKDFJ3v7saxaw=s64",
      "userId": "03426905883558571052"
     },
     "user_tz": -480
    },
    "id": "2jc7ZfDot2t9",
    "outputId": "62d291db-61c8-424d-ec87-2cfce6dd330d"
   },
   "outputs": [
    {
     "name": "stdout",
     "output_type": "stream",
     "text": [
      "train_data size: (2160, 118)\n",
      "valid_data size: (539, 118)\n",
      "test_data size: (1078, 117)\n",
      "🎯 开始特征选择...\n",
      "📊 原始特征总数: 117\n",
      "🤖 开始自动特征选择...\n",
      "📊 剩余可选特征: 101 个\n",
      "🔍 从 101 个特征中自动选择 12 个最好的\n",
      "✅ 自动选择完成: 12 个特征\n",
      "📈 自动选择特征的平均得分: 5349.50\n",
      "🎉 最终使用特征数: 28 个\n",
      "🔄 开始数据归一化...\n",
      "✅ 数据归一化完成\n",
      "==================================================\n",
      "number of features: 28\n"
     ]
    }
   ],
   "source": [
    "# Set seed for reproducibility\n",
    "same_seed(config['seed'])\n",
    "\n",
    "\n",
    "# train_data size: 2699 x 118 (id + 37 states + 16 features x 5 days)\n",
    "# test_data size: 1078 x 117 (without last day's positive rate)\n",
    "train_data, test_data = pd.read_csv('./covid.train.csv').values, pd.read_csv('./covid.test.csv').values\n",
    "train_data, valid_data = train_valid_split(train_data, config['valid_ratio'], config['seed'])\n",
    "\n",
    "# Print out the data size.\n",
    "print(f\"\"\"train_data size: {train_data.shape}\n",
    "valid_data size: {valid_data.shape}\n",
    "test_data size: {test_data.shape}\"\"\")\n",
    "\n",
    "# Select features\n",
    "#x_train, x_valid, x_test, y_train, y_valid = select_feat(train_data, valid_data, test_data, config['select_all'])\n",
    "# Select features\n",
    "x_train, x_valid, x_test, y_train, y_valid = select_feat(\n",
    "    train_data, valid_data, test_data, \n",
    "    select_all=False,           # 改为False，使用特征选择\n",
    "    use_simple_selection=True,  # 使用手动选择\n",
    "    add_auto_features=True      # 加上自动选择\n",
    ")\n",
    "# Print out the number of features.\n",
    "print(f'number of features: {x_train.shape[1]}')\n",
    "\n",
    "# test_dataset = COVID19Dataset(x_test)  # x_test的维度必须匹配训练时的维度\n",
    "train_dataset, valid_dataset, test_dataset = COVID19Dataset(x_train, y_train), \\\n",
    "                                            COVID19Dataset(x_valid, y_valid), \\\n",
    "                                            COVID19Dataset(x_test)\n",
    "\n",
    "# Pytorch data loader loads pytorch dataset into batches.\n",
    "train_loader = DataLoader(train_dataset, batch_size=config['batch_size'], shuffle=True, pin_memory=True)\n",
    "valid_loader = DataLoader(valid_dataset, batch_size=config['batch_size'], shuffle=True, pin_memory=True)\n",
    "test_loader = DataLoader(test_dataset, batch_size=config['batch_size'], shuffle=False, pin_memory=True)"
   ]
  },
  {
   "cell_type": "markdown",
   "metadata": {
    "id": "0OBYgjCA-YwD"
   },
   "source": [
    "# Start training!"
   ]
  },
  {
   "cell_type": "code",
   "execution_count": 10,
   "metadata": {
    "colab": {
     "base_uri": "https://localhost:8080/"
    },
    "executionInfo": {
     "elapsed": 621531,
     "status": "ok",
     "timestamp": 1645205504218,
     "user": {
      "displayName": "汪宣甫",
      "photoUrl": "https://lh3.googleusercontent.com/a-/AOh14GjBKotf4XJMKIqPny9QolMGdXtetpKDFJ3v7saxaw=s64",
      "userId": "03426905883558571052"
     },
     "user_tz": -480
    },
    "id": "YdttVRkAfu2t",
    "outputId": "864a1214-e69e-4197-dda0-ce2f6fe07d3c"
   },
   "outputs": [
    {
     "name": "stderr",
     "output_type": "stream",
     "text": [
      "  0%|          | 0/9 [00:00<?, ?it/s]/Users/hirano/Downloads/Anaconda/anaconda3/envs/d2l_env/lib/python3.10/site-packages/torch/utils/data/dataloader.py:684: UserWarning: 'pin_memory' argument is set as true but not supported on MPS now, then device pinned memory won't be used.\n",
      "  warnings.warn(warn_msg)\n",
      "Epoch [1/5000]: 100%|██████████| 9/9 [00:00<00:00, 145.11it/s, loss=9.02]\n"
     ]
    },
    {
     "name": "stdout",
     "output_type": "stream",
     "text": [
      "Epoch [1/5000]: Train loss: 10.7270, Valid loss: 9.8857\n",
      "Saving model with loss 9.886...\n"
     ]
    },
    {
     "name": "stderr",
     "output_type": "stream",
     "text": [
      "Epoch [2/5000]: 100%|██████████| 9/9 [00:00<00:00, 306.39it/s, loss=10.5]\n"
     ]
    },
    {
     "name": "stdout",
     "output_type": "stream",
     "text": [
      "Epoch [2/5000]: Train loss: 10.6271, Valid loss: 10.1394\n"
     ]
    },
    {
     "name": "stderr",
     "output_type": "stream",
     "text": [
      "Epoch [3/5000]: 100%|██████████| 9/9 [00:00<00:00, 91.27it/s, loss=9.32]\n"
     ]
    },
    {
     "name": "stdout",
     "output_type": "stream",
     "text": [
      "Epoch [3/5000]: Train loss: 10.3744, Valid loss: 9.8443\n",
      "Saving model with loss 9.844...\n"
     ]
    },
    {
     "name": "stderr",
     "output_type": "stream",
     "text": [
      "Epoch [4/5000]: 100%|██████████| 9/9 [00:00<00:00, 411.84it/s, loss=8.95]\n"
     ]
    },
    {
     "name": "stdout",
     "output_type": "stream",
     "text": [
      "Epoch [4/5000]: Train loss: 10.1458, Valid loss: 9.7117\n",
      "Saving model with loss 9.712...\n"
     ]
    },
    {
     "name": "stderr",
     "output_type": "stream",
     "text": [
      "Epoch [5/5000]: 100%|██████████| 9/9 [00:00<00:00, 474.03it/s, loss=10.8]\n"
     ]
    },
    {
     "name": "stdout",
     "output_type": "stream",
     "text": [
      "Epoch [5/5000]: Train loss: 10.1064, Valid loss: 10.5324\n"
     ]
    },
    {
     "name": "stderr",
     "output_type": "stream",
     "text": [
      "Epoch [6/5000]: 100%|██████████| 9/9 [00:00<00:00, 463.58it/s, loss=10.5]\n"
     ]
    },
    {
     "name": "stdout",
     "output_type": "stream",
     "text": [
      "Epoch [6/5000]: Train loss: 10.0419, Valid loss: 10.1134\n"
     ]
    },
    {
     "name": "stderr",
     "output_type": "stream",
     "text": [
      "Epoch [7/5000]: 100%|██████████| 9/9 [00:00<00:00, 428.47it/s, loss=10.1]\n"
     ]
    },
    {
     "name": "stdout",
     "output_type": "stream",
     "text": [
      "Epoch [7/5000]: Train loss: 9.8871, Valid loss: 10.3020\n"
     ]
    },
    {
     "name": "stderr",
     "output_type": "stream",
     "text": [
      "Epoch [8/5000]: 100%|██████████| 9/9 [00:00<00:00, 463.41it/s, loss=8.74]\n"
     ]
    },
    {
     "name": "stdout",
     "output_type": "stream",
     "text": [
      "Epoch [8/5000]: Train loss: 9.6677, Valid loss: 9.5340\n",
      "Saving model with loss 9.534...\n"
     ]
    },
    {
     "name": "stderr",
     "output_type": "stream",
     "text": [
      "Epoch [9/5000]: 100%|██████████| 9/9 [00:00<00:00, 450.20it/s, loss=8.8]\n"
     ]
    },
    {
     "name": "stdout",
     "output_type": "stream",
     "text": [
      "Epoch [9/5000]: Train loss: 9.4721, Valid loss: 9.3253\n",
      "Saving model with loss 9.325...\n"
     ]
    },
    {
     "name": "stderr",
     "output_type": "stream",
     "text": [
      "Epoch [10/5000]: 100%|██████████| 9/9 [00:00<00:00, 471.78it/s, loss=9.71]\n"
     ]
    },
    {
     "name": "stdout",
     "output_type": "stream",
     "text": [
      "Epoch [10/5000]: Train loss: 9.4204, Valid loss: 9.7693\n"
     ]
    },
    {
     "name": "stderr",
     "output_type": "stream",
     "text": [
      "Epoch [11/5000]: 100%|██████████| 9/9 [00:00<00:00, 443.02it/s, loss=10.7]\n"
     ]
    },
    {
     "name": "stdout",
     "output_type": "stream",
     "text": [
      "Epoch [11/5000]: Train loss: 9.3568, Valid loss: 9.3489\n"
     ]
    },
    {
     "name": "stderr",
     "output_type": "stream",
     "text": [
      "Epoch [12/5000]: 100%|██████████| 9/9 [00:00<00:00, 397.23it/s, loss=8.13]\n"
     ]
    },
    {
     "name": "stdout",
     "output_type": "stream",
     "text": [
      "Epoch [12/5000]: Train loss: 9.0962, Valid loss: 9.3957\n"
     ]
    },
    {
     "name": "stderr",
     "output_type": "stream",
     "text": [
      "Epoch [13/5000]: 100%|██████████| 9/9 [00:00<00:00, 380.36it/s, loss=8.92]\n"
     ]
    },
    {
     "name": "stdout",
     "output_type": "stream",
     "text": [
      "Epoch [13/5000]: Train loss: 9.1313, Valid loss: 9.4935\n"
     ]
    },
    {
     "name": "stderr",
     "output_type": "stream",
     "text": [
      "Epoch [14/5000]: 100%|██████████| 9/9 [00:00<00:00, 352.14it/s, loss=9.81]\n"
     ]
    },
    {
     "name": "stdout",
     "output_type": "stream",
     "text": [
      "Epoch [14/5000]: Train loss: 9.1666, Valid loss: 9.3892\n"
     ]
    },
    {
     "name": "stderr",
     "output_type": "stream",
     "text": [
      "Epoch [15/5000]: 100%|██████████| 9/9 [00:00<00:00, 345.77it/s, loss=9.68]\n"
     ]
    },
    {
     "name": "stdout",
     "output_type": "stream",
     "text": [
      "Epoch [15/5000]: Train loss: 9.0974, Valid loss: 9.2994\n",
      "Saving model with loss 9.299...\n"
     ]
    },
    {
     "name": "stderr",
     "output_type": "stream",
     "text": [
      "Epoch [16/5000]: 100%|██████████| 9/9 [00:00<00:00, 291.69it/s, loss=8.96]\n"
     ]
    },
    {
     "name": "stdout",
     "output_type": "stream",
     "text": [
      "Epoch [16/5000]: Train loss: 8.8567, Valid loss: 9.1313\n",
      "Saving model with loss 9.131...\n"
     ]
    },
    {
     "name": "stderr",
     "output_type": "stream",
     "text": [
      "Epoch [17/5000]: 100%|██████████| 9/9 [00:00<00:00, 289.12it/s, loss=8.88]\n"
     ]
    },
    {
     "name": "stdout",
     "output_type": "stream",
     "text": [
      "Epoch [17/5000]: Train loss: 8.6503, Valid loss: 8.7302\n",
      "Saving model with loss 8.730...\n"
     ]
    },
    {
     "name": "stderr",
     "output_type": "stream",
     "text": [
      "Epoch [18/5000]: 100%|██████████| 9/9 [00:00<00:00, 324.03it/s, loss=7.82]\n"
     ]
    },
    {
     "name": "stdout",
     "output_type": "stream",
     "text": [
      "Epoch [18/5000]: Train loss: 8.3723, Valid loss: 8.1764\n",
      "Saving model with loss 8.176...\n"
     ]
    },
    {
     "name": "stderr",
     "output_type": "stream",
     "text": [
      "Epoch [19/5000]: 100%|██████████| 9/9 [00:00<00:00, 411.52it/s, loss=7.78]\n"
     ]
    },
    {
     "name": "stdout",
     "output_type": "stream",
     "text": [
      "Epoch [19/5000]: Train loss: 8.2219, Valid loss: 8.4380\n"
     ]
    },
    {
     "name": "stderr",
     "output_type": "stream",
     "text": [
      "Epoch [20/5000]: 100%|██████████| 9/9 [00:00<00:00, 427.19it/s, loss=8.58]\n"
     ]
    },
    {
     "name": "stdout",
     "output_type": "stream",
     "text": [
      "Epoch [20/5000]: Train loss: 8.1340, Valid loss: 8.3674\n"
     ]
    },
    {
     "name": "stderr",
     "output_type": "stream",
     "text": [
      "Epoch [21/5000]: 100%|██████████| 9/9 [00:00<00:00, 450.18it/s, loss=8.03]\n"
     ]
    },
    {
     "name": "stdout",
     "output_type": "stream",
     "text": [
      "Epoch [21/5000]: Train loss: 7.9721, Valid loss: 7.9416\n",
      "Saving model with loss 7.942...\n"
     ]
    },
    {
     "name": "stderr",
     "output_type": "stream",
     "text": [
      "Epoch [22/5000]: 100%|██████████| 9/9 [00:00<00:00, 444.62it/s, loss=6.68]\n"
     ]
    },
    {
     "name": "stdout",
     "output_type": "stream",
     "text": [
      "Epoch [22/5000]: Train loss: 7.6785, Valid loss: 7.6348\n",
      "Saving model with loss 7.635...\n"
     ]
    },
    {
     "name": "stderr",
     "output_type": "stream",
     "text": [
      "Epoch [23/5000]: 100%|██████████| 9/9 [00:00<00:00, 452.64it/s, loss=7.33]\n"
     ]
    },
    {
     "name": "stdout",
     "output_type": "stream",
     "text": [
      "Epoch [23/5000]: Train loss: 7.6555, Valid loss: 7.4005\n",
      "Saving model with loss 7.400...\n"
     ]
    },
    {
     "name": "stderr",
     "output_type": "stream",
     "text": [
      "Epoch [24/5000]: 100%|██████████| 9/9 [00:00<00:00, 467.44it/s, loss=7.68]\n"
     ]
    },
    {
     "name": "stdout",
     "output_type": "stream",
     "text": [
      "Epoch [24/5000]: Train loss: 7.5414, Valid loss: 7.7345\n"
     ]
    },
    {
     "name": "stderr",
     "output_type": "stream",
     "text": [
      "Epoch [25/5000]: 100%|██████████| 9/9 [00:00<00:00, 446.57it/s, loss=6.81]\n"
     ]
    },
    {
     "name": "stdout",
     "output_type": "stream",
     "text": [
      "Epoch [25/5000]: Train loss: 7.4439, Valid loss: 7.9009\n"
     ]
    },
    {
     "name": "stderr",
     "output_type": "stream",
     "text": [
      "Epoch [26/5000]: 100%|██████████| 9/9 [00:00<00:00, 452.19it/s, loss=9.13]\n"
     ]
    },
    {
     "name": "stdout",
     "output_type": "stream",
     "text": [
      "Epoch [26/5000]: Train loss: 7.5055, Valid loss: 7.5496\n"
     ]
    },
    {
     "name": "stderr",
     "output_type": "stream",
     "text": [
      "Epoch [27/5000]: 100%|██████████| 9/9 [00:00<00:00, 450.05it/s, loss=8.43]\n"
     ]
    },
    {
     "name": "stdout",
     "output_type": "stream",
     "text": [
      "Epoch [27/5000]: Train loss: 7.4229, Valid loss: 7.9032\n"
     ]
    },
    {
     "name": "stderr",
     "output_type": "stream",
     "text": [
      "Epoch [28/5000]: 100%|██████████| 9/9 [00:00<00:00, 287.50it/s, loss=7.62]\n"
     ]
    },
    {
     "name": "stdout",
     "output_type": "stream",
     "text": [
      "Epoch [28/5000]: Train loss: 7.3557, Valid loss: 7.3692\n",
      "Saving model with loss 7.369...\n"
     ]
    },
    {
     "name": "stderr",
     "output_type": "stream",
     "text": [
      "Epoch [29/5000]: 100%|██████████| 9/9 [00:00<00:00, 334.16it/s, loss=6.73]\n"
     ]
    },
    {
     "name": "stdout",
     "output_type": "stream",
     "text": [
      "Epoch [29/5000]: Train loss: 7.3106, Valid loss: 7.3522\n",
      "Saving model with loss 7.352...\n"
     ]
    },
    {
     "name": "stderr",
     "output_type": "stream",
     "text": [
      "Epoch [30/5000]: 100%|██████████| 9/9 [00:00<00:00, 418.04it/s, loss=6.16]\n"
     ]
    },
    {
     "name": "stdout",
     "output_type": "stream",
     "text": [
      "Epoch [30/5000]: Train loss: 7.2478, Valid loss: 7.4071\n"
     ]
    },
    {
     "name": "stderr",
     "output_type": "stream",
     "text": [
      "Epoch [31/5000]: 100%|██████████| 9/9 [00:00<00:00, 397.91it/s, loss=7.88]\n"
     ]
    },
    {
     "name": "stdout",
     "output_type": "stream",
     "text": [
      "Epoch [31/5000]: Train loss: 7.2859, Valid loss: 7.2836\n",
      "Saving model with loss 7.284...\n"
     ]
    },
    {
     "name": "stderr",
     "output_type": "stream",
     "text": [
      "Epoch [32/5000]: 100%|██████████| 9/9 [00:00<00:00, 408.89it/s, loss=7.01]\n"
     ]
    },
    {
     "name": "stdout",
     "output_type": "stream",
     "text": [
      "Epoch [32/5000]: Train loss: 7.0848, Valid loss: 7.2967\n"
     ]
    },
    {
     "name": "stderr",
     "output_type": "stream",
     "text": [
      "Epoch [33/5000]: 100%|██████████| 9/9 [00:00<00:00, 406.24it/s, loss=7.56]\n"
     ]
    },
    {
     "name": "stdout",
     "output_type": "stream",
     "text": [
      "Epoch [33/5000]: Train loss: 6.9128, Valid loss: 6.8439\n",
      "Saving model with loss 6.844...\n"
     ]
    },
    {
     "name": "stderr",
     "output_type": "stream",
     "text": [
      "Epoch [34/5000]: 100%|██████████| 9/9 [00:00<00:00, 410.94it/s, loss=7.51]\n"
     ]
    },
    {
     "name": "stdout",
     "output_type": "stream",
     "text": [
      "Epoch [34/5000]: Train loss: 6.7556, Valid loss: 7.0055\n"
     ]
    },
    {
     "name": "stderr",
     "output_type": "stream",
     "text": [
      "Epoch [35/5000]: 100%|██████████| 9/9 [00:00<00:00, 402.40it/s, loss=6.44]\n"
     ]
    },
    {
     "name": "stdout",
     "output_type": "stream",
     "text": [
      "Epoch [35/5000]: Train loss: 6.5131, Valid loss: 6.5119\n",
      "Saving model with loss 6.512...\n"
     ]
    },
    {
     "name": "stderr",
     "output_type": "stream",
     "text": [
      "Epoch [36/5000]: 100%|██████████| 9/9 [00:00<00:00, 363.74it/s, loss=6.66]\n"
     ]
    },
    {
     "name": "stdout",
     "output_type": "stream",
     "text": [
      "Epoch [36/5000]: Train loss: 6.3546, Valid loss: 6.1897\n",
      "Saving model with loss 6.190...\n"
     ]
    },
    {
     "name": "stderr",
     "output_type": "stream",
     "text": [
      "Epoch [37/5000]: 100%|██████████| 9/9 [00:00<00:00, 402.60it/s, loss=5.84]\n"
     ]
    },
    {
     "name": "stdout",
     "output_type": "stream",
     "text": [
      "Epoch [37/5000]: Train loss: 6.1867, Valid loss: 6.1543\n",
      "Saving model with loss 6.154...\n"
     ]
    },
    {
     "name": "stderr",
     "output_type": "stream",
     "text": [
      "Epoch [38/5000]: 100%|██████████| 9/9 [00:00<00:00, 391.45it/s, loss=6.2]\n"
     ]
    },
    {
     "name": "stdout",
     "output_type": "stream",
     "text": [
      "Epoch [38/5000]: Train loss: 6.0517, Valid loss: 6.1621\n"
     ]
    },
    {
     "name": "stderr",
     "output_type": "stream",
     "text": [
      "Epoch [39/5000]: 100%|██████████| 9/9 [00:00<00:00, 404.08it/s, loss=5.91]\n"
     ]
    },
    {
     "name": "stdout",
     "output_type": "stream",
     "text": [
      "Epoch [39/5000]: Train loss: 5.8836, Valid loss: 5.6374\n",
      "Saving model with loss 5.637...\n"
     ]
    },
    {
     "name": "stderr",
     "output_type": "stream",
     "text": [
      "Epoch [40/5000]: 100%|██████████| 9/9 [00:00<00:00, 420.52it/s, loss=5.96]\n"
     ]
    },
    {
     "name": "stdout",
     "output_type": "stream",
     "text": [
      "Epoch [40/5000]: Train loss: 5.7756, Valid loss: 5.7372\n"
     ]
    },
    {
     "name": "stderr",
     "output_type": "stream",
     "text": [
      "Epoch [41/5000]: 100%|██████████| 9/9 [00:00<00:00, 418.31it/s, loss=5.62]\n"
     ]
    },
    {
     "name": "stdout",
     "output_type": "stream",
     "text": [
      "Epoch [41/5000]: Train loss: 5.5990, Valid loss: 5.7369\n"
     ]
    },
    {
     "name": "stderr",
     "output_type": "stream",
     "text": [
      "Epoch [42/5000]: 100%|██████████| 9/9 [00:00<00:00, 342.18it/s, loss=4.87]\n"
     ]
    },
    {
     "name": "stdout",
     "output_type": "stream",
     "text": [
      "Epoch [42/5000]: Train loss: 5.4600, Valid loss: 5.6405\n"
     ]
    },
    {
     "name": "stderr",
     "output_type": "stream",
     "text": [
      "Epoch [43/5000]: 100%|██████████| 9/9 [00:00<00:00, 392.36it/s, loss=5.31]\n"
     ]
    },
    {
     "name": "stdout",
     "output_type": "stream",
     "text": [
      "Epoch [43/5000]: Train loss: 5.3524, Valid loss: 5.5913\n",
      "Saving model with loss 5.591...\n"
     ]
    },
    {
     "name": "stderr",
     "output_type": "stream",
     "text": [
      "Epoch [44/5000]: 100%|██████████| 9/9 [00:00<00:00, 409.41it/s, loss=5.31]\n"
     ]
    },
    {
     "name": "stdout",
     "output_type": "stream",
     "text": [
      "Epoch [44/5000]: Train loss: 5.2155, Valid loss: 5.1788\n",
      "Saving model with loss 5.179...\n"
     ]
    },
    {
     "name": "stderr",
     "output_type": "stream",
     "text": [
      "Epoch [45/5000]: 100%|██████████| 9/9 [00:00<00:00, 419.10it/s, loss=5.12]\n"
     ]
    },
    {
     "name": "stdout",
     "output_type": "stream",
     "text": [
      "Epoch [45/5000]: Train loss: 5.1349, Valid loss: 5.0223\n",
      "Saving model with loss 5.022...\n"
     ]
    },
    {
     "name": "stderr",
     "output_type": "stream",
     "text": [
      "Epoch [46/5000]: 100%|██████████| 9/9 [00:00<00:00, 385.24it/s, loss=4.99]\n"
     ]
    },
    {
     "name": "stdout",
     "output_type": "stream",
     "text": [
      "Epoch [46/5000]: Train loss: 5.0458, Valid loss: 5.0319\n"
     ]
    },
    {
     "name": "stderr",
     "output_type": "stream",
     "text": [
      "Epoch [47/5000]: 100%|██████████| 9/9 [00:00<00:00, 374.56it/s, loss=6.79]\n"
     ]
    },
    {
     "name": "stdout",
     "output_type": "stream",
     "text": [
      "Epoch [47/5000]: Train loss: 5.0732, Valid loss: 5.3068\n"
     ]
    },
    {
     "name": "stderr",
     "output_type": "stream",
     "text": [
      "Epoch [48/5000]: 100%|██████████| 9/9 [00:00<00:00, 369.92it/s, loss=4.32]\n"
     ]
    },
    {
     "name": "stdout",
     "output_type": "stream",
     "text": [
      "Epoch [48/5000]: Train loss: 4.8385, Valid loss: 4.7892\n",
      "Saving model with loss 4.789...\n"
     ]
    },
    {
     "name": "stderr",
     "output_type": "stream",
     "text": [
      "Epoch [49/5000]: 100%|██████████| 9/9 [00:00<00:00, 388.05it/s, loss=4.67]\n"
     ]
    },
    {
     "name": "stdout",
     "output_type": "stream",
     "text": [
      "Epoch [49/5000]: Train loss: 4.8181, Valid loss: 5.0562\n"
     ]
    },
    {
     "name": "stderr",
     "output_type": "stream",
     "text": [
      "Epoch [50/5000]: 100%|██████████| 9/9 [00:00<00:00, 381.89it/s, loss=5.08]\n"
     ]
    },
    {
     "name": "stdout",
     "output_type": "stream",
     "text": [
      "Epoch [50/5000]: Train loss: 4.7689, Valid loss: 4.6199\n",
      "Saving model with loss 4.620...\n"
     ]
    },
    {
     "name": "stderr",
     "output_type": "stream",
     "text": [
      "Epoch [51/5000]: 100%|██████████| 9/9 [00:00<00:00, 379.08it/s, loss=4.54]\n"
     ]
    },
    {
     "name": "stdout",
     "output_type": "stream",
     "text": [
      "Epoch [51/5000]: Train loss: 4.6643, Valid loss: 4.7153\n"
     ]
    },
    {
     "name": "stderr",
     "output_type": "stream",
     "text": [
      "Epoch [52/5000]: 100%|██████████| 9/9 [00:00<00:00, 394.98it/s, loss=3.93]\n"
     ]
    },
    {
     "name": "stdout",
     "output_type": "stream",
     "text": [
      "Epoch [52/5000]: Train loss: 4.6183, Valid loss: 4.8677\n"
     ]
    },
    {
     "name": "stderr",
     "output_type": "stream",
     "text": [
      "Epoch [53/5000]: 100%|██████████| 9/9 [00:00<00:00, 347.53it/s, loss=4.98]\n"
     ]
    },
    {
     "name": "stdout",
     "output_type": "stream",
     "text": [
      "Epoch [53/5000]: Train loss: 4.6415, Valid loss: 4.6740\n"
     ]
    },
    {
     "name": "stderr",
     "output_type": "stream",
     "text": [
      "Epoch [54/5000]: 100%|██████████| 9/9 [00:00<00:00, 411.90it/s, loss=4.75]\n"
     ]
    },
    {
     "name": "stdout",
     "output_type": "stream",
     "text": [
      "Epoch [54/5000]: Train loss: 4.6230, Valid loss: 4.4300\n",
      "Saving model with loss 4.430...\n"
     ]
    },
    {
     "name": "stderr",
     "output_type": "stream",
     "text": [
      "Epoch [55/5000]: 100%|██████████| 9/9 [00:00<00:00, 352.90it/s, loss=6.07]\n"
     ]
    },
    {
     "name": "stdout",
     "output_type": "stream",
     "text": [
      "Epoch [55/5000]: Train loss: 4.6597, Valid loss: 4.5987\n"
     ]
    },
    {
     "name": "stderr",
     "output_type": "stream",
     "text": [
      "Epoch [56/5000]: 100%|██████████| 9/9 [00:00<00:00, 361.91it/s, loss=5.39]\n"
     ]
    },
    {
     "name": "stdout",
     "output_type": "stream",
     "text": [
      "Epoch [56/5000]: Train loss: 4.5781, Valid loss: 4.4987\n"
     ]
    },
    {
     "name": "stderr",
     "output_type": "stream",
     "text": [
      "Epoch [57/5000]: 100%|██████████| 9/9 [00:00<00:00, 398.58it/s, loss=4.34]\n"
     ]
    },
    {
     "name": "stdout",
     "output_type": "stream",
     "text": [
      "Epoch [57/5000]: Train loss: 4.4845, Valid loss: 4.5373\n"
     ]
    },
    {
     "name": "stderr",
     "output_type": "stream",
     "text": [
      "Epoch [58/5000]: 100%|██████████| 9/9 [00:00<00:00, 379.66it/s, loss=4.29]\n"
     ]
    },
    {
     "name": "stdout",
     "output_type": "stream",
     "text": [
      "Epoch [58/5000]: Train loss: 4.4540, Valid loss: 4.3434\n",
      "Saving model with loss 4.343...\n"
     ]
    },
    {
     "name": "stderr",
     "output_type": "stream",
     "text": [
      "Epoch [59/5000]: 100%|██████████| 9/9 [00:00<00:00, 393.36it/s, loss=4.3]\n"
     ]
    },
    {
     "name": "stdout",
     "output_type": "stream",
     "text": [
      "Epoch [59/5000]: Train loss: 4.4518, Valid loss: 4.4603\n"
     ]
    },
    {
     "name": "stderr",
     "output_type": "stream",
     "text": [
      "Epoch [60/5000]: 100%|██████████| 9/9 [00:00<00:00, 358.12it/s, loss=4.74]\n"
     ]
    },
    {
     "name": "stdout",
     "output_type": "stream",
     "text": [
      "Epoch [60/5000]: Train loss: 4.4935, Valid loss: 4.3999\n"
     ]
    },
    {
     "name": "stderr",
     "output_type": "stream",
     "text": [
      "Epoch [61/5000]: 100%|██████████| 9/9 [00:00<00:00, 371.02it/s, loss=4.78]\n"
     ]
    },
    {
     "name": "stdout",
     "output_type": "stream",
     "text": [
      "Epoch [61/5000]: Train loss: 4.4411, Valid loss: 4.3895\n"
     ]
    },
    {
     "name": "stderr",
     "output_type": "stream",
     "text": [
      "Epoch [62/5000]: 100%|██████████| 9/9 [00:00<00:00, 382.57it/s, loss=5.1]\n"
     ]
    },
    {
     "name": "stdout",
     "output_type": "stream",
     "text": [
      "Epoch [62/5000]: Train loss: 4.4703, Valid loss: 4.3416\n",
      "Saving model with loss 4.342...\n"
     ]
    },
    {
     "name": "stderr",
     "output_type": "stream",
     "text": [
      "Epoch [63/5000]: 100%|██████████| 9/9 [00:00<00:00, 372.94it/s, loss=4.47]\n"
     ]
    },
    {
     "name": "stdout",
     "output_type": "stream",
     "text": [
      "Epoch [63/5000]: Train loss: 4.3710, Valid loss: 4.3268\n",
      "Saving model with loss 4.327...\n"
     ]
    },
    {
     "name": "stderr",
     "output_type": "stream",
     "text": [
      "Epoch [64/5000]: 100%|██████████| 9/9 [00:00<00:00, 384.54it/s, loss=3.72]\n"
     ]
    },
    {
     "name": "stdout",
     "output_type": "stream",
     "text": [
      "Epoch [64/5000]: Train loss: 4.2176, Valid loss: 4.2400\n",
      "Saving model with loss 4.240...\n"
     ]
    },
    {
     "name": "stderr",
     "output_type": "stream",
     "text": [
      "Epoch [65/5000]: 100%|██████████| 9/9 [00:00<00:00, 414.08it/s, loss=4.2]\n"
     ]
    },
    {
     "name": "stdout",
     "output_type": "stream",
     "text": [
      "Epoch [65/5000]: Train loss: 4.0940, Valid loss: 4.3684\n"
     ]
    },
    {
     "name": "stderr",
     "output_type": "stream",
     "text": [
      "Epoch [66/5000]: 100%|██████████| 9/9 [00:00<00:00, 405.26it/s, loss=4.15]\n"
     ]
    },
    {
     "name": "stdout",
     "output_type": "stream",
     "text": [
      "Epoch [66/5000]: Train loss: 3.9379, Valid loss: 4.0695\n",
      "Saving model with loss 4.070...\n"
     ]
    },
    {
     "name": "stderr",
     "output_type": "stream",
     "text": [
      "Epoch [67/5000]: 100%|██████████| 9/9 [00:00<00:00, 443.24it/s, loss=3.87]\n"
     ]
    },
    {
     "name": "stdout",
     "output_type": "stream",
     "text": [
      "Epoch [67/5000]: Train loss: 3.7594, Valid loss: 3.9955\n",
      "Saving model with loss 3.996...\n"
     ]
    },
    {
     "name": "stderr",
     "output_type": "stream",
     "text": [
      "Epoch [68/5000]: 100%|██████████| 9/9 [00:00<00:00, 456.90it/s, loss=3.42]\n"
     ]
    },
    {
     "name": "stdout",
     "output_type": "stream",
     "text": [
      "Epoch [68/5000]: Train loss: 3.6657, Valid loss: 2.9498\n",
      "Saving model with loss 2.950...\n"
     ]
    },
    {
     "name": "stderr",
     "output_type": "stream",
     "text": [
      "Epoch [69/5000]: 100%|██████████| 9/9 [00:00<00:00, 468.43it/s, loss=3.67]\n"
     ]
    },
    {
     "name": "stdout",
     "output_type": "stream",
     "text": [
      "Epoch [69/5000]: Train loss: 3.5743, Valid loss: 3.6287\n"
     ]
    },
    {
     "name": "stderr",
     "output_type": "stream",
     "text": [
      "Epoch [70/5000]: 100%|██████████| 9/9 [00:00<00:00, 133.68it/s, loss=2.97]\n"
     ]
    },
    {
     "name": "stdout",
     "output_type": "stream",
     "text": [
      "Epoch [70/5000]: Train loss: 3.4626, Valid loss: 4.3214\n"
     ]
    },
    {
     "name": "stderr",
     "output_type": "stream",
     "text": [
      "Epoch [71/5000]: 100%|██████████| 9/9 [00:00<00:00, 392.43it/s, loss=2.89]\n"
     ]
    },
    {
     "name": "stdout",
     "output_type": "stream",
     "text": [
      "Epoch [71/5000]: Train loss: 3.2862, Valid loss: 3.1651\n"
     ]
    },
    {
     "name": "stderr",
     "output_type": "stream",
     "text": [
      "Epoch [72/5000]: 100%|██████████| 9/9 [00:00<00:00, 365.47it/s, loss=3.32]\n"
     ]
    },
    {
     "name": "stdout",
     "output_type": "stream",
     "text": [
      "Epoch [72/5000]: Train loss: 3.2280, Valid loss: 2.8980\n",
      "Saving model with loss 2.898...\n"
     ]
    },
    {
     "name": "stderr",
     "output_type": "stream",
     "text": [
      "Epoch [73/5000]: 100%|██████████| 9/9 [00:00<00:00, 398.29it/s, loss=2.96]\n"
     ]
    },
    {
     "name": "stdout",
     "output_type": "stream",
     "text": [
      "Epoch [73/5000]: Train loss: 3.0681, Valid loss: 2.6396\n",
      "Saving model with loss 2.640...\n"
     ]
    },
    {
     "name": "stderr",
     "output_type": "stream",
     "text": [
      "Epoch [74/5000]: 100%|██████████| 9/9 [00:00<00:00, 404.64it/s, loss=3.04]\n"
     ]
    },
    {
     "name": "stdout",
     "output_type": "stream",
     "text": [
      "Epoch [74/5000]: Train loss: 3.0063, Valid loss: 2.5233\n",
      "Saving model with loss 2.523...\n"
     ]
    },
    {
     "name": "stderr",
     "output_type": "stream",
     "text": [
      "Epoch [75/5000]: 100%|██████████| 9/9 [00:00<00:00, 433.67it/s, loss=2.47]\n"
     ]
    },
    {
     "name": "stdout",
     "output_type": "stream",
     "text": [
      "Epoch [75/5000]: Train loss: 2.9407, Valid loss: 2.0745\n",
      "Saving model with loss 2.074...\n"
     ]
    },
    {
     "name": "stderr",
     "output_type": "stream",
     "text": [
      "Epoch [76/5000]: 100%|██████████| 9/9 [00:00<00:00, 428.55it/s, loss=3.54]\n"
     ]
    },
    {
     "name": "stdout",
     "output_type": "stream",
     "text": [
      "Epoch [76/5000]: Train loss: 2.9420, Valid loss: 2.4198\n"
     ]
    },
    {
     "name": "stderr",
     "output_type": "stream",
     "text": [
      "Epoch [77/5000]: 100%|██████████| 9/9 [00:00<00:00, 411.69it/s, loss=3.21]\n"
     ]
    },
    {
     "name": "stdout",
     "output_type": "stream",
     "text": [
      "Epoch [77/5000]: Train loss: 2.8531, Valid loss: 2.5974\n"
     ]
    },
    {
     "name": "stderr",
     "output_type": "stream",
     "text": [
      "Epoch [78/5000]: 100%|██████████| 9/9 [00:00<00:00, 437.75it/s, loss=2.85]\n"
     ]
    },
    {
     "name": "stdout",
     "output_type": "stream",
     "text": [
      "Epoch [78/5000]: Train loss: 2.8718, Valid loss: 1.8435\n",
      "Saving model with loss 1.844...\n"
     ]
    },
    {
     "name": "stderr",
     "output_type": "stream",
     "text": [
      "Epoch [79/5000]: 100%|██████████| 9/9 [00:00<00:00, 433.61it/s, loss=2.8]\n"
     ]
    },
    {
     "name": "stdout",
     "output_type": "stream",
     "text": [
      "Epoch [79/5000]: Train loss: 2.8408, Valid loss: 3.3897\n"
     ]
    },
    {
     "name": "stderr",
     "output_type": "stream",
     "text": [
      "Epoch [80/5000]: 100%|██████████| 9/9 [00:00<00:00, 427.96it/s, loss=2.9]\n"
     ]
    },
    {
     "name": "stdout",
     "output_type": "stream",
     "text": [
      "Epoch [80/5000]: Train loss: 2.7971, Valid loss: 2.0363\n"
     ]
    },
    {
     "name": "stderr",
     "output_type": "stream",
     "text": [
      "Epoch [81/5000]: 100%|██████████| 9/9 [00:00<00:00, 404.98it/s, loss=2.49]\n"
     ]
    },
    {
     "name": "stdout",
     "output_type": "stream",
     "text": [
      "Epoch [81/5000]: Train loss: 2.6745, Valid loss: 3.0450\n"
     ]
    },
    {
     "name": "stderr",
     "output_type": "stream",
     "text": [
      "Epoch [82/5000]: 100%|██████████| 9/9 [00:00<00:00, 389.44it/s, loss=2.51]\n"
     ]
    },
    {
     "name": "stdout",
     "output_type": "stream",
     "text": [
      "Epoch [82/5000]: Train loss: 2.6588, Valid loss: 1.9196\n"
     ]
    },
    {
     "name": "stderr",
     "output_type": "stream",
     "text": [
      "Epoch [83/5000]: 100%|██████████| 9/9 [00:00<00:00, 420.54it/s, loss=2.61]\n"
     ]
    },
    {
     "name": "stdout",
     "output_type": "stream",
     "text": [
      "Epoch [83/5000]: Train loss: 2.6691, Valid loss: 2.0608\n"
     ]
    },
    {
     "name": "stderr",
     "output_type": "stream",
     "text": [
      "Epoch [84/5000]: 100%|██████████| 9/9 [00:00<00:00, 406.34it/s, loss=2.83]\n"
     ]
    },
    {
     "name": "stdout",
     "output_type": "stream",
     "text": [
      "Epoch [84/5000]: Train loss: 2.7128, Valid loss: 2.1759\n"
     ]
    },
    {
     "name": "stderr",
     "output_type": "stream",
     "text": [
      "Epoch [85/5000]: 100%|██████████| 9/9 [00:00<00:00, 426.68it/s, loss=2.55]\n"
     ]
    },
    {
     "name": "stdout",
     "output_type": "stream",
     "text": [
      "Epoch [85/5000]: Train loss: 2.6102, Valid loss: 2.2905\n"
     ]
    },
    {
     "name": "stderr",
     "output_type": "stream",
     "text": [
      "Epoch [86/5000]: 100%|██████████| 9/9 [00:00<00:00, 465.36it/s, loss=2.34]\n"
     ]
    },
    {
     "name": "stdout",
     "output_type": "stream",
     "text": [
      "Epoch [86/5000]: Train loss: 2.5455, Valid loss: 2.0987\n"
     ]
    },
    {
     "name": "stderr",
     "output_type": "stream",
     "text": [
      "Epoch [87/5000]: 100%|██████████| 9/9 [00:00<00:00, 419.27it/s, loss=2.38]\n"
     ]
    },
    {
     "name": "stdout",
     "output_type": "stream",
     "text": [
      "Epoch [87/5000]: Train loss: 2.5801, Valid loss: 2.2746\n"
     ]
    },
    {
     "name": "stderr",
     "output_type": "stream",
     "text": [
      "Epoch [88/5000]: 100%|██████████| 9/9 [00:00<00:00, 435.92it/s, loss=2.63]\n"
     ]
    },
    {
     "name": "stdout",
     "output_type": "stream",
     "text": [
      "Epoch [88/5000]: Train loss: 2.5691, Valid loss: 1.9657\n"
     ]
    },
    {
     "name": "stderr",
     "output_type": "stream",
     "text": [
      "Epoch [89/5000]: 100%|██████████| 9/9 [00:00<00:00, 434.03it/s, loss=2.35]\n"
     ]
    },
    {
     "name": "stdout",
     "output_type": "stream",
     "text": [
      "Epoch [89/5000]: Train loss: 2.5461, Valid loss: 2.6078\n"
     ]
    },
    {
     "name": "stderr",
     "output_type": "stream",
     "text": [
      "Epoch [90/5000]: 100%|██████████| 9/9 [00:00<00:00, 401.86it/s, loss=2.65]\n"
     ]
    },
    {
     "name": "stdout",
     "output_type": "stream",
     "text": [
      "Epoch [90/5000]: Train loss: 2.5910, Valid loss: 1.9267\n"
     ]
    },
    {
     "name": "stderr",
     "output_type": "stream",
     "text": [
      "Epoch [91/5000]: 100%|██████████| 9/9 [00:00<00:00, 395.97it/s, loss=2.76]\n"
     ]
    },
    {
     "name": "stdout",
     "output_type": "stream",
     "text": [
      "Epoch [91/5000]: Train loss: 2.5776, Valid loss: 2.1133\n"
     ]
    },
    {
     "name": "stderr",
     "output_type": "stream",
     "text": [
      "Epoch [92/5000]: 100%|██████████| 9/9 [00:00<00:00, 433.47it/s, loss=2.71]\n"
     ]
    },
    {
     "name": "stdout",
     "output_type": "stream",
     "text": [
      "Epoch [92/5000]: Train loss: 2.5465, Valid loss: 1.7986\n",
      "Saving model with loss 1.799...\n"
     ]
    },
    {
     "name": "stderr",
     "output_type": "stream",
     "text": [
      "Epoch [93/5000]: 100%|██████████| 9/9 [00:00<00:00, 438.26it/s, loss=3.13]\n"
     ]
    },
    {
     "name": "stdout",
     "output_type": "stream",
     "text": [
      "Epoch [93/5000]: Train loss: 2.6066, Valid loss: 2.1529\n"
     ]
    },
    {
     "name": "stderr",
     "output_type": "stream",
     "text": [
      "Epoch [94/5000]: 100%|██████████| 9/9 [00:00<00:00, 442.33it/s, loss=2.58]\n"
     ]
    },
    {
     "name": "stdout",
     "output_type": "stream",
     "text": [
      "Epoch [94/5000]: Train loss: 2.5284, Valid loss: 1.9760\n"
     ]
    },
    {
     "name": "stderr",
     "output_type": "stream",
     "text": [
      "Epoch [95/5000]: 100%|██████████| 9/9 [00:00<00:00, 456.67it/s, loss=2.83]\n"
     ]
    },
    {
     "name": "stdout",
     "output_type": "stream",
     "text": [
      "Epoch [95/5000]: Train loss: 2.5433, Valid loss: 1.9613\n"
     ]
    },
    {
     "name": "stderr",
     "output_type": "stream",
     "text": [
      "Epoch [96/5000]: 100%|██████████| 9/9 [00:00<00:00, 470.79it/s, loss=2.36]\n"
     ]
    },
    {
     "name": "stdout",
     "output_type": "stream",
     "text": [
      "Epoch [96/5000]: Train loss: 2.4722, Valid loss: 2.0337\n"
     ]
    },
    {
     "name": "stderr",
     "output_type": "stream",
     "text": [
      "Epoch [97/5000]: 100%|██████████| 9/9 [00:00<00:00, 466.73it/s, loss=2.58]\n"
     ]
    },
    {
     "name": "stdout",
     "output_type": "stream",
     "text": [
      "Epoch [97/5000]: Train loss: 2.6009, Valid loss: 2.2430\n"
     ]
    },
    {
     "name": "stderr",
     "output_type": "stream",
     "text": [
      "Epoch [98/5000]: 100%|██████████| 9/9 [00:00<00:00, 469.80it/s, loss=2.79]\n"
     ]
    },
    {
     "name": "stdout",
     "output_type": "stream",
     "text": [
      "Epoch [98/5000]: Train loss: 2.5330, Valid loss: 2.0238\n"
     ]
    },
    {
     "name": "stderr",
     "output_type": "stream",
     "text": [
      "Epoch [99/5000]: 100%|██████████| 9/9 [00:00<00:00, 476.82it/s, loss=2.22]\n"
     ]
    },
    {
     "name": "stdout",
     "output_type": "stream",
     "text": [
      "Epoch [99/5000]: Train loss: 2.4743, Valid loss: 1.7992\n"
     ]
    },
    {
     "name": "stderr",
     "output_type": "stream",
     "text": [
      "Epoch [100/5000]: 100%|██████████| 9/9 [00:00<00:00, 452.60it/s, loss=2.56]\n"
     ]
    },
    {
     "name": "stdout",
     "output_type": "stream",
     "text": [
      "Epoch [100/5000]: Train loss: 2.5393, Valid loss: 1.9182\n"
     ]
    },
    {
     "name": "stderr",
     "output_type": "stream",
     "text": [
      "Epoch [101/5000]: 100%|██████████| 9/9 [00:00<00:00, 468.56it/s, loss=2.42]\n"
     ]
    },
    {
     "name": "stdout",
     "output_type": "stream",
     "text": [
      "Epoch [101/5000]: Train loss: 2.4808, Valid loss: 2.0714\n"
     ]
    },
    {
     "name": "stderr",
     "output_type": "stream",
     "text": [
      "Epoch [102/5000]: 100%|██████████| 9/9 [00:00<00:00, 406.04it/s, loss=2.36]\n"
     ]
    },
    {
     "name": "stdout",
     "output_type": "stream",
     "text": [
      "Epoch [102/5000]: Train loss: 2.4715, Valid loss: 1.8972\n"
     ]
    },
    {
     "name": "stderr",
     "output_type": "stream",
     "text": [
      "Epoch [103/5000]: 100%|██████████| 9/9 [00:00<00:00, 445.94it/s, loss=2.47]\n"
     ]
    },
    {
     "name": "stdout",
     "output_type": "stream",
     "text": [
      "Epoch [103/5000]: Train loss: 2.3954, Valid loss: 1.9978\n"
     ]
    },
    {
     "name": "stderr",
     "output_type": "stream",
     "text": [
      "Epoch [104/5000]: 100%|██████████| 9/9 [00:00<00:00, 441.93it/s, loss=2.5]\n"
     ]
    },
    {
     "name": "stdout",
     "output_type": "stream",
     "text": [
      "Epoch [104/5000]: Train loss: 2.4462, Valid loss: 1.8851\n"
     ]
    },
    {
     "name": "stderr",
     "output_type": "stream",
     "text": [
      "Epoch [105/5000]: 100%|██████████| 9/9 [00:00<00:00, 430.29it/s, loss=2.93]\n"
     ]
    },
    {
     "name": "stdout",
     "output_type": "stream",
     "text": [
      "Epoch [105/5000]: Train loss: 2.5295, Valid loss: 1.9148\n"
     ]
    },
    {
     "name": "stderr",
     "output_type": "stream",
     "text": [
      "Epoch [106/5000]: 100%|██████████| 9/9 [00:00<00:00, 397.72it/s, loss=2.45]\n"
     ]
    },
    {
     "name": "stdout",
     "output_type": "stream",
     "text": [
      "Epoch [106/5000]: Train loss: 2.5242, Valid loss: 2.0008\n"
     ]
    },
    {
     "name": "stderr",
     "output_type": "stream",
     "text": [
      "Epoch [107/5000]: 100%|██████████| 9/9 [00:00<00:00, 426.28it/s, loss=2.65]\n"
     ]
    },
    {
     "name": "stdout",
     "output_type": "stream",
     "text": [
      "Epoch [107/5000]: Train loss: 2.5358, Valid loss: 2.0213\n"
     ]
    },
    {
     "name": "stderr",
     "output_type": "stream",
     "text": [
      "Epoch [108/5000]: 100%|██████████| 9/9 [00:00<00:00, 448.41it/s, loss=2.35]\n"
     ]
    },
    {
     "name": "stdout",
     "output_type": "stream",
     "text": [
      "Epoch [108/5000]: Train loss: 2.5087, Valid loss: 1.7623\n",
      "Saving model with loss 1.762...\n"
     ]
    },
    {
     "name": "stderr",
     "output_type": "stream",
     "text": [
      "Epoch [109/5000]: 100%|██████████| 9/9 [00:00<00:00, 104.07it/s, loss=3.32]\n"
     ]
    },
    {
     "name": "stdout",
     "output_type": "stream",
     "text": [
      "Epoch [109/5000]: Train loss: 2.4639, Valid loss: 1.7230\n",
      "Saving model with loss 1.723...\n"
     ]
    },
    {
     "name": "stderr",
     "output_type": "stream",
     "text": [
      "Epoch [110/5000]: 100%|██████████| 9/9 [00:00<00:00, 413.59it/s, loss=2.44]\n"
     ]
    },
    {
     "name": "stdout",
     "output_type": "stream",
     "text": [
      "Epoch [110/5000]: Train loss: 2.4575, Valid loss: 1.9280\n"
     ]
    },
    {
     "name": "stderr",
     "output_type": "stream",
     "text": [
      "Epoch [111/5000]: 100%|██████████| 9/9 [00:00<00:00, 457.44it/s, loss=2.26]\n"
     ]
    },
    {
     "name": "stdout",
     "output_type": "stream",
     "text": [
      "Epoch [111/5000]: Train loss: 2.4710, Valid loss: 2.0791\n"
     ]
    },
    {
     "name": "stderr",
     "output_type": "stream",
     "text": [
      "Epoch [112/5000]: 100%|██████████| 9/9 [00:00<00:00, 443.72it/s, loss=2.18]\n"
     ]
    },
    {
     "name": "stdout",
     "output_type": "stream",
     "text": [
      "Epoch [112/5000]: Train loss: 2.4553, Valid loss: 1.9079\n"
     ]
    },
    {
     "name": "stderr",
     "output_type": "stream",
     "text": [
      "Epoch [113/5000]: 100%|██████████| 9/9 [00:00<00:00, 437.25it/s, loss=2.56]\n"
     ]
    },
    {
     "name": "stdout",
     "output_type": "stream",
     "text": [
      "Epoch [113/5000]: Train loss: 2.5150, Valid loss: 1.9979\n"
     ]
    },
    {
     "name": "stderr",
     "output_type": "stream",
     "text": [
      "Epoch [114/5000]: 100%|██████████| 9/9 [00:00<00:00, 469.51it/s, loss=2.45]\n"
     ]
    },
    {
     "name": "stdout",
     "output_type": "stream",
     "text": [
      "Epoch [114/5000]: Train loss: 2.4094, Valid loss: 1.8495\n"
     ]
    },
    {
     "name": "stderr",
     "output_type": "stream",
     "text": [
      "Epoch [115/5000]: 100%|██████████| 9/9 [00:00<00:00, 464.35it/s, loss=2.6]\n"
     ]
    },
    {
     "name": "stdout",
     "output_type": "stream",
     "text": [
      "Epoch [115/5000]: Train loss: 2.4101, Valid loss: 1.9376\n"
     ]
    },
    {
     "name": "stderr",
     "output_type": "stream",
     "text": [
      "Epoch [116/5000]: 100%|██████████| 9/9 [00:00<00:00, 461.63it/s, loss=2.52]\n"
     ]
    },
    {
     "name": "stdout",
     "output_type": "stream",
     "text": [
      "Epoch [116/5000]: Train loss: 2.4556, Valid loss: 1.8139\n"
     ]
    },
    {
     "name": "stderr",
     "output_type": "stream",
     "text": [
      "Epoch [117/5000]: 100%|██████████| 9/9 [00:00<00:00, 466.68it/s, loss=2.3]\n"
     ]
    },
    {
     "name": "stdout",
     "output_type": "stream",
     "text": [
      "Epoch [117/5000]: Train loss: 2.4076, Valid loss: 1.7857\n"
     ]
    },
    {
     "name": "stderr",
     "output_type": "stream",
     "text": [
      "Epoch [118/5000]: 100%|██████████| 9/9 [00:00<00:00, 449.26it/s, loss=2.38]\n"
     ]
    },
    {
     "name": "stdout",
     "output_type": "stream",
     "text": [
      "Epoch [118/5000]: Train loss: 2.4975, Valid loss: 1.9481\n"
     ]
    },
    {
     "name": "stderr",
     "output_type": "stream",
     "text": [
      "Epoch [119/5000]: 100%|██████████| 9/9 [00:00<00:00, 389.76it/s, loss=2.45]\n"
     ]
    },
    {
     "name": "stdout",
     "output_type": "stream",
     "text": [
      "Epoch [119/5000]: Train loss: 2.4589, Valid loss: 1.9739\n"
     ]
    },
    {
     "name": "stderr",
     "output_type": "stream",
     "text": [
      "Epoch [120/5000]: 100%|██████████| 9/9 [00:00<00:00, 442.13it/s, loss=2.49]\n"
     ]
    },
    {
     "name": "stdout",
     "output_type": "stream",
     "text": [
      "Epoch [120/5000]: Train loss: 2.4839, Valid loss: 1.9311\n"
     ]
    },
    {
     "name": "stderr",
     "output_type": "stream",
     "text": [
      "Epoch [121/5000]: 100%|██████████| 9/9 [00:00<00:00, 457.39it/s, loss=3]\n"
     ]
    },
    {
     "name": "stdout",
     "output_type": "stream",
     "text": [
      "Epoch [121/5000]: Train loss: 2.4946, Valid loss: 1.7561\n"
     ]
    },
    {
     "name": "stderr",
     "output_type": "stream",
     "text": [
      "Epoch [122/5000]: 100%|██████████| 9/9 [00:00<00:00, 450.90it/s, loss=2.55]\n"
     ]
    },
    {
     "name": "stdout",
     "output_type": "stream",
     "text": [
      "Epoch [122/5000]: Train loss: 2.4566, Valid loss: 1.8366\n"
     ]
    },
    {
     "name": "stderr",
     "output_type": "stream",
     "text": [
      "Epoch [123/5000]: 100%|██████████| 9/9 [00:00<00:00, 444.52it/s, loss=2.4]\n"
     ]
    },
    {
     "name": "stdout",
     "output_type": "stream",
     "text": [
      "Epoch [123/5000]: Train loss: 2.4265, Valid loss: 1.8996\n"
     ]
    },
    {
     "name": "stderr",
     "output_type": "stream",
     "text": [
      "Epoch [124/5000]: 100%|██████████| 9/9 [00:00<00:00, 471.08it/s, loss=2.44]\n"
     ]
    },
    {
     "name": "stdout",
     "output_type": "stream",
     "text": [
      "Epoch [124/5000]: Train loss: 2.4805, Valid loss: 1.8518\n"
     ]
    },
    {
     "name": "stderr",
     "output_type": "stream",
     "text": [
      "Epoch [125/5000]: 100%|██████████| 9/9 [00:00<00:00, 468.97it/s, loss=2.64]\n"
     ]
    },
    {
     "name": "stdout",
     "output_type": "stream",
     "text": [
      "Epoch [125/5000]: Train loss: 2.5437, Valid loss: 1.8596\n"
     ]
    },
    {
     "name": "stderr",
     "output_type": "stream",
     "text": [
      "Epoch [126/5000]: 100%|██████████| 9/9 [00:00<00:00, 459.72it/s, loss=2.46]\n"
     ]
    },
    {
     "name": "stdout",
     "output_type": "stream",
     "text": [
      "Epoch [126/5000]: Train loss: 2.3527, Valid loss: 2.0550\n"
     ]
    },
    {
     "name": "stderr",
     "output_type": "stream",
     "text": [
      "Epoch [127/5000]: 100%|██████████| 9/9 [00:00<00:00, 470.71it/s, loss=2.19]\n"
     ]
    },
    {
     "name": "stdout",
     "output_type": "stream",
     "text": [
      "Epoch [127/5000]: Train loss: 2.4414, Valid loss: 1.8020\n"
     ]
    },
    {
     "name": "stderr",
     "output_type": "stream",
     "text": [
      "Epoch [128/5000]: 100%|██████████| 9/9 [00:00<00:00, 477.97it/s, loss=2.87]\n"
     ]
    },
    {
     "name": "stdout",
     "output_type": "stream",
     "text": [
      "Epoch [128/5000]: Train loss: 2.5494, Valid loss: 1.8773\n"
     ]
    },
    {
     "name": "stderr",
     "output_type": "stream",
     "text": [
      "Epoch [129/5000]: 100%|██████████| 9/9 [00:00<00:00, 450.83it/s, loss=2.65]\n"
     ]
    },
    {
     "name": "stdout",
     "output_type": "stream",
     "text": [
      "Epoch [129/5000]: Train loss: 2.4606, Valid loss: 2.0410\n"
     ]
    },
    {
     "name": "stderr",
     "output_type": "stream",
     "text": [
      "Epoch [130/5000]: 100%|██████████| 9/9 [00:00<00:00, 420.86it/s, loss=2.45]\n"
     ]
    },
    {
     "name": "stdout",
     "output_type": "stream",
     "text": [
      "Epoch [130/5000]: Train loss: 2.4991, Valid loss: 1.9723\n"
     ]
    },
    {
     "name": "stderr",
     "output_type": "stream",
     "text": [
      "Epoch [131/5000]: 100%|██████████| 9/9 [00:00<00:00, 460.17it/s, loss=2.9]\n"
     ]
    },
    {
     "name": "stdout",
     "output_type": "stream",
     "text": [
      "Epoch [131/5000]: Train loss: 2.5168, Valid loss: 2.2354\n"
     ]
    },
    {
     "name": "stderr",
     "output_type": "stream",
     "text": [
      "Epoch [132/5000]: 100%|██████████| 9/9 [00:00<00:00, 466.28it/s, loss=2.44]\n"
     ]
    },
    {
     "name": "stdout",
     "output_type": "stream",
     "text": [
      "Epoch [132/5000]: Train loss: 2.4884, Valid loss: 1.8569\n"
     ]
    },
    {
     "name": "stderr",
     "output_type": "stream",
     "text": [
      "Epoch [133/5000]: 100%|██████████| 9/9 [00:00<00:00, 448.81it/s, loss=2.18]\n"
     ]
    },
    {
     "name": "stdout",
     "output_type": "stream",
     "text": [
      "Epoch [133/5000]: Train loss: 2.4222, Valid loss: 1.8522\n"
     ]
    },
    {
     "name": "stderr",
     "output_type": "stream",
     "text": [
      "Epoch [134/5000]: 100%|██████████| 9/9 [00:00<00:00, 454.08it/s, loss=2.34]\n"
     ]
    },
    {
     "name": "stdout",
     "output_type": "stream",
     "text": [
      "Epoch [134/5000]: Train loss: 2.4611, Valid loss: 2.0654\n"
     ]
    },
    {
     "name": "stderr",
     "output_type": "stream",
     "text": [
      "Epoch [135/5000]: 100%|██████████| 9/9 [00:00<00:00, 474.64it/s, loss=2.61]\n"
     ]
    },
    {
     "name": "stdout",
     "output_type": "stream",
     "text": [
      "Epoch [135/5000]: Train loss: 2.3937, Valid loss: 1.9838\n"
     ]
    },
    {
     "name": "stderr",
     "output_type": "stream",
     "text": [
      "Epoch [136/5000]: 100%|██████████| 9/9 [00:00<00:00, 467.87it/s, loss=2.34]\n"
     ]
    },
    {
     "name": "stdout",
     "output_type": "stream",
     "text": [
      "Epoch [136/5000]: Train loss: 2.4400, Valid loss: 1.9518\n"
     ]
    },
    {
     "name": "stderr",
     "output_type": "stream",
     "text": [
      "Epoch [137/5000]: 100%|██████████| 9/9 [00:00<00:00, 455.56it/s, loss=2.29]\n"
     ]
    },
    {
     "name": "stdout",
     "output_type": "stream",
     "text": [
      "Epoch [137/5000]: Train loss: 2.4260, Valid loss: 2.0734\n"
     ]
    },
    {
     "name": "stderr",
     "output_type": "stream",
     "text": [
      "Epoch [138/5000]: 100%|██████████| 9/9 [00:00<00:00, 475.54it/s, loss=2.68]\n"
     ]
    },
    {
     "name": "stdout",
     "output_type": "stream",
     "text": [
      "Epoch [138/5000]: Train loss: 2.3972, Valid loss: 2.0584\n"
     ]
    },
    {
     "name": "stderr",
     "output_type": "stream",
     "text": [
      "Epoch [139/5000]: 100%|██████████| 9/9 [00:00<00:00, 450.50it/s, loss=2.64]\n"
     ]
    },
    {
     "name": "stdout",
     "output_type": "stream",
     "text": [
      "Epoch [139/5000]: Train loss: 2.4579, Valid loss: 2.0473\n"
     ]
    },
    {
     "name": "stderr",
     "output_type": "stream",
     "text": [
      "Epoch [140/5000]: 100%|██████████| 9/9 [00:00<00:00, 413.94it/s, loss=2.24]\n"
     ]
    },
    {
     "name": "stdout",
     "output_type": "stream",
     "text": [
      "Epoch [140/5000]: Train loss: 2.3834, Valid loss: 1.7323\n"
     ]
    },
    {
     "name": "stderr",
     "output_type": "stream",
     "text": [
      "Epoch [141/5000]: 100%|██████████| 9/9 [00:00<00:00, 454.29it/s, loss=2.03]\n"
     ]
    },
    {
     "name": "stdout",
     "output_type": "stream",
     "text": [
      "Epoch [141/5000]: Train loss: 2.3881, Valid loss: 1.8287\n"
     ]
    },
    {
     "name": "stderr",
     "output_type": "stream",
     "text": [
      "Epoch [142/5000]: 100%|██████████| 9/9 [00:00<00:00, 440.91it/s, loss=2.23]\n"
     ]
    },
    {
     "name": "stdout",
     "output_type": "stream",
     "text": [
      "Epoch [142/5000]: Train loss: 2.3832, Valid loss: 2.0006\n"
     ]
    },
    {
     "name": "stderr",
     "output_type": "stream",
     "text": [
      "Epoch [143/5000]: 100%|██████████| 9/9 [00:00<00:00, 452.17it/s, loss=2.01]\n"
     ]
    },
    {
     "name": "stdout",
     "output_type": "stream",
     "text": [
      "Epoch [143/5000]: Train loss: 2.3512, Valid loss: 1.9451\n"
     ]
    },
    {
     "name": "stderr",
     "output_type": "stream",
     "text": [
      "Epoch [144/5000]: 100%|██████████| 9/9 [00:00<00:00, 453.18it/s, loss=3.09]\n"
     ]
    },
    {
     "name": "stdout",
     "output_type": "stream",
     "text": [
      "Epoch [144/5000]: Train loss: 2.4623, Valid loss: 1.7541\n"
     ]
    },
    {
     "name": "stderr",
     "output_type": "stream",
     "text": [
      "Epoch [145/5000]: 100%|██████████| 9/9 [00:00<00:00, 460.92it/s, loss=1.99]\n"
     ]
    },
    {
     "name": "stdout",
     "output_type": "stream",
     "text": [
      "Epoch [145/5000]: Train loss: 2.3459, Valid loss: 2.0286\n"
     ]
    },
    {
     "name": "stderr",
     "output_type": "stream",
     "text": [
      "Epoch [146/5000]: 100%|██████████| 9/9 [00:00<00:00, 438.74it/s, loss=2.28]\n"
     ]
    },
    {
     "name": "stdout",
     "output_type": "stream",
     "text": [
      "Epoch [146/5000]: Train loss: 2.3636, Valid loss: 1.8023\n"
     ]
    },
    {
     "name": "stderr",
     "output_type": "stream",
     "text": [
      "Epoch [147/5000]: 100%|██████████| 9/9 [00:00<00:00, 442.48it/s, loss=2.34]\n"
     ]
    },
    {
     "name": "stdout",
     "output_type": "stream",
     "text": [
      "Epoch [147/5000]: Train loss: 2.3363, Valid loss: 2.1155\n"
     ]
    },
    {
     "name": "stderr",
     "output_type": "stream",
     "text": [
      "Epoch [148/5000]: 100%|██████████| 9/9 [00:00<00:00, 460.99it/s, loss=2.19]\n"
     ]
    },
    {
     "name": "stdout",
     "output_type": "stream",
     "text": [
      "Epoch [148/5000]: Train loss: 2.3905, Valid loss: 2.0090\n"
     ]
    },
    {
     "name": "stderr",
     "output_type": "stream",
     "text": [
      "Epoch [149/5000]: 100%|██████████| 9/9 [00:00<00:00, 458.25it/s, loss=2.39]\n"
     ]
    },
    {
     "name": "stdout",
     "output_type": "stream",
     "text": [
      "Epoch [149/5000]: Train loss: 2.4483, Valid loss: 1.7344\n"
     ]
    },
    {
     "name": "stderr",
     "output_type": "stream",
     "text": [
      "Epoch [150/5000]: 100%|██████████| 9/9 [00:00<00:00, 351.38it/s, loss=2.13]\n"
     ]
    },
    {
     "name": "stdout",
     "output_type": "stream",
     "text": [
      "Epoch [150/5000]: Train loss: 2.2901, Valid loss: 2.2440\n"
     ]
    },
    {
     "name": "stderr",
     "output_type": "stream",
     "text": [
      "Epoch [151/5000]: 100%|██████████| 9/9 [00:00<00:00, 300.75it/s, loss=2.34]\n"
     ]
    },
    {
     "name": "stdout",
     "output_type": "stream",
     "text": [
      "Epoch [151/5000]: Train loss: 2.3356, Valid loss: 1.6122\n",
      "Saving model with loss 1.612...\n"
     ]
    },
    {
     "name": "stderr",
     "output_type": "stream",
     "text": [
      "Epoch [152/5000]: 100%|██████████| 9/9 [00:00<00:00, 408.64it/s, loss=2.33]\n"
     ]
    },
    {
     "name": "stdout",
     "output_type": "stream",
     "text": [
      "Epoch [152/5000]: Train loss: 2.3745, Valid loss: 1.7172\n"
     ]
    },
    {
     "name": "stderr",
     "output_type": "stream",
     "text": [
      "Epoch [153/5000]: 100%|██████████| 9/9 [00:00<00:00, 405.24it/s, loss=2.13]\n"
     ]
    },
    {
     "name": "stdout",
     "output_type": "stream",
     "text": [
      "Epoch [153/5000]: Train loss: 2.3387, Valid loss: 1.7614\n"
     ]
    },
    {
     "name": "stderr",
     "output_type": "stream",
     "text": [
      "Epoch [154/5000]: 100%|██████████| 9/9 [00:00<00:00, 420.68it/s, loss=2.09]\n"
     ]
    },
    {
     "name": "stdout",
     "output_type": "stream",
     "text": [
      "Epoch [154/5000]: Train loss: 2.3843, Valid loss: 1.7618\n"
     ]
    },
    {
     "name": "stderr",
     "output_type": "stream",
     "text": [
      "Epoch [155/5000]: 100%|██████████| 9/9 [00:00<00:00, 420.78it/s, loss=2.24]\n"
     ]
    },
    {
     "name": "stdout",
     "output_type": "stream",
     "text": [
      "Epoch [155/5000]: Train loss: 2.3402, Valid loss: 1.6366\n"
     ]
    },
    {
     "name": "stderr",
     "output_type": "stream",
     "text": [
      "Epoch [156/5000]: 100%|██████████| 9/9 [00:00<00:00, 414.58it/s, loss=2.33]\n"
     ]
    },
    {
     "name": "stdout",
     "output_type": "stream",
     "text": [
      "Epoch [156/5000]: Train loss: 2.4247, Valid loss: 1.7913\n"
     ]
    },
    {
     "name": "stderr",
     "output_type": "stream",
     "text": [
      "Epoch [157/5000]: 100%|██████████| 9/9 [00:00<00:00, 414.92it/s, loss=2.09]\n"
     ]
    },
    {
     "name": "stdout",
     "output_type": "stream",
     "text": [
      "Epoch [157/5000]: Train loss: 2.2774, Valid loss: 1.8681\n"
     ]
    },
    {
     "name": "stderr",
     "output_type": "stream",
     "text": [
      "Epoch [158/5000]: 100%|██████████| 9/9 [00:00<00:00, 365.72it/s, loss=2.61]\n"
     ]
    },
    {
     "name": "stdout",
     "output_type": "stream",
     "text": [
      "Epoch [158/5000]: Train loss: 2.3496, Valid loss: 1.7421\n"
     ]
    },
    {
     "name": "stderr",
     "output_type": "stream",
     "text": [
      "Epoch [159/5000]: 100%|██████████| 9/9 [00:00<00:00, 418.72it/s, loss=2.73]\n"
     ]
    },
    {
     "name": "stdout",
     "output_type": "stream",
     "text": [
      "Epoch [159/5000]: Train loss: 2.3464, Valid loss: 1.7501\n"
     ]
    },
    {
     "name": "stderr",
     "output_type": "stream",
     "text": [
      "Epoch [160/5000]: 100%|██████████| 9/9 [00:00<00:00, 454.45it/s, loss=2.33]\n"
     ]
    },
    {
     "name": "stdout",
     "output_type": "stream",
     "text": [
      "Epoch [160/5000]: Train loss: 2.3251, Valid loss: 1.7881\n"
     ]
    },
    {
     "name": "stderr",
     "output_type": "stream",
     "text": [
      "Epoch [161/5000]: 100%|██████████| 9/9 [00:00<00:00, 454.95it/s, loss=2.94]\n"
     ]
    },
    {
     "name": "stdout",
     "output_type": "stream",
     "text": [
      "Epoch [161/5000]: Train loss: 2.4551, Valid loss: 1.6448\n"
     ]
    },
    {
     "name": "stderr",
     "output_type": "stream",
     "text": [
      "Epoch [162/5000]: 100%|██████████| 9/9 [00:00<00:00, 446.23it/s, loss=2.13]\n"
     ]
    },
    {
     "name": "stdout",
     "output_type": "stream",
     "text": [
      "Epoch [162/5000]: Train loss: 2.2821, Valid loss: 2.3302\n"
     ]
    },
    {
     "name": "stderr",
     "output_type": "stream",
     "text": [
      "Epoch [163/5000]: 100%|██████████| 9/9 [00:00<00:00, 438.89it/s, loss=2.34]\n"
     ]
    },
    {
     "name": "stdout",
     "output_type": "stream",
     "text": [
      "Epoch [163/5000]: Train loss: 2.3302, Valid loss: 1.7001\n"
     ]
    },
    {
     "name": "stderr",
     "output_type": "stream",
     "text": [
      "Epoch [164/5000]: 100%|██████████| 9/9 [00:00<00:00, 456.81it/s, loss=2.25]\n"
     ]
    },
    {
     "name": "stdout",
     "output_type": "stream",
     "text": [
      "Epoch [164/5000]: Train loss: 2.2606, Valid loss: 1.8883\n"
     ]
    },
    {
     "name": "stderr",
     "output_type": "stream",
     "text": [
      "Epoch [165/5000]: 100%|██████████| 9/9 [00:00<00:00, 458.58it/s, loss=2.4]"
     ]
    },
    {
     "name": "stdout",
     "output_type": "stream",
     "text": [
      "Epoch [165/5000]: Train loss: 2.3010, Valid loss: 2.0636\n"
     ]
    },
    {
     "name": "stderr",
     "output_type": "stream",
     "text": [
      "\n",
      "Epoch [166/5000]: 100%|██████████| 9/9 [00:00<00:00, 437.66it/s, loss=2.31]\n"
     ]
    },
    {
     "name": "stdout",
     "output_type": "stream",
     "text": [
      "Epoch [166/5000]: Train loss: 2.2742, Valid loss: 1.6605\n"
     ]
    },
    {
     "name": "stderr",
     "output_type": "stream",
     "text": [
      "Epoch [167/5000]: 100%|██████████| 9/9 [00:00<00:00, 471.87it/s, loss=2.31]\n"
     ]
    },
    {
     "name": "stdout",
     "output_type": "stream",
     "text": [
      "Epoch [167/5000]: Train loss: 2.3050, Valid loss: 1.7349\n"
     ]
    },
    {
     "name": "stderr",
     "output_type": "stream",
     "text": [
      "Epoch [168/5000]: 100%|██████████| 9/9 [00:00<00:00, 462.13it/s, loss=2.27]\n"
     ]
    },
    {
     "name": "stdout",
     "output_type": "stream",
     "text": [
      "Epoch [168/5000]: Train loss: 2.3025, Valid loss: 1.7337\n"
     ]
    },
    {
     "name": "stderr",
     "output_type": "stream",
     "text": [
      "Epoch [169/5000]: 100%|██████████| 9/9 [00:00<00:00, 426.01it/s, loss=2.27]\n"
     ]
    },
    {
     "name": "stdout",
     "output_type": "stream",
     "text": [
      "Epoch [169/5000]: Train loss: 2.2500, Valid loss: 1.7020\n"
     ]
    },
    {
     "name": "stderr",
     "output_type": "stream",
     "text": [
      "Epoch [170/5000]: 100%|██████████| 9/9 [00:00<00:00, 452.47it/s, loss=2.23]\n"
     ]
    },
    {
     "name": "stdout",
     "output_type": "stream",
     "text": [
      "Epoch [170/5000]: Train loss: 2.3240, Valid loss: 1.7830\n"
     ]
    },
    {
     "name": "stderr",
     "output_type": "stream",
     "text": [
      "Epoch [171/5000]: 100%|██████████| 9/9 [00:00<00:00, 470.51it/s, loss=2.37]\n"
     ]
    },
    {
     "name": "stdout",
     "output_type": "stream",
     "text": [
      "Epoch [171/5000]: Train loss: 2.3443, Valid loss: 1.8068\n"
     ]
    },
    {
     "name": "stderr",
     "output_type": "stream",
     "text": [
      "Epoch [172/5000]: 100%|██████████| 9/9 [00:00<00:00, 459.47it/s, loss=2.29]\n"
     ]
    },
    {
     "name": "stdout",
     "output_type": "stream",
     "text": [
      "Epoch [172/5000]: Train loss: 2.2730, Valid loss: 1.6541\n"
     ]
    },
    {
     "name": "stderr",
     "output_type": "stream",
     "text": [
      "Epoch [173/5000]: 100%|██████████| 9/9 [00:00<00:00, 462.73it/s, loss=2.45]\n"
     ]
    },
    {
     "name": "stdout",
     "output_type": "stream",
     "text": [
      "Epoch [173/5000]: Train loss: 2.2993, Valid loss: 1.8783\n"
     ]
    },
    {
     "name": "stderr",
     "output_type": "stream",
     "text": [
      "Epoch [174/5000]: 100%|██████████| 9/9 [00:00<00:00, 432.53it/s, loss=2.05]\n"
     ]
    },
    {
     "name": "stdout",
     "output_type": "stream",
     "text": [
      "Epoch [174/5000]: Train loss: 2.2115, Valid loss: 1.7417\n"
     ]
    },
    {
     "name": "stderr",
     "output_type": "stream",
     "text": [
      "Epoch [175/5000]: 100%|██████████| 9/9 [00:00<00:00, 456.74it/s, loss=2.08]\n"
     ]
    },
    {
     "name": "stdout",
     "output_type": "stream",
     "text": [
      "Epoch [175/5000]: Train loss: 2.2294, Valid loss: 1.7320\n"
     ]
    },
    {
     "name": "stderr",
     "output_type": "stream",
     "text": [
      "Epoch [176/5000]: 100%|██████████| 9/9 [00:00<00:00, 454.18it/s, loss=2.29]\n"
     ]
    },
    {
     "name": "stdout",
     "output_type": "stream",
     "text": [
      "Epoch [176/5000]: Train loss: 2.2560, Valid loss: 1.6267\n"
     ]
    },
    {
     "name": "stderr",
     "output_type": "stream",
     "text": [
      "Epoch [177/5000]: 100%|██████████| 9/9 [00:00<00:00, 425.43it/s, loss=2.77]\n"
     ]
    },
    {
     "name": "stdout",
     "output_type": "stream",
     "text": [
      "Epoch [177/5000]: Train loss: 2.3484, Valid loss: 1.6143\n"
     ]
    },
    {
     "name": "stderr",
     "output_type": "stream",
     "text": [
      "Epoch [178/5000]: 100%|██████████| 9/9 [00:00<00:00, 458.72it/s, loss=2.18]\n"
     ]
    },
    {
     "name": "stdout",
     "output_type": "stream",
     "text": [
      "Epoch [178/5000]: Train loss: 2.2606, Valid loss: 1.7930\n"
     ]
    },
    {
     "name": "stderr",
     "output_type": "stream",
     "text": [
      "Epoch [179/5000]: 100%|██████████| 9/9 [00:00<00:00, 417.18it/s, loss=2.28]\n"
     ]
    },
    {
     "name": "stdout",
     "output_type": "stream",
     "text": [
      "Epoch [179/5000]: Train loss: 2.3759, Valid loss: 1.7082\n"
     ]
    },
    {
     "name": "stderr",
     "output_type": "stream",
     "text": [
      "Epoch [180/5000]: 100%|██████████| 9/9 [00:00<00:00, 453.56it/s, loss=2.33]\n"
     ]
    },
    {
     "name": "stdout",
     "output_type": "stream",
     "text": [
      "Epoch [180/5000]: Train loss: 2.1707, Valid loss: 1.8242\n"
     ]
    },
    {
     "name": "stderr",
     "output_type": "stream",
     "text": [
      "Epoch [181/5000]: 100%|██████████| 9/9 [00:00<00:00, 453.85it/s, loss=2.07]\n"
     ]
    },
    {
     "name": "stdout",
     "output_type": "stream",
     "text": [
      "Epoch [181/5000]: Train loss: 2.1828, Valid loss: 1.6590\n"
     ]
    },
    {
     "name": "stderr",
     "output_type": "stream",
     "text": [
      "Epoch [182/5000]: 100%|██████████| 9/9 [00:00<00:00, 445.72it/s, loss=2.25]\n"
     ]
    },
    {
     "name": "stdout",
     "output_type": "stream",
     "text": [
      "Epoch [182/5000]: Train loss: 2.2715, Valid loss: 1.9810\n"
     ]
    },
    {
     "name": "stderr",
     "output_type": "stream",
     "text": [
      "Epoch [183/5000]: 100%|██████████| 9/9 [00:00<00:00, 466.83it/s, loss=2.39]\n"
     ]
    },
    {
     "name": "stdout",
     "output_type": "stream",
     "text": [
      "Epoch [183/5000]: Train loss: 2.2712, Valid loss: 1.7310\n"
     ]
    },
    {
     "name": "stderr",
     "output_type": "stream",
     "text": [
      "Epoch [184/5000]: 100%|██████████| 9/9 [00:00<00:00, 440.01it/s, loss=2.06]\n"
     ]
    },
    {
     "name": "stdout",
     "output_type": "stream",
     "text": [
      "Epoch [184/5000]: Train loss: 2.1987, Valid loss: 1.7068\n"
     ]
    },
    {
     "name": "stderr",
     "output_type": "stream",
     "text": [
      "Epoch [185/5000]: 100%|██████████| 9/9 [00:00<00:00, 463.16it/s, loss=2.64]\n"
     ]
    },
    {
     "name": "stdout",
     "output_type": "stream",
     "text": [
      "Epoch [185/5000]: Train loss: 2.2923, Valid loss: 1.7944\n"
     ]
    },
    {
     "name": "stderr",
     "output_type": "stream",
     "text": [
      "Epoch [186/5000]: 100%|██████████| 9/9 [00:00<00:00, 470.46it/s, loss=2.3]\n"
     ]
    },
    {
     "name": "stdout",
     "output_type": "stream",
     "text": [
      "Epoch [186/5000]: Train loss: 2.2741, Valid loss: 1.8777\n"
     ]
    },
    {
     "name": "stderr",
     "output_type": "stream",
     "text": [
      "Epoch [187/5000]: 100%|██████████| 9/9 [00:00<00:00, 459.00it/s, loss=1.92]\n"
     ]
    },
    {
     "name": "stdout",
     "output_type": "stream",
     "text": [
      "Epoch [187/5000]: Train loss: 2.2005, Valid loss: 1.5598\n",
      "Saving model with loss 1.560...\n"
     ]
    },
    {
     "name": "stderr",
     "output_type": "stream",
     "text": [
      "Epoch [188/5000]: 100%|██████████| 9/9 [00:00<00:00, 422.12it/s, loss=2.1]\n"
     ]
    },
    {
     "name": "stdout",
     "output_type": "stream",
     "text": [
      "Epoch [188/5000]: Train loss: 2.2373, Valid loss: 1.7664\n"
     ]
    },
    {
     "name": "stderr",
     "output_type": "stream",
     "text": [
      "Epoch [189/5000]: 100%|██████████| 9/9 [00:00<00:00, 446.65it/s, loss=2.48]\n"
     ]
    },
    {
     "name": "stdout",
     "output_type": "stream",
     "text": [
      "Epoch [189/5000]: Train loss: 2.2415, Valid loss: 1.6365\n"
     ]
    },
    {
     "name": "stderr",
     "output_type": "stream",
     "text": [
      "Epoch [190/5000]: 100%|██████████| 9/9 [00:00<00:00, 427.72it/s, loss=2.17]\n"
     ]
    },
    {
     "name": "stdout",
     "output_type": "stream",
     "text": [
      "Epoch [190/5000]: Train loss: 2.2777, Valid loss: 1.6703\n"
     ]
    },
    {
     "name": "stderr",
     "output_type": "stream",
     "text": [
      "Epoch [191/5000]: 100%|██████████| 9/9 [00:00<00:00, 470.00it/s, loss=1.99]\n"
     ]
    },
    {
     "name": "stdout",
     "output_type": "stream",
     "text": [
      "Epoch [191/5000]: Train loss: 2.2564, Valid loss: 1.9477\n"
     ]
    },
    {
     "name": "stderr",
     "output_type": "stream",
     "text": [
      "Epoch [192/5000]: 100%|██████████| 9/9 [00:00<00:00, 454.96it/s, loss=2.37]\n"
     ]
    },
    {
     "name": "stdout",
     "output_type": "stream",
     "text": [
      "Epoch [192/5000]: Train loss: 2.2746, Valid loss: 1.6854\n"
     ]
    },
    {
     "name": "stderr",
     "output_type": "stream",
     "text": [
      "Epoch [193/5000]: 100%|██████████| 9/9 [00:00<00:00, 453.84it/s, loss=2.69]\n"
     ]
    },
    {
     "name": "stdout",
     "output_type": "stream",
     "text": [
      "Epoch [193/5000]: Train loss: 2.2701, Valid loss: 1.7693\n"
     ]
    },
    {
     "name": "stderr",
     "output_type": "stream",
     "text": [
      "Epoch [194/5000]: 100%|██████████| 9/9 [00:00<00:00, 471.48it/s, loss=2.66]\n"
     ]
    },
    {
     "name": "stdout",
     "output_type": "stream",
     "text": [
      "Epoch [194/5000]: Train loss: 2.2411, Valid loss: 1.5825\n"
     ]
    },
    {
     "name": "stderr",
     "output_type": "stream",
     "text": [
      "Epoch [195/5000]: 100%|██████████| 9/9 [00:00<00:00, 456.78it/s, loss=2.46]\n"
     ]
    },
    {
     "name": "stdout",
     "output_type": "stream",
     "text": [
      "Epoch [195/5000]: Train loss: 2.2565, Valid loss: 1.6439\n"
     ]
    },
    {
     "name": "stderr",
     "output_type": "stream",
     "text": [
      "Epoch [196/5000]: 100%|██████████| 9/9 [00:00<00:00, 385.44it/s, loss=2.43]\n"
     ]
    },
    {
     "name": "stdout",
     "output_type": "stream",
     "text": [
      "Epoch [196/5000]: Train loss: 2.2415, Valid loss: 1.6594\n"
     ]
    },
    {
     "name": "stderr",
     "output_type": "stream",
     "text": [
      "Epoch [197/5000]: 100%|██████████| 9/9 [00:00<00:00, 391.10it/s, loss=2.39]\n"
     ]
    },
    {
     "name": "stdout",
     "output_type": "stream",
     "text": [
      "Epoch [197/5000]: Train loss: 2.2686, Valid loss: 1.6647\n"
     ]
    },
    {
     "name": "stderr",
     "output_type": "stream",
     "text": [
      "Epoch [198/5000]: 100%|██████████| 9/9 [00:00<00:00, 336.95it/s, loss=2.25]\n"
     ]
    },
    {
     "name": "stdout",
     "output_type": "stream",
     "text": [
      "Epoch [198/5000]: Train loss: 2.2614, Valid loss: 1.6550\n"
     ]
    },
    {
     "name": "stderr",
     "output_type": "stream",
     "text": [
      "Epoch [199/5000]: 100%|██████████| 9/9 [00:00<00:00, 389.90it/s, loss=1.88]\n"
     ]
    },
    {
     "name": "stdout",
     "output_type": "stream",
     "text": [
      "Epoch [199/5000]: Train loss: 2.1590, Valid loss: 1.8667\n"
     ]
    },
    {
     "name": "stderr",
     "output_type": "stream",
     "text": [
      "Epoch [200/5000]: 100%|██████████| 9/9 [00:00<00:00, 409.97it/s, loss=2.22]\n"
     ]
    },
    {
     "name": "stdout",
     "output_type": "stream",
     "text": [
      "Epoch [200/5000]: Train loss: 2.2424, Valid loss: 1.6956\n"
     ]
    },
    {
     "name": "stderr",
     "output_type": "stream",
     "text": [
      "Epoch [201/5000]: 100%|██████████| 9/9 [00:00<00:00, 412.03it/s, loss=2.21]\n"
     ]
    },
    {
     "name": "stdout",
     "output_type": "stream",
     "text": [
      "Epoch [201/5000]: Train loss: 2.2642, Valid loss: 1.6795\n"
     ]
    },
    {
     "name": "stderr",
     "output_type": "stream",
     "text": [
      "Epoch [202/5000]: 100%|██████████| 9/9 [00:00<00:00, 409.60it/s, loss=2.87]\n"
     ]
    },
    {
     "name": "stdout",
     "output_type": "stream",
     "text": [
      "Epoch [202/5000]: Train loss: 2.3256, Valid loss: 2.0222\n"
     ]
    },
    {
     "name": "stderr",
     "output_type": "stream",
     "text": [
      "Epoch [203/5000]: 100%|██████████| 9/9 [00:00<00:00, 413.13it/s, loss=2.17]\n"
     ]
    },
    {
     "name": "stdout",
     "output_type": "stream",
     "text": [
      "Epoch [203/5000]: Train loss: 2.1391, Valid loss: 1.6251\n"
     ]
    },
    {
     "name": "stderr",
     "output_type": "stream",
     "text": [
      "Epoch [204/5000]: 100%|██████████| 9/9 [00:00<00:00, 400.57it/s, loss=1.98]\n"
     ]
    },
    {
     "name": "stdout",
     "output_type": "stream",
     "text": [
      "Epoch [204/5000]: Train loss: 2.2253, Valid loss: 1.7688\n"
     ]
    },
    {
     "name": "stderr",
     "output_type": "stream",
     "text": [
      "Epoch [205/5000]: 100%|██████████| 9/9 [00:00<00:00, 421.43it/s, loss=2.54]\n"
     ]
    },
    {
     "name": "stdout",
     "output_type": "stream",
     "text": [
      "Epoch [205/5000]: Train loss: 2.2748, Valid loss: 1.6660\n"
     ]
    },
    {
     "name": "stderr",
     "output_type": "stream",
     "text": [
      "Epoch [206/5000]: 100%|██████████| 9/9 [00:00<00:00, 410.25it/s, loss=2.23]\n"
     ]
    },
    {
     "name": "stdout",
     "output_type": "stream",
     "text": [
      "Epoch [206/5000]: Train loss: 2.1901, Valid loss: 1.5202\n",
      "Saving model with loss 1.520...\n"
     ]
    },
    {
     "name": "stderr",
     "output_type": "stream",
     "text": [
      "Epoch [207/5000]: 100%|██████████| 9/9 [00:00<00:00, 409.03it/s, loss=2.13]\n"
     ]
    },
    {
     "name": "stdout",
     "output_type": "stream",
     "text": [
      "Epoch [207/5000]: Train loss: 2.1739, Valid loss: 1.8219\n"
     ]
    },
    {
     "name": "stderr",
     "output_type": "stream",
     "text": [
      "Epoch [208/5000]: 100%|██████████| 9/9 [00:00<00:00, 416.12it/s, loss=2.09]\n"
     ]
    },
    {
     "name": "stdout",
     "output_type": "stream",
     "text": [
      "Epoch [208/5000]: Train loss: 2.1616, Valid loss: 1.6969\n"
     ]
    },
    {
     "name": "stderr",
     "output_type": "stream",
     "text": [
      "Epoch [209/5000]: 100%|██████████| 9/9 [00:00<00:00, 393.53it/s, loss=2.36]\n"
     ]
    },
    {
     "name": "stdout",
     "output_type": "stream",
     "text": [
      "Epoch [209/5000]: Train loss: 2.2210, Valid loss: 1.5577\n"
     ]
    },
    {
     "name": "stderr",
     "output_type": "stream",
     "text": [
      "Epoch [210/5000]: 100%|██████████| 9/9 [00:00<00:00, 418.57it/s, loss=2.16]\n"
     ]
    },
    {
     "name": "stdout",
     "output_type": "stream",
     "text": [
      "Epoch [210/5000]: Train loss: 2.1508, Valid loss: 1.7226\n"
     ]
    },
    {
     "name": "stderr",
     "output_type": "stream",
     "text": [
      "Epoch [211/5000]: 100%|██████████| 9/9 [00:00<00:00, 451.46it/s, loss=2.26]\n"
     ]
    },
    {
     "name": "stdout",
     "output_type": "stream",
     "text": [
      "Epoch [211/5000]: Train loss: 2.2521, Valid loss: 1.8501\n"
     ]
    },
    {
     "name": "stderr",
     "output_type": "stream",
     "text": [
      "Epoch [212/5000]: 100%|██████████| 9/9 [00:00<00:00, 465.71it/s, loss=2.11]\n"
     ]
    },
    {
     "name": "stdout",
     "output_type": "stream",
     "text": [
      "Epoch [212/5000]: Train loss: 2.1708, Valid loss: 1.6554\n"
     ]
    },
    {
     "name": "stderr",
     "output_type": "stream",
     "text": [
      "Epoch [213/5000]: 100%|██████████| 9/9 [00:00<00:00, 470.84it/s, loss=2.5]\n"
     ]
    },
    {
     "name": "stdout",
     "output_type": "stream",
     "text": [
      "Epoch [213/5000]: Train loss: 2.3205, Valid loss: 1.7284\n"
     ]
    },
    {
     "name": "stderr",
     "output_type": "stream",
     "text": [
      "Epoch [214/5000]: 100%|██████████| 9/9 [00:00<00:00, 474.16it/s, loss=2.53]\n"
     ]
    },
    {
     "name": "stdout",
     "output_type": "stream",
     "text": [
      "Epoch [214/5000]: Train loss: 2.2756, Valid loss: 1.8596\n"
     ]
    },
    {
     "name": "stderr",
     "output_type": "stream",
     "text": [
      "Epoch [215/5000]: 100%|██████████| 9/9 [00:00<00:00, 107.77it/s, loss=2.21]\n"
     ]
    },
    {
     "name": "stdout",
     "output_type": "stream",
     "text": [
      "Epoch [215/5000]: Train loss: 2.2036, Valid loss: 1.5056\n",
      "Saving model with loss 1.506...\n"
     ]
    },
    {
     "name": "stderr",
     "output_type": "stream",
     "text": [
      "Epoch [216/5000]: 100%|██████████| 9/9 [00:00<00:00, 422.42it/s, loss=2.22]\n"
     ]
    },
    {
     "name": "stdout",
     "output_type": "stream",
     "text": [
      "Epoch [216/5000]: Train loss: 2.2439, Valid loss: 1.5832\n"
     ]
    },
    {
     "name": "stderr",
     "output_type": "stream",
     "text": [
      "Epoch [217/5000]: 100%|██████████| 9/9 [00:00<00:00, 414.94it/s, loss=2.26]\n"
     ]
    },
    {
     "name": "stdout",
     "output_type": "stream",
     "text": [
      "Epoch [217/5000]: Train loss: 2.1731, Valid loss: 1.7032\n"
     ]
    },
    {
     "name": "stderr",
     "output_type": "stream",
     "text": [
      "Epoch [218/5000]: 100%|██████████| 9/9 [00:00<00:00, 459.21it/s, loss=2.27]\n"
     ]
    },
    {
     "name": "stdout",
     "output_type": "stream",
     "text": [
      "Epoch [218/5000]: Train loss: 2.1626, Valid loss: 1.7667\n"
     ]
    },
    {
     "name": "stderr",
     "output_type": "stream",
     "text": [
      "Epoch [219/5000]: 100%|██████████| 9/9 [00:00<00:00, 456.71it/s, loss=2.29]\n"
     ]
    },
    {
     "name": "stdout",
     "output_type": "stream",
     "text": [
      "Epoch [219/5000]: Train loss: 2.2489, Valid loss: 1.5748\n"
     ]
    },
    {
     "name": "stderr",
     "output_type": "stream",
     "text": [
      "Epoch [220/5000]: 100%|██████████| 9/9 [00:00<00:00, 473.12it/s, loss=2.3]\n"
     ]
    },
    {
     "name": "stdout",
     "output_type": "stream",
     "text": [
      "Epoch [220/5000]: Train loss: 2.1500, Valid loss: 1.5055\n",
      "Saving model with loss 1.506...\n"
     ]
    },
    {
     "name": "stderr",
     "output_type": "stream",
     "text": [
      "Epoch [221/5000]: 100%|██████████| 9/9 [00:00<00:00, 447.96it/s, loss=2.32]\n"
     ]
    },
    {
     "name": "stdout",
     "output_type": "stream",
     "text": [
      "Epoch [221/5000]: Train loss: 2.2104, Valid loss: 1.6590\n"
     ]
    },
    {
     "name": "stderr",
     "output_type": "stream",
     "text": [
      "Epoch [222/5000]: 100%|██████████| 9/9 [00:00<00:00, 473.38it/s, loss=2.34]\n"
     ]
    },
    {
     "name": "stdout",
     "output_type": "stream",
     "text": [
      "Epoch [222/5000]: Train loss: 2.1496, Valid loss: 1.7094\n"
     ]
    },
    {
     "name": "stderr",
     "output_type": "stream",
     "text": [
      "Epoch [223/5000]: 100%|██████████| 9/9 [00:00<00:00, 467.92it/s, loss=2.09]\n"
     ]
    },
    {
     "name": "stdout",
     "output_type": "stream",
     "text": [
      "Epoch [223/5000]: Train loss: 2.1493, Valid loss: 1.6226\n"
     ]
    },
    {
     "name": "stderr",
     "output_type": "stream",
     "text": [
      "Epoch [224/5000]: 100%|██████████| 9/9 [00:00<00:00, 463.92it/s, loss=1.91]\n"
     ]
    },
    {
     "name": "stdout",
     "output_type": "stream",
     "text": [
      "Epoch [224/5000]: Train loss: 2.1247, Valid loss: 1.5993\n"
     ]
    },
    {
     "name": "stderr",
     "output_type": "stream",
     "text": [
      "Epoch [225/5000]: 100%|██████████| 9/9 [00:00<00:00, 458.02it/s, loss=1.71]\n"
     ]
    },
    {
     "name": "stdout",
     "output_type": "stream",
     "text": [
      "Epoch [225/5000]: Train loss: 2.1276, Valid loss: 1.7359\n"
     ]
    },
    {
     "name": "stderr",
     "output_type": "stream",
     "text": [
      "Epoch [226/5000]: 100%|██████████| 9/9 [00:00<00:00, 465.72it/s, loss=2.48]\n"
     ]
    },
    {
     "name": "stdout",
     "output_type": "stream",
     "text": [
      "Epoch [226/5000]: Train loss: 2.2708, Valid loss: 1.9782\n"
     ]
    },
    {
     "name": "stderr",
     "output_type": "stream",
     "text": [
      "Epoch [227/5000]: 100%|██████████| 9/9 [00:00<00:00, 412.28it/s, loss=2.19]\n"
     ]
    },
    {
     "name": "stdout",
     "output_type": "stream",
     "text": [
      "Epoch [227/5000]: Train loss: 2.2432, Valid loss: 1.7537\n"
     ]
    },
    {
     "name": "stderr",
     "output_type": "stream",
     "text": [
      "Epoch [228/5000]: 100%|██████████| 9/9 [00:00<00:00, 461.14it/s, loss=1.93]\n"
     ]
    },
    {
     "name": "stdout",
     "output_type": "stream",
     "text": [
      "Epoch [228/5000]: Train loss: 2.1425, Valid loss: 1.5546\n"
     ]
    },
    {
     "name": "stderr",
     "output_type": "stream",
     "text": [
      "Epoch [229/5000]: 100%|██████████| 9/9 [00:00<00:00, 468.72it/s, loss=2.36]\n"
     ]
    },
    {
     "name": "stdout",
     "output_type": "stream",
     "text": [
      "Epoch [229/5000]: Train loss: 2.1386, Valid loss: 1.7728\n"
     ]
    },
    {
     "name": "stderr",
     "output_type": "stream",
     "text": [
      "Epoch [230/5000]: 100%|██████████| 9/9 [00:00<00:00, 475.96it/s, loss=2.34]\n"
     ]
    },
    {
     "name": "stdout",
     "output_type": "stream",
     "text": [
      "Epoch [230/5000]: Train loss: 2.1599, Valid loss: 1.4805\n",
      "Saving model with loss 1.481...\n"
     ]
    },
    {
     "name": "stderr",
     "output_type": "stream",
     "text": [
      "Epoch [231/5000]: 100%|██████████| 9/9 [00:00<00:00, 463.06it/s, loss=2.15]\n"
     ]
    },
    {
     "name": "stdout",
     "output_type": "stream",
     "text": [
      "Epoch [231/5000]: Train loss: 2.2018, Valid loss: 1.7833\n"
     ]
    },
    {
     "name": "stderr",
     "output_type": "stream",
     "text": [
      "Epoch [232/5000]: 100%|██████████| 9/9 [00:00<00:00, 447.07it/s, loss=2.4]\n"
     ]
    },
    {
     "name": "stdout",
     "output_type": "stream",
     "text": [
      "Epoch [232/5000]: Train loss: 2.1243, Valid loss: 1.7357\n"
     ]
    },
    {
     "name": "stderr",
     "output_type": "stream",
     "text": [
      "Epoch [233/5000]: 100%|██████████| 9/9 [00:00<00:00, 469.86it/s, loss=2.06]\n"
     ]
    },
    {
     "name": "stdout",
     "output_type": "stream",
     "text": [
      "Epoch [233/5000]: Train loss: 2.2102, Valid loss: 1.6548\n"
     ]
    },
    {
     "name": "stderr",
     "output_type": "stream",
     "text": [
      "Epoch [234/5000]: 100%|██████████| 9/9 [00:00<00:00, 465.91it/s, loss=2.22]\n"
     ]
    },
    {
     "name": "stdout",
     "output_type": "stream",
     "text": [
      "Epoch [234/5000]: Train loss: 2.2293, Valid loss: 1.5877\n"
     ]
    },
    {
     "name": "stderr",
     "output_type": "stream",
     "text": [
      "Epoch [235/5000]: 100%|██████████| 9/9 [00:00<00:00, 470.91it/s, loss=1.79]\n"
     ]
    },
    {
     "name": "stdout",
     "output_type": "stream",
     "text": [
      "Epoch [235/5000]: Train loss: 2.1296, Valid loss: 1.5870\n"
     ]
    },
    {
     "name": "stderr",
     "output_type": "stream",
     "text": [
      "Epoch [236/5000]: 100%|██████████| 9/9 [00:00<00:00, 439.73it/s, loss=2.4]\n"
     ]
    },
    {
     "name": "stdout",
     "output_type": "stream",
     "text": [
      "Epoch [236/5000]: Train loss: 2.1463, Valid loss: 1.6488\n"
     ]
    },
    {
     "name": "stderr",
     "output_type": "stream",
     "text": [
      "Epoch [237/5000]: 100%|██████████| 9/9 [00:00<00:00, 417.71it/s, loss=2.3]\n"
     ]
    },
    {
     "name": "stdout",
     "output_type": "stream",
     "text": [
      "Epoch [237/5000]: Train loss: 2.1554, Valid loss: 1.6827\n"
     ]
    },
    {
     "name": "stderr",
     "output_type": "stream",
     "text": [
      "Epoch [238/5000]: 100%|██████████| 9/9 [00:00<00:00, 465.16it/s, loss=1.78]\n"
     ]
    },
    {
     "name": "stdout",
     "output_type": "stream",
     "text": [
      "Epoch [238/5000]: Train loss: 2.0887, Valid loss: 1.6576\n"
     ]
    },
    {
     "name": "stderr",
     "output_type": "stream",
     "text": [
      "Epoch [239/5000]: 100%|██████████| 9/9 [00:00<00:00, 470.96it/s, loss=2.4]\n"
     ]
    },
    {
     "name": "stdout",
     "output_type": "stream",
     "text": [
      "Epoch [239/5000]: Train loss: 2.1564, Valid loss: 1.6293\n"
     ]
    },
    {
     "name": "stderr",
     "output_type": "stream",
     "text": [
      "Epoch [240/5000]: 100%|██████████| 9/9 [00:00<00:00, 462.42it/s, loss=1.91]\n"
     ]
    },
    {
     "name": "stdout",
     "output_type": "stream",
     "text": [
      "Epoch [240/5000]: Train loss: 2.1717, Valid loss: 1.6141\n"
     ]
    },
    {
     "name": "stderr",
     "output_type": "stream",
     "text": [
      "Epoch [241/5000]: 100%|██████████| 9/9 [00:00<00:00, 462.15it/s, loss=2.59]\n"
     ]
    },
    {
     "name": "stdout",
     "output_type": "stream",
     "text": [
      "Epoch [241/5000]: Train loss: 2.1715, Valid loss: 1.7237\n"
     ]
    },
    {
     "name": "stderr",
     "output_type": "stream",
     "text": [
      "Epoch [242/5000]: 100%|██████████| 9/9 [00:00<00:00, 464.92it/s, loss=2.5]\n"
     ]
    },
    {
     "name": "stdout",
     "output_type": "stream",
     "text": [
      "Epoch [242/5000]: Train loss: 2.1826, Valid loss: 1.6035\n"
     ]
    },
    {
     "name": "stderr",
     "output_type": "stream",
     "text": [
      "Epoch [243/5000]: 100%|██████████| 9/9 [00:00<00:00, 463.15it/s, loss=2.03]\n"
     ]
    },
    {
     "name": "stdout",
     "output_type": "stream",
     "text": [
      "Epoch [243/5000]: Train loss: 2.1903, Valid loss: 1.7124\n"
     ]
    },
    {
     "name": "stderr",
     "output_type": "stream",
     "text": [
      "Epoch [244/5000]: 100%|██████████| 9/9 [00:00<00:00, 447.94it/s, loss=2.23]\n"
     ]
    },
    {
     "name": "stdout",
     "output_type": "stream",
     "text": [
      "Epoch [244/5000]: Train loss: 2.2210, Valid loss: 1.6570\n"
     ]
    },
    {
     "name": "stderr",
     "output_type": "stream",
     "text": [
      "Epoch [245/5000]: 100%|██████████| 9/9 [00:00<00:00, 462.39it/s, loss=2.15]\n"
     ]
    },
    {
     "name": "stdout",
     "output_type": "stream",
     "text": [
      "Epoch [245/5000]: Train loss: 2.1684, Valid loss: 1.6815\n"
     ]
    },
    {
     "name": "stderr",
     "output_type": "stream",
     "text": [
      "Epoch [246/5000]: 100%|██████████| 9/9 [00:00<00:00, 478.57it/s, loss=2.46]\n"
     ]
    },
    {
     "name": "stdout",
     "output_type": "stream",
     "text": [
      "Epoch [246/5000]: Train loss: 2.2178, Valid loss: 1.7510\n"
     ]
    },
    {
     "name": "stderr",
     "output_type": "stream",
     "text": [
      "Epoch [247/5000]: 100%|██████████| 9/9 [00:00<00:00, 471.65it/s, loss=2.08]\n"
     ]
    },
    {
     "name": "stdout",
     "output_type": "stream",
     "text": [
      "Epoch [247/5000]: Train loss: 2.1271, Valid loss: 1.7420\n"
     ]
    },
    {
     "name": "stderr",
     "output_type": "stream",
     "text": [
      "Epoch [248/5000]: 100%|██████████| 9/9 [00:00<00:00, 451.14it/s, loss=1.64]\n"
     ]
    },
    {
     "name": "stdout",
     "output_type": "stream",
     "text": [
      "Epoch [248/5000]: Train loss: 2.0858, Valid loss: 1.6032\n"
     ]
    },
    {
     "name": "stderr",
     "output_type": "stream",
     "text": [
      "Epoch [249/5000]: 100%|██████████| 9/9 [00:00<00:00, 452.72it/s, loss=2.17]\n"
     ]
    },
    {
     "name": "stdout",
     "output_type": "stream",
     "text": [
      "Epoch [249/5000]: Train loss: 2.2027, Valid loss: 1.6280\n"
     ]
    },
    {
     "name": "stderr",
     "output_type": "stream",
     "text": [
      "Epoch [250/5000]: 100%|██████████| 9/9 [00:00<00:00, 467.66it/s, loss=2.06]\n"
     ]
    },
    {
     "name": "stdout",
     "output_type": "stream",
     "text": [
      "Epoch [250/5000]: Train loss: 2.1422, Valid loss: 1.5377\n"
     ]
    },
    {
     "name": "stderr",
     "output_type": "stream",
     "text": [
      "Epoch [251/5000]: 100%|██████████| 9/9 [00:00<00:00, 476.76it/s, loss=2.44]\n"
     ]
    },
    {
     "name": "stdout",
     "output_type": "stream",
     "text": [
      "Epoch [251/5000]: Train loss: 2.1856, Valid loss: 1.6248\n"
     ]
    },
    {
     "name": "stderr",
     "output_type": "stream",
     "text": [
      "Epoch [252/5000]: 100%|██████████| 9/9 [00:00<00:00, 464.97it/s, loss=2.27]\n"
     ]
    },
    {
     "name": "stdout",
     "output_type": "stream",
     "text": [
      "Epoch [252/5000]: Train loss: 2.1928, Valid loss: 1.7901\n"
     ]
    },
    {
     "name": "stderr",
     "output_type": "stream",
     "text": [
      "Epoch [253/5000]: 100%|██████████| 9/9 [00:00<00:00, 467.55it/s, loss=1.95]\n"
     ]
    },
    {
     "name": "stdout",
     "output_type": "stream",
     "text": [
      "Epoch [253/5000]: Train loss: 2.0951, Valid loss: 1.6520\n"
     ]
    },
    {
     "name": "stderr",
     "output_type": "stream",
     "text": [
      "Epoch [254/5000]: 100%|██████████| 9/9 [00:00<00:00, 473.83it/s, loss=1.88]\n"
     ]
    },
    {
     "name": "stdout",
     "output_type": "stream",
     "text": [
      "Epoch [254/5000]: Train loss: 2.1980, Valid loss: 1.5888\n"
     ]
    },
    {
     "name": "stderr",
     "output_type": "stream",
     "text": [
      "Epoch [255/5000]: 100%|██████████| 9/9 [00:00<00:00, 466.61it/s, loss=2.45]\n"
     ]
    },
    {
     "name": "stdout",
     "output_type": "stream",
     "text": [
      "Epoch [255/5000]: Train loss: 2.1703, Valid loss: 1.5728\n"
     ]
    },
    {
     "name": "stderr",
     "output_type": "stream",
     "text": [
      "Epoch [256/5000]: 100%|██████████| 9/9 [00:00<00:00, 470.78it/s, loss=2.64]\n"
     ]
    },
    {
     "name": "stdout",
     "output_type": "stream",
     "text": [
      "Epoch [256/5000]: Train loss: 2.2522, Valid loss: 1.5164\n"
     ]
    },
    {
     "name": "stderr",
     "output_type": "stream",
     "text": [
      "Epoch [257/5000]: 100%|██████████| 9/9 [00:00<00:00, 466.56it/s, loss=2.24]\n"
     ]
    },
    {
     "name": "stdout",
     "output_type": "stream",
     "text": [
      "Epoch [257/5000]: Train loss: 2.2778, Valid loss: 1.8027\n"
     ]
    },
    {
     "name": "stderr",
     "output_type": "stream",
     "text": [
      "Epoch [258/5000]: 100%|██████████| 9/9 [00:00<00:00, 461.78it/s, loss=2.03]\n"
     ]
    },
    {
     "name": "stdout",
     "output_type": "stream",
     "text": [
      "Epoch [258/5000]: Train loss: 2.2067, Valid loss: 1.6875\n"
     ]
    },
    {
     "name": "stderr",
     "output_type": "stream",
     "text": [
      "Epoch [259/5000]: 100%|██████████| 9/9 [00:00<00:00, 435.14it/s, loss=2.11]\n"
     ]
    },
    {
     "name": "stdout",
     "output_type": "stream",
     "text": [
      "Epoch [259/5000]: Train loss: 2.1820, Valid loss: 1.5783\n"
     ]
    },
    {
     "name": "stderr",
     "output_type": "stream",
     "text": [
      "Epoch [260/5000]: 100%|██████████| 9/9 [00:00<00:00, 444.58it/s, loss=2.01]\n"
     ]
    },
    {
     "name": "stdout",
     "output_type": "stream",
     "text": [
      "Epoch [260/5000]: Train loss: 2.1596, Valid loss: 1.9626\n"
     ]
    },
    {
     "name": "stderr",
     "output_type": "stream",
     "text": [
      "Epoch [261/5000]: 100%|██████████| 9/9 [00:00<00:00, 462.08it/s, loss=2.52]\n"
     ]
    },
    {
     "name": "stdout",
     "output_type": "stream",
     "text": [
      "Epoch [261/5000]: Train loss: 2.2396, Valid loss: 2.5995\n"
     ]
    },
    {
     "name": "stderr",
     "output_type": "stream",
     "text": [
      "Epoch [262/5000]: 100%|██████████| 9/9 [00:00<00:00, 466.03it/s, loss=2.33]\n"
     ]
    },
    {
     "name": "stdout",
     "output_type": "stream",
     "text": [
      "Epoch [262/5000]: Train loss: 2.2389, Valid loss: 1.7329\n"
     ]
    },
    {
     "name": "stderr",
     "output_type": "stream",
     "text": [
      "Epoch [263/5000]: 100%|██████████| 9/9 [00:00<00:00, 463.61it/s, loss=1.93]\n"
     ]
    },
    {
     "name": "stdout",
     "output_type": "stream",
     "text": [
      "Epoch [263/5000]: Train loss: 2.1072, Valid loss: 1.5457\n"
     ]
    },
    {
     "name": "stderr",
     "output_type": "stream",
     "text": [
      "Epoch [264/5000]: 100%|██████████| 9/9 [00:00<00:00, 470.19it/s, loss=2.23]\n"
     ]
    },
    {
     "name": "stdout",
     "output_type": "stream",
     "text": [
      "Epoch [264/5000]: Train loss: 2.1973, Valid loss: 1.7190\n"
     ]
    },
    {
     "name": "stderr",
     "output_type": "stream",
     "text": [
      "Epoch [265/5000]: 100%|██████████| 9/9 [00:00<00:00, 441.71it/s, loss=2.11]\n"
     ]
    },
    {
     "name": "stdout",
     "output_type": "stream",
     "text": [
      "Epoch [265/5000]: Train loss: 2.1090, Valid loss: 1.8117\n"
     ]
    },
    {
     "name": "stderr",
     "output_type": "stream",
     "text": [
      "Epoch [266/5000]: 100%|██████████| 9/9 [00:00<00:00, 461.44it/s, loss=2.2]\n"
     ]
    },
    {
     "name": "stdout",
     "output_type": "stream",
     "text": [
      "Epoch [266/5000]: Train loss: 2.1291, Valid loss: 1.5510\n"
     ]
    },
    {
     "name": "stderr",
     "output_type": "stream",
     "text": [
      "Epoch [267/5000]: 100%|██████████| 9/9 [00:00<00:00, 473.69it/s, loss=2.15]\n"
     ]
    },
    {
     "name": "stdout",
     "output_type": "stream",
     "text": [
      "Epoch [267/5000]: Train loss: 2.1411, Valid loss: 1.5677\n"
     ]
    },
    {
     "name": "stderr",
     "output_type": "stream",
     "text": [
      "Epoch [268/5000]: 100%|██████████| 9/9 [00:00<00:00, 467.82it/s, loss=2.3]\n"
     ]
    },
    {
     "name": "stdout",
     "output_type": "stream",
     "text": [
      "Epoch [268/5000]: Train loss: 2.2068, Valid loss: 2.2506\n"
     ]
    },
    {
     "name": "stderr",
     "output_type": "stream",
     "text": [
      "Epoch [269/5000]: 100%|██████████| 9/9 [00:00<00:00, 435.26it/s, loss=2]\n"
     ]
    },
    {
     "name": "stdout",
     "output_type": "stream",
     "text": [
      "Epoch [269/5000]: Train loss: 2.1755, Valid loss: 2.1961\n"
     ]
    },
    {
     "name": "stderr",
     "output_type": "stream",
     "text": [
      "Epoch [270/5000]: 100%|██████████| 9/9 [00:00<00:00, 437.19it/s, loss=2.03]\n"
     ]
    },
    {
     "name": "stdout",
     "output_type": "stream",
     "text": [
      "Epoch [270/5000]: Train loss: 2.1843, Valid loss: 2.2932\n"
     ]
    },
    {
     "name": "stderr",
     "output_type": "stream",
     "text": [
      "Epoch [271/5000]: 100%|██████████| 9/9 [00:00<00:00, 467.00it/s, loss=2.37]\n"
     ]
    },
    {
     "name": "stdout",
     "output_type": "stream",
     "text": [
      "Epoch [271/5000]: Train loss: 2.1899, Valid loss: 1.8528\n"
     ]
    },
    {
     "name": "stderr",
     "output_type": "stream",
     "text": [
      "Epoch [272/5000]: 100%|██████████| 9/9 [00:00<00:00, 464.09it/s, loss=2.26]\n"
     ]
    },
    {
     "name": "stdout",
     "output_type": "stream",
     "text": [
      "Epoch [272/5000]: Train loss: 2.1657, Valid loss: 1.6450\n"
     ]
    },
    {
     "name": "stderr",
     "output_type": "stream",
     "text": [
      "Epoch [273/5000]: 100%|██████████| 9/9 [00:00<00:00, 469.04it/s, loss=2.41]\n"
     ]
    },
    {
     "name": "stdout",
     "output_type": "stream",
     "text": [
      "Epoch [273/5000]: Train loss: 2.1301, Valid loss: 1.9424\n"
     ]
    },
    {
     "name": "stderr",
     "output_type": "stream",
     "text": [
      "Epoch [274/5000]: 100%|██████████| 9/9 [00:00<00:00, 471.08it/s, loss=2.5]\n"
     ]
    },
    {
     "name": "stdout",
     "output_type": "stream",
     "text": [
      "Epoch [274/5000]: Train loss: 2.1541, Valid loss: 1.6763\n"
     ]
    },
    {
     "name": "stderr",
     "output_type": "stream",
     "text": [
      "Epoch [275/5000]: 100%|██████████| 9/9 [00:00<00:00, 467.19it/s, loss=1.94]\n"
     ]
    },
    {
     "name": "stdout",
     "output_type": "stream",
     "text": [
      "Epoch [275/5000]: Train loss: 2.0836, Valid loss: 1.8356\n"
     ]
    },
    {
     "name": "stderr",
     "output_type": "stream",
     "text": [
      "Epoch [276/5000]: 100%|██████████| 9/9 [00:00<00:00, 455.30it/s, loss=1.83]\n"
     ]
    },
    {
     "name": "stdout",
     "output_type": "stream",
     "text": [
      "Epoch [276/5000]: Train loss: 2.0600, Valid loss: 1.5356\n"
     ]
    },
    {
     "name": "stderr",
     "output_type": "stream",
     "text": [
      "Epoch [277/5000]: 100%|██████████| 9/9 [00:00<00:00, 472.19it/s, loss=2.14]\n"
     ]
    },
    {
     "name": "stdout",
     "output_type": "stream",
     "text": [
      "Epoch [277/5000]: Train loss: 2.1087, Valid loss: 1.6690\n"
     ]
    },
    {
     "name": "stderr",
     "output_type": "stream",
     "text": [
      "Epoch [278/5000]: 100%|██████████| 9/9 [00:00<00:00, 473.94it/s, loss=2.28]\n"
     ]
    },
    {
     "name": "stdout",
     "output_type": "stream",
     "text": [
      "Epoch [278/5000]: Train loss: 2.1040, Valid loss: 1.6271\n"
     ]
    },
    {
     "name": "stderr",
     "output_type": "stream",
     "text": [
      "Epoch [279/5000]: 100%|██████████| 9/9 [00:00<00:00, 435.50it/s, loss=1.73]\n"
     ]
    },
    {
     "name": "stdout",
     "output_type": "stream",
     "text": [
      "Epoch [279/5000]: Train loss: 2.0418, Valid loss: 1.6990\n"
     ]
    },
    {
     "name": "stderr",
     "output_type": "stream",
     "text": [
      "Epoch [280/5000]: 100%|██████████| 9/9 [00:00<00:00, 443.57it/s, loss=2.02]\n"
     ]
    },
    {
     "name": "stdout",
     "output_type": "stream",
     "text": [
      "Epoch [280/5000]: Train loss: 2.1482, Valid loss: 1.5773\n"
     ]
    },
    {
     "name": "stderr",
     "output_type": "stream",
     "text": [
      "Epoch [281/5000]: 100%|██████████| 9/9 [00:00<00:00, 458.08it/s, loss=2.03]\n"
     ]
    },
    {
     "name": "stdout",
     "output_type": "stream",
     "text": [
      "Epoch [281/5000]: Train loss: 1.9896, Valid loss: 2.1789\n"
     ]
    },
    {
     "name": "stderr",
     "output_type": "stream",
     "text": [
      "Epoch [282/5000]: 100%|██████████| 9/9 [00:00<00:00, 461.74it/s, loss=1.73]\n"
     ]
    },
    {
     "name": "stdout",
     "output_type": "stream",
     "text": [
      "Epoch [282/5000]: Train loss: 2.0542, Valid loss: 2.1125\n"
     ]
    },
    {
     "name": "stderr",
     "output_type": "stream",
     "text": [
      "Epoch [283/5000]: 100%|██████████| 9/9 [00:00<00:00, 466.78it/s, loss=2.38]\n"
     ]
    },
    {
     "name": "stdout",
     "output_type": "stream",
     "text": [
      "Epoch [283/5000]: Train loss: 2.1957, Valid loss: 2.0404\n"
     ]
    },
    {
     "name": "stderr",
     "output_type": "stream",
     "text": [
      "Epoch [284/5000]: 100%|██████████| 9/9 [00:00<00:00, 451.08it/s, loss=1.89]\n"
     ]
    },
    {
     "name": "stdout",
     "output_type": "stream",
     "text": [
      "Epoch [284/5000]: Train loss: 2.0396, Valid loss: 1.8871\n"
     ]
    },
    {
     "name": "stderr",
     "output_type": "stream",
     "text": [
      "Epoch [285/5000]: 100%|██████████| 9/9 [00:00<00:00, 458.39it/s, loss=2.04]\n"
     ]
    },
    {
     "name": "stdout",
     "output_type": "stream",
     "text": [
      "Epoch [285/5000]: Train loss: 2.1575, Valid loss: 1.6588\n"
     ]
    },
    {
     "name": "stderr",
     "output_type": "stream",
     "text": [
      "Epoch [286/5000]: 100%|██████████| 9/9 [00:00<00:00, 475.56it/s, loss=1.87]\n"
     ]
    },
    {
     "name": "stdout",
     "output_type": "stream",
     "text": [
      "Epoch [286/5000]: Train loss: 2.0801, Valid loss: 1.8054\n"
     ]
    },
    {
     "name": "stderr",
     "output_type": "stream",
     "text": [
      "Epoch [287/5000]: 100%|██████████| 9/9 [00:00<00:00, 419.27it/s, loss=2.37]\n"
     ]
    },
    {
     "name": "stdout",
     "output_type": "stream",
     "text": [
      "Epoch [287/5000]: Train loss: 2.1530, Valid loss: 1.4873\n"
     ]
    },
    {
     "name": "stderr",
     "output_type": "stream",
     "text": [
      "Epoch [288/5000]: 100%|██████████| 9/9 [00:00<00:00, 449.80it/s, loss=2]\n"
     ]
    },
    {
     "name": "stdout",
     "output_type": "stream",
     "text": [
      "Epoch [288/5000]: Train loss: 2.0998, Valid loss: 1.8393\n"
     ]
    },
    {
     "name": "stderr",
     "output_type": "stream",
     "text": [
      "Epoch [289/5000]: 100%|██████████| 9/9 [00:00<00:00, 477.76it/s, loss=2.2]\n"
     ]
    },
    {
     "name": "stdout",
     "output_type": "stream",
     "text": [
      "Epoch [289/5000]: Train loss: 2.1822, Valid loss: 1.9271\n"
     ]
    },
    {
     "name": "stderr",
     "output_type": "stream",
     "text": [
      "Epoch [290/5000]: 100%|██████████| 9/9 [00:00<00:00, 464.68it/s, loss=1.87]\n"
     ]
    },
    {
     "name": "stdout",
     "output_type": "stream",
     "text": [
      "Epoch [290/5000]: Train loss: 2.1498, Valid loss: 2.0633\n"
     ]
    },
    {
     "name": "stderr",
     "output_type": "stream",
     "text": [
      "Epoch [291/5000]: 100%|██████████| 9/9 [00:00<00:00, 437.60it/s, loss=1.98]\n"
     ]
    },
    {
     "name": "stdout",
     "output_type": "stream",
     "text": [
      "Epoch [291/5000]: Train loss: 2.0925, Valid loss: 1.6659\n"
     ]
    },
    {
     "name": "stderr",
     "output_type": "stream",
     "text": [
      "Epoch [292/5000]: 100%|██████████| 9/9 [00:00<00:00, 446.96it/s, loss=2.07]\n"
     ]
    },
    {
     "name": "stdout",
     "output_type": "stream",
     "text": [
      "Epoch [292/5000]: Train loss: 2.0876, Valid loss: 1.6474\n"
     ]
    },
    {
     "name": "stderr",
     "output_type": "stream",
     "text": [
      "Epoch [293/5000]: 100%|██████████| 9/9 [00:00<00:00, 176.37it/s, loss=1.84]\n"
     ]
    },
    {
     "name": "stdout",
     "output_type": "stream",
     "text": [
      "Epoch [293/5000]: Train loss: 2.0586, Valid loss: 1.9904\n"
     ]
    },
    {
     "name": "stderr",
     "output_type": "stream",
     "text": [
      "Epoch [294/5000]: 100%|██████████| 9/9 [00:00<00:00, 371.76it/s, loss=2.05]\n"
     ]
    },
    {
     "name": "stdout",
     "output_type": "stream",
     "text": [
      "Epoch [294/5000]: Train loss: 2.1452, Valid loss: 1.4516\n",
      "Saving model with loss 1.452...\n"
     ]
    },
    {
     "name": "stderr",
     "output_type": "stream",
     "text": [
      "Epoch [295/5000]: 100%|██████████| 9/9 [00:00<00:00, 419.13it/s, loss=1.89]\n"
     ]
    },
    {
     "name": "stdout",
     "output_type": "stream",
     "text": [
      "Epoch [295/5000]: Train loss: 2.0333, Valid loss: 1.6930\n"
     ]
    },
    {
     "name": "stderr",
     "output_type": "stream",
     "text": [
      "Epoch [296/5000]: 100%|██████████| 9/9 [00:00<00:00, 415.57it/s, loss=1.96]\n"
     ]
    },
    {
     "name": "stdout",
     "output_type": "stream",
     "text": [
      "Epoch [296/5000]: Train loss: 2.1028, Valid loss: 1.4530\n"
     ]
    },
    {
     "name": "stderr",
     "output_type": "stream",
     "text": [
      "Epoch [297/5000]: 100%|██████████| 9/9 [00:00<00:00, 409.32it/s, loss=2]\n"
     ]
    },
    {
     "name": "stdout",
     "output_type": "stream",
     "text": [
      "Epoch [297/5000]: Train loss: 1.9962, Valid loss: 1.6207\n"
     ]
    },
    {
     "name": "stderr",
     "output_type": "stream",
     "text": [
      "Epoch [298/5000]: 100%|██████████| 9/9 [00:00<00:00, 417.05it/s, loss=2.28]\n"
     ]
    },
    {
     "name": "stdout",
     "output_type": "stream",
     "text": [
      "Epoch [298/5000]: Train loss: 2.0645, Valid loss: 1.4700\n"
     ]
    },
    {
     "name": "stderr",
     "output_type": "stream",
     "text": [
      "Epoch [299/5000]: 100%|██████████| 9/9 [00:00<00:00, 401.37it/s, loss=2.05]\n"
     ]
    },
    {
     "name": "stdout",
     "output_type": "stream",
     "text": [
      "Epoch [299/5000]: Train loss: 2.0818, Valid loss: 1.7521\n"
     ]
    },
    {
     "name": "stderr",
     "output_type": "stream",
     "text": [
      "Epoch [300/5000]: 100%|██████████| 9/9 [00:00<00:00, 401.43it/s, loss=2.13]\n"
     ]
    },
    {
     "name": "stdout",
     "output_type": "stream",
     "text": [
      "Epoch [300/5000]: Train loss: 2.0513, Valid loss: 1.4663\n"
     ]
    },
    {
     "name": "stderr",
     "output_type": "stream",
     "text": [
      "Epoch [301/5000]: 100%|██████████| 9/9 [00:00<00:00, 419.70it/s, loss=1.96]\n"
     ]
    },
    {
     "name": "stdout",
     "output_type": "stream",
     "text": [
      "Epoch [301/5000]: Train loss: 2.0121, Valid loss: 1.8397\n"
     ]
    },
    {
     "name": "stderr",
     "output_type": "stream",
     "text": [
      "Epoch [302/5000]: 100%|██████████| 9/9 [00:00<00:00, 387.73it/s, loss=2.13]\n"
     ]
    },
    {
     "name": "stdout",
     "output_type": "stream",
     "text": [
      "Epoch [302/5000]: Train loss: 2.0729, Valid loss: 2.0246\n"
     ]
    },
    {
     "name": "stderr",
     "output_type": "stream",
     "text": [
      "Epoch [303/5000]: 100%|██████████| 9/9 [00:00<00:00, 455.41it/s, loss=2.06]\n"
     ]
    },
    {
     "name": "stdout",
     "output_type": "stream",
     "text": [
      "Epoch [303/5000]: Train loss: 2.0140, Valid loss: 2.1051\n"
     ]
    },
    {
     "name": "stderr",
     "output_type": "stream",
     "text": [
      "Epoch [304/5000]: 100%|██████████| 9/9 [00:00<00:00, 469.53it/s, loss=1.95]\n"
     ]
    },
    {
     "name": "stdout",
     "output_type": "stream",
     "text": [
      "Epoch [304/5000]: Train loss: 2.0447, Valid loss: 1.8007\n"
     ]
    },
    {
     "name": "stderr",
     "output_type": "stream",
     "text": [
      "Epoch [305/5000]: 100%|██████████| 9/9 [00:00<00:00, 469.93it/s, loss=2]\n"
     ]
    },
    {
     "name": "stdout",
     "output_type": "stream",
     "text": [
      "Epoch [305/5000]: Train loss: 1.9676, Valid loss: 1.5977\n"
     ]
    },
    {
     "name": "stderr",
     "output_type": "stream",
     "text": [
      "Epoch [306/5000]: 100%|██████████| 9/9 [00:00<00:00, 472.66it/s, loss=2.04]\n"
     ]
    },
    {
     "name": "stdout",
     "output_type": "stream",
     "text": [
      "Epoch [306/5000]: Train loss: 2.0472, Valid loss: 1.4239\n",
      "Saving model with loss 1.424...\n"
     ]
    },
    {
     "name": "stderr",
     "output_type": "stream",
     "text": [
      "Epoch [307/5000]: 100%|██████████| 9/9 [00:00<00:00, 427.66it/s, loss=2.97]\n"
     ]
    },
    {
     "name": "stdout",
     "output_type": "stream",
     "text": [
      "Epoch [307/5000]: Train loss: 2.1513, Valid loss: 1.7255\n"
     ]
    },
    {
     "name": "stderr",
     "output_type": "stream",
     "text": [
      "Epoch [308/5000]: 100%|██████████| 9/9 [00:00<00:00, 450.76it/s, loss=2.01]\n"
     ]
    },
    {
     "name": "stdout",
     "output_type": "stream",
     "text": [
      "Epoch [308/5000]: Train loss: 1.9452, Valid loss: 1.5807\n"
     ]
    },
    {
     "name": "stderr",
     "output_type": "stream",
     "text": [
      "Epoch [309/5000]: 100%|██████████| 9/9 [00:00<00:00, 405.75it/s, loss=1.78]\n"
     ]
    },
    {
     "name": "stdout",
     "output_type": "stream",
     "text": [
      "Epoch [309/5000]: Train loss: 2.0279, Valid loss: 1.6942\n"
     ]
    },
    {
     "name": "stderr",
     "output_type": "stream",
     "text": [
      "Epoch [310/5000]: 100%|██████████| 9/9 [00:00<00:00, 471.52it/s, loss=1.97]\n"
     ]
    },
    {
     "name": "stdout",
     "output_type": "stream",
     "text": [
      "Epoch [310/5000]: Train loss: 1.9928, Valid loss: 1.5697\n"
     ]
    },
    {
     "name": "stderr",
     "output_type": "stream",
     "text": [
      "Epoch [311/5000]: 100%|██████████| 9/9 [00:00<00:00, 467.12it/s, loss=1.89]\n"
     ]
    },
    {
     "name": "stdout",
     "output_type": "stream",
     "text": [
      "Epoch [311/5000]: Train loss: 1.9710, Valid loss: 1.6400\n"
     ]
    },
    {
     "name": "stderr",
     "output_type": "stream",
     "text": [
      "Epoch [312/5000]: 100%|██████████| 9/9 [00:00<00:00, 462.65it/s, loss=2.1]\n"
     ]
    },
    {
     "name": "stdout",
     "output_type": "stream",
     "text": [
      "Epoch [312/5000]: Train loss: 2.0333, Valid loss: 1.7044\n"
     ]
    },
    {
     "name": "stderr",
     "output_type": "stream",
     "text": [
      "Epoch [313/5000]: 100%|██████████| 9/9 [00:00<00:00, 467.24it/s, loss=2.31]\n"
     ]
    },
    {
     "name": "stdout",
     "output_type": "stream",
     "text": [
      "Epoch [313/5000]: Train loss: 2.0825, Valid loss: 1.7645\n"
     ]
    },
    {
     "name": "stderr",
     "output_type": "stream",
     "text": [
      "Epoch [314/5000]: 100%|██████████| 9/9 [00:00<00:00, 456.50it/s, loss=2.01]\n"
     ]
    },
    {
     "name": "stdout",
     "output_type": "stream",
     "text": [
      "Epoch [314/5000]: Train loss: 1.9300, Valid loss: 1.4818\n"
     ]
    },
    {
     "name": "stderr",
     "output_type": "stream",
     "text": [
      "Epoch [315/5000]: 100%|██████████| 9/9 [00:00<00:00, 484.02it/s, loss=1.9]\n"
     ]
    },
    {
     "name": "stdout",
     "output_type": "stream",
     "text": [
      "Epoch [315/5000]: Train loss: 1.9934, Valid loss: 1.8941\n"
     ]
    },
    {
     "name": "stderr",
     "output_type": "stream",
     "text": [
      "Epoch [316/5000]: 100%|██████████| 9/9 [00:00<00:00, 463.49it/s, loss=2.33]\n"
     ]
    },
    {
     "name": "stdout",
     "output_type": "stream",
     "text": [
      "Epoch [316/5000]: Train loss: 1.9787, Valid loss: 1.4566\n"
     ]
    },
    {
     "name": "stderr",
     "output_type": "stream",
     "text": [
      "Epoch [317/5000]: 100%|██████████| 9/9 [00:00<00:00, 458.18it/s, loss=1.76]\n"
     ]
    },
    {
     "name": "stdout",
     "output_type": "stream",
     "text": [
      "Epoch [317/5000]: Train loss: 1.9380, Valid loss: 1.5910\n"
     ]
    },
    {
     "name": "stderr",
     "output_type": "stream",
     "text": [
      "Epoch [318/5000]: 100%|██████████| 9/9 [00:00<00:00, 417.91it/s, loss=2.11]\n"
     ]
    },
    {
     "name": "stdout",
     "output_type": "stream",
     "text": [
      "Epoch [318/5000]: Train loss: 2.0089, Valid loss: 1.3433\n",
      "Saving model with loss 1.343...\n"
     ]
    },
    {
     "name": "stderr",
     "output_type": "stream",
     "text": [
      "Epoch [319/5000]: 100%|██████████| 9/9 [00:00<00:00, 346.68it/s, loss=1.97]\n"
     ]
    },
    {
     "name": "stdout",
     "output_type": "stream",
     "text": [
      "Epoch [319/5000]: Train loss: 1.9927, Valid loss: 1.6264\n"
     ]
    },
    {
     "name": "stderr",
     "output_type": "stream",
     "text": [
      "Epoch [320/5000]: 100%|██████████| 9/9 [00:00<00:00, 399.20it/s, loss=1.78]\n"
     ]
    },
    {
     "name": "stdout",
     "output_type": "stream",
     "text": [
      "Epoch [320/5000]: Train loss: 1.9071, Valid loss: 1.3845\n"
     ]
    },
    {
     "name": "stderr",
     "output_type": "stream",
     "text": [
      "Epoch [321/5000]: 100%|██████████| 9/9 [00:00<00:00, 446.94it/s, loss=2.26]\n"
     ]
    },
    {
     "name": "stdout",
     "output_type": "stream",
     "text": [
      "Epoch [321/5000]: Train loss: 1.9746, Valid loss: 1.5095\n"
     ]
    },
    {
     "name": "stderr",
     "output_type": "stream",
     "text": [
      "Epoch [322/5000]: 100%|██████████| 9/9 [00:00<00:00, 451.83it/s, loss=2.24]\n"
     ]
    },
    {
     "name": "stdout",
     "output_type": "stream",
     "text": [
      "Epoch [322/5000]: Train loss: 1.9816, Valid loss: 1.3315\n",
      "Saving model with loss 1.332...\n"
     ]
    },
    {
     "name": "stderr",
     "output_type": "stream",
     "text": [
      "Epoch [323/5000]: 100%|██████████| 9/9 [00:00<00:00, 451.72it/s, loss=1.96]\n"
     ]
    },
    {
     "name": "stdout",
     "output_type": "stream",
     "text": [
      "Epoch [323/5000]: Train loss: 1.9593, Valid loss: 1.4619\n"
     ]
    },
    {
     "name": "stderr",
     "output_type": "stream",
     "text": [
      "Epoch [324/5000]: 100%|██████████| 9/9 [00:00<00:00, 462.98it/s, loss=1.97]\n"
     ]
    },
    {
     "name": "stdout",
     "output_type": "stream",
     "text": [
      "Epoch [324/5000]: Train loss: 1.9940, Valid loss: 1.6378\n"
     ]
    },
    {
     "name": "stderr",
     "output_type": "stream",
     "text": [
      "Epoch [325/5000]: 100%|██████████| 9/9 [00:00<00:00, 465.02it/s, loss=1.86]\n"
     ]
    },
    {
     "name": "stdout",
     "output_type": "stream",
     "text": [
      "Epoch [325/5000]: Train loss: 1.9646, Valid loss: 1.5154\n"
     ]
    },
    {
     "name": "stderr",
     "output_type": "stream",
     "text": [
      "Epoch [326/5000]: 100%|██████████| 9/9 [00:00<00:00, 462.30it/s, loss=2.53]\n"
     ]
    },
    {
     "name": "stdout",
     "output_type": "stream",
     "text": [
      "Epoch [326/5000]: Train loss: 2.0388, Valid loss: 1.4194\n"
     ]
    },
    {
     "name": "stderr",
     "output_type": "stream",
     "text": [
      "Epoch [327/5000]: 100%|██████████| 9/9 [00:00<00:00, 406.93it/s, loss=1.64]\n"
     ]
    },
    {
     "name": "stdout",
     "output_type": "stream",
     "text": [
      "Epoch [327/5000]: Train loss: 1.9227, Valid loss: 1.4118\n"
     ]
    },
    {
     "name": "stderr",
     "output_type": "stream",
     "text": [
      "Epoch [328/5000]: 100%|██████████| 9/9 [00:00<00:00, 454.48it/s, loss=2.2]\n"
     ]
    },
    {
     "name": "stdout",
     "output_type": "stream",
     "text": [
      "Epoch [328/5000]: Train loss: 2.0674, Valid loss: 1.5123\n"
     ]
    },
    {
     "name": "stderr",
     "output_type": "stream",
     "text": [
      "Epoch [329/5000]: 100%|██████████| 9/9 [00:00<00:00, 456.69it/s, loss=2.97]\n"
     ]
    },
    {
     "name": "stdout",
     "output_type": "stream",
     "text": [
      "Epoch [329/5000]: Train loss: 2.0934, Valid loss: 1.5394\n"
     ]
    },
    {
     "name": "stderr",
     "output_type": "stream",
     "text": [
      "Epoch [330/5000]: 100%|██████████| 9/9 [00:00<00:00, 455.26it/s, loss=1.81]\n"
     ]
    },
    {
     "name": "stdout",
     "output_type": "stream",
     "text": [
      "Epoch [330/5000]: Train loss: 1.8996, Valid loss: 1.3435\n"
     ]
    },
    {
     "name": "stderr",
     "output_type": "stream",
     "text": [
      "Epoch [331/5000]: 100%|██████████| 9/9 [00:00<00:00, 454.96it/s, loss=2.08]\n"
     ]
    },
    {
     "name": "stdout",
     "output_type": "stream",
     "text": [
      "Epoch [331/5000]: Train loss: 1.9878, Valid loss: 1.4543\n"
     ]
    },
    {
     "name": "stderr",
     "output_type": "stream",
     "text": [
      "Epoch [332/5000]: 100%|██████████| 9/9 [00:00<00:00, 458.06it/s, loss=2.35]\n"
     ]
    },
    {
     "name": "stdout",
     "output_type": "stream",
     "text": [
      "Epoch [332/5000]: Train loss: 1.9738, Valid loss: 1.3453\n"
     ]
    },
    {
     "name": "stderr",
     "output_type": "stream",
     "text": [
      "Epoch [333/5000]: 100%|██████████| 9/9 [00:00<00:00, 466.40it/s, loss=2.04]\n"
     ]
    },
    {
     "name": "stdout",
     "output_type": "stream",
     "text": [
      "Epoch [333/5000]: Train loss: 1.9239, Valid loss: 1.3786\n"
     ]
    },
    {
     "name": "stderr",
     "output_type": "stream",
     "text": [
      "Epoch [334/5000]: 100%|██████████| 9/9 [00:00<00:00, 443.94it/s, loss=1.92]\n"
     ]
    },
    {
     "name": "stdout",
     "output_type": "stream",
     "text": [
      "Epoch [334/5000]: Train loss: 1.8799, Valid loss: 1.3762\n"
     ]
    },
    {
     "name": "stderr",
     "output_type": "stream",
     "text": [
      "Epoch [335/5000]: 100%|██████████| 9/9 [00:00<00:00, 468.04it/s, loss=2.09]\n"
     ]
    },
    {
     "name": "stdout",
     "output_type": "stream",
     "text": [
      "Epoch [335/5000]: Train loss: 1.9122, Valid loss: 1.3687\n"
     ]
    },
    {
     "name": "stderr",
     "output_type": "stream",
     "text": [
      "Epoch [336/5000]: 100%|██████████| 9/9 [00:00<00:00, 467.44it/s, loss=1.76]\n"
     ]
    },
    {
     "name": "stdout",
     "output_type": "stream",
     "text": [
      "Epoch [336/5000]: Train loss: 1.8453, Valid loss: 1.4138\n"
     ]
    },
    {
     "name": "stderr",
     "output_type": "stream",
     "text": [
      "Epoch [337/5000]: 100%|██████████| 9/9 [00:00<00:00, 416.40it/s, loss=2.07]\n"
     ]
    },
    {
     "name": "stdout",
     "output_type": "stream",
     "text": [
      "Epoch [337/5000]: Train loss: 1.9432, Valid loss: 1.3320\n"
     ]
    },
    {
     "name": "stderr",
     "output_type": "stream",
     "text": [
      "Epoch [338/5000]: 100%|██████████| 9/9 [00:00<00:00, 458.88it/s, loss=1.96]\n"
     ]
    },
    {
     "name": "stdout",
     "output_type": "stream",
     "text": [
      "Epoch [338/5000]: Train loss: 1.9026, Valid loss: 1.5166\n"
     ]
    },
    {
     "name": "stderr",
     "output_type": "stream",
     "text": [
      "Epoch [339/5000]: 100%|██████████| 9/9 [00:00<00:00, 472.96it/s, loss=2.3]\n"
     ]
    },
    {
     "name": "stdout",
     "output_type": "stream",
     "text": [
      "Epoch [339/5000]: Train loss: 1.9864, Valid loss: 1.4685\n"
     ]
    },
    {
     "name": "stderr",
     "output_type": "stream",
     "text": [
      "Epoch [340/5000]: 100%|██████████| 9/9 [00:00<00:00, 458.22it/s, loss=1.73]\n"
     ]
    },
    {
     "name": "stdout",
     "output_type": "stream",
     "text": [
      "Epoch [340/5000]: Train loss: 1.9667, Valid loss: 1.4006\n"
     ]
    },
    {
     "name": "stderr",
     "output_type": "stream",
     "text": [
      "Epoch [341/5000]: 100%|██████████| 9/9 [00:00<00:00, 440.75it/s, loss=1.8]\n"
     ]
    },
    {
     "name": "stdout",
     "output_type": "stream",
     "text": [
      "Epoch [341/5000]: Train loss: 1.9710, Valid loss: 1.6318\n"
     ]
    },
    {
     "name": "stderr",
     "output_type": "stream",
     "text": [
      "Epoch [342/5000]: 100%|██████████| 9/9 [00:00<00:00, 457.80it/s, loss=2]\n"
     ]
    },
    {
     "name": "stdout",
     "output_type": "stream",
     "text": [
      "Epoch [342/5000]: Train loss: 1.9197, Valid loss: 1.3410\n"
     ]
    },
    {
     "name": "stderr",
     "output_type": "stream",
     "text": [
      "Epoch [343/5000]: 100%|██████████| 9/9 [00:00<00:00, 480.59it/s, loss=2.07]\n"
     ]
    },
    {
     "name": "stdout",
     "output_type": "stream",
     "text": [
      "Epoch [343/5000]: Train loss: 1.9191, Valid loss: 1.3998\n"
     ]
    },
    {
     "name": "stderr",
     "output_type": "stream",
     "text": [
      "Epoch [344/5000]: 100%|██████████| 9/9 [00:00<00:00, 433.86it/s, loss=2.43]\n"
     ]
    },
    {
     "name": "stdout",
     "output_type": "stream",
     "text": [
      "Epoch [344/5000]: Train loss: 1.9626, Valid loss: 1.4652\n"
     ]
    },
    {
     "name": "stderr",
     "output_type": "stream",
     "text": [
      "Epoch [345/5000]: 100%|██████████| 9/9 [00:00<00:00, 463.82it/s, loss=2.09]\n"
     ]
    },
    {
     "name": "stdout",
     "output_type": "stream",
     "text": [
      "Epoch [345/5000]: Train loss: 1.8691, Valid loss: 1.3434\n"
     ]
    },
    {
     "name": "stderr",
     "output_type": "stream",
     "text": [
      "Epoch [346/5000]: 100%|██████████| 9/9 [00:00<00:00, 465.29it/s, loss=1.61]\n"
     ]
    },
    {
     "name": "stdout",
     "output_type": "stream",
     "text": [
      "Epoch [346/5000]: Train loss: 1.8998, Valid loss: 1.5252\n"
     ]
    },
    {
     "name": "stderr",
     "output_type": "stream",
     "text": [
      "Epoch [347/5000]: 100%|██████████| 9/9 [00:00<00:00, 478.40it/s, loss=2.06]\n"
     ]
    },
    {
     "name": "stdout",
     "output_type": "stream",
     "text": [
      "Epoch [347/5000]: Train loss: 1.8922, Valid loss: 1.4344\n"
     ]
    },
    {
     "name": "stderr",
     "output_type": "stream",
     "text": [
      "Epoch [348/5000]: 100%|██████████| 9/9 [00:00<00:00, 412.17it/s, loss=1.84]\n"
     ]
    },
    {
     "name": "stdout",
     "output_type": "stream",
     "text": [
      "Epoch [348/5000]: Train loss: 1.8251, Valid loss: 1.5967\n"
     ]
    },
    {
     "name": "stderr",
     "output_type": "stream",
     "text": [
      "Epoch [349/5000]: 100%|██████████| 9/9 [00:00<00:00, 451.94it/s, loss=2.01]\n"
     ]
    },
    {
     "name": "stdout",
     "output_type": "stream",
     "text": [
      "Epoch [349/5000]: Train loss: 1.9741, Valid loss: 1.5545\n"
     ]
    },
    {
     "name": "stderr",
     "output_type": "stream",
     "text": [
      "Epoch [350/5000]: 100%|██████████| 9/9 [00:00<00:00, 398.63it/s, loss=1.94]\n"
     ]
    },
    {
     "name": "stdout",
     "output_type": "stream",
     "text": [
      "Epoch [350/5000]: Train loss: 1.8799, Valid loss: 1.4111\n"
     ]
    },
    {
     "name": "stderr",
     "output_type": "stream",
     "text": [
      "Epoch [351/5000]: 100%|██████████| 9/9 [00:00<00:00, 442.15it/s, loss=1.9]\n"
     ]
    },
    {
     "name": "stdout",
     "output_type": "stream",
     "text": [
      "Epoch [351/5000]: Train loss: 1.9063, Valid loss: 1.2867\n",
      "Saving model with loss 1.287...\n"
     ]
    },
    {
     "name": "stderr",
     "output_type": "stream",
     "text": [
      "Epoch [352/5000]: 100%|██████████| 9/9 [00:00<00:00, 453.56it/s, loss=1.76]\n"
     ]
    },
    {
     "name": "stdout",
     "output_type": "stream",
     "text": [
      "Epoch [352/5000]: Train loss: 1.8505, Valid loss: 1.4085\n"
     ]
    },
    {
     "name": "stderr",
     "output_type": "stream",
     "text": [
      "Epoch [353/5000]: 100%|██████████| 9/9 [00:00<00:00, 434.63it/s, loss=2.23]\n"
     ]
    },
    {
     "name": "stdout",
     "output_type": "stream",
     "text": [
      "Epoch [353/5000]: Train loss: 1.9229, Valid loss: 1.5588\n"
     ]
    },
    {
     "name": "stderr",
     "output_type": "stream",
     "text": [
      "Epoch [354/5000]: 100%|██████████| 9/9 [00:00<00:00, 419.91it/s, loss=2.58]\n"
     ]
    },
    {
     "name": "stdout",
     "output_type": "stream",
     "text": [
      "Epoch [354/5000]: Train loss: 1.9328, Valid loss: 1.3451\n"
     ]
    },
    {
     "name": "stderr",
     "output_type": "stream",
     "text": [
      "Epoch [355/5000]: 100%|██████████| 9/9 [00:00<00:00, 461.56it/s, loss=2.14]\n"
     ]
    },
    {
     "name": "stdout",
     "output_type": "stream",
     "text": [
      "Epoch [355/5000]: Train loss: 1.9230, Valid loss: 1.5731\n"
     ]
    },
    {
     "name": "stderr",
     "output_type": "stream",
     "text": [
      "Epoch [356/5000]: 100%|██████████| 9/9 [00:00<00:00, 408.29it/s, loss=2]\n"
     ]
    },
    {
     "name": "stdout",
     "output_type": "stream",
     "text": [
      "Epoch [356/5000]: Train loss: 1.8568, Valid loss: 1.3406\n"
     ]
    },
    {
     "name": "stderr",
     "output_type": "stream",
     "text": [
      "Epoch [357/5000]: 100%|██████████| 9/9 [00:00<00:00, 379.43it/s, loss=1.84]\n"
     ]
    },
    {
     "name": "stdout",
     "output_type": "stream",
     "text": [
      "Epoch [357/5000]: Train loss: 1.8884, Valid loss: 1.5401\n"
     ]
    },
    {
     "name": "stderr",
     "output_type": "stream",
     "text": [
      "Epoch [358/5000]: 100%|██████████| 9/9 [00:00<00:00, 435.12it/s, loss=2.48]\n"
     ]
    },
    {
     "name": "stdout",
     "output_type": "stream",
     "text": [
      "Epoch [358/5000]: Train loss: 1.8802, Valid loss: 1.3774\n"
     ]
    },
    {
     "name": "stderr",
     "output_type": "stream",
     "text": [
      "Epoch [359/5000]: 100%|██████████| 9/9 [00:00<00:00, 456.79it/s, loss=1.79]\n"
     ]
    },
    {
     "name": "stdout",
     "output_type": "stream",
     "text": [
      "Epoch [359/5000]: Train loss: 1.9140, Valid loss: 1.3549\n"
     ]
    },
    {
     "name": "stderr",
     "output_type": "stream",
     "text": [
      "Epoch [360/5000]: 100%|██████████| 9/9 [00:00<00:00, 430.64it/s, loss=1.89]\n"
     ]
    },
    {
     "name": "stdout",
     "output_type": "stream",
     "text": [
      "Epoch [360/5000]: Train loss: 1.8655, Valid loss: 1.4049\n"
     ]
    },
    {
     "name": "stderr",
     "output_type": "stream",
     "text": [
      "Epoch [361/5000]: 100%|██████████| 9/9 [00:00<00:00, 433.93it/s, loss=2]\n"
     ]
    },
    {
     "name": "stdout",
     "output_type": "stream",
     "text": [
      "Epoch [361/5000]: Train loss: 1.8807, Valid loss: 1.3752\n"
     ]
    },
    {
     "name": "stderr",
     "output_type": "stream",
     "text": [
      "Epoch [362/5000]: 100%|██████████| 9/9 [00:00<00:00, 441.93it/s, loss=1.74]\n"
     ]
    },
    {
     "name": "stdout",
     "output_type": "stream",
     "text": [
      "Epoch [362/5000]: Train loss: 1.8112, Valid loss: 1.5892\n"
     ]
    },
    {
     "name": "stderr",
     "output_type": "stream",
     "text": [
      "Epoch [363/5000]: 100%|██████████| 9/9 [00:00<00:00, 441.41it/s, loss=2]\n"
     ]
    },
    {
     "name": "stdout",
     "output_type": "stream",
     "text": [
      "Epoch [363/5000]: Train loss: 1.8563, Valid loss: 1.3607\n"
     ]
    },
    {
     "name": "stderr",
     "output_type": "stream",
     "text": [
      "Epoch [364/5000]: 100%|██████████| 9/9 [00:00<00:00, 460.76it/s, loss=2.03]\n"
     ]
    },
    {
     "name": "stdout",
     "output_type": "stream",
     "text": [
      "Epoch [364/5000]: Train loss: 1.9491, Valid loss: 1.3653\n"
     ]
    },
    {
     "name": "stderr",
     "output_type": "stream",
     "text": [
      "Epoch [365/5000]: 100%|██████████| 9/9 [00:00<00:00, 455.28it/s, loss=1.7]\n"
     ]
    },
    {
     "name": "stdout",
     "output_type": "stream",
     "text": [
      "Epoch [365/5000]: Train loss: 1.8421, Valid loss: 1.3542\n"
     ]
    },
    {
     "name": "stderr",
     "output_type": "stream",
     "text": [
      "Epoch [366/5000]: 100%|██████████| 9/9 [00:00<00:00, 460.62it/s, loss=1.87]\n"
     ]
    },
    {
     "name": "stdout",
     "output_type": "stream",
     "text": [
      "Epoch [366/5000]: Train loss: 1.8724, Valid loss: 1.3501\n"
     ]
    },
    {
     "name": "stderr",
     "output_type": "stream",
     "text": [
      "Epoch [367/5000]: 100%|██████████| 9/9 [00:00<00:00, 437.70it/s, loss=1.78]\n"
     ]
    },
    {
     "name": "stdout",
     "output_type": "stream",
     "text": [
      "Epoch [367/5000]: Train loss: 1.9037, Valid loss: 1.5580\n"
     ]
    },
    {
     "name": "stderr",
     "output_type": "stream",
     "text": [
      "Epoch [368/5000]: 100%|██████████| 9/9 [00:00<00:00, 414.77it/s, loss=2.11]\n"
     ]
    },
    {
     "name": "stdout",
     "output_type": "stream",
     "text": [
      "Epoch [368/5000]: Train loss: 1.9052, Valid loss: 1.3200\n"
     ]
    },
    {
     "name": "stderr",
     "output_type": "stream",
     "text": [
      "Epoch [369/5000]: 100%|██████████| 9/9 [00:00<00:00, 446.40it/s, loss=1.71]\n"
     ]
    },
    {
     "name": "stdout",
     "output_type": "stream",
     "text": [
      "Epoch [369/5000]: Train loss: 1.7927, Valid loss: 1.3579\n"
     ]
    },
    {
     "name": "stderr",
     "output_type": "stream",
     "text": [
      "Epoch [370/5000]: 100%|██████████| 9/9 [00:00<00:00, 434.82it/s, loss=1.81]\n"
     ]
    },
    {
     "name": "stdout",
     "output_type": "stream",
     "text": [
      "Epoch [370/5000]: Train loss: 1.8378, Valid loss: 1.5775\n"
     ]
    },
    {
     "name": "stderr",
     "output_type": "stream",
     "text": [
      "Epoch [371/5000]: 100%|██████████| 9/9 [00:00<00:00, 448.61it/s, loss=1.76]\n"
     ]
    },
    {
     "name": "stdout",
     "output_type": "stream",
     "text": [
      "Epoch [371/5000]: Train loss: 1.8874, Valid loss: 1.2599\n",
      "Saving model with loss 1.260...\n"
     ]
    },
    {
     "name": "stderr",
     "output_type": "stream",
     "text": [
      "Epoch [372/5000]: 100%|██████████| 9/9 [00:00<00:00, 449.37it/s, loss=1.94]\n"
     ]
    },
    {
     "name": "stdout",
     "output_type": "stream",
     "text": [
      "Epoch [372/5000]: Train loss: 1.9136, Valid loss: 1.3790\n"
     ]
    },
    {
     "name": "stderr",
     "output_type": "stream",
     "text": [
      "Epoch [373/5000]: 100%|██████████| 9/9 [00:00<00:00, 443.54it/s, loss=1.99]\n"
     ]
    },
    {
     "name": "stdout",
     "output_type": "stream",
     "text": [
      "Epoch [373/5000]: Train loss: 1.9174, Valid loss: 1.3961\n"
     ]
    },
    {
     "name": "stderr",
     "output_type": "stream",
     "text": [
      "Epoch [374/5000]: 100%|██████████| 9/9 [00:00<00:00, 473.46it/s, loss=2.07]\n"
     ]
    },
    {
     "name": "stdout",
     "output_type": "stream",
     "text": [
      "Epoch [374/5000]: Train loss: 1.8361, Valid loss: 1.2004\n",
      "Saving model with loss 1.200...\n"
     ]
    },
    {
     "name": "stderr",
     "output_type": "stream",
     "text": [
      "Epoch [375/5000]: 100%|██████████| 9/9 [00:00<00:00, 456.05it/s, loss=1.83]\n"
     ]
    },
    {
     "name": "stdout",
     "output_type": "stream",
     "text": [
      "Epoch [375/5000]: Train loss: 1.8195, Valid loss: 1.3706\n"
     ]
    },
    {
     "name": "stderr",
     "output_type": "stream",
     "text": [
      "Epoch [376/5000]: 100%|██████████| 9/9 [00:00<00:00, 450.63it/s, loss=2.13]\n"
     ]
    },
    {
     "name": "stdout",
     "output_type": "stream",
     "text": [
      "Epoch [376/5000]: Train loss: 1.8817, Valid loss: 1.3770\n"
     ]
    },
    {
     "name": "stderr",
     "output_type": "stream",
     "text": [
      "Epoch [377/5000]: 100%|██████████| 9/9 [00:00<00:00, 432.75it/s, loss=1.85]\n"
     ]
    },
    {
     "name": "stdout",
     "output_type": "stream",
     "text": [
      "Epoch [377/5000]: Train loss: 1.8327, Valid loss: 1.4033\n"
     ]
    },
    {
     "name": "stderr",
     "output_type": "stream",
     "text": [
      "Epoch [378/5000]: 100%|██████████| 9/9 [00:00<00:00, 445.50it/s, loss=1.74]\n"
     ]
    },
    {
     "name": "stdout",
     "output_type": "stream",
     "text": [
      "Epoch [378/5000]: Train loss: 1.7486, Valid loss: 1.3507\n"
     ]
    },
    {
     "name": "stderr",
     "output_type": "stream",
     "text": [
      "Epoch [379/5000]: 100%|██████████| 9/9 [00:00<00:00, 460.99it/s, loss=1.73]\n"
     ]
    },
    {
     "name": "stdout",
     "output_type": "stream",
     "text": [
      "Epoch [379/5000]: Train loss: 1.7592, Valid loss: 1.4112\n"
     ]
    },
    {
     "name": "stderr",
     "output_type": "stream",
     "text": [
      "Epoch [380/5000]: 100%|██████████| 9/9 [00:00<00:00, 450.67it/s, loss=2.3]\n"
     ]
    },
    {
     "name": "stdout",
     "output_type": "stream",
     "text": [
      "Epoch [380/5000]: Train loss: 1.8956, Valid loss: 1.2475\n"
     ]
    },
    {
     "name": "stderr",
     "output_type": "stream",
     "text": [
      "Epoch [381/5000]: 100%|██████████| 9/9 [00:00<00:00, 411.17it/s, loss=1.94]\n"
     ]
    },
    {
     "name": "stdout",
     "output_type": "stream",
     "text": [
      "Epoch [381/5000]: Train loss: 1.8675, Valid loss: 1.3445\n"
     ]
    },
    {
     "name": "stderr",
     "output_type": "stream",
     "text": [
      "Epoch [382/5000]: 100%|██████████| 9/9 [00:00<00:00, 448.36it/s, loss=1.88]\n"
     ]
    },
    {
     "name": "stdout",
     "output_type": "stream",
     "text": [
      "Epoch [382/5000]: Train loss: 1.8328, Valid loss: 1.2546\n"
     ]
    },
    {
     "name": "stderr",
     "output_type": "stream",
     "text": [
      "Epoch [383/5000]: 100%|██████████| 9/9 [00:00<00:00, 474.76it/s, loss=1.77]\n"
     ]
    },
    {
     "name": "stdout",
     "output_type": "stream",
     "text": [
      "Epoch [383/5000]: Train loss: 1.8077, Valid loss: 1.3919\n"
     ]
    },
    {
     "name": "stderr",
     "output_type": "stream",
     "text": [
      "Epoch [384/5000]: 100%|██████████| 9/9 [00:00<00:00, 426.89it/s, loss=1.9]\n"
     ]
    },
    {
     "name": "stdout",
     "output_type": "stream",
     "text": [
      "Epoch [384/5000]: Train loss: 1.8891, Valid loss: 1.2837\n"
     ]
    },
    {
     "name": "stderr",
     "output_type": "stream",
     "text": [
      "Epoch [385/5000]: 100%|██████████| 9/9 [00:00<00:00, 458.78it/s, loss=1.94]\n"
     ]
    },
    {
     "name": "stdout",
     "output_type": "stream",
     "text": [
      "Epoch [385/5000]: Train loss: 1.8963, Valid loss: 1.2182\n"
     ]
    },
    {
     "name": "stderr",
     "output_type": "stream",
     "text": [
      "Epoch [386/5000]: 100%|██████████| 9/9 [00:00<00:00, 438.91it/s, loss=1.88]\n"
     ]
    },
    {
     "name": "stdout",
     "output_type": "stream",
     "text": [
      "Epoch [386/5000]: Train loss: 1.8702, Valid loss: 1.2656\n"
     ]
    },
    {
     "name": "stderr",
     "output_type": "stream",
     "text": [
      "Epoch [387/5000]: 100%|██████████| 9/9 [00:00<00:00, 466.44it/s, loss=1.82]\n"
     ]
    },
    {
     "name": "stdout",
     "output_type": "stream",
     "text": [
      "Epoch [387/5000]: Train loss: 1.8448, Valid loss: 1.3114\n"
     ]
    },
    {
     "name": "stderr",
     "output_type": "stream",
     "text": [
      "Epoch [388/5000]: 100%|██████████| 9/9 [00:00<00:00, 378.90it/s, loss=1.82]\n"
     ]
    },
    {
     "name": "stdout",
     "output_type": "stream",
     "text": [
      "Epoch [388/5000]: Train loss: 1.8172, Valid loss: 1.5375\n"
     ]
    },
    {
     "name": "stderr",
     "output_type": "stream",
     "text": [
      "Epoch [389/5000]: 100%|██████████| 9/9 [00:00<00:00, 429.60it/s, loss=1.8]\n"
     ]
    },
    {
     "name": "stdout",
     "output_type": "stream",
     "text": [
      "Epoch [389/5000]: Train loss: 1.7757, Valid loss: 1.3429\n"
     ]
    },
    {
     "name": "stderr",
     "output_type": "stream",
     "text": [
      "Epoch [390/5000]: 100%|██████████| 9/9 [00:00<00:00, 456.97it/s, loss=1.96]\n"
     ]
    },
    {
     "name": "stdout",
     "output_type": "stream",
     "text": [
      "Epoch [390/5000]: Train loss: 1.8244, Valid loss: 1.2786\n"
     ]
    },
    {
     "name": "stderr",
     "output_type": "stream",
     "text": [
      "Epoch [391/5000]: 100%|██████████| 9/9 [00:00<00:00, 165.35it/s, loss=1.73]\n"
     ]
    },
    {
     "name": "stdout",
     "output_type": "stream",
     "text": [
      "Epoch [391/5000]: Train loss: 1.8186, Valid loss: 1.4118\n"
     ]
    },
    {
     "name": "stderr",
     "output_type": "stream",
     "text": [
      "Epoch [392/5000]: 100%|██████████| 9/9 [00:00<00:00, 374.58it/s, loss=1.8]\n"
     ]
    },
    {
     "name": "stdout",
     "output_type": "stream",
     "text": [
      "Epoch [392/5000]: Train loss: 1.7062, Valid loss: 1.3034\n"
     ]
    },
    {
     "name": "stderr",
     "output_type": "stream",
     "text": [
      "Epoch [393/5000]: 100%|██████████| 9/9 [00:00<00:00, 408.75it/s, loss=1.76]\n"
     ]
    },
    {
     "name": "stdout",
     "output_type": "stream",
     "text": [
      "Epoch [393/5000]: Train loss: 1.8222, Valid loss: 1.2992\n"
     ]
    },
    {
     "name": "stderr",
     "output_type": "stream",
     "text": [
      "Epoch [394/5000]: 100%|██████████| 9/9 [00:00<00:00, 402.23it/s, loss=2.29]\n"
     ]
    },
    {
     "name": "stdout",
     "output_type": "stream",
     "text": [
      "Epoch [394/5000]: Train loss: 1.8653, Valid loss: 1.4400\n"
     ]
    },
    {
     "name": "stderr",
     "output_type": "stream",
     "text": [
      "Epoch [395/5000]: 100%|██████████| 9/9 [00:00<00:00, 386.10it/s, loss=1.87]\n"
     ]
    },
    {
     "name": "stdout",
     "output_type": "stream",
     "text": [
      "Epoch [395/5000]: Train loss: 1.8488, Valid loss: 1.3888\n"
     ]
    },
    {
     "name": "stderr",
     "output_type": "stream",
     "text": [
      "Epoch [396/5000]: 100%|██████████| 9/9 [00:00<00:00, 389.96it/s, loss=1.81]\n"
     ]
    },
    {
     "name": "stdout",
     "output_type": "stream",
     "text": [
      "Epoch [396/5000]: Train loss: 1.7847, Valid loss: 1.3560\n"
     ]
    },
    {
     "name": "stderr",
     "output_type": "stream",
     "text": [
      "Epoch [397/5000]: 100%|██████████| 9/9 [00:00<00:00, 415.11it/s, loss=1.61]\n"
     ]
    },
    {
     "name": "stdout",
     "output_type": "stream",
     "text": [
      "Epoch [397/5000]: Train loss: 1.8114, Valid loss: 1.3368\n"
     ]
    },
    {
     "name": "stderr",
     "output_type": "stream",
     "text": [
      "Epoch [398/5000]: 100%|██████████| 9/9 [00:00<00:00, 417.90it/s, loss=1.81]\n"
     ]
    },
    {
     "name": "stdout",
     "output_type": "stream",
     "text": [
      "Epoch [398/5000]: Train loss: 1.8749, Valid loss: 1.5895\n"
     ]
    },
    {
     "name": "stderr",
     "output_type": "stream",
     "text": [
      "Epoch [399/5000]: 100%|██████████| 9/9 [00:00<00:00, 391.06it/s, loss=1.89]\n"
     ]
    },
    {
     "name": "stdout",
     "output_type": "stream",
     "text": [
      "Epoch [399/5000]: Train loss: 1.8442, Valid loss: 1.2660\n"
     ]
    },
    {
     "name": "stderr",
     "output_type": "stream",
     "text": [
      "Epoch [400/5000]: 100%|██████████| 9/9 [00:00<00:00, 408.50it/s, loss=1.61]\n"
     ]
    },
    {
     "name": "stdout",
     "output_type": "stream",
     "text": [
      "Epoch [400/5000]: Train loss: 1.8025, Valid loss: 1.1068\n",
      "Saving model with loss 1.107...\n"
     ]
    },
    {
     "name": "stderr",
     "output_type": "stream",
     "text": [
      "Epoch [401/5000]: 100%|██████████| 9/9 [00:00<00:00, 418.59it/s, loss=1.74]\n"
     ]
    },
    {
     "name": "stdout",
     "output_type": "stream",
     "text": [
      "Epoch [401/5000]: Train loss: 1.8501, Valid loss: 1.3910\n"
     ]
    },
    {
     "name": "stderr",
     "output_type": "stream",
     "text": [
      "Epoch [402/5000]: 100%|██████████| 9/9 [00:00<00:00, 444.49it/s, loss=1.68]\n"
     ]
    },
    {
     "name": "stdout",
     "output_type": "stream",
     "text": [
      "Epoch [402/5000]: Train loss: 1.7816, Valid loss: 1.3558\n"
     ]
    },
    {
     "name": "stderr",
     "output_type": "stream",
     "text": [
      "Epoch [403/5000]: 100%|██████████| 9/9 [00:00<00:00, 443.53it/s, loss=1.81]\n"
     ]
    },
    {
     "name": "stdout",
     "output_type": "stream",
     "text": [
      "Epoch [403/5000]: Train loss: 1.7598, Valid loss: 1.3173\n"
     ]
    },
    {
     "name": "stderr",
     "output_type": "stream",
     "text": [
      "Epoch [404/5000]: 100%|██████████| 9/9 [00:00<00:00, 464.15it/s, loss=1.74]\n"
     ]
    },
    {
     "name": "stdout",
     "output_type": "stream",
     "text": [
      "Epoch [404/5000]: Train loss: 1.7554, Valid loss: 1.2962\n"
     ]
    },
    {
     "name": "stderr",
     "output_type": "stream",
     "text": [
      "Epoch [405/5000]: 100%|██████████| 9/9 [00:00<00:00, 438.28it/s, loss=1.39]\n"
     ]
    },
    {
     "name": "stdout",
     "output_type": "stream",
     "text": [
      "Epoch [405/5000]: Train loss: 1.7529, Valid loss: 1.3506\n"
     ]
    },
    {
     "name": "stderr",
     "output_type": "stream",
     "text": [
      "Epoch [406/5000]: 100%|██████████| 9/9 [00:00<00:00, 431.84it/s, loss=1.91]\n"
     ]
    },
    {
     "name": "stdout",
     "output_type": "stream",
     "text": [
      "Epoch [406/5000]: Train loss: 1.8090, Valid loss: 1.2758\n"
     ]
    },
    {
     "name": "stderr",
     "output_type": "stream",
     "text": [
      "Epoch [407/5000]: 100%|██████████| 9/9 [00:00<00:00, 435.30it/s, loss=1.67]\n"
     ]
    },
    {
     "name": "stdout",
     "output_type": "stream",
     "text": [
      "Epoch [407/5000]: Train loss: 1.7767, Valid loss: 1.1888\n"
     ]
    },
    {
     "name": "stderr",
     "output_type": "stream",
     "text": [
      "Epoch [408/5000]: 100%|██████████| 9/9 [00:00<00:00, 462.15it/s, loss=1.54]\n"
     ]
    },
    {
     "name": "stdout",
     "output_type": "stream",
     "text": [
      "Epoch [408/5000]: Train loss: 1.7818, Valid loss: 1.3112\n"
     ]
    },
    {
     "name": "stderr",
     "output_type": "stream",
     "text": [
      "Epoch [409/5000]: 100%|██████████| 9/9 [00:00<00:00, 450.41it/s, loss=2.19]\n"
     ]
    },
    {
     "name": "stdout",
     "output_type": "stream",
     "text": [
      "Epoch [409/5000]: Train loss: 1.8633, Valid loss: 1.4647\n"
     ]
    },
    {
     "name": "stderr",
     "output_type": "stream",
     "text": [
      "Epoch [410/5000]: 100%|██████████| 9/9 [00:00<00:00, 444.34it/s, loss=2.02]\n"
     ]
    },
    {
     "name": "stdout",
     "output_type": "stream",
     "text": [
      "Epoch [410/5000]: Train loss: 1.8731, Valid loss: 1.2907\n"
     ]
    },
    {
     "name": "stderr",
     "output_type": "stream",
     "text": [
      "Epoch [411/5000]: 100%|██████████| 9/9 [00:00<00:00, 468.53it/s, loss=2.7]\n"
     ]
    },
    {
     "name": "stdout",
     "output_type": "stream",
     "text": [
      "Epoch [411/5000]: Train loss: 1.8820, Valid loss: 1.3139\n"
     ]
    },
    {
     "name": "stderr",
     "output_type": "stream",
     "text": [
      "Epoch [412/5000]: 100%|██████████| 9/9 [00:00<00:00, 464.35it/s, loss=1.84]\n"
     ]
    },
    {
     "name": "stdout",
     "output_type": "stream",
     "text": [
      "Epoch [412/5000]: Train loss: 1.8157, Valid loss: 1.2777\n"
     ]
    },
    {
     "name": "stderr",
     "output_type": "stream",
     "text": [
      "Epoch [413/5000]: 100%|██████████| 9/9 [00:00<00:00, 447.90it/s, loss=1.91]\n"
     ]
    },
    {
     "name": "stdout",
     "output_type": "stream",
     "text": [
      "Epoch [413/5000]: Train loss: 1.8049, Valid loss: 1.3235\n"
     ]
    },
    {
     "name": "stderr",
     "output_type": "stream",
     "text": [
      "Epoch [414/5000]: 100%|██████████| 9/9 [00:00<00:00, 465.64it/s, loss=2.01]\n"
     ]
    },
    {
     "name": "stdout",
     "output_type": "stream",
     "text": [
      "Epoch [414/5000]: Train loss: 1.8342, Valid loss: 1.3143\n"
     ]
    },
    {
     "name": "stderr",
     "output_type": "stream",
     "text": [
      "Epoch [415/5000]: 100%|██████████| 9/9 [00:00<00:00, 461.75it/s, loss=2.03]\n"
     ]
    },
    {
     "name": "stdout",
     "output_type": "stream",
     "text": [
      "Epoch [415/5000]: Train loss: 1.8557, Valid loss: 1.2867\n"
     ]
    },
    {
     "name": "stderr",
     "output_type": "stream",
     "text": [
      "Epoch [416/5000]: 100%|██████████| 9/9 [00:00<00:00, 476.82it/s, loss=1.63]\n"
     ]
    },
    {
     "name": "stdout",
     "output_type": "stream",
     "text": [
      "Epoch [416/5000]: Train loss: 1.7912, Valid loss: 1.2330\n"
     ]
    },
    {
     "name": "stderr",
     "output_type": "stream",
     "text": [
      "Epoch [417/5000]: 100%|██████████| 9/9 [00:00<00:00, 405.48it/s, loss=1.95]\n"
     ]
    },
    {
     "name": "stdout",
     "output_type": "stream",
     "text": [
      "Epoch [417/5000]: Train loss: 1.7996, Valid loss: 1.1878\n"
     ]
    },
    {
     "name": "stderr",
     "output_type": "stream",
     "text": [
      "Epoch [418/5000]: 100%|██████████| 9/9 [00:00<00:00, 443.37it/s, loss=1.8]\n"
     ]
    },
    {
     "name": "stdout",
     "output_type": "stream",
     "text": [
      "Epoch [418/5000]: Train loss: 1.8028, Valid loss: 1.2676\n"
     ]
    },
    {
     "name": "stderr",
     "output_type": "stream",
     "text": [
      "Epoch [419/5000]: 100%|██████████| 9/9 [00:00<00:00, 455.74it/s, loss=1.7]\n"
     ]
    },
    {
     "name": "stdout",
     "output_type": "stream",
     "text": [
      "Epoch [419/5000]: Train loss: 1.7409, Valid loss: 1.3063\n"
     ]
    },
    {
     "name": "stderr",
     "output_type": "stream",
     "text": [
      "Epoch [420/5000]: 100%|██████████| 9/9 [00:00<00:00, 462.87it/s, loss=1.86]\n"
     ]
    },
    {
     "name": "stdout",
     "output_type": "stream",
     "text": [
      "Epoch [420/5000]: Train loss: 1.7923, Valid loss: 1.3150\n"
     ]
    },
    {
     "name": "stderr",
     "output_type": "stream",
     "text": [
      "Epoch [421/5000]: 100%|██████████| 9/9 [00:00<00:00, 474.58it/s, loss=1.99]\n"
     ]
    },
    {
     "name": "stdout",
     "output_type": "stream",
     "text": [
      "Epoch [421/5000]: Train loss: 1.7434, Valid loss: 1.2997\n"
     ]
    },
    {
     "name": "stderr",
     "output_type": "stream",
     "text": [
      "Epoch [422/5000]: 100%|██████████| 9/9 [00:00<00:00, 439.69it/s, loss=2.22]\n"
     ]
    },
    {
     "name": "stdout",
     "output_type": "stream",
     "text": [
      "Epoch [422/5000]: Train loss: 1.8350, Valid loss: 1.4173\n"
     ]
    },
    {
     "name": "stderr",
     "output_type": "stream",
     "text": [
      "Epoch [423/5000]: 100%|██████████| 9/9 [00:00<00:00, 424.47it/s, loss=1.76]\n"
     ]
    },
    {
     "name": "stdout",
     "output_type": "stream",
     "text": [
      "Epoch [423/5000]: Train loss: 1.7507, Valid loss: 1.2717\n"
     ]
    },
    {
     "name": "stderr",
     "output_type": "stream",
     "text": [
      "Epoch [424/5000]: 100%|██████████| 9/9 [00:00<00:00, 386.81it/s, loss=2.19]\n"
     ]
    },
    {
     "name": "stdout",
     "output_type": "stream",
     "text": [
      "Epoch [424/5000]: Train loss: 1.8211, Valid loss: 1.4550\n"
     ]
    },
    {
     "name": "stderr",
     "output_type": "stream",
     "text": [
      "Epoch [425/5000]: 100%|██████████| 9/9 [00:00<00:00, 452.04it/s, loss=1.94]\n"
     ]
    },
    {
     "name": "stdout",
     "output_type": "stream",
     "text": [
      "Epoch [425/5000]: Train loss: 1.8664, Valid loss: 1.2941\n"
     ]
    },
    {
     "name": "stderr",
     "output_type": "stream",
     "text": [
      "Epoch [426/5000]: 100%|██████████| 9/9 [00:00<00:00, 106.10it/s, loss=2.17]\n"
     ]
    },
    {
     "name": "stdout",
     "output_type": "stream",
     "text": [
      "Epoch [426/5000]: Train loss: 1.7851, Valid loss: 1.5149\n"
     ]
    },
    {
     "name": "stderr",
     "output_type": "stream",
     "text": [
      "Epoch [427/5000]: 100%|██████████| 9/9 [00:00<00:00, 452.74it/s, loss=2.13]\n"
     ]
    },
    {
     "name": "stdout",
     "output_type": "stream",
     "text": [
      "Epoch [427/5000]: Train loss: 1.8594, Valid loss: 1.2970\n"
     ]
    },
    {
     "name": "stderr",
     "output_type": "stream",
     "text": [
      "Epoch [428/5000]: 100%|██████████| 9/9 [00:00<00:00, 457.23it/s, loss=2]\n"
     ]
    },
    {
     "name": "stdout",
     "output_type": "stream",
     "text": [
      "Epoch [428/5000]: Train loss: 1.8012, Valid loss: 1.3597\n"
     ]
    },
    {
     "name": "stderr",
     "output_type": "stream",
     "text": [
      "Epoch [429/5000]: 100%|██████████| 9/9 [00:00<00:00, 459.45it/s, loss=1.91]\n"
     ]
    },
    {
     "name": "stdout",
     "output_type": "stream",
     "text": [
      "Epoch [429/5000]: Train loss: 1.7836, Valid loss: 1.4789\n"
     ]
    },
    {
     "name": "stderr",
     "output_type": "stream",
     "text": [
      "Epoch [430/5000]: 100%|██████████| 9/9 [00:00<00:00, 461.21it/s, loss=1.86]\n"
     ]
    },
    {
     "name": "stdout",
     "output_type": "stream",
     "text": [
      "Epoch [430/5000]: Train loss: 1.7153, Valid loss: 1.2552\n"
     ]
    },
    {
     "name": "stderr",
     "output_type": "stream",
     "text": [
      "Epoch [431/5000]: 100%|██████████| 9/9 [00:00<00:00, 460.08it/s, loss=2.25]\n"
     ]
    },
    {
     "name": "stdout",
     "output_type": "stream",
     "text": [
      "Epoch [431/5000]: Train loss: 1.8433, Valid loss: 1.3746\n"
     ]
    },
    {
     "name": "stderr",
     "output_type": "stream",
     "text": [
      "Epoch [432/5000]: 100%|██████████| 9/9 [00:00<00:00, 461.68it/s, loss=2.23]\n"
     ]
    },
    {
     "name": "stdout",
     "output_type": "stream",
     "text": [
      "Epoch [432/5000]: Train loss: 1.7885, Valid loss: 1.2609\n"
     ]
    },
    {
     "name": "stderr",
     "output_type": "stream",
     "text": [
      "Epoch [433/5000]: 100%|██████████| 9/9 [00:00<00:00, 411.07it/s, loss=1.76]\n"
     ]
    },
    {
     "name": "stdout",
     "output_type": "stream",
     "text": [
      "Epoch [433/5000]: Train loss: 1.7540, Valid loss: 1.3598\n"
     ]
    },
    {
     "name": "stderr",
     "output_type": "stream",
     "text": [
      "Epoch [434/5000]: 100%|██████████| 9/9 [00:00<00:00, 363.70it/s, loss=2.01]\n"
     ]
    },
    {
     "name": "stdout",
     "output_type": "stream",
     "text": [
      "Epoch [434/5000]: Train loss: 1.8818, Valid loss: 1.3228\n"
     ]
    },
    {
     "name": "stderr",
     "output_type": "stream",
     "text": [
      "Epoch [435/5000]: 100%|██████████| 9/9 [00:00<00:00, 389.03it/s, loss=2.13]\n"
     ]
    },
    {
     "name": "stdout",
     "output_type": "stream",
     "text": [
      "Epoch [435/5000]: Train loss: 1.7902, Valid loss: 1.2954\n"
     ]
    },
    {
     "name": "stderr",
     "output_type": "stream",
     "text": [
      "Epoch [436/5000]: 100%|██████████| 9/9 [00:00<00:00, 403.71it/s, loss=2.2]\n"
     ]
    },
    {
     "name": "stdout",
     "output_type": "stream",
     "text": [
      "Epoch [436/5000]: Train loss: 1.7797, Valid loss: 1.2230\n"
     ]
    },
    {
     "name": "stderr",
     "output_type": "stream",
     "text": [
      "Epoch [437/5000]: 100%|██████████| 9/9 [00:00<00:00, 397.73it/s, loss=1.67]\n"
     ]
    },
    {
     "name": "stdout",
     "output_type": "stream",
     "text": [
      "Epoch [437/5000]: Train loss: 1.7130, Valid loss: 1.4530\n"
     ]
    },
    {
     "name": "stderr",
     "output_type": "stream",
     "text": [
      "Epoch [438/5000]: 100%|██████████| 9/9 [00:00<00:00, 424.95it/s, loss=2.31]\n"
     ]
    },
    {
     "name": "stdout",
     "output_type": "stream",
     "text": [
      "Epoch [438/5000]: Train loss: 1.8426, Valid loss: 1.4849\n"
     ]
    },
    {
     "name": "stderr",
     "output_type": "stream",
     "text": [
      "Epoch [439/5000]: 100%|██████████| 9/9 [00:00<00:00, 406.76it/s, loss=1.67]\n"
     ]
    },
    {
     "name": "stdout",
     "output_type": "stream",
     "text": [
      "Epoch [439/5000]: Train loss: 1.7569, Valid loss: 1.2476\n"
     ]
    },
    {
     "name": "stderr",
     "output_type": "stream",
     "text": [
      "Epoch [440/5000]: 100%|██████████| 9/9 [00:00<00:00, 400.72it/s, loss=1.76]\n"
     ]
    },
    {
     "name": "stdout",
     "output_type": "stream",
     "text": [
      "Epoch [440/5000]: Train loss: 1.7816, Valid loss: 1.2302\n"
     ]
    },
    {
     "name": "stderr",
     "output_type": "stream",
     "text": [
      "Epoch [441/5000]: 100%|██████████| 9/9 [00:00<00:00, 420.24it/s, loss=2.09]\n"
     ]
    },
    {
     "name": "stdout",
     "output_type": "stream",
     "text": [
      "Epoch [441/5000]: Train loss: 1.8253, Valid loss: 1.2322\n"
     ]
    },
    {
     "name": "stderr",
     "output_type": "stream",
     "text": [
      "Epoch [442/5000]: 100%|██████████| 9/9 [00:00<00:00, 404.80it/s, loss=2.09]\n"
     ]
    },
    {
     "name": "stdout",
     "output_type": "stream",
     "text": [
      "Epoch [442/5000]: Train loss: 1.8635, Valid loss: 1.4184\n"
     ]
    },
    {
     "name": "stderr",
     "output_type": "stream",
     "text": [
      "Epoch [443/5000]: 100%|██████████| 9/9 [00:00<00:00, 405.94it/s, loss=1.78]\n"
     ]
    },
    {
     "name": "stdout",
     "output_type": "stream",
     "text": [
      "Epoch [443/5000]: Train loss: 1.7295, Valid loss: 1.2411\n"
     ]
    },
    {
     "name": "stderr",
     "output_type": "stream",
     "text": [
      "Epoch [444/5000]: 100%|██████████| 9/9 [00:00<00:00, 378.89it/s, loss=3.06]\n"
     ]
    },
    {
     "name": "stdout",
     "output_type": "stream",
     "text": [
      "Epoch [444/5000]: Train loss: 1.8709, Valid loss: 1.2410\n"
     ]
    },
    {
     "name": "stderr",
     "output_type": "stream",
     "text": [
      "Epoch [445/5000]: 100%|██████████| 9/9 [00:00<00:00, 405.44it/s, loss=1.83]\n"
     ]
    },
    {
     "name": "stdout",
     "output_type": "stream",
     "text": [
      "Epoch [445/5000]: Train loss: 1.7987, Valid loss: 1.2340\n"
     ]
    },
    {
     "name": "stderr",
     "output_type": "stream",
     "text": [
      "Epoch [446/5000]: 100%|██████████| 9/9 [00:00<00:00, 417.63it/s, loss=1.96]\n"
     ]
    },
    {
     "name": "stdout",
     "output_type": "stream",
     "text": [
      "Epoch [446/5000]: Train loss: 1.7833, Valid loss: 1.3260\n"
     ]
    },
    {
     "name": "stderr",
     "output_type": "stream",
     "text": [
      "Epoch [447/5000]: 100%|██████████| 9/9 [00:00<00:00, 393.13it/s, loss=1.93]\n"
     ]
    },
    {
     "name": "stdout",
     "output_type": "stream",
     "text": [
      "Epoch [447/5000]: Train loss: 1.7776, Valid loss: 1.2922\n"
     ]
    },
    {
     "name": "stderr",
     "output_type": "stream",
     "text": [
      "Epoch [448/5000]: 100%|██████████| 9/9 [00:00<00:00, 400.85it/s, loss=1.62]\n"
     ]
    },
    {
     "name": "stdout",
     "output_type": "stream",
     "text": [
      "Epoch [448/5000]: Train loss: 1.7546, Valid loss: 1.2963\n"
     ]
    },
    {
     "name": "stderr",
     "output_type": "stream",
     "text": [
      "Epoch [449/5000]: 100%|██████████| 9/9 [00:00<00:00, 408.29it/s, loss=2.01]\n"
     ]
    },
    {
     "name": "stdout",
     "output_type": "stream",
     "text": [
      "Epoch [449/5000]: Train loss: 1.8515, Valid loss: 1.2939\n"
     ]
    },
    {
     "name": "stderr",
     "output_type": "stream",
     "text": [
      "Epoch [450/5000]: 100%|██████████| 9/9 [00:00<00:00, 409.98it/s, loss=1.69]\n"
     ]
    },
    {
     "name": "stdout",
     "output_type": "stream",
     "text": [
      "Epoch [450/5000]: Train loss: 1.7945, Valid loss: 1.2671\n"
     ]
    },
    {
     "name": "stderr",
     "output_type": "stream",
     "text": [
      "Epoch [451/5000]: 100%|██████████| 9/9 [00:00<00:00, 409.53it/s, loss=1.96]\n"
     ]
    },
    {
     "name": "stdout",
     "output_type": "stream",
     "text": [
      "Epoch [451/5000]: Train loss: 1.7414, Valid loss: 1.3368\n"
     ]
    },
    {
     "name": "stderr",
     "output_type": "stream",
     "text": [
      "Epoch [452/5000]: 100%|██████████| 9/9 [00:00<00:00, 397.63it/s, loss=1.87]\n"
     ]
    },
    {
     "name": "stdout",
     "output_type": "stream",
     "text": [
      "Epoch [452/5000]: Train loss: 1.7983, Valid loss: 1.1093\n"
     ]
    },
    {
     "name": "stderr",
     "output_type": "stream",
     "text": [
      "Epoch [453/5000]: 100%|██████████| 9/9 [00:00<00:00, 369.38it/s, loss=1.69]\n"
     ]
    },
    {
     "name": "stdout",
     "output_type": "stream",
     "text": [
      "Epoch [453/5000]: Train loss: 1.7678, Valid loss: 1.2419\n"
     ]
    },
    {
     "name": "stderr",
     "output_type": "stream",
     "text": [
      "Epoch [454/5000]: 100%|██████████| 9/9 [00:00<00:00, 391.63it/s, loss=2.33]\n"
     ]
    },
    {
     "name": "stdout",
     "output_type": "stream",
     "text": [
      "Epoch [454/5000]: Train loss: 1.8193, Valid loss: 1.3271\n"
     ]
    },
    {
     "name": "stderr",
     "output_type": "stream",
     "text": [
      "Epoch [455/5000]: 100%|██████████| 9/9 [00:00<00:00, 365.32it/s, loss=1.82]\n"
     ]
    },
    {
     "name": "stdout",
     "output_type": "stream",
     "text": [
      "Epoch [455/5000]: Train loss: 1.8372, Valid loss: 1.2681\n"
     ]
    },
    {
     "name": "stderr",
     "output_type": "stream",
     "text": [
      "Epoch [456/5000]: 100%|██████████| 9/9 [00:00<00:00, 400.20it/s, loss=1.84]\n"
     ]
    },
    {
     "name": "stdout",
     "output_type": "stream",
     "text": [
      "Epoch [456/5000]: Train loss: 1.7367, Valid loss: 1.2553\n"
     ]
    },
    {
     "name": "stderr",
     "output_type": "stream",
     "text": [
      "Epoch [457/5000]: 100%|██████████| 9/9 [00:00<00:00, 457.57it/s, loss=1.83]\n"
     ]
    },
    {
     "name": "stdout",
     "output_type": "stream",
     "text": [
      "Epoch [457/5000]: Train loss: 1.7579, Valid loss: 1.4276\n"
     ]
    },
    {
     "name": "stderr",
     "output_type": "stream",
     "text": [
      "Epoch [458/5000]: 100%|██████████| 9/9 [00:00<00:00, 442.36it/s, loss=1.63]\n"
     ]
    },
    {
     "name": "stdout",
     "output_type": "stream",
     "text": [
      "Epoch [458/5000]: Train loss: 1.7245, Valid loss: 1.2942\n"
     ]
    },
    {
     "name": "stderr",
     "output_type": "stream",
     "text": [
      "Epoch [459/5000]: 100%|██████████| 9/9 [00:00<00:00, 472.51it/s, loss=1.63]\n"
     ]
    },
    {
     "name": "stdout",
     "output_type": "stream",
     "text": [
      "Epoch [459/5000]: Train loss: 1.7118, Valid loss: 1.3886\n"
     ]
    },
    {
     "name": "stderr",
     "output_type": "stream",
     "text": [
      "Epoch [460/5000]: 100%|██████████| 9/9 [00:00<00:00, 467.85it/s, loss=1.77]\n"
     ]
    },
    {
     "name": "stdout",
     "output_type": "stream",
     "text": [
      "Epoch [460/5000]: Train loss: 1.8535, Valid loss: 1.2368\n"
     ]
    },
    {
     "name": "stderr",
     "output_type": "stream",
     "text": [
      "Epoch [461/5000]: 100%|██████████| 9/9 [00:00<00:00, 455.88it/s, loss=1.81]\n"
     ]
    },
    {
     "name": "stdout",
     "output_type": "stream",
     "text": [
      "Epoch [461/5000]: Train loss: 1.8006, Valid loss: 1.2885\n"
     ]
    },
    {
     "name": "stderr",
     "output_type": "stream",
     "text": [
      "Epoch [462/5000]: 100%|██████████| 9/9 [00:00<00:00, 433.11it/s, loss=1.53]\n"
     ]
    },
    {
     "name": "stdout",
     "output_type": "stream",
     "text": [
      "Epoch [462/5000]: Train loss: 1.7369, Valid loss: 1.1916\n"
     ]
    },
    {
     "name": "stderr",
     "output_type": "stream",
     "text": [
      "Epoch [463/5000]: 100%|██████████| 9/9 [00:00<00:00, 407.37it/s, loss=1.65]\n"
     ]
    },
    {
     "name": "stdout",
     "output_type": "stream",
     "text": [
      "Epoch [463/5000]: Train loss: 1.7954, Valid loss: 1.1956\n"
     ]
    },
    {
     "name": "stderr",
     "output_type": "stream",
     "text": [
      "Epoch [464/5000]: 100%|██████████| 9/9 [00:00<00:00, 465.52it/s, loss=1.85]\n"
     ]
    },
    {
     "name": "stdout",
     "output_type": "stream",
     "text": [
      "Epoch [464/5000]: Train loss: 1.8306, Valid loss: 1.2637\n"
     ]
    },
    {
     "name": "stderr",
     "output_type": "stream",
     "text": [
      "Epoch [465/5000]: 100%|██████████| 9/9 [00:00<00:00, 460.05it/s, loss=1.63]\n"
     ]
    },
    {
     "name": "stdout",
     "output_type": "stream",
     "text": [
      "Epoch [465/5000]: Train loss: 1.7568, Valid loss: 1.3399\n"
     ]
    },
    {
     "name": "stderr",
     "output_type": "stream",
     "text": [
      "Epoch [466/5000]: 100%|██████████| 9/9 [00:00<00:00, 444.00it/s, loss=1.78]\n"
     ]
    },
    {
     "name": "stdout",
     "output_type": "stream",
     "text": [
      "Epoch [466/5000]: Train loss: 1.7476, Valid loss: 1.1518\n"
     ]
    },
    {
     "name": "stderr",
     "output_type": "stream",
     "text": [
      "Epoch [467/5000]: 100%|██████████| 9/9 [00:00<00:00, 463.11it/s, loss=1.81]\n"
     ]
    },
    {
     "name": "stdout",
     "output_type": "stream",
     "text": [
      "Epoch [467/5000]: Train loss: 1.8090, Valid loss: 1.3153\n"
     ]
    },
    {
     "name": "stderr",
     "output_type": "stream",
     "text": [
      "Epoch [468/5000]: 100%|██████████| 9/9 [00:00<00:00, 444.02it/s, loss=1.51]\n"
     ]
    },
    {
     "name": "stdout",
     "output_type": "stream",
     "text": [
      "Epoch [468/5000]: Train loss: 1.7765, Valid loss: 1.2909\n"
     ]
    },
    {
     "name": "stderr",
     "output_type": "stream",
     "text": [
      "Epoch [469/5000]: 100%|██████████| 9/9 [00:00<00:00, 407.22it/s, loss=1.68]\n"
     ]
    },
    {
     "name": "stdout",
     "output_type": "stream",
     "text": [
      "Epoch [469/5000]: Train loss: 1.7890, Valid loss: 1.2195\n"
     ]
    },
    {
     "name": "stderr",
     "output_type": "stream",
     "text": [
      "Epoch [470/5000]: 100%|██████████| 9/9 [00:00<00:00, 465.36it/s, loss=1.68]\n"
     ]
    },
    {
     "name": "stdout",
     "output_type": "stream",
     "text": [
      "Epoch [470/5000]: Train loss: 1.8138, Valid loss: 1.3914\n"
     ]
    },
    {
     "name": "stderr",
     "output_type": "stream",
     "text": [
      "Epoch [471/5000]: 100%|██████████| 9/9 [00:00<00:00, 466.82it/s, loss=2.19]\n"
     ]
    },
    {
     "name": "stdout",
     "output_type": "stream",
     "text": [
      "Epoch [471/5000]: Train loss: 1.8423, Valid loss: 1.3463\n"
     ]
    },
    {
     "name": "stderr",
     "output_type": "stream",
     "text": [
      "Epoch [472/5000]: 100%|██████████| 9/9 [00:00<00:00, 437.43it/s, loss=1.68]\n"
     ]
    },
    {
     "name": "stdout",
     "output_type": "stream",
     "text": [
      "Epoch [472/5000]: Train loss: 1.7443, Valid loss: 1.2920\n"
     ]
    },
    {
     "name": "stderr",
     "output_type": "stream",
     "text": [
      "Epoch [473/5000]: 100%|██████████| 9/9 [00:00<00:00, 378.79it/s, loss=1.58]\n"
     ]
    },
    {
     "name": "stdout",
     "output_type": "stream",
     "text": [
      "Epoch [473/5000]: Train loss: 1.6841, Valid loss: 1.3214\n"
     ]
    },
    {
     "name": "stderr",
     "output_type": "stream",
     "text": [
      "Epoch [474/5000]: 100%|██████████| 9/9 [00:00<00:00, 448.81it/s, loss=2.12]\n"
     ]
    },
    {
     "name": "stdout",
     "output_type": "stream",
     "text": [
      "Epoch [474/5000]: Train loss: 1.7792, Valid loss: 1.3033\n"
     ]
    },
    {
     "name": "stderr",
     "output_type": "stream",
     "text": [
      "Epoch [475/5000]: 100%|██████████| 9/9 [00:00<00:00, 453.05it/s, loss=1.9]\n"
     ]
    },
    {
     "name": "stdout",
     "output_type": "stream",
     "text": [
      "Epoch [475/5000]: Train loss: 1.7743, Valid loss: 1.1737\n"
     ]
    },
    {
     "name": "stderr",
     "output_type": "stream",
     "text": [
      "Epoch [476/5000]: 100%|██████████| 9/9 [00:00<00:00, 422.48it/s, loss=2.01]\n"
     ]
    },
    {
     "name": "stdout",
     "output_type": "stream",
     "text": [
      "Epoch [476/5000]: Train loss: 1.8654, Valid loss: 1.2405\n"
     ]
    },
    {
     "name": "stderr",
     "output_type": "stream",
     "text": [
      "Epoch [477/5000]: 100%|██████████| 9/9 [00:00<00:00, 470.30it/s, loss=1.79]\n"
     ]
    },
    {
     "name": "stdout",
     "output_type": "stream",
     "text": [
      "Epoch [477/5000]: Train loss: 1.7869, Valid loss: 1.3974\n"
     ]
    },
    {
     "name": "stderr",
     "output_type": "stream",
     "text": [
      "Epoch [478/5000]: 100%|██████████| 9/9 [00:00<00:00, 480.49it/s, loss=1.9]\n"
     ]
    },
    {
     "name": "stdout",
     "output_type": "stream",
     "text": [
      "Epoch [478/5000]: Train loss: 1.7854, Valid loss: 1.2815\n"
     ]
    },
    {
     "name": "stderr",
     "output_type": "stream",
     "text": [
      "Epoch [479/5000]: 100%|██████████| 9/9 [00:00<00:00, 468.63it/s, loss=1.73]\n"
     ]
    },
    {
     "name": "stdout",
     "output_type": "stream",
     "text": [
      "Epoch [479/5000]: Train loss: 1.7496, Valid loss: 1.1875\n"
     ]
    },
    {
     "name": "stderr",
     "output_type": "stream",
     "text": [
      "Epoch [480/5000]: 100%|██████████| 9/9 [00:00<00:00, 458.69it/s, loss=1.75]\n"
     ]
    },
    {
     "name": "stdout",
     "output_type": "stream",
     "text": [
      "Epoch [480/5000]: Train loss: 1.7655, Valid loss: 1.2868\n"
     ]
    },
    {
     "name": "stderr",
     "output_type": "stream",
     "text": [
      "Epoch [481/5000]: 100%|██████████| 9/9 [00:00<00:00, 469.68it/s, loss=1.83]\n"
     ]
    },
    {
     "name": "stdout",
     "output_type": "stream",
     "text": [
      "Epoch [481/5000]: Train loss: 1.7114, Valid loss: 1.2040\n"
     ]
    },
    {
     "name": "stderr",
     "output_type": "stream",
     "text": [
      "Epoch [482/5000]: 100%|██████████| 9/9 [00:00<00:00, 475.01it/s, loss=1.76]\n"
     ]
    },
    {
     "name": "stdout",
     "output_type": "stream",
     "text": [
      "Epoch [482/5000]: Train loss: 1.7284, Valid loss: 1.2486\n"
     ]
    },
    {
     "name": "stderr",
     "output_type": "stream",
     "text": [
      "Epoch [483/5000]: 100%|██████████| 9/9 [00:00<00:00, 445.63it/s, loss=1.45]\n"
     ]
    },
    {
     "name": "stdout",
     "output_type": "stream",
     "text": [
      "Epoch [483/5000]: Train loss: 1.7925, Valid loss: 1.2094\n"
     ]
    },
    {
     "name": "stderr",
     "output_type": "stream",
     "text": [
      "Epoch [484/5000]: 100%|██████████| 9/9 [00:00<00:00, 442.24it/s, loss=2.35]\n"
     ]
    },
    {
     "name": "stdout",
     "output_type": "stream",
     "text": [
      "Epoch [484/5000]: Train loss: 1.8962, Valid loss: 1.3828\n"
     ]
    },
    {
     "name": "stderr",
     "output_type": "stream",
     "text": [
      "Epoch [485/5000]: 100%|██████████| 9/9 [00:00<00:00, 457.46it/s, loss=1.82]\n"
     ]
    },
    {
     "name": "stdout",
     "output_type": "stream",
     "text": [
      "Epoch [485/5000]: Train loss: 1.7822, Valid loss: 1.1496\n"
     ]
    },
    {
     "name": "stderr",
     "output_type": "stream",
     "text": [
      "Epoch [486/5000]: 100%|██████████| 9/9 [00:00<00:00, 424.67it/s, loss=1.7]\n"
     ]
    },
    {
     "name": "stdout",
     "output_type": "stream",
     "text": [
      "Epoch [486/5000]: Train loss: 1.7780, Valid loss: 1.3209\n"
     ]
    },
    {
     "name": "stderr",
     "output_type": "stream",
     "text": [
      "Epoch [487/5000]: 100%|██████████| 9/9 [00:00<00:00, 456.61it/s, loss=1.69]\n"
     ]
    },
    {
     "name": "stdout",
     "output_type": "stream",
     "text": [
      "Epoch [487/5000]: Train loss: 1.7395, Valid loss: 1.3174\n"
     ]
    },
    {
     "name": "stderr",
     "output_type": "stream",
     "text": [
      "Epoch [488/5000]: 100%|██████████| 9/9 [00:00<00:00, 472.47it/s, loss=1.72]\n"
     ]
    },
    {
     "name": "stdout",
     "output_type": "stream",
     "text": [
      "Epoch [488/5000]: Train loss: 1.7582, Valid loss: 1.1924\n"
     ]
    },
    {
     "name": "stderr",
     "output_type": "stream",
     "text": [
      "Epoch [489/5000]: 100%|██████████| 9/9 [00:00<00:00, 460.17it/s, loss=2.11]\n"
     ]
    },
    {
     "name": "stdout",
     "output_type": "stream",
     "text": [
      "Epoch [489/5000]: Train loss: 1.7528, Valid loss: 1.2194\n"
     ]
    },
    {
     "name": "stderr",
     "output_type": "stream",
     "text": [
      "Epoch [490/5000]: 100%|██████████| 9/9 [00:00<00:00, 455.61it/s, loss=1.9]\n"
     ]
    },
    {
     "name": "stdout",
     "output_type": "stream",
     "text": [
      "Epoch [490/5000]: Train loss: 1.7970, Valid loss: 1.3138\n"
     ]
    },
    {
     "name": "stderr",
     "output_type": "stream",
     "text": [
      "Epoch [491/5000]: 100%|██████████| 9/9 [00:00<00:00, 467.80it/s, loss=1.91]\n"
     ]
    },
    {
     "name": "stdout",
     "output_type": "stream",
     "text": [
      "Epoch [491/5000]: Train loss: 1.8337, Valid loss: 1.3160\n"
     ]
    },
    {
     "name": "stderr",
     "output_type": "stream",
     "text": [
      "Epoch [492/5000]: 100%|██████████| 9/9 [00:00<00:00, 449.22it/s, loss=1.64]\n"
     ]
    },
    {
     "name": "stdout",
     "output_type": "stream",
     "text": [
      "Epoch [492/5000]: Train loss: 1.7500, Valid loss: 1.2462\n"
     ]
    },
    {
     "name": "stderr",
     "output_type": "stream",
     "text": [
      "Epoch [493/5000]: 100%|██████████| 9/9 [00:00<00:00, 449.05it/s, loss=2.63]\n"
     ]
    },
    {
     "name": "stdout",
     "output_type": "stream",
     "text": [
      "Epoch [493/5000]: Train loss: 1.8505, Valid loss: 1.2885\n"
     ]
    },
    {
     "name": "stderr",
     "output_type": "stream",
     "text": [
      "Epoch [494/5000]: 100%|██████████| 9/9 [00:00<00:00, 403.59it/s, loss=1.82]\n"
     ]
    },
    {
     "name": "stdout",
     "output_type": "stream",
     "text": [
      "Epoch [494/5000]: Train loss: 1.7508, Valid loss: 1.3401\n"
     ]
    },
    {
     "name": "stderr",
     "output_type": "stream",
     "text": [
      "Epoch [495/5000]: 100%|██████████| 9/9 [00:00<00:00, 421.10it/s, loss=2.71]\n"
     ]
    },
    {
     "name": "stdout",
     "output_type": "stream",
     "text": [
      "Epoch [495/5000]: Train loss: 1.8133, Valid loss: 1.3957\n"
     ]
    },
    {
     "name": "stderr",
     "output_type": "stream",
     "text": [
      "Epoch [496/5000]: 100%|██████████| 9/9 [00:00<00:00, 430.60it/s, loss=1.42]\n"
     ]
    },
    {
     "name": "stdout",
     "output_type": "stream",
     "text": [
      "Epoch [496/5000]: Train loss: 1.7327, Valid loss: 1.2453\n"
     ]
    },
    {
     "name": "stderr",
     "output_type": "stream",
     "text": [
      "Epoch [497/5000]: 100%|██████████| 9/9 [00:00<00:00, 376.30it/s, loss=1.91]\n"
     ]
    },
    {
     "name": "stdout",
     "output_type": "stream",
     "text": [
      "Epoch [497/5000]: Train loss: 1.8111, Valid loss: 1.2946\n"
     ]
    },
    {
     "name": "stderr",
     "output_type": "stream",
     "text": [
      "Epoch [498/5000]: 100%|██████████| 9/9 [00:00<00:00, 441.42it/s, loss=2.18]\n"
     ]
    },
    {
     "name": "stdout",
     "output_type": "stream",
     "text": [
      "Epoch [498/5000]: Train loss: 1.7957, Valid loss: 1.1564\n"
     ]
    },
    {
     "name": "stderr",
     "output_type": "stream",
     "text": [
      "Epoch [499/5000]: 100%|██████████| 9/9 [00:00<00:00, 424.25it/s, loss=1.85]\n"
     ]
    },
    {
     "name": "stdout",
     "output_type": "stream",
     "text": [
      "Epoch [499/5000]: Train loss: 1.7455, Valid loss: 1.2932\n"
     ]
    },
    {
     "name": "stderr",
     "output_type": "stream",
     "text": [
      "Epoch [500/5000]: 100%|██████████| 9/9 [00:00<00:00, 442.59it/s, loss=1.91]\n"
     ]
    },
    {
     "name": "stdout",
     "output_type": "stream",
     "text": [
      "Epoch [500/5000]: Train loss: 1.8144, Valid loss: 1.2682\n"
     ]
    },
    {
     "name": "stderr",
     "output_type": "stream",
     "text": [
      "Epoch [501/5000]: 100%|██████████| 9/9 [00:00<00:00, 470.66it/s, loss=1.81]\n"
     ]
    },
    {
     "name": "stdout",
     "output_type": "stream",
     "text": [
      "Epoch [501/5000]: Train loss: 1.7062, Valid loss: 1.3118\n"
     ]
    },
    {
     "name": "stderr",
     "output_type": "stream",
     "text": [
      "Epoch [502/5000]: 100%|██████████| 9/9 [00:00<00:00, 453.74it/s, loss=1.58]\n"
     ]
    },
    {
     "name": "stdout",
     "output_type": "stream",
     "text": [
      "Epoch [502/5000]: Train loss: 1.7933, Valid loss: 1.1668\n"
     ]
    },
    {
     "name": "stderr",
     "output_type": "stream",
     "text": [
      "Epoch [503/5000]: 100%|██████████| 9/9 [00:00<00:00, 402.86it/s, loss=1.68]\n"
     ]
    },
    {
     "name": "stdout",
     "output_type": "stream",
     "text": [
      "Epoch [503/5000]: Train loss: 1.8019, Valid loss: 1.1385\n"
     ]
    },
    {
     "name": "stderr",
     "output_type": "stream",
     "text": [
      "Epoch [504/5000]: 100%|██████████| 9/9 [00:00<00:00, 424.67it/s, loss=1.73]\n"
     ]
    },
    {
     "name": "stdout",
     "output_type": "stream",
     "text": [
      "Epoch [504/5000]: Train loss: 1.7717, Valid loss: 1.2327\n"
     ]
    },
    {
     "name": "stderr",
     "output_type": "stream",
     "text": [
      "Epoch [505/5000]: 100%|██████████| 9/9 [00:00<00:00, 409.24it/s, loss=1.43]\n"
     ]
    },
    {
     "name": "stdout",
     "output_type": "stream",
     "text": [
      "Epoch [505/5000]: Train loss: 1.7285, Valid loss: 1.1680\n"
     ]
    },
    {
     "name": "stderr",
     "output_type": "stream",
     "text": [
      "Epoch [506/5000]: 100%|██████████| 9/9 [00:00<00:00, 464.30it/s, loss=1.62]\n"
     ]
    },
    {
     "name": "stdout",
     "output_type": "stream",
     "text": [
      "Epoch [506/5000]: Train loss: 1.8052, Valid loss: 1.2943\n"
     ]
    },
    {
     "name": "stderr",
     "output_type": "stream",
     "text": [
      "Epoch [507/5000]: 100%|██████████| 9/9 [00:00<00:00, 462.30it/s, loss=1.86]\n"
     ]
    },
    {
     "name": "stdout",
     "output_type": "stream",
     "text": [
      "Epoch [507/5000]: Train loss: 1.7770, Valid loss: 1.2870\n"
     ]
    },
    {
     "name": "stderr",
     "output_type": "stream",
     "text": [
      "Epoch [508/5000]: 100%|██████████| 9/9 [00:00<00:00, 456.90it/s, loss=1.92]\n"
     ]
    },
    {
     "name": "stdout",
     "output_type": "stream",
     "text": [
      "Epoch [508/5000]: Train loss: 1.8154, Valid loss: 1.1636\n"
     ]
    },
    {
     "name": "stderr",
     "output_type": "stream",
     "text": [
      "Epoch [509/5000]: 100%|██████████| 9/9 [00:00<00:00, 446.23it/s, loss=2.12]\n"
     ]
    },
    {
     "name": "stdout",
     "output_type": "stream",
     "text": [
      "Epoch [509/5000]: Train loss: 1.7576, Valid loss: 1.3052\n"
     ]
    },
    {
     "name": "stderr",
     "output_type": "stream",
     "text": [
      "Epoch [510/5000]: 100%|██████████| 9/9 [00:00<00:00, 469.71it/s, loss=1.81]\n"
     ]
    },
    {
     "name": "stdout",
     "output_type": "stream",
     "text": [
      "Epoch [510/5000]: Train loss: 1.8116, Valid loss: 1.1855\n"
     ]
    },
    {
     "name": "stderr",
     "output_type": "stream",
     "text": [
      "Epoch [511/5000]: 100%|██████████| 9/9 [00:00<00:00, 461.97it/s, loss=2.2]\n"
     ]
    },
    {
     "name": "stdout",
     "output_type": "stream",
     "text": [
      "Epoch [511/5000]: Train loss: 1.7857, Valid loss: 1.4052\n"
     ]
    },
    {
     "name": "stderr",
     "output_type": "stream",
     "text": [
      "Epoch [512/5000]: 100%|██████████| 9/9 [00:00<00:00, 414.46it/s, loss=1.97]\n"
     ]
    },
    {
     "name": "stdout",
     "output_type": "stream",
     "text": [
      "Epoch [512/5000]: Train loss: 1.8584, Valid loss: 1.2865\n"
     ]
    },
    {
     "name": "stderr",
     "output_type": "stream",
     "text": [
      "Epoch [513/5000]: 100%|██████████| 9/9 [00:00<00:00, 436.07it/s, loss=1.68]\n"
     ]
    },
    {
     "name": "stdout",
     "output_type": "stream",
     "text": [
      "Epoch [513/5000]: Train loss: 1.7490, Valid loss: 1.3306\n"
     ]
    },
    {
     "name": "stderr",
     "output_type": "stream",
     "text": [
      "Epoch [514/5000]: 100%|██████████| 9/9 [00:00<00:00, 444.36it/s, loss=1.72]\n"
     ]
    },
    {
     "name": "stdout",
     "output_type": "stream",
     "text": [
      "Epoch [514/5000]: Train loss: 1.7840, Valid loss: 1.1656\n"
     ]
    },
    {
     "name": "stderr",
     "output_type": "stream",
     "text": [
      "Epoch [515/5000]: 100%|██████████| 9/9 [00:00<00:00, 460.08it/s, loss=2.15]\n"
     ]
    },
    {
     "name": "stdout",
     "output_type": "stream",
     "text": [
      "Epoch [515/5000]: Train loss: 1.8323, Valid loss: 1.5099\n"
     ]
    },
    {
     "name": "stderr",
     "output_type": "stream",
     "text": [
      "Epoch [516/5000]: 100%|██████████| 9/9 [00:00<00:00, 445.65it/s, loss=1.62]\n"
     ]
    },
    {
     "name": "stdout",
     "output_type": "stream",
     "text": [
      "Epoch [516/5000]: Train loss: 1.7109, Valid loss: 1.3528\n"
     ]
    },
    {
     "name": "stderr",
     "output_type": "stream",
     "text": [
      "Epoch [517/5000]: 100%|██████████| 9/9 [00:00<00:00, 462.06it/s, loss=1.84]\n"
     ]
    },
    {
     "name": "stdout",
     "output_type": "stream",
     "text": [
      "Epoch [517/5000]: Train loss: 1.7712, Valid loss: 1.3367\n"
     ]
    },
    {
     "name": "stderr",
     "output_type": "stream",
     "text": [
      "Epoch [518/5000]: 100%|██████████| 9/9 [00:00<00:00, 472.86it/s, loss=1.62]\n"
     ]
    },
    {
     "name": "stdout",
     "output_type": "stream",
     "text": [
      "Epoch [518/5000]: Train loss: 1.7707, Valid loss: 1.4488\n"
     ]
    },
    {
     "name": "stderr",
     "output_type": "stream",
     "text": [
      "Epoch [519/5000]: 100%|██████████| 9/9 [00:00<00:00, 478.34it/s, loss=1.55]\n"
     ]
    },
    {
     "name": "stdout",
     "output_type": "stream",
     "text": [
      "Epoch [519/5000]: Train loss: 1.8168, Valid loss: 1.3152\n"
     ]
    },
    {
     "name": "stderr",
     "output_type": "stream",
     "text": [
      "Epoch [520/5000]: 100%|██████████| 9/9 [00:00<00:00, 433.36it/s, loss=2.04]\n"
     ]
    },
    {
     "name": "stdout",
     "output_type": "stream",
     "text": [
      "Epoch [520/5000]: Train loss: 1.8583, Valid loss: 1.2343\n"
     ]
    },
    {
     "name": "stderr",
     "output_type": "stream",
     "text": [
      "Epoch [521/5000]: 100%|██████████| 9/9 [00:00<00:00, 454.01it/s, loss=1.6]\n"
     ]
    },
    {
     "name": "stdout",
     "output_type": "stream",
     "text": [
      "Epoch [521/5000]: Train loss: 1.7832, Valid loss: 1.2296\n"
     ]
    },
    {
     "name": "stderr",
     "output_type": "stream",
     "text": [
      "Epoch [522/5000]: 100%|██████████| 9/9 [00:00<00:00, 424.69it/s, loss=1.82]\n"
     ]
    },
    {
     "name": "stdout",
     "output_type": "stream",
     "text": [
      "Epoch [522/5000]: Train loss: 1.7411, Valid loss: 1.4803\n"
     ]
    },
    {
     "name": "stderr",
     "output_type": "stream",
     "text": [
      "Epoch [523/5000]: 100%|██████████| 9/9 [00:00<00:00, 409.93it/s, loss=1.86]\n"
     ]
    },
    {
     "name": "stdout",
     "output_type": "stream",
     "text": [
      "Epoch [523/5000]: Train loss: 1.7610, Valid loss: 1.2086\n"
     ]
    },
    {
     "name": "stderr",
     "output_type": "stream",
     "text": [
      "Epoch [524/5000]: 100%|██████████| 9/9 [00:00<00:00, 402.83it/s, loss=1.99]\n"
     ]
    },
    {
     "name": "stdout",
     "output_type": "stream",
     "text": [
      "Epoch [524/5000]: Train loss: 1.8471, Valid loss: 1.1672\n"
     ]
    },
    {
     "name": "stderr",
     "output_type": "stream",
     "text": [
      "Epoch [525/5000]: 100%|██████████| 9/9 [00:00<00:00, 428.82it/s, loss=2.11]\n"
     ]
    },
    {
     "name": "stdout",
     "output_type": "stream",
     "text": [
      "Epoch [525/5000]: Train loss: 1.8165, Valid loss: 1.4217\n"
     ]
    },
    {
     "name": "stderr",
     "output_type": "stream",
     "text": [
      "Epoch [526/5000]: 100%|██████████| 9/9 [00:00<00:00, 468.53it/s, loss=2.17]\n"
     ]
    },
    {
     "name": "stdout",
     "output_type": "stream",
     "text": [
      "Epoch [526/5000]: Train loss: 1.7795, Valid loss: 1.2272\n"
     ]
    },
    {
     "name": "stderr",
     "output_type": "stream",
     "text": [
      "Epoch [527/5000]: 100%|██████████| 9/9 [00:00<00:00, 414.03it/s, loss=1.61]\n"
     ]
    },
    {
     "name": "stdout",
     "output_type": "stream",
     "text": [
      "Epoch [527/5000]: Train loss: 1.7040, Valid loss: 1.2529\n"
     ]
    },
    {
     "name": "stderr",
     "output_type": "stream",
     "text": [
      "Epoch [528/5000]: 100%|██████████| 9/9 [00:00<00:00, 465.33it/s, loss=2.17]\n"
     ]
    },
    {
     "name": "stdout",
     "output_type": "stream",
     "text": [
      "Epoch [528/5000]: Train loss: 1.7835, Valid loss: 1.1904\n"
     ]
    },
    {
     "name": "stderr",
     "output_type": "stream",
     "text": [
      "Epoch [529/5000]: 100%|██████████| 9/9 [00:00<00:00, 463.70it/s, loss=1.89]\n"
     ]
    },
    {
     "name": "stdout",
     "output_type": "stream",
     "text": [
      "Epoch [529/5000]: Train loss: 1.8350, Valid loss: 1.2813\n"
     ]
    },
    {
     "name": "stderr",
     "output_type": "stream",
     "text": [
      "Epoch [530/5000]: 100%|██████████| 9/9 [00:00<00:00, 443.02it/s, loss=1.74]\n"
     ]
    },
    {
     "name": "stdout",
     "output_type": "stream",
     "text": [
      "Epoch [530/5000]: Train loss: 1.7256, Valid loss: 1.2752\n"
     ]
    },
    {
     "name": "stderr",
     "output_type": "stream",
     "text": [
      "Epoch [531/5000]: 100%|██████████| 9/9 [00:00<00:00, 471.28it/s, loss=1.99]\n"
     ]
    },
    {
     "name": "stdout",
     "output_type": "stream",
     "text": [
      "Epoch [531/5000]: Train loss: 1.8211, Valid loss: 1.2923\n"
     ]
    },
    {
     "name": "stderr",
     "output_type": "stream",
     "text": [
      "Epoch [532/5000]: 100%|██████████| 9/9 [00:00<00:00, 106.07it/s, loss=1.65]\n"
     ]
    },
    {
     "name": "stdout",
     "output_type": "stream",
     "text": [
      "Epoch [532/5000]: Train loss: 1.7324, Valid loss: 1.1878\n"
     ]
    },
    {
     "name": "stderr",
     "output_type": "stream",
     "text": [
      "Epoch [533/5000]: 100%|██████████| 9/9 [00:00<00:00, 438.34it/s, loss=1.89]\n"
     ]
    },
    {
     "name": "stdout",
     "output_type": "stream",
     "text": [
      "Epoch [533/5000]: Train loss: 1.7605, Valid loss: 1.1868\n"
     ]
    },
    {
     "name": "stderr",
     "output_type": "stream",
     "text": [
      "Epoch [534/5000]: 100%|██████████| 9/9 [00:00<00:00, 464.59it/s, loss=1.71]\n"
     ]
    },
    {
     "name": "stdout",
     "output_type": "stream",
     "text": [
      "Epoch [534/5000]: Train loss: 1.7940, Valid loss: 1.2787\n"
     ]
    },
    {
     "name": "stderr",
     "output_type": "stream",
     "text": [
      "Epoch [535/5000]: 100%|██████████| 9/9 [00:00<00:00, 468.85it/s, loss=1.62]\n"
     ]
    },
    {
     "name": "stdout",
     "output_type": "stream",
     "text": [
      "Epoch [535/5000]: Train loss: 1.7309, Valid loss: 1.1934\n"
     ]
    },
    {
     "name": "stderr",
     "output_type": "stream",
     "text": [
      "Epoch [536/5000]: 100%|██████████| 9/9 [00:00<00:00, 477.81it/s, loss=1.77]\n"
     ]
    },
    {
     "name": "stdout",
     "output_type": "stream",
     "text": [
      "Epoch [536/5000]: Train loss: 1.7002, Valid loss: 1.2430\n"
     ]
    },
    {
     "name": "stderr",
     "output_type": "stream",
     "text": [
      "Epoch [537/5000]: 100%|██████████| 9/9 [00:00<00:00, 144.54it/s, loss=1.92]\n"
     ]
    },
    {
     "name": "stdout",
     "output_type": "stream",
     "text": [
      "Epoch [537/5000]: Train loss: 1.7843, Valid loss: 1.3414\n"
     ]
    },
    {
     "name": "stderr",
     "output_type": "stream",
     "text": [
      "Epoch [538/5000]: 100%|██████████| 9/9 [00:00<00:00, 397.42it/s, loss=1.62]\n"
     ]
    },
    {
     "name": "stdout",
     "output_type": "stream",
     "text": [
      "Epoch [538/5000]: Train loss: 1.6946, Valid loss: 1.2674\n"
     ]
    },
    {
     "name": "stderr",
     "output_type": "stream",
     "text": [
      "Epoch [539/5000]: 100%|██████████| 9/9 [00:00<00:00, 416.67it/s, loss=2.05]\n"
     ]
    },
    {
     "name": "stdout",
     "output_type": "stream",
     "text": [
      "Epoch [539/5000]: Train loss: 1.8024, Valid loss: 1.3215\n"
     ]
    },
    {
     "name": "stderr",
     "output_type": "stream",
     "text": [
      "Epoch [540/5000]: 100%|██████████| 9/9 [00:00<00:00, 389.73it/s, loss=1.76]\n"
     ]
    },
    {
     "name": "stdout",
     "output_type": "stream",
     "text": [
      "Epoch [540/5000]: Train loss: 1.7785, Valid loss: 1.3485\n"
     ]
    },
    {
     "name": "stderr",
     "output_type": "stream",
     "text": [
      "Epoch [541/5000]: 100%|██████████| 9/9 [00:00<00:00, 421.31it/s, loss=1.91]\n"
     ]
    },
    {
     "name": "stdout",
     "output_type": "stream",
     "text": [
      "Epoch [541/5000]: Train loss: 1.7682, Valid loss: 1.1103\n"
     ]
    },
    {
     "name": "stderr",
     "output_type": "stream",
     "text": [
      "Epoch [542/5000]: 100%|██████████| 9/9 [00:00<00:00, 409.15it/s, loss=1.78]\n"
     ]
    },
    {
     "name": "stdout",
     "output_type": "stream",
     "text": [
      "Epoch [542/5000]: Train loss: 1.7297, Valid loss: 1.5209\n"
     ]
    },
    {
     "name": "stderr",
     "output_type": "stream",
     "text": [
      "Epoch [543/5000]: 100%|██████████| 9/9 [00:00<00:00, 417.77it/s, loss=1.78]\n"
     ]
    },
    {
     "name": "stdout",
     "output_type": "stream",
     "text": [
      "Epoch [543/5000]: Train loss: 1.7151, Valid loss: 1.4385\n"
     ]
    },
    {
     "name": "stderr",
     "output_type": "stream",
     "text": [
      "Epoch [544/5000]: 100%|██████████| 9/9 [00:00<00:00, 409.56it/s, loss=1.76]\n"
     ]
    },
    {
     "name": "stdout",
     "output_type": "stream",
     "text": [
      "Epoch [544/5000]: Train loss: 1.6991, Valid loss: 1.5784\n"
     ]
    },
    {
     "name": "stderr",
     "output_type": "stream",
     "text": [
      "Epoch [545/5000]: 100%|██████████| 9/9 [00:00<00:00, 397.09it/s, loss=1.79]\n"
     ]
    },
    {
     "name": "stdout",
     "output_type": "stream",
     "text": [
      "Epoch [545/5000]: Train loss: 1.7201, Valid loss: 1.6676\n"
     ]
    },
    {
     "name": "stderr",
     "output_type": "stream",
     "text": [
      "Epoch [546/5000]: 100%|██████████| 9/9 [00:00<00:00, 414.68it/s, loss=1.51]\n"
     ]
    },
    {
     "name": "stdout",
     "output_type": "stream",
     "text": [
      "Epoch [546/5000]: Train loss: 1.6790, Valid loss: 1.4290\n"
     ]
    },
    {
     "name": "stderr",
     "output_type": "stream",
     "text": [
      "Epoch [547/5000]: 100%|██████████| 9/9 [00:00<00:00, 473.07it/s, loss=1.7]\n"
     ]
    },
    {
     "name": "stdout",
     "output_type": "stream",
     "text": [
      "Epoch [547/5000]: Train loss: 1.7009, Valid loss: 1.2554\n"
     ]
    },
    {
     "name": "stderr",
     "output_type": "stream",
     "text": [
      "Epoch [548/5000]: 100%|██████████| 9/9 [00:00<00:00, 434.97it/s, loss=1.46]\n"
     ]
    },
    {
     "name": "stdout",
     "output_type": "stream",
     "text": [
      "Epoch [548/5000]: Train loss: 1.6788, Valid loss: 1.2283\n"
     ]
    },
    {
     "name": "stderr",
     "output_type": "stream",
     "text": [
      "Epoch [549/5000]: 100%|██████████| 9/9 [00:00<00:00, 454.61it/s, loss=1.85]\n"
     ]
    },
    {
     "name": "stdout",
     "output_type": "stream",
     "text": [
      "Epoch [549/5000]: Train loss: 1.7726, Valid loss: 1.3023\n"
     ]
    },
    {
     "name": "stderr",
     "output_type": "stream",
     "text": [
      "Epoch [550/5000]: 100%|██████████| 9/9 [00:00<00:00, 445.79it/s, loss=2.01]\n"
     ]
    },
    {
     "name": "stdout",
     "output_type": "stream",
     "text": [
      "Epoch [550/5000]: Train loss: 1.7484, Valid loss: 1.1515\n"
     ]
    },
    {
     "name": "stderr",
     "output_type": "stream",
     "text": [
      "Epoch [551/5000]: 100%|██████████| 9/9 [00:00<00:00, 459.47it/s, loss=1.84]\n"
     ]
    },
    {
     "name": "stdout",
     "output_type": "stream",
     "text": [
      "Epoch [551/5000]: Train loss: 1.7293, Valid loss: 1.1954\n"
     ]
    },
    {
     "name": "stderr",
     "output_type": "stream",
     "text": [
      "Epoch [552/5000]: 100%|██████████| 9/9 [00:00<00:00, 464.50it/s, loss=1.69]\n"
     ]
    },
    {
     "name": "stdout",
     "output_type": "stream",
     "text": [
      "Epoch [552/5000]: Train loss: 1.6839, Valid loss: 1.1632\n"
     ]
    },
    {
     "name": "stderr",
     "output_type": "stream",
     "text": [
      "Epoch [553/5000]: 100%|██████████| 9/9 [00:00<00:00, 450.95it/s, loss=1.6]\n"
     ]
    },
    {
     "name": "stdout",
     "output_type": "stream",
     "text": [
      "Epoch [553/5000]: Train loss: 1.7438, Valid loss: 1.1331\n"
     ]
    },
    {
     "name": "stderr",
     "output_type": "stream",
     "text": [
      "Epoch [554/5000]: 100%|██████████| 9/9 [00:00<00:00, 470.81it/s, loss=1.76]\n"
     ]
    },
    {
     "name": "stdout",
     "output_type": "stream",
     "text": [
      "Epoch [554/5000]: Train loss: 1.6843, Valid loss: 1.1834\n"
     ]
    },
    {
     "name": "stderr",
     "output_type": "stream",
     "text": [
      "Epoch [555/5000]: 100%|██████████| 9/9 [00:00<00:00, 460.78it/s, loss=1.45]\n"
     ]
    },
    {
     "name": "stdout",
     "output_type": "stream",
     "text": [
      "Epoch [555/5000]: Train loss: 1.6321, Valid loss: 1.2439\n"
     ]
    },
    {
     "name": "stderr",
     "output_type": "stream",
     "text": [
      "Epoch [556/5000]: 100%|██████████| 9/9 [00:00<00:00, 480.00it/s, loss=1.76]\n"
     ]
    },
    {
     "name": "stdout",
     "output_type": "stream",
     "text": [
      "Epoch [556/5000]: Train loss: 1.6425, Valid loss: 1.1793\n"
     ]
    },
    {
     "name": "stderr",
     "output_type": "stream",
     "text": [
      "Epoch [557/5000]: 100%|██████████| 9/9 [00:00<00:00, 476.31it/s, loss=1.96]\n"
     ]
    },
    {
     "name": "stdout",
     "output_type": "stream",
     "text": [
      "Epoch [557/5000]: Train loss: 1.7279, Valid loss: 1.2834\n"
     ]
    },
    {
     "name": "stderr",
     "output_type": "stream",
     "text": [
      "Epoch [558/5000]: 100%|██████████| 9/9 [00:00<00:00, 438.31it/s, loss=2.05]\n"
     ]
    },
    {
     "name": "stdout",
     "output_type": "stream",
     "text": [
      "Epoch [558/5000]: Train loss: 1.7057, Valid loss: 1.3201\n"
     ]
    },
    {
     "name": "stderr",
     "output_type": "stream",
     "text": [
      "Epoch [559/5000]: 100%|██████████| 9/9 [00:00<00:00, 463.87it/s, loss=1.61]\n"
     ]
    },
    {
     "name": "stdout",
     "output_type": "stream",
     "text": [
      "Epoch [559/5000]: Train loss: 1.6964, Valid loss: 1.2848\n"
     ]
    },
    {
     "name": "stderr",
     "output_type": "stream",
     "text": [
      "Epoch [560/5000]: 100%|██████████| 9/9 [00:00<00:00, 473.09it/s, loss=1.83]\n"
     ]
    },
    {
     "name": "stdout",
     "output_type": "stream",
     "text": [
      "Epoch [560/5000]: Train loss: 1.6066, Valid loss: 1.1433\n"
     ]
    },
    {
     "name": "stderr",
     "output_type": "stream",
     "text": [
      "Epoch [561/5000]: 100%|██████████| 9/9 [00:00<00:00, 435.61it/s, loss=1.44]\n"
     ]
    },
    {
     "name": "stdout",
     "output_type": "stream",
     "text": [
      "Epoch [561/5000]: Train loss: 1.6501, Valid loss: 1.3414\n"
     ]
    },
    {
     "name": "stderr",
     "output_type": "stream",
     "text": [
      "Epoch [562/5000]: 100%|██████████| 9/9 [00:00<00:00, 464.25it/s, loss=1.87]\n"
     ]
    },
    {
     "name": "stdout",
     "output_type": "stream",
     "text": [
      "Epoch [562/5000]: Train loss: 1.6929, Valid loss: 1.5788\n"
     ]
    },
    {
     "name": "stderr",
     "output_type": "stream",
     "text": [
      "Epoch [563/5000]: 100%|██████████| 9/9 [00:00<00:00, 472.07it/s, loss=2.46]\n"
     ]
    },
    {
     "name": "stdout",
     "output_type": "stream",
     "text": [
      "Epoch [563/5000]: Train loss: 1.8522, Valid loss: 1.5937\n"
     ]
    },
    {
     "name": "stderr",
     "output_type": "stream",
     "text": [
      "Epoch [564/5000]: 100%|██████████| 9/9 [00:00<00:00, 475.51it/s, loss=1.68]\n"
     ]
    },
    {
     "name": "stdout",
     "output_type": "stream",
     "text": [
      "Epoch [564/5000]: Train loss: 1.6890, Valid loss: 1.2790\n"
     ]
    },
    {
     "name": "stderr",
     "output_type": "stream",
     "text": [
      "Epoch [565/5000]: 100%|██████████| 9/9 [00:00<00:00, 460.29it/s, loss=2.14]\n"
     ]
    },
    {
     "name": "stdout",
     "output_type": "stream",
     "text": [
      "Epoch [565/5000]: Train loss: 1.7244, Valid loss: 1.2491\n"
     ]
    },
    {
     "name": "stderr",
     "output_type": "stream",
     "text": [
      "Epoch [566/5000]: 100%|██████████| 9/9 [00:00<00:00, 436.96it/s, loss=1.25]\n"
     ]
    },
    {
     "name": "stdout",
     "output_type": "stream",
     "text": [
      "Epoch [566/5000]: Train loss: 1.6707, Valid loss: 1.2261\n"
     ]
    },
    {
     "name": "stderr",
     "output_type": "stream",
     "text": [
      "Epoch [567/5000]: 100%|██████████| 9/9 [00:00<00:00, 457.99it/s, loss=1.31]\n"
     ]
    },
    {
     "name": "stdout",
     "output_type": "stream",
     "text": [
      "Epoch [567/5000]: Train loss: 1.6450, Valid loss: 1.2557\n"
     ]
    },
    {
     "name": "stderr",
     "output_type": "stream",
     "text": [
      "Epoch [568/5000]: 100%|██████████| 9/9 [00:00<00:00, 449.95it/s, loss=1.55]\n"
     ]
    },
    {
     "name": "stdout",
     "output_type": "stream",
     "text": [
      "Epoch [568/5000]: Train loss: 1.7654, Valid loss: 1.1707\n"
     ]
    },
    {
     "name": "stderr",
     "output_type": "stream",
     "text": [
      "Epoch [569/5000]: 100%|██████████| 9/9 [00:00<00:00, 449.10it/s, loss=1.76]\n"
     ]
    },
    {
     "name": "stdout",
     "output_type": "stream",
     "text": [
      "Epoch [569/5000]: Train loss: 1.7790, Valid loss: 1.2472\n"
     ]
    },
    {
     "name": "stderr",
     "output_type": "stream",
     "text": [
      "Epoch [570/5000]: 100%|██████████| 9/9 [00:00<00:00, 412.33it/s, loss=1.49]\n"
     ]
    },
    {
     "name": "stdout",
     "output_type": "stream",
     "text": [
      "Epoch [570/5000]: Train loss: 1.6360, Valid loss: 1.2244\n"
     ]
    },
    {
     "name": "stderr",
     "output_type": "stream",
     "text": [
      "Epoch [571/5000]: 100%|██████████| 9/9 [00:00<00:00, 383.96it/s, loss=1.9]\n"
     ]
    },
    {
     "name": "stdout",
     "output_type": "stream",
     "text": [
      "Epoch [571/5000]: Train loss: 1.6647, Valid loss: 1.1104\n"
     ]
    },
    {
     "name": "stderr",
     "output_type": "stream",
     "text": [
      "Epoch [572/5000]: 100%|██████████| 9/9 [00:00<00:00, 427.53it/s, loss=1.55]\n"
     ]
    },
    {
     "name": "stdout",
     "output_type": "stream",
     "text": [
      "Epoch [572/5000]: Train loss: 1.6444, Valid loss: 1.2958\n"
     ]
    },
    {
     "name": "stderr",
     "output_type": "stream",
     "text": [
      "Epoch [573/5000]: 100%|██████████| 9/9 [00:00<00:00, 457.64it/s, loss=1.73]\n"
     ]
    },
    {
     "name": "stdout",
     "output_type": "stream",
     "text": [
      "Epoch [573/5000]: Train loss: 1.6769, Valid loss: 1.2648\n"
     ]
    },
    {
     "name": "stderr",
     "output_type": "stream",
     "text": [
      "Epoch [574/5000]: 100%|██████████| 9/9 [00:00<00:00, 470.59it/s, loss=1.68]\n"
     ]
    },
    {
     "name": "stdout",
     "output_type": "stream",
     "text": [
      "Epoch [574/5000]: Train loss: 1.7305, Valid loss: 1.2175\n"
     ]
    },
    {
     "name": "stderr",
     "output_type": "stream",
     "text": [
      "Epoch [575/5000]: 100%|██████████| 9/9 [00:00<00:00, 470.32it/s, loss=1.62]\n"
     ]
    },
    {
     "name": "stdout",
     "output_type": "stream",
     "text": [
      "Epoch [575/5000]: Train loss: 1.7096, Valid loss: 1.1359\n"
     ]
    },
    {
     "name": "stderr",
     "output_type": "stream",
     "text": [
      "Epoch [576/5000]: 100%|██████████| 9/9 [00:00<00:00, 457.64it/s, loss=1.74]\n"
     ]
    },
    {
     "name": "stdout",
     "output_type": "stream",
     "text": [
      "Epoch [576/5000]: Train loss: 1.6469, Valid loss: 1.5367\n"
     ]
    },
    {
     "name": "stderr",
     "output_type": "stream",
     "text": [
      "Epoch [577/5000]: 100%|██████████| 9/9 [00:00<00:00, 415.17it/s, loss=1.52]\n"
     ]
    },
    {
     "name": "stdout",
     "output_type": "stream",
     "text": [
      "Epoch [577/5000]: Train loss: 1.6603, Valid loss: 1.2277\n"
     ]
    },
    {
     "name": "stderr",
     "output_type": "stream",
     "text": [
      "Epoch [578/5000]: 100%|██████████| 9/9 [00:00<00:00, 465.31it/s, loss=1.84]\n"
     ]
    },
    {
     "name": "stdout",
     "output_type": "stream",
     "text": [
      "Epoch [578/5000]: Train loss: 1.6939, Valid loss: 1.2922\n"
     ]
    },
    {
     "name": "stderr",
     "output_type": "stream",
     "text": [
      "Epoch [579/5000]: 100%|██████████| 9/9 [00:00<00:00, 464.87it/s, loss=1.7]\n"
     ]
    },
    {
     "name": "stdout",
     "output_type": "stream",
     "text": [
      "Epoch [579/5000]: Train loss: 1.5984, Valid loss: 1.1653\n"
     ]
    },
    {
     "name": "stderr",
     "output_type": "stream",
     "text": [
      "Epoch [580/5000]: 100%|██████████| 9/9 [00:00<00:00, 466.29it/s, loss=2.13]\n"
     ]
    },
    {
     "name": "stdout",
     "output_type": "stream",
     "text": [
      "Epoch [580/5000]: Train loss: 1.6966, Valid loss: 1.0730\n",
      "Saving model with loss 1.073...\n"
     ]
    },
    {
     "name": "stderr",
     "output_type": "stream",
     "text": [
      "Epoch [581/5000]: 100%|██████████| 9/9 [00:00<00:00, 460.90it/s, loss=1.8]\n"
     ]
    },
    {
     "name": "stdout",
     "output_type": "stream",
     "text": [
      "Epoch [581/5000]: Train loss: 1.6564, Valid loss: 1.2933\n"
     ]
    },
    {
     "name": "stderr",
     "output_type": "stream",
     "text": [
      "Epoch [582/5000]: 100%|██████████| 9/9 [00:00<00:00, 405.28it/s, loss=1.47]\n"
     ]
    },
    {
     "name": "stdout",
     "output_type": "stream",
     "text": [
      "Epoch [582/5000]: Train loss: 1.5706, Valid loss: 1.0846\n"
     ]
    },
    {
     "name": "stderr",
     "output_type": "stream",
     "text": [
      "Epoch [583/5000]: 100%|██████████| 9/9 [00:00<00:00, 399.73it/s, loss=1.72]\n"
     ]
    },
    {
     "name": "stdout",
     "output_type": "stream",
     "text": [
      "Epoch [583/5000]: Train loss: 1.6172, Valid loss: 1.1506\n"
     ]
    },
    {
     "name": "stderr",
     "output_type": "stream",
     "text": [
      "Epoch [584/5000]: 100%|██████████| 9/9 [00:00<00:00, 438.45it/s, loss=1.64]\n"
     ]
    },
    {
     "name": "stdout",
     "output_type": "stream",
     "text": [
      "Epoch [584/5000]: Train loss: 1.6385, Valid loss: 1.2653\n"
     ]
    },
    {
     "name": "stderr",
     "output_type": "stream",
     "text": [
      "Epoch [585/5000]: 100%|██████████| 9/9 [00:00<00:00, 466.20it/s, loss=1.78]\n"
     ]
    },
    {
     "name": "stdout",
     "output_type": "stream",
     "text": [
      "Epoch [585/5000]: Train loss: 1.6659, Valid loss: 1.2680\n"
     ]
    },
    {
     "name": "stderr",
     "output_type": "stream",
     "text": [
      "Epoch [586/5000]: 100%|██████████| 9/9 [00:00<00:00, 467.49it/s, loss=2.01]\n"
     ]
    },
    {
     "name": "stdout",
     "output_type": "stream",
     "text": [
      "Epoch [586/5000]: Train loss: 1.7092, Valid loss: 1.3527\n"
     ]
    },
    {
     "name": "stderr",
     "output_type": "stream",
     "text": [
      "Epoch [587/5000]: 100%|██████████| 9/9 [00:00<00:00, 468.99it/s, loss=1.92]\n"
     ]
    },
    {
     "name": "stdout",
     "output_type": "stream",
     "text": [
      "Epoch [587/5000]: Train loss: 1.6758, Valid loss: 1.0882\n"
     ]
    },
    {
     "name": "stderr",
     "output_type": "stream",
     "text": [
      "Epoch [588/5000]: 100%|██████████| 9/9 [00:00<00:00, 468.33it/s, loss=1.78]\n"
     ]
    },
    {
     "name": "stdout",
     "output_type": "stream",
     "text": [
      "Epoch [588/5000]: Train loss: 1.6954, Valid loss: 1.1826\n"
     ]
    },
    {
     "name": "stderr",
     "output_type": "stream",
     "text": [
      "Epoch [589/5000]: 100%|██████████| 9/9 [00:00<00:00, 451.95it/s, loss=1.71]\n"
     ]
    },
    {
     "name": "stdout",
     "output_type": "stream",
     "text": [
      "Epoch [589/5000]: Train loss: 1.6592, Valid loss: 1.3705\n"
     ]
    },
    {
     "name": "stderr",
     "output_type": "stream",
     "text": [
      "Epoch [590/5000]: 100%|██████████| 9/9 [00:00<00:00, 451.29it/s, loss=1.74]\n"
     ]
    },
    {
     "name": "stdout",
     "output_type": "stream",
     "text": [
      "Epoch [590/5000]: Train loss: 1.6915, Valid loss: 1.1617\n"
     ]
    },
    {
     "name": "stderr",
     "output_type": "stream",
     "text": [
      "Epoch [591/5000]: 100%|██████████| 9/9 [00:00<00:00, 432.25it/s, loss=1.71]\n"
     ]
    },
    {
     "name": "stdout",
     "output_type": "stream",
     "text": [
      "Epoch [591/5000]: Train loss: 1.6258, Valid loss: 1.1782\n"
     ]
    },
    {
     "name": "stderr",
     "output_type": "stream",
     "text": [
      "Epoch [592/5000]: 100%|██████████| 9/9 [00:00<00:00, 419.65it/s, loss=1.5]\n"
     ]
    },
    {
     "name": "stdout",
     "output_type": "stream",
     "text": [
      "Epoch [592/5000]: Train loss: 1.6276, Valid loss: 1.2720\n"
     ]
    },
    {
     "name": "stderr",
     "output_type": "stream",
     "text": [
      "Epoch [593/5000]: 100%|██████████| 9/9 [00:00<00:00, 467.85it/s, loss=2.28]\n"
     ]
    },
    {
     "name": "stdout",
     "output_type": "stream",
     "text": [
      "Epoch [593/5000]: Train loss: 1.7331, Valid loss: 1.1623\n"
     ]
    },
    {
     "name": "stderr",
     "output_type": "stream",
     "text": [
      "Epoch [594/5000]: 100%|██████████| 9/9 [00:00<00:00, 468.14it/s, loss=1.66]\n"
     ]
    },
    {
     "name": "stdout",
     "output_type": "stream",
     "text": [
      "Epoch [594/5000]: Train loss: 1.6722, Valid loss: 1.3234\n"
     ]
    },
    {
     "name": "stderr",
     "output_type": "stream",
     "text": [
      "Epoch [595/5000]: 100%|██████████| 9/9 [00:00<00:00, 458.15it/s, loss=1.99]\n"
     ]
    },
    {
     "name": "stdout",
     "output_type": "stream",
     "text": [
      "Epoch [595/5000]: Train loss: 1.6792, Valid loss: 1.2756\n"
     ]
    },
    {
     "name": "stderr",
     "output_type": "stream",
     "text": [
      "Epoch [596/5000]: 100%|██████████| 9/9 [00:00<00:00, 444.19it/s, loss=1.5]\n"
     ]
    },
    {
     "name": "stdout",
     "output_type": "stream",
     "text": [
      "Epoch [596/5000]: Train loss: 1.6328, Valid loss: 1.3666\n"
     ]
    },
    {
     "name": "stderr",
     "output_type": "stream",
     "text": [
      "Epoch [597/5000]: 100%|██████████| 9/9 [00:00<00:00, 448.97it/s, loss=1.5]\n"
     ]
    },
    {
     "name": "stdout",
     "output_type": "stream",
     "text": [
      "Epoch [597/5000]: Train loss: 1.5589, Valid loss: 1.1566\n"
     ]
    },
    {
     "name": "stderr",
     "output_type": "stream",
     "text": [
      "Epoch [598/5000]: 100%|██████████| 9/9 [00:00<00:00, 419.33it/s, loss=2]\n"
     ]
    },
    {
     "name": "stdout",
     "output_type": "stream",
     "text": [
      "Epoch [598/5000]: Train loss: 1.6195, Valid loss: 1.2939\n"
     ]
    },
    {
     "name": "stderr",
     "output_type": "stream",
     "text": [
      "Epoch [599/5000]: 100%|██████████| 9/9 [00:00<00:00, 455.72it/s, loss=1.54]\n"
     ]
    },
    {
     "name": "stdout",
     "output_type": "stream",
     "text": [
      "Epoch [599/5000]: Train loss: 1.6425, Valid loss: 1.2697\n"
     ]
    },
    {
     "name": "stderr",
     "output_type": "stream",
     "text": [
      "Epoch [600/5000]: 100%|██████████| 9/9 [00:00<00:00, 467.86it/s, loss=1.59]\n"
     ]
    },
    {
     "name": "stdout",
     "output_type": "stream",
     "text": [
      "Epoch [600/5000]: Train loss: 1.5851, Valid loss: 1.0475\n",
      "Saving model with loss 1.048...\n"
     ]
    },
    {
     "name": "stderr",
     "output_type": "stream",
     "text": [
      "Epoch [601/5000]: 100%|██████████| 9/9 [00:00<00:00, 435.86it/s, loss=1.87]\n"
     ]
    },
    {
     "name": "stdout",
     "output_type": "stream",
     "text": [
      "Epoch [601/5000]: Train loss: 1.7063, Valid loss: 1.1505\n"
     ]
    },
    {
     "name": "stderr",
     "output_type": "stream",
     "text": [
      "Epoch [602/5000]: 100%|██████████| 9/9 [00:00<00:00, 434.47it/s, loss=1.54]\n"
     ]
    },
    {
     "name": "stdout",
     "output_type": "stream",
     "text": [
      "Epoch [602/5000]: Train loss: 1.6298, Valid loss: 1.1359\n"
     ]
    },
    {
     "name": "stderr",
     "output_type": "stream",
     "text": [
      "Epoch [603/5000]: 100%|██████████| 9/9 [00:00<00:00, 443.87it/s, loss=2.55]\n"
     ]
    },
    {
     "name": "stdout",
     "output_type": "stream",
     "text": [
      "Epoch [603/5000]: Train loss: 1.7653, Valid loss: 1.0955\n"
     ]
    },
    {
     "name": "stderr",
     "output_type": "stream",
     "text": [
      "Epoch [604/5000]: 100%|██████████| 9/9 [00:00<00:00, 453.43it/s, loss=1.43]\n"
     ]
    },
    {
     "name": "stdout",
     "output_type": "stream",
     "text": [
      "Epoch [604/5000]: Train loss: 1.5654, Valid loss: 1.1613\n"
     ]
    },
    {
     "name": "stderr",
     "output_type": "stream",
     "text": [
      "Epoch [605/5000]: 100%|██████████| 9/9 [00:00<00:00, 434.47it/s, loss=1.78]\n"
     ]
    },
    {
     "name": "stdout",
     "output_type": "stream",
     "text": [
      "Epoch [605/5000]: Train loss: 1.6688, Valid loss: 1.3866\n"
     ]
    },
    {
     "name": "stderr",
     "output_type": "stream",
     "text": [
      "Epoch [606/5000]: 100%|██████████| 9/9 [00:00<00:00, 458.23it/s, loss=1.68]\n"
     ]
    },
    {
     "name": "stdout",
     "output_type": "stream",
     "text": [
      "Epoch [606/5000]: Train loss: 1.6751, Valid loss: 1.2671\n"
     ]
    },
    {
     "name": "stderr",
     "output_type": "stream",
     "text": [
      "Epoch [607/5000]: 100%|██████████| 9/9 [00:00<00:00, 475.66it/s, loss=1.6]\n"
     ]
    },
    {
     "name": "stdout",
     "output_type": "stream",
     "text": [
      "Epoch [607/5000]: Train loss: 1.5963, Valid loss: 1.2942\n"
     ]
    },
    {
     "name": "stderr",
     "output_type": "stream",
     "text": [
      "Epoch [608/5000]: 100%|██████████| 9/9 [00:00<00:00, 476.29it/s, loss=2.06]\n"
     ]
    },
    {
     "name": "stdout",
     "output_type": "stream",
     "text": [
      "Epoch [608/5000]: Train loss: 1.6876, Valid loss: 1.1401\n"
     ]
    },
    {
     "name": "stderr",
     "output_type": "stream",
     "text": [
      "Epoch [609/5000]: 100%|██████████| 9/9 [00:00<00:00, 456.71it/s, loss=1.82]\n"
     ]
    },
    {
     "name": "stdout",
     "output_type": "stream",
     "text": [
      "Epoch [609/5000]: Train loss: 1.6934, Valid loss: 1.1503\n"
     ]
    },
    {
     "name": "stderr",
     "output_type": "stream",
     "text": [
      "Epoch [610/5000]: 100%|██████████| 9/9 [00:00<00:00, 445.54it/s, loss=1.37]\n"
     ]
    },
    {
     "name": "stdout",
     "output_type": "stream",
     "text": [
      "Epoch [610/5000]: Train loss: 1.5695, Valid loss: 1.1547\n"
     ]
    },
    {
     "name": "stderr",
     "output_type": "stream",
     "text": [
      "Epoch [611/5000]: 100%|██████████| 9/9 [00:00<00:00, 420.91it/s, loss=1.75]\n"
     ]
    },
    {
     "name": "stdout",
     "output_type": "stream",
     "text": [
      "Epoch [611/5000]: Train loss: 1.6747, Valid loss: 1.2227\n"
     ]
    },
    {
     "name": "stderr",
     "output_type": "stream",
     "text": [
      "Epoch [612/5000]: 100%|██████████| 9/9 [00:00<00:00, 413.79it/s, loss=2.12]\n"
     ]
    },
    {
     "name": "stdout",
     "output_type": "stream",
     "text": [
      "Epoch [612/5000]: Train loss: 1.6732, Valid loss: 1.2757\n"
     ]
    },
    {
     "name": "stderr",
     "output_type": "stream",
     "text": [
      "Epoch [613/5000]: 100%|██████████| 9/9 [00:00<00:00, 414.38it/s, loss=1.91]\n"
     ]
    },
    {
     "name": "stdout",
     "output_type": "stream",
     "text": [
      "Epoch [613/5000]: Train loss: 1.5851, Valid loss: 1.1813\n"
     ]
    },
    {
     "name": "stderr",
     "output_type": "stream",
     "text": [
      "Epoch [614/5000]: 100%|██████████| 9/9 [00:00<00:00, 452.87it/s, loss=1.69]\n"
     ]
    },
    {
     "name": "stdout",
     "output_type": "stream",
     "text": [
      "Epoch [614/5000]: Train loss: 1.5498, Valid loss: 1.2652\n"
     ]
    },
    {
     "name": "stderr",
     "output_type": "stream",
     "text": [
      "Epoch [615/5000]: 100%|██████████| 9/9 [00:00<00:00, 462.89it/s, loss=1.67]\n"
     ]
    },
    {
     "name": "stdout",
     "output_type": "stream",
     "text": [
      "Epoch [615/5000]: Train loss: 1.6465, Valid loss: 1.0692\n"
     ]
    },
    {
     "name": "stderr",
     "output_type": "stream",
     "text": [
      "Epoch [616/5000]: 100%|██████████| 9/9 [00:00<00:00, 445.63it/s, loss=1.55]\n"
     ]
    },
    {
     "name": "stdout",
     "output_type": "stream",
     "text": [
      "Epoch [616/5000]: Train loss: 1.6173, Valid loss: 1.1210\n"
     ]
    },
    {
     "name": "stderr",
     "output_type": "stream",
     "text": [
      "Epoch [617/5000]: 100%|██████████| 9/9 [00:00<00:00, 425.52it/s, loss=1.44]\n"
     ]
    },
    {
     "name": "stdout",
     "output_type": "stream",
     "text": [
      "Epoch [617/5000]: Train loss: 1.5279, Valid loss: 1.2477\n"
     ]
    },
    {
     "name": "stderr",
     "output_type": "stream",
     "text": [
      "Epoch [618/5000]: 100%|██████████| 9/9 [00:00<00:00, 454.15it/s, loss=1.97]\n"
     ]
    },
    {
     "name": "stdout",
     "output_type": "stream",
     "text": [
      "Epoch [618/5000]: Train loss: 1.6189, Valid loss: 1.1925\n"
     ]
    },
    {
     "name": "stderr",
     "output_type": "stream",
     "text": [
      "Epoch [619/5000]: 100%|██████████| 9/9 [00:00<00:00, 462.87it/s, loss=1.72]\n"
     ]
    },
    {
     "name": "stdout",
     "output_type": "stream",
     "text": [
      "Epoch [619/5000]: Train loss: 1.5731, Valid loss: 1.1086\n"
     ]
    },
    {
     "name": "stderr",
     "output_type": "stream",
     "text": [
      "Epoch [620/5000]: 100%|██████████| 9/9 [00:00<00:00, 456.85it/s, loss=1.79]\n"
     ]
    },
    {
     "name": "stdout",
     "output_type": "stream",
     "text": [
      "Epoch [620/5000]: Train loss: 1.6018, Valid loss: 1.3480\n"
     ]
    },
    {
     "name": "stderr",
     "output_type": "stream",
     "text": [
      "Epoch [621/5000]: 100%|██████████| 9/9 [00:00<00:00, 460.24it/s, loss=1.64]\n"
     ]
    },
    {
     "name": "stdout",
     "output_type": "stream",
     "text": [
      "Epoch [621/5000]: Train loss: 1.6247, Valid loss: 1.1786\n"
     ]
    },
    {
     "name": "stderr",
     "output_type": "stream",
     "text": [
      "Epoch [622/5000]: 100%|██████████| 9/9 [00:00<00:00, 419.27it/s, loss=1.44]\n"
     ]
    },
    {
     "name": "stdout",
     "output_type": "stream",
     "text": [
      "Epoch [622/5000]: Train loss: 1.5896, Valid loss: 1.1776\n"
     ]
    },
    {
     "name": "stderr",
     "output_type": "stream",
     "text": [
      "Epoch [623/5000]: 100%|██████████| 9/9 [00:00<00:00, 432.24it/s, loss=1.61]\n"
     ]
    },
    {
     "name": "stdout",
     "output_type": "stream",
     "text": [
      "Epoch [623/5000]: Train loss: 1.5823, Valid loss: 1.1288\n"
     ]
    },
    {
     "name": "stderr",
     "output_type": "stream",
     "text": [
      "Epoch [624/5000]: 100%|██████████| 9/9 [00:00<00:00, 424.45it/s, loss=1.95]\n"
     ]
    },
    {
     "name": "stdout",
     "output_type": "stream",
     "text": [
      "Epoch [624/5000]: Train loss: 1.6654, Valid loss: 1.1518\n"
     ]
    },
    {
     "name": "stderr",
     "output_type": "stream",
     "text": [
      "Epoch [625/5000]: 100%|██████████| 9/9 [00:00<00:00, 397.11it/s, loss=1.43]\n"
     ]
    },
    {
     "name": "stdout",
     "output_type": "stream",
     "text": [
      "Epoch [625/5000]: Train loss: 1.5698, Valid loss: 1.3464\n"
     ]
    },
    {
     "name": "stderr",
     "output_type": "stream",
     "text": [
      "Epoch [626/5000]: 100%|██████████| 9/9 [00:00<00:00, 433.28it/s, loss=1.79]\n"
     ]
    },
    {
     "name": "stdout",
     "output_type": "stream",
     "text": [
      "Epoch [626/5000]: Train loss: 1.6162, Valid loss: 1.0520\n"
     ]
    },
    {
     "name": "stderr",
     "output_type": "stream",
     "text": [
      "Epoch [627/5000]: 100%|██████████| 9/9 [00:00<00:00, 468.12it/s, loss=1.59]\n"
     ]
    },
    {
     "name": "stdout",
     "output_type": "stream",
     "text": [
      "Epoch [627/5000]: Train loss: 1.6488, Valid loss: 1.0709\n"
     ]
    },
    {
     "name": "stderr",
     "output_type": "stream",
     "text": [
      "Epoch [628/5000]: 100%|██████████| 9/9 [00:00<00:00, 469.16it/s, loss=1.96]\n"
     ]
    },
    {
     "name": "stdout",
     "output_type": "stream",
     "text": [
      "Epoch [628/5000]: Train loss: 1.6213, Valid loss: 1.3312\n"
     ]
    },
    {
     "name": "stderr",
     "output_type": "stream",
     "text": [
      "Epoch [629/5000]: 100%|██████████| 9/9 [00:00<00:00, 431.41it/s, loss=1.74]\n"
     ]
    },
    {
     "name": "stdout",
     "output_type": "stream",
     "text": [
      "Epoch [629/5000]: Train loss: 1.6487, Valid loss: 1.3799\n"
     ]
    },
    {
     "name": "stderr",
     "output_type": "stream",
     "text": [
      "Epoch [630/5000]: 100%|██████████| 9/9 [00:00<00:00, 481.10it/s, loss=1.59]\n"
     ]
    },
    {
     "name": "stdout",
     "output_type": "stream",
     "text": [
      "Epoch [630/5000]: Train loss: 1.5607, Valid loss: 1.3348\n"
     ]
    },
    {
     "name": "stderr",
     "output_type": "stream",
     "text": [
      "Epoch [631/5000]: 100%|██████████| 9/9 [00:00<00:00, 430.21it/s, loss=1.31]\n"
     ]
    },
    {
     "name": "stdout",
     "output_type": "stream",
     "text": [
      "Epoch [631/5000]: Train loss: 1.6007, Valid loss: 1.2839\n"
     ]
    },
    {
     "name": "stderr",
     "output_type": "stream",
     "text": [
      "Epoch [632/5000]: 100%|██████████| 9/9 [00:00<00:00, 458.62it/s, loss=1.78]\n"
     ]
    },
    {
     "name": "stdout",
     "output_type": "stream",
     "text": [
      "Epoch [632/5000]: Train loss: 1.6364, Valid loss: 1.0822\n"
     ]
    },
    {
     "name": "stderr",
     "output_type": "stream",
     "text": [
      "Epoch [633/5000]: 100%|██████████| 9/9 [00:00<00:00, 468.66it/s, loss=1.64]\n"
     ]
    },
    {
     "name": "stdout",
     "output_type": "stream",
     "text": [
      "Epoch [633/5000]: Train loss: 1.5832, Valid loss: 1.0819\n"
     ]
    },
    {
     "name": "stderr",
     "output_type": "stream",
     "text": [
      "Epoch [634/5000]: 100%|██████████| 9/9 [00:00<00:00, 439.43it/s, loss=1.53]\n"
     ]
    },
    {
     "name": "stdout",
     "output_type": "stream",
     "text": [
      "Epoch [634/5000]: Train loss: 1.5097, Valid loss: 1.1518\n"
     ]
    },
    {
     "name": "stderr",
     "output_type": "stream",
     "text": [
      "Epoch [635/5000]: 100%|██████████| 9/9 [00:00<00:00, 466.75it/s, loss=1.63]\n"
     ]
    },
    {
     "name": "stdout",
     "output_type": "stream",
     "text": [
      "Epoch [635/5000]: Train loss: 1.6690, Valid loss: 1.1730\n"
     ]
    },
    {
     "name": "stderr",
     "output_type": "stream",
     "text": [
      "Epoch [636/5000]: 100%|██████████| 9/9 [00:00<00:00, 446.83it/s, loss=1.58]\n"
     ]
    },
    {
     "name": "stdout",
     "output_type": "stream",
     "text": [
      "Epoch [636/5000]: Train loss: 1.5923, Valid loss: 1.1381\n"
     ]
    },
    {
     "name": "stderr",
     "output_type": "stream",
     "text": [
      "Epoch [637/5000]: 100%|██████████| 9/9 [00:00<00:00, 456.62it/s, loss=1.78]\n"
     ]
    },
    {
     "name": "stdout",
     "output_type": "stream",
     "text": [
      "Epoch [637/5000]: Train loss: 1.6139, Valid loss: 1.1882\n"
     ]
    },
    {
     "name": "stderr",
     "output_type": "stream",
     "text": [
      "Epoch [638/5000]: 100%|██████████| 9/9 [00:00<00:00, 417.94it/s, loss=1.51]\n"
     ]
    },
    {
     "name": "stdout",
     "output_type": "stream",
     "text": [
      "Epoch [638/5000]: Train loss: 1.6327, Valid loss: 1.1853\n"
     ]
    },
    {
     "name": "stderr",
     "output_type": "stream",
     "text": [
      "Epoch [639/5000]: 100%|██████████| 9/9 [00:00<00:00, 432.90it/s, loss=1.45]\n"
     ]
    },
    {
     "name": "stdout",
     "output_type": "stream",
     "text": [
      "Epoch [639/5000]: Train loss: 1.5256, Valid loss: 1.0695\n"
     ]
    },
    {
     "name": "stderr",
     "output_type": "stream",
     "text": [
      "Epoch [640/5000]: 100%|██████████| 9/9 [00:00<00:00, 418.16it/s, loss=1.72]\n"
     ]
    },
    {
     "name": "stdout",
     "output_type": "stream",
     "text": [
      "Epoch [640/5000]: Train loss: 1.6908, Valid loss: 1.1110\n"
     ]
    },
    {
     "name": "stderr",
     "output_type": "stream",
     "text": [
      "Epoch [641/5000]: 100%|██████████| 9/9 [00:00<00:00, 372.96it/s, loss=1.47]\n"
     ]
    },
    {
     "name": "stdout",
     "output_type": "stream",
     "text": [
      "Epoch [641/5000]: Train loss: 1.5983, Valid loss: 1.1099\n"
     ]
    },
    {
     "name": "stderr",
     "output_type": "stream",
     "text": [
      "Epoch [642/5000]: 100%|██████████| 9/9 [00:00<00:00, 364.02it/s, loss=2]\n"
     ]
    },
    {
     "name": "stdout",
     "output_type": "stream",
     "text": [
      "Epoch [642/5000]: Train loss: 1.6281, Valid loss: 1.2177\n"
     ]
    },
    {
     "name": "stderr",
     "output_type": "stream",
     "text": [
      "Epoch [643/5000]: 100%|██████████| 9/9 [00:00<00:00, 390.08it/s, loss=1.49]\n"
     ]
    },
    {
     "name": "stdout",
     "output_type": "stream",
     "text": [
      "Epoch [643/5000]: Train loss: 1.5895, Valid loss: 1.1316\n"
     ]
    },
    {
     "name": "stderr",
     "output_type": "stream",
     "text": [
      "Epoch [644/5000]: 100%|██████████| 9/9 [00:00<00:00, 410.53it/s, loss=1.51]\n"
     ]
    },
    {
     "name": "stdout",
     "output_type": "stream",
     "text": [
      "Epoch [644/5000]: Train loss: 1.5793, Valid loss: 1.2466\n"
     ]
    },
    {
     "name": "stderr",
     "output_type": "stream",
     "text": [
      "Epoch [645/5000]: 100%|██████████| 9/9 [00:00<00:00, 402.34it/s, loss=1.26]\n"
     ]
    },
    {
     "name": "stdout",
     "output_type": "stream",
     "text": [
      "Epoch [645/5000]: Train loss: 1.5514, Valid loss: 1.0618\n"
     ]
    },
    {
     "name": "stderr",
     "output_type": "stream",
     "text": [
      "Epoch [646/5000]: 100%|██████████| 9/9 [00:00<00:00, 437.66it/s, loss=1.57]\n"
     ]
    },
    {
     "name": "stdout",
     "output_type": "stream",
     "text": [
      "Epoch [646/5000]: Train loss: 1.5318, Valid loss: 1.1027\n"
     ]
    },
    {
     "name": "stderr",
     "output_type": "stream",
     "text": [
      "Epoch [647/5000]: 100%|██████████| 9/9 [00:00<00:00, 426.26it/s, loss=1.35]\n"
     ]
    },
    {
     "name": "stdout",
     "output_type": "stream",
     "text": [
      "Epoch [647/5000]: Train loss: 1.5600, Valid loss: 1.0984\n"
     ]
    },
    {
     "name": "stderr",
     "output_type": "stream",
     "text": [
      "Epoch [648/5000]: 100%|██████████| 9/9 [00:00<00:00, 440.57it/s, loss=1.33]\n"
     ]
    },
    {
     "name": "stdout",
     "output_type": "stream",
     "text": [
      "Epoch [648/5000]: Train loss: 1.5619, Valid loss: 1.1798\n"
     ]
    },
    {
     "name": "stderr",
     "output_type": "stream",
     "text": [
      "Epoch [649/5000]: 100%|██████████| 9/9 [00:00<00:00, 422.93it/s, loss=1.68]\n"
     ]
    },
    {
     "name": "stdout",
     "output_type": "stream",
     "text": [
      "Epoch [649/5000]: Train loss: 1.5958, Valid loss: 1.1022\n"
     ]
    },
    {
     "name": "stderr",
     "output_type": "stream",
     "text": [
      "Epoch [650/5000]: 100%|██████████| 9/9 [00:00<00:00, 458.60it/s, loss=1.48]\n"
     ]
    },
    {
     "name": "stdout",
     "output_type": "stream",
     "text": [
      "Epoch [650/5000]: Train loss: 1.5995, Valid loss: 1.1548\n"
     ]
    },
    {
     "name": "stderr",
     "output_type": "stream",
     "text": [
      "Epoch [651/5000]: 100%|██████████| 9/9 [00:00<00:00, 427.53it/s, loss=1.8]\n"
     ]
    },
    {
     "name": "stdout",
     "output_type": "stream",
     "text": [
      "Epoch [651/5000]: Train loss: 1.5922, Valid loss: 1.3225\n"
     ]
    },
    {
     "name": "stderr",
     "output_type": "stream",
     "text": [
      "Epoch [652/5000]: 100%|██████████| 9/9 [00:00<00:00, 420.65it/s, loss=1.66]\n"
     ]
    },
    {
     "name": "stdout",
     "output_type": "stream",
     "text": [
      "Epoch [652/5000]: Train loss: 1.6194, Valid loss: 0.9968\n",
      "Saving model with loss 0.997...\n"
     ]
    },
    {
     "name": "stderr",
     "output_type": "stream",
     "text": [
      "Epoch [653/5000]: 100%|██████████| 9/9 [00:00<00:00, 447.51it/s, loss=1.74]\n"
     ]
    },
    {
     "name": "stdout",
     "output_type": "stream",
     "text": [
      "Epoch [653/5000]: Train loss: 1.6083, Valid loss: 1.1058\n"
     ]
    },
    {
     "name": "stderr",
     "output_type": "stream",
     "text": [
      "Epoch [654/5000]: 100%|██████████| 9/9 [00:00<00:00, 434.99it/s, loss=1.53]\n"
     ]
    },
    {
     "name": "stdout",
     "output_type": "stream",
     "text": [
      "Epoch [654/5000]: Train loss: 1.5304, Valid loss: 1.1542\n"
     ]
    },
    {
     "name": "stderr",
     "output_type": "stream",
     "text": [
      "Epoch [655/5000]: 100%|██████████| 9/9 [00:00<00:00, 449.58it/s, loss=1.38]\n"
     ]
    },
    {
     "name": "stdout",
     "output_type": "stream",
     "text": [
      "Epoch [655/5000]: Train loss: 1.5823, Valid loss: 1.0558\n"
     ]
    },
    {
     "name": "stderr",
     "output_type": "stream",
     "text": [
      "Epoch [656/5000]: 100%|██████████| 9/9 [00:00<00:00, 396.88it/s, loss=1.58]\n"
     ]
    },
    {
     "name": "stdout",
     "output_type": "stream",
     "text": [
      "Epoch [656/5000]: Train loss: 1.5941, Valid loss: 1.0453\n"
     ]
    },
    {
     "name": "stderr",
     "output_type": "stream",
     "text": [
      "Epoch [657/5000]: 100%|██████████| 9/9 [00:00<00:00, 381.84it/s, loss=1.46]\n"
     ]
    },
    {
     "name": "stdout",
     "output_type": "stream",
     "text": [
      "Epoch [657/5000]: Train loss: 1.5620, Valid loss: 1.1120\n"
     ]
    },
    {
     "name": "stderr",
     "output_type": "stream",
     "text": [
      "Epoch [658/5000]: 100%|██████████| 9/9 [00:00<00:00, 370.46it/s, loss=1.93]\n"
     ]
    },
    {
     "name": "stdout",
     "output_type": "stream",
     "text": [
      "Epoch [658/5000]: Train loss: 1.6449, Valid loss: 1.3370\n"
     ]
    },
    {
     "name": "stderr",
     "output_type": "stream",
     "text": [
      "Epoch [659/5000]: 100%|██████████| 9/9 [00:00<00:00, 402.02it/s, loss=1.61]\n"
     ]
    },
    {
     "name": "stdout",
     "output_type": "stream",
     "text": [
      "Epoch [659/5000]: Train loss: 1.5815, Valid loss: 1.2661\n"
     ]
    },
    {
     "name": "stderr",
     "output_type": "stream",
     "text": [
      "Epoch [660/5000]: 100%|██████████| 9/9 [00:00<00:00, 390.25it/s, loss=1.38]\n"
     ]
    },
    {
     "name": "stdout",
     "output_type": "stream",
     "text": [
      "Epoch [660/5000]: Train loss: 1.5778, Valid loss: 1.1271\n"
     ]
    },
    {
     "name": "stderr",
     "output_type": "stream",
     "text": [
      "Epoch [661/5000]: 100%|██████████| 9/9 [00:00<00:00, 419.55it/s, loss=1.68]\n"
     ]
    },
    {
     "name": "stdout",
     "output_type": "stream",
     "text": [
      "Epoch [661/5000]: Train loss: 1.5794, Valid loss: 1.2002\n"
     ]
    },
    {
     "name": "stderr",
     "output_type": "stream",
     "text": [
      "Epoch [662/5000]: 100%|██████████| 9/9 [00:00<00:00, 398.90it/s, loss=1.69]\n"
     ]
    },
    {
     "name": "stdout",
     "output_type": "stream",
     "text": [
      "Epoch [662/5000]: Train loss: 1.5344, Valid loss: 1.3142\n"
     ]
    },
    {
     "name": "stderr",
     "output_type": "stream",
     "text": [
      "Epoch [663/5000]: 100%|██████████| 9/9 [00:00<00:00, 375.89it/s, loss=1.53]\n"
     ]
    },
    {
     "name": "stdout",
     "output_type": "stream",
     "text": [
      "Epoch [663/5000]: Train loss: 1.6604, Valid loss: 1.0229\n"
     ]
    },
    {
     "name": "stderr",
     "output_type": "stream",
     "text": [
      "Epoch [664/5000]: 100%|██████████| 9/9 [00:00<00:00, 410.58it/s, loss=1.61]\n"
     ]
    },
    {
     "name": "stdout",
     "output_type": "stream",
     "text": [
      "Epoch [664/5000]: Train loss: 1.6711, Valid loss: 1.0511\n"
     ]
    },
    {
     "name": "stderr",
     "output_type": "stream",
     "text": [
      "Epoch [665/5000]: 100%|██████████| 9/9 [00:00<00:00, 387.42it/s, loss=1.45]\n"
     ]
    },
    {
     "name": "stdout",
     "output_type": "stream",
     "text": [
      "Epoch [665/5000]: Train loss: 1.5693, Valid loss: 1.1332\n"
     ]
    },
    {
     "name": "stderr",
     "output_type": "stream",
     "text": [
      "Epoch [666/5000]: 100%|██████████| 9/9 [00:00<00:00, 411.47it/s, loss=1.64]\n"
     ]
    },
    {
     "name": "stdout",
     "output_type": "stream",
     "text": [
      "Epoch [666/5000]: Train loss: 1.5462, Valid loss: 1.2129\n"
     ]
    },
    {
     "name": "stderr",
     "output_type": "stream",
     "text": [
      "Epoch [667/5000]: 100%|██████████| 9/9 [00:00<00:00, 390.88it/s, loss=1.72]\n"
     ]
    },
    {
     "name": "stdout",
     "output_type": "stream",
     "text": [
      "Epoch [667/5000]: Train loss: 1.5607, Valid loss: 1.0880\n"
     ]
    },
    {
     "name": "stderr",
     "output_type": "stream",
     "text": [
      "Epoch [668/5000]: 100%|██████████| 9/9 [00:00<00:00, 407.22it/s, loss=1.68]\n"
     ]
    },
    {
     "name": "stdout",
     "output_type": "stream",
     "text": [
      "Epoch [668/5000]: Train loss: 1.5642, Valid loss: 1.1575\n"
     ]
    },
    {
     "name": "stderr",
     "output_type": "stream",
     "text": [
      "Epoch [669/5000]: 100%|██████████| 9/9 [00:00<00:00, 373.18it/s, loss=1.52]\n"
     ]
    },
    {
     "name": "stdout",
     "output_type": "stream",
     "text": [
      "Epoch [669/5000]: Train loss: 1.5592, Valid loss: 1.2006\n"
     ]
    },
    {
     "name": "stderr",
     "output_type": "stream",
     "text": [
      "Epoch [670/5000]: 100%|██████████| 9/9 [00:00<00:00, 316.98it/s, loss=1.24]\n"
     ]
    },
    {
     "name": "stdout",
     "output_type": "stream",
     "text": [
      "Epoch [670/5000]: Train loss: 1.4981, Valid loss: 1.0492\n"
     ]
    },
    {
     "name": "stderr",
     "output_type": "stream",
     "text": [
      "Epoch [671/5000]: 100%|██████████| 9/9 [00:00<00:00, 392.99it/s, loss=1.94]\n"
     ]
    },
    {
     "name": "stdout",
     "output_type": "stream",
     "text": [
      "Epoch [671/5000]: Train loss: 1.6018, Valid loss: 1.0213\n"
     ]
    },
    {
     "name": "stderr",
     "output_type": "stream",
     "text": [
      "Epoch [672/5000]: 100%|██████████| 9/9 [00:00<00:00, 403.59it/s, loss=2.1]\n"
     ]
    },
    {
     "name": "stdout",
     "output_type": "stream",
     "text": [
      "Epoch [672/5000]: Train loss: 1.6187, Valid loss: 1.1654\n"
     ]
    },
    {
     "name": "stderr",
     "output_type": "stream",
     "text": [
      "Epoch [673/5000]: 100%|██████████| 9/9 [00:00<00:00, 403.52it/s, loss=1.7]\n"
     ]
    },
    {
     "name": "stdout",
     "output_type": "stream",
     "text": [
      "Epoch [673/5000]: Train loss: 1.5576, Valid loss: 1.2102\n"
     ]
    },
    {
     "name": "stderr",
     "output_type": "stream",
     "text": [
      "Epoch [674/5000]: 100%|██████████| 9/9 [00:00<00:00, 387.42it/s, loss=1.27]\n"
     ]
    },
    {
     "name": "stdout",
     "output_type": "stream",
     "text": [
      "Epoch [674/5000]: Train loss: 1.5727, Valid loss: 1.3145\n"
     ]
    },
    {
     "name": "stderr",
     "output_type": "stream",
     "text": [
      "Epoch [675/5000]: 100%|██████████| 9/9 [00:00<00:00, 444.53it/s, loss=1.96]\n"
     ]
    },
    {
     "name": "stdout",
     "output_type": "stream",
     "text": [
      "Epoch [675/5000]: Train loss: 1.5897, Valid loss: 1.1655\n"
     ]
    },
    {
     "name": "stderr",
     "output_type": "stream",
     "text": [
      "Epoch [676/5000]: 100%|██████████| 9/9 [00:00<00:00, 483.48it/s, loss=1.37]\n"
     ]
    },
    {
     "name": "stdout",
     "output_type": "stream",
     "text": [
      "Epoch [676/5000]: Train loss: 1.5068, Valid loss: 1.2264\n"
     ]
    },
    {
     "name": "stderr",
     "output_type": "stream",
     "text": [
      "Epoch [677/5000]: 100%|██████████| 9/9 [00:00<00:00, 457.39it/s, loss=1.61]\n"
     ]
    },
    {
     "name": "stdout",
     "output_type": "stream",
     "text": [
      "Epoch [677/5000]: Train loss: 1.5668, Valid loss: 1.0533\n"
     ]
    },
    {
     "name": "stderr",
     "output_type": "stream",
     "text": [
      "Epoch [678/5000]: 100%|██████████| 9/9 [00:00<00:00, 473.21it/s, loss=1.61]\n"
     ]
    },
    {
     "name": "stdout",
     "output_type": "stream",
     "text": [
      "Epoch [678/5000]: Train loss: 1.5860, Valid loss: 1.1811\n"
     ]
    },
    {
     "name": "stderr",
     "output_type": "stream",
     "text": [
      "Epoch [679/5000]: 100%|██████████| 9/9 [00:00<00:00, 422.63it/s, loss=1.57]\n"
     ]
    },
    {
     "name": "stdout",
     "output_type": "stream",
     "text": [
      "Epoch [679/5000]: Train loss: 1.5545, Valid loss: 1.1661\n"
     ]
    },
    {
     "name": "stderr",
     "output_type": "stream",
     "text": [
      "Epoch [680/5000]: 100%|██████████| 9/9 [00:00<00:00, 137.12it/s, loss=1.55]\n"
     ]
    },
    {
     "name": "stdout",
     "output_type": "stream",
     "text": [
      "Epoch [680/5000]: Train loss: 1.5475, Valid loss: 1.0710\n"
     ]
    },
    {
     "name": "stderr",
     "output_type": "stream",
     "text": [
      "Epoch [681/5000]: 100%|██████████| 9/9 [00:00<00:00, 388.85it/s, loss=1.3]\n"
     ]
    },
    {
     "name": "stdout",
     "output_type": "stream",
     "text": [
      "Epoch [681/5000]: Train loss: 1.5374, Valid loss: 1.1444\n"
     ]
    },
    {
     "name": "stderr",
     "output_type": "stream",
     "text": [
      "Epoch [682/5000]: 100%|██████████| 9/9 [00:00<00:00, 372.65it/s, loss=1.36]\n"
     ]
    },
    {
     "name": "stdout",
     "output_type": "stream",
     "text": [
      "Epoch [682/5000]: Train loss: 1.5395, Valid loss: 1.1162\n"
     ]
    },
    {
     "name": "stderr",
     "output_type": "stream",
     "text": [
      "Epoch [683/5000]: 100%|██████████| 9/9 [00:00<00:00, 378.14it/s, loss=1.45]\n"
     ]
    },
    {
     "name": "stdout",
     "output_type": "stream",
     "text": [
      "Epoch [683/5000]: Train loss: 1.5852, Valid loss: 1.2809\n"
     ]
    },
    {
     "name": "stderr",
     "output_type": "stream",
     "text": [
      "Epoch [684/5000]: 100%|██████████| 9/9 [00:00<00:00, 390.71it/s, loss=1.57]\n"
     ]
    },
    {
     "name": "stdout",
     "output_type": "stream",
     "text": [
      "Epoch [684/5000]: Train loss: 1.5433, Valid loss: 1.1455\n"
     ]
    },
    {
     "name": "stderr",
     "output_type": "stream",
     "text": [
      "Epoch [685/5000]: 100%|██████████| 9/9 [00:00<00:00, 373.97it/s, loss=1.42]\n"
     ]
    },
    {
     "name": "stdout",
     "output_type": "stream",
     "text": [
      "Epoch [685/5000]: Train loss: 1.5030, Valid loss: 1.1266\n"
     ]
    },
    {
     "name": "stderr",
     "output_type": "stream",
     "text": [
      "Epoch [686/5000]: 100%|██████████| 9/9 [00:00<00:00, 357.84it/s, loss=1.59]\n"
     ]
    },
    {
     "name": "stdout",
     "output_type": "stream",
     "text": [
      "Epoch [686/5000]: Train loss: 1.5335, Valid loss: 1.1436\n"
     ]
    },
    {
     "name": "stderr",
     "output_type": "stream",
     "text": [
      "Epoch [687/5000]: 100%|██████████| 9/9 [00:00<00:00, 291.36it/s, loss=1.61]\n"
     ]
    },
    {
     "name": "stdout",
     "output_type": "stream",
     "text": [
      "Epoch [687/5000]: Train loss: 1.6209, Valid loss: 1.1195\n"
     ]
    },
    {
     "name": "stderr",
     "output_type": "stream",
     "text": [
      "Epoch [688/5000]: 100%|██████████| 9/9 [00:00<00:00, 329.32it/s, loss=1.51]\n"
     ]
    },
    {
     "name": "stdout",
     "output_type": "stream",
     "text": [
      "Epoch [688/5000]: Train loss: 1.5258, Valid loss: 1.2247\n"
     ]
    },
    {
     "name": "stderr",
     "output_type": "stream",
     "text": [
      "Epoch [689/5000]: 100%|██████████| 9/9 [00:00<00:00, 405.99it/s, loss=1.69]\n"
     ]
    },
    {
     "name": "stdout",
     "output_type": "stream",
     "text": [
      "Epoch [689/5000]: Train loss: 1.5893, Valid loss: 1.1418\n"
     ]
    },
    {
     "name": "stderr",
     "output_type": "stream",
     "text": [
      "Epoch [690/5000]: 100%|██████████| 9/9 [00:00<00:00, 413.60it/s, loss=2.06]\n"
     ]
    },
    {
     "name": "stdout",
     "output_type": "stream",
     "text": [
      "Epoch [690/5000]: Train loss: 1.5809, Valid loss: 1.1232\n"
     ]
    },
    {
     "name": "stderr",
     "output_type": "stream",
     "text": [
      "Epoch [691/5000]: 100%|██████████| 9/9 [00:00<00:00, 364.72it/s, loss=1.45]\n"
     ]
    },
    {
     "name": "stdout",
     "output_type": "stream",
     "text": [
      "Epoch [691/5000]: Train loss: 1.5392, Valid loss: 1.1004\n"
     ]
    },
    {
     "name": "stderr",
     "output_type": "stream",
     "text": [
      "Epoch [692/5000]: 100%|██████████| 9/9 [00:00<00:00, 384.65it/s, loss=2.13]\n"
     ]
    },
    {
     "name": "stdout",
     "output_type": "stream",
     "text": [
      "Epoch [692/5000]: Train loss: 1.6968, Valid loss: 1.0808\n"
     ]
    },
    {
     "name": "stderr",
     "output_type": "stream",
     "text": [
      "Epoch [693/5000]: 100%|██████████| 9/9 [00:00<00:00, 386.25it/s, loss=1.68]\n"
     ]
    },
    {
     "name": "stdout",
     "output_type": "stream",
     "text": [
      "Epoch [693/5000]: Train loss: 1.5527, Valid loss: 1.1367\n"
     ]
    },
    {
     "name": "stderr",
     "output_type": "stream",
     "text": [
      "Epoch [694/5000]: 100%|██████████| 9/9 [00:00<00:00, 382.56it/s, loss=1.75]\n"
     ]
    },
    {
     "name": "stdout",
     "output_type": "stream",
     "text": [
      "Epoch [694/5000]: Train loss: 1.5789, Valid loss: 1.1425\n"
     ]
    },
    {
     "name": "stderr",
     "output_type": "stream",
     "text": [
      "Epoch [695/5000]: 100%|██████████| 9/9 [00:00<00:00, 380.92it/s, loss=1.96]\n"
     ]
    },
    {
     "name": "stdout",
     "output_type": "stream",
     "text": [
      "Epoch [695/5000]: Train loss: 1.6450, Valid loss: 1.2357\n"
     ]
    },
    {
     "name": "stderr",
     "output_type": "stream",
     "text": [
      "Epoch [696/5000]: 100%|██████████| 9/9 [00:00<00:00, 327.91it/s, loss=1.47]\n"
     ]
    },
    {
     "name": "stdout",
     "output_type": "stream",
     "text": [
      "Epoch [696/5000]: Train loss: 1.5764, Valid loss: 1.1112\n"
     ]
    },
    {
     "name": "stderr",
     "output_type": "stream",
     "text": [
      "Epoch [697/5000]: 100%|██████████| 9/9 [00:00<00:00, 391.97it/s, loss=1.58]\n"
     ]
    },
    {
     "name": "stdout",
     "output_type": "stream",
     "text": [
      "Epoch [697/5000]: Train loss: 1.5137, Valid loss: 1.1788\n"
     ]
    },
    {
     "name": "stderr",
     "output_type": "stream",
     "text": [
      "Epoch [698/5000]: 100%|██████████| 9/9 [00:00<00:00, 395.00it/s, loss=2.09]"
     ]
    },
    {
     "name": "stdout",
     "output_type": "stream",
     "text": [
      "Epoch [698/5000]: Train loss: 1.6623, Valid loss: 1.0312\n"
     ]
    },
    {
     "name": "stderr",
     "output_type": "stream",
     "text": [
      "\n",
      "Epoch [699/5000]: 100%|██████████| 9/9 [00:00<00:00, 401.03it/s, loss=1.77]\n"
     ]
    },
    {
     "name": "stdout",
     "output_type": "stream",
     "text": [
      "Epoch [699/5000]: Train loss: 1.5422, Valid loss: 1.1961\n"
     ]
    },
    {
     "name": "stderr",
     "output_type": "stream",
     "text": [
      "Epoch [700/5000]: 100%|██████████| 9/9 [00:00<00:00, 410.32it/s, loss=1.58]\n"
     ]
    },
    {
     "name": "stdout",
     "output_type": "stream",
     "text": [
      "Epoch [700/5000]: Train loss: 1.6139, Valid loss: 1.2326\n"
     ]
    },
    {
     "name": "stderr",
     "output_type": "stream",
     "text": [
      "Epoch [701/5000]: 100%|██████████| 9/9 [00:00<00:00, 396.58it/s, loss=1.7]\n"
     ]
    },
    {
     "name": "stdout",
     "output_type": "stream",
     "text": [
      "Epoch [701/5000]: Train loss: 1.5830, Valid loss: 1.1107\n"
     ]
    },
    {
     "name": "stderr",
     "output_type": "stream",
     "text": [
      "Epoch [702/5000]: 100%|██████████| 9/9 [00:00<00:00, 388.70it/s, loss=1.6]\n"
     ]
    },
    {
     "name": "stdout",
     "output_type": "stream",
     "text": [
      "Epoch [702/5000]: Train loss: 1.5253, Valid loss: 1.0708\n"
     ]
    },
    {
     "name": "stderr",
     "output_type": "stream",
     "text": [
      "Epoch [703/5000]: 100%|██████████| 9/9 [00:00<00:00, 377.47it/s, loss=1.66]\n"
     ]
    },
    {
     "name": "stdout",
     "output_type": "stream",
     "text": [
      "Epoch [703/5000]: Train loss: 1.6538, Valid loss: 1.2515\n"
     ]
    },
    {
     "name": "stderr",
     "output_type": "stream",
     "text": [
      "Epoch [704/5000]: 100%|██████████| 9/9 [00:00<00:00, 392.48it/s, loss=1.28]\n"
     ]
    },
    {
     "name": "stdout",
     "output_type": "stream",
     "text": [
      "Epoch [704/5000]: Train loss: 1.4725, Valid loss: 1.3566\n"
     ]
    },
    {
     "name": "stderr",
     "output_type": "stream",
     "text": [
      "Epoch [705/5000]: 100%|██████████| 9/9 [00:00<00:00, 396.25it/s, loss=1.5]\n"
     ]
    },
    {
     "name": "stdout",
     "output_type": "stream",
     "text": [
      "Epoch [705/5000]: Train loss: 1.5671, Valid loss: 1.0613\n"
     ]
    },
    {
     "name": "stderr",
     "output_type": "stream",
     "text": [
      "Epoch [706/5000]: 100%|██████████| 9/9 [00:00<00:00, 389.41it/s, loss=1.66]\n"
     ]
    },
    {
     "name": "stdout",
     "output_type": "stream",
     "text": [
      "Epoch [706/5000]: Train loss: 1.6118, Valid loss: 1.0747\n"
     ]
    },
    {
     "name": "stderr",
     "output_type": "stream",
     "text": [
      "Epoch [707/5000]: 100%|██████████| 9/9 [00:00<00:00, 437.56it/s, loss=1.65]\n"
     ]
    },
    {
     "name": "stdout",
     "output_type": "stream",
     "text": [
      "Epoch [707/5000]: Train loss: 1.5955, Valid loss: 1.0968\n"
     ]
    },
    {
     "name": "stderr",
     "output_type": "stream",
     "text": [
      "Epoch [708/5000]: 100%|██████████| 9/9 [00:00<00:00, 420.89it/s, loss=1.6]\n"
     ]
    },
    {
     "name": "stdout",
     "output_type": "stream",
     "text": [
      "Epoch [708/5000]: Train loss: 1.5866, Valid loss: 1.2062\n"
     ]
    },
    {
     "name": "stderr",
     "output_type": "stream",
     "text": [
      "Epoch [709/5000]: 100%|██████████| 9/9 [00:00<00:00, 394.06it/s, loss=1.4]\n"
     ]
    },
    {
     "name": "stdout",
     "output_type": "stream",
     "text": [
      "Epoch [709/5000]: Train loss: 1.5855, Valid loss: 1.0503\n"
     ]
    },
    {
     "name": "stderr",
     "output_type": "stream",
     "text": [
      "Epoch [710/5000]: 100%|██████████| 9/9 [00:00<00:00, 435.63it/s, loss=1.36]\n"
     ]
    },
    {
     "name": "stdout",
     "output_type": "stream",
     "text": [
      "Epoch [710/5000]: Train loss: 1.5770, Valid loss: 1.1152\n"
     ]
    },
    {
     "name": "stderr",
     "output_type": "stream",
     "text": [
      "Epoch [711/5000]: 100%|██████████| 9/9 [00:00<00:00, 420.52it/s, loss=1.44]\n"
     ]
    },
    {
     "name": "stdout",
     "output_type": "stream",
     "text": [
      "Epoch [711/5000]: Train loss: 1.6805, Valid loss: 1.1158\n"
     ]
    },
    {
     "name": "stderr",
     "output_type": "stream",
     "text": [
      "Epoch [712/5000]: 100%|██████████| 9/9 [00:00<00:00, 440.72it/s, loss=1.56]\n"
     ]
    },
    {
     "name": "stdout",
     "output_type": "stream",
     "text": [
      "Epoch [712/5000]: Train loss: 1.6009, Valid loss: 1.0970\n"
     ]
    },
    {
     "name": "stderr",
     "output_type": "stream",
     "text": [
      "Epoch [713/5000]: 100%|██████████| 9/9 [00:00<00:00, 430.93it/s, loss=1.96]\n"
     ]
    },
    {
     "name": "stdout",
     "output_type": "stream",
     "text": [
      "Epoch [713/5000]: Train loss: 1.6063, Valid loss: 1.1458\n"
     ]
    },
    {
     "name": "stderr",
     "output_type": "stream",
     "text": [
      "Epoch [714/5000]: 100%|██████████| 9/9 [00:00<00:00, 429.54it/s, loss=1.75]\n"
     ]
    },
    {
     "name": "stdout",
     "output_type": "stream",
     "text": [
      "Epoch [714/5000]: Train loss: 1.5686, Valid loss: 1.2841\n"
     ]
    },
    {
     "name": "stderr",
     "output_type": "stream",
     "text": [
      "Epoch [715/5000]: 100%|██████████| 9/9 [00:00<00:00, 459.54it/s, loss=1.56]\n"
     ]
    },
    {
     "name": "stdout",
     "output_type": "stream",
     "text": [
      "Epoch [715/5000]: Train loss: 1.5446, Valid loss: 1.1685\n"
     ]
    },
    {
     "name": "stderr",
     "output_type": "stream",
     "text": [
      "Epoch [716/5000]: 100%|██████████| 9/9 [00:00<00:00, 459.54it/s, loss=1.72]\n"
     ]
    },
    {
     "name": "stdout",
     "output_type": "stream",
     "text": [
      "Epoch [716/5000]: Train loss: 1.5618, Valid loss: 1.1540\n"
     ]
    },
    {
     "name": "stderr",
     "output_type": "stream",
     "text": [
      "Epoch [717/5000]: 100%|██████████| 9/9 [00:00<00:00, 433.48it/s, loss=1.15]\n"
     ]
    },
    {
     "name": "stdout",
     "output_type": "stream",
     "text": [
      "Epoch [717/5000]: Train loss: 1.5024, Valid loss: 1.2107\n"
     ]
    },
    {
     "name": "stderr",
     "output_type": "stream",
     "text": [
      "Epoch [718/5000]: 100%|██████████| 9/9 [00:00<00:00, 436.01it/s, loss=1.51]\n"
     ]
    },
    {
     "name": "stdout",
     "output_type": "stream",
     "text": [
      "Epoch [718/5000]: Train loss: 1.4659, Valid loss: 1.0634\n"
     ]
    },
    {
     "name": "stderr",
     "output_type": "stream",
     "text": [
      "Epoch [719/5000]: 100%|██████████| 9/9 [00:00<00:00, 431.06it/s, loss=1.45]\n"
     ]
    },
    {
     "name": "stdout",
     "output_type": "stream",
     "text": [
      "Epoch [719/5000]: Train loss: 1.5671, Valid loss: 1.1074\n"
     ]
    },
    {
     "name": "stderr",
     "output_type": "stream",
     "text": [
      "Epoch [720/5000]: 100%|██████████| 9/9 [00:00<00:00, 423.61it/s, loss=1.59]\n"
     ]
    },
    {
     "name": "stdout",
     "output_type": "stream",
     "text": [
      "Epoch [720/5000]: Train loss: 1.5939, Valid loss: 1.1941\n"
     ]
    },
    {
     "name": "stderr",
     "output_type": "stream",
     "text": [
      "Epoch [721/5000]: 100%|██████████| 9/9 [00:00<00:00, 377.25it/s, loss=1.75]\n"
     ]
    },
    {
     "name": "stdout",
     "output_type": "stream",
     "text": [
      "Epoch [721/5000]: Train loss: 1.5520, Valid loss: 0.9830\n",
      "Saving model with loss 0.983...\n"
     ]
    },
    {
     "name": "stderr",
     "output_type": "stream",
     "text": [
      "Epoch [722/5000]: 100%|██████████| 9/9 [00:00<00:00, 423.69it/s, loss=1.87]\n"
     ]
    },
    {
     "name": "stdout",
     "output_type": "stream",
     "text": [
      "Epoch [722/5000]: Train loss: 1.5599, Valid loss: 1.3760\n"
     ]
    },
    {
     "name": "stderr",
     "output_type": "stream",
     "text": [
      "Epoch [723/5000]: 100%|██████████| 9/9 [00:00<00:00, 365.76it/s, loss=1.76]\n"
     ]
    },
    {
     "name": "stdout",
     "output_type": "stream",
     "text": [
      "Epoch [723/5000]: Train loss: 1.5493, Valid loss: 1.1544\n"
     ]
    },
    {
     "name": "stderr",
     "output_type": "stream",
     "text": [
      "Epoch [724/5000]: 100%|██████████| 9/9 [00:00<00:00, 420.31it/s, loss=1.93]\n"
     ]
    },
    {
     "name": "stdout",
     "output_type": "stream",
     "text": [
      "Epoch [724/5000]: Train loss: 1.5926, Valid loss: 1.0937\n"
     ]
    },
    {
     "name": "stderr",
     "output_type": "stream",
     "text": [
      "Epoch [725/5000]: 100%|██████████| 9/9 [00:00<00:00, 449.35it/s, loss=1.55]\n"
     ]
    },
    {
     "name": "stdout",
     "output_type": "stream",
     "text": [
      "Epoch [725/5000]: Train loss: 1.5321, Valid loss: 1.0887\n"
     ]
    },
    {
     "name": "stderr",
     "output_type": "stream",
     "text": [
      "Epoch [726/5000]: 100%|██████████| 9/9 [00:00<00:00, 397.56it/s, loss=1.37]\n"
     ]
    },
    {
     "name": "stdout",
     "output_type": "stream",
     "text": [
      "Epoch [726/5000]: Train loss: 1.5370, Valid loss: 1.0486\n"
     ]
    },
    {
     "name": "stderr",
     "output_type": "stream",
     "text": [
      "Epoch [727/5000]: 100%|██████████| 9/9 [00:00<00:00, 405.70it/s, loss=1.73]\n"
     ]
    },
    {
     "name": "stdout",
     "output_type": "stream",
     "text": [
      "Epoch [727/5000]: Train loss: 1.5398, Valid loss: 1.0839\n"
     ]
    },
    {
     "name": "stderr",
     "output_type": "stream",
     "text": [
      "Epoch [728/5000]: 100%|██████████| 9/9 [00:00<00:00, 440.98it/s, loss=2.16]\n"
     ]
    },
    {
     "name": "stdout",
     "output_type": "stream",
     "text": [
      "Epoch [728/5000]: Train loss: 1.5502, Valid loss: 1.0638\n"
     ]
    },
    {
     "name": "stderr",
     "output_type": "stream",
     "text": [
      "Epoch [729/5000]: 100%|██████████| 9/9 [00:00<00:00, 402.70it/s, loss=1.87]\n"
     ]
    },
    {
     "name": "stdout",
     "output_type": "stream",
     "text": [
      "Epoch [729/5000]: Train loss: 1.6209, Valid loss: 1.0804\n"
     ]
    },
    {
     "name": "stderr",
     "output_type": "stream",
     "text": [
      "Epoch [730/5000]: 100%|██████████| 9/9 [00:00<00:00, 367.40it/s, loss=1.66]\n"
     ]
    },
    {
     "name": "stdout",
     "output_type": "stream",
     "text": [
      "Epoch [730/5000]: Train loss: 1.6060, Valid loss: 1.1106\n"
     ]
    },
    {
     "name": "stderr",
     "output_type": "stream",
     "text": [
      "Epoch [731/5000]: 100%|██████████| 9/9 [00:00<00:00, 388.23it/s, loss=1.54]\n"
     ]
    },
    {
     "name": "stdout",
     "output_type": "stream",
     "text": [
      "Epoch [731/5000]: Train loss: 1.5652, Valid loss: 1.4820\n"
     ]
    },
    {
     "name": "stderr",
     "output_type": "stream",
     "text": [
      "Epoch [732/5000]: 100%|██████████| 9/9 [00:00<00:00, 368.39it/s, loss=1.5]\n"
     ]
    },
    {
     "name": "stdout",
     "output_type": "stream",
     "text": [
      "Epoch [732/5000]: Train loss: 1.5800, Valid loss: 1.0674\n"
     ]
    },
    {
     "name": "stderr",
     "output_type": "stream",
     "text": [
      "Epoch [733/5000]: 100%|██████████| 9/9 [00:00<00:00, 366.96it/s, loss=1.54]\n"
     ]
    },
    {
     "name": "stdout",
     "output_type": "stream",
     "text": [
      "Epoch [733/5000]: Train loss: 1.5290, Valid loss: 1.1590\n"
     ]
    },
    {
     "name": "stderr",
     "output_type": "stream",
     "text": [
      "Epoch [734/5000]: 100%|██████████| 9/9 [00:00<00:00, 380.90it/s, loss=1.9]\n"
     ]
    },
    {
     "name": "stdout",
     "output_type": "stream",
     "text": [
      "Epoch [734/5000]: Train loss: 1.5523, Valid loss: 1.0690\n"
     ]
    },
    {
     "name": "stderr",
     "output_type": "stream",
     "text": [
      "Epoch [735/5000]: 100%|██████████| 9/9 [00:00<00:00, 358.33it/s, loss=1.38]\n"
     ]
    },
    {
     "name": "stdout",
     "output_type": "stream",
     "text": [
      "Epoch [735/5000]: Train loss: 1.5416, Valid loss: 1.1191\n"
     ]
    },
    {
     "name": "stderr",
     "output_type": "stream",
     "text": [
      "Epoch [736/5000]: 100%|██████████| 9/9 [00:00<00:00, 364.71it/s, loss=2.2]\n"
     ]
    },
    {
     "name": "stdout",
     "output_type": "stream",
     "text": [
      "Epoch [736/5000]: Train loss: 1.6347, Valid loss: 1.1299\n"
     ]
    },
    {
     "name": "stderr",
     "output_type": "stream",
     "text": [
      "Epoch [737/5000]: 100%|██████████| 9/9 [00:00<00:00, 364.15it/s, loss=1.45]\n"
     ]
    },
    {
     "name": "stdout",
     "output_type": "stream",
     "text": [
      "Epoch [737/5000]: Train loss: 1.5745, Valid loss: 1.0181\n"
     ]
    },
    {
     "name": "stderr",
     "output_type": "stream",
     "text": [
      "Epoch [738/5000]: 100%|██████████| 9/9 [00:00<00:00, 311.44it/s, loss=1.94]\n"
     ]
    },
    {
     "name": "stdout",
     "output_type": "stream",
     "text": [
      "Epoch [738/5000]: Train loss: 1.5032, Valid loss: 1.1935\n"
     ]
    },
    {
     "name": "stderr",
     "output_type": "stream",
     "text": [
      "Epoch [739/5000]: 100%|██████████| 9/9 [00:00<00:00, 357.60it/s, loss=1.66]\n"
     ]
    },
    {
     "name": "stdout",
     "output_type": "stream",
     "text": [
      "Epoch [739/5000]: Train loss: 1.5465, Valid loss: 1.2867\n"
     ]
    },
    {
     "name": "stderr",
     "output_type": "stream",
     "text": [
      "Epoch [740/5000]: 100%|██████████| 9/9 [00:00<00:00, 358.80it/s, loss=1.74]\n"
     ]
    },
    {
     "name": "stdout",
     "output_type": "stream",
     "text": [
      "Epoch [740/5000]: Train loss: 1.5616, Valid loss: 1.2392\n"
     ]
    },
    {
     "name": "stderr",
     "output_type": "stream",
     "text": [
      "Epoch [741/5000]: 100%|██████████| 9/9 [00:00<00:00, 368.94it/s, loss=1.58]\n"
     ]
    },
    {
     "name": "stdout",
     "output_type": "stream",
     "text": [
      "Epoch [741/5000]: Train loss: 1.5676, Valid loss: 1.0900\n"
     ]
    },
    {
     "name": "stderr",
     "output_type": "stream",
     "text": [
      "Epoch [742/5000]: 100%|██████████| 9/9 [00:00<00:00, 344.78it/s, loss=1.48]\n"
     ]
    },
    {
     "name": "stdout",
     "output_type": "stream",
     "text": [
      "Epoch [742/5000]: Train loss: 1.5590, Valid loss: 1.1708\n"
     ]
    },
    {
     "name": "stderr",
     "output_type": "stream",
     "text": [
      "Epoch [743/5000]: 100%|██████████| 9/9 [00:00<00:00, 94.19it/s, loss=1.4]\n"
     ]
    },
    {
     "name": "stdout",
     "output_type": "stream",
     "text": [
      "Epoch [743/5000]: Train loss: 1.5867, Valid loss: 1.2646\n"
     ]
    },
    {
     "name": "stderr",
     "output_type": "stream",
     "text": [
      "Epoch [744/5000]: 100%|██████████| 9/9 [00:00<00:00, 360.03it/s, loss=1.55]\n"
     ]
    },
    {
     "name": "stdout",
     "output_type": "stream",
     "text": [
      "Epoch [744/5000]: Train loss: 1.5922, Valid loss: 1.1641\n"
     ]
    },
    {
     "name": "stderr",
     "output_type": "stream",
     "text": [
      "Epoch [745/5000]: 100%|██████████| 9/9 [00:00<00:00, 407.50it/s, loss=1.66]\n"
     ]
    },
    {
     "name": "stdout",
     "output_type": "stream",
     "text": [
      "Epoch [745/5000]: Train loss: 1.5377, Valid loss: 1.1189\n"
     ]
    },
    {
     "name": "stderr",
     "output_type": "stream",
     "text": [
      "Epoch [746/5000]: 100%|██████████| 9/9 [00:00<00:00, 377.16it/s, loss=1.5]\n"
     ]
    },
    {
     "name": "stdout",
     "output_type": "stream",
     "text": [
      "Epoch [746/5000]: Train loss: 1.5169, Valid loss: 1.1739\n"
     ]
    },
    {
     "name": "stderr",
     "output_type": "stream",
     "text": [
      "Epoch [747/5000]: 100%|██████████| 9/9 [00:00<00:00, 392.51it/s, loss=1.59]\n"
     ]
    },
    {
     "name": "stdout",
     "output_type": "stream",
     "text": [
      "Epoch [747/5000]: Train loss: 1.5578, Valid loss: 1.1149\n"
     ]
    },
    {
     "name": "stderr",
     "output_type": "stream",
     "text": [
      "Epoch [748/5000]: 100%|██████████| 9/9 [00:00<00:00, 389.06it/s, loss=1.43]\n"
     ]
    },
    {
     "name": "stdout",
     "output_type": "stream",
     "text": [
      "Epoch [748/5000]: Train loss: 1.5691, Valid loss: 1.1044\n"
     ]
    },
    {
     "name": "stderr",
     "output_type": "stream",
     "text": [
      "Epoch [749/5000]: 100%|██████████| 9/9 [00:00<00:00, 384.50it/s, loss=1.55]\n"
     ]
    },
    {
     "name": "stdout",
     "output_type": "stream",
     "text": [
      "Epoch [749/5000]: Train loss: 1.4847, Valid loss: 1.1323\n"
     ]
    },
    {
     "name": "stderr",
     "output_type": "stream",
     "text": [
      "Epoch [750/5000]: 100%|██████████| 9/9 [00:00<00:00, 416.15it/s, loss=1.51]\n"
     ]
    },
    {
     "name": "stdout",
     "output_type": "stream",
     "text": [
      "Epoch [750/5000]: Train loss: 1.5083, Valid loss: 1.1834\n"
     ]
    },
    {
     "name": "stderr",
     "output_type": "stream",
     "text": [
      "Epoch [751/5000]: 100%|██████████| 9/9 [00:00<00:00, 432.97it/s, loss=1.42]\n"
     ]
    },
    {
     "name": "stdout",
     "output_type": "stream",
     "text": [
      "Epoch [751/5000]: Train loss: 1.4912, Valid loss: 1.1556\n"
     ]
    },
    {
     "name": "stderr",
     "output_type": "stream",
     "text": [
      "Epoch [752/5000]: 100%|██████████| 9/9 [00:00<00:00, 379.29it/s, loss=1.51]\n"
     ]
    },
    {
     "name": "stdout",
     "output_type": "stream",
     "text": [
      "Epoch [752/5000]: Train loss: 1.5238, Valid loss: 1.0507\n"
     ]
    },
    {
     "name": "stderr",
     "output_type": "stream",
     "text": [
      "Epoch [753/5000]: 100%|██████████| 9/9 [00:00<00:00, 384.58it/s, loss=1.36]\n"
     ]
    },
    {
     "name": "stdout",
     "output_type": "stream",
     "text": [
      "Epoch [753/5000]: Train loss: 1.4836, Valid loss: 1.0788\n"
     ]
    },
    {
     "name": "stderr",
     "output_type": "stream",
     "text": [
      "Epoch [754/5000]: 100%|██████████| 9/9 [00:00<00:00, 365.04it/s, loss=1.7]\n"
     ]
    },
    {
     "name": "stdout",
     "output_type": "stream",
     "text": [
      "Epoch [754/5000]: Train loss: 1.5311, Valid loss: 1.0476\n"
     ]
    },
    {
     "name": "stderr",
     "output_type": "stream",
     "text": [
      "Epoch [755/5000]: 100%|██████████| 9/9 [00:00<00:00, 360.18it/s, loss=1.38]\n"
     ]
    },
    {
     "name": "stdout",
     "output_type": "stream",
     "text": [
      "Epoch [755/5000]: Train loss: 1.5100, Valid loss: 1.1369\n"
     ]
    },
    {
     "name": "stderr",
     "output_type": "stream",
     "text": [
      "Epoch [756/5000]: 100%|██████████| 9/9 [00:00<00:00, 369.99it/s, loss=1.52]\n"
     ]
    },
    {
     "name": "stdout",
     "output_type": "stream",
     "text": [
      "Epoch [756/5000]: Train loss: 1.5322, Valid loss: 1.1118\n"
     ]
    },
    {
     "name": "stderr",
     "output_type": "stream",
     "text": [
      "Epoch [757/5000]: 100%|██████████| 9/9 [00:00<00:00, 418.92it/s, loss=1.42]\n"
     ]
    },
    {
     "name": "stdout",
     "output_type": "stream",
     "text": [
      "Epoch [757/5000]: Train loss: 1.5266, Valid loss: 1.1833\n"
     ]
    },
    {
     "name": "stderr",
     "output_type": "stream",
     "text": [
      "Epoch [758/5000]: 100%|██████████| 9/9 [00:00<00:00, 396.47it/s, loss=2.14]\n"
     ]
    },
    {
     "name": "stdout",
     "output_type": "stream",
     "text": [
      "Epoch [758/5000]: Train loss: 1.5685, Valid loss: 1.0425\n"
     ]
    },
    {
     "name": "stderr",
     "output_type": "stream",
     "text": [
      "Epoch [759/5000]: 100%|██████████| 9/9 [00:00<00:00, 422.20it/s, loss=1.49]\n"
     ]
    },
    {
     "name": "stdout",
     "output_type": "stream",
     "text": [
      "Epoch [759/5000]: Train loss: 1.5474, Valid loss: 1.3527\n"
     ]
    },
    {
     "name": "stderr",
     "output_type": "stream",
     "text": [
      "Epoch [760/5000]: 100%|██████████| 9/9 [00:00<00:00, 436.98it/s, loss=1.52]\n"
     ]
    },
    {
     "name": "stdout",
     "output_type": "stream",
     "text": [
      "Epoch [760/5000]: Train loss: 1.5087, Valid loss: 1.2072\n"
     ]
    },
    {
     "name": "stderr",
     "output_type": "stream",
     "text": [
      "Epoch [761/5000]: 100%|██████████| 9/9 [00:00<00:00, 452.87it/s, loss=1.74]\n"
     ]
    },
    {
     "name": "stdout",
     "output_type": "stream",
     "text": [
      "Epoch [761/5000]: Train loss: 1.5559, Valid loss: 1.0470\n"
     ]
    },
    {
     "name": "stderr",
     "output_type": "stream",
     "text": [
      "Epoch [762/5000]: 100%|██████████| 9/9 [00:00<00:00, 447.15it/s, loss=1.41]\n"
     ]
    },
    {
     "name": "stdout",
     "output_type": "stream",
     "text": [
      "Epoch [762/5000]: Train loss: 1.4499, Valid loss: 1.2281\n"
     ]
    },
    {
     "name": "stderr",
     "output_type": "stream",
     "text": [
      "Epoch [763/5000]: 100%|██████████| 9/9 [00:00<00:00, 426.56it/s, loss=1.27]\n"
     ]
    },
    {
     "name": "stdout",
     "output_type": "stream",
     "text": [
      "Epoch [763/5000]: Train loss: 1.5234, Valid loss: 1.2082\n"
     ]
    },
    {
     "name": "stderr",
     "output_type": "stream",
     "text": [
      "Epoch [764/5000]: 100%|██████████| 9/9 [00:00<00:00, 466.15it/s, loss=1.25]\n"
     ]
    },
    {
     "name": "stdout",
     "output_type": "stream",
     "text": [
      "Epoch [764/5000]: Train loss: 1.5331, Valid loss: 1.1702\n"
     ]
    },
    {
     "name": "stderr",
     "output_type": "stream",
     "text": [
      "Epoch [765/5000]: 100%|██████████| 9/9 [00:00<00:00, 460.15it/s, loss=1.91]\n"
     ]
    },
    {
     "name": "stdout",
     "output_type": "stream",
     "text": [
      "Epoch [765/5000]: Train loss: 1.5581, Valid loss: 1.1878\n"
     ]
    },
    {
     "name": "stderr",
     "output_type": "stream",
     "text": [
      "Epoch [766/5000]: 100%|██████████| 9/9 [00:00<00:00, 438.05it/s, loss=1.74]\n"
     ]
    },
    {
     "name": "stdout",
     "output_type": "stream",
     "text": [
      "Epoch [766/5000]: Train loss: 1.4703, Valid loss: 1.0959\n"
     ]
    },
    {
     "name": "stderr",
     "output_type": "stream",
     "text": [
      "Epoch [767/5000]: 100%|██████████| 9/9 [00:00<00:00, 433.88it/s, loss=1.39]\n"
     ]
    },
    {
     "name": "stdout",
     "output_type": "stream",
     "text": [
      "Epoch [767/5000]: Train loss: 1.5314, Valid loss: 1.1383\n"
     ]
    },
    {
     "name": "stderr",
     "output_type": "stream",
     "text": [
      "Epoch [768/5000]: 100%|██████████| 9/9 [00:00<00:00, 422.94it/s, loss=1.54]\n"
     ]
    },
    {
     "name": "stdout",
     "output_type": "stream",
     "text": [
      "Epoch [768/5000]: Train loss: 1.5520, Valid loss: 1.0629\n"
     ]
    },
    {
     "name": "stderr",
     "output_type": "stream",
     "text": [
      "Epoch [769/5000]: 100%|██████████| 9/9 [00:00<00:00, 448.87it/s, loss=1.5]\n"
     ]
    },
    {
     "name": "stdout",
     "output_type": "stream",
     "text": [
      "Epoch [769/5000]: Train loss: 1.4954, Valid loss: 1.2721\n"
     ]
    },
    {
     "name": "stderr",
     "output_type": "stream",
     "text": [
      "Epoch [770/5000]: 100%|██████████| 9/9 [00:00<00:00, 461.18it/s, loss=1.5]\n"
     ]
    },
    {
     "name": "stdout",
     "output_type": "stream",
     "text": [
      "Epoch [770/5000]: Train loss: 1.4829, Valid loss: 1.1604\n"
     ]
    },
    {
     "name": "stderr",
     "output_type": "stream",
     "text": [
      "Epoch [771/5000]: 100%|██████████| 9/9 [00:00<00:00, 481.78it/s, loss=1.49]\n"
     ]
    },
    {
     "name": "stdout",
     "output_type": "stream",
     "text": [
      "Epoch [771/5000]: Train loss: 1.5758, Valid loss: 1.0680\n"
     ]
    },
    {
     "name": "stderr",
     "output_type": "stream",
     "text": [
      "Epoch [772/5000]: 100%|██████████| 9/9 [00:00<00:00, 451.38it/s, loss=1.6]\n"
     ]
    },
    {
     "name": "stdout",
     "output_type": "stream",
     "text": [
      "Epoch [772/5000]: Train loss: 1.5499, Valid loss: 1.1160\n"
     ]
    },
    {
     "name": "stderr",
     "output_type": "stream",
     "text": [
      "Epoch [773/5000]: 100%|██████████| 9/9 [00:00<00:00, 415.90it/s, loss=1.53]\n"
     ]
    },
    {
     "name": "stdout",
     "output_type": "stream",
     "text": [
      "Epoch [773/5000]: Train loss: 1.5869, Valid loss: 1.1207\n"
     ]
    },
    {
     "name": "stderr",
     "output_type": "stream",
     "text": [
      "Epoch [774/5000]: 100%|██████████| 9/9 [00:00<00:00, 441.43it/s, loss=1.55]\n"
     ]
    },
    {
     "name": "stdout",
     "output_type": "stream",
     "text": [
      "Epoch [774/5000]: Train loss: 1.5195, Valid loss: 1.1578\n"
     ]
    },
    {
     "name": "stderr",
     "output_type": "stream",
     "text": [
      "Epoch [775/5000]: 100%|██████████| 9/9 [00:00<00:00, 455.40it/s, loss=1.64]\n"
     ]
    },
    {
     "name": "stdout",
     "output_type": "stream",
     "text": [
      "Epoch [775/5000]: Train loss: 1.5503, Valid loss: 1.0853\n"
     ]
    },
    {
     "name": "stderr",
     "output_type": "stream",
     "text": [
      "Epoch [776/5000]: 100%|██████████| 9/9 [00:00<00:00, 419.58it/s, loss=1.68]\n"
     ]
    },
    {
     "name": "stdout",
     "output_type": "stream",
     "text": [
      "Epoch [776/5000]: Train loss: 1.6197, Valid loss: 1.1454\n"
     ]
    },
    {
     "name": "stderr",
     "output_type": "stream",
     "text": [
      "Epoch [777/5000]: 100%|██████████| 9/9 [00:00<00:00, 467.65it/s, loss=1.44]\n"
     ]
    },
    {
     "name": "stdout",
     "output_type": "stream",
     "text": [
      "Epoch [777/5000]: Train loss: 1.4832, Valid loss: 1.1491\n"
     ]
    },
    {
     "name": "stderr",
     "output_type": "stream",
     "text": [
      "Epoch [778/5000]: 100%|██████████| 9/9 [00:00<00:00, 463.82it/s, loss=1.59]\n"
     ]
    },
    {
     "name": "stdout",
     "output_type": "stream",
     "text": [
      "Epoch [778/5000]: Train loss: 1.4809, Valid loss: 1.0423\n"
     ]
    },
    {
     "name": "stderr",
     "output_type": "stream",
     "text": [
      "Epoch [779/5000]: 100%|██████████| 9/9 [00:00<00:00, 460.76it/s, loss=1.64]\n"
     ]
    },
    {
     "name": "stdout",
     "output_type": "stream",
     "text": [
      "Epoch [779/5000]: Train loss: 1.5151, Valid loss: 1.1469\n"
     ]
    },
    {
     "name": "stderr",
     "output_type": "stream",
     "text": [
      "Epoch [780/5000]: 100%|██████████| 9/9 [00:00<00:00, 441.96it/s, loss=1.79]\n"
     ]
    },
    {
     "name": "stdout",
     "output_type": "stream",
     "text": [
      "Epoch [780/5000]: Train loss: 1.5576, Valid loss: 1.0770\n"
     ]
    },
    {
     "name": "stderr",
     "output_type": "stream",
     "text": [
      "Epoch [781/5000]: 100%|██████████| 9/9 [00:00<00:00, 474.99it/s, loss=1.46]\n"
     ]
    },
    {
     "name": "stdout",
     "output_type": "stream",
     "text": [
      "Epoch [781/5000]: Train loss: 1.5300, Valid loss: 1.0207\n"
     ]
    },
    {
     "name": "stderr",
     "output_type": "stream",
     "text": [
      "Epoch [782/5000]: 100%|██████████| 9/9 [00:00<00:00, 449.26it/s, loss=1.83]\n"
     ]
    },
    {
     "name": "stdout",
     "output_type": "stream",
     "text": [
      "Epoch [782/5000]: Train loss: 1.6128, Valid loss: 1.1993\n"
     ]
    },
    {
     "name": "stderr",
     "output_type": "stream",
     "text": [
      "Epoch [783/5000]: 100%|██████████| 9/9 [00:00<00:00, 467.41it/s, loss=1.54]\n"
     ]
    },
    {
     "name": "stdout",
     "output_type": "stream",
     "text": [
      "Epoch [783/5000]: Train loss: 1.5693, Valid loss: 1.1114\n"
     ]
    },
    {
     "name": "stderr",
     "output_type": "stream",
     "text": [
      "Epoch [784/5000]: 100%|██████████| 9/9 [00:00<00:00, 449.61it/s, loss=1.44]\n"
     ]
    },
    {
     "name": "stdout",
     "output_type": "stream",
     "text": [
      "Epoch [784/5000]: Train loss: 1.5601, Valid loss: 1.0608\n"
     ]
    },
    {
     "name": "stderr",
     "output_type": "stream",
     "text": [
      "Epoch [785/5000]: 100%|██████████| 9/9 [00:00<00:00, 417.83it/s, loss=1.86]\n"
     ]
    },
    {
     "name": "stdout",
     "output_type": "stream",
     "text": [
      "Epoch [785/5000]: Train loss: 1.6089, Valid loss: 1.0662\n"
     ]
    },
    {
     "name": "stderr",
     "output_type": "stream",
     "text": [
      "Epoch [786/5000]: 100%|██████████| 9/9 [00:00<00:00, 361.08it/s, loss=1.39]\n"
     ]
    },
    {
     "name": "stdout",
     "output_type": "stream",
     "text": [
      "Epoch [786/5000]: Train loss: 1.4730, Valid loss: 1.0419\n"
     ]
    },
    {
     "name": "stderr",
     "output_type": "stream",
     "text": [
      "Epoch [787/5000]: 100%|██████████| 9/9 [00:00<00:00, 384.81it/s, loss=1.63]\n"
     ]
    },
    {
     "name": "stdout",
     "output_type": "stream",
     "text": [
      "Epoch [787/5000]: Train loss: 1.4026, Valid loss: 1.0611\n"
     ]
    },
    {
     "name": "stderr",
     "output_type": "stream",
     "text": [
      "Epoch [788/5000]: 100%|██████████| 9/9 [00:00<00:00, 364.86it/s, loss=1.52]\n"
     ]
    },
    {
     "name": "stdout",
     "output_type": "stream",
     "text": [
      "Epoch [788/5000]: Train loss: 1.4958, Valid loss: 1.1031\n"
     ]
    },
    {
     "name": "stderr",
     "output_type": "stream",
     "text": [
      "Epoch [789/5000]: 100%|██████████| 9/9 [00:00<00:00, 373.72it/s, loss=1.43]\n"
     ]
    },
    {
     "name": "stdout",
     "output_type": "stream",
     "text": [
      "Epoch [789/5000]: Train loss: 1.4829, Valid loss: 1.2561\n"
     ]
    },
    {
     "name": "stderr",
     "output_type": "stream",
     "text": [
      "Epoch [790/5000]: 100%|██████████| 9/9 [00:00<00:00, 271.81it/s, loss=1.55]\n"
     ]
    },
    {
     "name": "stdout",
     "output_type": "stream",
     "text": [
      "Epoch [790/5000]: Train loss: 1.4866, Valid loss: 1.1170\n"
     ]
    },
    {
     "name": "stderr",
     "output_type": "stream",
     "text": [
      "Epoch [791/5000]: 100%|██████████| 9/9 [00:00<00:00, 372.48it/s, loss=1.94]\n"
     ]
    },
    {
     "name": "stdout",
     "output_type": "stream",
     "text": [
      "Epoch [791/5000]: Train loss: 1.6361, Valid loss: 1.0135\n"
     ]
    },
    {
     "name": "stderr",
     "output_type": "stream",
     "text": [
      "Epoch [792/5000]: 100%|██████████| 9/9 [00:00<00:00, 372.56it/s, loss=2.09]\n"
     ]
    },
    {
     "name": "stdout",
     "output_type": "stream",
     "text": [
      "Epoch [792/5000]: Train loss: 1.6079, Valid loss: 1.2206\n"
     ]
    },
    {
     "name": "stderr",
     "output_type": "stream",
     "text": [
      "Epoch [793/5000]: 100%|██████████| 9/9 [00:00<00:00, 376.04it/s, loss=1.59]\n"
     ]
    },
    {
     "name": "stdout",
     "output_type": "stream",
     "text": [
      "Epoch [793/5000]: Train loss: 1.5453, Valid loss: 1.1239\n"
     ]
    },
    {
     "name": "stderr",
     "output_type": "stream",
     "text": [
      "Epoch [794/5000]: 100%|██████████| 9/9 [00:00<00:00, 364.58it/s, loss=1.61]\n"
     ]
    },
    {
     "name": "stdout",
     "output_type": "stream",
     "text": [
      "Epoch [794/5000]: Train loss: 1.5263, Valid loss: 1.1401\n"
     ]
    },
    {
     "name": "stderr",
     "output_type": "stream",
     "text": [
      "Epoch [795/5000]: 100%|██████████| 9/9 [00:00<00:00, 386.96it/s, loss=1.84]\n"
     ]
    },
    {
     "name": "stdout",
     "output_type": "stream",
     "text": [
      "Epoch [795/5000]: Train loss: 1.5628, Valid loss: 1.0894\n"
     ]
    },
    {
     "name": "stderr",
     "output_type": "stream",
     "text": [
      "Epoch [796/5000]: 100%|██████████| 9/9 [00:00<00:00, 388.70it/s, loss=1.69]\n"
     ]
    },
    {
     "name": "stdout",
     "output_type": "stream",
     "text": [
      "Epoch [796/5000]: Train loss: 1.5563, Valid loss: 1.0857\n"
     ]
    },
    {
     "name": "stderr",
     "output_type": "stream",
     "text": [
      "Epoch [797/5000]: 100%|██████████| 9/9 [00:00<00:00, 406.63it/s, loss=1.69]\n"
     ]
    },
    {
     "name": "stdout",
     "output_type": "stream",
     "text": [
      "Epoch [797/5000]: Train loss: 1.5656, Valid loss: 1.1164\n"
     ]
    },
    {
     "name": "stderr",
     "output_type": "stream",
     "text": [
      "Epoch [798/5000]: 100%|██████████| 9/9 [00:00<00:00, 408.22it/s, loss=1.6]\n"
     ]
    },
    {
     "name": "stdout",
     "output_type": "stream",
     "text": [
      "Epoch [798/5000]: Train loss: 1.5600, Valid loss: 1.1607\n"
     ]
    },
    {
     "name": "stderr",
     "output_type": "stream",
     "text": [
      "Epoch [799/5000]: 100%|██████████| 9/9 [00:00<00:00, 377.85it/s, loss=1.48]\n"
     ]
    },
    {
     "name": "stdout",
     "output_type": "stream",
     "text": [
      "Epoch [799/5000]: Train loss: 1.5366, Valid loss: 1.1331\n"
     ]
    },
    {
     "name": "stderr",
     "output_type": "stream",
     "text": [
      "Epoch [800/5000]: 100%|██████████| 9/9 [00:00<00:00, 391.45it/s, loss=1.81]\n"
     ]
    },
    {
     "name": "stdout",
     "output_type": "stream",
     "text": [
      "Epoch [800/5000]: Train loss: 1.5200, Valid loss: 1.0927\n"
     ]
    },
    {
     "name": "stderr",
     "output_type": "stream",
     "text": [
      "Epoch [801/5000]: 100%|██████████| 9/9 [00:00<00:00, 387.91it/s, loss=1.42]\n"
     ]
    },
    {
     "name": "stdout",
     "output_type": "stream",
     "text": [
      "Epoch [801/5000]: Train loss: 1.5353, Valid loss: 0.9989\n"
     ]
    },
    {
     "name": "stderr",
     "output_type": "stream",
     "text": [
      "Epoch [802/5000]: 100%|██████████| 9/9 [00:00<00:00, 396.04it/s, loss=1.62]\n"
     ]
    },
    {
     "name": "stdout",
     "output_type": "stream",
     "text": [
      "Epoch [802/5000]: Train loss: 1.5310, Valid loss: 1.1340\n"
     ]
    },
    {
     "name": "stderr",
     "output_type": "stream",
     "text": [
      "Epoch [803/5000]: 100%|██████████| 9/9 [00:00<00:00, 378.50it/s, loss=1.48]\n"
     ]
    },
    {
     "name": "stdout",
     "output_type": "stream",
     "text": [
      "Epoch [803/5000]: Train loss: 1.4836, Valid loss: 1.1595\n"
     ]
    },
    {
     "name": "stderr",
     "output_type": "stream",
     "text": [
      "Epoch [804/5000]: 100%|██████████| 9/9 [00:00<00:00, 413.70it/s, loss=1.28]\n"
     ]
    },
    {
     "name": "stdout",
     "output_type": "stream",
     "text": [
      "Epoch [804/5000]: Train loss: 1.5288, Valid loss: 1.0594\n"
     ]
    },
    {
     "name": "stderr",
     "output_type": "stream",
     "text": [
      "Epoch [805/5000]: 100%|██████████| 9/9 [00:00<00:00, 364.56it/s, loss=1.53]\n"
     ]
    },
    {
     "name": "stdout",
     "output_type": "stream",
     "text": [
      "Epoch [805/5000]: Train loss: 1.5303, Valid loss: 1.1097\n"
     ]
    },
    {
     "name": "stderr",
     "output_type": "stream",
     "text": [
      "Epoch [806/5000]: 100%|██████████| 9/9 [00:00<00:00, 368.90it/s, loss=1.33]\n"
     ]
    },
    {
     "name": "stdout",
     "output_type": "stream",
     "text": [
      "Epoch [806/5000]: Train loss: 1.4485, Valid loss: 1.2350\n"
     ]
    },
    {
     "name": "stderr",
     "output_type": "stream",
     "text": [
      "Epoch [807/5000]: 100%|██████████| 9/9 [00:00<00:00, 408.89it/s, loss=1.53]\n"
     ]
    },
    {
     "name": "stdout",
     "output_type": "stream",
     "text": [
      "Epoch [807/5000]: Train loss: 1.4779, Valid loss: 1.1456\n"
     ]
    },
    {
     "name": "stderr",
     "output_type": "stream",
     "text": [
      "Epoch [808/5000]: 100%|██████████| 9/9 [00:00<00:00, 417.69it/s, loss=2.08]\n"
     ]
    },
    {
     "name": "stdout",
     "output_type": "stream",
     "text": [
      "Epoch [808/5000]: Train loss: 1.5873, Valid loss: 1.1745\n"
     ]
    },
    {
     "name": "stderr",
     "output_type": "stream",
     "text": [
      "Epoch [809/5000]: 100%|██████████| 9/9 [00:00<00:00, 407.81it/s, loss=1.61]\n"
     ]
    },
    {
     "name": "stdout",
     "output_type": "stream",
     "text": [
      "Epoch [809/5000]: Train loss: 1.5322, Valid loss: 1.1082\n"
     ]
    },
    {
     "name": "stderr",
     "output_type": "stream",
     "text": [
      "Epoch [810/5000]: 100%|██████████| 9/9 [00:00<00:00, 409.11it/s, loss=1.66]\n"
     ]
    },
    {
     "name": "stdout",
     "output_type": "stream",
     "text": [
      "Epoch [810/5000]: Train loss: 1.6000, Valid loss: 1.1247\n"
     ]
    },
    {
     "name": "stderr",
     "output_type": "stream",
     "text": [
      "Epoch [811/5000]: 100%|██████████| 9/9 [00:00<00:00, 395.68it/s, loss=1.38]\n"
     ]
    },
    {
     "name": "stdout",
     "output_type": "stream",
     "text": [
      "Epoch [811/5000]: Train loss: 1.5934, Valid loss: 1.0603\n"
     ]
    },
    {
     "name": "stderr",
     "output_type": "stream",
     "text": [
      "Epoch [812/5000]: 100%|██████████| 9/9 [00:00<00:00, 362.12it/s, loss=1.42]\n"
     ]
    },
    {
     "name": "stdout",
     "output_type": "stream",
     "text": [
      "Epoch [812/5000]: Train loss: 1.5079, Valid loss: 1.1591\n"
     ]
    },
    {
     "name": "stderr",
     "output_type": "stream",
     "text": [
      "Epoch [813/5000]: 100%|██████████| 9/9 [00:00<00:00, 398.21it/s, loss=1.72]\n"
     ]
    },
    {
     "name": "stdout",
     "output_type": "stream",
     "text": [
      "Epoch [813/5000]: Train loss: 1.5472, Valid loss: 1.1365\n"
     ]
    },
    {
     "name": "stderr",
     "output_type": "stream",
     "text": [
      "Epoch [814/5000]: 100%|██████████| 9/9 [00:00<00:00, 403.12it/s, loss=1.43]\n"
     ]
    },
    {
     "name": "stdout",
     "output_type": "stream",
     "text": [
      "Epoch [814/5000]: Train loss: 1.5428, Valid loss: 1.0949\n"
     ]
    },
    {
     "name": "stderr",
     "output_type": "stream",
     "text": [
      "Epoch [815/5000]: 100%|██████████| 9/9 [00:00<00:00, 404.50it/s, loss=1.52]\n"
     ]
    },
    {
     "name": "stdout",
     "output_type": "stream",
     "text": [
      "Epoch [815/5000]: Train loss: 1.4896, Valid loss: 1.0988\n"
     ]
    },
    {
     "name": "stderr",
     "output_type": "stream",
     "text": [
      "Epoch [816/5000]: 100%|██████████| 9/9 [00:00<00:00, 411.90it/s, loss=1.79]\n"
     ]
    },
    {
     "name": "stdout",
     "output_type": "stream",
     "text": [
      "Epoch [816/5000]: Train loss: 1.5428, Valid loss: 1.1097\n"
     ]
    },
    {
     "name": "stderr",
     "output_type": "stream",
     "text": [
      "Epoch [817/5000]: 100%|██████████| 9/9 [00:00<00:00, 393.59it/s, loss=1.51]\n"
     ]
    },
    {
     "name": "stdout",
     "output_type": "stream",
     "text": [
      "Epoch [817/5000]: Train loss: 1.5267, Valid loss: 1.0838\n"
     ]
    },
    {
     "name": "stderr",
     "output_type": "stream",
     "text": [
      "Epoch [818/5000]: 100%|██████████| 9/9 [00:00<00:00, 388.52it/s, loss=1.9]\n"
     ]
    },
    {
     "name": "stdout",
     "output_type": "stream",
     "text": [
      "Epoch [818/5000]: Train loss: 1.5406, Valid loss: 1.1744\n"
     ]
    },
    {
     "name": "stderr",
     "output_type": "stream",
     "text": [
      "Epoch [819/5000]: 100%|██████████| 9/9 [00:00<00:00, 388.31it/s, loss=1.51]\n"
     ]
    },
    {
     "name": "stdout",
     "output_type": "stream",
     "text": [
      "Epoch [819/5000]: Train loss: 1.5173, Valid loss: 1.0630\n"
     ]
    },
    {
     "name": "stderr",
     "output_type": "stream",
     "text": [
      "Epoch [820/5000]: 100%|██████████| 9/9 [00:00<00:00, 402.43it/s, loss=1.46]\n"
     ]
    },
    {
     "name": "stdout",
     "output_type": "stream",
     "text": [
      "Epoch [820/5000]: Train loss: 1.5128, Valid loss: 1.1376\n"
     ]
    },
    {
     "name": "stderr",
     "output_type": "stream",
     "text": [
      "Epoch [821/5000]: 100%|██████████| 9/9 [00:00<00:00, 442.41it/s, loss=1.71]\n"
     ]
    },
    {
     "name": "stdout",
     "output_type": "stream",
     "text": [
      "Epoch [821/5000]: Train loss: 1.5271, Valid loss: 1.0770\n"
     ]
    },
    {
     "name": "stderr",
     "output_type": "stream",
     "text": [
      "Epoch [822/5000]: 100%|██████████| 9/9 [00:00<00:00, 412.79it/s, loss=1.99]\n"
     ]
    },
    {
     "name": "stdout",
     "output_type": "stream",
     "text": [
      "Epoch [822/5000]: Train loss: 1.5601, Valid loss: 1.1221\n"
     ]
    },
    {
     "name": "stderr",
     "output_type": "stream",
     "text": [
      "Epoch [823/5000]: 100%|██████████| 9/9 [00:00<00:00, 385.95it/s, loss=1.4]\n"
     ]
    },
    {
     "name": "stdout",
     "output_type": "stream",
     "text": [
      "Epoch [823/5000]: Train loss: 1.4586, Valid loss: 1.1486\n"
     ]
    },
    {
     "name": "stderr",
     "output_type": "stream",
     "text": [
      "Epoch [824/5000]: 100%|██████████| 9/9 [00:00<00:00, 412.97it/s, loss=1.66]\n"
     ]
    },
    {
     "name": "stdout",
     "output_type": "stream",
     "text": [
      "Epoch [824/5000]: Train loss: 1.5389, Valid loss: 1.0329\n"
     ]
    },
    {
     "name": "stderr",
     "output_type": "stream",
     "text": [
      "Epoch [825/5000]: 100%|██████████| 9/9 [00:00<00:00, 457.97it/s, loss=1.72]\n"
     ]
    },
    {
     "name": "stdout",
     "output_type": "stream",
     "text": [
      "Epoch [825/5000]: Train loss: 1.5443, Valid loss: 1.0225\n"
     ]
    },
    {
     "name": "stderr",
     "output_type": "stream",
     "text": [
      "Epoch [826/5000]: 100%|██████████| 9/9 [00:00<00:00, 452.44it/s, loss=1.37]\n"
     ]
    },
    {
     "name": "stdout",
     "output_type": "stream",
     "text": [
      "Epoch [826/5000]: Train loss: 1.5716, Valid loss: 1.1449\n"
     ]
    },
    {
     "name": "stderr",
     "output_type": "stream",
     "text": [
      "Epoch [827/5000]: 100%|██████████| 9/9 [00:00<00:00, 470.19it/s, loss=2.51]\n"
     ]
    },
    {
     "name": "stdout",
     "output_type": "stream",
     "text": [
      "Epoch [827/5000]: Train loss: 1.6448, Valid loss: 1.0370\n"
     ]
    },
    {
     "name": "stderr",
     "output_type": "stream",
     "text": [
      "Epoch [828/5000]: 100%|██████████| 9/9 [00:00<00:00, 446.40it/s, loss=2]\n"
     ]
    },
    {
     "name": "stdout",
     "output_type": "stream",
     "text": [
      "Epoch [828/5000]: Train loss: 1.5550, Valid loss: 1.0305\n"
     ]
    },
    {
     "name": "stderr",
     "output_type": "stream",
     "text": [
      "Epoch [829/5000]: 100%|██████████| 9/9 [00:00<00:00, 450.54it/s, loss=1.28]\n"
     ]
    },
    {
     "name": "stdout",
     "output_type": "stream",
     "text": [
      "Epoch [829/5000]: Train loss: 1.4903, Valid loss: 1.0743\n"
     ]
    },
    {
     "name": "stderr",
     "output_type": "stream",
     "text": [
      "Epoch [830/5000]: 100%|██████████| 9/9 [00:00<00:00, 466.78it/s, loss=1.48]\n"
     ]
    },
    {
     "name": "stdout",
     "output_type": "stream",
     "text": [
      "Epoch [830/5000]: Train loss: 1.5395, Valid loss: 1.1312\n"
     ]
    },
    {
     "name": "stderr",
     "output_type": "stream",
     "text": [
      "Epoch [831/5000]: 100%|██████████| 9/9 [00:00<00:00, 415.55it/s, loss=1.35]\n"
     ]
    },
    {
     "name": "stdout",
     "output_type": "stream",
     "text": [
      "Epoch [831/5000]: Train loss: 1.4665, Valid loss: 1.1940\n"
     ]
    },
    {
     "name": "stderr",
     "output_type": "stream",
     "text": [
      "Epoch [832/5000]: 100%|██████████| 9/9 [00:00<00:00, 402.01it/s, loss=1.49]\n"
     ]
    },
    {
     "name": "stdout",
     "output_type": "stream",
     "text": [
      "Epoch [832/5000]: Train loss: 1.5598, Valid loss: 1.1678\n"
     ]
    },
    {
     "name": "stderr",
     "output_type": "stream",
     "text": [
      "Epoch [833/5000]: 100%|██████████| 9/9 [00:00<00:00, 450.56it/s, loss=1.35]\n"
     ]
    },
    {
     "name": "stdout",
     "output_type": "stream",
     "text": [
      "Epoch [833/5000]: Train loss: 1.4968, Valid loss: 1.0918\n"
     ]
    },
    {
     "name": "stderr",
     "output_type": "stream",
     "text": [
      "Epoch [834/5000]: 100%|██████████| 9/9 [00:00<00:00, 423.61it/s, loss=1.45]\n"
     ]
    },
    {
     "name": "stdout",
     "output_type": "stream",
     "text": [
      "Epoch [834/5000]: Train loss: 1.4798, Valid loss: 1.1358\n"
     ]
    },
    {
     "name": "stderr",
     "output_type": "stream",
     "text": [
      "Epoch [835/5000]: 100%|██████████| 9/9 [00:00<00:00, 443.65it/s, loss=1.54]\n"
     ]
    },
    {
     "name": "stdout",
     "output_type": "stream",
     "text": [
      "Epoch [835/5000]: Train loss: 1.4987, Valid loss: 1.1479\n"
     ]
    },
    {
     "name": "stderr",
     "output_type": "stream",
     "text": [
      "Epoch [836/5000]: 100%|██████████| 9/9 [00:00<00:00, 338.87it/s, loss=1.54]\n"
     ]
    },
    {
     "name": "stdout",
     "output_type": "stream",
     "text": [
      "Epoch [836/5000]: Train loss: 1.5544, Valid loss: 1.0168\n"
     ]
    },
    {
     "name": "stderr",
     "output_type": "stream",
     "text": [
      "Epoch [837/5000]: 100%|██████████| 9/9 [00:00<00:00, 326.28it/s, loss=1.66]\n"
     ]
    },
    {
     "name": "stdout",
     "output_type": "stream",
     "text": [
      "Epoch [837/5000]: Train loss: 1.6111, Valid loss: 0.9907\n"
     ]
    },
    {
     "name": "stderr",
     "output_type": "stream",
     "text": [
      "Epoch [838/5000]: 100%|██████████| 9/9 [00:00<00:00, 209.76it/s, loss=1.51]\n"
     ]
    },
    {
     "name": "stdout",
     "output_type": "stream",
     "text": [
      "Epoch [838/5000]: Train loss: 1.5056, Valid loss: 1.1075\n"
     ]
    },
    {
     "name": "stderr",
     "output_type": "stream",
     "text": [
      "Epoch [839/5000]: 100%|██████████| 9/9 [00:00<00:00, 338.36it/s, loss=1.55]\n"
     ]
    },
    {
     "name": "stdout",
     "output_type": "stream",
     "text": [
      "Epoch [839/5000]: Train loss: 1.6333, Valid loss: 1.1099\n"
     ]
    },
    {
     "name": "stderr",
     "output_type": "stream",
     "text": [
      "Epoch [840/5000]: 100%|██████████| 9/9 [00:00<00:00, 307.20it/s, loss=1.45]\n"
     ]
    },
    {
     "name": "stdout",
     "output_type": "stream",
     "text": [
      "Epoch [840/5000]: Train loss: 1.5278, Valid loss: 1.0311\n"
     ]
    },
    {
     "name": "stderr",
     "output_type": "stream",
     "text": [
      "Epoch [841/5000]: 100%|██████████| 9/9 [00:00<00:00, 349.57it/s, loss=1.56]\n"
     ]
    },
    {
     "name": "stdout",
     "output_type": "stream",
     "text": [
      "Epoch [841/5000]: Train loss: 1.4995, Valid loss: 1.0675\n"
     ]
    },
    {
     "name": "stderr",
     "output_type": "stream",
     "text": [
      "Epoch [842/5000]: 100%|██████████| 9/9 [00:00<00:00, 234.86it/s, loss=1.52]\n"
     ]
    },
    {
     "name": "stdout",
     "output_type": "stream",
     "text": [
      "Epoch [842/5000]: Train loss: 1.5477, Valid loss: 1.0389\n"
     ]
    },
    {
     "name": "stderr",
     "output_type": "stream",
     "text": [
      "Epoch [843/5000]: 100%|██████████| 9/9 [00:00<00:00, 323.33it/s, loss=1.49]\n"
     ]
    },
    {
     "name": "stdout",
     "output_type": "stream",
     "text": [
      "Epoch [843/5000]: Train loss: 1.5024, Valid loss: 1.0540\n"
     ]
    },
    {
     "name": "stderr",
     "output_type": "stream",
     "text": [
      "Epoch [844/5000]: 100%|██████████| 9/9 [00:00<00:00, 293.49it/s, loss=1.55]\n"
     ]
    },
    {
     "name": "stdout",
     "output_type": "stream",
     "text": [
      "Epoch [844/5000]: Train loss: 1.5683, Valid loss: 1.0748\n"
     ]
    },
    {
     "name": "stderr",
     "output_type": "stream",
     "text": [
      "Epoch [845/5000]: 100%|██████████| 9/9 [00:00<00:00, 301.36it/s, loss=1.59]\n"
     ]
    },
    {
     "name": "stdout",
     "output_type": "stream",
     "text": [
      "Epoch [845/5000]: Train loss: 1.4939, Valid loss: 1.1077\n"
     ]
    },
    {
     "name": "stderr",
     "output_type": "stream",
     "text": [
      "Epoch [846/5000]: 100%|██████████| 9/9 [00:00<00:00, 306.74it/s, loss=1.62]\n"
     ]
    },
    {
     "name": "stdout",
     "output_type": "stream",
     "text": [
      "Epoch [846/5000]: Train loss: 1.4879, Valid loss: 1.1173\n"
     ]
    },
    {
     "name": "stderr",
     "output_type": "stream",
     "text": [
      "Epoch [847/5000]: 100%|██████████| 9/9 [00:00<00:00, 308.24it/s, loss=1.47]\n"
     ]
    },
    {
     "name": "stdout",
     "output_type": "stream",
     "text": [
      "Epoch [847/5000]: Train loss: 1.5348, Valid loss: 1.1545\n"
     ]
    },
    {
     "name": "stderr",
     "output_type": "stream",
     "text": [
      "Epoch [848/5000]: 100%|██████████| 9/9 [00:00<00:00, 331.70it/s, loss=1.8]\n"
     ]
    },
    {
     "name": "stdout",
     "output_type": "stream",
     "text": [
      "Epoch [848/5000]: Train loss: 1.5841, Valid loss: 1.0530\n"
     ]
    },
    {
     "name": "stderr",
     "output_type": "stream",
     "text": [
      "Epoch [849/5000]: 100%|██████████| 9/9 [00:00<00:00, 92.04it/s, loss=1.72]\n"
     ]
    },
    {
     "name": "stdout",
     "output_type": "stream",
     "text": [
      "Epoch [849/5000]: Train loss: 1.4840, Valid loss: 1.0837\n"
     ]
    },
    {
     "name": "stderr",
     "output_type": "stream",
     "text": [
      "Epoch [850/5000]: 100%|██████████| 9/9 [00:00<00:00, 334.29it/s, loss=1.63]\n"
     ]
    },
    {
     "name": "stdout",
     "output_type": "stream",
     "text": [
      "Epoch [850/5000]: Train loss: 1.5793, Valid loss: 1.1674\n"
     ]
    },
    {
     "name": "stderr",
     "output_type": "stream",
     "text": [
      "Epoch [851/5000]: 100%|██████████| 9/9 [00:00<00:00, 341.83it/s, loss=1.35]\n"
     ]
    },
    {
     "name": "stdout",
     "output_type": "stream",
     "text": [
      "Epoch [851/5000]: Train loss: 1.4860, Valid loss: 1.1093\n"
     ]
    },
    {
     "name": "stderr",
     "output_type": "stream",
     "text": [
      "Epoch [852/5000]: 100%|██████████| 9/9 [00:00<00:00, 337.44it/s, loss=1.54]\n"
     ]
    },
    {
     "name": "stdout",
     "output_type": "stream",
     "text": [
      "Epoch [852/5000]: Train loss: 1.4815, Valid loss: 1.0460\n"
     ]
    },
    {
     "name": "stderr",
     "output_type": "stream",
     "text": [
      "Epoch [853/5000]: 100%|██████████| 9/9 [00:00<00:00, 327.36it/s, loss=2.45]\n"
     ]
    },
    {
     "name": "stdout",
     "output_type": "stream",
     "text": [
      "Epoch [853/5000]: Train loss: 1.6154, Valid loss: 1.1195\n"
     ]
    },
    {
     "name": "stderr",
     "output_type": "stream",
     "text": [
      "Epoch [854/5000]: 100%|██████████| 9/9 [00:00<00:00, 366.90it/s, loss=1.64]\n"
     ]
    },
    {
     "name": "stdout",
     "output_type": "stream",
     "text": [
      "Epoch [854/5000]: Train loss: 1.4658, Valid loss: 1.1093\n"
     ]
    },
    {
     "name": "stderr",
     "output_type": "stream",
     "text": [
      "Epoch [855/5000]: 100%|██████████| 9/9 [00:00<00:00, 345.78it/s, loss=1.59]\n"
     ]
    },
    {
     "name": "stdout",
     "output_type": "stream",
     "text": [
      "Epoch [855/5000]: Train loss: 1.5866, Valid loss: 1.0990\n"
     ]
    },
    {
     "name": "stderr",
     "output_type": "stream",
     "text": [
      "Epoch [856/5000]: 100%|██████████| 9/9 [00:00<00:00, 382.34it/s, loss=1.66]\n"
     ]
    },
    {
     "name": "stdout",
     "output_type": "stream",
     "text": [
      "Epoch [856/5000]: Train loss: 1.4634, Valid loss: 1.0354\n"
     ]
    },
    {
     "name": "stderr",
     "output_type": "stream",
     "text": [
      "Epoch [857/5000]: 100%|██████████| 9/9 [00:00<00:00, 392.93it/s, loss=1.72]\n"
     ]
    },
    {
     "name": "stdout",
     "output_type": "stream",
     "text": [
      "Epoch [857/5000]: Train loss: 1.5505, Valid loss: 1.0493\n"
     ]
    },
    {
     "name": "stderr",
     "output_type": "stream",
     "text": [
      "Epoch [858/5000]: 100%|██████████| 9/9 [00:00<00:00, 390.05it/s, loss=1.37]\n"
     ]
    },
    {
     "name": "stdout",
     "output_type": "stream",
     "text": [
      "Epoch [858/5000]: Train loss: 1.6447, Valid loss: 1.0954\n"
     ]
    },
    {
     "name": "stderr",
     "output_type": "stream",
     "text": [
      "Epoch [859/5000]: 100%|██████████| 9/9 [00:00<00:00, 386.11it/s, loss=1.7]\n"
     ]
    },
    {
     "name": "stdout",
     "output_type": "stream",
     "text": [
      "Epoch [859/5000]: Train loss: 1.5396, Valid loss: 1.1623\n"
     ]
    },
    {
     "name": "stderr",
     "output_type": "stream",
     "text": [
      "Epoch [860/5000]: 100%|██████████| 9/9 [00:00<00:00, 396.73it/s, loss=1.66]\n"
     ]
    },
    {
     "name": "stdout",
     "output_type": "stream",
     "text": [
      "Epoch [860/5000]: Train loss: 1.5406, Valid loss: 1.1058\n"
     ]
    },
    {
     "name": "stderr",
     "output_type": "stream",
     "text": [
      "Epoch [861/5000]: 100%|██████████| 9/9 [00:00<00:00, 369.86it/s, loss=1.38]\n"
     ]
    },
    {
     "name": "stdout",
     "output_type": "stream",
     "text": [
      "Epoch [861/5000]: Train loss: 1.4753, Valid loss: 1.2571\n"
     ]
    },
    {
     "name": "stderr",
     "output_type": "stream",
     "text": [
      "Epoch [862/5000]: 100%|██████████| 9/9 [00:00<00:00, 375.66it/s, loss=2.1]\n"
     ]
    },
    {
     "name": "stdout",
     "output_type": "stream",
     "text": [
      "Epoch [862/5000]: Train loss: 1.6444, Valid loss: 1.1398\n"
     ]
    },
    {
     "name": "stderr",
     "output_type": "stream",
     "text": [
      "Epoch [863/5000]: 100%|██████████| 9/9 [00:00<00:00, 402.01it/s, loss=1.49]\n"
     ]
    },
    {
     "name": "stdout",
     "output_type": "stream",
     "text": [
      "Epoch [863/5000]: Train loss: 1.5121, Valid loss: 1.1216\n"
     ]
    },
    {
     "name": "stderr",
     "output_type": "stream",
     "text": [
      "Epoch [864/5000]: 100%|██████████| 9/9 [00:00<00:00, 420.36it/s, loss=1.33]\n"
     ]
    },
    {
     "name": "stdout",
     "output_type": "stream",
     "text": [
      "Epoch [864/5000]: Train loss: 1.4491, Valid loss: 1.0939\n"
     ]
    },
    {
     "name": "stderr",
     "output_type": "stream",
     "text": [
      "Epoch [865/5000]: 100%|██████████| 9/9 [00:00<00:00, 386.37it/s, loss=1.68]\n"
     ]
    },
    {
     "name": "stdout",
     "output_type": "stream",
     "text": [
      "Epoch [865/5000]: Train loss: 1.5315, Valid loss: 1.1101\n"
     ]
    },
    {
     "name": "stderr",
     "output_type": "stream",
     "text": [
      "Epoch [866/5000]: 100%|██████████| 9/9 [00:00<00:00, 414.95it/s, loss=1.51]\n"
     ]
    },
    {
     "name": "stdout",
     "output_type": "stream",
     "text": [
      "Epoch [866/5000]: Train loss: 1.4819, Valid loss: 1.2015\n"
     ]
    },
    {
     "name": "stderr",
     "output_type": "stream",
     "text": [
      "Epoch [867/5000]: 100%|██████████| 9/9 [00:00<00:00, 366.25it/s, loss=1.7]\n"
     ]
    },
    {
     "name": "stdout",
     "output_type": "stream",
     "text": [
      "Epoch [867/5000]: Train loss: 1.5084, Valid loss: 0.9899\n"
     ]
    },
    {
     "name": "stderr",
     "output_type": "stream",
     "text": [
      "Epoch [868/5000]: 100%|██████████| 9/9 [00:00<00:00, 410.98it/s, loss=1.18]\n"
     ]
    },
    {
     "name": "stdout",
     "output_type": "stream",
     "text": [
      "Epoch [868/5000]: Train loss: 1.4738, Valid loss: 1.0631\n"
     ]
    },
    {
     "name": "stderr",
     "output_type": "stream",
     "text": [
      "Epoch [869/5000]: 100%|██████████| 9/9 [00:00<00:00, 430.09it/s, loss=1.84]\n"
     ]
    },
    {
     "name": "stdout",
     "output_type": "stream",
     "text": [
      "Epoch [869/5000]: Train loss: 1.5559, Valid loss: 1.0345\n"
     ]
    },
    {
     "name": "stderr",
     "output_type": "stream",
     "text": [
      "Epoch [870/5000]: 100%|██████████| 9/9 [00:00<00:00, 399.77it/s, loss=1.34]\n"
     ]
    },
    {
     "name": "stdout",
     "output_type": "stream",
     "text": [
      "Epoch [870/5000]: Train loss: 1.5782, Valid loss: 1.0675\n"
     ]
    },
    {
     "name": "stderr",
     "output_type": "stream",
     "text": [
      "Epoch [871/5000]: 100%|██████████| 9/9 [00:00<00:00, 398.98it/s, loss=1.44]\n"
     ]
    },
    {
     "name": "stdout",
     "output_type": "stream",
     "text": [
      "Epoch [871/5000]: Train loss: 1.5218, Valid loss: 1.1599\n"
     ]
    },
    {
     "name": "stderr",
     "output_type": "stream",
     "text": [
      "Epoch [872/5000]: 100%|██████████| 9/9 [00:00<00:00, 425.35it/s, loss=2.11]\n"
     ]
    },
    {
     "name": "stdout",
     "output_type": "stream",
     "text": [
      "Epoch [872/5000]: Train loss: 1.5824, Valid loss: 1.1113\n"
     ]
    },
    {
     "name": "stderr",
     "output_type": "stream",
     "text": [
      "Epoch [873/5000]: 100%|██████████| 9/9 [00:00<00:00, 443.09it/s, loss=1.69]\n"
     ]
    },
    {
     "name": "stdout",
     "output_type": "stream",
     "text": [
      "Epoch [873/5000]: Train loss: 1.5269, Valid loss: 1.0970\n"
     ]
    },
    {
     "name": "stderr",
     "output_type": "stream",
     "text": [
      "Epoch [874/5000]: 100%|██████████| 9/9 [00:00<00:00, 445.45it/s, loss=1.49]\n"
     ]
    },
    {
     "name": "stdout",
     "output_type": "stream",
     "text": [
      "Epoch [874/5000]: Train loss: 1.5240, Valid loss: 1.0802\n"
     ]
    },
    {
     "name": "stderr",
     "output_type": "stream",
     "text": [
      "Epoch [875/5000]: 100%|██████████| 9/9 [00:00<00:00, 406.08it/s, loss=1.58]\n"
     ]
    },
    {
     "name": "stdout",
     "output_type": "stream",
     "text": [
      "Epoch [875/5000]: Train loss: 1.5475, Valid loss: 1.1884\n"
     ]
    },
    {
     "name": "stderr",
     "output_type": "stream",
     "text": [
      "Epoch [876/5000]: 100%|██████████| 9/9 [00:00<00:00, 454.41it/s, loss=1.58]\n"
     ]
    },
    {
     "name": "stdout",
     "output_type": "stream",
     "text": [
      "Epoch [876/5000]: Train loss: 1.5070, Valid loss: 1.1037\n"
     ]
    },
    {
     "name": "stderr",
     "output_type": "stream",
     "text": [
      "Epoch [877/5000]: 100%|██████████| 9/9 [00:00<00:00, 381.15it/s, loss=1.7]\n"
     ]
    },
    {
     "name": "stdout",
     "output_type": "stream",
     "text": [
      "Epoch [877/5000]: Train loss: 1.5137, Valid loss: 1.1152\n"
     ]
    },
    {
     "name": "stderr",
     "output_type": "stream",
     "text": [
      "Epoch [878/5000]: 100%|██████████| 9/9 [00:00<00:00, 307.23it/s, loss=1.68]\n"
     ]
    },
    {
     "name": "stdout",
     "output_type": "stream",
     "text": [
      "Epoch [878/5000]: Train loss: 1.5251, Valid loss: 1.0727\n"
     ]
    },
    {
     "name": "stderr",
     "output_type": "stream",
     "text": [
      "Epoch [879/5000]: 100%|██████████| 9/9 [00:00<00:00, 344.62it/s, loss=1.6]\n"
     ]
    },
    {
     "name": "stdout",
     "output_type": "stream",
     "text": [
      "Epoch [879/5000]: Train loss: 1.4985, Valid loss: 1.0996\n"
     ]
    },
    {
     "name": "stderr",
     "output_type": "stream",
     "text": [
      "Epoch [880/5000]: 100%|██████████| 9/9 [00:00<00:00, 380.55it/s, loss=1.3]\n"
     ]
    },
    {
     "name": "stdout",
     "output_type": "stream",
     "text": [
      "Epoch [880/5000]: Train loss: 1.4824, Valid loss: 1.1175\n"
     ]
    },
    {
     "name": "stderr",
     "output_type": "stream",
     "text": [
      "Epoch [881/5000]: 100%|██████████| 9/9 [00:00<00:00, 359.44it/s, loss=1.38]\n"
     ]
    },
    {
     "name": "stdout",
     "output_type": "stream",
     "text": [
      "Epoch [881/5000]: Train loss: 1.4547, Valid loss: 1.1195\n"
     ]
    },
    {
     "name": "stderr",
     "output_type": "stream",
     "text": [
      "Epoch [882/5000]: 100%|██████████| 9/9 [00:00<00:00, 360.71it/s, loss=1.56]\n"
     ]
    },
    {
     "name": "stdout",
     "output_type": "stream",
     "text": [
      "Epoch [882/5000]: Train loss: 1.5422, Valid loss: 1.0745\n"
     ]
    },
    {
     "name": "stderr",
     "output_type": "stream",
     "text": [
      "Epoch [883/5000]: 100%|██████████| 9/9 [00:00<00:00, 382.49it/s, loss=1.56]\n"
     ]
    },
    {
     "name": "stdout",
     "output_type": "stream",
     "text": [
      "Epoch [883/5000]: Train loss: 1.5909, Valid loss: 1.2138\n"
     ]
    },
    {
     "name": "stderr",
     "output_type": "stream",
     "text": [
      "Epoch [884/5000]: 100%|██████████| 9/9 [00:00<00:00, 355.77it/s, loss=1.45]\n"
     ]
    },
    {
     "name": "stdout",
     "output_type": "stream",
     "text": [
      "Epoch [884/5000]: Train loss: 1.4775, Valid loss: 1.1660\n"
     ]
    },
    {
     "name": "stderr",
     "output_type": "stream",
     "text": [
      "Epoch [885/5000]: 100%|██████████| 9/9 [00:00<00:00, 351.21it/s, loss=1.63]\n"
     ]
    },
    {
     "name": "stdout",
     "output_type": "stream",
     "text": [
      "Epoch [885/5000]: Train loss: 1.4958, Valid loss: 1.0939\n"
     ]
    },
    {
     "name": "stderr",
     "output_type": "stream",
     "text": [
      "Epoch [886/5000]: 100%|██████████| 9/9 [00:00<00:00, 362.22it/s, loss=1.48]\n"
     ]
    },
    {
     "name": "stdout",
     "output_type": "stream",
     "text": [
      "Epoch [886/5000]: Train loss: 1.4830, Valid loss: 1.0569\n"
     ]
    },
    {
     "name": "stderr",
     "output_type": "stream",
     "text": [
      "Epoch [887/5000]: 100%|██████████| 9/9 [00:00<00:00, 352.85it/s, loss=1.49]\n"
     ]
    },
    {
     "name": "stdout",
     "output_type": "stream",
     "text": [
      "Epoch [887/5000]: Train loss: 1.5604, Valid loss: 1.0943\n"
     ]
    },
    {
     "name": "stderr",
     "output_type": "stream",
     "text": [
      "Epoch [888/5000]: 100%|██████████| 9/9 [00:00<00:00, 382.34it/s, loss=1.67]\n"
     ]
    },
    {
     "name": "stdout",
     "output_type": "stream",
     "text": [
      "Epoch [888/5000]: Train loss: 1.6177, Valid loss: 1.1213\n"
     ]
    },
    {
     "name": "stderr",
     "output_type": "stream",
     "text": [
      "Epoch [889/5000]: 100%|██████████| 9/9 [00:00<00:00, 239.79it/s, loss=1.49]\n"
     ]
    },
    {
     "name": "stdout",
     "output_type": "stream",
     "text": [
      "Epoch [889/5000]: Train loss: 1.4832, Valid loss: 1.0948\n"
     ]
    },
    {
     "name": "stderr",
     "output_type": "stream",
     "text": [
      "Epoch [890/5000]: 100%|██████████| 9/9 [00:00<00:00, 357.34it/s, loss=1.87]\n"
     ]
    },
    {
     "name": "stdout",
     "output_type": "stream",
     "text": [
      "Epoch [890/5000]: Train loss: 1.5467, Valid loss: 1.1884\n"
     ]
    },
    {
     "name": "stderr",
     "output_type": "stream",
     "text": [
      "Epoch [891/5000]: 100%|██████████| 9/9 [00:00<00:00, 347.01it/s, loss=1.46]\n"
     ]
    },
    {
     "name": "stdout",
     "output_type": "stream",
     "text": [
      "Epoch [891/5000]: Train loss: 1.5375, Valid loss: 1.0816\n"
     ]
    },
    {
     "name": "stderr",
     "output_type": "stream",
     "text": [
      "Epoch [892/5000]: 100%|██████████| 9/9 [00:00<00:00, 346.73it/s, loss=1.54]\n"
     ]
    },
    {
     "name": "stdout",
     "output_type": "stream",
     "text": [
      "Epoch [892/5000]: Train loss: 1.5713, Valid loss: 0.9995\n"
     ]
    },
    {
     "name": "stderr",
     "output_type": "stream",
     "text": [
      "Epoch [893/5000]: 100%|██████████| 9/9 [00:00<00:00, 245.24it/s, loss=1.26]\n"
     ]
    },
    {
     "name": "stdout",
     "output_type": "stream",
     "text": [
      "Epoch [893/5000]: Train loss: 1.4753, Valid loss: 1.0143\n"
     ]
    },
    {
     "name": "stderr",
     "output_type": "stream",
     "text": [
      "Epoch [894/5000]: 100%|██████████| 9/9 [00:00<00:00, 373.20it/s, loss=1.36]\n"
     ]
    },
    {
     "name": "stdout",
     "output_type": "stream",
     "text": [
      "Epoch [894/5000]: Train loss: 1.4741, Valid loss: 1.1200\n"
     ]
    },
    {
     "name": "stderr",
     "output_type": "stream",
     "text": [
      "Epoch [895/5000]: 100%|██████████| 9/9 [00:00<00:00, 353.66it/s, loss=1.38]\n"
     ]
    },
    {
     "name": "stdout",
     "output_type": "stream",
     "text": [
      "Epoch [895/5000]: Train loss: 1.4811, Valid loss: 1.1227\n"
     ]
    },
    {
     "name": "stderr",
     "output_type": "stream",
     "text": [
      "Epoch [896/5000]: 100%|██████████| 9/9 [00:00<00:00, 385.70it/s, loss=1.8]\n"
     ]
    },
    {
     "name": "stdout",
     "output_type": "stream",
     "text": [
      "Epoch [896/5000]: Train loss: 1.5695, Valid loss: 1.0930\n"
     ]
    },
    {
     "name": "stderr",
     "output_type": "stream",
     "text": [
      "Epoch [897/5000]: 100%|██████████| 9/9 [00:00<00:00, 379.01it/s, loss=1.41]\n"
     ]
    },
    {
     "name": "stdout",
     "output_type": "stream",
     "text": [
      "Epoch [897/5000]: Train loss: 1.5022, Valid loss: 1.0432\n"
     ]
    },
    {
     "name": "stderr",
     "output_type": "stream",
     "text": [
      "Epoch [898/5000]: 100%|██████████| 9/9 [00:00<00:00, 376.93it/s, loss=1.38]\n"
     ]
    },
    {
     "name": "stdout",
     "output_type": "stream",
     "text": [
      "Epoch [898/5000]: Train loss: 1.5494, Valid loss: 1.0364\n"
     ]
    },
    {
     "name": "stderr",
     "output_type": "stream",
     "text": [
      "Epoch [899/5000]: 100%|██████████| 9/9 [00:00<00:00, 349.74it/s, loss=1.52]\n"
     ]
    },
    {
     "name": "stdout",
     "output_type": "stream",
     "text": [
      "Epoch [899/5000]: Train loss: 1.5222, Valid loss: 1.0370\n"
     ]
    },
    {
     "name": "stderr",
     "output_type": "stream",
     "text": [
      "Epoch [900/5000]: 100%|██████████| 9/9 [00:00<00:00, 360.50it/s, loss=1.44]\n"
     ]
    },
    {
     "name": "stdout",
     "output_type": "stream",
     "text": [
      "Epoch [900/5000]: Train loss: 1.4907, Valid loss: 1.2093\n"
     ]
    },
    {
     "name": "stderr",
     "output_type": "stream",
     "text": [
      "Epoch [901/5000]: 100%|██████████| 9/9 [00:00<00:00, 335.84it/s, loss=1.81]\n"
     ]
    },
    {
     "name": "stdout",
     "output_type": "stream",
     "text": [
      "Epoch [901/5000]: Train loss: 1.6296, Valid loss: 1.1980\n"
     ]
    },
    {
     "name": "stderr",
     "output_type": "stream",
     "text": [
      "Epoch [902/5000]: 100%|██████████| 9/9 [00:00<00:00, 283.36it/s, loss=1.77]\n"
     ]
    },
    {
     "name": "stdout",
     "output_type": "stream",
     "text": [
      "Epoch [902/5000]: Train loss: 1.4839, Valid loss: 1.0933\n"
     ]
    },
    {
     "name": "stderr",
     "output_type": "stream",
     "text": [
      "Epoch [903/5000]: 100%|██████████| 9/9 [00:00<00:00, 327.20it/s, loss=1.47]\n"
     ]
    },
    {
     "name": "stdout",
     "output_type": "stream",
     "text": [
      "Epoch [903/5000]: Train loss: 1.5221, Valid loss: 1.1315\n"
     ]
    },
    {
     "name": "stderr",
     "output_type": "stream",
     "text": [
      "Epoch [904/5000]: 100%|██████████| 9/9 [00:00<00:00, 362.68it/s, loss=1.66]\n"
     ]
    },
    {
     "name": "stdout",
     "output_type": "stream",
     "text": [
      "Epoch [904/5000]: Train loss: 1.5362, Valid loss: 0.9524\n",
      "Saving model with loss 0.952...\n"
     ]
    },
    {
     "name": "stderr",
     "output_type": "stream",
     "text": [
      "Epoch [905/5000]: 100%|██████████| 9/9 [00:00<00:00, 365.38it/s, loss=1.46]\n"
     ]
    },
    {
     "name": "stdout",
     "output_type": "stream",
     "text": [
      "Epoch [905/5000]: Train loss: 1.5552, Valid loss: 1.2512\n"
     ]
    },
    {
     "name": "stderr",
     "output_type": "stream",
     "text": [
      "Epoch [906/5000]: 100%|██████████| 9/9 [00:00<00:00, 358.70it/s, loss=1.74]\n"
     ]
    },
    {
     "name": "stdout",
     "output_type": "stream",
     "text": [
      "Epoch [906/5000]: Train loss: 1.5118, Valid loss: 1.1576\n"
     ]
    },
    {
     "name": "stderr",
     "output_type": "stream",
     "text": [
      "Epoch [907/5000]: 100%|██████████| 9/9 [00:00<00:00, 337.47it/s, loss=2.14]\n"
     ]
    },
    {
     "name": "stdout",
     "output_type": "stream",
     "text": [
      "Epoch [907/5000]: Train loss: 1.6501, Valid loss: 1.1440\n"
     ]
    },
    {
     "name": "stderr",
     "output_type": "stream",
     "text": [
      "Epoch [908/5000]: 100%|██████████| 9/9 [00:00<00:00, 332.78it/s, loss=1.34]\n"
     ]
    },
    {
     "name": "stdout",
     "output_type": "stream",
     "text": [
      "Epoch [908/5000]: Train loss: 1.4505, Valid loss: 0.9981\n"
     ]
    },
    {
     "name": "stderr",
     "output_type": "stream",
     "text": [
      "Epoch [909/5000]: 100%|██████████| 9/9 [00:00<00:00, 350.17it/s, loss=1.77]\n"
     ]
    },
    {
     "name": "stdout",
     "output_type": "stream",
     "text": [
      "Epoch [909/5000]: Train loss: 1.5699, Valid loss: 1.1223\n"
     ]
    },
    {
     "name": "stderr",
     "output_type": "stream",
     "text": [
      "Epoch [910/5000]: 100%|██████████| 9/9 [00:00<00:00, 341.30it/s, loss=1.46]\n"
     ]
    },
    {
     "name": "stdout",
     "output_type": "stream",
     "text": [
      "Epoch [910/5000]: Train loss: 1.5106, Valid loss: 1.0560\n"
     ]
    },
    {
     "name": "stderr",
     "output_type": "stream",
     "text": [
      "Epoch [911/5000]: 100%|██████████| 9/9 [00:00<00:00, 299.43it/s, loss=1.55]\n"
     ]
    },
    {
     "name": "stdout",
     "output_type": "stream",
     "text": [
      "Epoch [911/5000]: Train loss: 1.5308, Valid loss: 1.1223\n"
     ]
    },
    {
     "name": "stderr",
     "output_type": "stream",
     "text": [
      "Epoch [912/5000]: 100%|██████████| 9/9 [00:00<00:00, 345.51it/s, loss=1.45]\n"
     ]
    },
    {
     "name": "stdout",
     "output_type": "stream",
     "text": [
      "Epoch [912/5000]: Train loss: 1.4955, Valid loss: 1.1138\n"
     ]
    },
    {
     "name": "stderr",
     "output_type": "stream",
     "text": [
      "Epoch [913/5000]: 100%|██████████| 9/9 [00:00<00:00, 368.88it/s, loss=1.42]\n"
     ]
    },
    {
     "name": "stdout",
     "output_type": "stream",
     "text": [
      "Epoch [913/5000]: Train loss: 1.5092, Valid loss: 1.0383\n"
     ]
    },
    {
     "name": "stderr",
     "output_type": "stream",
     "text": [
      "Epoch [914/5000]: 100%|██████████| 9/9 [00:00<00:00, 357.03it/s, loss=1.63]\n"
     ]
    },
    {
     "name": "stdout",
     "output_type": "stream",
     "text": [
      "Epoch [914/5000]: Train loss: 1.5043, Valid loss: 1.1457\n"
     ]
    },
    {
     "name": "stderr",
     "output_type": "stream",
     "text": [
      "Epoch [915/5000]: 100%|██████████| 9/9 [00:00<00:00, 353.79it/s, loss=1.55]\n"
     ]
    },
    {
     "name": "stdout",
     "output_type": "stream",
     "text": [
      "Epoch [915/5000]: Train loss: 1.5004, Valid loss: 1.1002\n"
     ]
    },
    {
     "name": "stderr",
     "output_type": "stream",
     "text": [
      "Epoch [916/5000]: 100%|██████████| 9/9 [00:00<00:00, 379.99it/s, loss=1.52]\n"
     ]
    },
    {
     "name": "stdout",
     "output_type": "stream",
     "text": [
      "Epoch [916/5000]: Train loss: 1.4957, Valid loss: 1.0406\n"
     ]
    },
    {
     "name": "stderr",
     "output_type": "stream",
     "text": [
      "Epoch [917/5000]: 100%|██████████| 9/9 [00:00<00:00, 307.50it/s, loss=1.28]\n"
     ]
    },
    {
     "name": "stdout",
     "output_type": "stream",
     "text": [
      "Epoch [917/5000]: Train loss: 1.5005, Valid loss: 1.1715\n"
     ]
    },
    {
     "name": "stderr",
     "output_type": "stream",
     "text": [
      "Epoch [918/5000]: 100%|██████████| 9/9 [00:00<00:00, 331.65it/s, loss=1.46]\n"
     ]
    },
    {
     "name": "stdout",
     "output_type": "stream",
     "text": [
      "Epoch [918/5000]: Train loss: 1.5278, Valid loss: 1.0018\n"
     ]
    },
    {
     "name": "stderr",
     "output_type": "stream",
     "text": [
      "Epoch [919/5000]: 100%|██████████| 9/9 [00:00<00:00, 243.89it/s, loss=1.66]\n"
     ]
    },
    {
     "name": "stdout",
     "output_type": "stream",
     "text": [
      "Epoch [919/5000]: Train loss: 1.5088, Valid loss: 0.9678\n"
     ]
    },
    {
     "name": "stderr",
     "output_type": "stream",
     "text": [
      "Epoch [920/5000]: 100%|██████████| 9/9 [00:00<00:00, 398.09it/s, loss=1.5]\n"
     ]
    },
    {
     "name": "stdout",
     "output_type": "stream",
     "text": [
      "Epoch [920/5000]: Train loss: 1.5731, Valid loss: 1.1690\n"
     ]
    },
    {
     "name": "stderr",
     "output_type": "stream",
     "text": [
      "Epoch [921/5000]: 100%|██████████| 9/9 [00:00<00:00, 402.48it/s, loss=1.62]\n"
     ]
    },
    {
     "name": "stdout",
     "output_type": "stream",
     "text": [
      "Epoch [921/5000]: Train loss: 1.5211, Valid loss: 1.0582\n"
     ]
    },
    {
     "name": "stderr",
     "output_type": "stream",
     "text": [
      "Epoch [922/5000]: 100%|██████████| 9/9 [00:00<00:00, 404.56it/s, loss=2.65]\n"
     ]
    },
    {
     "name": "stdout",
     "output_type": "stream",
     "text": [
      "Epoch [922/5000]: Train loss: 1.5986, Valid loss: 1.1397\n"
     ]
    },
    {
     "name": "stderr",
     "output_type": "stream",
     "text": [
      "Epoch [923/5000]: 100%|██████████| 9/9 [00:00<00:00, 405.55it/s, loss=1.69]\n"
     ]
    },
    {
     "name": "stdout",
     "output_type": "stream",
     "text": [
      "Epoch [923/5000]: Train loss: 1.5061, Valid loss: 1.0838\n"
     ]
    },
    {
     "name": "stderr",
     "output_type": "stream",
     "text": [
      "Epoch [924/5000]: 100%|██████████| 9/9 [00:00<00:00, 410.88it/s, loss=1.55]\n"
     ]
    },
    {
     "name": "stdout",
     "output_type": "stream",
     "text": [
      "Epoch [924/5000]: Train loss: 1.5018, Valid loss: 1.0705\n"
     ]
    },
    {
     "name": "stderr",
     "output_type": "stream",
     "text": [
      "Epoch [925/5000]: 100%|██████████| 9/9 [00:00<00:00, 397.07it/s, loss=1.54]\n"
     ]
    },
    {
     "name": "stdout",
     "output_type": "stream",
     "text": [
      "Epoch [925/5000]: Train loss: 1.4274, Valid loss: 1.0224\n"
     ]
    },
    {
     "name": "stderr",
     "output_type": "stream",
     "text": [
      "Epoch [926/5000]: 100%|██████████| 9/9 [00:00<00:00, 375.63it/s, loss=1.51]\n"
     ]
    },
    {
     "name": "stdout",
     "output_type": "stream",
     "text": [
      "Epoch [926/5000]: Train loss: 1.5643, Valid loss: 0.9979\n"
     ]
    },
    {
     "name": "stderr",
     "output_type": "stream",
     "text": [
      "Epoch [927/5000]: 100%|██████████| 9/9 [00:00<00:00, 381.66it/s, loss=1.36]\n"
     ]
    },
    {
     "name": "stdout",
     "output_type": "stream",
     "text": [
      "Epoch [927/5000]: Train loss: 1.4265, Valid loss: 1.0510\n"
     ]
    },
    {
     "name": "stderr",
     "output_type": "stream",
     "text": [
      "Epoch [928/5000]: 100%|██████████| 9/9 [00:00<00:00, 381.79it/s, loss=1.47]\n"
     ]
    },
    {
     "name": "stdout",
     "output_type": "stream",
     "text": [
      "Epoch [928/5000]: Train loss: 1.5164, Valid loss: 0.9813\n"
     ]
    },
    {
     "name": "stderr",
     "output_type": "stream",
     "text": [
      "Epoch [929/5000]: 100%|██████████| 9/9 [00:00<00:00, 406.26it/s, loss=1.47]\n"
     ]
    },
    {
     "name": "stdout",
     "output_type": "stream",
     "text": [
      "Epoch [929/5000]: Train loss: 1.5142, Valid loss: 1.0775\n"
     ]
    },
    {
     "name": "stderr",
     "output_type": "stream",
     "text": [
      "Epoch [930/5000]: 100%|██████████| 9/9 [00:00<00:00, 399.54it/s, loss=1.5]\n"
     ]
    },
    {
     "name": "stdout",
     "output_type": "stream",
     "text": [
      "Epoch [930/5000]: Train loss: 1.5357, Valid loss: 1.1642\n"
     ]
    },
    {
     "name": "stderr",
     "output_type": "stream",
     "text": [
      "Epoch [931/5000]: 100%|██████████| 9/9 [00:00<00:00, 413.97it/s, loss=1.63]\n"
     ]
    },
    {
     "name": "stdout",
     "output_type": "stream",
     "text": [
      "Epoch [931/5000]: Train loss: 1.5122, Valid loss: 1.0499\n"
     ]
    },
    {
     "name": "stderr",
     "output_type": "stream",
     "text": [
      "Epoch [932/5000]: 100%|██████████| 9/9 [00:00<00:00, 431.45it/s, loss=1.91]\n"
     ]
    },
    {
     "name": "stdout",
     "output_type": "stream",
     "text": [
      "Epoch [932/5000]: Train loss: 1.5246, Valid loss: 0.9799\n"
     ]
    },
    {
     "name": "stderr",
     "output_type": "stream",
     "text": [
      "Epoch [933/5000]: 100%|██████████| 9/9 [00:00<00:00, 450.11it/s, loss=1.64]\n"
     ]
    },
    {
     "name": "stdout",
     "output_type": "stream",
     "text": [
      "Epoch [933/5000]: Train loss: 1.5464, Valid loss: 1.1408\n"
     ]
    },
    {
     "name": "stderr",
     "output_type": "stream",
     "text": [
      "Epoch [934/5000]: 100%|██████████| 9/9 [00:00<00:00, 431.03it/s, loss=1.73]\n"
     ]
    },
    {
     "name": "stdout",
     "output_type": "stream",
     "text": [
      "Epoch [934/5000]: Train loss: 1.4968, Valid loss: 1.1005\n"
     ]
    },
    {
     "name": "stderr",
     "output_type": "stream",
     "text": [
      "Epoch [935/5000]: 100%|██████████| 9/9 [00:00<00:00, 384.78it/s, loss=1.39]\n"
     ]
    },
    {
     "name": "stdout",
     "output_type": "stream",
     "text": [
      "Epoch [935/5000]: Train loss: 1.4948, Valid loss: 1.1418\n"
     ]
    },
    {
     "name": "stderr",
     "output_type": "stream",
     "text": [
      "Epoch [936/5000]: 100%|██████████| 9/9 [00:00<00:00, 413.96it/s, loss=1.43]\n"
     ]
    },
    {
     "name": "stdout",
     "output_type": "stream",
     "text": [
      "Epoch [936/5000]: Train loss: 1.5807, Valid loss: 1.0285\n"
     ]
    },
    {
     "name": "stderr",
     "output_type": "stream",
     "text": [
      "Epoch [937/5000]: 100%|██████████| 9/9 [00:00<00:00, 388.11it/s, loss=1.69]\n"
     ]
    },
    {
     "name": "stdout",
     "output_type": "stream",
     "text": [
      "Epoch [937/5000]: Train loss: 1.6320, Valid loss: 1.1565\n"
     ]
    },
    {
     "name": "stderr",
     "output_type": "stream",
     "text": [
      "Epoch [938/5000]: 100%|██████████| 9/9 [00:00<00:00, 380.94it/s, loss=1.54]\n"
     ]
    },
    {
     "name": "stdout",
     "output_type": "stream",
     "text": [
      "Epoch [938/5000]: Train loss: 1.5080, Valid loss: 1.2909\n"
     ]
    },
    {
     "name": "stderr",
     "output_type": "stream",
     "text": [
      "Epoch [939/5000]: 100%|██████████| 9/9 [00:00<00:00, 453.74it/s, loss=1.88]\n"
     ]
    },
    {
     "name": "stdout",
     "output_type": "stream",
     "text": [
      "Epoch [939/5000]: Train loss: 1.6050, Valid loss: 1.1347\n"
     ]
    },
    {
     "name": "stderr",
     "output_type": "stream",
     "text": [
      "Epoch [940/5000]: 100%|██████████| 9/9 [00:00<00:00, 460.59it/s, loss=1.4]\n"
     ]
    },
    {
     "name": "stdout",
     "output_type": "stream",
     "text": [
      "Epoch [940/5000]: Train loss: 1.4632, Valid loss: 1.0792\n"
     ]
    },
    {
     "name": "stderr",
     "output_type": "stream",
     "text": [
      "Epoch [941/5000]: 100%|██████████| 9/9 [00:00<00:00, 377.63it/s, loss=1.54]\n"
     ]
    },
    {
     "name": "stdout",
     "output_type": "stream",
     "text": [
      "Epoch [941/5000]: Train loss: 1.5185, Valid loss: 1.1076\n"
     ]
    },
    {
     "name": "stderr",
     "output_type": "stream",
     "text": [
      "Epoch [942/5000]: 100%|██████████| 9/9 [00:00<00:00, 361.71it/s, loss=1.39]\n"
     ]
    },
    {
     "name": "stdout",
     "output_type": "stream",
     "text": [
      "Epoch [942/5000]: Train loss: 1.5314, Valid loss: 0.9579\n"
     ]
    },
    {
     "name": "stderr",
     "output_type": "stream",
     "text": [
      "Epoch [943/5000]: 100%|██████████| 9/9 [00:00<00:00, 351.15it/s, loss=1.31]\n"
     ]
    },
    {
     "name": "stdout",
     "output_type": "stream",
     "text": [
      "Epoch [943/5000]: Train loss: 1.4890, Valid loss: 1.1286\n"
     ]
    },
    {
     "name": "stderr",
     "output_type": "stream",
     "text": [
      "Epoch [944/5000]: 100%|██████████| 9/9 [00:00<00:00, 396.90it/s, loss=1.38]\n"
     ]
    },
    {
     "name": "stdout",
     "output_type": "stream",
     "text": [
      "Epoch [944/5000]: Train loss: 1.5056, Valid loss: 1.0763\n"
     ]
    },
    {
     "name": "stderr",
     "output_type": "stream",
     "text": [
      "Epoch [945/5000]: 100%|██████████| 9/9 [00:00<00:00, 369.94it/s, loss=1.46]\n"
     ]
    },
    {
     "name": "stdout",
     "output_type": "stream",
     "text": [
      "Epoch [945/5000]: Train loss: 1.5439, Valid loss: 1.0938\n"
     ]
    },
    {
     "name": "stderr",
     "output_type": "stream",
     "text": [
      "Epoch [946/5000]: 100%|██████████| 9/9 [00:00<00:00, 242.86it/s, loss=1.85]\n"
     ]
    },
    {
     "name": "stdout",
     "output_type": "stream",
     "text": [
      "Epoch [946/5000]: Train loss: 1.4929, Valid loss: 1.0739\n"
     ]
    },
    {
     "name": "stderr",
     "output_type": "stream",
     "text": [
      "Epoch [947/5000]: 100%|██████████| 9/9 [00:00<00:00, 356.83it/s, loss=1.57]\n"
     ]
    },
    {
     "name": "stdout",
     "output_type": "stream",
     "text": [
      "Epoch [947/5000]: Train loss: 1.5499, Valid loss: 1.1082\n"
     ]
    },
    {
     "name": "stderr",
     "output_type": "stream",
     "text": [
      "Epoch [948/5000]: 100%|██████████| 9/9 [00:00<00:00, 365.23it/s, loss=1.51]\n"
     ]
    },
    {
     "name": "stdout",
     "output_type": "stream",
     "text": [
      "Epoch [948/5000]: Train loss: 1.5042, Valid loss: 1.0891\n"
     ]
    },
    {
     "name": "stderr",
     "output_type": "stream",
     "text": [
      "Epoch [949/5000]: 100%|██████████| 9/9 [00:00<00:00, 374.50it/s, loss=1.29]\n"
     ]
    },
    {
     "name": "stdout",
     "output_type": "stream",
     "text": [
      "Epoch [949/5000]: Train loss: 1.4771, Valid loss: 1.0604\n"
     ]
    },
    {
     "name": "stderr",
     "output_type": "stream",
     "text": [
      "Epoch [950/5000]: 100%|██████████| 9/9 [00:00<00:00, 358.21it/s, loss=1.57]\n"
     ]
    },
    {
     "name": "stdout",
     "output_type": "stream",
     "text": [
      "Epoch [950/5000]: Train loss: 1.5191, Valid loss: 0.9568\n"
     ]
    },
    {
     "name": "stderr",
     "output_type": "stream",
     "text": [
      "Epoch [951/5000]: 100%|██████████| 9/9 [00:00<00:00, 361.06it/s, loss=1.72]\n"
     ]
    },
    {
     "name": "stdout",
     "output_type": "stream",
     "text": [
      "Epoch [951/5000]: Train loss: 1.5040, Valid loss: 1.1340\n"
     ]
    },
    {
     "name": "stderr",
     "output_type": "stream",
     "text": [
      "Epoch [952/5000]: 100%|██████████| 9/9 [00:00<00:00, 401.27it/s, loss=1.81]\n"
     ]
    },
    {
     "name": "stdout",
     "output_type": "stream",
     "text": [
      "Epoch [952/5000]: Train loss: 1.5315, Valid loss: 1.0738\n"
     ]
    },
    {
     "name": "stderr",
     "output_type": "stream",
     "text": [
      "Epoch [953/5000]: 100%|██████████| 9/9 [00:00<00:00, 395.22it/s, loss=1.24]\n"
     ]
    },
    {
     "name": "stdout",
     "output_type": "stream",
     "text": [
      "Epoch [953/5000]: Train loss: 1.5045, Valid loss: 1.0659\n"
     ]
    },
    {
     "name": "stderr",
     "output_type": "stream",
     "text": [
      "Epoch [954/5000]: 100%|██████████| 9/9 [00:00<00:00, 422.53it/s, loss=1.76]\n"
     ]
    },
    {
     "name": "stdout",
     "output_type": "stream",
     "text": [
      "Epoch [954/5000]: Train loss: 1.5133, Valid loss: 1.0838\n"
     ]
    },
    {
     "name": "stderr",
     "output_type": "stream",
     "text": [
      "Epoch [955/5000]: 100%|██████████| 9/9 [00:00<00:00, 100.99it/s, loss=1.39]\n"
     ]
    },
    {
     "name": "stdout",
     "output_type": "stream",
     "text": [
      "Epoch [955/5000]: Train loss: 1.4710, Valid loss: 1.1142\n"
     ]
    },
    {
     "name": "stderr",
     "output_type": "stream",
     "text": [
      "Epoch [956/5000]: 100%|██████████| 9/9 [00:00<00:00, 411.28it/s, loss=1.46]\n"
     ]
    },
    {
     "name": "stdout",
     "output_type": "stream",
     "text": [
      "Epoch [956/5000]: Train loss: 1.4923, Valid loss: 1.0025\n"
     ]
    },
    {
     "name": "stderr",
     "output_type": "stream",
     "text": [
      "Epoch [957/5000]: 100%|██████████| 9/9 [00:00<00:00, 385.59it/s, loss=2.06]\n"
     ]
    },
    {
     "name": "stdout",
     "output_type": "stream",
     "text": [
      "Epoch [957/5000]: Train loss: 1.5321, Valid loss: 1.1226\n"
     ]
    },
    {
     "name": "stderr",
     "output_type": "stream",
     "text": [
      "Epoch [958/5000]: 100%|██████████| 9/9 [00:00<00:00, 379.42it/s, loss=1.74]\n"
     ]
    },
    {
     "name": "stdout",
     "output_type": "stream",
     "text": [
      "Epoch [958/5000]: Train loss: 1.5437, Valid loss: 1.0432\n"
     ]
    },
    {
     "name": "stderr",
     "output_type": "stream",
     "text": [
      "Epoch [959/5000]: 100%|██████████| 9/9 [00:00<00:00, 357.75it/s, loss=1.59]\n"
     ]
    },
    {
     "name": "stdout",
     "output_type": "stream",
     "text": [
      "Epoch [959/5000]: Train loss: 1.5735, Valid loss: 1.0837\n"
     ]
    },
    {
     "name": "stderr",
     "output_type": "stream",
     "text": [
      "Epoch [960/5000]: 100%|██████████| 9/9 [00:00<00:00, 355.60it/s, loss=1.66]\n"
     ]
    },
    {
     "name": "stdout",
     "output_type": "stream",
     "text": [
      "Epoch [960/5000]: Train loss: 1.5349, Valid loss: 1.0040\n"
     ]
    },
    {
     "name": "stderr",
     "output_type": "stream",
     "text": [
      "Epoch [961/5000]: 100%|██████████| 9/9 [00:00<00:00, 345.11it/s, loss=2.43]\n"
     ]
    },
    {
     "name": "stdout",
     "output_type": "stream",
     "text": [
      "Epoch [961/5000]: Train loss: 1.5556, Valid loss: 1.1433\n"
     ]
    },
    {
     "name": "stderr",
     "output_type": "stream",
     "text": [
      "Epoch [962/5000]: 100%|██████████| 9/9 [00:00<00:00, 361.01it/s, loss=1.8]\n"
     ]
    },
    {
     "name": "stdout",
     "output_type": "stream",
     "text": [
      "Epoch [962/5000]: Train loss: 1.5794, Valid loss: 1.0824\n"
     ]
    },
    {
     "name": "stderr",
     "output_type": "stream",
     "text": [
      "Epoch [963/5000]: 100%|██████████| 9/9 [00:00<00:00, 351.82it/s, loss=1.55]\n"
     ]
    },
    {
     "name": "stdout",
     "output_type": "stream",
     "text": [
      "Epoch [963/5000]: Train loss: 1.5249, Valid loss: 1.1265\n"
     ]
    },
    {
     "name": "stderr",
     "output_type": "stream",
     "text": [
      "Epoch [964/5000]: 100%|██████████| 9/9 [00:00<00:00, 393.98it/s, loss=1.38]\n"
     ]
    },
    {
     "name": "stdout",
     "output_type": "stream",
     "text": [
      "Epoch [964/5000]: Train loss: 1.5660, Valid loss: 1.0805\n"
     ]
    },
    {
     "name": "stderr",
     "output_type": "stream",
     "text": [
      "Epoch [965/5000]: 100%|██████████| 9/9 [00:00<00:00, 403.95it/s, loss=1.49]\n"
     ]
    },
    {
     "name": "stdout",
     "output_type": "stream",
     "text": [
      "Epoch [965/5000]: Train loss: 1.5543, Valid loss: 1.0621\n"
     ]
    },
    {
     "name": "stderr",
     "output_type": "stream",
     "text": [
      "Epoch [966/5000]: 100%|██████████| 9/9 [00:00<00:00, 454.34it/s, loss=1.47]\n"
     ]
    },
    {
     "name": "stdout",
     "output_type": "stream",
     "text": [
      "Epoch [966/5000]: Train loss: 1.4891, Valid loss: 1.0974\n"
     ]
    },
    {
     "name": "stderr",
     "output_type": "stream",
     "text": [
      "Epoch [967/5000]: 100%|██████████| 9/9 [00:00<00:00, 440.59it/s, loss=1.49]\n"
     ]
    },
    {
     "name": "stdout",
     "output_type": "stream",
     "text": [
      "Epoch [967/5000]: Train loss: 1.5166, Valid loss: 1.1217\n"
     ]
    },
    {
     "name": "stderr",
     "output_type": "stream",
     "text": [
      "Epoch [968/5000]: 100%|██████████| 9/9 [00:00<00:00, 454.84it/s, loss=1.58]\n"
     ]
    },
    {
     "name": "stdout",
     "output_type": "stream",
     "text": [
      "Epoch [968/5000]: Train loss: 1.4440, Valid loss: 1.0379\n"
     ]
    },
    {
     "name": "stderr",
     "output_type": "stream",
     "text": [
      "Epoch [969/5000]: 100%|██████████| 9/9 [00:00<00:00, 438.72it/s, loss=1.53]\n"
     ]
    },
    {
     "name": "stdout",
     "output_type": "stream",
     "text": [
      "Epoch [969/5000]: Train loss: 1.4991, Valid loss: 1.0233\n"
     ]
    },
    {
     "name": "stderr",
     "output_type": "stream",
     "text": [
      "Epoch [970/5000]: 100%|██████████| 9/9 [00:00<00:00, 434.37it/s, loss=1.29]\n"
     ]
    },
    {
     "name": "stdout",
     "output_type": "stream",
     "text": [
      "Epoch [970/5000]: Train loss: 1.4817, Valid loss: 1.0305\n"
     ]
    },
    {
     "name": "stderr",
     "output_type": "stream",
     "text": [
      "Epoch [971/5000]: 100%|██████████| 9/9 [00:00<00:00, 403.54it/s, loss=1.54]\n"
     ]
    },
    {
     "name": "stdout",
     "output_type": "stream",
     "text": [
      "Epoch [971/5000]: Train loss: 1.5651, Valid loss: 1.0690\n"
     ]
    },
    {
     "name": "stderr",
     "output_type": "stream",
     "text": [
      "Epoch [972/5000]: 100%|██████████| 9/9 [00:00<00:00, 313.84it/s, loss=1.58]\n"
     ]
    },
    {
     "name": "stdout",
     "output_type": "stream",
     "text": [
      "Epoch [972/5000]: Train loss: 1.5115, Valid loss: 1.0355\n"
     ]
    },
    {
     "name": "stderr",
     "output_type": "stream",
     "text": [
      "Epoch [973/5000]: 100%|██████████| 9/9 [00:00<00:00, 430.11it/s, loss=1.58]\n"
     ]
    },
    {
     "name": "stdout",
     "output_type": "stream",
     "text": [
      "Epoch [973/5000]: Train loss: 1.5344, Valid loss: 1.1370\n"
     ]
    },
    {
     "name": "stderr",
     "output_type": "stream",
     "text": [
      "Epoch [974/5000]: 100%|██████████| 9/9 [00:00<00:00, 385.34it/s, loss=1.45]\n"
     ]
    },
    {
     "name": "stdout",
     "output_type": "stream",
     "text": [
      "Epoch [974/5000]: Train loss: 1.5106, Valid loss: 1.0268\n"
     ]
    },
    {
     "name": "stderr",
     "output_type": "stream",
     "text": [
      "Epoch [975/5000]: 100%|██████████| 9/9 [00:00<00:00, 391.37it/s, loss=1.41]\n"
     ]
    },
    {
     "name": "stdout",
     "output_type": "stream",
     "text": [
      "Epoch [975/5000]: Train loss: 1.5071, Valid loss: 1.0869\n"
     ]
    },
    {
     "name": "stderr",
     "output_type": "stream",
     "text": [
      "Epoch [976/5000]: 100%|██████████| 9/9 [00:00<00:00, 394.21it/s, loss=1.4]\n"
     ]
    },
    {
     "name": "stdout",
     "output_type": "stream",
     "text": [
      "Epoch [976/5000]: Train loss: 1.5751, Valid loss: 1.1742\n"
     ]
    },
    {
     "name": "stderr",
     "output_type": "stream",
     "text": [
      "Epoch [977/5000]: 100%|██████████| 9/9 [00:00<00:00, 408.00it/s, loss=1.68]\n"
     ]
    },
    {
     "name": "stdout",
     "output_type": "stream",
     "text": [
      "Epoch [977/5000]: Train loss: 1.5420, Valid loss: 1.0855\n"
     ]
    },
    {
     "name": "stderr",
     "output_type": "stream",
     "text": [
      "Epoch [978/5000]: 100%|██████████| 9/9 [00:00<00:00, 391.63it/s, loss=1.66]\n"
     ]
    },
    {
     "name": "stdout",
     "output_type": "stream",
     "text": [
      "Epoch [978/5000]: Train loss: 1.5070, Valid loss: 1.0676\n"
     ]
    },
    {
     "name": "stderr",
     "output_type": "stream",
     "text": [
      "Epoch [979/5000]: 100%|██████████| 9/9 [00:00<00:00, 388.39it/s, loss=1.34]\n"
     ]
    },
    {
     "name": "stdout",
     "output_type": "stream",
     "text": [
      "Epoch [979/5000]: Train loss: 1.4548, Valid loss: 1.0871\n"
     ]
    },
    {
     "name": "stderr",
     "output_type": "stream",
     "text": [
      "Epoch [980/5000]: 100%|██████████| 9/9 [00:00<00:00, 335.02it/s, loss=2.18]\n"
     ]
    },
    {
     "name": "stdout",
     "output_type": "stream",
     "text": [
      "Epoch [980/5000]: Train loss: 1.6309, Valid loss: 1.1077\n"
     ]
    },
    {
     "name": "stderr",
     "output_type": "stream",
     "text": [
      "Epoch [981/5000]: 100%|██████████| 9/9 [00:00<00:00, 375.41it/s, loss=1.4]\n"
     ]
    },
    {
     "name": "stdout",
     "output_type": "stream",
     "text": [
      "Epoch [981/5000]: Train loss: 1.5019, Valid loss: 1.0885\n"
     ]
    },
    {
     "name": "stderr",
     "output_type": "stream",
     "text": [
      "Epoch [982/5000]: 100%|██████████| 9/9 [00:00<00:00, 367.15it/s, loss=1.49]\n"
     ]
    },
    {
     "name": "stdout",
     "output_type": "stream",
     "text": [
      "Epoch [982/5000]: Train loss: 1.5162, Valid loss: 1.1580\n"
     ]
    },
    {
     "name": "stderr",
     "output_type": "stream",
     "text": [
      "Epoch [983/5000]: 100%|██████████| 9/9 [00:00<00:00, 401.00it/s, loss=1.6]\n"
     ]
    },
    {
     "name": "stdout",
     "output_type": "stream",
     "text": [
      "Epoch [983/5000]: Train loss: 1.5271, Valid loss: 1.0796\n"
     ]
    },
    {
     "name": "stderr",
     "output_type": "stream",
     "text": [
      "Epoch [984/5000]: 100%|██████████| 9/9 [00:00<00:00, 364.52it/s, loss=1.53]\n"
     ]
    },
    {
     "name": "stdout",
     "output_type": "stream",
     "text": [
      "Epoch [984/5000]: Train loss: 1.4949, Valid loss: 1.1025\n"
     ]
    },
    {
     "name": "stderr",
     "output_type": "stream",
     "text": [
      "Epoch [985/5000]: 100%|██████████| 9/9 [00:00<00:00, 417.24it/s, loss=1.86]\n"
     ]
    },
    {
     "name": "stdout",
     "output_type": "stream",
     "text": [
      "Epoch [985/5000]: Train loss: 1.5600, Valid loss: 1.0231\n"
     ]
    },
    {
     "name": "stderr",
     "output_type": "stream",
     "text": [
      "Epoch [986/5000]: 100%|██████████| 9/9 [00:00<00:00, 437.04it/s, loss=1.32]\n"
     ]
    },
    {
     "name": "stdout",
     "output_type": "stream",
     "text": [
      "Epoch [986/5000]: Train loss: 1.4874, Valid loss: 1.1205\n"
     ]
    },
    {
     "name": "stderr",
     "output_type": "stream",
     "text": [
      "Epoch [987/5000]: 100%|██████████| 9/9 [00:00<00:00, 457.25it/s, loss=1.33]\n"
     ]
    },
    {
     "name": "stdout",
     "output_type": "stream",
     "text": [
      "Epoch [987/5000]: Train loss: 1.4947, Valid loss: 1.0352\n"
     ]
    },
    {
     "name": "stderr",
     "output_type": "stream",
     "text": [
      "Epoch [988/5000]: 100%|██████████| 9/9 [00:00<00:00, 458.18it/s, loss=1.36]\n"
     ]
    },
    {
     "name": "stdout",
     "output_type": "stream",
     "text": [
      "Epoch [988/5000]: Train loss: 1.5410, Valid loss: 1.0272\n"
     ]
    },
    {
     "name": "stderr",
     "output_type": "stream",
     "text": [
      "Epoch [989/5000]: 100%|██████████| 9/9 [00:00<00:00, 427.49it/s, loss=1.65]\n"
     ]
    },
    {
     "name": "stdout",
     "output_type": "stream",
     "text": [
      "Epoch [989/5000]: Train loss: 1.5191, Valid loss: 1.1275\n"
     ]
    },
    {
     "name": "stderr",
     "output_type": "stream",
     "text": [
      "Epoch [990/5000]: 100%|██████████| 9/9 [00:00<00:00, 410.99it/s, loss=1.48]\n"
     ]
    },
    {
     "name": "stdout",
     "output_type": "stream",
     "text": [
      "Epoch [990/5000]: Train loss: 1.5379, Valid loss: 1.1098\n"
     ]
    },
    {
     "name": "stderr",
     "output_type": "stream",
     "text": [
      "Epoch [991/5000]: 100%|██████████| 9/9 [00:00<00:00, 415.09it/s, loss=1.32]\n"
     ]
    },
    {
     "name": "stdout",
     "output_type": "stream",
     "text": [
      "Epoch [991/5000]: Train loss: 1.4912, Valid loss: 1.2390\n"
     ]
    },
    {
     "name": "stderr",
     "output_type": "stream",
     "text": [
      "Epoch [992/5000]: 100%|██████████| 9/9 [00:00<00:00, 440.86it/s, loss=1.33]\n"
     ]
    },
    {
     "name": "stdout",
     "output_type": "stream",
     "text": [
      "Epoch [992/5000]: Train loss: 1.5604, Valid loss: 1.0935\n"
     ]
    },
    {
     "name": "stderr",
     "output_type": "stream",
     "text": [
      "Epoch [993/5000]: 100%|██████████| 9/9 [00:00<00:00, 393.93it/s, loss=2.05]\n"
     ]
    },
    {
     "name": "stdout",
     "output_type": "stream",
     "text": [
      "Epoch [993/5000]: Train loss: 1.5959, Valid loss: 1.0880\n"
     ]
    },
    {
     "name": "stderr",
     "output_type": "stream",
     "text": [
      "Epoch [994/5000]: 100%|██████████| 9/9 [00:00<00:00, 362.71it/s, loss=1.44]\n"
     ]
    },
    {
     "name": "stdout",
     "output_type": "stream",
     "text": [
      "Epoch [994/5000]: Train loss: 1.4815, Valid loss: 1.1003\n"
     ]
    },
    {
     "name": "stderr",
     "output_type": "stream",
     "text": [
      "Epoch [995/5000]: 100%|██████████| 9/9 [00:00<00:00, 385.29it/s, loss=1.52]\n"
     ]
    },
    {
     "name": "stdout",
     "output_type": "stream",
     "text": [
      "Epoch [995/5000]: Train loss: 1.4937, Valid loss: 1.0902\n"
     ]
    },
    {
     "name": "stderr",
     "output_type": "stream",
     "text": [
      "Epoch [996/5000]: 100%|██████████| 9/9 [00:00<00:00, 360.82it/s, loss=1.54]\n"
     ]
    },
    {
     "name": "stdout",
     "output_type": "stream",
     "text": [
      "Epoch [996/5000]: Train loss: 1.5441, Valid loss: 1.0507\n"
     ]
    },
    {
     "name": "stderr",
     "output_type": "stream",
     "text": [
      "Epoch [997/5000]: 100%|██████████| 9/9 [00:00<00:00, 367.89it/s, loss=1.59]\n"
     ]
    },
    {
     "name": "stdout",
     "output_type": "stream",
     "text": [
      "Epoch [997/5000]: Train loss: 1.5599, Valid loss: 1.0700\n"
     ]
    },
    {
     "name": "stderr",
     "output_type": "stream",
     "text": [
      "Epoch [998/5000]: 100%|██████████| 9/9 [00:00<00:00, 244.92it/s, loss=1.23]\n"
     ]
    },
    {
     "name": "stdout",
     "output_type": "stream",
     "text": [
      "Epoch [998/5000]: Train loss: 1.4963, Valid loss: 1.1052\n"
     ]
    },
    {
     "name": "stderr",
     "output_type": "stream",
     "text": [
      "Epoch [999/5000]: 100%|██████████| 9/9 [00:00<00:00, 385.01it/s, loss=1.65]\n"
     ]
    },
    {
     "name": "stdout",
     "output_type": "stream",
     "text": [
      "Epoch [999/5000]: Train loss: 1.5368, Valid loss: 1.0326\n"
     ]
    },
    {
     "name": "stderr",
     "output_type": "stream",
     "text": [
      "Epoch [1000/5000]: 100%|██████████| 9/9 [00:00<00:00, 382.25it/s, loss=1.33]\n"
     ]
    },
    {
     "name": "stdout",
     "output_type": "stream",
     "text": [
      "Epoch [1000/5000]: Train loss: 1.4801, Valid loss: 1.1678\n"
     ]
    },
    {
     "name": "stderr",
     "output_type": "stream",
     "text": [
      "Epoch [1001/5000]: 100%|██████████| 9/9 [00:00<00:00, 395.76it/s, loss=1.67]\n"
     ]
    },
    {
     "name": "stdout",
     "output_type": "stream",
     "text": [
      "Epoch [1001/5000]: Train loss: 1.5768, Valid loss: 1.0777\n"
     ]
    },
    {
     "name": "stderr",
     "output_type": "stream",
     "text": [
      "Epoch [1002/5000]: 100%|██████████| 9/9 [00:00<00:00, 408.68it/s, loss=1.17]\n"
     ]
    },
    {
     "name": "stdout",
     "output_type": "stream",
     "text": [
      "Epoch [1002/5000]: Train loss: 1.4317, Valid loss: 1.1751\n"
     ]
    },
    {
     "name": "stderr",
     "output_type": "stream",
     "text": [
      "Epoch [1003/5000]: 100%|██████████| 9/9 [00:00<00:00, 393.54it/s, loss=1.39]\n"
     ]
    },
    {
     "name": "stdout",
     "output_type": "stream",
     "text": [
      "Epoch [1003/5000]: Train loss: 1.4512, Valid loss: 1.0917\n"
     ]
    },
    {
     "name": "stderr",
     "output_type": "stream",
     "text": [
      "Epoch [1004/5000]: 100%|██████████| 9/9 [00:00<00:00, 395.24it/s, loss=1.56]\n"
     ]
    },
    {
     "name": "stdout",
     "output_type": "stream",
     "text": [
      "Epoch [1004/5000]: Train loss: 1.5188, Valid loss: 1.0487\n"
     ]
    },
    {
     "name": "stderr",
     "output_type": "stream",
     "text": [
      "Epoch [1005/5000]: 100%|██████████| 9/9 [00:00<00:00, 387.83it/s, loss=1.53]\n"
     ]
    },
    {
     "name": "stdout",
     "output_type": "stream",
     "text": [
      "Epoch [1005/5000]: Train loss: 1.5043, Valid loss: 1.0246\n"
     ]
    },
    {
     "name": "stderr",
     "output_type": "stream",
     "text": [
      "Epoch [1006/5000]: 100%|██████████| 9/9 [00:00<00:00, 405.72it/s, loss=1.29]\n"
     ]
    },
    {
     "name": "stdout",
     "output_type": "stream",
     "text": [
      "Epoch [1006/5000]: Train loss: 1.4769, Valid loss: 1.0755\n"
     ]
    },
    {
     "name": "stderr",
     "output_type": "stream",
     "text": [
      "Epoch [1007/5000]: 100%|██████████| 9/9 [00:00<00:00, 408.44it/s, loss=1.45]\n"
     ]
    },
    {
     "name": "stdout",
     "output_type": "stream",
     "text": [
      "Epoch [1007/5000]: Train loss: 1.4976, Valid loss: 1.0669\n"
     ]
    },
    {
     "name": "stderr",
     "output_type": "stream",
     "text": [
      "Epoch [1008/5000]: 100%|██████████| 9/9 [00:00<00:00, 414.96it/s, loss=1.65]\n"
     ]
    },
    {
     "name": "stdout",
     "output_type": "stream",
     "text": [
      "Epoch [1008/5000]: Train loss: 1.5136, Valid loss: 1.0936\n"
     ]
    },
    {
     "name": "stderr",
     "output_type": "stream",
     "text": [
      "Epoch [1009/5000]: 100%|██████████| 9/9 [00:00<00:00, 408.57it/s, loss=1.29]\n"
     ]
    },
    {
     "name": "stdout",
     "output_type": "stream",
     "text": [
      "Epoch [1009/5000]: Train loss: 1.5034, Valid loss: 1.1464\n"
     ]
    },
    {
     "name": "stderr",
     "output_type": "stream",
     "text": [
      "Epoch [1010/5000]: 100%|██████████| 9/9 [00:00<00:00, 411.01it/s, loss=1.35]\n"
     ]
    },
    {
     "name": "stdout",
     "output_type": "stream",
     "text": [
      "Epoch [1010/5000]: Train loss: 1.4513, Valid loss: 1.0698\n"
     ]
    },
    {
     "name": "stderr",
     "output_type": "stream",
     "text": [
      "Epoch [1011/5000]: 100%|██████████| 9/9 [00:00<00:00, 411.24it/s, loss=1.59]\n"
     ]
    },
    {
     "name": "stdout",
     "output_type": "stream",
     "text": [
      "Epoch [1011/5000]: Train loss: 1.5152, Valid loss: 1.1174\n"
     ]
    },
    {
     "name": "stderr",
     "output_type": "stream",
     "text": [
      "Epoch [1012/5000]: 100%|██████████| 9/9 [00:00<00:00, 396.15it/s, loss=1.55]\n"
     ]
    },
    {
     "name": "stdout",
     "output_type": "stream",
     "text": [
      "Epoch [1012/5000]: Train loss: 1.4924, Valid loss: 1.0748\n"
     ]
    },
    {
     "name": "stderr",
     "output_type": "stream",
     "text": [
      "Epoch [1013/5000]: 100%|██████████| 9/9 [00:00<00:00, 395.70it/s, loss=1.45]\n"
     ]
    },
    {
     "name": "stdout",
     "output_type": "stream",
     "text": [
      "Epoch [1013/5000]: Train loss: 1.5292, Valid loss: 0.9609\n"
     ]
    },
    {
     "name": "stderr",
     "output_type": "stream",
     "text": [
      "Epoch [1014/5000]: 100%|██████████| 9/9 [00:00<00:00, 383.86it/s, loss=1.45]\n"
     ]
    },
    {
     "name": "stdout",
     "output_type": "stream",
     "text": [
      "Epoch [1014/5000]: Train loss: 1.4556, Valid loss: 1.0894\n"
     ]
    },
    {
     "name": "stderr",
     "output_type": "stream",
     "text": [
      "Epoch [1015/5000]: 100%|██████████| 9/9 [00:00<00:00, 373.68it/s, loss=1.52]\n"
     ]
    },
    {
     "name": "stdout",
     "output_type": "stream",
     "text": [
      "Epoch [1015/5000]: Train loss: 1.4991, Valid loss: 0.9993\n"
     ]
    },
    {
     "name": "stderr",
     "output_type": "stream",
     "text": [
      "Epoch [1016/5000]: 100%|██████████| 9/9 [00:00<00:00, 346.25it/s, loss=1.92]\n"
     ]
    },
    {
     "name": "stdout",
     "output_type": "stream",
     "text": [
      "Epoch [1016/5000]: Train loss: 1.4940, Valid loss: 1.0881\n"
     ]
    },
    {
     "name": "stderr",
     "output_type": "stream",
     "text": [
      "Epoch [1017/5000]: 100%|██████████| 9/9 [00:00<00:00, 380.10it/s, loss=2.11]\n"
     ]
    },
    {
     "name": "stdout",
     "output_type": "stream",
     "text": [
      "Epoch [1017/5000]: Train loss: 1.5364, Valid loss: 1.2025\n"
     ]
    },
    {
     "name": "stderr",
     "output_type": "stream",
     "text": [
      "Epoch [1018/5000]: 100%|██████████| 9/9 [00:00<00:00, 351.06it/s, loss=1.61]\n"
     ]
    },
    {
     "name": "stdout",
     "output_type": "stream",
     "text": [
      "Epoch [1018/5000]: Train loss: 1.5465, Valid loss: 1.0566\n"
     ]
    },
    {
     "name": "stderr",
     "output_type": "stream",
     "text": [
      "Epoch [1019/5000]: 100%|██████████| 9/9 [00:00<00:00, 365.10it/s, loss=1.35]\n"
     ]
    },
    {
     "name": "stdout",
     "output_type": "stream",
     "text": [
      "Epoch [1019/5000]: Train loss: 1.4937, Valid loss: 1.1240\n"
     ]
    },
    {
     "name": "stderr",
     "output_type": "stream",
     "text": [
      "Epoch [1020/5000]: 100%|██████████| 9/9 [00:00<00:00, 376.35it/s, loss=1.43]\n"
     ]
    },
    {
     "name": "stdout",
     "output_type": "stream",
     "text": [
      "Epoch [1020/5000]: Train loss: 1.5584, Valid loss: 1.0381\n"
     ]
    },
    {
     "name": "stderr",
     "output_type": "stream",
     "text": [
      "Epoch [1021/5000]: 100%|██████████| 9/9 [00:00<00:00, 389.49it/s, loss=1.3]\n"
     ]
    },
    {
     "name": "stdout",
     "output_type": "stream",
     "text": [
      "Epoch [1021/5000]: Train loss: 1.5122, Valid loss: 1.0831\n"
     ]
    },
    {
     "name": "stderr",
     "output_type": "stream",
     "text": [
      "Epoch [1022/5000]: 100%|██████████| 9/9 [00:00<00:00, 390.90it/s, loss=2.12]\n"
     ]
    },
    {
     "name": "stdout",
     "output_type": "stream",
     "text": [
      "Epoch [1022/5000]: Train loss: 1.6116, Valid loss: 1.1841\n"
     ]
    },
    {
     "name": "stderr",
     "output_type": "stream",
     "text": [
      "Epoch [1023/5000]: 100%|██████████| 9/9 [00:00<00:00, 401.77it/s, loss=1.74]\n"
     ]
    },
    {
     "name": "stdout",
     "output_type": "stream",
     "text": [
      "Epoch [1023/5000]: Train loss: 1.5543, Valid loss: 1.0826\n"
     ]
    },
    {
     "name": "stderr",
     "output_type": "stream",
     "text": [
      "Epoch [1024/5000]: 100%|██████████| 9/9 [00:00<00:00, 373.55it/s, loss=1.44]\n"
     ]
    },
    {
     "name": "stdout",
     "output_type": "stream",
     "text": [
      "Epoch [1024/5000]: Train loss: 1.5375, Valid loss: 1.1299\n"
     ]
    },
    {
     "name": "stderr",
     "output_type": "stream",
     "text": [
      "Epoch [1025/5000]: 100%|██████████| 9/9 [00:00<00:00, 381.32it/s, loss=1.46]\n"
     ]
    },
    {
     "name": "stdout",
     "output_type": "stream",
     "text": [
      "Epoch [1025/5000]: Train loss: 1.5252, Valid loss: 1.1255\n"
     ]
    },
    {
     "name": "stderr",
     "output_type": "stream",
     "text": [
      "Epoch [1026/5000]: 100%|██████████| 9/9 [00:00<00:00, 397.75it/s, loss=1.25]\n"
     ]
    },
    {
     "name": "stdout",
     "output_type": "stream",
     "text": [
      "Epoch [1026/5000]: Train loss: 1.4366, Valid loss: 1.2131\n"
     ]
    },
    {
     "name": "stderr",
     "output_type": "stream",
     "text": [
      "Epoch [1027/5000]: 100%|██████████| 9/9 [00:00<00:00, 375.94it/s, loss=1.32]\n"
     ]
    },
    {
     "name": "stdout",
     "output_type": "stream",
     "text": [
      "Epoch [1027/5000]: Train loss: 1.5198, Valid loss: 1.1055\n"
     ]
    },
    {
     "name": "stderr",
     "output_type": "stream",
     "text": [
      "Epoch [1028/5000]: 100%|██████████| 9/9 [00:00<00:00, 372.21it/s, loss=1.72]\n"
     ]
    },
    {
     "name": "stdout",
     "output_type": "stream",
     "text": [
      "Epoch [1028/5000]: Train loss: 1.5264, Valid loss: 1.1345\n"
     ]
    },
    {
     "name": "stderr",
     "output_type": "stream",
     "text": [
      "Epoch [1029/5000]: 100%|██████████| 9/9 [00:00<00:00, 373.33it/s, loss=2.3]\n"
     ]
    },
    {
     "name": "stdout",
     "output_type": "stream",
     "text": [
      "Epoch [1029/5000]: Train loss: 1.6164, Valid loss: 1.0500\n"
     ]
    },
    {
     "name": "stderr",
     "output_type": "stream",
     "text": [
      "Epoch [1030/5000]: 100%|██████████| 9/9 [00:00<00:00, 396.58it/s, loss=1.74]\n"
     ]
    },
    {
     "name": "stdout",
     "output_type": "stream",
     "text": [
      "Epoch [1030/5000]: Train loss: 1.5862, Valid loss: 1.1599\n"
     ]
    },
    {
     "name": "stderr",
     "output_type": "stream",
     "text": [
      "Epoch [1031/5000]: 100%|██████████| 9/9 [00:00<00:00, 185.06it/s, loss=1.59]\n"
     ]
    },
    {
     "name": "stdout",
     "output_type": "stream",
     "text": [
      "Epoch [1031/5000]: Train loss: 1.4827, Valid loss: 1.0758\n"
     ]
    },
    {
     "name": "stderr",
     "output_type": "stream",
     "text": [
      "Epoch [1032/5000]: 100%|██████████| 9/9 [00:00<00:00, 366.25it/s, loss=1.57]\n"
     ]
    },
    {
     "name": "stdout",
     "output_type": "stream",
     "text": [
      "Epoch [1032/5000]: Train loss: 1.4599, Valid loss: 1.0596\n"
     ]
    },
    {
     "name": "stderr",
     "output_type": "stream",
     "text": [
      "Epoch [1033/5000]: 100%|██████████| 9/9 [00:00<00:00, 343.16it/s, loss=1.28]\n"
     ]
    },
    {
     "name": "stdout",
     "output_type": "stream",
     "text": [
      "Epoch [1033/5000]: Train loss: 1.4953, Valid loss: 1.1281\n"
     ]
    },
    {
     "name": "stderr",
     "output_type": "stream",
     "text": [
      "Epoch [1034/5000]: 100%|██████████| 9/9 [00:00<00:00, 352.43it/s, loss=1.29]\n"
     ]
    },
    {
     "name": "stdout",
     "output_type": "stream",
     "text": [
      "Epoch [1034/5000]: Train loss: 1.4839, Valid loss: 1.1614\n"
     ]
    },
    {
     "name": "stderr",
     "output_type": "stream",
     "text": [
      "Epoch [1035/5000]: 100%|██████████| 9/9 [00:00<00:00, 382.82it/s, loss=1.5]\n"
     ]
    },
    {
     "name": "stdout",
     "output_type": "stream",
     "text": [
      "Epoch [1035/5000]: Train loss: 1.5597, Valid loss: 1.1140\n"
     ]
    },
    {
     "name": "stderr",
     "output_type": "stream",
     "text": [
      "Epoch [1036/5000]: 100%|██████████| 9/9 [00:00<00:00, 373.62it/s, loss=1.65]\n"
     ]
    },
    {
     "name": "stdout",
     "output_type": "stream",
     "text": [
      "Epoch [1036/5000]: Train loss: 1.5441, Valid loss: 1.2712\n"
     ]
    },
    {
     "name": "stderr",
     "output_type": "stream",
     "text": [
      "Epoch [1037/5000]: 100%|██████████| 9/9 [00:00<00:00, 392.61it/s, loss=1.67]\n"
     ]
    },
    {
     "name": "stdout",
     "output_type": "stream",
     "text": [
      "Epoch [1037/5000]: Train loss: 1.5727, Valid loss: 1.0298\n"
     ]
    },
    {
     "name": "stderr",
     "output_type": "stream",
     "text": [
      "Epoch [1038/5000]: 100%|██████████| 9/9 [00:00<00:00, 368.15it/s, loss=1.27]\n"
     ]
    },
    {
     "name": "stdout",
     "output_type": "stream",
     "text": [
      "Epoch [1038/5000]: Train loss: 1.4787, Valid loss: 1.0646\n"
     ]
    },
    {
     "name": "stderr",
     "output_type": "stream",
     "text": [
      "Epoch [1039/5000]: 100%|██████████| 9/9 [00:00<00:00, 357.47it/s, loss=1.2]\n"
     ]
    },
    {
     "name": "stdout",
     "output_type": "stream",
     "text": [
      "Epoch [1039/5000]: Train loss: 1.5477, Valid loss: 1.1002\n"
     ]
    },
    {
     "name": "stderr",
     "output_type": "stream",
     "text": [
      "Epoch [1040/5000]: 100%|██████████| 9/9 [00:00<00:00, 369.55it/s, loss=1.68]\n"
     ]
    },
    {
     "name": "stdout",
     "output_type": "stream",
     "text": [
      "Epoch [1040/5000]: Train loss: 1.4853, Valid loss: 1.1394\n"
     ]
    },
    {
     "name": "stderr",
     "output_type": "stream",
     "text": [
      "Epoch [1041/5000]: 100%|██████████| 9/9 [00:00<00:00, 312.49it/s, loss=1.56]\n"
     ]
    },
    {
     "name": "stdout",
     "output_type": "stream",
     "text": [
      "Epoch [1041/5000]: Train loss: 1.5057, Valid loss: 1.2176\n"
     ]
    },
    {
     "name": "stderr",
     "output_type": "stream",
     "text": [
      "Epoch [1042/5000]: 100%|██████████| 9/9 [00:00<00:00, 372.19it/s, loss=1.48]\n"
     ]
    },
    {
     "name": "stdout",
     "output_type": "stream",
     "text": [
      "Epoch [1042/5000]: Train loss: 1.5368, Valid loss: 1.1389\n"
     ]
    },
    {
     "name": "stderr",
     "output_type": "stream",
     "text": [
      "Epoch [1043/5000]: 100%|██████████| 9/9 [00:00<00:00, 336.02it/s, loss=1.64]\n"
     ]
    },
    {
     "name": "stdout",
     "output_type": "stream",
     "text": [
      "Epoch [1043/5000]: Train loss: 1.4823, Valid loss: 1.1757\n"
     ]
    },
    {
     "name": "stderr",
     "output_type": "stream",
     "text": [
      "Epoch [1044/5000]: 100%|██████████| 9/9 [00:00<00:00, 388.12it/s, loss=1.67]\n"
     ]
    },
    {
     "name": "stdout",
     "output_type": "stream",
     "text": [
      "Epoch [1044/5000]: Train loss: 1.5100, Valid loss: 1.1422\n"
     ]
    },
    {
     "name": "stderr",
     "output_type": "stream",
     "text": [
      "Epoch [1045/5000]: 100%|██████████| 9/9 [00:00<00:00, 359.42it/s, loss=2.45]\n"
     ]
    },
    {
     "name": "stdout",
     "output_type": "stream",
     "text": [
      "Epoch [1045/5000]: Train loss: 1.6031, Valid loss: 1.0388\n"
     ]
    },
    {
     "name": "stderr",
     "output_type": "stream",
     "text": [
      "Epoch [1046/5000]: 100%|██████████| 9/9 [00:00<00:00, 357.68it/s, loss=1.58]\n"
     ]
    },
    {
     "name": "stdout",
     "output_type": "stream",
     "text": [
      "Epoch [1046/5000]: Train loss: 1.4689, Valid loss: 1.1629\n"
     ]
    },
    {
     "name": "stderr",
     "output_type": "stream",
     "text": [
      "Epoch [1047/5000]: 100%|██████████| 9/9 [00:00<00:00, 360.82it/s, loss=1.49]\n"
     ]
    },
    {
     "name": "stdout",
     "output_type": "stream",
     "text": [
      "Epoch [1047/5000]: Train loss: 1.5482, Valid loss: 1.0878\n"
     ]
    },
    {
     "name": "stderr",
     "output_type": "stream",
     "text": [
      "Epoch [1048/5000]: 100%|██████████| 9/9 [00:00<00:00, 369.29it/s, loss=1.53]\n"
     ]
    },
    {
     "name": "stdout",
     "output_type": "stream",
     "text": [
      "Epoch [1048/5000]: Train loss: 1.5110, Valid loss: 1.1150\n"
     ]
    },
    {
     "name": "stderr",
     "output_type": "stream",
     "text": [
      "Epoch [1049/5000]: 100%|██████████| 9/9 [00:00<00:00, 362.77it/s, loss=1.58]\n"
     ]
    },
    {
     "name": "stdout",
     "output_type": "stream",
     "text": [
      "Epoch [1049/5000]: Train loss: 1.5095, Valid loss: 1.1211\n"
     ]
    },
    {
     "name": "stderr",
     "output_type": "stream",
     "text": [
      "Epoch [1050/5000]: 100%|██████████| 9/9 [00:00<00:00, 404.51it/s, loss=1.58]\n"
     ]
    },
    {
     "name": "stdout",
     "output_type": "stream",
     "text": [
      "Epoch [1050/5000]: Train loss: 1.4718, Valid loss: 1.1648\n"
     ]
    },
    {
     "name": "stderr",
     "output_type": "stream",
     "text": [
      "Epoch [1051/5000]: 100%|██████████| 9/9 [00:00<00:00, 269.12it/s, loss=1.61]\n"
     ]
    },
    {
     "name": "stdout",
     "output_type": "stream",
     "text": [
      "Epoch [1051/5000]: Train loss: 1.5439, Valid loss: 1.1116\n"
     ]
    },
    {
     "name": "stderr",
     "output_type": "stream",
     "text": [
      "Epoch [1052/5000]: 100%|██████████| 9/9 [00:00<00:00, 390.30it/s, loss=1.35]\n"
     ]
    },
    {
     "name": "stdout",
     "output_type": "stream",
     "text": [
      "Epoch [1052/5000]: Train loss: 1.4380, Valid loss: 1.0885\n"
     ]
    },
    {
     "name": "stderr",
     "output_type": "stream",
     "text": [
      "Epoch [1053/5000]: 100%|██████████| 9/9 [00:00<00:00, 413.39it/s, loss=1.52]\n"
     ]
    },
    {
     "name": "stdout",
     "output_type": "stream",
     "text": [
      "Epoch [1053/5000]: Train loss: 1.5901, Valid loss: 1.3344\n"
     ]
    },
    {
     "name": "stderr",
     "output_type": "stream",
     "text": [
      "Epoch [1054/5000]: 100%|██████████| 9/9 [00:00<00:00, 400.05it/s, loss=1.77]\n"
     ]
    },
    {
     "name": "stdout",
     "output_type": "stream",
     "text": [
      "Epoch [1054/5000]: Train loss: 1.5011, Valid loss: 1.2095\n"
     ]
    },
    {
     "name": "stderr",
     "output_type": "stream",
     "text": [
      "Epoch [1055/5000]: 100%|██████████| 9/9 [00:00<00:00, 427.29it/s, loss=1.23]\n"
     ]
    },
    {
     "name": "stdout",
     "output_type": "stream",
     "text": [
      "Epoch [1055/5000]: Train loss: 1.4485, Valid loss: 1.0369\n"
     ]
    },
    {
     "name": "stderr",
     "output_type": "stream",
     "text": [
      "Epoch [1056/5000]: 100%|██████████| 9/9 [00:00<00:00, 388.82it/s, loss=1.39]\n"
     ]
    },
    {
     "name": "stdout",
     "output_type": "stream",
     "text": [
      "Epoch [1056/5000]: Train loss: 1.5052, Valid loss: 1.1274\n"
     ]
    },
    {
     "name": "stderr",
     "output_type": "stream",
     "text": [
      "Epoch [1057/5000]: 100%|██████████| 9/9 [00:00<00:00, 406.80it/s, loss=1.56]\n"
     ]
    },
    {
     "name": "stdout",
     "output_type": "stream",
     "text": [
      "Epoch [1057/5000]: Train loss: 1.5135, Valid loss: 1.1258\n"
     ]
    },
    {
     "name": "stderr",
     "output_type": "stream",
     "text": [
      "Epoch [1058/5000]: 100%|██████████| 9/9 [00:00<00:00, 330.62it/s, loss=1.82]\n"
     ]
    },
    {
     "name": "stdout",
     "output_type": "stream",
     "text": [
      "Epoch [1058/5000]: Train loss: 1.5808, Valid loss: 1.0081\n"
     ]
    },
    {
     "name": "stderr",
     "output_type": "stream",
     "text": [
      "Epoch [1059/5000]: 100%|██████████| 9/9 [00:00<00:00, 326.10it/s, loss=1.49]\n"
     ]
    },
    {
     "name": "stdout",
     "output_type": "stream",
     "text": [
      "Epoch [1059/5000]: Train loss: 1.5119, Valid loss: 1.0517\n"
     ]
    },
    {
     "name": "stderr",
     "output_type": "stream",
     "text": [
      "Epoch [1060/5000]: 100%|██████████| 9/9 [00:00<00:00, 96.19it/s, loss=1.68]\n"
     ]
    },
    {
     "name": "stdout",
     "output_type": "stream",
     "text": [
      "Epoch [1060/5000]: Train loss: 1.5080, Valid loss: 1.1308\n"
     ]
    },
    {
     "name": "stderr",
     "output_type": "stream",
     "text": [
      "Epoch [1061/5000]: 100%|██████████| 9/9 [00:00<00:00, 364.40it/s, loss=1.3]\n"
     ]
    },
    {
     "name": "stdout",
     "output_type": "stream",
     "text": [
      "Epoch [1061/5000]: Train loss: 1.4490, Valid loss: 1.0738\n"
     ]
    },
    {
     "name": "stderr",
     "output_type": "stream",
     "text": [
      "Epoch [1062/5000]: 100%|██████████| 9/9 [00:00<00:00, 362.67it/s, loss=1.81]\n"
     ]
    },
    {
     "name": "stdout",
     "output_type": "stream",
     "text": [
      "Epoch [1062/5000]: Train loss: 1.5290, Valid loss: 1.2073\n"
     ]
    },
    {
     "name": "stderr",
     "output_type": "stream",
     "text": [
      "Epoch [1063/5000]: 100%|██████████| 9/9 [00:00<00:00, 385.71it/s, loss=1.32]\n"
     ]
    },
    {
     "name": "stdout",
     "output_type": "stream",
     "text": [
      "Epoch [1063/5000]: Train loss: 1.5280, Valid loss: 1.1899\n"
     ]
    },
    {
     "name": "stderr",
     "output_type": "stream",
     "text": [
      "Epoch [1064/5000]: 100%|██████████| 9/9 [00:00<00:00, 327.96it/s, loss=2.2]\n"
     ]
    },
    {
     "name": "stdout",
     "output_type": "stream",
     "text": [
      "Epoch [1064/5000]: Train loss: 1.5660, Valid loss: 1.1696\n"
     ]
    },
    {
     "name": "stderr",
     "output_type": "stream",
     "text": [
      "Epoch [1065/5000]: 100%|██████████| 9/9 [00:00<00:00, 362.89it/s, loss=1.6]\n"
     ]
    },
    {
     "name": "stdout",
     "output_type": "stream",
     "text": [
      "Epoch [1065/5000]: Train loss: 1.5289, Valid loss: 1.0165\n"
     ]
    },
    {
     "name": "stderr",
     "output_type": "stream",
     "text": [
      "Epoch [1066/5000]: 100%|██████████| 9/9 [00:00<00:00, 374.86it/s, loss=1.32]\n"
     ]
    },
    {
     "name": "stdout",
     "output_type": "stream",
     "text": [
      "Epoch [1066/5000]: Train loss: 1.5043, Valid loss: 1.1571\n"
     ]
    },
    {
     "name": "stderr",
     "output_type": "stream",
     "text": [
      "Epoch [1067/5000]: 100%|██████████| 9/9 [00:00<00:00, 386.95it/s, loss=1.46]\n"
     ]
    },
    {
     "name": "stdout",
     "output_type": "stream",
     "text": [
      "Epoch [1067/5000]: Train loss: 1.5430, Valid loss: 1.1410\n"
     ]
    },
    {
     "name": "stderr",
     "output_type": "stream",
     "text": [
      "Epoch [1068/5000]: 100%|██████████| 9/9 [00:00<00:00, 396.46it/s, loss=1.5]\n"
     ]
    },
    {
     "name": "stdout",
     "output_type": "stream",
     "text": [
      "Epoch [1068/5000]: Train loss: 1.4628, Valid loss: 1.1651\n"
     ]
    },
    {
     "name": "stderr",
     "output_type": "stream",
     "text": [
      "Epoch [1069/5000]: 100%|██████████| 9/9 [00:00<00:00, 365.60it/s, loss=1.5]\n"
     ]
    },
    {
     "name": "stdout",
     "output_type": "stream",
     "text": [
      "Epoch [1069/5000]: Train loss: 1.4832, Valid loss: 1.2742\n"
     ]
    },
    {
     "name": "stderr",
     "output_type": "stream",
     "text": [
      "Epoch [1070/5000]: 100%|██████████| 9/9 [00:00<00:00, 385.62it/s, loss=1.57]\n"
     ]
    },
    {
     "name": "stdout",
     "output_type": "stream",
     "text": [
      "Epoch [1070/5000]: Train loss: 1.5296, Valid loss: 1.1050\n"
     ]
    },
    {
     "name": "stderr",
     "output_type": "stream",
     "text": [
      "Epoch [1071/5000]: 100%|██████████| 9/9 [00:00<00:00, 358.73it/s, loss=1.31]\n"
     ]
    },
    {
     "name": "stdout",
     "output_type": "stream",
     "text": [
      "Epoch [1071/5000]: Train loss: 1.5022, Valid loss: 1.1761\n"
     ]
    },
    {
     "name": "stderr",
     "output_type": "stream",
     "text": [
      "Epoch [1072/5000]: 100%|██████████| 9/9 [00:00<00:00, 403.89it/s, loss=1.51]\n"
     ]
    },
    {
     "name": "stdout",
     "output_type": "stream",
     "text": [
      "Epoch [1072/5000]: Train loss: 1.5204, Valid loss: 1.1657\n"
     ]
    },
    {
     "name": "stderr",
     "output_type": "stream",
     "text": [
      "Epoch [1073/5000]: 100%|██████████| 9/9 [00:00<00:00, 360.19it/s, loss=1.76]\n"
     ]
    },
    {
     "name": "stdout",
     "output_type": "stream",
     "text": [
      "Epoch [1073/5000]: Train loss: 1.4739, Valid loss: 1.0033\n"
     ]
    },
    {
     "name": "stderr",
     "output_type": "stream",
     "text": [
      "Epoch [1074/5000]: 100%|██████████| 9/9 [00:00<00:00, 405.93it/s, loss=1.5]\n"
     ]
    },
    {
     "name": "stdout",
     "output_type": "stream",
     "text": [
      "Epoch [1074/5000]: Train loss: 1.4964, Valid loss: 1.0891\n"
     ]
    },
    {
     "name": "stderr",
     "output_type": "stream",
     "text": [
      "Epoch [1075/5000]: 100%|██████████| 9/9 [00:00<00:00, 401.68it/s, loss=1.84]\n"
     ]
    },
    {
     "name": "stdout",
     "output_type": "stream",
     "text": [
      "Epoch [1075/5000]: Train loss: 1.5488, Valid loss: 1.1672\n"
     ]
    },
    {
     "name": "stderr",
     "output_type": "stream",
     "text": [
      "Epoch [1076/5000]: 100%|██████████| 9/9 [00:00<00:00, 423.51it/s, loss=1.64]\n"
     ]
    },
    {
     "name": "stdout",
     "output_type": "stream",
     "text": [
      "Epoch [1076/5000]: Train loss: 1.5321, Valid loss: 1.0763\n"
     ]
    },
    {
     "name": "stderr",
     "output_type": "stream",
     "text": [
      "Epoch [1077/5000]: 100%|██████████| 9/9 [00:00<00:00, 404.75it/s, loss=1.49]\n"
     ]
    },
    {
     "name": "stdout",
     "output_type": "stream",
     "text": [
      "Epoch [1077/5000]: Train loss: 1.4978, Valid loss: 1.0769\n"
     ]
    },
    {
     "name": "stderr",
     "output_type": "stream",
     "text": [
      "Epoch [1078/5000]: 100%|██████████| 9/9 [00:00<00:00, 431.68it/s, loss=1.55]\n"
     ]
    },
    {
     "name": "stdout",
     "output_type": "stream",
     "text": [
      "Epoch [1078/5000]: Train loss: 1.5099, Valid loss: 1.0204\n"
     ]
    },
    {
     "name": "stderr",
     "output_type": "stream",
     "text": [
      "Epoch [1079/5000]: 100%|██████████| 9/9 [00:00<00:00, 398.53it/s, loss=2.57]\n"
     ]
    },
    {
     "name": "stdout",
     "output_type": "stream",
     "text": [
      "Epoch [1079/5000]: Train loss: 1.6588, Valid loss: 1.2101\n"
     ]
    },
    {
     "name": "stderr",
     "output_type": "stream",
     "text": [
      "Epoch [1080/5000]: 100%|██████████| 9/9 [00:00<00:00, 436.60it/s, loss=1.46]\n"
     ]
    },
    {
     "name": "stdout",
     "output_type": "stream",
     "text": [
      "Epoch [1080/5000]: Train loss: 1.4786, Valid loss: 1.2284\n"
     ]
    },
    {
     "name": "stderr",
     "output_type": "stream",
     "text": [
      "Epoch [1081/5000]: 100%|██████████| 9/9 [00:00<00:00, 400.44it/s, loss=2.22]\n"
     ]
    },
    {
     "name": "stdout",
     "output_type": "stream",
     "text": [
      "Epoch [1081/5000]: Train loss: 1.5625, Valid loss: 1.0179\n"
     ]
    },
    {
     "name": "stderr",
     "output_type": "stream",
     "text": [
      "Epoch [1082/5000]: 100%|██████████| 9/9 [00:00<00:00, 372.07it/s, loss=1.46]\n"
     ]
    },
    {
     "name": "stdout",
     "output_type": "stream",
     "text": [
      "Epoch [1082/5000]: Train loss: 1.5151, Valid loss: 1.1622\n"
     ]
    },
    {
     "name": "stderr",
     "output_type": "stream",
     "text": [
      "Epoch [1083/5000]: 100%|██████████| 9/9 [00:00<00:00, 414.00it/s, loss=1.65]\n"
     ]
    },
    {
     "name": "stdout",
     "output_type": "stream",
     "text": [
      "Epoch [1083/5000]: Train loss: 1.5065, Valid loss: 1.0931\n"
     ]
    },
    {
     "name": "stderr",
     "output_type": "stream",
     "text": [
      "Epoch [1084/5000]: 100%|██████████| 9/9 [00:00<00:00, 417.67it/s, loss=1.53]\n"
     ]
    },
    {
     "name": "stdout",
     "output_type": "stream",
     "text": [
      "Epoch [1084/5000]: Train loss: 1.5476, Valid loss: 1.0754\n"
     ]
    },
    {
     "name": "stderr",
     "output_type": "stream",
     "text": [
      "Epoch [1085/5000]: 100%|██████████| 9/9 [00:00<00:00, 419.31it/s, loss=1.58]\n"
     ]
    },
    {
     "name": "stdout",
     "output_type": "stream",
     "text": [
      "Epoch [1085/5000]: Train loss: 1.5317, Valid loss: 1.1052\n"
     ]
    },
    {
     "name": "stderr",
     "output_type": "stream",
     "text": [
      "Epoch [1086/5000]: 100%|██████████| 9/9 [00:00<00:00, 389.28it/s, loss=1.32]\n"
     ]
    },
    {
     "name": "stdout",
     "output_type": "stream",
     "text": [
      "Epoch [1086/5000]: Train loss: 1.4516, Valid loss: 1.1803\n"
     ]
    },
    {
     "name": "stderr",
     "output_type": "stream",
     "text": [
      "Epoch [1087/5000]: 100%|██████████| 9/9 [00:00<00:00, 424.23it/s, loss=1.72]\n"
     ]
    },
    {
     "name": "stdout",
     "output_type": "stream",
     "text": [
      "Epoch [1087/5000]: Train loss: 1.5245, Valid loss: 1.1616\n"
     ]
    },
    {
     "name": "stderr",
     "output_type": "stream",
     "text": [
      "Epoch [1088/5000]: 100%|██████████| 9/9 [00:00<00:00, 393.37it/s, loss=1.39]\n"
     ]
    },
    {
     "name": "stdout",
     "output_type": "stream",
     "text": [
      "Epoch [1088/5000]: Train loss: 1.4959, Valid loss: 1.0665\n"
     ]
    },
    {
     "name": "stderr",
     "output_type": "stream",
     "text": [
      "Epoch [1089/5000]: 100%|██████████| 9/9 [00:00<00:00, 432.99it/s, loss=1.85]\n"
     ]
    },
    {
     "name": "stdout",
     "output_type": "stream",
     "text": [
      "Epoch [1089/5000]: Train loss: 1.5337, Valid loss: 1.0309\n"
     ]
    },
    {
     "name": "stderr",
     "output_type": "stream",
     "text": [
      "Epoch [1090/5000]: 100%|██████████| 9/9 [00:00<00:00, 391.41it/s, loss=1.87]\n"
     ]
    },
    {
     "name": "stdout",
     "output_type": "stream",
     "text": [
      "Epoch [1090/5000]: Train loss: 1.5645, Valid loss: 1.0564\n"
     ]
    },
    {
     "name": "stderr",
     "output_type": "stream",
     "text": [
      "Epoch [1091/5000]: 100%|██████████| 9/9 [00:00<00:00, 400.50it/s, loss=1.93]\n"
     ]
    },
    {
     "name": "stdout",
     "output_type": "stream",
     "text": [
      "Epoch [1091/5000]: Train loss: 1.6212, Valid loss: 1.0709\n"
     ]
    },
    {
     "name": "stderr",
     "output_type": "stream",
     "text": [
      "Epoch [1092/5000]: 100%|██████████| 9/9 [00:00<00:00, 388.59it/s, loss=1.56]\n"
     ]
    },
    {
     "name": "stdout",
     "output_type": "stream",
     "text": [
      "Epoch [1092/5000]: Train loss: 1.4734, Valid loss: 1.0405\n"
     ]
    },
    {
     "name": "stderr",
     "output_type": "stream",
     "text": [
      "Epoch [1093/5000]: 100%|██████████| 9/9 [00:00<00:00, 415.09it/s, loss=1.87]\n"
     ]
    },
    {
     "name": "stdout",
     "output_type": "stream",
     "text": [
      "Epoch [1093/5000]: Train loss: 1.5186, Valid loss: 1.0644\n"
     ]
    },
    {
     "name": "stderr",
     "output_type": "stream",
     "text": [
      "Epoch [1094/5000]: 100%|██████████| 9/9 [00:00<00:00, 415.79it/s, loss=1.35]\n"
     ]
    },
    {
     "name": "stdout",
     "output_type": "stream",
     "text": [
      "Epoch [1094/5000]: Train loss: 1.4931, Valid loss: 1.4118\n"
     ]
    },
    {
     "name": "stderr",
     "output_type": "stream",
     "text": [
      "Epoch [1095/5000]: 100%|██████████| 9/9 [00:00<00:00, 458.85it/s, loss=1.3]\n"
     ]
    },
    {
     "name": "stdout",
     "output_type": "stream",
     "text": [
      "Epoch [1095/5000]: Train loss: 1.4029, Valid loss: 1.2084\n"
     ]
    },
    {
     "name": "stderr",
     "output_type": "stream",
     "text": [
      "Epoch [1096/5000]: 100%|██████████| 9/9 [00:00<00:00, 442.48it/s, loss=1.52]\n"
     ]
    },
    {
     "name": "stdout",
     "output_type": "stream",
     "text": [
      "Epoch [1096/5000]: Train loss: 1.5258, Valid loss: 1.0223\n"
     ]
    },
    {
     "name": "stderr",
     "output_type": "stream",
     "text": [
      "Epoch [1097/5000]: 100%|██████████| 9/9 [00:00<00:00, 450.83it/s, loss=1.46]\n"
     ]
    },
    {
     "name": "stdout",
     "output_type": "stream",
     "text": [
      "Epoch [1097/5000]: Train loss: 1.4898, Valid loss: 1.2805\n"
     ]
    },
    {
     "name": "stderr",
     "output_type": "stream",
     "text": [
      "Epoch [1098/5000]: 100%|██████████| 9/9 [00:00<00:00, 440.40it/s, loss=1.49]\n"
     ]
    },
    {
     "name": "stdout",
     "output_type": "stream",
     "text": [
      "Epoch [1098/5000]: Train loss: 1.5242, Valid loss: 1.1095\n"
     ]
    },
    {
     "name": "stderr",
     "output_type": "stream",
     "text": [
      "Epoch [1099/5000]: 100%|██████████| 9/9 [00:00<00:00, 397.82it/s, loss=1.86]\n"
     ]
    },
    {
     "name": "stdout",
     "output_type": "stream",
     "text": [
      "Epoch [1099/5000]: Train loss: 1.4949, Valid loss: 1.2774\n"
     ]
    },
    {
     "name": "stderr",
     "output_type": "stream",
     "text": [
      "Epoch [1100/5000]: 100%|██████████| 9/9 [00:00<00:00, 424.63it/s, loss=1.38]\n"
     ]
    },
    {
     "name": "stdout",
     "output_type": "stream",
     "text": [
      "Epoch [1100/5000]: Train loss: 1.5284, Valid loss: 1.0934\n"
     ]
    },
    {
     "name": "stderr",
     "output_type": "stream",
     "text": [
      "Epoch [1101/5000]: 100%|██████████| 9/9 [00:00<00:00, 380.18it/s, loss=1.58]\n"
     ]
    },
    {
     "name": "stdout",
     "output_type": "stream",
     "text": [
      "Epoch [1101/5000]: Train loss: 1.5040, Valid loss: 1.1152\n"
     ]
    },
    {
     "name": "stderr",
     "output_type": "stream",
     "text": [
      "Epoch [1102/5000]: 100%|██████████| 9/9 [00:00<00:00, 360.07it/s, loss=1.91]\n"
     ]
    },
    {
     "name": "stdout",
     "output_type": "stream",
     "text": [
      "Epoch [1102/5000]: Train loss: 1.5521, Valid loss: 1.3787\n"
     ]
    },
    {
     "name": "stderr",
     "output_type": "stream",
     "text": [
      "Epoch [1103/5000]: 100%|██████████| 9/9 [00:00<00:00, 355.51it/s, loss=1.47]\n"
     ]
    },
    {
     "name": "stdout",
     "output_type": "stream",
     "text": [
      "Epoch [1103/5000]: Train loss: 1.4701, Valid loss: 1.1053\n"
     ]
    },
    {
     "name": "stderr",
     "output_type": "stream",
     "text": [
      "Epoch [1104/5000]: 100%|██████████| 9/9 [00:00<00:00, 401.75it/s, loss=1.76]\n"
     ]
    },
    {
     "name": "stdout",
     "output_type": "stream",
     "text": [
      "Epoch [1104/5000]: Train loss: 1.4997, Valid loss: 1.2158\n"
     ]
    },
    {
     "name": "stderr",
     "output_type": "stream",
     "text": [
      "Epoch [1105/5000]: 100%|██████████| 9/9 [00:00<00:00, 401.28it/s, loss=1.43]\n"
     ]
    },
    {
     "name": "stdout",
     "output_type": "stream",
     "text": [
      "Epoch [1105/5000]: Train loss: 1.4783, Valid loss: 1.1902\n"
     ]
    },
    {
     "name": "stderr",
     "output_type": "stream",
     "text": [
      "Epoch [1106/5000]: 100%|██████████| 9/9 [00:00<00:00, 292.52it/s, loss=1.39]\n"
     ]
    },
    {
     "name": "stdout",
     "output_type": "stream",
     "text": [
      "Epoch [1106/5000]: Train loss: 1.4928, Valid loss: 1.0524\n"
     ]
    },
    {
     "name": "stderr",
     "output_type": "stream",
     "text": [
      "Epoch [1107/5000]: 100%|██████████| 9/9 [00:00<00:00, 419.54it/s, loss=1.4]\n"
     ]
    },
    {
     "name": "stdout",
     "output_type": "stream",
     "text": [
      "Epoch [1107/5000]: Train loss: 1.5291, Valid loss: 1.1171\n"
     ]
    },
    {
     "name": "stderr",
     "output_type": "stream",
     "text": [
      "Epoch [1108/5000]: 100%|██████████| 9/9 [00:00<00:00, 393.86it/s, loss=1.44]\n"
     ]
    },
    {
     "name": "stdout",
     "output_type": "stream",
     "text": [
      "Epoch [1108/5000]: Train loss: 1.4729, Valid loss: 1.1093\n"
     ]
    },
    {
     "name": "stderr",
     "output_type": "stream",
     "text": [
      "Epoch [1109/5000]: 100%|██████████| 9/9 [00:00<00:00, 409.50it/s, loss=1.27]\n"
     ]
    },
    {
     "name": "stdout",
     "output_type": "stream",
     "text": [
      "Epoch [1109/5000]: Train loss: 1.4859, Valid loss: 1.1406\n"
     ]
    },
    {
     "name": "stderr",
     "output_type": "stream",
     "text": [
      "Epoch [1110/5000]: 100%|██████████| 9/9 [00:00<00:00, 392.62it/s, loss=1.71]\n"
     ]
    },
    {
     "name": "stdout",
     "output_type": "stream",
     "text": [
      "Epoch [1110/5000]: Train loss: 1.5154, Valid loss: 1.2319\n"
     ]
    },
    {
     "name": "stderr",
     "output_type": "stream",
     "text": [
      "Epoch [1111/5000]: 100%|██████████| 9/9 [00:00<00:00, 416.65it/s, loss=1.67]\n"
     ]
    },
    {
     "name": "stdout",
     "output_type": "stream",
     "text": [
      "Epoch [1111/5000]: Train loss: 1.5244, Valid loss: 0.9500\n",
      "Saving model with loss 0.950...\n"
     ]
    },
    {
     "name": "stderr",
     "output_type": "stream",
     "text": [
      "Epoch [1112/5000]: 100%|██████████| 9/9 [00:00<00:00, 415.47it/s, loss=1.61]\n"
     ]
    },
    {
     "name": "stdout",
     "output_type": "stream",
     "text": [
      "Epoch [1112/5000]: Train loss: 1.5498, Valid loss: 1.2401\n"
     ]
    },
    {
     "name": "stderr",
     "output_type": "stream",
     "text": [
      "Epoch [1113/5000]: 100%|██████████| 9/9 [00:00<00:00, 404.76it/s, loss=1.61]\n"
     ]
    },
    {
     "name": "stdout",
     "output_type": "stream",
     "text": [
      "Epoch [1113/5000]: Train loss: 1.5405, Valid loss: 1.0297\n"
     ]
    },
    {
     "name": "stderr",
     "output_type": "stream",
     "text": [
      "Epoch [1114/5000]: 100%|██████████| 9/9 [00:00<00:00, 413.68it/s, loss=1.68]\n"
     ]
    },
    {
     "name": "stdout",
     "output_type": "stream",
     "text": [
      "Epoch [1114/5000]: Train loss: 1.4786, Valid loss: 1.0896\n"
     ]
    },
    {
     "name": "stderr",
     "output_type": "stream",
     "text": [
      "Epoch [1115/5000]: 100%|██████████| 9/9 [00:00<00:00, 410.29it/s, loss=1.44]\n"
     ]
    },
    {
     "name": "stdout",
     "output_type": "stream",
     "text": [
      "Epoch [1115/5000]: Train loss: 1.5014, Valid loss: 1.1352\n"
     ]
    },
    {
     "name": "stderr",
     "output_type": "stream",
     "text": [
      "Epoch [1116/5000]: 100%|██████████| 9/9 [00:00<00:00, 382.77it/s, loss=1.49]\n"
     ]
    },
    {
     "name": "stdout",
     "output_type": "stream",
     "text": [
      "Epoch [1116/5000]: Train loss: 1.4516, Valid loss: 1.1755\n"
     ]
    },
    {
     "name": "stderr",
     "output_type": "stream",
     "text": [
      "Epoch [1117/5000]: 100%|██████████| 9/9 [00:00<00:00, 378.21it/s, loss=1.4]\n"
     ]
    },
    {
     "name": "stdout",
     "output_type": "stream",
     "text": [
      "Epoch [1117/5000]: Train loss: 1.4392, Valid loss: 1.1563\n"
     ]
    },
    {
     "name": "stderr",
     "output_type": "stream",
     "text": [
      "Epoch [1118/5000]: 100%|██████████| 9/9 [00:00<00:00, 404.39it/s, loss=1.99]\n"
     ]
    },
    {
     "name": "stdout",
     "output_type": "stream",
     "text": [
      "Epoch [1118/5000]: Train loss: 1.5525, Valid loss: 1.0961\n"
     ]
    },
    {
     "name": "stderr",
     "output_type": "stream",
     "text": [
      "Epoch [1119/5000]: 100%|██████████| 9/9 [00:00<00:00, 381.55it/s, loss=1.6]\n"
     ]
    },
    {
     "name": "stdout",
     "output_type": "stream",
     "text": [
      "Epoch [1119/5000]: Train loss: 1.5462, Valid loss: 1.1445\n"
     ]
    },
    {
     "name": "stderr",
     "output_type": "stream",
     "text": [
      "Epoch [1120/5000]: 100%|██████████| 9/9 [00:00<00:00, 418.35it/s, loss=1.45]\n"
     ]
    },
    {
     "name": "stdout",
     "output_type": "stream",
     "text": [
      "Epoch [1120/5000]: Train loss: 1.4870, Valid loss: 1.1890\n"
     ]
    },
    {
     "name": "stderr",
     "output_type": "stream",
     "text": [
      "Epoch [1121/5000]: 100%|██████████| 9/9 [00:00<00:00, 418.86it/s, loss=1.5]\n"
     ]
    },
    {
     "name": "stdout",
     "output_type": "stream",
     "text": [
      "Epoch [1121/5000]: Train loss: 1.5172, Valid loss: 1.0638\n"
     ]
    },
    {
     "name": "stderr",
     "output_type": "stream",
     "text": [
      "Epoch [1122/5000]: 100%|██████████| 9/9 [00:00<00:00, 433.67it/s, loss=1.42]\n"
     ]
    },
    {
     "name": "stdout",
     "output_type": "stream",
     "text": [
      "Epoch [1122/5000]: Train loss: 1.4782, Valid loss: 1.2129\n"
     ]
    },
    {
     "name": "stderr",
     "output_type": "stream",
     "text": [
      "Epoch [1123/5000]: 100%|██████████| 9/9 [00:00<00:00, 433.17it/s, loss=1.39]\n"
     ]
    },
    {
     "name": "stdout",
     "output_type": "stream",
     "text": [
      "Epoch [1123/5000]: Train loss: 1.4732, Valid loss: 1.0610\n"
     ]
    },
    {
     "name": "stderr",
     "output_type": "stream",
     "text": [
      "Epoch [1124/5000]: 100%|██████████| 9/9 [00:00<00:00, 376.13it/s, loss=1.49]\n"
     ]
    },
    {
     "name": "stdout",
     "output_type": "stream",
     "text": [
      "Epoch [1124/5000]: Train loss: 1.4629, Valid loss: 1.1101\n"
     ]
    },
    {
     "name": "stderr",
     "output_type": "stream",
     "text": [
      "Epoch [1125/5000]: 100%|██████████| 9/9 [00:00<00:00, 405.39it/s, loss=2.21]\n"
     ]
    },
    {
     "name": "stdout",
     "output_type": "stream",
     "text": [
      "Epoch [1125/5000]: Train loss: 1.5458, Valid loss: 1.0263\n"
     ]
    },
    {
     "name": "stderr",
     "output_type": "stream",
     "text": [
      "Epoch [1126/5000]: 100%|██████████| 9/9 [00:00<00:00, 427.66it/s, loss=1.24]\n"
     ]
    },
    {
     "name": "stdout",
     "output_type": "stream",
     "text": [
      "Epoch [1126/5000]: Train loss: 1.4850, Valid loss: 1.1428\n"
     ]
    },
    {
     "name": "stderr",
     "output_type": "stream",
     "text": [
      "Epoch [1127/5000]: 100%|██████████| 9/9 [00:00<00:00, 421.33it/s, loss=1.51]\n"
     ]
    },
    {
     "name": "stdout",
     "output_type": "stream",
     "text": [
      "Epoch [1127/5000]: Train loss: 1.5473, Valid loss: 1.0311\n"
     ]
    },
    {
     "name": "stderr",
     "output_type": "stream",
     "text": [
      "Epoch [1128/5000]: 100%|██████████| 9/9 [00:00<00:00, 412.98it/s, loss=1.65]\n"
     ]
    },
    {
     "name": "stdout",
     "output_type": "stream",
     "text": [
      "Epoch [1128/5000]: Train loss: 1.5422, Valid loss: 1.1055\n"
     ]
    },
    {
     "name": "stderr",
     "output_type": "stream",
     "text": [
      "Epoch [1129/5000]: 100%|██████████| 9/9 [00:00<00:00, 394.70it/s, loss=1.42]\n"
     ]
    },
    {
     "name": "stdout",
     "output_type": "stream",
     "text": [
      "Epoch [1129/5000]: Train loss: 1.4547, Valid loss: 1.1043\n"
     ]
    },
    {
     "name": "stderr",
     "output_type": "stream",
     "text": [
      "Epoch [1130/5000]: 100%|██████████| 9/9 [00:00<00:00, 441.89it/s, loss=1.94]\n"
     ]
    },
    {
     "name": "stdout",
     "output_type": "stream",
     "text": [
      "Epoch [1130/5000]: Train loss: 1.5514, Valid loss: 1.2834\n"
     ]
    },
    {
     "name": "stderr",
     "output_type": "stream",
     "text": [
      "Epoch [1131/5000]: 100%|██████████| 9/9 [00:00<00:00, 441.89it/s, loss=1.53]\n"
     ]
    },
    {
     "name": "stdout",
     "output_type": "stream",
     "text": [
      "Epoch [1131/5000]: Train loss: 1.5730, Valid loss: 1.0950\n"
     ]
    },
    {
     "name": "stderr",
     "output_type": "stream",
     "text": [
      "Epoch [1132/5000]: 100%|██████████| 9/9 [00:00<00:00, 420.91it/s, loss=1.54]\n"
     ]
    },
    {
     "name": "stdout",
     "output_type": "stream",
     "text": [
      "Epoch [1132/5000]: Train loss: 1.5361, Valid loss: 1.1007\n"
     ]
    },
    {
     "name": "stderr",
     "output_type": "stream",
     "text": [
      "Epoch [1133/5000]: 100%|██████████| 9/9 [00:00<00:00, 414.86it/s, loss=1.47]\n"
     ]
    },
    {
     "name": "stdout",
     "output_type": "stream",
     "text": [
      "Epoch [1133/5000]: Train loss: 1.4896, Valid loss: 1.1343\n"
     ]
    },
    {
     "name": "stderr",
     "output_type": "stream",
     "text": [
      "Epoch [1134/5000]: 100%|██████████| 9/9 [00:00<00:00, 449.93it/s, loss=1.74]\n"
     ]
    },
    {
     "name": "stdout",
     "output_type": "stream",
     "text": [
      "Epoch [1134/5000]: Train loss: 1.5305, Valid loss: 1.0834\n"
     ]
    },
    {
     "name": "stderr",
     "output_type": "stream",
     "text": [
      "Epoch [1135/5000]: 100%|██████████| 9/9 [00:00<00:00, 425.01it/s, loss=1.67]\n"
     ]
    },
    {
     "name": "stdout",
     "output_type": "stream",
     "text": [
      "Epoch [1135/5000]: Train loss: 1.5161, Valid loss: 1.1407\n"
     ]
    },
    {
     "name": "stderr",
     "output_type": "stream",
     "text": [
      "Epoch [1136/5000]: 100%|██████████| 9/9 [00:00<00:00, 396.65it/s, loss=1.7]\n"
     ]
    },
    {
     "name": "stdout",
     "output_type": "stream",
     "text": [
      "Epoch [1136/5000]: Train loss: 1.5019, Valid loss: 1.0825\n"
     ]
    },
    {
     "name": "stderr",
     "output_type": "stream",
     "text": [
      "Epoch [1137/5000]: 100%|██████████| 9/9 [00:00<00:00, 425.86it/s, loss=1.33]\n"
     ]
    },
    {
     "name": "stdout",
     "output_type": "stream",
     "text": [
      "Epoch [1137/5000]: Train loss: 1.5130, Valid loss: 1.1413\n"
     ]
    },
    {
     "name": "stderr",
     "output_type": "stream",
     "text": [
      "Epoch [1138/5000]: 100%|██████████| 9/9 [00:00<00:00, 446.52it/s, loss=1.52]\n"
     ]
    },
    {
     "name": "stdout",
     "output_type": "stream",
     "text": [
      "Epoch [1138/5000]: Train loss: 1.5093, Valid loss: 1.2084\n"
     ]
    },
    {
     "name": "stderr",
     "output_type": "stream",
     "text": [
      "Epoch [1139/5000]: 100%|██████████| 9/9 [00:00<00:00, 389.32it/s, loss=1.5]\n"
     ]
    },
    {
     "name": "stdout",
     "output_type": "stream",
     "text": [
      "Epoch [1139/5000]: Train loss: 1.4765, Valid loss: 1.1606\n"
     ]
    },
    {
     "name": "stderr",
     "output_type": "stream",
     "text": [
      "Epoch [1140/5000]: 100%|██████████| 9/9 [00:00<00:00, 443.35it/s, loss=1.76]\n"
     ]
    },
    {
     "name": "stdout",
     "output_type": "stream",
     "text": [
      "Epoch [1140/5000]: Train loss: 1.5698, Valid loss: 1.0175\n"
     ]
    },
    {
     "name": "stderr",
     "output_type": "stream",
     "text": [
      "Epoch [1141/5000]: 100%|██████████| 9/9 [00:00<00:00, 457.39it/s, loss=2.03]\n"
     ]
    },
    {
     "name": "stdout",
     "output_type": "stream",
     "text": [
      "Epoch [1141/5000]: Train loss: 1.5199, Valid loss: 1.0852\n"
     ]
    },
    {
     "name": "stderr",
     "output_type": "stream",
     "text": [
      "Epoch [1142/5000]: 100%|██████████| 9/9 [00:00<00:00, 443.74it/s, loss=1.38]\n"
     ]
    },
    {
     "name": "stdout",
     "output_type": "stream",
     "text": [
      "Epoch [1142/5000]: Train loss: 1.5291, Valid loss: 1.1570\n"
     ]
    },
    {
     "name": "stderr",
     "output_type": "stream",
     "text": [
      "Epoch [1143/5000]: 100%|██████████| 9/9 [00:00<00:00, 439.05it/s, loss=1.41]\n"
     ]
    },
    {
     "name": "stdout",
     "output_type": "stream",
     "text": [
      "Epoch [1143/5000]: Train loss: 1.4781, Valid loss: 1.2087\n"
     ]
    },
    {
     "name": "stderr",
     "output_type": "stream",
     "text": [
      "Epoch [1144/5000]: 100%|██████████| 9/9 [00:00<00:00, 446.31it/s, loss=2.96]\n"
     ]
    },
    {
     "name": "stdout",
     "output_type": "stream",
     "text": [
      "Epoch [1144/5000]: Train loss: 1.6869, Valid loss: 1.0778\n"
     ]
    },
    {
     "name": "stderr",
     "output_type": "stream",
     "text": [
      "Epoch [1145/5000]: 100%|██████████| 9/9 [00:00<00:00, 443.68it/s, loss=1.49]\n"
     ]
    },
    {
     "name": "stdout",
     "output_type": "stream",
     "text": [
      "Epoch [1145/5000]: Train loss: 1.5491, Valid loss: 1.0814\n"
     ]
    },
    {
     "name": "stderr",
     "output_type": "stream",
     "text": [
      "Epoch [1146/5000]: 100%|██████████| 9/9 [00:00<00:00, 441.74it/s, loss=1.51]\n"
     ]
    },
    {
     "name": "stdout",
     "output_type": "stream",
     "text": [
      "Epoch [1146/5000]: Train loss: 1.4906, Valid loss: 1.0692\n"
     ]
    },
    {
     "name": "stderr",
     "output_type": "stream",
     "text": [
      "Epoch [1147/5000]: 100%|██████████| 9/9 [00:00<00:00, 431.91it/s, loss=1.53]\n"
     ]
    },
    {
     "name": "stdout",
     "output_type": "stream",
     "text": [
      "Epoch [1147/5000]: Train loss: 1.4900, Valid loss: 1.0896\n"
     ]
    },
    {
     "name": "stderr",
     "output_type": "stream",
     "text": [
      "Epoch [1148/5000]: 100%|██████████| 9/9 [00:00<00:00, 460.14it/s, loss=1.81]\n"
     ]
    },
    {
     "name": "stdout",
     "output_type": "stream",
     "text": [
      "Epoch [1148/5000]: Train loss: 1.5191, Valid loss: 1.1761\n"
     ]
    },
    {
     "name": "stderr",
     "output_type": "stream",
     "text": [
      "Epoch [1149/5000]: 100%|██████████| 9/9 [00:00<00:00, 404.93it/s, loss=1.64]\n"
     ]
    },
    {
     "name": "stdout",
     "output_type": "stream",
     "text": [
      "Epoch [1149/5000]: Train loss: 1.5826, Valid loss: 1.1547\n"
     ]
    },
    {
     "name": "stderr",
     "output_type": "stream",
     "text": [
      "Epoch [1150/5000]: 100%|██████████| 9/9 [00:00<00:00, 424.91it/s, loss=1.43]\n"
     ]
    },
    {
     "name": "stdout",
     "output_type": "stream",
     "text": [
      "Epoch [1150/5000]: Train loss: 1.4990, Valid loss: 1.0061\n"
     ]
    },
    {
     "name": "stderr",
     "output_type": "stream",
     "text": [
      "Epoch [1151/5000]: 100%|██████████| 9/9 [00:00<00:00, 444.03it/s, loss=1.36]\n"
     ]
    },
    {
     "name": "stdout",
     "output_type": "stream",
     "text": [
      "Epoch [1151/5000]: Train loss: 1.4830, Valid loss: 0.9943\n"
     ]
    },
    {
     "name": "stderr",
     "output_type": "stream",
     "text": [
      "Epoch [1152/5000]: 100%|██████████| 9/9 [00:00<00:00, 447.92it/s, loss=2.55]\n"
     ]
    },
    {
     "name": "stdout",
     "output_type": "stream",
     "text": [
      "Epoch [1152/5000]: Train loss: 1.5863, Valid loss: 1.3709\n"
     ]
    },
    {
     "name": "stderr",
     "output_type": "stream",
     "text": [
      "Epoch [1153/5000]: 100%|██████████| 9/9 [00:00<00:00, 427.37it/s, loss=1.53]\n"
     ]
    },
    {
     "name": "stdout",
     "output_type": "stream",
     "text": [
      "Epoch [1153/5000]: Train loss: 1.4809, Valid loss: 1.1794\n"
     ]
    },
    {
     "name": "stderr",
     "output_type": "stream",
     "text": [
      "Epoch [1154/5000]: 100%|██████████| 9/9 [00:00<00:00, 463.39it/s, loss=1.56]\n"
     ]
    },
    {
     "name": "stdout",
     "output_type": "stream",
     "text": [
      "Epoch [1154/5000]: Train loss: 1.5539, Valid loss: 1.0587\n"
     ]
    },
    {
     "name": "stderr",
     "output_type": "stream",
     "text": [
      "Epoch [1155/5000]: 100%|██████████| 9/9 [00:00<00:00, 384.02it/s, loss=1.83]\n"
     ]
    },
    {
     "name": "stdout",
     "output_type": "stream",
     "text": [
      "Epoch [1155/5000]: Train loss: 1.4771, Valid loss: 1.1576\n"
     ]
    },
    {
     "name": "stderr",
     "output_type": "stream",
     "text": [
      "Epoch [1156/5000]: 100%|██████████| 9/9 [00:00<00:00, 391.24it/s, loss=1.73]\n"
     ]
    },
    {
     "name": "stdout",
     "output_type": "stream",
     "text": [
      "Epoch [1156/5000]: Train loss: 1.4931, Valid loss: 1.1890\n"
     ]
    },
    {
     "name": "stderr",
     "output_type": "stream",
     "text": [
      "Epoch [1157/5000]: 100%|██████████| 9/9 [00:00<00:00, 382.78it/s, loss=2.16]\n"
     ]
    },
    {
     "name": "stdout",
     "output_type": "stream",
     "text": [
      "Epoch [1157/5000]: Train loss: 1.5314, Valid loss: 1.1094\n"
     ]
    },
    {
     "name": "stderr",
     "output_type": "stream",
     "text": [
      "Epoch [1158/5000]: 100%|██████████| 9/9 [00:00<00:00, 344.50it/s, loss=1.26]\n"
     ]
    },
    {
     "name": "stdout",
     "output_type": "stream",
     "text": [
      "Epoch [1158/5000]: Train loss: 1.4514, Valid loss: 1.0979\n"
     ]
    },
    {
     "name": "stderr",
     "output_type": "stream",
     "text": [
      "Epoch [1159/5000]: 100%|██████████| 9/9 [00:00<00:00, 368.54it/s, loss=1.18]\n"
     ]
    },
    {
     "name": "stdout",
     "output_type": "stream",
     "text": [
      "Epoch [1159/5000]: Train loss: 1.4861, Valid loss: 1.1760\n"
     ]
    },
    {
     "name": "stderr",
     "output_type": "stream",
     "text": [
      "Epoch [1160/5000]: 100%|██████████| 9/9 [00:00<00:00, 188.63it/s, loss=1.55]\n"
     ]
    },
    {
     "name": "stdout",
     "output_type": "stream",
     "text": [
      "Epoch [1160/5000]: Train loss: 1.5634, Valid loss: 1.1353\n"
     ]
    },
    {
     "name": "stderr",
     "output_type": "stream",
     "text": [
      "Epoch [1161/5000]: 100%|██████████| 9/9 [00:00<00:00, 363.18it/s, loss=1.54]\n"
     ]
    },
    {
     "name": "stdout",
     "output_type": "stream",
     "text": [
      "Epoch [1161/5000]: Train loss: 1.5154, Valid loss: 1.1384\n"
     ]
    },
    {
     "name": "stderr",
     "output_type": "stream",
     "text": [
      "Epoch [1162/5000]: 100%|██████████| 9/9 [00:00<00:00, 386.90it/s, loss=1.69]\n"
     ]
    },
    {
     "name": "stdout",
     "output_type": "stream",
     "text": [
      "Epoch [1162/5000]: Train loss: 1.4758, Valid loss: 1.0254\n"
     ]
    },
    {
     "name": "stderr",
     "output_type": "stream",
     "text": [
      "Epoch [1163/5000]: 100%|██████████| 9/9 [00:00<00:00, 411.01it/s, loss=1.53]\n"
     ]
    },
    {
     "name": "stdout",
     "output_type": "stream",
     "text": [
      "Epoch [1163/5000]: Train loss: 1.5325, Valid loss: 1.2620\n"
     ]
    },
    {
     "name": "stderr",
     "output_type": "stream",
     "text": [
      "Epoch [1164/5000]: 100%|██████████| 9/9 [00:00<00:00, 411.13it/s, loss=1.43]\n"
     ]
    },
    {
     "name": "stdout",
     "output_type": "stream",
     "text": [
      "Epoch [1164/5000]: Train loss: 1.4957, Valid loss: 1.0652\n"
     ]
    },
    {
     "name": "stderr",
     "output_type": "stream",
     "text": [
      "Epoch [1165/5000]: 100%|██████████| 9/9 [00:00<00:00, 412.85it/s, loss=1.8]\n"
     ]
    },
    {
     "name": "stdout",
     "output_type": "stream",
     "text": [
      "Epoch [1165/5000]: Train loss: 1.5249, Valid loss: 1.1165\n"
     ]
    },
    {
     "name": "stderr",
     "output_type": "stream",
     "text": [
      "Epoch [1166/5000]: 100%|██████████| 9/9 [00:00<00:00, 104.20it/s, loss=1.5]\n"
     ]
    },
    {
     "name": "stdout",
     "output_type": "stream",
     "text": [
      "Epoch [1166/5000]: Train loss: 1.5077, Valid loss: 0.9505\n"
     ]
    },
    {
     "name": "stderr",
     "output_type": "stream",
     "text": [
      "Epoch [1167/5000]: 100%|██████████| 9/9 [00:00<00:00, 394.43it/s, loss=1.65]\n"
     ]
    },
    {
     "name": "stdout",
     "output_type": "stream",
     "text": [
      "Epoch [1167/5000]: Train loss: 1.5357, Valid loss: 1.1089\n"
     ]
    },
    {
     "name": "stderr",
     "output_type": "stream",
     "text": [
      "Epoch [1168/5000]: 100%|██████████| 9/9 [00:00<00:00, 386.55it/s, loss=1.6]\n"
     ]
    },
    {
     "name": "stdout",
     "output_type": "stream",
     "text": [
      "Epoch [1168/5000]: Train loss: 1.4902, Valid loss: 1.0770\n"
     ]
    },
    {
     "name": "stderr",
     "output_type": "stream",
     "text": [
      "Epoch [1169/5000]: 100%|██████████| 9/9 [00:00<00:00, 394.79it/s, loss=1.76]\n"
     ]
    },
    {
     "name": "stdout",
     "output_type": "stream",
     "text": [
      "Epoch [1169/5000]: Train loss: 1.5257, Valid loss: 1.1142\n"
     ]
    },
    {
     "name": "stderr",
     "output_type": "stream",
     "text": [
      "Epoch [1170/5000]: 100%|██████████| 9/9 [00:00<00:00, 403.55it/s, loss=2.48]\n"
     ]
    },
    {
     "name": "stdout",
     "output_type": "stream",
     "text": [
      "Epoch [1170/5000]: Train loss: 1.5655, Valid loss: 1.0977\n"
     ]
    },
    {
     "name": "stderr",
     "output_type": "stream",
     "text": [
      "Epoch [1171/5000]: 100%|██████████| 9/9 [00:00<00:00, 375.53it/s, loss=1.49]\n"
     ]
    },
    {
     "name": "stdout",
     "output_type": "stream",
     "text": [
      "Epoch [1171/5000]: Train loss: 1.4626, Valid loss: 0.9975\n"
     ]
    },
    {
     "name": "stderr",
     "output_type": "stream",
     "text": [
      "Epoch [1172/5000]: 100%|██████████| 9/9 [00:00<00:00, 396.74it/s, loss=1.41]\n"
     ]
    },
    {
     "name": "stdout",
     "output_type": "stream",
     "text": [
      "Epoch [1172/5000]: Train loss: 1.5202, Valid loss: 1.1522\n"
     ]
    },
    {
     "name": "stderr",
     "output_type": "stream",
     "text": [
      "Epoch [1173/5000]: 100%|██████████| 9/9 [00:00<00:00, 370.17it/s, loss=1.48]\n"
     ]
    },
    {
     "name": "stdout",
     "output_type": "stream",
     "text": [
      "Epoch [1173/5000]: Train loss: 1.5002, Valid loss: 1.0465\n"
     ]
    },
    {
     "name": "stderr",
     "output_type": "stream",
     "text": [
      "Epoch [1174/5000]: 100%|██████████| 9/9 [00:00<00:00, 412.81it/s, loss=2.06]\n"
     ]
    },
    {
     "name": "stdout",
     "output_type": "stream",
     "text": [
      "Epoch [1174/5000]: Train loss: 1.5567, Valid loss: 1.0974\n"
     ]
    },
    {
     "name": "stderr",
     "output_type": "stream",
     "text": [
      "Epoch [1175/5000]: 100%|██████████| 9/9 [00:00<00:00, 429.88it/s, loss=1.39]\n"
     ]
    },
    {
     "name": "stdout",
     "output_type": "stream",
     "text": [
      "Epoch [1175/5000]: Train loss: 1.5919, Valid loss: 1.1338\n"
     ]
    },
    {
     "name": "stderr",
     "output_type": "stream",
     "text": [
      "Epoch [1176/5000]: 100%|██████████| 9/9 [00:00<00:00, 414.81it/s, loss=1.32]\n"
     ]
    },
    {
     "name": "stdout",
     "output_type": "stream",
     "text": [
      "Epoch [1176/5000]: Train loss: 1.5274, Valid loss: 1.0770\n"
     ]
    },
    {
     "name": "stderr",
     "output_type": "stream",
     "text": [
      "Epoch [1177/5000]: 100%|██████████| 9/9 [00:00<00:00, 424.19it/s, loss=1.43]\n"
     ]
    },
    {
     "name": "stdout",
     "output_type": "stream",
     "text": [
      "Epoch [1177/5000]: Train loss: 1.5356, Valid loss: 1.1382\n"
     ]
    },
    {
     "name": "stderr",
     "output_type": "stream",
     "text": [
      "Epoch [1178/5000]: 100%|██████████| 9/9 [00:00<00:00, 432.86it/s, loss=1.23]\n"
     ]
    },
    {
     "name": "stdout",
     "output_type": "stream",
     "text": [
      "Epoch [1178/5000]: Train loss: 1.5075, Valid loss: 1.1201\n"
     ]
    },
    {
     "name": "stderr",
     "output_type": "stream",
     "text": [
      "Epoch [1179/5000]: 100%|██████████| 9/9 [00:00<00:00, 398.06it/s, loss=1.18]\n"
     ]
    },
    {
     "name": "stdout",
     "output_type": "stream",
     "text": [
      "Epoch [1179/5000]: Train loss: 1.4457, Valid loss: 1.0737\n"
     ]
    },
    {
     "name": "stderr",
     "output_type": "stream",
     "text": [
      "Epoch [1180/5000]: 100%|██████████| 9/9 [00:00<00:00, 411.22it/s, loss=1.4]\n"
     ]
    },
    {
     "name": "stdout",
     "output_type": "stream",
     "text": [
      "Epoch [1180/5000]: Train loss: 1.4730, Valid loss: 1.0669\n"
     ]
    },
    {
     "name": "stderr",
     "output_type": "stream",
     "text": [
      "Epoch [1181/5000]: 100%|██████████| 9/9 [00:00<00:00, 414.10it/s, loss=1.5]\n"
     ]
    },
    {
     "name": "stdout",
     "output_type": "stream",
     "text": [
      "Epoch [1181/5000]: Train loss: 1.4647, Valid loss: 0.9938\n"
     ]
    },
    {
     "name": "stderr",
     "output_type": "stream",
     "text": [
      "Epoch [1182/5000]: 100%|██████████| 9/9 [00:00<00:00, 370.51it/s, loss=1.62]\n"
     ]
    },
    {
     "name": "stdout",
     "output_type": "stream",
     "text": [
      "Epoch [1182/5000]: Train loss: 1.5008, Valid loss: 1.0734\n"
     ]
    },
    {
     "name": "stderr",
     "output_type": "stream",
     "text": [
      "Epoch [1183/5000]: 100%|██████████| 9/9 [00:00<00:00, 378.78it/s, loss=2.05]\n"
     ]
    },
    {
     "name": "stdout",
     "output_type": "stream",
     "text": [
      "Epoch [1183/5000]: Train loss: 1.5432, Valid loss: 1.1735\n"
     ]
    },
    {
     "name": "stderr",
     "output_type": "stream",
     "text": [
      "Epoch [1184/5000]: 100%|██████████| 9/9 [00:00<00:00, 383.22it/s, loss=1.61]\n"
     ]
    },
    {
     "name": "stdout",
     "output_type": "stream",
     "text": [
      "Epoch [1184/5000]: Train loss: 1.5207, Valid loss: 1.0406\n"
     ]
    },
    {
     "name": "stderr",
     "output_type": "stream",
     "text": [
      "Epoch [1185/5000]: 100%|██████████| 9/9 [00:00<00:00, 394.08it/s, loss=1.81]\n"
     ]
    },
    {
     "name": "stdout",
     "output_type": "stream",
     "text": [
      "Epoch [1185/5000]: Train loss: 1.6085, Valid loss: 1.0949\n"
     ]
    },
    {
     "name": "stderr",
     "output_type": "stream",
     "text": [
      "Epoch [1186/5000]: 100%|██████████| 9/9 [00:00<00:00, 399.13it/s, loss=1.67]\n"
     ]
    },
    {
     "name": "stdout",
     "output_type": "stream",
     "text": [
      "Epoch [1186/5000]: Train loss: 1.4904, Valid loss: 1.0354\n"
     ]
    },
    {
     "name": "stderr",
     "output_type": "stream",
     "text": [
      "Epoch [1187/5000]: 100%|██████████| 9/9 [00:00<00:00, 396.46it/s, loss=1.52]\n"
     ]
    },
    {
     "name": "stdout",
     "output_type": "stream",
     "text": [
      "Epoch [1187/5000]: Train loss: 1.4965, Valid loss: 1.0925\n"
     ]
    },
    {
     "name": "stderr",
     "output_type": "stream",
     "text": [
      "Epoch [1188/5000]: 100%|██████████| 9/9 [00:00<00:00, 379.14it/s, loss=1.74]\n"
     ]
    },
    {
     "name": "stdout",
     "output_type": "stream",
     "text": [
      "Epoch [1188/5000]: Train loss: 1.5021, Valid loss: 1.0415\n"
     ]
    },
    {
     "name": "stderr",
     "output_type": "stream",
     "text": [
      "Epoch [1189/5000]: 100%|██████████| 9/9 [00:00<00:00, 414.94it/s, loss=1.33]\n"
     ]
    },
    {
     "name": "stdout",
     "output_type": "stream",
     "text": [
      "Epoch [1189/5000]: Train loss: 1.4605, Valid loss: 1.0615\n"
     ]
    },
    {
     "name": "stderr",
     "output_type": "stream",
     "text": [
      "Epoch [1190/5000]: 100%|██████████| 9/9 [00:00<00:00, 425.58it/s, loss=1.28]\n"
     ]
    },
    {
     "name": "stdout",
     "output_type": "stream",
     "text": [
      "Epoch [1190/5000]: Train loss: 1.4821, Valid loss: 1.0588\n"
     ]
    },
    {
     "name": "stderr",
     "output_type": "stream",
     "text": [
      "Epoch [1191/5000]: 100%|██████████| 9/9 [00:00<00:00, 422.30it/s, loss=1.92]\n"
     ]
    },
    {
     "name": "stdout",
     "output_type": "stream",
     "text": [
      "Epoch [1191/5000]: Train loss: 1.5631, Valid loss: 1.1737\n"
     ]
    },
    {
     "name": "stderr",
     "output_type": "stream",
     "text": [
      "Epoch [1192/5000]: 100%|██████████| 9/9 [00:00<00:00, 364.93it/s, loss=1.41]\n"
     ]
    },
    {
     "name": "stdout",
     "output_type": "stream",
     "text": [
      "Epoch [1192/5000]: Train loss: 1.5353, Valid loss: 1.1257\n"
     ]
    },
    {
     "name": "stderr",
     "output_type": "stream",
     "text": [
      "Epoch [1193/5000]: 100%|██████████| 9/9 [00:00<00:00, 380.26it/s, loss=1.6]\n"
     ]
    },
    {
     "name": "stdout",
     "output_type": "stream",
     "text": [
      "Epoch [1193/5000]: Train loss: 1.4954, Valid loss: 1.0700\n"
     ]
    },
    {
     "name": "stderr",
     "output_type": "stream",
     "text": [
      "Epoch [1194/5000]: 100%|██████████| 9/9 [00:00<00:00, 370.57it/s, loss=1.43]\n"
     ]
    },
    {
     "name": "stdout",
     "output_type": "stream",
     "text": [
      "Epoch [1194/5000]: Train loss: 1.4457, Valid loss: 1.1665\n"
     ]
    },
    {
     "name": "stderr",
     "output_type": "stream",
     "text": [
      "Epoch [1195/5000]: 100%|██████████| 9/9 [00:00<00:00, 380.81it/s, loss=1.64]\n"
     ]
    },
    {
     "name": "stdout",
     "output_type": "stream",
     "text": [
      "Epoch [1195/5000]: Train loss: 1.5020, Valid loss: 1.0236\n"
     ]
    },
    {
     "name": "stderr",
     "output_type": "stream",
     "text": [
      "Epoch [1196/5000]: 100%|██████████| 9/9 [00:00<00:00, 385.16it/s, loss=1.46]\n"
     ]
    },
    {
     "name": "stdout",
     "output_type": "stream",
     "text": [
      "Epoch [1196/5000]: Train loss: 1.4893, Valid loss: 1.1475\n"
     ]
    },
    {
     "name": "stderr",
     "output_type": "stream",
     "text": [
      "Epoch [1197/5000]: 100%|██████████| 9/9 [00:00<00:00, 345.96it/s, loss=1.32]\n"
     ]
    },
    {
     "name": "stdout",
     "output_type": "stream",
     "text": [
      "Epoch [1197/5000]: Train loss: 1.4648, Valid loss: 1.1103\n"
     ]
    },
    {
     "name": "stderr",
     "output_type": "stream",
     "text": [
      "Epoch [1198/5000]: 100%|██████████| 9/9 [00:00<00:00, 363.28it/s, loss=1.62]\n"
     ]
    },
    {
     "name": "stdout",
     "output_type": "stream",
     "text": [
      "Epoch [1198/5000]: Train loss: 1.4349, Valid loss: 1.0323\n"
     ]
    },
    {
     "name": "stderr",
     "output_type": "stream",
     "text": [
      "Epoch [1199/5000]: 100%|██████████| 9/9 [00:00<00:00, 382.34it/s, loss=1.62]\n"
     ]
    },
    {
     "name": "stdout",
     "output_type": "stream",
     "text": [
      "Epoch [1199/5000]: Train loss: 1.4495, Valid loss: 1.1606\n"
     ]
    },
    {
     "name": "stderr",
     "output_type": "stream",
     "text": [
      "Epoch [1200/5000]: 100%|██████████| 9/9 [00:00<00:00, 398.46it/s, loss=1.62]\n"
     ]
    },
    {
     "name": "stdout",
     "output_type": "stream",
     "text": [
      "Epoch [1200/5000]: Train loss: 1.5127, Valid loss: 1.1242\n"
     ]
    },
    {
     "name": "stderr",
     "output_type": "stream",
     "text": [
      "Epoch [1201/5000]: 100%|██████████| 9/9 [00:00<00:00, 398.34it/s, loss=2.1]\n"
     ]
    },
    {
     "name": "stdout",
     "output_type": "stream",
     "text": [
      "Epoch [1201/5000]: Train loss: 1.6079, Valid loss: 1.2306\n"
     ]
    },
    {
     "name": "stderr",
     "output_type": "stream",
     "text": [
      "Epoch [1202/5000]: 100%|██████████| 9/9 [00:00<00:00, 400.19it/s, loss=1.5]\n"
     ]
    },
    {
     "name": "stdout",
     "output_type": "stream",
     "text": [
      "Epoch [1202/5000]: Train loss: 1.4617, Valid loss: 1.1191\n"
     ]
    },
    {
     "name": "stderr",
     "output_type": "stream",
     "text": [
      "Epoch [1203/5000]: 100%|██████████| 9/9 [00:00<00:00, 416.68it/s, loss=1.79]\n"
     ]
    },
    {
     "name": "stdout",
     "output_type": "stream",
     "text": [
      "Epoch [1203/5000]: Train loss: 1.5517, Valid loss: 1.1198\n"
     ]
    },
    {
     "name": "stderr",
     "output_type": "stream",
     "text": [
      "Epoch [1204/5000]: 100%|██████████| 9/9 [00:00<00:00, 408.72it/s, loss=1.5]\n"
     ]
    },
    {
     "name": "stdout",
     "output_type": "stream",
     "text": [
      "Epoch [1204/5000]: Train loss: 1.4697, Valid loss: 1.1108\n"
     ]
    },
    {
     "name": "stderr",
     "output_type": "stream",
     "text": [
      "Epoch [1205/5000]: 100%|██████████| 9/9 [00:00<00:00, 451.15it/s, loss=1.42]\n"
     ]
    },
    {
     "name": "stdout",
     "output_type": "stream",
     "text": [
      "Epoch [1205/5000]: Train loss: 1.4935, Valid loss: 1.2010\n"
     ]
    },
    {
     "name": "stderr",
     "output_type": "stream",
     "text": [
      "Epoch [1206/5000]: 100%|██████████| 9/9 [00:00<00:00, 439.88it/s, loss=1.39]\n"
     ]
    },
    {
     "name": "stdout",
     "output_type": "stream",
     "text": [
      "Epoch [1206/5000]: Train loss: 1.4689, Valid loss: 1.0742\n"
     ]
    },
    {
     "name": "stderr",
     "output_type": "stream",
     "text": [
      "Epoch [1207/5000]: 100%|██████████| 9/9 [00:00<00:00, 415.80it/s, loss=1.36]\n"
     ]
    },
    {
     "name": "stdout",
     "output_type": "stream",
     "text": [
      "Epoch [1207/5000]: Train loss: 1.4745, Valid loss: 0.9856\n"
     ]
    },
    {
     "name": "stderr",
     "output_type": "stream",
     "text": [
      "Epoch [1208/5000]: 100%|██████████| 9/9 [00:00<00:00, 409.12it/s, loss=2.08]\n"
     ]
    },
    {
     "name": "stdout",
     "output_type": "stream",
     "text": [
      "Epoch [1208/5000]: Train loss: 1.5995, Valid loss: 1.1198\n"
     ]
    },
    {
     "name": "stderr",
     "output_type": "stream",
     "text": [
      "Epoch [1209/5000]: 100%|██████████| 9/9 [00:00<00:00, 421.67it/s, loss=1.83]\n"
     ]
    },
    {
     "name": "stdout",
     "output_type": "stream",
     "text": [
      "Epoch [1209/5000]: Train loss: 1.5557, Valid loss: 1.0758\n"
     ]
    },
    {
     "name": "stderr",
     "output_type": "stream",
     "text": [
      "Epoch [1210/5000]: 100%|██████████| 9/9 [00:00<00:00, 372.13it/s, loss=1.61]\n"
     ]
    },
    {
     "name": "stdout",
     "output_type": "stream",
     "text": [
      "Epoch [1210/5000]: Train loss: 1.4694, Valid loss: 1.1259\n"
     ]
    },
    {
     "name": "stderr",
     "output_type": "stream",
     "text": [
      "Epoch [1211/5000]: 100%|██████████| 9/9 [00:00<00:00, 376.87it/s, loss=1.53]\n"
     ]
    },
    {
     "name": "stdout",
     "output_type": "stream",
     "text": [
      "Epoch [1211/5000]: Train loss: 1.4508, Valid loss: 1.4384\n"
     ]
    },
    {
     "name": "stderr",
     "output_type": "stream",
     "text": [
      "Epoch [1212/5000]: 100%|██████████| 9/9 [00:00<00:00, 359.48it/s, loss=1.48]\n"
     ]
    },
    {
     "name": "stdout",
     "output_type": "stream",
     "text": [
      "Epoch [1212/5000]: Train loss: 1.5511, Valid loss: 1.0445\n"
     ]
    },
    {
     "name": "stderr",
     "output_type": "stream",
     "text": [
      "Epoch [1213/5000]: 100%|██████████| 9/9 [00:00<00:00, 351.86it/s, loss=1.35]\n"
     ]
    },
    {
     "name": "stdout",
     "output_type": "stream",
     "text": [
      "Epoch [1213/5000]: Train loss: 1.4949, Valid loss: 1.0422\n"
     ]
    },
    {
     "name": "stderr",
     "output_type": "stream",
     "text": [
      "Epoch [1214/5000]: 100%|██████████| 9/9 [00:00<00:00, 330.87it/s, loss=1.5]\n"
     ]
    },
    {
     "name": "stdout",
     "output_type": "stream",
     "text": [
      "Epoch [1214/5000]: Train loss: 1.4501, Valid loss: 1.0948\n"
     ]
    },
    {
     "name": "stderr",
     "output_type": "stream",
     "text": [
      "Epoch [1215/5000]: 100%|██████████| 9/9 [00:00<00:00, 213.32it/s, loss=1.32]\n"
     ]
    },
    {
     "name": "stdout",
     "output_type": "stream",
     "text": [
      "Epoch [1215/5000]: Train loss: 1.4838, Valid loss: 1.2509\n"
     ]
    },
    {
     "name": "stderr",
     "output_type": "stream",
     "text": [
      "Epoch [1216/5000]: 100%|██████████| 9/9 [00:00<00:00, 324.25it/s, loss=1.37]\n"
     ]
    },
    {
     "name": "stdout",
     "output_type": "stream",
     "text": [
      "Epoch [1216/5000]: Train loss: 1.4811, Valid loss: 1.1024\n"
     ]
    },
    {
     "name": "stderr",
     "output_type": "stream",
     "text": [
      "Epoch [1217/5000]: 100%|██████████| 9/9 [00:00<00:00, 370.74it/s, loss=1.86]\n"
     ]
    },
    {
     "name": "stdout",
     "output_type": "stream",
     "text": [
      "Epoch [1217/5000]: Train loss: 1.4606, Valid loss: 1.1347\n"
     ]
    },
    {
     "name": "stderr",
     "output_type": "stream",
     "text": [
      "Epoch [1218/5000]: 100%|██████████| 9/9 [00:00<00:00, 410.73it/s, loss=1.38]\n"
     ]
    },
    {
     "name": "stdout",
     "output_type": "stream",
     "text": [
      "Epoch [1218/5000]: Train loss: 1.4757, Valid loss: 1.0536\n"
     ]
    },
    {
     "name": "stderr",
     "output_type": "stream",
     "text": [
      "Epoch [1219/5000]: 100%|██████████| 9/9 [00:00<00:00, 405.37it/s, loss=1.26]\n"
     ]
    },
    {
     "name": "stdout",
     "output_type": "stream",
     "text": [
      "Epoch [1219/5000]: Train loss: 1.4504, Valid loss: 1.0956\n"
     ]
    },
    {
     "name": "stderr",
     "output_type": "stream",
     "text": [
      "Epoch [1220/5000]: 100%|██████████| 9/9 [00:00<00:00, 398.67it/s, loss=1.32]\n"
     ]
    },
    {
     "name": "stdout",
     "output_type": "stream",
     "text": [
      "Epoch [1220/5000]: Train loss: 1.4787, Valid loss: 1.0544\n"
     ]
    },
    {
     "name": "stderr",
     "output_type": "stream",
     "text": [
      "Epoch [1221/5000]: 100%|██████████| 9/9 [00:00<00:00, 403.32it/s, loss=1.68]\n"
     ]
    },
    {
     "name": "stdout",
     "output_type": "stream",
     "text": [
      "Epoch [1221/5000]: Train loss: 1.6247, Valid loss: 1.1883\n"
     ]
    },
    {
     "name": "stderr",
     "output_type": "stream",
     "text": [
      "Epoch [1222/5000]: 100%|██████████| 9/9 [00:00<00:00, 404.93it/s, loss=1.83]\n"
     ]
    },
    {
     "name": "stdout",
     "output_type": "stream",
     "text": [
      "Epoch [1222/5000]: Train loss: 1.5455, Valid loss: 1.1197\n"
     ]
    },
    {
     "name": "stderr",
     "output_type": "stream",
     "text": [
      "Epoch [1223/5000]: 100%|██████████| 9/9 [00:00<00:00, 400.05it/s, loss=1.59]\n"
     ]
    },
    {
     "name": "stdout",
     "output_type": "stream",
     "text": [
      "Epoch [1223/5000]: Train loss: 1.4521, Valid loss: 1.1950\n"
     ]
    },
    {
     "name": "stderr",
     "output_type": "stream",
     "text": [
      "Epoch [1224/5000]: 100%|██████████| 9/9 [00:00<00:00, 403.46it/s, loss=1.48]\n"
     ]
    },
    {
     "name": "stdout",
     "output_type": "stream",
     "text": [
      "Epoch [1224/5000]: Train loss: 1.4588, Valid loss: 0.9964\n"
     ]
    },
    {
     "name": "stderr",
     "output_type": "stream",
     "text": [
      "Epoch [1225/5000]: 100%|██████████| 9/9 [00:00<00:00, 398.92it/s, loss=1.95]\n"
     ]
    },
    {
     "name": "stdout",
     "output_type": "stream",
     "text": [
      "Epoch [1225/5000]: Train loss: 1.5559, Valid loss: 1.0468\n"
     ]
    },
    {
     "name": "stderr",
     "output_type": "stream",
     "text": [
      "Epoch [1226/5000]: 100%|██████████| 9/9 [00:00<00:00, 391.47it/s, loss=1.54]\n"
     ]
    },
    {
     "name": "stdout",
     "output_type": "stream",
     "text": [
      "Epoch [1226/5000]: Train loss: 1.5245, Valid loss: 1.0635\n"
     ]
    },
    {
     "name": "stderr",
     "output_type": "stream",
     "text": [
      "Epoch [1227/5000]: 100%|██████████| 9/9 [00:00<00:00, 386.57it/s, loss=1.41]\n"
     ]
    },
    {
     "name": "stdout",
     "output_type": "stream",
     "text": [
      "Epoch [1227/5000]: Train loss: 1.4840, Valid loss: 1.0750\n"
     ]
    },
    {
     "name": "stderr",
     "output_type": "stream",
     "text": [
      "Epoch [1228/5000]: 100%|██████████| 9/9 [00:00<00:00, 375.79it/s, loss=1.28]\n"
     ]
    },
    {
     "name": "stdout",
     "output_type": "stream",
     "text": [
      "Epoch [1228/5000]: Train loss: 1.5184, Valid loss: 1.0175\n"
     ]
    },
    {
     "name": "stderr",
     "output_type": "stream",
     "text": [
      "Epoch [1229/5000]: 100%|██████████| 9/9 [00:00<00:00, 396.49it/s, loss=1.32]\n"
     ]
    },
    {
     "name": "stdout",
     "output_type": "stream",
     "text": [
      "Epoch [1229/5000]: Train loss: 1.4688, Valid loss: 1.0721\n"
     ]
    },
    {
     "name": "stderr",
     "output_type": "stream",
     "text": [
      "Epoch [1230/5000]: 100%|██████████| 9/9 [00:00<00:00, 403.35it/s, loss=1.63]\n"
     ]
    },
    {
     "name": "stdout",
     "output_type": "stream",
     "text": [
      "Epoch [1230/5000]: Train loss: 1.5521, Valid loss: 1.1730\n"
     ]
    },
    {
     "name": "stderr",
     "output_type": "stream",
     "text": [
      "Epoch [1231/5000]: 100%|██████████| 9/9 [00:00<00:00, 381.42it/s, loss=1.58]\n"
     ]
    },
    {
     "name": "stdout",
     "output_type": "stream",
     "text": [
      "Epoch [1231/5000]: Train loss: 1.5611, Valid loss: 1.1857\n"
     ]
    },
    {
     "name": "stderr",
     "output_type": "stream",
     "text": [
      "Epoch [1232/5000]: 100%|██████████| 9/9 [00:00<00:00, 385.07it/s, loss=1.51]\n"
     ]
    },
    {
     "name": "stdout",
     "output_type": "stream",
     "text": [
      "Epoch [1232/5000]: Train loss: 1.4463, Valid loss: 1.0707\n"
     ]
    },
    {
     "name": "stderr",
     "output_type": "stream",
     "text": [
      "Epoch [1233/5000]: 100%|██████████| 9/9 [00:00<00:00, 380.99it/s, loss=1.4]\n"
     ]
    },
    {
     "name": "stdout",
     "output_type": "stream",
     "text": [
      "Epoch [1233/5000]: Train loss: 1.4746, Valid loss: 1.0825\n"
     ]
    },
    {
     "name": "stderr",
     "output_type": "stream",
     "text": [
      "Epoch [1234/5000]: 100%|██████████| 9/9 [00:00<00:00, 378.05it/s, loss=1.54]\n"
     ]
    },
    {
     "name": "stdout",
     "output_type": "stream",
     "text": [
      "Epoch [1234/5000]: Train loss: 1.4709, Valid loss: 1.2424\n"
     ]
    },
    {
     "name": "stderr",
     "output_type": "stream",
     "text": [
      "Epoch [1235/5000]: 100%|██████████| 9/9 [00:00<00:00, 374.10it/s, loss=1.56]\n"
     ]
    },
    {
     "name": "stdout",
     "output_type": "stream",
     "text": [
      "Epoch [1235/5000]: Train loss: 1.4831, Valid loss: 1.0059\n"
     ]
    },
    {
     "name": "stderr",
     "output_type": "stream",
     "text": [
      "Epoch [1236/5000]: 100%|██████████| 9/9 [00:00<00:00, 361.23it/s, loss=1.4]\n"
     ]
    },
    {
     "name": "stdout",
     "output_type": "stream",
     "text": [
      "Epoch [1236/5000]: Train loss: 1.4803, Valid loss: 1.0772\n"
     ]
    },
    {
     "name": "stderr",
     "output_type": "stream",
     "text": [
      "Epoch [1237/5000]: 100%|██████████| 9/9 [00:00<00:00, 369.00it/s, loss=1.53]\n"
     ]
    },
    {
     "name": "stdout",
     "output_type": "stream",
     "text": [
      "Epoch [1237/5000]: Train loss: 1.4814, Valid loss: 0.9770\n"
     ]
    },
    {
     "name": "stderr",
     "output_type": "stream",
     "text": [
      "Epoch [1238/5000]: 100%|██████████| 9/9 [00:00<00:00, 365.56it/s, loss=1.47]\n"
     ]
    },
    {
     "name": "stdout",
     "output_type": "stream",
     "text": [
      "Epoch [1238/5000]: Train loss: 1.4911, Valid loss: 1.2132\n"
     ]
    },
    {
     "name": "stderr",
     "output_type": "stream",
     "text": [
      "Epoch [1239/5000]: 100%|██████████| 9/9 [00:00<00:00, 351.25it/s, loss=1.44]\n"
     ]
    },
    {
     "name": "stdout",
     "output_type": "stream",
     "text": [
      "Epoch [1239/5000]: Train loss: 1.5237, Valid loss: 1.1074\n"
     ]
    },
    {
     "name": "stderr",
     "output_type": "stream",
     "text": [
      "Epoch [1240/5000]: 100%|██████████| 9/9 [00:00<00:00, 359.19it/s, loss=1.46]\n"
     ]
    },
    {
     "name": "stdout",
     "output_type": "stream",
     "text": [
      "Epoch [1240/5000]: Train loss: 1.4939, Valid loss: 1.0630\n"
     ]
    },
    {
     "name": "stderr",
     "output_type": "stream",
     "text": [
      "Epoch [1241/5000]: 100%|██████████| 9/9 [00:00<00:00, 373.46it/s, loss=1.35]\n"
     ]
    },
    {
     "name": "stdout",
     "output_type": "stream",
     "text": [
      "Epoch [1241/5000]: Train loss: 1.5342, Valid loss: 1.0821\n"
     ]
    },
    {
     "name": "stderr",
     "output_type": "stream",
     "text": [
      "Epoch [1242/5000]: 100%|██████████| 9/9 [00:00<00:00, 397.42it/s, loss=1.76]\n"
     ]
    },
    {
     "name": "stdout",
     "output_type": "stream",
     "text": [
      "Epoch [1242/5000]: Train loss: 1.4436, Valid loss: 1.0570\n"
     ]
    },
    {
     "name": "stderr",
     "output_type": "stream",
     "text": [
      "Epoch [1243/5000]: 100%|██████████| 9/9 [00:00<00:00, 400.61it/s, loss=1.68]\n"
     ]
    },
    {
     "name": "stdout",
     "output_type": "stream",
     "text": [
      "Epoch [1243/5000]: Train loss: 1.5054, Valid loss: 1.1497\n"
     ]
    },
    {
     "name": "stderr",
     "output_type": "stream",
     "text": [
      "Epoch [1244/5000]: 100%|██████████| 9/9 [00:00<00:00, 373.68it/s, loss=1.41]\n"
     ]
    },
    {
     "name": "stdout",
     "output_type": "stream",
     "text": [
      "Epoch [1244/5000]: Train loss: 1.4704, Valid loss: 1.0608\n"
     ]
    },
    {
     "name": "stderr",
     "output_type": "stream",
     "text": [
      "Epoch [1245/5000]: 100%|██████████| 9/9 [00:00<00:00, 401.91it/s, loss=1.32]\n"
     ]
    },
    {
     "name": "stdout",
     "output_type": "stream",
     "text": [
      "Epoch [1245/5000]: Train loss: 1.4758, Valid loss: 1.0946\n"
     ]
    },
    {
     "name": "stderr",
     "output_type": "stream",
     "text": [
      "Epoch [1246/5000]: 100%|██████████| 9/9 [00:00<00:00, 439.01it/s, loss=1.42]\n"
     ]
    },
    {
     "name": "stdout",
     "output_type": "stream",
     "text": [
      "Epoch [1246/5000]: Train loss: 1.4760, Valid loss: 1.1751\n"
     ]
    },
    {
     "name": "stderr",
     "output_type": "stream",
     "text": [
      "Epoch [1247/5000]: 100%|██████████| 9/9 [00:00<00:00, 424.31it/s, loss=1.63]\n"
     ]
    },
    {
     "name": "stdout",
     "output_type": "stream",
     "text": [
      "Epoch [1247/5000]: Train loss: 1.5144, Valid loss: 1.0759\n"
     ]
    },
    {
     "name": "stderr",
     "output_type": "stream",
     "text": [
      "Epoch [1248/5000]: 100%|██████████| 9/9 [00:00<00:00, 406.80it/s, loss=2.12]\n"
     ]
    },
    {
     "name": "stdout",
     "output_type": "stream",
     "text": [
      "Epoch [1248/5000]: Train loss: 1.5314, Valid loss: 1.0228\n"
     ]
    },
    {
     "name": "stderr",
     "output_type": "stream",
     "text": [
      "Epoch [1249/5000]: 100%|██████████| 9/9 [00:00<00:00, 433.34it/s, loss=1.7]\n"
     ]
    },
    {
     "name": "stdout",
     "output_type": "stream",
     "text": [
      "Epoch [1249/5000]: Train loss: 1.5199, Valid loss: 1.0697\n"
     ]
    },
    {
     "name": "stderr",
     "output_type": "stream",
     "text": [
      "Epoch [1250/5000]: 100%|██████████| 9/9 [00:00<00:00, 445.78it/s, loss=1.5]\n"
     ]
    },
    {
     "name": "stdout",
     "output_type": "stream",
     "text": [
      "Epoch [1250/5000]: Train loss: 1.4758, Valid loss: 1.0796\n"
     ]
    },
    {
     "name": "stderr",
     "output_type": "stream",
     "text": [
      "Epoch [1251/5000]: 100%|██████████| 9/9 [00:00<00:00, 431.20it/s, loss=1.41]\n"
     ]
    },
    {
     "name": "stdout",
     "output_type": "stream",
     "text": [
      "Epoch [1251/5000]: Train loss: 1.4400, Valid loss: 1.0860\n"
     ]
    },
    {
     "name": "stderr",
     "output_type": "stream",
     "text": [
      "Epoch [1252/5000]: 100%|██████████| 9/9 [00:00<00:00, 389.43it/s, loss=1.83]\n"
     ]
    },
    {
     "name": "stdout",
     "output_type": "stream",
     "text": [
      "Epoch [1252/5000]: Train loss: 1.5484, Valid loss: 1.0794\n"
     ]
    },
    {
     "name": "stderr",
     "output_type": "stream",
     "text": [
      "Epoch [1253/5000]: 100%|██████████| 9/9 [00:00<00:00, 412.69it/s, loss=1.55]\n"
     ]
    },
    {
     "name": "stdout",
     "output_type": "stream",
     "text": [
      "Epoch [1253/5000]: Train loss: 1.4718, Valid loss: 1.1947\n"
     ]
    },
    {
     "name": "stderr",
     "output_type": "stream",
     "text": [
      "Epoch [1254/5000]: 100%|██████████| 9/9 [00:00<00:00, 400.32it/s, loss=1.43]\n"
     ]
    },
    {
     "name": "stdout",
     "output_type": "stream",
     "text": [
      "Epoch [1254/5000]: Train loss: 1.4108, Valid loss: 1.0268\n"
     ]
    },
    {
     "name": "stderr",
     "output_type": "stream",
     "text": [
      "Epoch [1255/5000]: 100%|██████████| 9/9 [00:00<00:00, 404.13it/s, loss=1.4]\n"
     ]
    },
    {
     "name": "stdout",
     "output_type": "stream",
     "text": [
      "Epoch [1255/5000]: Train loss: 1.4434, Valid loss: 1.0590\n"
     ]
    },
    {
     "name": "stderr",
     "output_type": "stream",
     "text": [
      "Epoch [1256/5000]: 100%|██████████| 9/9 [00:00<00:00, 418.90it/s, loss=1.49]\n"
     ]
    },
    {
     "name": "stdout",
     "output_type": "stream",
     "text": [
      "Epoch [1256/5000]: Train loss: 1.4696, Valid loss: 1.1314\n"
     ]
    },
    {
     "name": "stderr",
     "output_type": "stream",
     "text": [
      "Epoch [1257/5000]: 100%|██████████| 9/9 [00:00<00:00, 429.78it/s, loss=1.83]\n"
     ]
    },
    {
     "name": "stdout",
     "output_type": "stream",
     "text": [
      "Epoch [1257/5000]: Train loss: 1.5900, Valid loss: 1.0775\n"
     ]
    },
    {
     "name": "stderr",
     "output_type": "stream",
     "text": [
      "Epoch [1258/5000]: 100%|██████████| 9/9 [00:00<00:00, 431.60it/s, loss=1.5]\n"
     ]
    },
    {
     "name": "stdout",
     "output_type": "stream",
     "text": [
      "Epoch [1258/5000]: Train loss: 1.4812, Valid loss: 1.1730\n"
     ]
    },
    {
     "name": "stderr",
     "output_type": "stream",
     "text": [
      "Epoch [1259/5000]: 100%|██████████| 9/9 [00:00<00:00, 414.40it/s, loss=1.26]\n"
     ]
    },
    {
     "name": "stdout",
     "output_type": "stream",
     "text": [
      "Epoch [1259/5000]: Train loss: 1.4805, Valid loss: 1.0948\n"
     ]
    },
    {
     "name": "stderr",
     "output_type": "stream",
     "text": [
      "Epoch [1260/5000]: 100%|██████████| 9/9 [00:00<00:00, 392.33it/s, loss=1.59]\n"
     ]
    },
    {
     "name": "stdout",
     "output_type": "stream",
     "text": [
      "Epoch [1260/5000]: Train loss: 1.5284, Valid loss: 1.1869\n"
     ]
    },
    {
     "name": "stderr",
     "output_type": "stream",
     "text": [
      "Epoch [1261/5000]: 100%|██████████| 9/9 [00:00<00:00, 405.99it/s, loss=1.52]\n"
     ]
    },
    {
     "name": "stdout",
     "output_type": "stream",
     "text": [
      "Epoch [1261/5000]: Train loss: 1.4877, Valid loss: 1.1562\n"
     ]
    },
    {
     "name": "stderr",
     "output_type": "stream",
     "text": [
      "Epoch [1262/5000]: 100%|██████████| 9/9 [00:00<00:00, 351.95it/s, loss=1.17]\n"
     ]
    },
    {
     "name": "stdout",
     "output_type": "stream",
     "text": [
      "Epoch [1262/5000]: Train loss: 1.4605, Valid loss: 0.9830\n"
     ]
    },
    {
     "name": "stderr",
     "output_type": "stream",
     "text": [
      "Epoch [1263/5000]: 100%|██████████| 9/9 [00:00<00:00, 374.47it/s, loss=1.48]\n"
     ]
    },
    {
     "name": "stdout",
     "output_type": "stream",
     "text": [
      "Epoch [1263/5000]: Train loss: 1.4773, Valid loss: 1.0020\n"
     ]
    },
    {
     "name": "stderr",
     "output_type": "stream",
     "text": [
      "Epoch [1264/5000]: 100%|██████████| 9/9 [00:00<00:00, 348.11it/s, loss=1.44]\n"
     ]
    },
    {
     "name": "stdout",
     "output_type": "stream",
     "text": [
      "Epoch [1264/5000]: Train loss: 1.5119, Valid loss: 1.0810\n"
     ]
    },
    {
     "name": "stderr",
     "output_type": "stream",
     "text": [
      "Epoch [1265/5000]: 100%|██████████| 9/9 [00:00<00:00, 346.30it/s, loss=1.69]\n"
     ]
    },
    {
     "name": "stdout",
     "output_type": "stream",
     "text": [
      "Epoch [1265/5000]: Train loss: 1.4632, Valid loss: 1.0017\n"
     ]
    },
    {
     "name": "stderr",
     "output_type": "stream",
     "text": [
      "Epoch [1266/5000]: 100%|██████████| 9/9 [00:00<00:00, 341.43it/s, loss=2.14]\n"
     ]
    },
    {
     "name": "stdout",
     "output_type": "stream",
     "text": [
      "Epoch [1266/5000]: Train loss: 1.5341, Valid loss: 1.0809\n"
     ]
    },
    {
     "name": "stderr",
     "output_type": "stream",
     "text": [
      "Epoch [1267/5000]: 100%|██████████| 9/9 [00:00<00:00, 354.96it/s, loss=1.6]\n"
     ]
    },
    {
     "name": "stdout",
     "output_type": "stream",
     "text": [
      "Epoch [1267/5000]: Train loss: 1.5112, Valid loss: 1.1444\n"
     ]
    },
    {
     "name": "stderr",
     "output_type": "stream",
     "text": [
      "Epoch [1268/5000]: 100%|██████████| 9/9 [00:00<00:00, 378.52it/s, loss=1.62]\n"
     ]
    },
    {
     "name": "stdout",
     "output_type": "stream",
     "text": [
      "Epoch [1268/5000]: Train loss: 1.4559, Valid loss: 1.0595\n"
     ]
    },
    {
     "name": "stderr",
     "output_type": "stream",
     "text": [
      "Epoch [1269/5000]: 100%|██████████| 9/9 [00:00<00:00, 378.20it/s, loss=1.47]\n"
     ]
    },
    {
     "name": "stdout",
     "output_type": "stream",
     "text": [
      "Epoch [1269/5000]: Train loss: 1.4424, Valid loss: 1.0346\n"
     ]
    },
    {
     "name": "stderr",
     "output_type": "stream",
     "text": [
      "Epoch [1270/5000]: 100%|██████████| 9/9 [00:00<00:00, 274.20it/s, loss=1.55]\n"
     ]
    },
    {
     "name": "stdout",
     "output_type": "stream",
     "text": [
      "Epoch [1270/5000]: Train loss: 1.4476, Valid loss: 1.1951\n"
     ]
    },
    {
     "name": "stderr",
     "output_type": "stream",
     "text": [
      "Epoch [1271/5000]: 100%|██████████| 9/9 [00:00<00:00, 374.50it/s, loss=1.51]\n"
     ]
    },
    {
     "name": "stdout",
     "output_type": "stream",
     "text": [
      "Epoch [1271/5000]: Train loss: 1.5171, Valid loss: 1.0461\n"
     ]
    },
    {
     "name": "stderr",
     "output_type": "stream",
     "text": [
      "Epoch [1272/5000]: 100%|██████████| 9/9 [00:00<00:00, 101.05it/s, loss=1.29]\n"
     ]
    },
    {
     "name": "stdout",
     "output_type": "stream",
     "text": [
      "Epoch [1272/5000]: Train loss: 1.5250, Valid loss: 1.0536\n"
     ]
    },
    {
     "name": "stderr",
     "output_type": "stream",
     "text": [
      "Epoch [1273/5000]: 100%|██████████| 9/9 [00:00<00:00, 388.67it/s, loss=1.45]\n"
     ]
    },
    {
     "name": "stdout",
     "output_type": "stream",
     "text": [
      "Epoch [1273/5000]: Train loss: 1.4476, Valid loss: 1.2996\n"
     ]
    },
    {
     "name": "stderr",
     "output_type": "stream",
     "text": [
      "Epoch [1274/5000]: 100%|██████████| 9/9 [00:00<00:00, 399.61it/s, loss=1.37]\n"
     ]
    },
    {
     "name": "stdout",
     "output_type": "stream",
     "text": [
      "Epoch [1274/5000]: Train loss: 1.4765, Valid loss: 1.1071\n"
     ]
    },
    {
     "name": "stderr",
     "output_type": "stream",
     "text": [
      "Epoch [1275/5000]: 100%|██████████| 9/9 [00:00<00:00, 403.97it/s, loss=1.47]\n"
     ]
    },
    {
     "name": "stdout",
     "output_type": "stream",
     "text": [
      "Epoch [1275/5000]: Train loss: 1.4390, Valid loss: 1.0079\n"
     ]
    },
    {
     "name": "stderr",
     "output_type": "stream",
     "text": [
      "Epoch [1276/5000]: 100%|██████████| 9/9 [00:00<00:00, 404.37it/s, loss=1.59]\n"
     ]
    },
    {
     "name": "stdout",
     "output_type": "stream",
     "text": [
      "Epoch [1276/5000]: Train loss: 1.4995, Valid loss: 1.0684\n"
     ]
    },
    {
     "name": "stderr",
     "output_type": "stream",
     "text": [
      "Epoch [1277/5000]: 100%|██████████| 9/9 [00:00<00:00, 384.89it/s, loss=1.49]\n"
     ]
    },
    {
     "name": "stdout",
     "output_type": "stream",
     "text": [
      "Epoch [1277/5000]: Train loss: 1.4741, Valid loss: 1.1333\n"
     ]
    },
    {
     "name": "stderr",
     "output_type": "stream",
     "text": [
      "Epoch [1278/5000]: 100%|██████████| 9/9 [00:00<00:00, 380.26it/s, loss=2.07]\n"
     ]
    },
    {
     "name": "stdout",
     "output_type": "stream",
     "text": [
      "Epoch [1278/5000]: Train loss: 1.5408, Valid loss: 1.1668\n"
     ]
    },
    {
     "name": "stderr",
     "output_type": "stream",
     "text": [
      "Epoch [1279/5000]: 100%|██████████| 9/9 [00:00<00:00, 388.35it/s, loss=1.51]\n"
     ]
    },
    {
     "name": "stdout",
     "output_type": "stream",
     "text": [
      "Epoch [1279/5000]: Train loss: 1.4759, Valid loss: 1.1035\n"
     ]
    },
    {
     "name": "stderr",
     "output_type": "stream",
     "text": [
      "Epoch [1280/5000]: 100%|██████████| 9/9 [00:00<00:00, 380.62it/s, loss=1.68]\n"
     ]
    },
    {
     "name": "stdout",
     "output_type": "stream",
     "text": [
      "Epoch [1280/5000]: Train loss: 1.5101, Valid loss: 1.0824\n"
     ]
    },
    {
     "name": "stderr",
     "output_type": "stream",
     "text": [
      "Epoch [1281/5000]: 100%|██████████| 9/9 [00:00<00:00, 408.79it/s, loss=1.86]\n"
     ]
    },
    {
     "name": "stdout",
     "output_type": "stream",
     "text": [
      "Epoch [1281/5000]: Train loss: 1.5508, Valid loss: 1.0485\n"
     ]
    },
    {
     "name": "stderr",
     "output_type": "stream",
     "text": [
      "Epoch [1282/5000]: 100%|██████████| 9/9 [00:00<00:00, 400.84it/s, loss=1.22]\n"
     ]
    },
    {
     "name": "stdout",
     "output_type": "stream",
     "text": [
      "Epoch [1282/5000]: Train loss: 1.4888, Valid loss: 1.1214\n"
     ]
    },
    {
     "name": "stderr",
     "output_type": "stream",
     "text": [
      "Epoch [1283/5000]: 100%|██████████| 9/9 [00:00<00:00, 430.23it/s, loss=1.35]\n"
     ]
    },
    {
     "name": "stdout",
     "output_type": "stream",
     "text": [
      "Epoch [1283/5000]: Train loss: 1.4673, Valid loss: 1.1440\n"
     ]
    },
    {
     "name": "stderr",
     "output_type": "stream",
     "text": [
      "Epoch [1284/5000]: 100%|██████████| 9/9 [00:00<00:00, 412.75it/s, loss=1.41]\n"
     ]
    },
    {
     "name": "stdout",
     "output_type": "stream",
     "text": [
      "Epoch [1284/5000]: Train loss: 1.4270, Valid loss: 1.1095\n"
     ]
    },
    {
     "name": "stderr",
     "output_type": "stream",
     "text": [
      "Epoch [1285/5000]: 100%|██████████| 9/9 [00:00<00:00, 369.25it/s, loss=1.32]\n"
     ]
    },
    {
     "name": "stdout",
     "output_type": "stream",
     "text": [
      "Epoch [1285/5000]: Train loss: 1.4566, Valid loss: 1.1849\n"
     ]
    },
    {
     "name": "stderr",
     "output_type": "stream",
     "text": [
      "Epoch [1286/5000]: 100%|██████████| 9/9 [00:00<00:00, 396.63it/s, loss=1.55]\n"
     ]
    },
    {
     "name": "stdout",
     "output_type": "stream",
     "text": [
      "Epoch [1286/5000]: Train loss: 1.4813, Valid loss: 1.0643\n"
     ]
    },
    {
     "name": "stderr",
     "output_type": "stream",
     "text": [
      "Epoch [1287/5000]: 100%|██████████| 9/9 [00:00<00:00, 355.55it/s, loss=2.8]\n"
     ]
    },
    {
     "name": "stdout",
     "output_type": "stream",
     "text": [
      "Epoch [1287/5000]: Train loss: 1.6436, Valid loss: 1.2318\n"
     ]
    },
    {
     "name": "stderr",
     "output_type": "stream",
     "text": [
      "Epoch [1288/5000]: 100%|██████████| 9/9 [00:00<00:00, 382.15it/s, loss=1.51]\n"
     ]
    },
    {
     "name": "stdout",
     "output_type": "stream",
     "text": [
      "Epoch [1288/5000]: Train loss: 1.5565, Valid loss: 1.0628\n"
     ]
    },
    {
     "name": "stderr",
     "output_type": "stream",
     "text": [
      "Epoch [1289/5000]: 100%|██████████| 9/9 [00:00<00:00, 370.37it/s, loss=1.61]\n"
     ]
    },
    {
     "name": "stdout",
     "output_type": "stream",
     "text": [
      "Epoch [1289/5000]: Train loss: 1.5174, Valid loss: 1.1179\n"
     ]
    },
    {
     "name": "stderr",
     "output_type": "stream",
     "text": [
      "Epoch [1290/5000]: 100%|██████████| 9/9 [00:00<00:00, 382.57it/s, loss=1.63]\n"
     ]
    },
    {
     "name": "stdout",
     "output_type": "stream",
     "text": [
      "Epoch [1290/5000]: Train loss: 1.5206, Valid loss: 1.0273\n"
     ]
    },
    {
     "name": "stderr",
     "output_type": "stream",
     "text": [
      "Epoch [1291/5000]: 100%|██████████| 9/9 [00:00<00:00, 376.90it/s, loss=1.72]\n"
     ]
    },
    {
     "name": "stdout",
     "output_type": "stream",
     "text": [
      "Epoch [1291/5000]: Train loss: 1.5400, Valid loss: 1.2574\n"
     ]
    },
    {
     "name": "stderr",
     "output_type": "stream",
     "text": [
      "Epoch [1292/5000]: 100%|██████████| 9/9 [00:00<00:00, 343.76it/s, loss=1.65]\n"
     ]
    },
    {
     "name": "stdout",
     "output_type": "stream",
     "text": [
      "Epoch [1292/5000]: Train loss: 1.5463, Valid loss: 1.0889\n"
     ]
    },
    {
     "name": "stderr",
     "output_type": "stream",
     "text": [
      "Epoch [1293/5000]: 100%|██████████| 9/9 [00:00<00:00, 393.29it/s, loss=1.3]\n"
     ]
    },
    {
     "name": "stdout",
     "output_type": "stream",
     "text": [
      "Epoch [1293/5000]: Train loss: 1.5272, Valid loss: 1.0014\n"
     ]
    },
    {
     "name": "stderr",
     "output_type": "stream",
     "text": [
      "Epoch [1294/5000]: 100%|██████████| 9/9 [00:00<00:00, 387.78it/s, loss=1.41]\n"
     ]
    },
    {
     "name": "stdout",
     "output_type": "stream",
     "text": [
      "Epoch [1294/5000]: Train loss: 1.4728, Valid loss: 1.1663\n"
     ]
    },
    {
     "name": "stderr",
     "output_type": "stream",
     "text": [
      "Epoch [1295/5000]: 100%|██████████| 9/9 [00:00<00:00, 408.72it/s, loss=1.86]\n"
     ]
    },
    {
     "name": "stdout",
     "output_type": "stream",
     "text": [
      "Epoch [1295/5000]: Train loss: 1.5200, Valid loss: 1.1377\n"
     ]
    },
    {
     "name": "stderr",
     "output_type": "stream",
     "text": [
      "Epoch [1296/5000]: 100%|██████████| 9/9 [00:00<00:00, 375.47it/s, loss=1.51]\n"
     ]
    },
    {
     "name": "stdout",
     "output_type": "stream",
     "text": [
      "Epoch [1296/5000]: Train loss: 1.5186, Valid loss: 1.1972\n"
     ]
    },
    {
     "name": "stderr",
     "output_type": "stream",
     "text": [
      "Epoch [1297/5000]: 100%|██████████| 9/9 [00:00<00:00, 392.33it/s, loss=1.56]\n"
     ]
    },
    {
     "name": "stdout",
     "output_type": "stream",
     "text": [
      "Epoch [1297/5000]: Train loss: 1.4732, Valid loss: 1.0737\n"
     ]
    },
    {
     "name": "stderr",
     "output_type": "stream",
     "text": [
      "Epoch [1298/5000]: 100%|██████████| 9/9 [00:00<00:00, 402.02it/s, loss=1.3]\n"
     ]
    },
    {
     "name": "stdout",
     "output_type": "stream",
     "text": [
      "Epoch [1298/5000]: Train loss: 1.5159, Valid loss: 1.2201\n"
     ]
    },
    {
     "name": "stderr",
     "output_type": "stream",
     "text": [
      "Epoch [1299/5000]: 100%|██████████| 9/9 [00:00<00:00, 400.07it/s, loss=1.22]\n"
     ]
    },
    {
     "name": "stdout",
     "output_type": "stream",
     "text": [
      "Epoch [1299/5000]: Train loss: 1.4692, Valid loss: 1.2098\n"
     ]
    },
    {
     "name": "stderr",
     "output_type": "stream",
     "text": [
      "Epoch [1300/5000]: 100%|██████████| 9/9 [00:00<00:00, 406.84it/s, loss=1.79]\n"
     ]
    },
    {
     "name": "stdout",
     "output_type": "stream",
     "text": [
      "Epoch [1300/5000]: Train loss: 1.4930, Valid loss: 1.3112\n"
     ]
    },
    {
     "name": "stderr",
     "output_type": "stream",
     "text": [
      "Epoch [1301/5000]: 100%|██████████| 9/9 [00:00<00:00, 409.44it/s, loss=2.24]\n"
     ]
    },
    {
     "name": "stdout",
     "output_type": "stream",
     "text": [
      "Epoch [1301/5000]: Train loss: 1.6144, Valid loss: 1.1104\n"
     ]
    },
    {
     "name": "stderr",
     "output_type": "stream",
     "text": [
      "Epoch [1302/5000]: 100%|██████████| 9/9 [00:00<00:00, 369.54it/s, loss=1.56]\n"
     ]
    },
    {
     "name": "stdout",
     "output_type": "stream",
     "text": [
      "Epoch [1302/5000]: Train loss: 1.5057, Valid loss: 0.9893\n"
     ]
    },
    {
     "name": "stderr",
     "output_type": "stream",
     "text": [
      "Epoch [1303/5000]: 100%|██████████| 9/9 [00:00<00:00, 407.40it/s, loss=1.25]\n"
     ]
    },
    {
     "name": "stdout",
     "output_type": "stream",
     "text": [
      "Epoch [1303/5000]: Train loss: 1.5513, Valid loss: 1.0477\n"
     ]
    },
    {
     "name": "stderr",
     "output_type": "stream",
     "text": [
      "Epoch [1304/5000]: 100%|██████████| 9/9 [00:00<00:00, 404.50it/s, loss=1.35]\n"
     ]
    },
    {
     "name": "stdout",
     "output_type": "stream",
     "text": [
      "Epoch [1304/5000]: Train loss: 1.4979, Valid loss: 1.0964\n"
     ]
    },
    {
     "name": "stderr",
     "output_type": "stream",
     "text": [
      "Epoch [1305/5000]: 100%|██████████| 9/9 [00:00<00:00, 359.63it/s, loss=1.29]\n"
     ]
    },
    {
     "name": "stdout",
     "output_type": "stream",
     "text": [
      "Epoch [1305/5000]: Train loss: 1.4424, Valid loss: 1.0895\n"
     ]
    },
    {
     "name": "stderr",
     "output_type": "stream",
     "text": [
      "Epoch [1306/5000]: 100%|██████████| 9/9 [00:00<00:00, 387.91it/s, loss=1.63]\n"
     ]
    },
    {
     "name": "stdout",
     "output_type": "stream",
     "text": [
      "Epoch [1306/5000]: Train loss: 1.4744, Valid loss: 1.1460\n"
     ]
    },
    {
     "name": "stderr",
     "output_type": "stream",
     "text": [
      "Epoch [1307/5000]: 100%|██████████| 9/9 [00:00<00:00, 368.88it/s, loss=1.52]\n"
     ]
    },
    {
     "name": "stdout",
     "output_type": "stream",
     "text": [
      "Epoch [1307/5000]: Train loss: 1.5006, Valid loss: 1.1105\n"
     ]
    },
    {
     "name": "stderr",
     "output_type": "stream",
     "text": [
      "Epoch [1308/5000]: 100%|██████████| 9/9 [00:00<00:00, 378.60it/s, loss=1.49]\n"
     ]
    },
    {
     "name": "stdout",
     "output_type": "stream",
     "text": [
      "Epoch [1308/5000]: Train loss: 1.4858, Valid loss: 1.0423\n"
     ]
    },
    {
     "name": "stderr",
     "output_type": "stream",
     "text": [
      "Epoch [1309/5000]: 100%|██████████| 9/9 [00:00<00:00, 357.98it/s, loss=1.76]\n"
     ]
    },
    {
     "name": "stdout",
     "output_type": "stream",
     "text": [
      "Epoch [1309/5000]: Train loss: 1.5052, Valid loss: 1.0460\n"
     ]
    },
    {
     "name": "stderr",
     "output_type": "stream",
     "text": [
      "Epoch [1310/5000]: 100%|██████████| 9/9 [00:00<00:00, 380.06it/s, loss=1.56]\n"
     ]
    },
    {
     "name": "stdout",
     "output_type": "stream",
     "text": [
      "Epoch [1310/5000]: Train loss: 1.4592, Valid loss: 1.0618\n"
     ]
    },
    {
     "name": "stderr",
     "output_type": "stream",
     "text": [
      "Epoch [1311/5000]: 100%|██████████| 9/9 [00:00<00:00, 381.91it/s, loss=2]\n"
     ]
    },
    {
     "name": "stdout",
     "output_type": "stream",
     "text": [
      "Epoch [1311/5000]: Train loss: 1.5350, Valid loss: 0.9985\n"
     ]
    },
    {
     "name": "stderr",
     "output_type": "stream",
     "text": [
      "Epoch [1312/5000]: 100%|██████████| 9/9 [00:00<00:00, 386.28it/s, loss=1.64]\n"
     ]
    },
    {
     "name": "stdout",
     "output_type": "stream",
     "text": [
      "Epoch [1312/5000]: Train loss: 1.4753, Valid loss: 1.0669\n"
     ]
    },
    {
     "name": "stderr",
     "output_type": "stream",
     "text": [
      "Epoch [1313/5000]: 100%|██████████| 9/9 [00:00<00:00, 400.20it/s, loss=1.46]\n"
     ]
    },
    {
     "name": "stdout",
     "output_type": "stream",
     "text": [
      "Epoch [1313/5000]: Train loss: 1.4786, Valid loss: 1.0791\n"
     ]
    },
    {
     "name": "stderr",
     "output_type": "stream",
     "text": [
      "Epoch [1314/5000]: 100%|██████████| 9/9 [00:00<00:00, 389.35it/s, loss=1.74]\n"
     ]
    },
    {
     "name": "stdout",
     "output_type": "stream",
     "text": [
      "Epoch [1314/5000]: Train loss: 1.4819, Valid loss: 1.0581\n"
     ]
    },
    {
     "name": "stderr",
     "output_type": "stream",
     "text": [
      "Epoch [1315/5000]: 100%|██████████| 9/9 [00:00<00:00, 417.96it/s, loss=1.89]\n"
     ]
    },
    {
     "name": "stdout",
     "output_type": "stream",
     "text": [
      "Epoch [1315/5000]: Train loss: 1.5083, Valid loss: 1.3010\n"
     ]
    },
    {
     "name": "stderr",
     "output_type": "stream",
     "text": [
      "Epoch [1316/5000]: 100%|██████████| 9/9 [00:00<00:00, 412.22it/s, loss=1.51]\n"
     ]
    },
    {
     "name": "stdout",
     "output_type": "stream",
     "text": [
      "Epoch [1316/5000]: Train loss: 1.4700, Valid loss: 1.0844\n"
     ]
    },
    {
     "name": "stderr",
     "output_type": "stream",
     "text": [
      "Epoch [1317/5000]: 100%|██████████| 9/9 [00:00<00:00, 410.21it/s, loss=1.58]\n"
     ]
    },
    {
     "name": "stdout",
     "output_type": "stream",
     "text": [
      "Epoch [1317/5000]: Train loss: 1.4954, Valid loss: 1.0555\n"
     ]
    },
    {
     "name": "stderr",
     "output_type": "stream",
     "text": [
      "Epoch [1318/5000]: 100%|██████████| 9/9 [00:00<00:00, 398.39it/s, loss=1.38]\n"
     ]
    },
    {
     "name": "stdout",
     "output_type": "stream",
     "text": [
      "Epoch [1318/5000]: Train loss: 1.4921, Valid loss: 1.0493\n"
     ]
    },
    {
     "name": "stderr",
     "output_type": "stream",
     "text": [
      "Epoch [1319/5000]: 100%|██████████| 9/9 [00:00<00:00, 377.90it/s, loss=1.3]\n"
     ]
    },
    {
     "name": "stdout",
     "output_type": "stream",
     "text": [
      "Epoch [1319/5000]: Train loss: 1.4728, Valid loss: 1.0576\n"
     ]
    },
    {
     "name": "stderr",
     "output_type": "stream",
     "text": [
      "Epoch [1320/5000]: 100%|██████████| 9/9 [00:00<00:00, 349.60it/s, loss=1.72]\n"
     ]
    },
    {
     "name": "stdout",
     "output_type": "stream",
     "text": [
      "Epoch [1320/5000]: Train loss: 1.5180, Valid loss: 1.0288\n"
     ]
    },
    {
     "name": "stderr",
     "output_type": "stream",
     "text": [
      "Epoch [1321/5000]: 100%|██████████| 9/9 [00:00<00:00, 347.82it/s, loss=1.4]\n"
     ]
    },
    {
     "name": "stdout",
     "output_type": "stream",
     "text": [
      "Epoch [1321/5000]: Train loss: 1.4264, Valid loss: 1.1467\n"
     ]
    },
    {
     "name": "stderr",
     "output_type": "stream",
     "text": [
      "Epoch [1322/5000]: 100%|██████████| 9/9 [00:00<00:00, 341.61it/s, loss=1.55]\n"
     ]
    },
    {
     "name": "stdout",
     "output_type": "stream",
     "text": [
      "Epoch [1322/5000]: Train loss: 1.5368, Valid loss: 1.0849\n"
     ]
    },
    {
     "name": "stderr",
     "output_type": "stream",
     "text": [
      "Epoch [1323/5000]: 100%|██████████| 9/9 [00:00<00:00, 319.01it/s, loss=1.69]\n"
     ]
    },
    {
     "name": "stdout",
     "output_type": "stream",
     "text": [
      "Epoch [1323/5000]: Train loss: 1.4692, Valid loss: 1.0489\n"
     ]
    },
    {
     "name": "stderr",
     "output_type": "stream",
     "text": [
      "Epoch [1324/5000]: 100%|██████████| 9/9 [00:00<00:00, 343.51it/s, loss=1.44]\n"
     ]
    },
    {
     "name": "stdout",
     "output_type": "stream",
     "text": [
      "Epoch [1324/5000]: Train loss: 1.4834, Valid loss: 1.0290\n"
     ]
    },
    {
     "name": "stderr",
     "output_type": "stream",
     "text": [
      "Epoch [1325/5000]: 100%|██████████| 9/9 [00:00<00:00, 257.33it/s, loss=1.41]\n"
     ]
    },
    {
     "name": "stdout",
     "output_type": "stream",
     "text": [
      "Epoch [1325/5000]: Train loss: 1.5176, Valid loss: 1.1178\n"
     ]
    },
    {
     "name": "stderr",
     "output_type": "stream",
     "text": [
      "Epoch [1326/5000]: 100%|██████████| 9/9 [00:00<00:00, 394.23it/s, loss=1.47]\n"
     ]
    },
    {
     "name": "stdout",
     "output_type": "stream",
     "text": [
      "Epoch [1326/5000]: Train loss: 1.4357, Valid loss: 1.0848\n"
     ]
    },
    {
     "name": "stderr",
     "output_type": "stream",
     "text": [
      "Epoch [1327/5000]: 100%|██████████| 9/9 [00:00<00:00, 363.59it/s, loss=1.52]\n"
     ]
    },
    {
     "name": "stdout",
     "output_type": "stream",
     "text": [
      "Epoch [1327/5000]: Train loss: 1.5151, Valid loss: 1.1840\n"
     ]
    },
    {
     "name": "stderr",
     "output_type": "stream",
     "text": [
      "Epoch [1328/5000]: 100%|██████████| 9/9 [00:00<00:00, 373.71it/s, loss=1.71]\n"
     ]
    },
    {
     "name": "stdout",
     "output_type": "stream",
     "text": [
      "Epoch [1328/5000]: Train loss: 1.5720, Valid loss: 1.1086\n"
     ]
    },
    {
     "name": "stderr",
     "output_type": "stream",
     "text": [
      "Epoch [1329/5000]: 100%|██████████| 9/9 [00:00<00:00, 381.53it/s, loss=1.39]\n"
     ]
    },
    {
     "name": "stdout",
     "output_type": "stream",
     "text": [
      "Epoch [1329/5000]: Train loss: 1.5056, Valid loss: 1.2377\n"
     ]
    },
    {
     "name": "stderr",
     "output_type": "stream",
     "text": [
      "Epoch [1330/5000]: 100%|██████████| 9/9 [00:00<00:00, 393.48it/s, loss=1.82]\n"
     ]
    },
    {
     "name": "stdout",
     "output_type": "stream",
     "text": [
      "Epoch [1330/5000]: Train loss: 1.4854, Valid loss: 1.0248\n"
     ]
    },
    {
     "name": "stderr",
     "output_type": "stream",
     "text": [
      "Epoch [1331/5000]: 100%|██████████| 9/9 [00:00<00:00, 371.98it/s, loss=1.67]\n"
     ]
    },
    {
     "name": "stdout",
     "output_type": "stream",
     "text": [
      "Epoch [1331/5000]: Train loss: 1.4560, Valid loss: 1.0655\n"
     ]
    },
    {
     "name": "stderr",
     "output_type": "stream",
     "text": [
      "Epoch [1332/5000]: 100%|██████████| 9/9 [00:00<00:00, 390.51it/s, loss=1.37]\n"
     ]
    },
    {
     "name": "stdout",
     "output_type": "stream",
     "text": [
      "Epoch [1332/5000]: Train loss: 1.4987, Valid loss: 1.0904\n"
     ]
    },
    {
     "name": "stderr",
     "output_type": "stream",
     "text": [
      "Epoch [1333/5000]: 100%|██████████| 9/9 [00:00<00:00, 385.49it/s, loss=1.38]\n"
     ]
    },
    {
     "name": "stdout",
     "output_type": "stream",
     "text": [
      "Epoch [1333/5000]: Train loss: 1.4908, Valid loss: 1.0840\n"
     ]
    },
    {
     "name": "stderr",
     "output_type": "stream",
     "text": [
      "Epoch [1334/5000]: 100%|██████████| 9/9 [00:00<00:00, 404.04it/s, loss=1.34]\n"
     ]
    },
    {
     "name": "stdout",
     "output_type": "stream",
     "text": [
      "Epoch [1334/5000]: Train loss: 1.4562, Valid loss: 1.0644\n"
     ]
    },
    {
     "name": "stderr",
     "output_type": "stream",
     "text": [
      "Epoch [1335/5000]: 100%|██████████| 9/9 [00:00<00:00, 389.93it/s, loss=1.68]\n"
     ]
    },
    {
     "name": "stdout",
     "output_type": "stream",
     "text": [
      "Epoch [1335/5000]: Train loss: 1.5157, Valid loss: 1.1342\n"
     ]
    },
    {
     "name": "stderr",
     "output_type": "stream",
     "text": [
      "Epoch [1336/5000]: 100%|██████████| 9/9 [00:00<00:00, 383.32it/s, loss=1.64]\n"
     ]
    },
    {
     "name": "stdout",
     "output_type": "stream",
     "text": [
      "Epoch [1336/5000]: Train loss: 1.4646, Valid loss: 1.0414\n"
     ]
    },
    {
     "name": "stderr",
     "output_type": "stream",
     "text": [
      "Epoch [1337/5000]: 100%|██████████| 9/9 [00:00<00:00, 274.30it/s, loss=1.85]\n"
     ]
    },
    {
     "name": "stdout",
     "output_type": "stream",
     "text": [
      "Epoch [1337/5000]: Train loss: 1.5578, Valid loss: 1.1130\n"
     ]
    },
    {
     "name": "stderr",
     "output_type": "stream",
     "text": [
      "Epoch [1338/5000]: 100%|██████████| 9/9 [00:00<00:00, 353.26it/s, loss=1.52]\n"
     ]
    },
    {
     "name": "stdout",
     "output_type": "stream",
     "text": [
      "Epoch [1338/5000]: Train loss: 1.4527, Valid loss: 1.0938\n"
     ]
    },
    {
     "name": "stderr",
     "output_type": "stream",
     "text": [
      "Epoch [1339/5000]: 100%|██████████| 9/9 [00:00<00:00, 355.00it/s, loss=1.71]\n"
     ]
    },
    {
     "name": "stdout",
     "output_type": "stream",
     "text": [
      "Epoch [1339/5000]: Train loss: 1.4834, Valid loss: 1.1214\n"
     ]
    },
    {
     "name": "stderr",
     "output_type": "stream",
     "text": [
      "Epoch [1340/5000]: 100%|██████████| 9/9 [00:00<00:00, 369.39it/s, loss=1.38]\n"
     ]
    },
    {
     "name": "stdout",
     "output_type": "stream",
     "text": [
      "Epoch [1340/5000]: Train loss: 1.4471, Valid loss: 1.0751\n"
     ]
    },
    {
     "name": "stderr",
     "output_type": "stream",
     "text": [
      "Epoch [1341/5000]: 100%|██████████| 9/9 [00:00<00:00, 372.53it/s, loss=2.28]\n"
     ]
    },
    {
     "name": "stdout",
     "output_type": "stream",
     "text": [
      "Epoch [1341/5000]: Train loss: 1.6079, Valid loss: 1.1798\n"
     ]
    },
    {
     "name": "stderr",
     "output_type": "stream",
     "text": [
      "Epoch [1342/5000]: 100%|██████████| 9/9 [00:00<00:00, 388.05it/s, loss=1.3]\n"
     ]
    },
    {
     "name": "stdout",
     "output_type": "stream",
     "text": [
      "Epoch [1342/5000]: Train loss: 1.4713, Valid loss: 1.0033\n"
     ]
    },
    {
     "name": "stderr",
     "output_type": "stream",
     "text": [
      "Epoch [1343/5000]: 100%|██████████| 9/9 [00:00<00:00, 382.08it/s, loss=1.43]\n"
     ]
    },
    {
     "name": "stdout",
     "output_type": "stream",
     "text": [
      "Epoch [1343/5000]: Train loss: 1.4900, Valid loss: 1.0864\n"
     ]
    },
    {
     "name": "stderr",
     "output_type": "stream",
     "text": [
      "Epoch [1344/5000]: 100%|██████████| 9/9 [00:00<00:00, 398.41it/s, loss=1.45]\n"
     ]
    },
    {
     "name": "stdout",
     "output_type": "stream",
     "text": [
      "Epoch [1344/5000]: Train loss: 1.5129, Valid loss: 1.1493\n"
     ]
    },
    {
     "name": "stderr",
     "output_type": "stream",
     "text": [
      "Epoch [1345/5000]: 100%|██████████| 9/9 [00:00<00:00, 395.52it/s, loss=1.69]\n"
     ]
    },
    {
     "name": "stdout",
     "output_type": "stream",
     "text": [
      "Epoch [1345/5000]: Train loss: 1.4701, Valid loss: 1.0377\n"
     ]
    },
    {
     "name": "stderr",
     "output_type": "stream",
     "text": [
      "Epoch [1346/5000]: 100%|██████████| 9/9 [00:00<00:00, 400.53it/s, loss=1.62]\n"
     ]
    },
    {
     "name": "stdout",
     "output_type": "stream",
     "text": [
      "Epoch [1346/5000]: Train loss: 1.5161, Valid loss: 1.0809\n"
     ]
    },
    {
     "name": "stderr",
     "output_type": "stream",
     "text": [
      "Epoch [1347/5000]: 100%|██████████| 9/9 [00:00<00:00, 402.43it/s, loss=1.16]\n"
     ]
    },
    {
     "name": "stdout",
     "output_type": "stream",
     "text": [
      "Epoch [1347/5000]: Train loss: 1.4512, Valid loss: 1.0355\n"
     ]
    },
    {
     "name": "stderr",
     "output_type": "stream",
     "text": [
      "Epoch [1348/5000]: 100%|██████████| 9/9 [00:00<00:00, 400.30it/s, loss=1.45]\n"
     ]
    },
    {
     "name": "stdout",
     "output_type": "stream",
     "text": [
      "Epoch [1348/5000]: Train loss: 1.4693, Valid loss: 1.0534\n"
     ]
    },
    {
     "name": "stderr",
     "output_type": "stream",
     "text": [
      "Epoch [1349/5000]: 100%|██████████| 9/9 [00:00<00:00, 408.80it/s, loss=1.52]\n"
     ]
    },
    {
     "name": "stdout",
     "output_type": "stream",
     "text": [
      "Epoch [1349/5000]: Train loss: 1.3817, Valid loss: 1.0976\n"
     ]
    },
    {
     "name": "stderr",
     "output_type": "stream",
     "text": [
      "Epoch [1350/5000]: 100%|██████████| 9/9 [00:00<00:00, 397.35it/s, loss=1.51]\n"
     ]
    },
    {
     "name": "stdout",
     "output_type": "stream",
     "text": [
      "Epoch [1350/5000]: Train loss: 1.4738, Valid loss: 1.1755\n"
     ]
    },
    {
     "name": "stderr",
     "output_type": "stream",
     "text": [
      "Epoch [1351/5000]: 100%|██████████| 9/9 [00:00<00:00, 385.03it/s, loss=1.46]\n"
     ]
    },
    {
     "name": "stdout",
     "output_type": "stream",
     "text": [
      "Epoch [1351/5000]: Train loss: 1.5044, Valid loss: 1.0701\n"
     ]
    },
    {
     "name": "stderr",
     "output_type": "stream",
     "text": [
      "Epoch [1352/5000]: 100%|██████████| 9/9 [00:00<00:00, 380.39it/s, loss=1.58]\n"
     ]
    },
    {
     "name": "stdout",
     "output_type": "stream",
     "text": [
      "Epoch [1352/5000]: Train loss: 1.4733, Valid loss: 1.1224\n"
     ]
    },
    {
     "name": "stderr",
     "output_type": "stream",
     "text": [
      "Epoch [1353/5000]: 100%|██████████| 9/9 [00:00<00:00, 363.78it/s, loss=1.53]\n"
     ]
    },
    {
     "name": "stdout",
     "output_type": "stream",
     "text": [
      "Epoch [1353/5000]: Train loss: 1.5570, Valid loss: 1.2193\n"
     ]
    },
    {
     "name": "stderr",
     "output_type": "stream",
     "text": [
      "Epoch [1354/5000]: 100%|██████████| 9/9 [00:00<00:00, 374.40it/s, loss=1.53]\n"
     ]
    },
    {
     "name": "stdout",
     "output_type": "stream",
     "text": [
      "Epoch [1354/5000]: Train loss: 1.4715, Valid loss: 1.0428\n"
     ]
    },
    {
     "name": "stderr",
     "output_type": "stream",
     "text": [
      "Epoch [1355/5000]: 100%|██████████| 9/9 [00:00<00:00, 381.10it/s, loss=1.56]\n"
     ]
    },
    {
     "name": "stdout",
     "output_type": "stream",
     "text": [
      "Epoch [1355/5000]: Train loss: 1.4408, Valid loss: 1.0203\n"
     ]
    },
    {
     "name": "stderr",
     "output_type": "stream",
     "text": [
      "Epoch [1356/5000]: 100%|██████████| 9/9 [00:00<00:00, 380.23it/s, loss=1.39]\n"
     ]
    },
    {
     "name": "stdout",
     "output_type": "stream",
     "text": [
      "Epoch [1356/5000]: Train loss: 1.4746, Valid loss: 1.0805\n"
     ]
    },
    {
     "name": "stderr",
     "output_type": "stream",
     "text": [
      "Epoch [1357/5000]: 100%|██████████| 9/9 [00:00<00:00, 394.39it/s, loss=1.76]\n"
     ]
    },
    {
     "name": "stdout",
     "output_type": "stream",
     "text": [
      "Epoch [1357/5000]: Train loss: 1.5296, Valid loss: 1.0701\n"
     ]
    },
    {
     "name": "stderr",
     "output_type": "stream",
     "text": [
      "Epoch [1358/5000]: 100%|██████████| 9/9 [00:00<00:00, 399.91it/s, loss=1.15]\n"
     ]
    },
    {
     "name": "stdout",
     "output_type": "stream",
     "text": [
      "Epoch [1358/5000]: Train loss: 1.5203, Valid loss: 1.0274\n"
     ]
    },
    {
     "name": "stderr",
     "output_type": "stream",
     "text": [
      "Epoch [1359/5000]: 100%|██████████| 9/9 [00:00<00:00, 409.57it/s, loss=1.66]\n"
     ]
    },
    {
     "name": "stdout",
     "output_type": "stream",
     "text": [
      "Epoch [1359/5000]: Train loss: 1.4909, Valid loss: 1.1240\n"
     ]
    },
    {
     "name": "stderr",
     "output_type": "stream",
     "text": [
      "Epoch [1360/5000]: 100%|██████████| 9/9 [00:00<00:00, 418.64it/s, loss=1.54]\n"
     ]
    },
    {
     "name": "stdout",
     "output_type": "stream",
     "text": [
      "Epoch [1360/5000]: Train loss: 1.5226, Valid loss: 1.0711\n"
     ]
    },
    {
     "name": "stderr",
     "output_type": "stream",
     "text": [
      "Epoch [1361/5000]: 100%|██████████| 9/9 [00:00<00:00, 414.37it/s, loss=1.54]\n"
     ]
    },
    {
     "name": "stdout",
     "output_type": "stream",
     "text": [
      "Epoch [1361/5000]: Train loss: 1.5101, Valid loss: 1.0608\n"
     ]
    },
    {
     "name": "stderr",
     "output_type": "stream",
     "text": [
      "Epoch [1362/5000]: 100%|██████████| 9/9 [00:00<00:00, 414.80it/s, loss=1.45]\n"
     ]
    },
    {
     "name": "stdout",
     "output_type": "stream",
     "text": [
      "Epoch [1362/5000]: Train loss: 1.4666, Valid loss: 1.0838\n"
     ]
    },
    {
     "name": "stderr",
     "output_type": "stream",
     "text": [
      "Epoch [1363/5000]: 100%|██████████| 9/9 [00:00<00:00, 398.56it/s, loss=1.33]\n"
     ]
    },
    {
     "name": "stdout",
     "output_type": "stream",
     "text": [
      "Epoch [1363/5000]: Train loss: 1.4841, Valid loss: 1.0137\n"
     ]
    },
    {
     "name": "stderr",
     "output_type": "stream",
     "text": [
      "Epoch [1364/5000]: 100%|██████████| 9/9 [00:00<00:00, 436.61it/s, loss=1.36]\n"
     ]
    },
    {
     "name": "stdout",
     "output_type": "stream",
     "text": [
      "Epoch [1364/5000]: Train loss: 1.4821, Valid loss: 1.0249\n"
     ]
    },
    {
     "name": "stderr",
     "output_type": "stream",
     "text": [
      "Epoch [1365/5000]: 100%|██████████| 9/9 [00:00<00:00, 409.28it/s, loss=1.44]\n"
     ]
    },
    {
     "name": "stdout",
     "output_type": "stream",
     "text": [
      "Epoch [1365/5000]: Train loss: 1.5139, Valid loss: 1.2525\n"
     ]
    },
    {
     "name": "stderr",
     "output_type": "stream",
     "text": [
      "Epoch [1366/5000]: 100%|██████████| 9/9 [00:00<00:00, 407.02it/s, loss=1.73]\n"
     ]
    },
    {
     "name": "stdout",
     "output_type": "stream",
     "text": [
      "Epoch [1366/5000]: Train loss: 1.5026, Valid loss: 1.0216\n"
     ]
    },
    {
     "name": "stderr",
     "output_type": "stream",
     "text": [
      "Epoch [1367/5000]: 100%|██████████| 9/9 [00:00<00:00, 396.95it/s, loss=1.5]\n"
     ]
    },
    {
     "name": "stdout",
     "output_type": "stream",
     "text": [
      "Epoch [1367/5000]: Train loss: 1.4909, Valid loss: 1.1013\n"
     ]
    },
    {
     "name": "stderr",
     "output_type": "stream",
     "text": [
      "Epoch [1368/5000]: 100%|██████████| 9/9 [00:00<00:00, 428.92it/s, loss=1.25]\n"
     ]
    },
    {
     "name": "stdout",
     "output_type": "stream",
     "text": [
      "Epoch [1368/5000]: Train loss: 1.4911, Valid loss: 1.0624\n"
     ]
    },
    {
     "name": "stderr",
     "output_type": "stream",
     "text": [
      "Epoch [1369/5000]: 100%|██████████| 9/9 [00:00<00:00, 426.36it/s, loss=1.33]\n"
     ]
    },
    {
     "name": "stdout",
     "output_type": "stream",
     "text": [
      "Epoch [1369/5000]: Train loss: 1.4404, Valid loss: 1.0503\n"
     ]
    },
    {
     "name": "stderr",
     "output_type": "stream",
     "text": [
      "Epoch [1370/5000]: 100%|██████████| 9/9 [00:00<00:00, 426.62it/s, loss=1.6]\n"
     ]
    },
    {
     "name": "stdout",
     "output_type": "stream",
     "text": [
      "Epoch [1370/5000]: Train loss: 1.4523, Valid loss: 1.0878\n"
     ]
    },
    {
     "name": "stderr",
     "output_type": "stream",
     "text": [
      "Epoch [1371/5000]: 100%|██████████| 9/9 [00:00<00:00, 383.62it/s, loss=1.44]\n"
     ]
    },
    {
     "name": "stdout",
     "output_type": "stream",
     "text": [
      "Epoch [1371/5000]: Train loss: 1.4880, Valid loss: 0.9762\n"
     ]
    },
    {
     "name": "stderr",
     "output_type": "stream",
     "text": [
      "Epoch [1372/5000]: 100%|██████████| 9/9 [00:00<00:00, 400.75it/s, loss=1.41]\n"
     ]
    },
    {
     "name": "stdout",
     "output_type": "stream",
     "text": [
      "Epoch [1372/5000]: Train loss: 1.4961, Valid loss: 1.1057\n"
     ]
    },
    {
     "name": "stderr",
     "output_type": "stream",
     "text": [
      "Epoch [1373/5000]: 100%|██████████| 9/9 [00:00<00:00, 400.12it/s, loss=1.52]\n"
     ]
    },
    {
     "name": "stdout",
     "output_type": "stream",
     "text": [
      "Epoch [1373/5000]: Train loss: 1.4980, Valid loss: 1.0272\n"
     ]
    },
    {
     "name": "stderr",
     "output_type": "stream",
     "text": [
      "Epoch [1374/5000]: 100%|██████████| 9/9 [00:00<00:00, 415.20it/s, loss=1.61]\n"
     ]
    },
    {
     "name": "stdout",
     "output_type": "stream",
     "text": [
      "Epoch [1374/5000]: Train loss: 1.4521, Valid loss: 1.1812\n"
     ]
    },
    {
     "name": "stderr",
     "output_type": "stream",
     "text": [
      "Epoch [1375/5000]: 100%|██████████| 9/9 [00:00<00:00, 390.91it/s, loss=1.4]\n"
     ]
    },
    {
     "name": "stdout",
     "output_type": "stream",
     "text": [
      "Epoch [1375/5000]: Train loss: 1.4548, Valid loss: 1.0916\n"
     ]
    },
    {
     "name": "stderr",
     "output_type": "stream",
     "text": [
      "Epoch [1376/5000]: 100%|██████████| 9/9 [00:00<00:00, 349.41it/s, loss=1.44]\n"
     ]
    },
    {
     "name": "stdout",
     "output_type": "stream",
     "text": [
      "Epoch [1376/5000]: Train loss: 1.4698, Valid loss: 1.0404\n"
     ]
    },
    {
     "name": "stderr",
     "output_type": "stream",
     "text": [
      "Epoch [1377/5000]: 100%|██████████| 9/9 [00:00<00:00, 379.64it/s, loss=1.6]\n"
     ]
    },
    {
     "name": "stdout",
     "output_type": "stream",
     "text": [
      "Epoch [1377/5000]: Train loss: 1.4824, Valid loss: 1.1267\n"
     ]
    },
    {
     "name": "stderr",
     "output_type": "stream",
     "text": [
      "Epoch [1378/5000]: 100%|██████████| 9/9 [00:00<00:00, 289.47it/s, loss=1.38]\n"
     ]
    },
    {
     "name": "stdout",
     "output_type": "stream",
     "text": [
      "Epoch [1378/5000]: Train loss: 1.4874, Valid loss: 1.0930\n"
     ]
    },
    {
     "name": "stderr",
     "output_type": "stream",
     "text": [
      "Epoch [1379/5000]: 100%|██████████| 9/9 [00:00<00:00, 399.32it/s, loss=1.52]\n"
     ]
    },
    {
     "name": "stdout",
     "output_type": "stream",
     "text": [
      "Epoch [1379/5000]: Train loss: 1.4822, Valid loss: 1.0146\n"
     ]
    },
    {
     "name": "stderr",
     "output_type": "stream",
     "text": [
      "Epoch [1380/5000]: 100%|██████████| 9/9 [00:00<00:00, 391.15it/s, loss=1.49]\n"
     ]
    },
    {
     "name": "stdout",
     "output_type": "stream",
     "text": [
      "Epoch [1380/5000]: Train loss: 1.5618, Valid loss: 1.1412\n"
     ]
    },
    {
     "name": "stderr",
     "output_type": "stream",
     "text": [
      "Epoch [1381/5000]: 100%|██████████| 9/9 [00:00<00:00, 399.11it/s, loss=1.92]\n"
     ]
    },
    {
     "name": "stdout",
     "output_type": "stream",
     "text": [
      "Epoch [1381/5000]: Train loss: 1.5406, Valid loss: 1.0544\n"
     ]
    },
    {
     "name": "stderr",
     "output_type": "stream",
     "text": [
      "Epoch [1382/5000]: 100%|██████████| 9/9 [00:00<00:00, 393.43it/s, loss=1.5]\n"
     ]
    },
    {
     "name": "stdout",
     "output_type": "stream",
     "text": [
      "Epoch [1382/5000]: Train loss: 1.5307, Valid loss: 1.0694\n"
     ]
    },
    {
     "name": "stderr",
     "output_type": "stream",
     "text": [
      "Epoch [1383/5000]: 100%|██████████| 9/9 [00:00<00:00, 357.24it/s, loss=1.39]\n"
     ]
    },
    {
     "name": "stdout",
     "output_type": "stream",
     "text": [
      "Epoch [1383/5000]: Train loss: 1.4226, Valid loss: 1.0869\n"
     ]
    },
    {
     "name": "stderr",
     "output_type": "stream",
     "text": [
      "Epoch [1384/5000]: 100%|██████████| 9/9 [00:00<00:00, 389.76it/s, loss=1.86]\n"
     ]
    },
    {
     "name": "stdout",
     "output_type": "stream",
     "text": [
      "Epoch [1384/5000]: Train loss: 1.4969, Valid loss: 1.0919\n"
     ]
    },
    {
     "name": "stderr",
     "output_type": "stream",
     "text": [
      "Epoch [1385/5000]: 100%|██████████| 9/9 [00:00<00:00, 412.24it/s, loss=1.47]\n"
     ]
    },
    {
     "name": "stdout",
     "output_type": "stream",
     "text": [
      "Epoch [1385/5000]: Train loss: 1.4665, Valid loss: 1.1225\n"
     ]
    },
    {
     "name": "stderr",
     "output_type": "stream",
     "text": [
      "Epoch [1386/5000]: 100%|██████████| 9/9 [00:00<00:00, 402.09it/s, loss=1.6]\n"
     ]
    },
    {
     "name": "stdout",
     "output_type": "stream",
     "text": [
      "Epoch [1386/5000]: Train loss: 1.5598, Valid loss: 1.1080\n"
     ]
    },
    {
     "name": "stderr",
     "output_type": "stream",
     "text": [
      "Epoch [1387/5000]: 100%|██████████| 9/9 [00:00<00:00, 392.58it/s, loss=1.71]\n"
     ]
    },
    {
     "name": "stdout",
     "output_type": "stream",
     "text": [
      "Epoch [1387/5000]: Train loss: 1.4829, Valid loss: 1.0120\n"
     ]
    },
    {
     "name": "stderr",
     "output_type": "stream",
     "text": [
      "Epoch [1388/5000]: 100%|██████████| 9/9 [00:00<00:00, 396.74it/s, loss=1.43]\n"
     ]
    },
    {
     "name": "stdout",
     "output_type": "stream",
     "text": [
      "Epoch [1388/5000]: Train loss: 1.4400, Valid loss: 1.0699\n"
     ]
    },
    {
     "name": "stderr",
     "output_type": "stream",
     "text": [
      "Epoch [1389/5000]: 100%|██████████| 9/9 [00:00<00:00, 390.41it/s, loss=1.88]\n"
     ]
    },
    {
     "name": "stdout",
     "output_type": "stream",
     "text": [
      "Epoch [1389/5000]: Train loss: 1.5857, Valid loss: 1.1641\n"
     ]
    },
    {
     "name": "stderr",
     "output_type": "stream",
     "text": [
      "Epoch [1390/5000]: 100%|██████████| 9/9 [00:00<00:00, 385.90it/s, loss=1.82]\n"
     ]
    },
    {
     "name": "stdout",
     "output_type": "stream",
     "text": [
      "Epoch [1390/5000]: Train loss: 1.4520, Valid loss: 0.9989\n"
     ]
    },
    {
     "name": "stderr",
     "output_type": "stream",
     "text": [
      "Epoch [1391/5000]: 100%|██████████| 9/9 [00:00<00:00, 362.20it/s, loss=1.34]\n"
     ]
    },
    {
     "name": "stdout",
     "output_type": "stream",
     "text": [
      "Epoch [1391/5000]: Train loss: 1.4832, Valid loss: 1.0509\n"
     ]
    },
    {
     "name": "stderr",
     "output_type": "stream",
     "text": [
      "Epoch [1392/5000]: 100%|██████████| 9/9 [00:00<00:00, 360.62it/s, loss=1.51]\n"
     ]
    },
    {
     "name": "stdout",
     "output_type": "stream",
     "text": [
      "Epoch [1392/5000]: Train loss: 1.5731, Valid loss: 1.1637\n"
     ]
    },
    {
     "name": "stderr",
     "output_type": "stream",
     "text": [
      "Epoch [1393/5000]: 100%|██████████| 9/9 [00:00<00:00, 358.82it/s, loss=1.43]\n"
     ]
    },
    {
     "name": "stdout",
     "output_type": "stream",
     "text": [
      "Epoch [1393/5000]: Train loss: 1.5034, Valid loss: 1.0838\n"
     ]
    },
    {
     "name": "stderr",
     "output_type": "stream",
     "text": [
      "Epoch [1394/5000]: 100%|██████████| 9/9 [00:00<00:00, 370.50it/s, loss=1.65]\n"
     ]
    },
    {
     "name": "stdout",
     "output_type": "stream",
     "text": [
      "Epoch [1394/5000]: Train loss: 1.5588, Valid loss: 1.0924\n"
     ]
    },
    {
     "name": "stderr",
     "output_type": "stream",
     "text": [
      "Epoch [1395/5000]: 100%|██████████| 9/9 [00:00<00:00, 360.40it/s, loss=1.64]\n"
     ]
    },
    {
     "name": "stdout",
     "output_type": "stream",
     "text": [
      "Epoch [1395/5000]: Train loss: 1.5031, Valid loss: 1.0323\n"
     ]
    },
    {
     "name": "stderr",
     "output_type": "stream",
     "text": [
      "Epoch [1396/5000]: 100%|██████████| 9/9 [00:00<00:00, 355.80it/s, loss=1.4]\n"
     ]
    },
    {
     "name": "stdout",
     "output_type": "stream",
     "text": [
      "Epoch [1396/5000]: Train loss: 1.4747, Valid loss: 1.0111\n"
     ]
    },
    {
     "name": "stderr",
     "output_type": "stream",
     "text": [
      "Epoch [1397/5000]: 100%|██████████| 9/9 [00:00<00:00, 366.64it/s, loss=1.34]\n"
     ]
    },
    {
     "name": "stdout",
     "output_type": "stream",
     "text": [
      "Epoch [1397/5000]: Train loss: 1.5008, Valid loss: 1.1716\n"
     ]
    },
    {
     "name": "stderr",
     "output_type": "stream",
     "text": [
      "Epoch [1398/5000]: 100%|██████████| 9/9 [00:00<00:00, 396.39it/s, loss=1.49]\n"
     ]
    },
    {
     "name": "stdout",
     "output_type": "stream",
     "text": [
      "Epoch [1398/5000]: Train loss: 1.4808, Valid loss: 1.1142\n"
     ]
    },
    {
     "name": "stderr",
     "output_type": "stream",
     "text": [
      "Epoch [1399/5000]: 100%|██████████| 9/9 [00:00<00:00, 433.57it/s, loss=1.61]\n"
     ]
    },
    {
     "name": "stdout",
     "output_type": "stream",
     "text": [
      "Epoch [1399/5000]: Train loss: 1.4765, Valid loss: 1.1514\n"
     ]
    },
    {
     "name": "stderr",
     "output_type": "stream",
     "text": [
      "Epoch [1400/5000]: 100%|██████████| 9/9 [00:00<00:00, 375.72it/s, loss=1.89]\n"
     ]
    },
    {
     "name": "stdout",
     "output_type": "stream",
     "text": [
      "Epoch [1400/5000]: Train loss: 1.4928, Valid loss: 1.1797\n"
     ]
    },
    {
     "name": "stderr",
     "output_type": "stream",
     "text": [
      "Epoch [1401/5000]: 100%|██████████| 9/9 [00:00<00:00, 424.89it/s, loss=1.46]\n"
     ]
    },
    {
     "name": "stdout",
     "output_type": "stream",
     "text": [
      "Epoch [1401/5000]: Train loss: 1.4628, Valid loss: 1.1199\n"
     ]
    },
    {
     "name": "stderr",
     "output_type": "stream",
     "text": [
      "Epoch [1402/5000]: 100%|██████████| 9/9 [00:00<00:00, 374.81it/s, loss=1.78]\n"
     ]
    },
    {
     "name": "stdout",
     "output_type": "stream",
     "text": [
      "Epoch [1402/5000]: Train loss: 1.5540, Valid loss: 1.0197\n"
     ]
    },
    {
     "name": "stderr",
     "output_type": "stream",
     "text": [
      "Epoch [1403/5000]: 100%|██████████| 9/9 [00:00<00:00, 374.75it/s, loss=1.6]\n"
     ]
    },
    {
     "name": "stdout",
     "output_type": "stream",
     "text": [
      "Epoch [1403/5000]: Train loss: 1.5048, Valid loss: 1.0781\n"
     ]
    },
    {
     "name": "stderr",
     "output_type": "stream",
     "text": [
      "Epoch [1404/5000]: 100%|██████████| 9/9 [00:00<00:00, 393.22it/s, loss=1.48]\n"
     ]
    },
    {
     "name": "stdout",
     "output_type": "stream",
     "text": [
      "Epoch [1404/5000]: Train loss: 1.5564, Valid loss: 1.0816\n"
     ]
    },
    {
     "name": "stderr",
     "output_type": "stream",
     "text": [
      "Epoch [1405/5000]: 100%|██████████| 9/9 [00:00<00:00, 394.46it/s, loss=1.86]\n"
     ]
    },
    {
     "name": "stdout",
     "output_type": "stream",
     "text": [
      "Epoch [1405/5000]: Train loss: 1.5197, Valid loss: 1.0184\n"
     ]
    },
    {
     "name": "stderr",
     "output_type": "stream",
     "text": [
      "Epoch [1406/5000]: 100%|██████████| 9/9 [00:00<00:00, 405.97it/s, loss=1.97]\n"
     ]
    },
    {
     "name": "stdout",
     "output_type": "stream",
     "text": [
      "Epoch [1406/5000]: Train loss: 1.5102, Valid loss: 1.0942\n"
     ]
    },
    {
     "name": "stderr",
     "output_type": "stream",
     "text": [
      "Epoch [1407/5000]: 100%|██████████| 9/9 [00:00<00:00, 385.77it/s, loss=1.32]\n"
     ]
    },
    {
     "name": "stdout",
     "output_type": "stream",
     "text": [
      "Epoch [1407/5000]: Train loss: 1.4461, Valid loss: 1.0603\n"
     ]
    },
    {
     "name": "stderr",
     "output_type": "stream",
     "text": [
      "Epoch [1408/5000]: 100%|██████████| 9/9 [00:00<00:00, 413.20it/s, loss=1.56]\n"
     ]
    },
    {
     "name": "stdout",
     "output_type": "stream",
     "text": [
      "Epoch [1408/5000]: Train loss: 1.4686, Valid loss: 1.0280\n"
     ]
    },
    {
     "name": "stderr",
     "output_type": "stream",
     "text": [
      "Epoch [1409/5000]: 100%|██████████| 9/9 [00:00<00:00, 376.76it/s, loss=1.66]\n"
     ]
    },
    {
     "name": "stdout",
     "output_type": "stream",
     "text": [
      "Epoch [1409/5000]: Train loss: 1.4923, Valid loss: 1.0196\n"
     ]
    },
    {
     "name": "stderr",
     "output_type": "stream",
     "text": [
      "Epoch [1410/5000]: 100%|██████████| 9/9 [00:00<00:00, 410.13it/s, loss=1.95]\n"
     ]
    },
    {
     "name": "stdout",
     "output_type": "stream",
     "text": [
      "Epoch [1410/5000]: Train loss: 1.5347, Valid loss: 1.0088\n"
     ]
    },
    {
     "name": "stderr",
     "output_type": "stream",
     "text": [
      "Epoch [1411/5000]: 100%|██████████| 9/9 [00:00<00:00, 404.55it/s, loss=1.51]\n"
     ]
    },
    {
     "name": "stdout",
     "output_type": "stream",
     "text": [
      "Epoch [1411/5000]: Train loss: 1.4633, Valid loss: 1.1371\n"
     ]
    },
    {
     "name": "stderr",
     "output_type": "stream",
     "text": [
      "Epoch [1412/5000]: 100%|██████████| 9/9 [00:00<00:00, 420.21it/s, loss=2.03]\n"
     ]
    },
    {
     "name": "stdout",
     "output_type": "stream",
     "text": [
      "Epoch [1412/5000]: Train loss: 1.5162, Valid loss: 1.0527\n"
     ]
    },
    {
     "name": "stderr",
     "output_type": "stream",
     "text": [
      "Epoch [1413/5000]: 100%|██████████| 9/9 [00:00<00:00, 405.66it/s, loss=1.34]\n"
     ]
    },
    {
     "name": "stdout",
     "output_type": "stream",
     "text": [
      "Epoch [1413/5000]: Train loss: 1.4642, Valid loss: 1.1699\n"
     ]
    },
    {
     "name": "stderr",
     "output_type": "stream",
     "text": [
      "Epoch [1414/5000]: 100%|██████████| 9/9 [00:00<00:00, 399.54it/s, loss=1.74]\n"
     ]
    },
    {
     "name": "stdout",
     "output_type": "stream",
     "text": [
      "Epoch [1414/5000]: Train loss: 1.5462, Valid loss: 1.0608\n"
     ]
    },
    {
     "name": "stderr",
     "output_type": "stream",
     "text": [
      "Epoch [1415/5000]: 100%|██████████| 9/9 [00:00<00:00, 384.85it/s, loss=1.27]\n"
     ]
    },
    {
     "name": "stdout",
     "output_type": "stream",
     "text": [
      "Epoch [1415/5000]: Train loss: 1.4521, Valid loss: 1.0842\n"
     ]
    },
    {
     "name": "stderr",
     "output_type": "stream",
     "text": [
      "Epoch [1416/5000]: 100%|██████████| 9/9 [00:00<00:00, 404.38it/s, loss=1.49]\n"
     ]
    },
    {
     "name": "stdout",
     "output_type": "stream",
     "text": [
      "Epoch [1416/5000]: Train loss: 1.5832, Valid loss: 1.1040\n"
     ]
    },
    {
     "name": "stderr",
     "output_type": "stream",
     "text": [
      "Epoch [1417/5000]: 100%|██████████| 9/9 [00:00<00:00, 389.07it/s, loss=1.19]\n"
     ]
    },
    {
     "name": "stdout",
     "output_type": "stream",
     "text": [
      "Epoch [1417/5000]: Train loss: 1.4622, Valid loss: 1.0701\n"
     ]
    },
    {
     "name": "stderr",
     "output_type": "stream",
     "text": [
      "Epoch [1418/5000]: 100%|██████████| 9/9 [00:00<00:00, 390.05it/s, loss=1.62]\n"
     ]
    },
    {
     "name": "stdout",
     "output_type": "stream",
     "text": [
      "Epoch [1418/5000]: Train loss: 1.4865, Valid loss: 1.0806\n"
     ]
    },
    {
     "name": "stderr",
     "output_type": "stream",
     "text": [
      "Epoch [1419/5000]: 100%|██████████| 9/9 [00:00<00:00, 376.14it/s, loss=2.17]\n"
     ]
    },
    {
     "name": "stdout",
     "output_type": "stream",
     "text": [
      "Epoch [1419/5000]: Train loss: 1.5093, Valid loss: 1.0982\n"
     ]
    },
    {
     "name": "stderr",
     "output_type": "stream",
     "text": [
      "Epoch [1420/5000]: 100%|██████████| 9/9 [00:00<00:00, 363.90it/s, loss=1.49]\n"
     ]
    },
    {
     "name": "stdout",
     "output_type": "stream",
     "text": [
      "Epoch [1420/5000]: Train loss: 1.5587, Valid loss: 1.1130\n"
     ]
    },
    {
     "name": "stderr",
     "output_type": "stream",
     "text": [
      "Epoch [1421/5000]: 100%|██████████| 9/9 [00:00<00:00, 382.59it/s, loss=1.37]\n"
     ]
    },
    {
     "name": "stdout",
     "output_type": "stream",
     "text": [
      "Epoch [1421/5000]: Train loss: 1.4812, Valid loss: 1.1492\n"
     ]
    },
    {
     "name": "stderr",
     "output_type": "stream",
     "text": [
      "Epoch [1422/5000]: 100%|██████████| 9/9 [00:00<00:00, 360.71it/s, loss=1.55]\n"
     ]
    },
    {
     "name": "stdout",
     "output_type": "stream",
     "text": [
      "Epoch [1422/5000]: Train loss: 1.4984, Valid loss: 1.0592\n"
     ]
    },
    {
     "name": "stderr",
     "output_type": "stream",
     "text": [
      "Epoch [1423/5000]: 100%|██████████| 9/9 [00:00<00:00, 366.18it/s, loss=1.79]\n"
     ]
    },
    {
     "name": "stdout",
     "output_type": "stream",
     "text": [
      "Epoch [1423/5000]: Train loss: 1.5463, Valid loss: 1.0805\n"
     ]
    },
    {
     "name": "stderr",
     "output_type": "stream",
     "text": [
      "Epoch [1424/5000]: 100%|██████████| 9/9 [00:00<00:00, 376.14it/s, loss=1.72]\n"
     ]
    },
    {
     "name": "stdout",
     "output_type": "stream",
     "text": [
      "Epoch [1424/5000]: Train loss: 1.4632, Valid loss: 1.1014\n"
     ]
    },
    {
     "name": "stderr",
     "output_type": "stream",
     "text": [
      "Epoch [1425/5000]: 100%|██████████| 9/9 [00:00<00:00, 379.41it/s, loss=1.77]\n"
     ]
    },
    {
     "name": "stdout",
     "output_type": "stream",
     "text": [
      "Epoch [1425/5000]: Train loss: 1.6104, Valid loss: 0.9745\n"
     ]
    },
    {
     "name": "stderr",
     "output_type": "stream",
     "text": [
      "Epoch [1426/5000]: 100%|██████████| 9/9 [00:00<00:00, 366.93it/s, loss=1.32]\n"
     ]
    },
    {
     "name": "stdout",
     "output_type": "stream",
     "text": [
      "Epoch [1426/5000]: Train loss: 1.4879, Valid loss: 1.1103\n"
     ]
    },
    {
     "name": "stderr",
     "output_type": "stream",
     "text": [
      "Epoch [1427/5000]: 100%|██████████| 9/9 [00:00<00:00, 380.84it/s, loss=1.83]\n"
     ]
    },
    {
     "name": "stdout",
     "output_type": "stream",
     "text": [
      "Epoch [1427/5000]: Train loss: 1.5476, Valid loss: 1.0622\n"
     ]
    },
    {
     "name": "stderr",
     "output_type": "stream",
     "text": [
      "Epoch [1428/5000]: 100%|██████████| 9/9 [00:00<00:00, 376.93it/s, loss=1.57]\n"
     ]
    },
    {
     "name": "stdout",
     "output_type": "stream",
     "text": [
      "Epoch [1428/5000]: Train loss: 1.4633, Valid loss: 1.0955\n"
     ]
    },
    {
     "name": "stderr",
     "output_type": "stream",
     "text": [
      "Epoch [1429/5000]: 100%|██████████| 9/9 [00:00<00:00, 377.55it/s, loss=1.46]\n"
     ]
    },
    {
     "name": "stdout",
     "output_type": "stream",
     "text": [
      "Epoch [1429/5000]: Train loss: 1.4661, Valid loss: 1.0941\n"
     ]
    },
    {
     "name": "stderr",
     "output_type": "stream",
     "text": [
      "Epoch [1430/5000]: 100%|██████████| 9/9 [00:00<00:00, 371.89it/s, loss=1.26]\n"
     ]
    },
    {
     "name": "stdout",
     "output_type": "stream",
     "text": [
      "Epoch [1430/5000]: Train loss: 1.4532, Valid loss: 1.1749\n"
     ]
    },
    {
     "name": "stderr",
     "output_type": "stream",
     "text": [
      "Epoch [1431/5000]: 100%|██████████| 9/9 [00:00<00:00, 352.25it/s, loss=1.41]\n"
     ]
    },
    {
     "name": "stdout",
     "output_type": "stream",
     "text": [
      "Epoch [1431/5000]: Train loss: 1.5137, Valid loss: 1.1213\n"
     ]
    },
    {
     "name": "stderr",
     "output_type": "stream",
     "text": [
      "Epoch [1432/5000]: 100%|██████████| 9/9 [00:00<00:00, 337.91it/s, loss=1.36]\n"
     ]
    },
    {
     "name": "stdout",
     "output_type": "stream",
     "text": [
      "Epoch [1432/5000]: Train loss: 1.4511, Valid loss: 1.1162\n"
     ]
    },
    {
     "name": "stderr",
     "output_type": "stream",
     "text": [
      "Epoch [1433/5000]: 100%|██████████| 9/9 [00:00<00:00, 364.68it/s, loss=1.48]\n"
     ]
    },
    {
     "name": "stdout",
     "output_type": "stream",
     "text": [
      "Epoch [1433/5000]: Train loss: 1.4301, Valid loss: 1.0503\n"
     ]
    },
    {
     "name": "stderr",
     "output_type": "stream",
     "text": [
      "Epoch [1434/5000]: 100%|██████████| 9/9 [00:00<00:00, 354.59it/s, loss=1.5]\n"
     ]
    },
    {
     "name": "stdout",
     "output_type": "stream",
     "text": [
      "Epoch [1434/5000]: Train loss: 1.4854, Valid loss: 1.1511\n"
     ]
    },
    {
     "name": "stderr",
     "output_type": "stream",
     "text": [
      "Epoch [1435/5000]: 100%|██████████| 9/9 [00:00<00:00, 373.34it/s, loss=1.75]\n"
     ]
    },
    {
     "name": "stdout",
     "output_type": "stream",
     "text": [
      "Epoch [1435/5000]: Train loss: 1.5283, Valid loss: 1.1084\n"
     ]
    },
    {
     "name": "stderr",
     "output_type": "stream",
     "text": [
      "Epoch [1436/5000]: 100%|██████████| 9/9 [00:00<00:00, 384.85it/s, loss=1.44]\n"
     ]
    },
    {
     "name": "stdout",
     "output_type": "stream",
     "text": [
      "Epoch [1436/5000]: Train loss: 1.4298, Valid loss: 1.0795\n"
     ]
    },
    {
     "name": "stderr",
     "output_type": "stream",
     "text": [
      "Epoch [1437/5000]: 100%|██████████| 9/9 [00:00<00:00, 366.49it/s, loss=1.51]\n"
     ]
    },
    {
     "name": "stdout",
     "output_type": "stream",
     "text": [
      "Epoch [1437/5000]: Train loss: 1.4688, Valid loss: 1.1318\n"
     ]
    },
    {
     "name": "stderr",
     "output_type": "stream",
     "text": [
      "Epoch [1438/5000]: 100%|██████████| 9/9 [00:00<00:00, 377.14it/s, loss=1.37]\n"
     ]
    },
    {
     "name": "stdout",
     "output_type": "stream",
     "text": [
      "Epoch [1438/5000]: Train loss: 1.4506, Valid loss: 1.1403\n"
     ]
    },
    {
     "name": "stderr",
     "output_type": "stream",
     "text": [
      "Epoch [1439/5000]: 100%|██████████| 9/9 [00:00<00:00, 371.97it/s, loss=1.64]\n"
     ]
    },
    {
     "name": "stdout",
     "output_type": "stream",
     "text": [
      "Epoch [1439/5000]: Train loss: 1.5113, Valid loss: 1.0581\n"
     ]
    },
    {
     "name": "stderr",
     "output_type": "stream",
     "text": [
      "Epoch [1440/5000]: 100%|██████████| 9/9 [00:00<00:00, 384.79it/s, loss=1.45]\n"
     ]
    },
    {
     "name": "stdout",
     "output_type": "stream",
     "text": [
      "Epoch [1440/5000]: Train loss: 1.4595, Valid loss: 1.0608\n"
     ]
    },
    {
     "name": "stderr",
     "output_type": "stream",
     "text": [
      "Epoch [1441/5000]: 100%|██████████| 9/9 [00:00<00:00, 268.88it/s, loss=1.32]\n"
     ]
    },
    {
     "name": "stdout",
     "output_type": "stream",
     "text": [
      "Epoch [1441/5000]: Train loss: 1.4457, Valid loss: 1.0621\n"
     ]
    },
    {
     "name": "stderr",
     "output_type": "stream",
     "text": [
      "Epoch [1442/5000]: 100%|██████████| 9/9 [00:00<00:00, 390.22it/s, loss=1.34]\n"
     ]
    },
    {
     "name": "stdout",
     "output_type": "stream",
     "text": [
      "Epoch [1442/5000]: Train loss: 1.4824, Valid loss: 1.1462\n"
     ]
    },
    {
     "name": "stderr",
     "output_type": "stream",
     "text": [
      "Epoch [1443/5000]: 100%|██████████| 9/9 [00:00<00:00, 372.29it/s, loss=2]\n"
     ]
    },
    {
     "name": "stdout",
     "output_type": "stream",
     "text": [
      "Epoch [1443/5000]: Train loss: 1.5256, Valid loss: 1.2151\n"
     ]
    },
    {
     "name": "stderr",
     "output_type": "stream",
     "text": [
      "Epoch [1444/5000]: 100%|██████████| 9/9 [00:00<00:00, 356.70it/s, loss=1.49]\n"
     ]
    },
    {
     "name": "stdout",
     "output_type": "stream",
     "text": [
      "Epoch [1444/5000]: Train loss: 1.4693, Valid loss: 0.9807\n"
     ]
    },
    {
     "name": "stderr",
     "output_type": "stream",
     "text": [
      "Epoch [1445/5000]: 100%|██████████| 9/9 [00:00<00:00, 367.83it/s, loss=1.38]\n"
     ]
    },
    {
     "name": "stdout",
     "output_type": "stream",
     "text": [
      "Epoch [1445/5000]: Train loss: 1.5071, Valid loss: 1.0581\n"
     ]
    },
    {
     "name": "stderr",
     "output_type": "stream",
     "text": [
      "Epoch [1446/5000]: 100%|██████████| 9/9 [00:00<00:00, 364.73it/s, loss=1.62]\n"
     ]
    },
    {
     "name": "stdout",
     "output_type": "stream",
     "text": [
      "Epoch [1446/5000]: Train loss: 1.4345, Valid loss: 1.0900\n"
     ]
    },
    {
     "name": "stderr",
     "output_type": "stream",
     "text": [
      "Epoch [1447/5000]: 100%|██████████| 9/9 [00:00<00:00, 361.35it/s, loss=1.68]\n"
     ]
    },
    {
     "name": "stdout",
     "output_type": "stream",
     "text": [
      "Epoch [1447/5000]: Train loss: 1.4817, Valid loss: 1.1192\n"
     ]
    },
    {
     "name": "stderr",
     "output_type": "stream",
     "text": [
      "Epoch [1448/5000]: 100%|██████████| 9/9 [00:00<00:00, 372.63it/s, loss=1.63]\n"
     ]
    },
    {
     "name": "stdout",
     "output_type": "stream",
     "text": [
      "Epoch [1448/5000]: Train loss: 1.4578, Valid loss: 1.0199\n"
     ]
    },
    {
     "name": "stderr",
     "output_type": "stream",
     "text": [
      "Epoch [1449/5000]: 100%|██████████| 9/9 [00:00<00:00, 359.02it/s, loss=1.85]\n"
     ]
    },
    {
     "name": "stdout",
     "output_type": "stream",
     "text": [
      "Epoch [1449/5000]: Train loss: 1.5051, Valid loss: 1.0256\n"
     ]
    },
    {
     "name": "stderr",
     "output_type": "stream",
     "text": [
      "Epoch [1450/5000]: 100%|██████████| 9/9 [00:00<00:00, 388.20it/s, loss=1.54]\n"
     ]
    },
    {
     "name": "stdout",
     "output_type": "stream",
     "text": [
      "Epoch [1450/5000]: Train loss: 1.5147, Valid loss: 1.1122\n"
     ]
    },
    {
     "name": "stderr",
     "output_type": "stream",
     "text": [
      "Epoch [1451/5000]: 100%|██████████| 9/9 [00:00<00:00, 380.38it/s, loss=1.74]\n"
     ]
    },
    {
     "name": "stdout",
     "output_type": "stream",
     "text": [
      "Epoch [1451/5000]: Train loss: 1.5456, Valid loss: 1.0480\n"
     ]
    },
    {
     "name": "stderr",
     "output_type": "stream",
     "text": [
      "Epoch [1452/5000]: 100%|██████████| 9/9 [00:00<00:00, 370.64it/s, loss=1.47]\n"
     ]
    },
    {
     "name": "stdout",
     "output_type": "stream",
     "text": [
      "Epoch [1452/5000]: Train loss: 1.5353, Valid loss: 1.1684\n"
     ]
    },
    {
     "name": "stderr",
     "output_type": "stream",
     "text": [
      "Epoch [1453/5000]: 100%|██████████| 9/9 [00:00<00:00, 375.11it/s, loss=1.36]\n"
     ]
    },
    {
     "name": "stdout",
     "output_type": "stream",
     "text": [
      "Epoch [1453/5000]: Train loss: 1.4474, Valid loss: 1.1325\n"
     ]
    },
    {
     "name": "stderr",
     "output_type": "stream",
     "text": [
      "Epoch [1454/5000]: 100%|██████████| 9/9 [00:00<00:00, 372.25it/s, loss=1.38]\n"
     ]
    },
    {
     "name": "stdout",
     "output_type": "stream",
     "text": [
      "Epoch [1454/5000]: Train loss: 1.4704, Valid loss: 1.1642\n"
     ]
    },
    {
     "name": "stderr",
     "output_type": "stream",
     "text": [
      "Epoch [1455/5000]: 100%|██████████| 9/9 [00:00<00:00, 373.37it/s, loss=1.61]\n"
     ]
    },
    {
     "name": "stdout",
     "output_type": "stream",
     "text": [
      "Epoch [1455/5000]: Train loss: 1.5101, Valid loss: 1.0656\n"
     ]
    },
    {
     "name": "stderr",
     "output_type": "stream",
     "text": [
      "Epoch [1456/5000]: 100%|██████████| 9/9 [00:00<00:00, 392.16it/s, loss=1.78]\n"
     ]
    },
    {
     "name": "stdout",
     "output_type": "stream",
     "text": [
      "Epoch [1456/5000]: Train loss: 1.5175, Valid loss: 1.1919\n"
     ]
    },
    {
     "name": "stderr",
     "output_type": "stream",
     "text": [
      "Epoch [1457/5000]: 100%|██████████| 9/9 [00:00<00:00, 378.74it/s, loss=1.28]\n"
     ]
    },
    {
     "name": "stdout",
     "output_type": "stream",
     "text": [
      "Epoch [1457/5000]: Train loss: 1.4610, Valid loss: 1.0766\n"
     ]
    },
    {
     "name": "stderr",
     "output_type": "stream",
     "text": [
      "Epoch [1458/5000]: 100%|██████████| 9/9 [00:00<00:00, 365.24it/s, loss=1.65]"
     ]
    },
    {
     "name": "stdout",
     "output_type": "stream",
     "text": [
      "Epoch [1458/5000]: Train loss: 1.4755, Valid loss: 1.0417\n"
     ]
    },
    {
     "name": "stderr",
     "output_type": "stream",
     "text": [
      "\n",
      "Epoch [1459/5000]: 100%|██████████| 9/9 [00:00<00:00, 368.97it/s, loss=1.51]\n"
     ]
    },
    {
     "name": "stdout",
     "output_type": "stream",
     "text": [
      "Epoch [1459/5000]: Train loss: 1.4752, Valid loss: 1.0464\n"
     ]
    },
    {
     "name": "stderr",
     "output_type": "stream",
     "text": [
      "Epoch [1460/5000]: 100%|██████████| 9/9 [00:00<00:00, 387.93it/s, loss=1.43]\n"
     ]
    },
    {
     "name": "stdout",
     "output_type": "stream",
     "text": [
      "Epoch [1460/5000]: Train loss: 1.4548, Valid loss: 1.1718\n"
     ]
    },
    {
     "name": "stderr",
     "output_type": "stream",
     "text": [
      "Epoch [1461/5000]: 100%|██████████| 9/9 [00:00<00:00, 368.61it/s, loss=1.47]\n"
     ]
    },
    {
     "name": "stdout",
     "output_type": "stream",
     "text": [
      "Epoch [1461/5000]: Train loss: 1.5482, Valid loss: 1.1987\n"
     ]
    },
    {
     "name": "stderr",
     "output_type": "stream",
     "text": [
      "Epoch [1462/5000]: 100%|██████████| 9/9 [00:00<00:00, 378.76it/s, loss=1.41]\n"
     ]
    },
    {
     "name": "stdout",
     "output_type": "stream",
     "text": [
      "Epoch [1462/5000]: Train loss: 1.4786, Valid loss: 1.0752\n"
     ]
    },
    {
     "name": "stderr",
     "output_type": "stream",
     "text": [
      "Epoch [1463/5000]: 100%|██████████| 9/9 [00:00<00:00, 377.82it/s, loss=1.63]\n"
     ]
    },
    {
     "name": "stdout",
     "output_type": "stream",
     "text": [
      "Epoch [1463/5000]: Train loss: 1.5102, Valid loss: 1.1014\n"
     ]
    },
    {
     "name": "stderr",
     "output_type": "stream",
     "text": [
      "Epoch [1464/5000]: 100%|██████████| 9/9 [00:00<00:00, 396.44it/s, loss=1.44]\n"
     ]
    },
    {
     "name": "stdout",
     "output_type": "stream",
     "text": [
      "Epoch [1464/5000]: Train loss: 1.4823, Valid loss: 1.2058\n"
     ]
    },
    {
     "name": "stderr",
     "output_type": "stream",
     "text": [
      "Epoch [1465/5000]: 100%|██████████| 9/9 [00:00<00:00, 385.23it/s, loss=1.59]\n"
     ]
    },
    {
     "name": "stdout",
     "output_type": "stream",
     "text": [
      "Epoch [1465/5000]: Train loss: 1.4745, Valid loss: 1.1598\n"
     ]
    },
    {
     "name": "stderr",
     "output_type": "stream",
     "text": [
      "Epoch [1466/5000]: 100%|██████████| 9/9 [00:00<00:00, 383.29it/s, loss=1.65]\n"
     ]
    },
    {
     "name": "stdout",
     "output_type": "stream",
     "text": [
      "Epoch [1466/5000]: Train loss: 1.4716, Valid loss: 1.0484\n"
     ]
    },
    {
     "name": "stderr",
     "output_type": "stream",
     "text": [
      "Epoch [1467/5000]: 100%|██████████| 9/9 [00:00<00:00, 406.56it/s, loss=1.53]\n"
     ]
    },
    {
     "name": "stdout",
     "output_type": "stream",
     "text": [
      "Epoch [1467/5000]: Train loss: 1.4739, Valid loss: 1.0760\n"
     ]
    },
    {
     "name": "stderr",
     "output_type": "stream",
     "text": [
      "Epoch [1468/5000]: 100%|██████████| 9/9 [00:00<00:00, 396.96it/s, loss=2.09]\n"
     ]
    },
    {
     "name": "stdout",
     "output_type": "stream",
     "text": [
      "Epoch [1468/5000]: Train loss: 1.5694, Valid loss: 1.1003\n"
     ]
    },
    {
     "name": "stderr",
     "output_type": "stream",
     "text": [
      "Epoch [1469/5000]: 100%|██████████| 9/9 [00:00<00:00, 429.84it/s, loss=1.45]\n"
     ]
    },
    {
     "name": "stdout",
     "output_type": "stream",
     "text": [
      "Epoch [1469/5000]: Train loss: 1.5575, Valid loss: 1.0893\n"
     ]
    },
    {
     "name": "stderr",
     "output_type": "stream",
     "text": [
      "Epoch [1470/5000]: 100%|██████████| 9/9 [00:00<00:00, 376.22it/s, loss=1.26]\n"
     ]
    },
    {
     "name": "stdout",
     "output_type": "stream",
     "text": [
      "Epoch [1470/5000]: Train loss: 1.4545, Valid loss: 1.0372\n"
     ]
    },
    {
     "name": "stderr",
     "output_type": "stream",
     "text": [
      "Epoch [1471/5000]: 100%|██████████| 9/9 [00:00<00:00, 393.67it/s, loss=1.49]\n"
     ]
    },
    {
     "name": "stdout",
     "output_type": "stream",
     "text": [
      "Epoch [1471/5000]: Train loss: 1.5123, Valid loss: 1.0994\n"
     ]
    },
    {
     "name": "stderr",
     "output_type": "stream",
     "text": [
      "Epoch [1472/5000]: 100%|██████████| 9/9 [00:00<00:00, 398.94it/s, loss=1.7]\n"
     ]
    },
    {
     "name": "stdout",
     "output_type": "stream",
     "text": [
      "Epoch [1472/5000]: Train loss: 1.5085, Valid loss: 1.0566\n"
     ]
    },
    {
     "name": "stderr",
     "output_type": "stream",
     "text": [
      "Epoch [1473/5000]: 100%|██████████| 9/9 [00:00<00:00, 411.43it/s, loss=1.44]\n"
     ]
    },
    {
     "name": "stdout",
     "output_type": "stream",
     "text": [
      "Epoch [1473/5000]: Train loss: 1.4830, Valid loss: 1.1479\n"
     ]
    },
    {
     "name": "stderr",
     "output_type": "stream",
     "text": [
      "Epoch [1474/5000]: 100%|██████████| 9/9 [00:00<00:00, 363.52it/s, loss=1.68]\n"
     ]
    },
    {
     "name": "stdout",
     "output_type": "stream",
     "text": [
      "Epoch [1474/5000]: Train loss: 1.5254, Valid loss: 1.1826\n"
     ]
    },
    {
     "name": "stderr",
     "output_type": "stream",
     "text": [
      "Epoch [1475/5000]: 100%|██████████| 9/9 [00:00<00:00, 372.22it/s, loss=1.31]\n"
     ]
    },
    {
     "name": "stdout",
     "output_type": "stream",
     "text": [
      "Epoch [1475/5000]: Train loss: 1.4419, Valid loss: 1.1031\n"
     ]
    },
    {
     "name": "stderr",
     "output_type": "stream",
     "text": [
      "Epoch [1476/5000]: 100%|██████████| 9/9 [00:00<00:00, 371.71it/s, loss=1.67]\n"
     ]
    },
    {
     "name": "stdout",
     "output_type": "stream",
     "text": [
      "Epoch [1476/5000]: Train loss: 1.5119, Valid loss: 1.0639\n"
     ]
    },
    {
     "name": "stderr",
     "output_type": "stream",
     "text": [
      "Epoch [1477/5000]: 100%|██████████| 9/9 [00:00<00:00, 364.58it/s, loss=1.52]\n"
     ]
    },
    {
     "name": "stdout",
     "output_type": "stream",
     "text": [
      "Epoch [1477/5000]: Train loss: 1.4845, Valid loss: 1.1334\n"
     ]
    },
    {
     "name": "stderr",
     "output_type": "stream",
     "text": [
      "Epoch [1478/5000]: 100%|██████████| 9/9 [00:00<00:00, 366.16it/s, loss=1.56]\n"
     ]
    },
    {
     "name": "stdout",
     "output_type": "stream",
     "text": [
      "Epoch [1478/5000]: Train loss: 1.4528, Valid loss: 1.1047\n"
     ]
    },
    {
     "name": "stderr",
     "output_type": "stream",
     "text": [
      "Epoch [1479/5000]: 100%|██████████| 9/9 [00:00<00:00, 344.97it/s, loss=1.45]\n"
     ]
    },
    {
     "name": "stdout",
     "output_type": "stream",
     "text": [
      "Epoch [1479/5000]: Train loss: 1.4516, Valid loss: 1.1026\n"
     ]
    },
    {
     "name": "stderr",
     "output_type": "stream",
     "text": [
      "Epoch [1480/5000]: 100%|██████████| 9/9 [00:00<00:00, 379.00it/s, loss=1.35]\n"
     ]
    },
    {
     "name": "stdout",
     "output_type": "stream",
     "text": [
      "Epoch [1480/5000]: Train loss: 1.4667, Valid loss: 1.0295\n"
     ]
    },
    {
     "name": "stderr",
     "output_type": "stream",
     "text": [
      "Epoch [1481/5000]: 100%|██████████| 9/9 [00:00<00:00, 404.50it/s, loss=1.55]\n"
     ]
    },
    {
     "name": "stdout",
     "output_type": "stream",
     "text": [
      "Epoch [1481/5000]: Train loss: 1.5029, Valid loss: 1.0813\n"
     ]
    },
    {
     "name": "stderr",
     "output_type": "stream",
     "text": [
      "Epoch [1482/5000]: 100%|██████████| 9/9 [00:00<00:00, 407.59it/s, loss=1.54]\n"
     ]
    },
    {
     "name": "stdout",
     "output_type": "stream",
     "text": [
      "Epoch [1482/5000]: Train loss: 1.5206, Valid loss: 1.1176\n"
     ]
    },
    {
     "name": "stderr",
     "output_type": "stream",
     "text": [
      "Epoch [1483/5000]: 100%|██████████| 9/9 [00:00<00:00, 101.77it/s, loss=1.33]\n"
     ]
    },
    {
     "name": "stdout",
     "output_type": "stream",
     "text": [
      "Epoch [1483/5000]: Train loss: 1.4709, Valid loss: 1.0764\n"
     ]
    },
    {
     "name": "stderr",
     "output_type": "stream",
     "text": [
      "Epoch [1484/5000]: 100%|██████████| 9/9 [00:00<00:00, 348.78it/s, loss=1.67]\n"
     ]
    },
    {
     "name": "stdout",
     "output_type": "stream",
     "text": [
      "Epoch [1484/5000]: Train loss: 1.4725, Valid loss: 1.1076\n"
     ]
    },
    {
     "name": "stderr",
     "output_type": "stream",
     "text": [
      "Epoch [1485/5000]: 100%|██████████| 9/9 [00:00<00:00, 343.52it/s, loss=1.28]\n"
     ]
    },
    {
     "name": "stdout",
     "output_type": "stream",
     "text": [
      "Epoch [1485/5000]: Train loss: 1.4435, Valid loss: 1.1461\n"
     ]
    },
    {
     "name": "stderr",
     "output_type": "stream",
     "text": [
      "Epoch [1486/5000]: 100%|██████████| 9/9 [00:00<00:00, 347.82it/s, loss=1.26]\n"
     ]
    },
    {
     "name": "stdout",
     "output_type": "stream",
     "text": [
      "Epoch [1486/5000]: Train loss: 1.4484, Valid loss: 1.1389\n"
     ]
    },
    {
     "name": "stderr",
     "output_type": "stream",
     "text": [
      "Epoch [1487/5000]: 100%|██████████| 9/9 [00:00<00:00, 359.69it/s, loss=1.34]\n"
     ]
    },
    {
     "name": "stdout",
     "output_type": "stream",
     "text": [
      "Epoch [1487/5000]: Train loss: 1.4343, Valid loss: 1.1421\n"
     ]
    },
    {
     "name": "stderr",
     "output_type": "stream",
     "text": [
      "Epoch [1488/5000]: 100%|██████████| 9/9 [00:00<00:00, 368.92it/s, loss=1.71]\n"
     ]
    },
    {
     "name": "stdout",
     "output_type": "stream",
     "text": [
      "Epoch [1488/5000]: Train loss: 1.5840, Valid loss: 0.9575\n"
     ]
    },
    {
     "name": "stderr",
     "output_type": "stream",
     "text": [
      "Epoch [1489/5000]: 100%|██████████| 9/9 [00:00<00:00, 327.02it/s, loss=1.26]\n"
     ]
    },
    {
     "name": "stdout",
     "output_type": "stream",
     "text": [
      "Epoch [1489/5000]: Train loss: 1.4544, Valid loss: 1.0062\n"
     ]
    },
    {
     "name": "stderr",
     "output_type": "stream",
     "text": [
      "Epoch [1490/5000]: 100%|██████████| 9/9 [00:00<00:00, 375.89it/s, loss=1.83]\n"
     ]
    },
    {
     "name": "stdout",
     "output_type": "stream",
     "text": [
      "Epoch [1490/5000]: Train loss: 1.5214, Valid loss: 1.0019\n"
     ]
    },
    {
     "name": "stderr",
     "output_type": "stream",
     "text": [
      "Epoch [1491/5000]: 100%|██████████| 9/9 [00:00<00:00, 359.88it/s, loss=1.61]\n"
     ]
    },
    {
     "name": "stdout",
     "output_type": "stream",
     "text": [
      "Epoch [1491/5000]: Train loss: 1.4835, Valid loss: 1.0656\n"
     ]
    },
    {
     "name": "stderr",
     "output_type": "stream",
     "text": [
      "Epoch [1492/5000]: 100%|██████████| 9/9 [00:00<00:00, 333.50it/s, loss=1.73]\n"
     ]
    },
    {
     "name": "stdout",
     "output_type": "stream",
     "text": [
      "Epoch [1492/5000]: Train loss: 1.4943, Valid loss: 1.0503\n"
     ]
    },
    {
     "name": "stderr",
     "output_type": "stream",
     "text": [
      "Epoch [1493/5000]: 100%|██████████| 9/9 [00:00<00:00, 375.58it/s, loss=1.4]\n"
     ]
    },
    {
     "name": "stdout",
     "output_type": "stream",
     "text": [
      "Epoch [1493/5000]: Train loss: 1.4393, Valid loss: 1.0574\n"
     ]
    },
    {
     "name": "stderr",
     "output_type": "stream",
     "text": [
      "Epoch [1494/5000]: 100%|██████████| 9/9 [00:00<00:00, 388.82it/s, loss=1.47]\n"
     ]
    },
    {
     "name": "stdout",
     "output_type": "stream",
     "text": [
      "Epoch [1494/5000]: Train loss: 1.5047, Valid loss: 1.1899\n"
     ]
    },
    {
     "name": "stderr",
     "output_type": "stream",
     "text": [
      "Epoch [1495/5000]: 100%|██████████| 9/9 [00:00<00:00, 397.79it/s, loss=1.62]\n"
     ]
    },
    {
     "name": "stdout",
     "output_type": "stream",
     "text": [
      "Epoch [1495/5000]: Train loss: 1.4993, Valid loss: 1.2430\n"
     ]
    },
    {
     "name": "stderr",
     "output_type": "stream",
     "text": [
      "Epoch [1496/5000]: 100%|██████████| 9/9 [00:00<00:00, 401.05it/s, loss=1.51]\n"
     ]
    },
    {
     "name": "stdout",
     "output_type": "stream",
     "text": [
      "Epoch [1496/5000]: Train loss: 1.4839, Valid loss: 1.0449\n"
     ]
    },
    {
     "name": "stderr",
     "output_type": "stream",
     "text": [
      "Epoch [1497/5000]: 100%|██████████| 9/9 [00:00<00:00, 405.39it/s, loss=1.76]\n"
     ]
    },
    {
     "name": "stdout",
     "output_type": "stream",
     "text": [
      "Epoch [1497/5000]: Train loss: 1.4911, Valid loss: 0.9821\n"
     ]
    },
    {
     "name": "stderr",
     "output_type": "stream",
     "text": [
      "Epoch [1498/5000]: 100%|██████████| 9/9 [00:00<00:00, 378.27it/s, loss=1.87]\n"
     ]
    },
    {
     "name": "stdout",
     "output_type": "stream",
     "text": [
      "Epoch [1498/5000]: Train loss: 1.5035, Valid loss: 1.2620\n"
     ]
    },
    {
     "name": "stderr",
     "output_type": "stream",
     "text": [
      "Epoch [1499/5000]: 100%|██████████| 9/9 [00:00<00:00, 398.09it/s, loss=1.49]\n"
     ]
    },
    {
     "name": "stdout",
     "output_type": "stream",
     "text": [
      "Epoch [1499/5000]: Train loss: 1.5167, Valid loss: 1.0211\n"
     ]
    },
    {
     "name": "stderr",
     "output_type": "stream",
     "text": [
      "Epoch [1500/5000]: 100%|██████████| 9/9 [00:00<00:00, 403.73it/s, loss=1.54]\n"
     ]
    },
    {
     "name": "stdout",
     "output_type": "stream",
     "text": [
      "Epoch [1500/5000]: Train loss: 1.5410, Valid loss: 0.9393\n",
      "Saving model with loss 0.939...\n"
     ]
    },
    {
     "name": "stderr",
     "output_type": "stream",
     "text": [
      "Epoch [1501/5000]: 100%|██████████| 9/9 [00:00<00:00, 387.23it/s, loss=1.82]\n"
     ]
    },
    {
     "name": "stdout",
     "output_type": "stream",
     "text": [
      "Epoch [1501/5000]: Train loss: 1.5456, Valid loss: 1.1116\n"
     ]
    },
    {
     "name": "stderr",
     "output_type": "stream",
     "text": [
      "Epoch [1502/5000]: 100%|██████████| 9/9 [00:00<00:00, 385.95it/s, loss=1.31]\n"
     ]
    },
    {
     "name": "stdout",
     "output_type": "stream",
     "text": [
      "Epoch [1502/5000]: Train loss: 1.4939, Valid loss: 1.0316\n"
     ]
    },
    {
     "name": "stderr",
     "output_type": "stream",
     "text": [
      "Epoch [1503/5000]: 100%|██████████| 9/9 [00:00<00:00, 387.28it/s, loss=1.6]\n"
     ]
    },
    {
     "name": "stdout",
     "output_type": "stream",
     "text": [
      "Epoch [1503/5000]: Train loss: 1.5123, Valid loss: 1.1099\n"
     ]
    },
    {
     "name": "stderr",
     "output_type": "stream",
     "text": [
      "Epoch [1504/5000]: 100%|██████████| 9/9 [00:00<00:00, 330.32it/s, loss=1.64]\n"
     ]
    },
    {
     "name": "stdout",
     "output_type": "stream",
     "text": [
      "Epoch [1504/5000]: Train loss: 1.4924, Valid loss: 1.1091\n"
     ]
    },
    {
     "name": "stderr",
     "output_type": "stream",
     "text": [
      "Epoch [1505/5000]: 100%|██████████| 9/9 [00:00<00:00, 366.08it/s, loss=1.25]\n"
     ]
    },
    {
     "name": "stdout",
     "output_type": "stream",
     "text": [
      "Epoch [1505/5000]: Train loss: 1.4104, Valid loss: 1.0810\n"
     ]
    },
    {
     "name": "stderr",
     "output_type": "stream",
     "text": [
      "Epoch [1506/5000]: 100%|██████████| 9/9 [00:00<00:00, 388.84it/s, loss=1.52]\n"
     ]
    },
    {
     "name": "stdout",
     "output_type": "stream",
     "text": [
      "Epoch [1506/5000]: Train loss: 1.3848, Valid loss: 1.2026\n"
     ]
    },
    {
     "name": "stderr",
     "output_type": "stream",
     "text": [
      "Epoch [1507/5000]: 100%|██████████| 9/9 [00:00<00:00, 373.08it/s, loss=1.51]\n"
     ]
    },
    {
     "name": "stdout",
     "output_type": "stream",
     "text": [
      "Epoch [1507/5000]: Train loss: 1.4047, Valid loss: 0.9868\n"
     ]
    },
    {
     "name": "stderr",
     "output_type": "stream",
     "text": [
      "Epoch [1508/5000]: 100%|██████████| 9/9 [00:00<00:00, 407.92it/s, loss=1.5]"
     ]
    },
    {
     "name": "stdout",
     "output_type": "stream",
     "text": [
      "Epoch [1508/5000]: Train loss: 1.5525, Valid loss: 1.0633\n"
     ]
    },
    {
     "name": "stderr",
     "output_type": "stream",
     "text": [
      "\n",
      "Epoch [1509/5000]: 100%|██████████| 9/9 [00:00<00:00, 376.05it/s, loss=1.82]\n"
     ]
    },
    {
     "name": "stdout",
     "output_type": "stream",
     "text": [
      "Epoch [1509/5000]: Train loss: 1.5300, Valid loss: 1.2736\n"
     ]
    },
    {
     "name": "stderr",
     "output_type": "stream",
     "text": [
      "Epoch [1510/5000]: 100%|██████████| 9/9 [00:00<00:00, 372.27it/s, loss=1.36]\n"
     ]
    },
    {
     "name": "stdout",
     "output_type": "stream",
     "text": [
      "Epoch [1510/5000]: Train loss: 1.4667, Valid loss: 1.0791\n"
     ]
    },
    {
     "name": "stderr",
     "output_type": "stream",
     "text": [
      "Epoch [1511/5000]: 100%|██████████| 9/9 [00:00<00:00, 372.35it/s, loss=1.16]\n"
     ]
    },
    {
     "name": "stdout",
     "output_type": "stream",
     "text": [
      "Epoch [1511/5000]: Train loss: 1.4213, Valid loss: 1.0596\n"
     ]
    },
    {
     "name": "stderr",
     "output_type": "stream",
     "text": [
      "Epoch [1512/5000]: 100%|██████████| 9/9 [00:00<00:00, 383.66it/s, loss=1.43]\n"
     ]
    },
    {
     "name": "stdout",
     "output_type": "stream",
     "text": [
      "Epoch [1512/5000]: Train loss: 1.4097, Valid loss: 1.2163\n"
     ]
    },
    {
     "name": "stderr",
     "output_type": "stream",
     "text": [
      "Epoch [1513/5000]: 100%|██████████| 9/9 [00:00<00:00, 395.83it/s, loss=1.36]\n"
     ]
    },
    {
     "name": "stdout",
     "output_type": "stream",
     "text": [
      "Epoch [1513/5000]: Train loss: 1.4584, Valid loss: 1.0003\n"
     ]
    },
    {
     "name": "stderr",
     "output_type": "stream",
     "text": [
      "Epoch [1514/5000]: 100%|██████████| 9/9 [00:00<00:00, 431.22it/s, loss=1.42]\n"
     ]
    },
    {
     "name": "stdout",
     "output_type": "stream",
     "text": [
      "Epoch [1514/5000]: Train loss: 1.4596, Valid loss: 1.1141\n"
     ]
    },
    {
     "name": "stderr",
     "output_type": "stream",
     "text": [
      "Epoch [1515/5000]: 100%|██████████| 9/9 [00:00<00:00, 416.11it/s, loss=1.63]\n"
     ]
    },
    {
     "name": "stdout",
     "output_type": "stream",
     "text": [
      "Epoch [1515/5000]: Train loss: 1.4618, Valid loss: 1.1216\n"
     ]
    },
    {
     "name": "stderr",
     "output_type": "stream",
     "text": [
      "Epoch [1516/5000]: 100%|██████████| 9/9 [00:00<00:00, 411.60it/s, loss=1.42]\n"
     ]
    },
    {
     "name": "stdout",
     "output_type": "stream",
     "text": [
      "Epoch [1516/5000]: Train loss: 1.4769, Valid loss: 0.9671\n"
     ]
    },
    {
     "name": "stderr",
     "output_type": "stream",
     "text": [
      "Epoch [1517/5000]: 100%|██████████| 9/9 [00:00<00:00, 431.25it/s, loss=1.61]\n"
     ]
    },
    {
     "name": "stdout",
     "output_type": "stream",
     "text": [
      "Epoch [1517/5000]: Train loss: 1.5054, Valid loss: 1.0924\n"
     ]
    },
    {
     "name": "stderr",
     "output_type": "stream",
     "text": [
      "Epoch [1518/5000]: 100%|██████████| 9/9 [00:00<00:00, 413.18it/s, loss=1.4]\n"
     ]
    },
    {
     "name": "stdout",
     "output_type": "stream",
     "text": [
      "Epoch [1518/5000]: Train loss: 1.4585, Valid loss: 1.1709\n"
     ]
    },
    {
     "name": "stderr",
     "output_type": "stream",
     "text": [
      "Epoch [1519/5000]: 100%|██████████| 9/9 [00:00<00:00, 410.39it/s, loss=1.48]\n"
     ]
    },
    {
     "name": "stdout",
     "output_type": "stream",
     "text": [
      "Epoch [1519/5000]: Train loss: 1.4431, Valid loss: 1.1607\n"
     ]
    },
    {
     "name": "stderr",
     "output_type": "stream",
     "text": [
      "Epoch [1520/5000]: 100%|██████████| 9/9 [00:00<00:00, 399.91it/s, loss=1.32]\n"
     ]
    },
    {
     "name": "stdout",
     "output_type": "stream",
     "text": [
      "Epoch [1520/5000]: Train loss: 1.4458, Valid loss: 1.0294\n"
     ]
    },
    {
     "name": "stderr",
     "output_type": "stream",
     "text": [
      "Epoch [1521/5000]: 100%|██████████| 9/9 [00:00<00:00, 392.19it/s, loss=1.47]\n"
     ]
    },
    {
     "name": "stdout",
     "output_type": "stream",
     "text": [
      "Epoch [1521/5000]: Train loss: 1.4450, Valid loss: 1.1727\n"
     ]
    },
    {
     "name": "stderr",
     "output_type": "stream",
     "text": [
      "Epoch [1522/5000]: 100%|██████████| 9/9 [00:00<00:00, 406.39it/s, loss=1.75]\n"
     ]
    },
    {
     "name": "stdout",
     "output_type": "stream",
     "text": [
      "Epoch [1522/5000]: Train loss: 1.4618, Valid loss: 1.1212\n"
     ]
    },
    {
     "name": "stderr",
     "output_type": "stream",
     "text": [
      "Epoch [1523/5000]: 100%|██████████| 9/9 [00:00<00:00, 401.87it/s, loss=1.37]\n"
     ]
    },
    {
     "name": "stdout",
     "output_type": "stream",
     "text": [
      "Epoch [1523/5000]: Train loss: 1.4891, Valid loss: 1.1036\n"
     ]
    },
    {
     "name": "stderr",
     "output_type": "stream",
     "text": [
      "Epoch [1524/5000]: 100%|██████████| 9/9 [00:00<00:00, 394.70it/s, loss=2.01]\n"
     ]
    },
    {
     "name": "stdout",
     "output_type": "stream",
     "text": [
      "Epoch [1524/5000]: Train loss: 1.5472, Valid loss: 0.9980\n"
     ]
    },
    {
     "name": "stderr",
     "output_type": "stream",
     "text": [
      "Epoch [1525/5000]: 100%|██████████| 9/9 [00:00<00:00, 417.71it/s, loss=1.25]\n"
     ]
    },
    {
     "name": "stdout",
     "output_type": "stream",
     "text": [
      "Epoch [1525/5000]: Train loss: 1.3635, Valid loss: 1.0357\n"
     ]
    },
    {
     "name": "stderr",
     "output_type": "stream",
     "text": [
      "Epoch [1526/5000]: 100%|██████████| 9/9 [00:00<00:00, 400.94it/s, loss=1.82]\n"
     ]
    },
    {
     "name": "stdout",
     "output_type": "stream",
     "text": [
      "Epoch [1526/5000]: Train loss: 1.5338, Valid loss: 1.0456\n"
     ]
    },
    {
     "name": "stderr",
     "output_type": "stream",
     "text": [
      "Epoch [1527/5000]: 100%|██████████| 9/9 [00:00<00:00, 404.99it/s, loss=1.34]\n"
     ]
    },
    {
     "name": "stdout",
     "output_type": "stream",
     "text": [
      "Epoch [1527/5000]: Train loss: 1.4407, Valid loss: 1.0753\n"
     ]
    },
    {
     "name": "stderr",
     "output_type": "stream",
     "text": [
      "Epoch [1528/5000]: 100%|██████████| 9/9 [00:00<00:00, 415.53it/s, loss=1.52]\n"
     ]
    },
    {
     "name": "stdout",
     "output_type": "stream",
     "text": [
      "Epoch [1528/5000]: Train loss: 1.4676, Valid loss: 0.9913\n"
     ]
    },
    {
     "name": "stderr",
     "output_type": "stream",
     "text": [
      "Epoch [1529/5000]: 100%|██████████| 9/9 [00:00<00:00, 383.72it/s, loss=1.31]\n"
     ]
    },
    {
     "name": "stdout",
     "output_type": "stream",
     "text": [
      "Epoch [1529/5000]: Train loss: 1.4063, Valid loss: 1.1917\n"
     ]
    },
    {
     "name": "stderr",
     "output_type": "stream",
     "text": [
      "Epoch [1530/5000]: 100%|██████████| 9/9 [00:00<00:00, 372.27it/s, loss=1.29]\n"
     ]
    },
    {
     "name": "stdout",
     "output_type": "stream",
     "text": [
      "Epoch [1530/5000]: Train loss: 1.4306, Valid loss: 1.1139\n"
     ]
    },
    {
     "name": "stderr",
     "output_type": "stream",
     "text": [
      "Epoch [1531/5000]: 100%|██████████| 9/9 [00:00<00:00, 427.59it/s, loss=1.59]\n"
     ]
    },
    {
     "name": "stdout",
     "output_type": "stream",
     "text": [
      "Epoch [1531/5000]: Train loss: 1.4927, Valid loss: 1.1499\n"
     ]
    },
    {
     "name": "stderr",
     "output_type": "stream",
     "text": [
      "Epoch [1532/5000]: 100%|██████████| 9/9 [00:00<00:00, 395.78it/s, loss=1.85]\n"
     ]
    },
    {
     "name": "stdout",
     "output_type": "stream",
     "text": [
      "Epoch [1532/5000]: Train loss: 1.4601, Valid loss: 1.0779\n"
     ]
    },
    {
     "name": "stderr",
     "output_type": "stream",
     "text": [
      "Epoch [1533/5000]: 100%|██████████| 9/9 [00:00<00:00, 429.73it/s, loss=1.7]\n"
     ]
    },
    {
     "name": "stdout",
     "output_type": "stream",
     "text": [
      "Epoch [1533/5000]: Train loss: 1.5388, Valid loss: 1.0539\n"
     ]
    },
    {
     "name": "stderr",
     "output_type": "stream",
     "text": [
      "Epoch [1534/5000]: 100%|██████████| 9/9 [00:00<00:00, 419.97it/s, loss=1.54]\n"
     ]
    },
    {
     "name": "stdout",
     "output_type": "stream",
     "text": [
      "Epoch [1534/5000]: Train loss: 1.4620, Valid loss: 1.1417\n"
     ]
    },
    {
     "name": "stderr",
     "output_type": "stream",
     "text": [
      "Epoch [1535/5000]: 100%|██████████| 9/9 [00:00<00:00, 401.32it/s, loss=1.41]\n"
     ]
    },
    {
     "name": "stdout",
     "output_type": "stream",
     "text": [
      "Epoch [1535/5000]: Train loss: 1.4392, Valid loss: 1.0992\n"
     ]
    },
    {
     "name": "stderr",
     "output_type": "stream",
     "text": [
      "Epoch [1536/5000]: 100%|██████████| 9/9 [00:00<00:00, 422.75it/s, loss=2.09]\n"
     ]
    },
    {
     "name": "stdout",
     "output_type": "stream",
     "text": [
      "Epoch [1536/5000]: Train loss: 1.5115, Valid loss: 1.0571\n"
     ]
    },
    {
     "name": "stderr",
     "output_type": "stream",
     "text": [
      "Epoch [1537/5000]: 100%|██████████| 9/9 [00:00<00:00, 417.57it/s, loss=1.77]\n"
     ]
    },
    {
     "name": "stdout",
     "output_type": "stream",
     "text": [
      "Epoch [1537/5000]: Train loss: 1.4456, Valid loss: 1.0645\n"
     ]
    },
    {
     "name": "stderr",
     "output_type": "stream",
     "text": [
      "Epoch [1538/5000]: 100%|██████████| 9/9 [00:00<00:00, 389.19it/s, loss=1.44]\n"
     ]
    },
    {
     "name": "stdout",
     "output_type": "stream",
     "text": [
      "Epoch [1538/5000]: Train loss: 1.4518, Valid loss: 1.1203\n"
     ]
    },
    {
     "name": "stderr",
     "output_type": "stream",
     "text": [
      "Epoch [1539/5000]: 100%|██████████| 9/9 [00:00<00:00, 343.76it/s, loss=1.45]\n"
     ]
    },
    {
     "name": "stdout",
     "output_type": "stream",
     "text": [
      "Epoch [1539/5000]: Train loss: 1.5097, Valid loss: 1.0827\n"
     ]
    },
    {
     "name": "stderr",
     "output_type": "stream",
     "text": [
      "Epoch [1540/5000]: 100%|██████████| 9/9 [00:00<00:00, 386.72it/s, loss=1.51]\n"
     ]
    },
    {
     "name": "stdout",
     "output_type": "stream",
     "text": [
      "Epoch [1540/5000]: Train loss: 1.4965, Valid loss: 1.1623\n"
     ]
    },
    {
     "name": "stderr",
     "output_type": "stream",
     "text": [
      "Epoch [1541/5000]: 100%|██████████| 9/9 [00:00<00:00, 343.68it/s, loss=1.46]\n"
     ]
    },
    {
     "name": "stdout",
     "output_type": "stream",
     "text": [
      "Epoch [1541/5000]: Train loss: 1.4792, Valid loss: 1.1971\n"
     ]
    },
    {
     "name": "stderr",
     "output_type": "stream",
     "text": [
      "Epoch [1542/5000]: 100%|██████████| 9/9 [00:00<00:00, 346.91it/s, loss=1.72]\n"
     ]
    },
    {
     "name": "stdout",
     "output_type": "stream",
     "text": [
      "Epoch [1542/5000]: Train loss: 1.5325, Valid loss: 1.0162\n"
     ]
    },
    {
     "name": "stderr",
     "output_type": "stream",
     "text": [
      "Epoch [1543/5000]: 100%|██████████| 9/9 [00:00<00:00, 361.87it/s, loss=1.52]\n"
     ]
    },
    {
     "name": "stdout",
     "output_type": "stream",
     "text": [
      "Epoch [1543/5000]: Train loss: 1.4611, Valid loss: 1.1453\n"
     ]
    },
    {
     "name": "stderr",
     "output_type": "stream",
     "text": [
      "Epoch [1544/5000]: 100%|██████████| 9/9 [00:00<00:00, 242.87it/s, loss=1.73]\n"
     ]
    },
    {
     "name": "stdout",
     "output_type": "stream",
     "text": [
      "Epoch [1544/5000]: Train loss: 1.5633, Valid loss: 1.0490\n"
     ]
    },
    {
     "name": "stderr",
     "output_type": "stream",
     "text": [
      "Epoch [1545/5000]: 100%|██████████| 9/9 [00:00<00:00, 375.66it/s, loss=1.74]\n"
     ]
    },
    {
     "name": "stdout",
     "output_type": "stream",
     "text": [
      "Epoch [1545/5000]: Train loss: 1.5639, Valid loss: 1.0043\n"
     ]
    },
    {
     "name": "stderr",
     "output_type": "stream",
     "text": [
      "Epoch [1546/5000]: 100%|██████████| 9/9 [00:00<00:00, 376.44it/s, loss=1.22]\n"
     ]
    },
    {
     "name": "stdout",
     "output_type": "stream",
     "text": [
      "Epoch [1546/5000]: Train loss: 1.4360, Valid loss: 1.1050\n"
     ]
    },
    {
     "name": "stderr",
     "output_type": "stream",
     "text": [
      "Epoch [1547/5000]: 100%|██████████| 9/9 [00:00<00:00, 370.82it/s, loss=1.76]\n"
     ]
    },
    {
     "name": "stdout",
     "output_type": "stream",
     "text": [
      "Epoch [1547/5000]: Train loss: 1.5018, Valid loss: 1.2297\n"
     ]
    },
    {
     "name": "stderr",
     "output_type": "stream",
     "text": [
      "Epoch [1548/5000]: 100%|██████████| 9/9 [00:00<00:00, 383.52it/s, loss=1.87]\n"
     ]
    },
    {
     "name": "stdout",
     "output_type": "stream",
     "text": [
      "Epoch [1548/5000]: Train loss: 1.5469, Valid loss: 0.9810\n"
     ]
    },
    {
     "name": "stderr",
     "output_type": "stream",
     "text": [
      "Epoch [1549/5000]: 100%|██████████| 9/9 [00:00<00:00, 391.28it/s, loss=1.49]\n"
     ]
    },
    {
     "name": "stdout",
     "output_type": "stream",
     "text": [
      "Epoch [1549/5000]: Train loss: 1.4627, Valid loss: 1.0067\n"
     ]
    },
    {
     "name": "stderr",
     "output_type": "stream",
     "text": [
      "Epoch [1550/5000]: 100%|██████████| 9/9 [00:00<00:00, 398.37it/s, loss=1.59]\n"
     ]
    },
    {
     "name": "stdout",
     "output_type": "stream",
     "text": [
      "Epoch [1550/5000]: Train loss: 1.4846, Valid loss: 1.0589\n"
     ]
    },
    {
     "name": "stderr",
     "output_type": "stream",
     "text": [
      "Epoch [1551/5000]: 100%|██████████| 9/9 [00:00<00:00, 403.92it/s, loss=1.5]\n"
     ]
    },
    {
     "name": "stdout",
     "output_type": "stream",
     "text": [
      "Epoch [1551/5000]: Train loss: 1.5530, Valid loss: 1.0464\n"
     ]
    },
    {
     "name": "stderr",
     "output_type": "stream",
     "text": [
      "Epoch [1552/5000]: 100%|██████████| 9/9 [00:00<00:00, 393.38it/s, loss=2.15]\n"
     ]
    },
    {
     "name": "stdout",
     "output_type": "stream",
     "text": [
      "Epoch [1552/5000]: Train loss: 1.5425, Valid loss: 1.0292\n"
     ]
    },
    {
     "name": "stderr",
     "output_type": "stream",
     "text": [
      "Epoch [1553/5000]: 100%|██████████| 9/9 [00:00<00:00, 408.72it/s, loss=1.64]\n"
     ]
    },
    {
     "name": "stdout",
     "output_type": "stream",
     "text": [
      "Epoch [1553/5000]: Train loss: 1.4169, Valid loss: 1.1094\n"
     ]
    },
    {
     "name": "stderr",
     "output_type": "stream",
     "text": [
      "Epoch [1554/5000]: 100%|██████████| 9/9 [00:00<00:00, 391.59it/s, loss=1.59]\n"
     ]
    },
    {
     "name": "stdout",
     "output_type": "stream",
     "text": [
      "Epoch [1554/5000]: Train loss: 1.4579, Valid loss: 1.2105\n"
     ]
    },
    {
     "name": "stderr",
     "output_type": "stream",
     "text": [
      "Epoch [1555/5000]: 100%|██████████| 9/9 [00:00<00:00, 361.98it/s, loss=1.43]\n"
     ]
    },
    {
     "name": "stdout",
     "output_type": "stream",
     "text": [
      "Epoch [1555/5000]: Train loss: 1.4532, Valid loss: 1.0970\n"
     ]
    },
    {
     "name": "stderr",
     "output_type": "stream",
     "text": [
      "Epoch [1556/5000]: 100%|██████████| 9/9 [00:00<00:00, 336.99it/s, loss=1.66]\n"
     ]
    },
    {
     "name": "stdout",
     "output_type": "stream",
     "text": [
      "Epoch [1556/5000]: Train loss: 1.4831, Valid loss: 1.0446\n"
     ]
    },
    {
     "name": "stderr",
     "output_type": "stream",
     "text": [
      "Epoch [1557/5000]: 100%|██████████| 9/9 [00:00<00:00, 370.45it/s, loss=1.71]\n"
     ]
    },
    {
     "name": "stdout",
     "output_type": "stream",
     "text": [
      "Epoch [1557/5000]: Train loss: 1.5820, Valid loss: 1.0261\n"
     ]
    },
    {
     "name": "stderr",
     "output_type": "stream",
     "text": [
      "Epoch [1558/5000]: 100%|██████████| 9/9 [00:00<00:00, 361.44it/s, loss=1.57]\n"
     ]
    },
    {
     "name": "stdout",
     "output_type": "stream",
     "text": [
      "Epoch [1558/5000]: Train loss: 1.4802, Valid loss: 1.1525\n"
     ]
    },
    {
     "name": "stderr",
     "output_type": "stream",
     "text": [
      "Epoch [1559/5000]: 100%|██████████| 9/9 [00:00<00:00, 369.73it/s, loss=1.59]\n"
     ]
    },
    {
     "name": "stdout",
     "output_type": "stream",
     "text": [
      "Epoch [1559/5000]: Train loss: 1.5053, Valid loss: 1.1251\n"
     ]
    },
    {
     "name": "stderr",
     "output_type": "stream",
     "text": [
      "Epoch [1560/5000]: 100%|██████████| 9/9 [00:00<00:00, 381.12it/s, loss=1.56]\n"
     ]
    },
    {
     "name": "stdout",
     "output_type": "stream",
     "text": [
      "Epoch [1560/5000]: Train loss: 1.5163, Valid loss: 1.0425\n"
     ]
    },
    {
     "name": "stderr",
     "output_type": "stream",
     "text": [
      "Epoch [1561/5000]: 100%|██████████| 9/9 [00:00<00:00, 395.31it/s, loss=1.82]\n"
     ]
    },
    {
     "name": "stdout",
     "output_type": "stream",
     "text": [
      "Epoch [1561/5000]: Train loss: 1.5982, Valid loss: 1.1111\n"
     ]
    },
    {
     "name": "stderr",
     "output_type": "stream",
     "text": [
      "Epoch [1562/5000]: 100%|██████████| 9/9 [00:00<00:00, 396.26it/s, loss=1.48]\n"
     ]
    },
    {
     "name": "stdout",
     "output_type": "stream",
     "text": [
      "Epoch [1562/5000]: Train loss: 1.4252, Valid loss: 1.1165\n"
     ]
    },
    {
     "name": "stderr",
     "output_type": "stream",
     "text": [
      "Epoch [1563/5000]: 100%|██████████| 9/9 [00:00<00:00, 391.17it/s, loss=1.53]\n"
     ]
    },
    {
     "name": "stdout",
     "output_type": "stream",
     "text": [
      "Epoch [1563/5000]: Train loss: 1.5113, Valid loss: 0.9703\n"
     ]
    },
    {
     "name": "stderr",
     "output_type": "stream",
     "text": [
      "Epoch [1564/5000]: 100%|██████████| 9/9 [00:00<00:00, 398.03it/s, loss=1.81]\n"
     ]
    },
    {
     "name": "stdout",
     "output_type": "stream",
     "text": [
      "Epoch [1564/5000]: Train loss: 1.5686, Valid loss: 1.0253\n"
     ]
    },
    {
     "name": "stderr",
     "output_type": "stream",
     "text": [
      "Epoch [1565/5000]: 100%|██████████| 9/9 [00:00<00:00, 385.54it/s, loss=1.77]\n"
     ]
    },
    {
     "name": "stdout",
     "output_type": "stream",
     "text": [
      "Epoch [1565/5000]: Train loss: 1.5202, Valid loss: 1.1630\n"
     ]
    },
    {
     "name": "stderr",
     "output_type": "stream",
     "text": [
      "Epoch [1566/5000]: 100%|██████████| 9/9 [00:00<00:00, 384.42it/s, loss=1.29]\n"
     ]
    },
    {
     "name": "stdout",
     "output_type": "stream",
     "text": [
      "Epoch [1566/5000]: Train loss: 1.4380, Valid loss: 1.1929\n"
     ]
    },
    {
     "name": "stderr",
     "output_type": "stream",
     "text": [
      "Epoch [1567/5000]: 100%|██████████| 9/9 [00:00<00:00, 378.34it/s, loss=1.32]\n"
     ]
    },
    {
     "name": "stdout",
     "output_type": "stream",
     "text": [
      "Epoch [1567/5000]: Train loss: 1.4059, Valid loss: 1.1630\n"
     ]
    },
    {
     "name": "stderr",
     "output_type": "stream",
     "text": [
      "Epoch [1568/5000]: 100%|██████████| 9/9 [00:00<00:00, 361.71it/s, loss=1.47]\n"
     ]
    },
    {
     "name": "stdout",
     "output_type": "stream",
     "text": [
      "Epoch [1568/5000]: Train loss: 1.4680, Valid loss: 1.1009\n"
     ]
    },
    {
     "name": "stderr",
     "output_type": "stream",
     "text": [
      "Epoch [1569/5000]: 100%|██████████| 9/9 [00:00<00:00, 333.27it/s, loss=1.65]\n"
     ]
    },
    {
     "name": "stdout",
     "output_type": "stream",
     "text": [
      "Epoch [1569/5000]: Train loss: 1.5435, Valid loss: 1.0951\n"
     ]
    },
    {
     "name": "stderr",
     "output_type": "stream",
     "text": [
      "Epoch [1570/5000]: 100%|██████████| 9/9 [00:00<00:00, 350.55it/s, loss=1.33]\n"
     ]
    },
    {
     "name": "stdout",
     "output_type": "stream",
     "text": [
      "Epoch [1570/5000]: Train loss: 1.4656, Valid loss: 0.9590\n"
     ]
    },
    {
     "name": "stderr",
     "output_type": "stream",
     "text": [
      "Epoch [1571/5000]: 100%|██████████| 9/9 [00:00<00:00, 337.85it/s, loss=1.52]\n"
     ]
    },
    {
     "name": "stdout",
     "output_type": "stream",
     "text": [
      "Epoch [1571/5000]: Train loss: 1.4848, Valid loss: 0.9910\n"
     ]
    },
    {
     "name": "stderr",
     "output_type": "stream",
     "text": [
      "Epoch [1572/5000]: 100%|██████████| 9/9 [00:00<00:00, 332.23it/s, loss=1.41]\n"
     ]
    },
    {
     "name": "stdout",
     "output_type": "stream",
     "text": [
      "Epoch [1572/5000]: Train loss: 1.4172, Valid loss: 1.0861\n"
     ]
    },
    {
     "name": "stderr",
     "output_type": "stream",
     "text": [
      "Epoch [1573/5000]: 100%|██████████| 9/9 [00:00<00:00, 346.30it/s, loss=1.7]\n"
     ]
    },
    {
     "name": "stdout",
     "output_type": "stream",
     "text": [
      "Epoch [1573/5000]: Train loss: 1.4924, Valid loss: 1.1026\n"
     ]
    },
    {
     "name": "stderr",
     "output_type": "stream",
     "text": [
      "Epoch [1574/5000]: 100%|██████████| 9/9 [00:00<00:00, 358.42it/s, loss=1.18]\n"
     ]
    },
    {
     "name": "stdout",
     "output_type": "stream",
     "text": [
      "Epoch [1574/5000]: Train loss: 1.4213, Valid loss: 1.0540\n"
     ]
    },
    {
     "name": "stderr",
     "output_type": "stream",
     "text": [
      "Epoch [1575/5000]: 100%|██████████| 9/9 [00:00<00:00, 383.83it/s, loss=1.54]\n"
     ]
    },
    {
     "name": "stdout",
     "output_type": "stream",
     "text": [
      "Epoch [1575/5000]: Train loss: 1.5087, Valid loss: 1.0119\n"
     ]
    },
    {
     "name": "stderr",
     "output_type": "stream",
     "text": [
      "Epoch [1576/5000]: 100%|██████████| 9/9 [00:00<00:00, 361.11it/s, loss=1.96]\n"
     ]
    },
    {
     "name": "stdout",
     "output_type": "stream",
     "text": [
      "Epoch [1576/5000]: Train loss: 1.5176, Valid loss: 1.0443\n"
     ]
    },
    {
     "name": "stderr",
     "output_type": "stream",
     "text": [
      "Epoch [1577/5000]: 100%|██████████| 9/9 [00:00<00:00, 374.52it/s, loss=1.39]\n"
     ]
    },
    {
     "name": "stdout",
     "output_type": "stream",
     "text": [
      "Epoch [1577/5000]: Train loss: 1.4637, Valid loss: 1.1598\n"
     ]
    },
    {
     "name": "stderr",
     "output_type": "stream",
     "text": [
      "Epoch [1578/5000]: 100%|██████████| 9/9 [00:00<00:00, 365.60it/s, loss=1.64]\n"
     ]
    },
    {
     "name": "stdout",
     "output_type": "stream",
     "text": [
      "Epoch [1578/5000]: Train loss: 1.4691, Valid loss: 1.1044\n"
     ]
    },
    {
     "name": "stderr",
     "output_type": "stream",
     "text": [
      "Epoch [1579/5000]: 100%|██████████| 9/9 [00:00<00:00, 375.91it/s, loss=1.44]\n"
     ]
    },
    {
     "name": "stdout",
     "output_type": "stream",
     "text": [
      "Epoch [1579/5000]: Train loss: 1.4751, Valid loss: 1.1565\n"
     ]
    },
    {
     "name": "stderr",
     "output_type": "stream",
     "text": [
      "Epoch [1580/5000]: 100%|██████████| 9/9 [00:00<00:00, 362.22it/s, loss=1.66]\n"
     ]
    },
    {
     "name": "stdout",
     "output_type": "stream",
     "text": [
      "Epoch [1580/5000]: Train loss: 1.5455, Valid loss: 1.0628\n"
     ]
    },
    {
     "name": "stderr",
     "output_type": "stream",
     "text": [
      "Epoch [1581/5000]: 100%|██████████| 9/9 [00:00<00:00, 374.92it/s, loss=2.06]\n"
     ]
    },
    {
     "name": "stdout",
     "output_type": "stream",
     "text": [
      "Epoch [1581/5000]: Train loss: 1.5176, Valid loss: 1.2935\n"
     ]
    },
    {
     "name": "stderr",
     "output_type": "stream",
     "text": [
      "Epoch [1582/5000]: 100%|██████████| 9/9 [00:00<00:00, 338.34it/s, loss=1.58]\n"
     ]
    },
    {
     "name": "stdout",
     "output_type": "stream",
     "text": [
      "Epoch [1582/5000]: Train loss: 1.4756, Valid loss: 1.1275\n"
     ]
    },
    {
     "name": "stderr",
     "output_type": "stream",
     "text": [
      "Epoch [1583/5000]: 100%|██████████| 9/9 [00:00<00:00, 343.17it/s, loss=1.62]\n"
     ]
    },
    {
     "name": "stdout",
     "output_type": "stream",
     "text": [
      "Epoch [1583/5000]: Train loss: 1.4769, Valid loss: 1.0128\n"
     ]
    },
    {
     "name": "stderr",
     "output_type": "stream",
     "text": [
      "Epoch [1584/5000]: 100%|██████████| 9/9 [00:00<00:00, 358.59it/s, loss=1.66]\n"
     ]
    },
    {
     "name": "stdout",
     "output_type": "stream",
     "text": [
      "Epoch [1584/5000]: Train loss: 1.4879, Valid loss: 1.1118\n"
     ]
    },
    {
     "name": "stderr",
     "output_type": "stream",
     "text": [
      "Epoch [1585/5000]: 100%|██████████| 9/9 [00:00<00:00, 333.19it/s, loss=1.34]\n"
     ]
    },
    {
     "name": "stdout",
     "output_type": "stream",
     "text": [
      "Epoch [1585/5000]: Train loss: 1.4288, Valid loss: 1.0689\n"
     ]
    },
    {
     "name": "stderr",
     "output_type": "stream",
     "text": [
      "Epoch [1586/5000]: 100%|██████████| 9/9 [00:00<00:00, 364.42it/s, loss=1.84]\n"
     ]
    },
    {
     "name": "stdout",
     "output_type": "stream",
     "text": [
      "Epoch [1586/5000]: Train loss: 1.4942, Valid loss: 1.0624\n"
     ]
    },
    {
     "name": "stderr",
     "output_type": "stream",
     "text": [
      "Epoch [1587/5000]: 100%|██████████| 9/9 [00:00<00:00, 341.67it/s, loss=1.6]\n"
     ]
    },
    {
     "name": "stdout",
     "output_type": "stream",
     "text": [
      "Epoch [1587/5000]: Train loss: 1.5377, Valid loss: 1.0810\n"
     ]
    },
    {
     "name": "stderr",
     "output_type": "stream",
     "text": [
      "Epoch [1588/5000]: 100%|██████████| 9/9 [00:00<00:00, 346.75it/s, loss=1.32]\n"
     ]
    },
    {
     "name": "stdout",
     "output_type": "stream",
     "text": [
      "Epoch [1588/5000]: Train loss: 1.4232, Valid loss: 1.0578\n"
     ]
    },
    {
     "name": "stderr",
     "output_type": "stream",
     "text": [
      "Epoch [1589/5000]: 100%|██████████| 9/9 [00:00<00:00, 93.79it/s, loss=1.44]\n"
     ]
    },
    {
     "name": "stdout",
     "output_type": "stream",
     "text": [
      "Epoch [1589/5000]: Train loss: 1.4504, Valid loss: 1.1361\n"
     ]
    },
    {
     "name": "stderr",
     "output_type": "stream",
     "text": [
      "Epoch [1590/5000]: 100%|██████████| 9/9 [00:00<00:00, 367.06it/s, loss=1.43]\n"
     ]
    },
    {
     "name": "stdout",
     "output_type": "stream",
     "text": [
      "Epoch [1590/5000]: Train loss: 1.4832, Valid loss: 1.0980\n"
     ]
    },
    {
     "name": "stderr",
     "output_type": "stream",
     "text": [
      "Epoch [1591/5000]: 100%|██████████| 9/9 [00:00<00:00, 393.20it/s, loss=2.17]\n"
     ]
    },
    {
     "name": "stdout",
     "output_type": "stream",
     "text": [
      "Epoch [1591/5000]: Train loss: 1.5114, Valid loss: 1.0842\n"
     ]
    },
    {
     "name": "stderr",
     "output_type": "stream",
     "text": [
      "Epoch [1592/5000]: 100%|██████████| 9/9 [00:00<00:00, 386.22it/s, loss=1.44]\n"
     ]
    },
    {
     "name": "stdout",
     "output_type": "stream",
     "text": [
      "Epoch [1592/5000]: Train loss: 1.4823, Valid loss: 1.0740\n"
     ]
    },
    {
     "name": "stderr",
     "output_type": "stream",
     "text": [
      "Epoch [1593/5000]: 100%|██████████| 9/9 [00:00<00:00, 375.22it/s, loss=1.85]\n"
     ]
    },
    {
     "name": "stdout",
     "output_type": "stream",
     "text": [
      "Epoch [1593/5000]: Train loss: 1.5005, Valid loss: 1.3466\n"
     ]
    },
    {
     "name": "stderr",
     "output_type": "stream",
     "text": [
      "Epoch [1594/5000]: 100%|██████████| 9/9 [00:00<00:00, 380.26it/s, loss=1.46]\n"
     ]
    },
    {
     "name": "stdout",
     "output_type": "stream",
     "text": [
      "Epoch [1594/5000]: Train loss: 1.5178, Valid loss: 1.1921\n"
     ]
    },
    {
     "name": "stderr",
     "output_type": "stream",
     "text": [
      "Epoch [1595/5000]: 100%|██████████| 9/9 [00:00<00:00, 369.25it/s, loss=1.73]\n"
     ]
    },
    {
     "name": "stdout",
     "output_type": "stream",
     "text": [
      "Epoch [1595/5000]: Train loss: 1.5302, Valid loss: 1.0346\n"
     ]
    },
    {
     "name": "stderr",
     "output_type": "stream",
     "text": [
      "Epoch [1596/5000]: 100%|██████████| 9/9 [00:00<00:00, 341.30it/s, loss=1.46]\n"
     ]
    },
    {
     "name": "stdout",
     "output_type": "stream",
     "text": [
      "Epoch [1596/5000]: Train loss: 1.4685, Valid loss: 1.0619\n"
     ]
    },
    {
     "name": "stderr",
     "output_type": "stream",
     "text": [
      "Epoch [1597/5000]: 100%|██████████| 9/9 [00:00<00:00, 339.07it/s, loss=1.36]\n"
     ]
    },
    {
     "name": "stdout",
     "output_type": "stream",
     "text": [
      "Epoch [1597/5000]: Train loss: 1.5078, Valid loss: 1.0302\n"
     ]
    },
    {
     "name": "stderr",
     "output_type": "stream",
     "text": [
      "Epoch [1598/5000]: 100%|██████████| 9/9 [00:00<00:00, 348.22it/s, loss=1.25]\n"
     ]
    },
    {
     "name": "stdout",
     "output_type": "stream",
     "text": [
      "Epoch [1598/5000]: Train loss: 1.4706, Valid loss: 1.2099\n"
     ]
    },
    {
     "name": "stderr",
     "output_type": "stream",
     "text": [
      "Epoch [1599/5000]: 100%|██████████| 9/9 [00:00<00:00, 355.16it/s, loss=1.5]\n"
     ]
    },
    {
     "name": "stdout",
     "output_type": "stream",
     "text": [
      "Epoch [1599/5000]: Train loss: 1.4475, Valid loss: 1.0482\n"
     ]
    },
    {
     "name": "stderr",
     "output_type": "stream",
     "text": [
      "Epoch [1600/5000]: 100%|██████████| 9/9 [00:00<00:00, 385.92it/s, loss=1.36]\n"
     ]
    },
    {
     "name": "stdout",
     "output_type": "stream",
     "text": [
      "Epoch [1600/5000]: Train loss: 1.4577, Valid loss: 1.0809\n"
     ]
    },
    {
     "name": "stderr",
     "output_type": "stream",
     "text": [
      "Epoch [1601/5000]: 100%|██████████| 9/9 [00:00<00:00, 357.16it/s, loss=1.32]\n"
     ]
    },
    {
     "name": "stdout",
     "output_type": "stream",
     "text": [
      "Epoch [1601/5000]: Train loss: 1.4975, Valid loss: 1.0625\n"
     ]
    },
    {
     "name": "stderr",
     "output_type": "stream",
     "text": [
      "Epoch [1602/5000]: 100%|██████████| 9/9 [00:00<00:00, 279.88it/s, loss=1.34]\n"
     ]
    },
    {
     "name": "stdout",
     "output_type": "stream",
     "text": [
      "Epoch [1602/5000]: Train loss: 1.4368, Valid loss: 1.0914\n"
     ]
    },
    {
     "name": "stderr",
     "output_type": "stream",
     "text": [
      "Epoch [1603/5000]: 100%|██████████| 9/9 [00:00<00:00, 342.16it/s, loss=1.57]\n"
     ]
    },
    {
     "name": "stdout",
     "output_type": "stream",
     "text": [
      "Epoch [1603/5000]: Train loss: 1.4478, Valid loss: 1.0858\n"
     ]
    },
    {
     "name": "stderr",
     "output_type": "stream",
     "text": [
      "Epoch [1604/5000]: 100%|██████████| 9/9 [00:00<00:00, 377.45it/s, loss=1.51]\n"
     ]
    },
    {
     "name": "stdout",
     "output_type": "stream",
     "text": [
      "Epoch [1604/5000]: Train loss: 1.4742, Valid loss: 1.0958\n"
     ]
    },
    {
     "name": "stderr",
     "output_type": "stream",
     "text": [
      "Epoch [1605/5000]: 100%|██████████| 9/9 [00:00<00:00, 399.97it/s, loss=1.44]\n"
     ]
    },
    {
     "name": "stdout",
     "output_type": "stream",
     "text": [
      "Epoch [1605/5000]: Train loss: 1.4681, Valid loss: 1.0959\n"
     ]
    },
    {
     "name": "stderr",
     "output_type": "stream",
     "text": [
      "Epoch [1606/5000]: 100%|██████████| 9/9 [00:00<00:00, 404.28it/s, loss=1.68]\n"
     ]
    },
    {
     "name": "stdout",
     "output_type": "stream",
     "text": [
      "Epoch [1606/5000]: Train loss: 1.4919, Valid loss: 1.0366\n"
     ]
    },
    {
     "name": "stderr",
     "output_type": "stream",
     "text": [
      "Epoch [1607/5000]: 100%|██████████| 9/9 [00:00<00:00, 410.06it/s, loss=1.35]\n"
     ]
    },
    {
     "name": "stdout",
     "output_type": "stream",
     "text": [
      "Epoch [1607/5000]: Train loss: 1.4540, Valid loss: 1.0674\n"
     ]
    },
    {
     "name": "stderr",
     "output_type": "stream",
     "text": [
      "Epoch [1608/5000]: 100%|██████████| 9/9 [00:00<00:00, 372.30it/s, loss=1.25]\n"
     ]
    },
    {
     "name": "stdout",
     "output_type": "stream",
     "text": [
      "Epoch [1608/5000]: Train loss: 1.3866, Valid loss: 1.1470\n"
     ]
    },
    {
     "name": "stderr",
     "output_type": "stream",
     "text": [
      "Epoch [1609/5000]: 100%|██████████| 9/9 [00:00<00:00, 391.51it/s, loss=1.45]\n"
     ]
    },
    {
     "name": "stdout",
     "output_type": "stream",
     "text": [
      "Epoch [1609/5000]: Train loss: 1.5243, Valid loss: 1.0217\n"
     ]
    },
    {
     "name": "stderr",
     "output_type": "stream",
     "text": [
      "Epoch [1610/5000]: 100%|██████████| 9/9 [00:00<00:00, 376.19it/s, loss=1.57]\n"
     ]
    },
    {
     "name": "stdout",
     "output_type": "stream",
     "text": [
      "Epoch [1610/5000]: Train loss: 1.4441, Valid loss: 1.1104\n"
     ]
    },
    {
     "name": "stderr",
     "output_type": "stream",
     "text": [
      "Epoch [1611/5000]: 100%|██████████| 9/9 [00:00<00:00, 377.71it/s, loss=1.62]\n"
     ]
    },
    {
     "name": "stdout",
     "output_type": "stream",
     "text": [
      "Epoch [1611/5000]: Train loss: 1.5567, Valid loss: 1.1167\n"
     ]
    },
    {
     "name": "stderr",
     "output_type": "stream",
     "text": [
      "Epoch [1612/5000]: 100%|██████████| 9/9 [00:00<00:00, 376.65it/s, loss=1.26]\n"
     ]
    },
    {
     "name": "stdout",
     "output_type": "stream",
     "text": [
      "Epoch [1612/5000]: Train loss: 1.4866, Valid loss: 1.0814\n"
     ]
    },
    {
     "name": "stderr",
     "output_type": "stream",
     "text": [
      "Epoch [1613/5000]: 100%|██████████| 9/9 [00:00<00:00, 376.66it/s, loss=1.76]\n"
     ]
    },
    {
     "name": "stdout",
     "output_type": "stream",
     "text": [
      "Epoch [1613/5000]: Train loss: 1.4877, Valid loss: 1.0612\n"
     ]
    },
    {
     "name": "stderr",
     "output_type": "stream",
     "text": [
      "Epoch [1614/5000]: 100%|██████████| 9/9 [00:00<00:00, 391.05it/s, loss=1.41]\n"
     ]
    },
    {
     "name": "stdout",
     "output_type": "stream",
     "text": [
      "Epoch [1614/5000]: Train loss: 1.4507, Valid loss: 1.2332\n"
     ]
    },
    {
     "name": "stderr",
     "output_type": "stream",
     "text": [
      "Epoch [1615/5000]: 100%|██████████| 9/9 [00:00<00:00, 380.47it/s, loss=1.44]\n"
     ]
    },
    {
     "name": "stdout",
     "output_type": "stream",
     "text": [
      "Epoch [1615/5000]: Train loss: 1.4295, Valid loss: 1.0355\n"
     ]
    },
    {
     "name": "stderr",
     "output_type": "stream",
     "text": [
      "Epoch [1616/5000]: 100%|██████████| 9/9 [00:00<00:00, 396.28it/s, loss=1.57]\n"
     ]
    },
    {
     "name": "stdout",
     "output_type": "stream",
     "text": [
      "Epoch [1616/5000]: Train loss: 1.5098, Valid loss: 1.0341\n"
     ]
    },
    {
     "name": "stderr",
     "output_type": "stream",
     "text": [
      "Epoch [1617/5000]: 100%|██████████| 9/9 [00:00<00:00, 390.02it/s, loss=1.31]\n"
     ]
    },
    {
     "name": "stdout",
     "output_type": "stream",
     "text": [
      "Epoch [1617/5000]: Train loss: 1.4645, Valid loss: 1.0473\n"
     ]
    },
    {
     "name": "stderr",
     "output_type": "stream",
     "text": [
      "Epoch [1618/5000]: 100%|██████████| 9/9 [00:00<00:00, 377.42it/s, loss=1.2]\n"
     ]
    },
    {
     "name": "stdout",
     "output_type": "stream",
     "text": [
      "Epoch [1618/5000]: Train loss: 1.5072, Valid loss: 1.0918\n"
     ]
    },
    {
     "name": "stderr",
     "output_type": "stream",
     "text": [
      "Epoch [1619/5000]: 100%|██████████| 9/9 [00:00<00:00, 388.82it/s, loss=1.54]\n"
     ]
    },
    {
     "name": "stdout",
     "output_type": "stream",
     "text": [
      "Epoch [1619/5000]: Train loss: 1.5454, Valid loss: 1.0021\n"
     ]
    },
    {
     "name": "stderr",
     "output_type": "stream",
     "text": [
      "Epoch [1620/5000]: 100%|██████████| 9/9 [00:00<00:00, 388.79it/s, loss=1.35]\n"
     ]
    },
    {
     "name": "stdout",
     "output_type": "stream",
     "text": [
      "Epoch [1620/5000]: Train loss: 1.4367, Valid loss: 0.9468\n"
     ]
    },
    {
     "name": "stderr",
     "output_type": "stream",
     "text": [
      "Epoch [1621/5000]: 100%|██████████| 9/9 [00:00<00:00, 386.66it/s, loss=1.48]\n"
     ]
    },
    {
     "name": "stdout",
     "output_type": "stream",
     "text": [
      "Epoch [1621/5000]: Train loss: 1.4976, Valid loss: 1.1431\n"
     ]
    },
    {
     "name": "stderr",
     "output_type": "stream",
     "text": [
      "Epoch [1622/5000]: 100%|██████████| 9/9 [00:00<00:00, 370.17it/s, loss=1.22]\n"
     ]
    },
    {
     "name": "stdout",
     "output_type": "stream",
     "text": [
      "Epoch [1622/5000]: Train loss: 1.4649, Valid loss: 1.1391\n"
     ]
    },
    {
     "name": "stderr",
     "output_type": "stream",
     "text": [
      "Epoch [1623/5000]: 100%|██████████| 9/9 [00:00<00:00, 362.98it/s, loss=1.49]\n"
     ]
    },
    {
     "name": "stdout",
     "output_type": "stream",
     "text": [
      "Epoch [1623/5000]: Train loss: 1.5431, Valid loss: 1.0644\n"
     ]
    },
    {
     "name": "stderr",
     "output_type": "stream",
     "text": [
      "Epoch [1624/5000]: 100%|██████████| 9/9 [00:00<00:00, 393.83it/s, loss=1.42]\n"
     ]
    },
    {
     "name": "stdout",
     "output_type": "stream",
     "text": [
      "Epoch [1624/5000]: Train loss: 1.4220, Valid loss: 1.0968\n"
     ]
    },
    {
     "name": "stderr",
     "output_type": "stream",
     "text": [
      "Epoch [1625/5000]: 100%|██████████| 9/9 [00:00<00:00, 387.65it/s, loss=1.64]\n"
     ]
    },
    {
     "name": "stdout",
     "output_type": "stream",
     "text": [
      "Epoch [1625/5000]: Train loss: 1.5013, Valid loss: 1.1093\n"
     ]
    },
    {
     "name": "stderr",
     "output_type": "stream",
     "text": [
      "Epoch [1626/5000]: 100%|██████████| 9/9 [00:00<00:00, 398.60it/s, loss=1.61]\n"
     ]
    },
    {
     "name": "stdout",
     "output_type": "stream",
     "text": [
      "Epoch [1626/5000]: Train loss: 1.4597, Valid loss: 1.0325\n"
     ]
    },
    {
     "name": "stderr",
     "output_type": "stream",
     "text": [
      "Epoch [1627/5000]: 100%|██████████| 9/9 [00:00<00:00, 419.19it/s, loss=1.41]\n"
     ]
    },
    {
     "name": "stdout",
     "output_type": "stream",
     "text": [
      "Epoch [1627/5000]: Train loss: 1.4550, Valid loss: 1.0772\n"
     ]
    },
    {
     "name": "stderr",
     "output_type": "stream",
     "text": [
      "Epoch [1628/5000]: 100%|██████████| 9/9 [00:00<00:00, 415.91it/s, loss=1.62]\n"
     ]
    },
    {
     "name": "stdout",
     "output_type": "stream",
     "text": [
      "Epoch [1628/5000]: Train loss: 1.5027, Valid loss: 0.9539\n"
     ]
    },
    {
     "name": "stderr",
     "output_type": "stream",
     "text": [
      "Epoch [1629/5000]: 100%|██████████| 9/9 [00:00<00:00, 446.74it/s, loss=1.83]\n"
     ]
    },
    {
     "name": "stdout",
     "output_type": "stream",
     "text": [
      "Epoch [1629/5000]: Train loss: 1.5182, Valid loss: 1.0881\n"
     ]
    },
    {
     "name": "stderr",
     "output_type": "stream",
     "text": [
      "Epoch [1630/5000]: 100%|██████████| 9/9 [00:00<00:00, 403.66it/s, loss=1.27]\n"
     ]
    },
    {
     "name": "stdout",
     "output_type": "stream",
     "text": [
      "Epoch [1630/5000]: Train loss: 1.4572, Valid loss: 1.0168\n"
     ]
    },
    {
     "name": "stderr",
     "output_type": "stream",
     "text": [
      "Epoch [1631/5000]: 100%|██████████| 9/9 [00:00<00:00, 400.95it/s, loss=1.36]\n"
     ]
    },
    {
     "name": "stdout",
     "output_type": "stream",
     "text": [
      "Epoch [1631/5000]: Train loss: 1.5318, Valid loss: 1.0193\n"
     ]
    },
    {
     "name": "stderr",
     "output_type": "stream",
     "text": [
      "Epoch [1632/5000]: 100%|██████████| 9/9 [00:00<00:00, 405.11it/s, loss=1.31]\n"
     ]
    },
    {
     "name": "stdout",
     "output_type": "stream",
     "text": [
      "Epoch [1632/5000]: Train loss: 1.4273, Valid loss: 1.0335\n"
     ]
    },
    {
     "name": "stderr",
     "output_type": "stream",
     "text": [
      "Epoch [1633/5000]: 100%|██████████| 9/9 [00:00<00:00, 402.69it/s, loss=2.09]\n"
     ]
    },
    {
     "name": "stdout",
     "output_type": "stream",
     "text": [
      "Epoch [1633/5000]: Train loss: 1.5618, Valid loss: 1.0476\n"
     ]
    },
    {
     "name": "stderr",
     "output_type": "stream",
     "text": [
      "Epoch [1634/5000]: 100%|██████████| 9/9 [00:00<00:00, 412.54it/s, loss=1.5]\n"
     ]
    },
    {
     "name": "stdout",
     "output_type": "stream",
     "text": [
      "Epoch [1634/5000]: Train loss: 1.5157, Valid loss: 1.0529\n"
     ]
    },
    {
     "name": "stderr",
     "output_type": "stream",
     "text": [
      "Epoch [1635/5000]: 100%|██████████| 9/9 [00:00<00:00, 409.84it/s, loss=1.57]\n"
     ]
    },
    {
     "name": "stdout",
     "output_type": "stream",
     "text": [
      "Epoch [1635/5000]: Train loss: 1.4571, Valid loss: 1.0808\n"
     ]
    },
    {
     "name": "stderr",
     "output_type": "stream",
     "text": [
      "Epoch [1636/5000]: 100%|██████████| 9/9 [00:00<00:00, 414.92it/s, loss=1.32]\n"
     ]
    },
    {
     "name": "stdout",
     "output_type": "stream",
     "text": [
      "Epoch [1636/5000]: Train loss: 1.3984, Valid loss: 1.2017\n"
     ]
    },
    {
     "name": "stderr",
     "output_type": "stream",
     "text": [
      "Epoch [1637/5000]: 100%|██████████| 9/9 [00:00<00:00, 411.51it/s, loss=1.69]\n"
     ]
    },
    {
     "name": "stdout",
     "output_type": "stream",
     "text": [
      "Epoch [1637/5000]: Train loss: 1.4846, Valid loss: 0.9895\n"
     ]
    },
    {
     "name": "stderr",
     "output_type": "stream",
     "text": [
      "Epoch [1638/5000]: 100%|██████████| 9/9 [00:00<00:00, 438.94it/s, loss=2.66]\n"
     ]
    },
    {
     "name": "stdout",
     "output_type": "stream",
     "text": [
      "Epoch [1638/5000]: Train loss: 1.7054, Valid loss: 1.3022\n"
     ]
    },
    {
     "name": "stderr",
     "output_type": "stream",
     "text": [
      "Epoch [1639/5000]: 100%|██████████| 9/9 [00:00<00:00, 395.93it/s, loss=2.1]\n"
     ]
    },
    {
     "name": "stdout",
     "output_type": "stream",
     "text": [
      "Epoch [1639/5000]: Train loss: 1.5771, Valid loss: 1.0609\n"
     ]
    },
    {
     "name": "stderr",
     "output_type": "stream",
     "text": [
      "Epoch [1640/5000]: 100%|██████████| 9/9 [00:00<00:00, 406.27it/s, loss=1.52]\n"
     ]
    },
    {
     "name": "stdout",
     "output_type": "stream",
     "text": [
      "Epoch [1640/5000]: Train loss: 1.4704, Valid loss: 1.0622\n"
     ]
    },
    {
     "name": "stderr",
     "output_type": "stream",
     "text": [
      "Epoch [1641/5000]: 100%|██████████| 9/9 [00:00<00:00, 433.61it/s, loss=1.46]\n"
     ]
    },
    {
     "name": "stdout",
     "output_type": "stream",
     "text": [
      "Epoch [1641/5000]: Train loss: 1.5218, Valid loss: 1.1496\n"
     ]
    },
    {
     "name": "stderr",
     "output_type": "stream",
     "text": [
      "Epoch [1642/5000]: 100%|██████████| 9/9 [00:00<00:00, 422.16it/s, loss=1.79]\n"
     ]
    },
    {
     "name": "stdout",
     "output_type": "stream",
     "text": [
      "Epoch [1642/5000]: Train loss: 1.4537, Valid loss: 1.2496\n"
     ]
    },
    {
     "name": "stderr",
     "output_type": "stream",
     "text": [
      "Epoch [1643/5000]: 100%|██████████| 9/9 [00:00<00:00, 422.12it/s, loss=1.35]\n"
     ]
    },
    {
     "name": "stdout",
     "output_type": "stream",
     "text": [
      "Epoch [1643/5000]: Train loss: 1.5080, Valid loss: 1.0824\n"
     ]
    },
    {
     "name": "stderr",
     "output_type": "stream",
     "text": [
      "Epoch [1644/5000]: 100%|██████████| 9/9 [00:00<00:00, 431.78it/s, loss=1.63]\n"
     ]
    },
    {
     "name": "stdout",
     "output_type": "stream",
     "text": [
      "Epoch [1644/5000]: Train loss: 1.5588, Valid loss: 1.0158\n"
     ]
    },
    {
     "name": "stderr",
     "output_type": "stream",
     "text": [
      "Epoch [1645/5000]: 100%|██████████| 9/9 [00:00<00:00, 430.95it/s, loss=1.37]\n"
     ]
    },
    {
     "name": "stdout",
     "output_type": "stream",
     "text": [
      "Epoch [1645/5000]: Train loss: 1.4433, Valid loss: 1.0595\n"
     ]
    },
    {
     "name": "stderr",
     "output_type": "stream",
     "text": [
      "Epoch [1646/5000]: 100%|██████████| 9/9 [00:00<00:00, 411.31it/s, loss=1.73]\n"
     ]
    },
    {
     "name": "stdout",
     "output_type": "stream",
     "text": [
      "Epoch [1646/5000]: Train loss: 1.4683, Valid loss: 1.1100\n"
     ]
    },
    {
     "name": "stderr",
     "output_type": "stream",
     "text": [
      "Epoch [1647/5000]: 100%|██████████| 9/9 [00:00<00:00, 402.34it/s, loss=1.28]\n"
     ]
    },
    {
     "name": "stdout",
     "output_type": "stream",
     "text": [
      "Epoch [1647/5000]: Train loss: 1.4610, Valid loss: 1.0984\n"
     ]
    },
    {
     "name": "stderr",
     "output_type": "stream",
     "text": [
      "Epoch [1648/5000]: 100%|██████████| 9/9 [00:00<00:00, 411.11it/s, loss=1.57]\n"
     ]
    },
    {
     "name": "stdout",
     "output_type": "stream",
     "text": [
      "Epoch [1648/5000]: Train loss: 1.4441, Valid loss: 1.0345\n"
     ]
    },
    {
     "name": "stderr",
     "output_type": "stream",
     "text": [
      "Epoch [1649/5000]: 100%|██████████| 9/9 [00:00<00:00, 399.15it/s, loss=1.56]\n"
     ]
    },
    {
     "name": "stdout",
     "output_type": "stream",
     "text": [
      "Epoch [1649/5000]: Train loss: 1.4792, Valid loss: 1.1030\n"
     ]
    },
    {
     "name": "stderr",
     "output_type": "stream",
     "text": [
      "Epoch [1650/5000]: 100%|██████████| 9/9 [00:00<00:00, 375.30it/s, loss=1.36]\n"
     ]
    },
    {
     "name": "stdout",
     "output_type": "stream",
     "text": [
      "Epoch [1650/5000]: Train loss: 1.5623, Valid loss: 1.1975\n"
     ]
    },
    {
     "name": "stderr",
     "output_type": "stream",
     "text": [
      "Epoch [1651/5000]: 100%|██████████| 9/9 [00:00<00:00, 396.42it/s, loss=1.49]\n"
     ]
    },
    {
     "name": "stdout",
     "output_type": "stream",
     "text": [
      "Epoch [1651/5000]: Train loss: 1.4308, Valid loss: 1.1098\n"
     ]
    },
    {
     "name": "stderr",
     "output_type": "stream",
     "text": [
      "Epoch [1652/5000]: 100%|██████████| 9/9 [00:00<00:00, 389.49it/s, loss=1.74]\n"
     ]
    },
    {
     "name": "stdout",
     "output_type": "stream",
     "text": [
      "Epoch [1652/5000]: Train loss: 1.4966, Valid loss: 1.0254\n"
     ]
    },
    {
     "name": "stderr",
     "output_type": "stream",
     "text": [
      "Epoch [1653/5000]: 100%|██████████| 9/9 [00:00<00:00, 427.98it/s, loss=1.54]\n"
     ]
    },
    {
     "name": "stdout",
     "output_type": "stream",
     "text": [
      "Epoch [1653/5000]: Train loss: 1.5025, Valid loss: 1.1023\n"
     ]
    },
    {
     "name": "stderr",
     "output_type": "stream",
     "text": [
      "Epoch [1654/5000]: 100%|██████████| 9/9 [00:00<00:00, 375.22it/s, loss=1.56]\n"
     ]
    },
    {
     "name": "stdout",
     "output_type": "stream",
     "text": [
      "Epoch [1654/5000]: Train loss: 1.4934, Valid loss: 1.0316\n"
     ]
    },
    {
     "name": "stderr",
     "output_type": "stream",
     "text": [
      "Epoch [1655/5000]: 100%|██████████| 9/9 [00:00<00:00, 375.30it/s, loss=1.48]\n"
     ]
    },
    {
     "name": "stdout",
     "output_type": "stream",
     "text": [
      "Epoch [1655/5000]: Train loss: 1.4789, Valid loss: 1.0886\n"
     ]
    },
    {
     "name": "stderr",
     "output_type": "stream",
     "text": [
      "Epoch [1656/5000]: 100%|██████████| 9/9 [00:00<00:00, 384.05it/s, loss=1.81]\n"
     ]
    },
    {
     "name": "stdout",
     "output_type": "stream",
     "text": [
      "Epoch [1656/5000]: Train loss: 1.5128, Valid loss: 1.0151\n"
     ]
    },
    {
     "name": "stderr",
     "output_type": "stream",
     "text": [
      "Epoch [1657/5000]: 100%|██████████| 9/9 [00:00<00:00, 347.95it/s, loss=1.19]\n"
     ]
    },
    {
     "name": "stdout",
     "output_type": "stream",
     "text": [
      "Epoch [1657/5000]: Train loss: 1.4222, Valid loss: 1.2791\n"
     ]
    },
    {
     "name": "stderr",
     "output_type": "stream",
     "text": [
      "Epoch [1658/5000]: 100%|██████████| 9/9 [00:00<00:00, 240.71it/s, loss=1.25]\n"
     ]
    },
    {
     "name": "stdout",
     "output_type": "stream",
     "text": [
      "Epoch [1658/5000]: Train loss: 1.4115, Valid loss: 1.1328\n"
     ]
    },
    {
     "name": "stderr",
     "output_type": "stream",
     "text": [
      "Epoch [1659/5000]: 100%|██████████| 9/9 [00:00<00:00, 269.46it/s, loss=1.47]\n"
     ]
    },
    {
     "name": "stdout",
     "output_type": "stream",
     "text": [
      "Epoch [1659/5000]: Train loss: 1.4508, Valid loss: 1.1236\n"
     ]
    },
    {
     "name": "stderr",
     "output_type": "stream",
     "text": [
      "Epoch [1660/5000]: 100%|██████████| 9/9 [00:00<00:00, 399.22it/s, loss=1.15]\n"
     ]
    },
    {
     "name": "stdout",
     "output_type": "stream",
     "text": [
      "Epoch [1660/5000]: Train loss: 1.3957, Valid loss: 1.0459\n"
     ]
    },
    {
     "name": "stderr",
     "output_type": "stream",
     "text": [
      "Epoch [1661/5000]: 100%|██████████| 9/9 [00:00<00:00, 393.71it/s, loss=1.47]\n"
     ]
    },
    {
     "name": "stdout",
     "output_type": "stream",
     "text": [
      "Epoch [1661/5000]: Train loss: 1.4743, Valid loss: 1.0439\n"
     ]
    },
    {
     "name": "stderr",
     "output_type": "stream",
     "text": [
      "Epoch [1662/5000]: 100%|██████████| 9/9 [00:00<00:00, 393.74it/s, loss=1.24]\n"
     ]
    },
    {
     "name": "stdout",
     "output_type": "stream",
     "text": [
      "Epoch [1662/5000]: Train loss: 1.4634, Valid loss: 1.0205\n"
     ]
    },
    {
     "name": "stderr",
     "output_type": "stream",
     "text": [
      "Epoch [1663/5000]: 100%|██████████| 9/9 [00:00<00:00, 399.23it/s, loss=1.48]\n"
     ]
    },
    {
     "name": "stdout",
     "output_type": "stream",
     "text": [
      "Epoch [1663/5000]: Train loss: 1.4474, Valid loss: 1.0055\n"
     ]
    },
    {
     "name": "stderr",
     "output_type": "stream",
     "text": [
      "Epoch [1664/5000]: 100%|██████████| 9/9 [00:00<00:00, 399.02it/s, loss=1.22]\n"
     ]
    },
    {
     "name": "stdout",
     "output_type": "stream",
     "text": [
      "Epoch [1664/5000]: Train loss: 1.4529, Valid loss: 1.0145\n"
     ]
    },
    {
     "name": "stderr",
     "output_type": "stream",
     "text": [
      "Epoch [1665/5000]: 100%|██████████| 9/9 [00:00<00:00, 384.72it/s, loss=1.45]\n"
     ]
    },
    {
     "name": "stdout",
     "output_type": "stream",
     "text": [
      "Epoch [1665/5000]: Train loss: 1.5091, Valid loss: 1.1027\n"
     ]
    },
    {
     "name": "stderr",
     "output_type": "stream",
     "text": [
      "Epoch [1666/5000]: 100%|██████████| 9/9 [00:00<00:00, 388.79it/s, loss=1.49]\n"
     ]
    },
    {
     "name": "stdout",
     "output_type": "stream",
     "text": [
      "Epoch [1666/5000]: Train loss: 1.5338, Valid loss: 1.1324\n"
     ]
    },
    {
     "name": "stderr",
     "output_type": "stream",
     "text": [
      "Epoch [1667/5000]: 100%|██████████| 9/9 [00:00<00:00, 365.90it/s, loss=1.39]\n"
     ]
    },
    {
     "name": "stdout",
     "output_type": "stream",
     "text": [
      "Epoch [1667/5000]: Train loss: 1.4622, Valid loss: 1.0390\n"
     ]
    },
    {
     "name": "stderr",
     "output_type": "stream",
     "text": [
      "Epoch [1668/5000]: 100%|██████████| 9/9 [00:00<00:00, 401.39it/s, loss=1.26]\n"
     ]
    },
    {
     "name": "stdout",
     "output_type": "stream",
     "text": [
      "Epoch [1668/5000]: Train loss: 1.4574, Valid loss: 1.1648\n"
     ]
    },
    {
     "name": "stderr",
     "output_type": "stream",
     "text": [
      "Epoch [1669/5000]: 100%|██████████| 9/9 [00:00<00:00, 409.35it/s, loss=1.51]\n"
     ]
    },
    {
     "name": "stdout",
     "output_type": "stream",
     "text": [
      "Epoch [1669/5000]: Train loss: 1.4854, Valid loss: 1.0862\n"
     ]
    },
    {
     "name": "stderr",
     "output_type": "stream",
     "text": [
      "Epoch [1670/5000]: 100%|██████████| 9/9 [00:00<00:00, 402.78it/s, loss=1.35]\n"
     ]
    },
    {
     "name": "stdout",
     "output_type": "stream",
     "text": [
      "Epoch [1670/5000]: Train loss: 1.4293, Valid loss: 0.9700\n"
     ]
    },
    {
     "name": "stderr",
     "output_type": "stream",
     "text": [
      "Epoch [1671/5000]: 100%|██████████| 9/9 [00:00<00:00, 408.09it/s, loss=2.01]\n"
     ]
    },
    {
     "name": "stdout",
     "output_type": "stream",
     "text": [
      "Epoch [1671/5000]: Train loss: 1.5808, Valid loss: 1.1177\n"
     ]
    },
    {
     "name": "stderr",
     "output_type": "stream",
     "text": [
      "Epoch [1672/5000]: 100%|██████████| 9/9 [00:00<00:00, 402.43it/s, loss=1.38]\n"
     ]
    },
    {
     "name": "stdout",
     "output_type": "stream",
     "text": [
      "Epoch [1672/5000]: Train loss: 1.4426, Valid loss: 1.0956\n"
     ]
    },
    {
     "name": "stderr",
     "output_type": "stream",
     "text": [
      "Epoch [1673/5000]: 100%|██████████| 9/9 [00:00<00:00, 406.27it/s, loss=2.19]\n"
     ]
    },
    {
     "name": "stdout",
     "output_type": "stream",
     "text": [
      "Epoch [1673/5000]: Train loss: 1.5872, Valid loss: 0.9778\n"
     ]
    },
    {
     "name": "stderr",
     "output_type": "stream",
     "text": [
      "Epoch [1674/5000]: 100%|██████████| 9/9 [00:00<00:00, 389.34it/s, loss=1.58]\n"
     ]
    },
    {
     "name": "stdout",
     "output_type": "stream",
     "text": [
      "Epoch [1674/5000]: Train loss: 1.5106, Valid loss: 1.1265\n"
     ]
    },
    {
     "name": "stderr",
     "output_type": "stream",
     "text": [
      "Epoch [1675/5000]: 100%|██████████| 9/9 [00:00<00:00, 404.53it/s, loss=2.41]\n"
     ]
    },
    {
     "name": "stdout",
     "output_type": "stream",
     "text": [
      "Epoch [1675/5000]: Train loss: 1.5506, Valid loss: 0.9484\n"
     ]
    },
    {
     "name": "stderr",
     "output_type": "stream",
     "text": [
      "Epoch [1676/5000]: 100%|██████████| 9/9 [00:00<00:00, 400.47it/s, loss=1.47]\n"
     ]
    },
    {
     "name": "stdout",
     "output_type": "stream",
     "text": [
      "Epoch [1676/5000]: Train loss: 1.5064, Valid loss: 1.0458\n"
     ]
    },
    {
     "name": "stderr",
     "output_type": "stream",
     "text": [
      "Epoch [1677/5000]: 100%|██████████| 9/9 [00:00<00:00, 402.99it/s, loss=1.6]\n"
     ]
    },
    {
     "name": "stdout",
     "output_type": "stream",
     "text": [
      "Epoch [1677/5000]: Train loss: 1.4817, Valid loss: 1.0831\n"
     ]
    },
    {
     "name": "stderr",
     "output_type": "stream",
     "text": [
      "Epoch [1678/5000]: 100%|██████████| 9/9 [00:00<00:00, 441.68it/s, loss=1.3]\n"
     ]
    },
    {
     "name": "stdout",
     "output_type": "stream",
     "text": [
      "Epoch [1678/5000]: Train loss: 1.4754, Valid loss: 1.0200\n"
     ]
    },
    {
     "name": "stderr",
     "output_type": "stream",
     "text": [
      "Epoch [1679/5000]: 100%|██████████| 9/9 [00:00<00:00, 432.01it/s, loss=1.52]\n"
     ]
    },
    {
     "name": "stdout",
     "output_type": "stream",
     "text": [
      "Epoch [1679/5000]: Train loss: 1.4514, Valid loss: 0.9879\n"
     ]
    },
    {
     "name": "stderr",
     "output_type": "stream",
     "text": [
      "Epoch [1680/5000]: 100%|██████████| 9/9 [00:00<00:00, 432.75it/s, loss=1.22]\n"
     ]
    },
    {
     "name": "stdout",
     "output_type": "stream",
     "text": [
      "Epoch [1680/5000]: Train loss: 1.4028, Valid loss: 1.1093\n"
     ]
    },
    {
     "name": "stderr",
     "output_type": "stream",
     "text": [
      "Epoch [1681/5000]: 100%|██████████| 9/9 [00:00<00:00, 437.30it/s, loss=1.34]\n"
     ]
    },
    {
     "name": "stdout",
     "output_type": "stream",
     "text": [
      "Epoch [1681/5000]: Train loss: 1.4025, Valid loss: 1.2068\n"
     ]
    },
    {
     "name": "stderr",
     "output_type": "stream",
     "text": [
      "Epoch [1682/5000]: 100%|██████████| 9/9 [00:00<00:00, 441.33it/s, loss=1.5]\n"
     ]
    },
    {
     "name": "stdout",
     "output_type": "stream",
     "text": [
      "Epoch [1682/5000]: Train loss: 1.4073, Valid loss: 1.1475\n"
     ]
    },
    {
     "name": "stderr",
     "output_type": "stream",
     "text": [
      "Epoch [1683/5000]: 100%|██████████| 9/9 [00:00<00:00, 436.17it/s, loss=1.66]\n"
     ]
    },
    {
     "name": "stdout",
     "output_type": "stream",
     "text": [
      "Epoch [1683/5000]: Train loss: 1.4513, Valid loss: 1.0363\n"
     ]
    },
    {
     "name": "stderr",
     "output_type": "stream",
     "text": [
      "Epoch [1684/5000]: 100%|██████████| 9/9 [00:00<00:00, 427.92it/s, loss=1.41]\n"
     ]
    },
    {
     "name": "stdout",
     "output_type": "stream",
     "text": [
      "Epoch [1684/5000]: Train loss: 1.4625, Valid loss: 1.0031\n"
     ]
    },
    {
     "name": "stderr",
     "output_type": "stream",
     "text": [
      "Epoch [1685/5000]: 100%|██████████| 9/9 [00:00<00:00, 418.96it/s, loss=1.66]\n"
     ]
    },
    {
     "name": "stdout",
     "output_type": "stream",
     "text": [
      "Epoch [1685/5000]: Train loss: 1.5098, Valid loss: 1.0900\n"
     ]
    },
    {
     "name": "stderr",
     "output_type": "stream",
     "text": [
      "Epoch [1686/5000]: 100%|██████████| 9/9 [00:00<00:00, 399.20it/s, loss=1.43]\n"
     ]
    },
    {
     "name": "stdout",
     "output_type": "stream",
     "text": [
      "Epoch [1686/5000]: Train loss: 1.4846, Valid loss: 1.0961\n"
     ]
    },
    {
     "name": "stderr",
     "output_type": "stream",
     "text": [
      "Epoch [1687/5000]: 100%|██████████| 9/9 [00:00<00:00, 417.73it/s, loss=1.22]\n"
     ]
    },
    {
     "name": "stdout",
     "output_type": "stream",
     "text": [
      "Epoch [1687/5000]: Train loss: 1.4152, Valid loss: 1.0874\n"
     ]
    },
    {
     "name": "stderr",
     "output_type": "stream",
     "text": [
      "Epoch [1688/5000]: 100%|██████████| 9/9 [00:00<00:00, 412.88it/s, loss=1.84]\n"
     ]
    },
    {
     "name": "stdout",
     "output_type": "stream",
     "text": [
      "Epoch [1688/5000]: Train loss: 1.5864, Valid loss: 1.0513\n"
     ]
    },
    {
     "name": "stderr",
     "output_type": "stream",
     "text": [
      "Epoch [1689/5000]: 100%|██████████| 9/9 [00:00<00:00, 396.20it/s, loss=1.26]\n"
     ]
    },
    {
     "name": "stdout",
     "output_type": "stream",
     "text": [
      "Epoch [1689/5000]: Train loss: 1.4186, Valid loss: 1.0948\n"
     ]
    },
    {
     "name": "stderr",
     "output_type": "stream",
     "text": [
      "Epoch [1690/5000]: 100%|██████████| 9/9 [00:00<00:00, 442.63it/s, loss=1.91]\n"
     ]
    },
    {
     "name": "stdout",
     "output_type": "stream",
     "text": [
      "Epoch [1690/5000]: Train loss: 1.5371, Valid loss: 1.1410\n"
     ]
    },
    {
     "name": "stderr",
     "output_type": "stream",
     "text": [
      "Epoch [1691/5000]: 100%|██████████| 9/9 [00:00<00:00, 412.64it/s, loss=1.54]\n"
     ]
    },
    {
     "name": "stdout",
     "output_type": "stream",
     "text": [
      "Epoch [1691/5000]: Train loss: 1.5204, Valid loss: 1.1006\n"
     ]
    },
    {
     "name": "stderr",
     "output_type": "stream",
     "text": [
      "Epoch [1692/5000]: 100%|██████████| 9/9 [00:00<00:00, 404.11it/s, loss=1.22]\n"
     ]
    },
    {
     "name": "stdout",
     "output_type": "stream",
     "text": [
      "Epoch [1692/5000]: Train loss: 1.4286, Valid loss: 1.0541\n"
     ]
    },
    {
     "name": "stderr",
     "output_type": "stream",
     "text": [
      "Epoch [1693/5000]: 100%|██████████| 9/9 [00:00<00:00, 456.85it/s, loss=1.93]\n"
     ]
    },
    {
     "name": "stdout",
     "output_type": "stream",
     "text": [
      "Epoch [1693/5000]: Train loss: 1.4988, Valid loss: 1.2240\n"
     ]
    },
    {
     "name": "stderr",
     "output_type": "stream",
     "text": [
      "Epoch [1694/5000]: 100%|██████████| 9/9 [00:00<00:00, 421.68it/s, loss=1.6]\n"
     ]
    },
    {
     "name": "stdout",
     "output_type": "stream",
     "text": [
      "Epoch [1694/5000]: Train loss: 1.4548, Valid loss: 1.1257\n"
     ]
    },
    {
     "name": "stderr",
     "output_type": "stream",
     "text": [
      "Epoch [1695/5000]: 100%|██████████| 9/9 [00:00<00:00, 402.29it/s, loss=1.54]\n"
     ]
    },
    {
     "name": "stdout",
     "output_type": "stream",
     "text": [
      "Epoch [1695/5000]: Train loss: 1.5846, Valid loss: 1.0641\n"
     ]
    },
    {
     "name": "stderr",
     "output_type": "stream",
     "text": [
      "Epoch [1696/5000]: 100%|██████████| 9/9 [00:00<00:00, 408.77it/s, loss=1.63]\n"
     ]
    },
    {
     "name": "stdout",
     "output_type": "stream",
     "text": [
      "Epoch [1696/5000]: Train loss: 1.4425, Valid loss: 1.0212\n"
     ]
    },
    {
     "name": "stderr",
     "output_type": "stream",
     "text": [
      "Epoch [1697/5000]: 100%|██████████| 9/9 [00:00<00:00, 407.81it/s, loss=1.37]\n"
     ]
    },
    {
     "name": "stdout",
     "output_type": "stream",
     "text": [
      "Epoch [1697/5000]: Train loss: 1.4572, Valid loss: 0.9470\n"
     ]
    },
    {
     "name": "stderr",
     "output_type": "stream",
     "text": [
      "Epoch [1698/5000]: 100%|██████████| 9/9 [00:00<00:00, 386.07it/s, loss=1.7]\n"
     ]
    },
    {
     "name": "stdout",
     "output_type": "stream",
     "text": [
      "Epoch [1698/5000]: Train loss: 1.4915, Valid loss: 1.0511\n"
     ]
    },
    {
     "name": "stderr",
     "output_type": "stream",
     "text": [
      "Epoch [1699/5000]: 100%|██████████| 9/9 [00:00<00:00, 399.20it/s, loss=1.71]\n"
     ]
    },
    {
     "name": "stdout",
     "output_type": "stream",
     "text": [
      "Epoch [1699/5000]: Train loss: 1.5095, Valid loss: 1.1297\n"
     ]
    },
    {
     "name": "stderr",
     "output_type": "stream",
     "text": [
      "Epoch [1700/5000]: 100%|██████████| 9/9 [00:00<00:00, 376.74it/s, loss=1.4]\n"
     ]
    },
    {
     "name": "stdout",
     "output_type": "stream",
     "text": [
      "Epoch [1700/5000]: Train loss: 1.4544, Valid loss: 1.1430\n"
     ]
    },
    {
     "name": "stderr",
     "output_type": "stream",
     "text": [
      "Epoch [1701/5000]: 100%|██████████| 9/9 [00:00<00:00, 417.04it/s, loss=1.54]\n"
     ]
    },
    {
     "name": "stdout",
     "output_type": "stream",
     "text": [
      "Epoch [1701/5000]: Train loss: 1.4880, Valid loss: 1.0781\n"
     ]
    },
    {
     "name": "stderr",
     "output_type": "stream",
     "text": [
      "Epoch [1702/5000]: 100%|██████████| 9/9 [00:00<00:00, 409.35it/s, loss=1.7]\n"
     ]
    },
    {
     "name": "stdout",
     "output_type": "stream",
     "text": [
      "Epoch [1702/5000]: Train loss: 1.4705, Valid loss: 1.0788\n"
     ]
    },
    {
     "name": "stderr",
     "output_type": "stream",
     "text": [
      "Epoch [1703/5000]: 100%|██████████| 9/9 [00:00<00:00, 396.93it/s, loss=1.51]\n"
     ]
    },
    {
     "name": "stdout",
     "output_type": "stream",
     "text": [
      "Epoch [1703/5000]: Train loss: 1.4564, Valid loss: 1.1053\n"
     ]
    },
    {
     "name": "stderr",
     "output_type": "stream",
     "text": [
      "Epoch [1704/5000]: 100%|██████████| 9/9 [00:00<00:00, 413.39it/s, loss=1.2]\n"
     ]
    },
    {
     "name": "stdout",
     "output_type": "stream",
     "text": [
      "Epoch [1704/5000]: Train loss: 1.4487, Valid loss: 1.0759\n"
     ]
    },
    {
     "name": "stderr",
     "output_type": "stream",
     "text": [
      "Epoch [1705/5000]: 100%|██████████| 9/9 [00:00<00:00, 435.94it/s, loss=2.19]\n"
     ]
    },
    {
     "name": "stdout",
     "output_type": "stream",
     "text": [
      "Epoch [1705/5000]: Train loss: 1.5643, Valid loss: 1.0764\n"
     ]
    },
    {
     "name": "stderr",
     "output_type": "stream",
     "text": [
      "Epoch [1706/5000]: 100%|██████████| 9/9 [00:00<00:00, 426.20it/s, loss=1.81]\n"
     ]
    },
    {
     "name": "stdout",
     "output_type": "stream",
     "text": [
      "Epoch [1706/5000]: Train loss: 1.4510, Valid loss: 1.0454\n"
     ]
    },
    {
     "name": "stderr",
     "output_type": "stream",
     "text": [
      "Epoch [1707/5000]: 100%|██████████| 9/9 [00:00<00:00, 392.02it/s, loss=1.32]\n"
     ]
    },
    {
     "name": "stdout",
     "output_type": "stream",
     "text": [
      "Epoch [1707/5000]: Train loss: 1.4971, Valid loss: 1.0964\n"
     ]
    },
    {
     "name": "stderr",
     "output_type": "stream",
     "text": [
      "Epoch [1708/5000]: 100%|██████████| 9/9 [00:00<00:00, 416.57it/s, loss=1.39]\n"
     ]
    },
    {
     "name": "stdout",
     "output_type": "stream",
     "text": [
      "Epoch [1708/5000]: Train loss: 1.4508, Valid loss: 1.0727\n"
     ]
    },
    {
     "name": "stderr",
     "output_type": "stream",
     "text": [
      "Epoch [1709/5000]: 100%|██████████| 9/9 [00:00<00:00, 427.29it/s, loss=1.74]\n"
     ]
    },
    {
     "name": "stdout",
     "output_type": "stream",
     "text": [
      "Epoch [1709/5000]: Train loss: 1.4575, Valid loss: 1.0437\n"
     ]
    },
    {
     "name": "stderr",
     "output_type": "stream",
     "text": [
      "Epoch [1710/5000]: 100%|██████████| 9/9 [00:00<00:00, 432.65it/s, loss=1.79]\n"
     ]
    },
    {
     "name": "stdout",
     "output_type": "stream",
     "text": [
      "Epoch [1710/5000]: Train loss: 1.4646, Valid loss: 1.1076\n"
     ]
    },
    {
     "name": "stderr",
     "output_type": "stream",
     "text": [
      "Epoch [1711/5000]: 100%|██████████| 9/9 [00:00<00:00, 459.89it/s, loss=1.06]\n"
     ]
    },
    {
     "name": "stdout",
     "output_type": "stream",
     "text": [
      "Epoch [1711/5000]: Train loss: 1.4831, Valid loss: 1.0742\n"
     ]
    },
    {
     "name": "stderr",
     "output_type": "stream",
     "text": [
      "Epoch [1712/5000]: 100%|██████████| 9/9 [00:00<00:00, 360.88it/s, loss=1.33]\n"
     ]
    },
    {
     "name": "stdout",
     "output_type": "stream",
     "text": [
      "Epoch [1712/5000]: Train loss: 1.4871, Valid loss: 1.1218\n"
     ]
    },
    {
     "name": "stderr",
     "output_type": "stream",
     "text": [
      "Epoch [1713/5000]: 100%|██████████| 9/9 [00:00<00:00, 341.81it/s, loss=1.21]\n"
     ]
    },
    {
     "name": "stdout",
     "output_type": "stream",
     "text": [
      "Epoch [1713/5000]: Train loss: 1.4199, Valid loss: 1.1290\n"
     ]
    },
    {
     "name": "stderr",
     "output_type": "stream",
     "text": [
      "Epoch [1714/5000]: 100%|██████████| 9/9 [00:00<00:00, 356.40it/s, loss=1.46]\n"
     ]
    },
    {
     "name": "stdout",
     "output_type": "stream",
     "text": [
      "Epoch [1714/5000]: Train loss: 1.5141, Valid loss: 1.0734\n"
     ]
    },
    {
     "name": "stderr",
     "output_type": "stream",
     "text": [
      "Epoch [1715/5000]: 100%|██████████| 9/9 [00:00<00:00, 367.48it/s, loss=1.27]\n"
     ]
    },
    {
     "name": "stdout",
     "output_type": "stream",
     "text": [
      "Epoch [1715/5000]: Train loss: 1.4131, Valid loss: 1.1544\n"
     ]
    },
    {
     "name": "stderr",
     "output_type": "stream",
     "text": [
      "Epoch [1716/5000]: 100%|██████████| 9/9 [00:00<00:00, 361.02it/s, loss=1.51]\n"
     ]
    },
    {
     "name": "stdout",
     "output_type": "stream",
     "text": [
      "Epoch [1716/5000]: Train loss: 1.4980, Valid loss: 1.0814\n"
     ]
    },
    {
     "name": "stderr",
     "output_type": "stream",
     "text": [
      "Epoch [1717/5000]: 100%|██████████| 9/9 [00:00<00:00, 285.78it/s, loss=1.47]\n"
     ]
    },
    {
     "name": "stdout",
     "output_type": "stream",
     "text": [
      "Epoch [1717/5000]: Train loss: 1.4868, Valid loss: 1.0997\n"
     ]
    },
    {
     "name": "stderr",
     "output_type": "stream",
     "text": [
      "Epoch [1718/5000]: 100%|██████████| 9/9 [00:00<00:00, 378.20it/s, loss=1.36]\n"
     ]
    },
    {
     "name": "stdout",
     "output_type": "stream",
     "text": [
      "Epoch [1718/5000]: Train loss: 1.5264, Valid loss: 1.0358\n"
     ]
    },
    {
     "name": "stderr",
     "output_type": "stream",
     "text": [
      "Epoch [1719/5000]: 100%|██████████| 9/9 [00:00<00:00, 384.77it/s, loss=1.31]\n"
     ]
    },
    {
     "name": "stdout",
     "output_type": "stream",
     "text": [
      "Epoch [1719/5000]: Train loss: 1.4034, Valid loss: 1.1127\n"
     ]
    },
    {
     "name": "stderr",
     "output_type": "stream",
     "text": [
      "Epoch [1720/5000]: 100%|██████████| 9/9 [00:00<00:00, 381.25it/s, loss=1.52]\n"
     ]
    },
    {
     "name": "stdout",
     "output_type": "stream",
     "text": [
      "Epoch [1720/5000]: Train loss: 1.5393, Valid loss: 1.0221\n"
     ]
    },
    {
     "name": "stderr",
     "output_type": "stream",
     "text": [
      "Epoch [1721/5000]: 100%|██████████| 9/9 [00:00<00:00, 375.05it/s, loss=1.45]\n"
     ]
    },
    {
     "name": "stdout",
     "output_type": "stream",
     "text": [
      "Epoch [1721/5000]: Train loss: 1.4549, Valid loss: 1.1454\n"
     ]
    },
    {
     "name": "stderr",
     "output_type": "stream",
     "text": [
      "Epoch [1722/5000]: 100%|██████████| 9/9 [00:00<00:00, 379.88it/s, loss=1.89]\n"
     ]
    },
    {
     "name": "stdout",
     "output_type": "stream",
     "text": [
      "Epoch [1722/5000]: Train loss: 1.4625, Valid loss: 0.9736\n"
     ]
    },
    {
     "name": "stderr",
     "output_type": "stream",
     "text": [
      "Epoch [1723/5000]: 100%|██████████| 9/9 [00:00<00:00, 394.39it/s, loss=1.56]\n"
     ]
    },
    {
     "name": "stdout",
     "output_type": "stream",
     "text": [
      "Epoch [1723/5000]: Train loss: 1.4596, Valid loss: 1.0731\n"
     ]
    },
    {
     "name": "stderr",
     "output_type": "stream",
     "text": [
      "Epoch [1724/5000]: 100%|██████████| 9/9 [00:00<00:00, 391.41it/s, loss=1.41]\n"
     ]
    },
    {
     "name": "stdout",
     "output_type": "stream",
     "text": [
      "Epoch [1724/5000]: Train loss: 1.4033, Valid loss: 1.2419\n"
     ]
    },
    {
     "name": "stderr",
     "output_type": "stream",
     "text": [
      "Epoch [1725/5000]: 100%|██████████| 9/9 [00:00<00:00, 393.41it/s, loss=1.3]\n"
     ]
    },
    {
     "name": "stdout",
     "output_type": "stream",
     "text": [
      "Epoch [1725/5000]: Train loss: 1.4040, Valid loss: 1.1554\n"
     ]
    },
    {
     "name": "stderr",
     "output_type": "stream",
     "text": [
      "Epoch [1726/5000]: 100%|██████████| 9/9 [00:00<00:00, 393.37it/s, loss=1.46]\n"
     ]
    },
    {
     "name": "stdout",
     "output_type": "stream",
     "text": [
      "Epoch [1726/5000]: Train loss: 1.4505, Valid loss: 1.0063\n"
     ]
    },
    {
     "name": "stderr",
     "output_type": "stream",
     "text": [
      "Epoch [1727/5000]: 100%|██████████| 9/9 [00:00<00:00, 390.07it/s, loss=1.63]\n"
     ]
    },
    {
     "name": "stdout",
     "output_type": "stream",
     "text": [
      "Epoch [1727/5000]: Train loss: 1.5323, Valid loss: 1.0905\n"
     ]
    },
    {
     "name": "stderr",
     "output_type": "stream",
     "text": [
      "Epoch [1728/5000]: 100%|██████████| 9/9 [00:00<00:00, 386.25it/s, loss=1.41]\n"
     ]
    },
    {
     "name": "stdout",
     "output_type": "stream",
     "text": [
      "Epoch [1728/5000]: Train loss: 1.4259, Valid loss: 1.0816\n"
     ]
    },
    {
     "name": "stderr",
     "output_type": "stream",
     "text": [
      "Epoch [1729/5000]: 100%|██████████| 9/9 [00:00<00:00, 388.63it/s, loss=1.56]\n"
     ]
    },
    {
     "name": "stdout",
     "output_type": "stream",
     "text": [
      "Epoch [1729/5000]: Train loss: 1.5105, Valid loss: 1.0107\n"
     ]
    },
    {
     "name": "stderr",
     "output_type": "stream",
     "text": [
      "Epoch [1730/5000]: 100%|██████████| 9/9 [00:00<00:00, 385.98it/s, loss=1.67]\n"
     ]
    },
    {
     "name": "stdout",
     "output_type": "stream",
     "text": [
      "Epoch [1730/5000]: Train loss: 1.5078, Valid loss: 1.0710\n"
     ]
    },
    {
     "name": "stderr",
     "output_type": "stream",
     "text": [
      "Epoch [1731/5000]: 100%|██████████| 9/9 [00:00<00:00, 400.09it/s, loss=1.34]\n"
     ]
    },
    {
     "name": "stdout",
     "output_type": "stream",
     "text": [
      "Epoch [1731/5000]: Train loss: 1.4937, Valid loss: 1.0877\n"
     ]
    },
    {
     "name": "stderr",
     "output_type": "stream",
     "text": [
      "Epoch [1732/5000]: 100%|██████████| 9/9 [00:00<00:00, 395.31it/s, loss=1.61]\n"
     ]
    },
    {
     "name": "stdout",
     "output_type": "stream",
     "text": [
      "Epoch [1732/5000]: Train loss: 1.4520, Valid loss: 1.1052\n"
     ]
    },
    {
     "name": "stderr",
     "output_type": "stream",
     "text": [
      "Epoch [1733/5000]: 100%|██████████| 9/9 [00:00<00:00, 404.37it/s, loss=1.52]\n"
     ]
    },
    {
     "name": "stdout",
     "output_type": "stream",
     "text": [
      "Epoch [1733/5000]: Train loss: 1.4850, Valid loss: 0.9969\n"
     ]
    },
    {
     "name": "stderr",
     "output_type": "stream",
     "text": [
      "Epoch [1734/5000]: 100%|██████████| 9/9 [00:00<00:00, 414.44it/s, loss=1.55]\n"
     ]
    },
    {
     "name": "stdout",
     "output_type": "stream",
     "text": [
      "Epoch [1734/5000]: Train loss: 1.4723, Valid loss: 1.1475\n"
     ]
    },
    {
     "name": "stderr",
     "output_type": "stream",
     "text": [
      "Epoch [1735/5000]: 100%|██████████| 9/9 [00:00<00:00, 387.72it/s, loss=1.67]\n"
     ]
    },
    {
     "name": "stdout",
     "output_type": "stream",
     "text": [
      "Epoch [1735/5000]: Train loss: 1.4535, Valid loss: 1.0687\n"
     ]
    },
    {
     "name": "stderr",
     "output_type": "stream",
     "text": [
      "Epoch [1736/5000]: 100%|██████████| 9/9 [00:00<00:00, 395.19it/s, loss=1.66]\n"
     ]
    },
    {
     "name": "stdout",
     "output_type": "stream",
     "text": [
      "Epoch [1736/5000]: Train loss: 1.5004, Valid loss: 1.1029\n"
     ]
    },
    {
     "name": "stderr",
     "output_type": "stream",
     "text": [
      "Epoch [1737/5000]: 100%|██████████| 9/9 [00:00<00:00, 400.05it/s, loss=1.35]\n"
     ]
    },
    {
     "name": "stdout",
     "output_type": "stream",
     "text": [
      "Epoch [1737/5000]: Train loss: 1.4308, Valid loss: 1.0571\n"
     ]
    },
    {
     "name": "stderr",
     "output_type": "stream",
     "text": [
      "Epoch [1738/5000]: 100%|██████████| 9/9 [00:00<00:00, 382.15it/s, loss=1.6]\n"
     ]
    },
    {
     "name": "stdout",
     "output_type": "stream",
     "text": [
      "Epoch [1738/5000]: Train loss: 1.4476, Valid loss: 1.0724\n"
     ]
    },
    {
     "name": "stderr",
     "output_type": "stream",
     "text": [
      "Epoch [1739/5000]: 100%|██████████| 9/9 [00:00<00:00, 353.87it/s, loss=1.48]\n"
     ]
    },
    {
     "name": "stdout",
     "output_type": "stream",
     "text": [
      "Epoch [1739/5000]: Train loss: 1.4819, Valid loss: 1.1074\n"
     ]
    },
    {
     "name": "stderr",
     "output_type": "stream",
     "text": [
      "Epoch [1740/5000]: 100%|██████████| 9/9 [00:00<00:00, 362.10it/s, loss=1.65]\n"
     ]
    },
    {
     "name": "stdout",
     "output_type": "stream",
     "text": [
      "Epoch [1740/5000]: Train loss: 1.5074, Valid loss: 0.9843\n"
     ]
    },
    {
     "name": "stderr",
     "output_type": "stream",
     "text": [
      "Epoch [1741/5000]: 100%|██████████| 9/9 [00:00<00:00, 362.39it/s, loss=1.4]\n"
     ]
    },
    {
     "name": "stdout",
     "output_type": "stream",
     "text": [
      "Epoch [1741/5000]: Train loss: 1.4591, Valid loss: 1.1102\n"
     ]
    },
    {
     "name": "stderr",
     "output_type": "stream",
     "text": [
      "Epoch [1742/5000]: 100%|██████████| 9/9 [00:00<00:00, 370.74it/s, loss=1.29]\n"
     ]
    },
    {
     "name": "stdout",
     "output_type": "stream",
     "text": [
      "Epoch [1742/5000]: Train loss: 1.5420, Valid loss: 1.0497\n"
     ]
    },
    {
     "name": "stderr",
     "output_type": "stream",
     "text": [
      "Epoch [1743/5000]: 100%|██████████| 9/9 [00:00<00:00, 361.18it/s, loss=1.87]\n"
     ]
    },
    {
     "name": "stdout",
     "output_type": "stream",
     "text": [
      "Epoch [1743/5000]: Train loss: 1.4817, Valid loss: 1.0623\n"
     ]
    },
    {
     "name": "stderr",
     "output_type": "stream",
     "text": [
      "Epoch [1744/5000]: 100%|██████████| 9/9 [00:00<00:00, 384.01it/s, loss=1.26]\n"
     ]
    },
    {
     "name": "stdout",
     "output_type": "stream",
     "text": [
      "Epoch [1744/5000]: Train loss: 1.5502, Valid loss: 1.0822\n"
     ]
    },
    {
     "name": "stderr",
     "output_type": "stream",
     "text": [
      "Epoch [1745/5000]: 100%|██████████| 9/9 [00:00<00:00, 356.37it/s, loss=2.52]\n"
     ]
    },
    {
     "name": "stdout",
     "output_type": "stream",
     "text": [
      "Epoch [1745/5000]: Train loss: 1.5744, Valid loss: 1.1035\n"
     ]
    },
    {
     "name": "stderr",
     "output_type": "stream",
     "text": [
      "Epoch [1746/5000]: 100%|██████████| 9/9 [00:00<00:00, 393.75it/s, loss=1.46]\n"
     ]
    },
    {
     "name": "stdout",
     "output_type": "stream",
     "text": [
      "Epoch [1746/5000]: Train loss: 1.4342, Valid loss: 1.1820\n"
     ]
    },
    {
     "name": "stderr",
     "output_type": "stream",
     "text": [
      "Epoch [1747/5000]: 100%|██████████| 9/9 [00:00<00:00, 361.10it/s, loss=1.41]\n"
     ]
    },
    {
     "name": "stdout",
     "output_type": "stream",
     "text": [
      "Epoch [1747/5000]: Train loss: 1.4784, Valid loss: 1.0540\n"
     ]
    },
    {
     "name": "stderr",
     "output_type": "stream",
     "text": [
      "Epoch [1748/5000]: 100%|██████████| 9/9 [00:00<00:00, 394.58it/s, loss=1.13]\n"
     ]
    },
    {
     "name": "stdout",
     "output_type": "stream",
     "text": [
      "Epoch [1748/5000]: Train loss: 1.4095, Valid loss: 1.1787\n"
     ]
    },
    {
     "name": "stderr",
     "output_type": "stream",
     "text": [
      "Epoch [1749/5000]: 100%|██████████| 9/9 [00:00<00:00, 384.78it/s, loss=1.41]\n"
     ]
    },
    {
     "name": "stdout",
     "output_type": "stream",
     "text": [
      "Epoch [1749/5000]: Train loss: 1.4304, Valid loss: 1.1862\n"
     ]
    },
    {
     "name": "stderr",
     "output_type": "stream",
     "text": [
      "Epoch [1750/5000]: 100%|██████████| 9/9 [00:00<00:00, 384.66it/s, loss=1.29]\n"
     ]
    },
    {
     "name": "stdout",
     "output_type": "stream",
     "text": [
      "Epoch [1750/5000]: Train loss: 1.4722, Valid loss: 1.0891\n"
     ]
    },
    {
     "name": "stderr",
     "output_type": "stream",
     "text": [
      "Epoch [1751/5000]: 100%|██████████| 9/9 [00:00<00:00, 389.41it/s, loss=1.57]\n"
     ]
    },
    {
     "name": "stdout",
     "output_type": "stream",
     "text": [
      "Epoch [1751/5000]: Train loss: 1.5258, Valid loss: 1.0654\n"
     ]
    },
    {
     "name": "stderr",
     "output_type": "stream",
     "text": [
      "Epoch [1752/5000]: 100%|██████████| 9/9 [00:00<00:00, 403.44it/s, loss=1.3]\n"
     ]
    },
    {
     "name": "stdout",
     "output_type": "stream",
     "text": [
      "Epoch [1752/5000]: Train loss: 1.4456, Valid loss: 1.0205\n"
     ]
    },
    {
     "name": "stderr",
     "output_type": "stream",
     "text": [
      "Epoch [1753/5000]: 100%|██████████| 9/9 [00:00<00:00, 376.75it/s, loss=1.52]\n"
     ]
    },
    {
     "name": "stdout",
     "output_type": "stream",
     "text": [
      "Epoch [1753/5000]: Train loss: 1.4834, Valid loss: 1.0832\n"
     ]
    },
    {
     "name": "stderr",
     "output_type": "stream",
     "text": [
      "Epoch [1754/5000]: 100%|██████████| 9/9 [00:00<00:00, 411.51it/s, loss=1.45]\n"
     ]
    },
    {
     "name": "stdout",
     "output_type": "stream",
     "text": [
      "Epoch [1754/5000]: Train loss: 1.4166, Valid loss: 1.0786\n"
     ]
    },
    {
     "name": "stderr",
     "output_type": "stream",
     "text": [
      "Epoch [1755/5000]: 100%|██████████| 9/9 [00:00<00:00, 406.54it/s, loss=1.7]\n"
     ]
    },
    {
     "name": "stdout",
     "output_type": "stream",
     "text": [
      "Epoch [1755/5000]: Train loss: 1.4640, Valid loss: 1.0901\n"
     ]
    },
    {
     "name": "stderr",
     "output_type": "stream",
     "text": [
      "Epoch [1756/5000]: 100%|██████████| 9/9 [00:00<00:00, 370.11it/s, loss=1.74]\n"
     ]
    },
    {
     "name": "stdout",
     "output_type": "stream",
     "text": [
      "Epoch [1756/5000]: Train loss: 1.5075, Valid loss: 1.0886\n"
     ]
    },
    {
     "name": "stderr",
     "output_type": "stream",
     "text": [
      "Epoch [1757/5000]: 100%|██████████| 9/9 [00:00<00:00, 383.42it/s, loss=1.38]\n"
     ]
    },
    {
     "name": "stdout",
     "output_type": "stream",
     "text": [
      "Epoch [1757/5000]: Train loss: 1.4758, Valid loss: 1.0698\n"
     ]
    },
    {
     "name": "stderr",
     "output_type": "stream",
     "text": [
      "Epoch [1758/5000]: 100%|██████████| 9/9 [00:00<00:00, 388.75it/s, loss=1.55]\n"
     ]
    },
    {
     "name": "stdout",
     "output_type": "stream",
     "text": [
      "Epoch [1758/5000]: Train loss: 1.4576, Valid loss: 1.0573\n"
     ]
    },
    {
     "name": "stderr",
     "output_type": "stream",
     "text": [
      "Epoch [1759/5000]: 100%|██████████| 9/9 [00:00<00:00, 385.04it/s, loss=1.54]\n"
     ]
    },
    {
     "name": "stdout",
     "output_type": "stream",
     "text": [
      "Epoch [1759/5000]: Train loss: 1.4712, Valid loss: 1.0721\n"
     ]
    },
    {
     "name": "stderr",
     "output_type": "stream",
     "text": [
      "Epoch [1760/5000]: 100%|██████████| 9/9 [00:00<00:00, 410.94it/s, loss=1.53]\n"
     ]
    },
    {
     "name": "stdout",
     "output_type": "stream",
     "text": [
      "Epoch [1760/5000]: Train loss: 1.4623, Valid loss: 1.0994\n"
     ]
    },
    {
     "name": "stderr",
     "output_type": "stream",
     "text": [
      "Epoch [1761/5000]: 100%|██████████| 9/9 [00:00<00:00, 433.17it/s, loss=1.61]\n"
     ]
    },
    {
     "name": "stdout",
     "output_type": "stream",
     "text": [
      "Epoch [1761/5000]: Train loss: 1.5312, Valid loss: 1.1790\n"
     ]
    },
    {
     "name": "stderr",
     "output_type": "stream",
     "text": [
      "Epoch [1762/5000]: 100%|██████████| 9/9 [00:00<00:00, 412.43it/s, loss=1.52]\n"
     ]
    },
    {
     "name": "stdout",
     "output_type": "stream",
     "text": [
      "Epoch [1762/5000]: Train loss: 1.5138, Valid loss: 1.0133\n"
     ]
    },
    {
     "name": "stderr",
     "output_type": "stream",
     "text": [
      "Epoch [1763/5000]: 100%|██████████| 9/9 [00:00<00:00, 413.85it/s, loss=1.26]\n"
     ]
    },
    {
     "name": "stdout",
     "output_type": "stream",
     "text": [
      "Epoch [1763/5000]: Train loss: 1.4655, Valid loss: 1.0957\n"
     ]
    },
    {
     "name": "stderr",
     "output_type": "stream",
     "text": [
      "Epoch [1764/5000]: 100%|██████████| 9/9 [00:00<00:00, 452.83it/s, loss=1.58]\n"
     ]
    },
    {
     "name": "stdout",
     "output_type": "stream",
     "text": [
      "Epoch [1764/5000]: Train loss: 1.5397, Valid loss: 1.0750\n"
     ]
    },
    {
     "name": "stderr",
     "output_type": "stream",
     "text": [
      "Epoch [1765/5000]: 100%|██████████| 9/9 [00:00<00:00, 400.83it/s, loss=1.58]\n"
     ]
    },
    {
     "name": "stdout",
     "output_type": "stream",
     "text": [
      "Epoch [1765/5000]: Train loss: 1.4903, Valid loss: 1.0470\n"
     ]
    },
    {
     "name": "stderr",
     "output_type": "stream",
     "text": [
      "Epoch [1766/5000]: 100%|██████████| 9/9 [00:00<00:00, 394.34it/s, loss=1.71]\n"
     ]
    },
    {
     "name": "stdout",
     "output_type": "stream",
     "text": [
      "Epoch [1766/5000]: Train loss: 1.5186, Valid loss: 1.1349\n"
     ]
    },
    {
     "name": "stderr",
     "output_type": "stream",
     "text": [
      "Epoch [1767/5000]: 100%|██████████| 9/9 [00:00<00:00, 407.90it/s, loss=1.28]\n"
     ]
    },
    {
     "name": "stdout",
     "output_type": "stream",
     "text": [
      "Epoch [1767/5000]: Train loss: 1.5160, Valid loss: 1.0516\n"
     ]
    },
    {
     "name": "stderr",
     "output_type": "stream",
     "text": [
      "Epoch [1768/5000]: 100%|██████████| 9/9 [00:00<00:00, 413.45it/s, loss=1.38]\n"
     ]
    },
    {
     "name": "stdout",
     "output_type": "stream",
     "text": [
      "Epoch [1768/5000]: Train loss: 1.4851, Valid loss: 1.0516\n"
     ]
    },
    {
     "name": "stderr",
     "output_type": "stream",
     "text": [
      "Epoch [1769/5000]: 100%|██████████| 9/9 [00:00<00:00, 416.59it/s, loss=1.35]\n"
     ]
    },
    {
     "name": "stdout",
     "output_type": "stream",
     "text": [
      "Epoch [1769/5000]: Train loss: 1.4808, Valid loss: 1.1134\n"
     ]
    },
    {
     "name": "stderr",
     "output_type": "stream",
     "text": [
      "Epoch [1770/5000]: 100%|██████████| 9/9 [00:00<00:00, 383.17it/s, loss=1.56]\n"
     ]
    },
    {
     "name": "stdout",
     "output_type": "stream",
     "text": [
      "Epoch [1770/5000]: Train loss: 1.4814, Valid loss: 1.0267\n"
     ]
    },
    {
     "name": "stderr",
     "output_type": "stream",
     "text": [
      "Epoch [1771/5000]: 100%|██████████| 9/9 [00:00<00:00, 374.81it/s, loss=1.43]\n"
     ]
    },
    {
     "name": "stdout",
     "output_type": "stream",
     "text": [
      "Epoch [1771/5000]: Train loss: 1.4812, Valid loss: 1.1312\n"
     ]
    },
    {
     "name": "stderr",
     "output_type": "stream",
     "text": [
      "Epoch [1772/5000]: 100%|██████████| 9/9 [00:00<00:00, 346.41it/s, loss=1.39]\n"
     ]
    },
    {
     "name": "stdout",
     "output_type": "stream",
     "text": [
      "Epoch [1772/5000]: Train loss: 1.3868, Valid loss: 1.0379\n"
     ]
    },
    {
     "name": "stderr",
     "output_type": "stream",
     "text": [
      "Epoch [1773/5000]: 100%|██████████| 9/9 [00:00<00:00, 349.96it/s, loss=1.6]\n"
     ]
    },
    {
     "name": "stdout",
     "output_type": "stream",
     "text": [
      "Epoch [1773/5000]: Train loss: 1.4491, Valid loss: 1.1402\n"
     ]
    },
    {
     "name": "stderr",
     "output_type": "stream",
     "text": [
      "Epoch [1774/5000]: 100%|██████████| 9/9 [00:00<00:00, 373.63it/s, loss=1.34]\n"
     ]
    },
    {
     "name": "stdout",
     "output_type": "stream",
     "text": [
      "Epoch [1774/5000]: Train loss: 1.4801, Valid loss: 1.0822\n"
     ]
    },
    {
     "name": "stderr",
     "output_type": "stream",
     "text": [
      "Epoch [1775/5000]: 100%|██████████| 9/9 [00:00<00:00, 352.24it/s, loss=1.81]\n"
     ]
    },
    {
     "name": "stdout",
     "output_type": "stream",
     "text": [
      "Epoch [1775/5000]: Train loss: 1.5295, Valid loss: 1.0628\n"
     ]
    },
    {
     "name": "stderr",
     "output_type": "stream",
     "text": [
      "Epoch [1776/5000]: 100%|██████████| 9/9 [00:00<00:00, 267.44it/s, loss=1.58]\n"
     ]
    },
    {
     "name": "stdout",
     "output_type": "stream",
     "text": [
      "Epoch [1776/5000]: Train loss: 1.4402, Valid loss: 1.0586\n"
     ]
    },
    {
     "name": "stderr",
     "output_type": "stream",
     "text": [
      "Epoch [1777/5000]: 100%|██████████| 9/9 [00:00<00:00, 387.40it/s, loss=1.42]\n"
     ]
    },
    {
     "name": "stdout",
     "output_type": "stream",
     "text": [
      "Epoch [1777/5000]: Train loss: 1.4467, Valid loss: 1.0363\n"
     ]
    },
    {
     "name": "stderr",
     "output_type": "stream",
     "text": [
      "Epoch [1778/5000]: 100%|██████████| 9/9 [00:00<00:00, 370.12it/s, loss=1.47]\n"
     ]
    },
    {
     "name": "stdout",
     "output_type": "stream",
     "text": [
      "Epoch [1778/5000]: Train loss: 1.4751, Valid loss: 1.0818\n"
     ]
    },
    {
     "name": "stderr",
     "output_type": "stream",
     "text": [
      "Epoch [1779/5000]: 100%|██████████| 9/9 [00:00<00:00, 383.53it/s, loss=1.3]\n"
     ]
    },
    {
     "name": "stdout",
     "output_type": "stream",
     "text": [
      "Epoch [1779/5000]: Train loss: 1.4260, Valid loss: 1.1744\n"
     ]
    },
    {
     "name": "stderr",
     "output_type": "stream",
     "text": [
      "Epoch [1780/5000]: 100%|██████████| 9/9 [00:00<00:00, 393.31it/s, loss=1.43]\n"
     ]
    },
    {
     "name": "stdout",
     "output_type": "stream",
     "text": [
      "Epoch [1780/5000]: Train loss: 1.4659, Valid loss: 1.0839\n"
     ]
    },
    {
     "name": "stderr",
     "output_type": "stream",
     "text": [
      "Epoch [1781/5000]: 100%|██████████| 9/9 [00:00<00:00, 391.68it/s, loss=1.26]\n"
     ]
    },
    {
     "name": "stdout",
     "output_type": "stream",
     "text": [
      "Epoch [1781/5000]: Train loss: 1.4462, Valid loss: 1.0923\n"
     ]
    },
    {
     "name": "stderr",
     "output_type": "stream",
     "text": [
      "Epoch [1782/5000]: 100%|██████████| 9/9 [00:00<00:00, 397.10it/s, loss=1.69]\n"
     ]
    },
    {
     "name": "stdout",
     "output_type": "stream",
     "text": [
      "Epoch [1782/5000]: Train loss: 1.4537, Valid loss: 1.0838\n"
     ]
    },
    {
     "name": "stderr",
     "output_type": "stream",
     "text": [
      "Epoch [1783/5000]: 100%|██████████| 9/9 [00:00<00:00, 383.71it/s, loss=1.25]\n"
     ]
    },
    {
     "name": "stdout",
     "output_type": "stream",
     "text": [
      "Epoch [1783/5000]: Train loss: 1.4534, Valid loss: 1.1122\n"
     ]
    },
    {
     "name": "stderr",
     "output_type": "stream",
     "text": [
      "Epoch [1784/5000]: 100%|██████████| 9/9 [00:00<00:00, 255.19it/s, loss=1.64]\n"
     ]
    },
    {
     "name": "stdout",
     "output_type": "stream",
     "text": [
      "Epoch [1784/5000]: Train loss: 1.5218, Valid loss: 1.0798\n"
     ]
    },
    {
     "name": "stderr",
     "output_type": "stream",
     "text": [
      "Epoch [1785/5000]: 100%|██████████| 9/9 [00:00<00:00, 397.79it/s, loss=1.44]\n"
     ]
    },
    {
     "name": "stdout",
     "output_type": "stream",
     "text": [
      "Epoch [1785/5000]: Train loss: 1.4469, Valid loss: 0.9942\n"
     ]
    },
    {
     "name": "stderr",
     "output_type": "stream",
     "text": [
      "Epoch [1786/5000]: 100%|██████████| 9/9 [00:00<00:00, 397.00it/s, loss=1.68]\n"
     ]
    },
    {
     "name": "stdout",
     "output_type": "stream",
     "text": [
      "Epoch [1786/5000]: Train loss: 1.5000, Valid loss: 1.0678\n"
     ]
    },
    {
     "name": "stderr",
     "output_type": "stream",
     "text": [
      "Epoch [1787/5000]: 100%|██████████| 9/9 [00:00<00:00, 397.51it/s, loss=1.7]\n"
     ]
    },
    {
     "name": "stdout",
     "output_type": "stream",
     "text": [
      "Epoch [1787/5000]: Train loss: 1.4771, Valid loss: 0.9804\n"
     ]
    },
    {
     "name": "stderr",
     "output_type": "stream",
     "text": [
      "Epoch [1788/5000]: 100%|██████████| 9/9 [00:00<00:00, 398.81it/s, loss=1.62]\n"
     ]
    },
    {
     "name": "stdout",
     "output_type": "stream",
     "text": [
      "Epoch [1788/5000]: Train loss: 1.4964, Valid loss: 0.9753\n"
     ]
    },
    {
     "name": "stderr",
     "output_type": "stream",
     "text": [
      "Epoch [1789/5000]: 100%|██████████| 9/9 [00:00<00:00, 403.33it/s, loss=1.25]\n"
     ]
    },
    {
     "name": "stdout",
     "output_type": "stream",
     "text": [
      "Epoch [1789/5000]: Train loss: 1.4182, Valid loss: 1.0433\n"
     ]
    },
    {
     "name": "stderr",
     "output_type": "stream",
     "text": [
      "Epoch [1790/5000]: 100%|██████████| 9/9 [00:00<00:00, 400.98it/s, loss=1.34]\n"
     ]
    },
    {
     "name": "stdout",
     "output_type": "stream",
     "text": [
      "Epoch [1790/5000]: Train loss: 1.4442, Valid loss: 1.1234\n"
     ]
    },
    {
     "name": "stderr",
     "output_type": "stream",
     "text": [
      "Epoch [1791/5000]: 100%|██████████| 9/9 [00:00<00:00, 408.53it/s, loss=1.28]\n"
     ]
    },
    {
     "name": "stdout",
     "output_type": "stream",
     "text": [
      "Epoch [1791/5000]: Train loss: 1.4593, Valid loss: 1.0972\n"
     ]
    },
    {
     "name": "stderr",
     "output_type": "stream",
     "text": [
      "Epoch [1792/5000]: 100%|██████████| 9/9 [00:00<00:00, 385.59it/s, loss=1.58]\n"
     ]
    },
    {
     "name": "stdout",
     "output_type": "stream",
     "text": [
      "Epoch [1792/5000]: Train loss: 1.5542, Valid loss: 0.9898\n"
     ]
    },
    {
     "name": "stderr",
     "output_type": "stream",
     "text": [
      "Epoch [1793/5000]: 100%|██████████| 9/9 [00:00<00:00, 397.69it/s, loss=1.61]\n"
     ]
    },
    {
     "name": "stdout",
     "output_type": "stream",
     "text": [
      "Epoch [1793/5000]: Train loss: 1.4255, Valid loss: 1.0701\n"
     ]
    },
    {
     "name": "stderr",
     "output_type": "stream",
     "text": [
      "Epoch [1794/5000]: 100%|██████████| 9/9 [00:00<00:00, 398.83it/s, loss=2.19]\n"
     ]
    },
    {
     "name": "stdout",
     "output_type": "stream",
     "text": [
      "Epoch [1794/5000]: Train loss: 1.5282, Valid loss: 1.1219\n"
     ]
    },
    {
     "name": "stderr",
     "output_type": "stream",
     "text": [
      "Epoch [1795/5000]: 100%|██████████| 9/9 [00:00<00:00, 410.92it/s, loss=1.19]\n"
     ]
    },
    {
     "name": "stdout",
     "output_type": "stream",
     "text": [
      "Epoch [1795/5000]: Train loss: 1.4229, Valid loss: 1.0379\n"
     ]
    },
    {
     "name": "stderr",
     "output_type": "stream",
     "text": [
      "Epoch [1796/5000]: 100%|██████████| 9/9 [00:00<00:00, 413.15it/s, loss=1.49]\n"
     ]
    },
    {
     "name": "stdout",
     "output_type": "stream",
     "text": [
      "Epoch [1796/5000]: Train loss: 1.4638, Valid loss: 1.0285\n"
     ]
    },
    {
     "name": "stderr",
     "output_type": "stream",
     "text": [
      "Epoch [1797/5000]: 100%|██████████| 9/9 [00:00<00:00, 411.27it/s, loss=1.64]\n"
     ]
    },
    {
     "name": "stdout",
     "output_type": "stream",
     "text": [
      "Epoch [1797/5000]: Train loss: 1.5473, Valid loss: 0.9849\n"
     ]
    },
    {
     "name": "stderr",
     "output_type": "stream",
     "text": [
      "Epoch [1798/5000]: 100%|██████████| 9/9 [00:00<00:00, 423.01it/s, loss=1.62]\n"
     ]
    },
    {
     "name": "stdout",
     "output_type": "stream",
     "text": [
      "Epoch [1798/5000]: Train loss: 1.5072, Valid loss: 1.0100\n"
     ]
    },
    {
     "name": "stderr",
     "output_type": "stream",
     "text": [
      "Epoch [1799/5000]: 100%|██████████| 9/9 [00:00<00:00, 430.13it/s, loss=1.51]\n"
     ]
    },
    {
     "name": "stdout",
     "output_type": "stream",
     "text": [
      "Epoch [1799/5000]: Train loss: 1.4183, Valid loss: 1.1199\n"
     ]
    },
    {
     "name": "stderr",
     "output_type": "stream",
     "text": [
      "Epoch [1800/5000]: 100%|██████████| 9/9 [00:00<00:00, 104.25it/s, loss=1.38]\n"
     ]
    },
    {
     "name": "stdout",
     "output_type": "stream",
     "text": [
      "Epoch [1800/5000]: Train loss: 1.4395, Valid loss: 1.1025\n"
     ]
    },
    {
     "name": "stderr",
     "output_type": "stream",
     "text": [
      "Epoch [1801/5000]: 100%|██████████| 9/9 [00:00<00:00, 403.50it/s, loss=1.48]\n"
     ]
    },
    {
     "name": "stdout",
     "output_type": "stream",
     "text": [
      "Epoch [1801/5000]: Train loss: 1.4434, Valid loss: 1.1541\n"
     ]
    },
    {
     "name": "stderr",
     "output_type": "stream",
     "text": [
      "Epoch [1802/5000]: 100%|██████████| 9/9 [00:00<00:00, 425.61it/s, loss=1.97]\n"
     ]
    },
    {
     "name": "stdout",
     "output_type": "stream",
     "text": [
      "Epoch [1802/5000]: Train loss: 1.6291, Valid loss: 1.0385\n"
     ]
    },
    {
     "name": "stderr",
     "output_type": "stream",
     "text": [
      "Epoch [1803/5000]: 100%|██████████| 9/9 [00:00<00:00, 442.21it/s, loss=1.63]\n"
     ]
    },
    {
     "name": "stdout",
     "output_type": "stream",
     "text": [
      "Epoch [1803/5000]: Train loss: 1.4887, Valid loss: 1.0083\n"
     ]
    },
    {
     "name": "stderr",
     "output_type": "stream",
     "text": [
      "Epoch [1804/5000]: 100%|██████████| 9/9 [00:00<00:00, 445.48it/s, loss=1.43]\n"
     ]
    },
    {
     "name": "stdout",
     "output_type": "stream",
     "text": [
      "Epoch [1804/5000]: Train loss: 1.4443, Valid loss: 1.0738\n"
     ]
    },
    {
     "name": "stderr",
     "output_type": "stream",
     "text": [
      "Epoch [1805/5000]: 100%|██████████| 9/9 [00:00<00:00, 414.67it/s, loss=1.8]\n"
     ]
    },
    {
     "name": "stdout",
     "output_type": "stream",
     "text": [
      "Epoch [1805/5000]: Train loss: 1.5065, Valid loss: 1.1779\n"
     ]
    },
    {
     "name": "stderr",
     "output_type": "stream",
     "text": [
      "Epoch [1806/5000]: 100%|██████████| 9/9 [00:00<00:00, 430.44it/s, loss=1.54]\n"
     ]
    },
    {
     "name": "stdout",
     "output_type": "stream",
     "text": [
      "Epoch [1806/5000]: Train loss: 1.4928, Valid loss: 1.0159\n"
     ]
    },
    {
     "name": "stderr",
     "output_type": "stream",
     "text": [
      "Epoch [1807/5000]: 100%|██████████| 9/9 [00:00<00:00, 442.30it/s, loss=1.62]\n"
     ]
    },
    {
     "name": "stdout",
     "output_type": "stream",
     "text": [
      "Epoch [1807/5000]: Train loss: 1.4995, Valid loss: 0.9754\n"
     ]
    },
    {
     "name": "stderr",
     "output_type": "stream",
     "text": [
      "Epoch [1808/5000]: 100%|██████████| 9/9 [00:00<00:00, 406.71it/s, loss=1.66]\n"
     ]
    },
    {
     "name": "stdout",
     "output_type": "stream",
     "text": [
      "Epoch [1808/5000]: Train loss: 1.4569, Valid loss: 1.0514\n"
     ]
    },
    {
     "name": "stderr",
     "output_type": "stream",
     "text": [
      "Epoch [1809/5000]: 100%|██████████| 9/9 [00:00<00:00, 404.15it/s, loss=2.44]\n"
     ]
    },
    {
     "name": "stdout",
     "output_type": "stream",
     "text": [
      "Epoch [1809/5000]: Train loss: 1.5396, Valid loss: 1.1331\n"
     ]
    },
    {
     "name": "stderr",
     "output_type": "stream",
     "text": [
      "Epoch [1810/5000]: 100%|██████████| 9/9 [00:00<00:00, 414.37it/s, loss=1.45]\n"
     ]
    },
    {
     "name": "stdout",
     "output_type": "stream",
     "text": [
      "Epoch [1810/5000]: Train loss: 1.4719, Valid loss: 1.0004\n"
     ]
    },
    {
     "name": "stderr",
     "output_type": "stream",
     "text": [
      "Epoch [1811/5000]: 100%|██████████| 9/9 [00:00<00:00, 408.59it/s, loss=1.52]\n"
     ]
    },
    {
     "name": "stdout",
     "output_type": "stream",
     "text": [
      "Epoch [1811/5000]: Train loss: 1.4693, Valid loss: 1.0833\n"
     ]
    },
    {
     "name": "stderr",
     "output_type": "stream",
     "text": [
      "Epoch [1812/5000]: 100%|██████████| 9/9 [00:00<00:00, 433.95it/s, loss=1.83]\n"
     ]
    },
    {
     "name": "stdout",
     "output_type": "stream",
     "text": [
      "Epoch [1812/5000]: Train loss: 1.5174, Valid loss: 1.0700\n"
     ]
    },
    {
     "name": "stderr",
     "output_type": "stream",
     "text": [
      "Epoch [1813/5000]: 100%|██████████| 9/9 [00:00<00:00, 409.80it/s, loss=1.34]\n"
     ]
    },
    {
     "name": "stdout",
     "output_type": "stream",
     "text": [
      "Epoch [1813/5000]: Train loss: 1.4971, Valid loss: 1.0955\n"
     ]
    },
    {
     "name": "stderr",
     "output_type": "stream",
     "text": [
      "Epoch [1814/5000]: 100%|██████████| 9/9 [00:00<00:00, 424.61it/s, loss=1.51]\n"
     ]
    },
    {
     "name": "stdout",
     "output_type": "stream",
     "text": [
      "Epoch [1814/5000]: Train loss: 1.4551, Valid loss: 1.3032\n"
     ]
    },
    {
     "name": "stderr",
     "output_type": "stream",
     "text": [
      "Epoch [1815/5000]: 100%|██████████| 9/9 [00:00<00:00, 415.09it/s, loss=1.32]\n"
     ]
    },
    {
     "name": "stdout",
     "output_type": "stream",
     "text": [
      "Epoch [1815/5000]: Train loss: 1.4657, Valid loss: 1.1525\n"
     ]
    },
    {
     "name": "stderr",
     "output_type": "stream",
     "text": [
      "Epoch [1816/5000]: 100%|██████████| 9/9 [00:00<00:00, 414.00it/s, loss=1.7]\n"
     ]
    },
    {
     "name": "stdout",
     "output_type": "stream",
     "text": [
      "Epoch [1816/5000]: Train loss: 1.5365, Valid loss: 1.0885\n"
     ]
    },
    {
     "name": "stderr",
     "output_type": "stream",
     "text": [
      "Epoch [1817/5000]: 100%|██████████| 9/9 [00:00<00:00, 423.43it/s, loss=2]\n"
     ]
    },
    {
     "name": "stdout",
     "output_type": "stream",
     "text": [
      "Epoch [1817/5000]: Train loss: 1.5237, Valid loss: 1.0330\n"
     ]
    },
    {
     "name": "stderr",
     "output_type": "stream",
     "text": [
      "Epoch [1818/5000]: 100%|██████████| 9/9 [00:00<00:00, 438.64it/s, loss=1.26]\n"
     ]
    },
    {
     "name": "stdout",
     "output_type": "stream",
     "text": [
      "Epoch [1818/5000]: Train loss: 1.4950, Valid loss: 1.0753\n"
     ]
    },
    {
     "name": "stderr",
     "output_type": "stream",
     "text": [
      "Epoch [1819/5000]: 100%|██████████| 9/9 [00:00<00:00, 399.61it/s, loss=1.54]\n"
     ]
    },
    {
     "name": "stdout",
     "output_type": "stream",
     "text": [
      "Epoch [1819/5000]: Train loss: 1.5072, Valid loss: 1.0188\n"
     ]
    },
    {
     "name": "stderr",
     "output_type": "stream",
     "text": [
      "Epoch [1820/5000]: 100%|██████████| 9/9 [00:00<00:00, 420.07it/s, loss=1.53]\n"
     ]
    },
    {
     "name": "stdout",
     "output_type": "stream",
     "text": [
      "Epoch [1820/5000]: Train loss: 1.5147, Valid loss: 1.0695\n"
     ]
    },
    {
     "name": "stderr",
     "output_type": "stream",
     "text": [
      "Epoch [1821/5000]: 100%|██████████| 9/9 [00:00<00:00, 432.65it/s, loss=1.63]\n"
     ]
    },
    {
     "name": "stdout",
     "output_type": "stream",
     "text": [
      "Epoch [1821/5000]: Train loss: 1.5186, Valid loss: 0.9913\n"
     ]
    },
    {
     "name": "stderr",
     "output_type": "stream",
     "text": [
      "Epoch [1822/5000]: 100%|██████████| 9/9 [00:00<00:00, 436.35it/s, loss=1.43]\n"
     ]
    },
    {
     "name": "stdout",
     "output_type": "stream",
     "text": [
      "Epoch [1822/5000]: Train loss: 1.4842, Valid loss: 1.0252\n"
     ]
    },
    {
     "name": "stderr",
     "output_type": "stream",
     "text": [
      "Epoch [1823/5000]: 100%|██████████| 9/9 [00:00<00:00, 415.15it/s, loss=1.48]\n"
     ]
    },
    {
     "name": "stdout",
     "output_type": "stream",
     "text": [
      "Epoch [1823/5000]: Train loss: 1.4535, Valid loss: 1.0872\n"
     ]
    },
    {
     "name": "stderr",
     "output_type": "stream",
     "text": [
      "Epoch [1824/5000]: 100%|██████████| 9/9 [00:00<00:00, 415.71it/s, loss=1.3]\n"
     ]
    },
    {
     "name": "stdout",
     "output_type": "stream",
     "text": [
      "Epoch [1824/5000]: Train loss: 1.4424, Valid loss: 1.1710\n"
     ]
    },
    {
     "name": "stderr",
     "output_type": "stream",
     "text": [
      "Epoch [1825/5000]: 100%|██████████| 9/9 [00:00<00:00, 433.86it/s, loss=1.6]\n"
     ]
    },
    {
     "name": "stdout",
     "output_type": "stream",
     "text": [
      "Epoch [1825/5000]: Train loss: 1.5045, Valid loss: 0.9997\n"
     ]
    },
    {
     "name": "stderr",
     "output_type": "stream",
     "text": [
      "Epoch [1826/5000]: 100%|██████████| 9/9 [00:00<00:00, 427.82it/s, loss=1.8]\n"
     ]
    },
    {
     "name": "stdout",
     "output_type": "stream",
     "text": [
      "Epoch [1826/5000]: Train loss: 1.5246, Valid loss: 1.0674\n"
     ]
    },
    {
     "name": "stderr",
     "output_type": "stream",
     "text": [
      "Epoch [1827/5000]: 100%|██████████| 9/9 [00:00<00:00, 424.71it/s, loss=1.43]\n"
     ]
    },
    {
     "name": "stdout",
     "output_type": "stream",
     "text": [
      "Epoch [1827/5000]: Train loss: 1.5221, Valid loss: 1.1134\n"
     ]
    },
    {
     "name": "stderr",
     "output_type": "stream",
     "text": [
      "Epoch [1828/5000]: 100%|██████████| 9/9 [00:00<00:00, 409.96it/s, loss=1.78]\n"
     ]
    },
    {
     "name": "stdout",
     "output_type": "stream",
     "text": [
      "Epoch [1828/5000]: Train loss: 1.5375, Valid loss: 1.0180\n"
     ]
    },
    {
     "name": "stderr",
     "output_type": "stream",
     "text": [
      "Epoch [1829/5000]: 100%|██████████| 9/9 [00:00<00:00, 381.55it/s, loss=1.62]\n"
     ]
    },
    {
     "name": "stdout",
     "output_type": "stream",
     "text": [
      "Epoch [1829/5000]: Train loss: 1.5028, Valid loss: 1.0734\n"
     ]
    },
    {
     "name": "stderr",
     "output_type": "stream",
     "text": [
      "Epoch [1830/5000]: 100%|██████████| 9/9 [00:00<00:00, 357.21it/s, loss=1.55]\n"
     ]
    },
    {
     "name": "stdout",
     "output_type": "stream",
     "text": [
      "Epoch [1830/5000]: Train loss: 1.4471, Valid loss: 1.1107\n"
     ]
    },
    {
     "name": "stderr",
     "output_type": "stream",
     "text": [
      "Epoch [1831/5000]: 100%|██████████| 9/9 [00:00<00:00, 365.74it/s, loss=1.92]\n"
     ]
    },
    {
     "name": "stdout",
     "output_type": "stream",
     "text": [
      "Epoch [1831/5000]: Train loss: 1.4690, Valid loss: 1.1746\n"
     ]
    },
    {
     "name": "stderr",
     "output_type": "stream",
     "text": [
      "Epoch [1832/5000]: 100%|██████████| 9/9 [00:00<00:00, 375.94it/s, loss=1.18]\n"
     ]
    },
    {
     "name": "stdout",
     "output_type": "stream",
     "text": [
      "Epoch [1832/5000]: Train loss: 1.4480, Valid loss: 1.0800\n"
     ]
    },
    {
     "name": "stderr",
     "output_type": "stream",
     "text": [
      "Epoch [1833/5000]: 100%|██████████| 9/9 [00:00<00:00, 390.11it/s, loss=1.68]\n"
     ]
    },
    {
     "name": "stdout",
     "output_type": "stream",
     "text": [
      "Epoch [1833/5000]: Train loss: 1.5077, Valid loss: 1.0643\n"
     ]
    },
    {
     "name": "stderr",
     "output_type": "stream",
     "text": [
      "Epoch [1834/5000]: 100%|██████████| 9/9 [00:00<00:00, 357.51it/s, loss=1.56]\n"
     ]
    },
    {
     "name": "stdout",
     "output_type": "stream",
     "text": [
      "Epoch [1834/5000]: Train loss: 1.4515, Valid loss: 1.0228\n"
     ]
    },
    {
     "name": "stderr",
     "output_type": "stream",
     "text": [
      "Epoch [1835/5000]: 100%|██████████| 9/9 [00:00<00:00, 297.91it/s, loss=1.43]\n"
     ]
    },
    {
     "name": "stdout",
     "output_type": "stream",
     "text": [
      "Epoch [1835/5000]: Train loss: 1.4081, Valid loss: 1.1814\n"
     ]
    },
    {
     "name": "stderr",
     "output_type": "stream",
     "text": [
      "Epoch [1836/5000]: 100%|██████████| 9/9 [00:00<00:00, 400.30it/s, loss=1.42]\n"
     ]
    },
    {
     "name": "stdout",
     "output_type": "stream",
     "text": [
      "Epoch [1836/5000]: Train loss: 1.4277, Valid loss: 0.9917\n"
     ]
    },
    {
     "name": "stderr",
     "output_type": "stream",
     "text": [
      "Epoch [1837/5000]: 100%|██████████| 9/9 [00:00<00:00, 390.73it/s, loss=1.66]\n"
     ]
    },
    {
     "name": "stdout",
     "output_type": "stream",
     "text": [
      "Epoch [1837/5000]: Train loss: 1.4713, Valid loss: 1.1928\n"
     ]
    },
    {
     "name": "stderr",
     "output_type": "stream",
     "text": [
      "Epoch [1838/5000]: 100%|██████████| 9/9 [00:00<00:00, 410.04it/s, loss=1.37]\n"
     ]
    },
    {
     "name": "stdout",
     "output_type": "stream",
     "text": [
      "Epoch [1838/5000]: Train loss: 1.4305, Valid loss: 0.9667\n"
     ]
    },
    {
     "name": "stderr",
     "output_type": "stream",
     "text": [
      "Epoch [1839/5000]: 100%|██████████| 9/9 [00:00<00:00, 399.15it/s, loss=1.37]\n"
     ]
    },
    {
     "name": "stdout",
     "output_type": "stream",
     "text": [
      "Epoch [1839/5000]: Train loss: 1.4430, Valid loss: 1.0958\n"
     ]
    },
    {
     "name": "stderr",
     "output_type": "stream",
     "text": [
      "Epoch [1840/5000]: 100%|██████████| 9/9 [00:00<00:00, 401.80it/s, loss=1.32]\n"
     ]
    },
    {
     "name": "stdout",
     "output_type": "stream",
     "text": [
      "Epoch [1840/5000]: Train loss: 1.4063, Valid loss: 1.0244\n"
     ]
    },
    {
     "name": "stderr",
     "output_type": "stream",
     "text": [
      "Epoch [1841/5000]: 100%|██████████| 9/9 [00:00<00:00, 393.89it/s, loss=1.39]\n"
     ]
    },
    {
     "name": "stdout",
     "output_type": "stream",
     "text": [
      "Epoch [1841/5000]: Train loss: 1.4437, Valid loss: 1.1746\n"
     ]
    },
    {
     "name": "stderr",
     "output_type": "stream",
     "text": [
      "Epoch [1842/5000]: 100%|██████████| 9/9 [00:00<00:00, 416.55it/s, loss=1.85]\n"
     ]
    },
    {
     "name": "stdout",
     "output_type": "stream",
     "text": [
      "Epoch [1842/5000]: Train loss: 1.5508, Valid loss: 1.0333\n"
     ]
    },
    {
     "name": "stderr",
     "output_type": "stream",
     "text": [
      "Epoch [1843/5000]: 100%|██████████| 9/9 [00:00<00:00, 402.67it/s, loss=1.54]\n"
     ]
    },
    {
     "name": "stdout",
     "output_type": "stream",
     "text": [
      "Epoch [1843/5000]: Train loss: 1.4676, Valid loss: 1.0760\n"
     ]
    },
    {
     "name": "stderr",
     "output_type": "stream",
     "text": [
      "Epoch [1844/5000]: 100%|██████████| 9/9 [00:00<00:00, 388.57it/s, loss=1.6]\n"
     ]
    },
    {
     "name": "stdout",
     "output_type": "stream",
     "text": [
      "Epoch [1844/5000]: Train loss: 1.4663, Valid loss: 1.0735\n"
     ]
    },
    {
     "name": "stderr",
     "output_type": "stream",
     "text": [
      "Epoch [1845/5000]: 100%|██████████| 9/9 [00:00<00:00, 391.53it/s, loss=1.32]\n"
     ]
    },
    {
     "name": "stdout",
     "output_type": "stream",
     "text": [
      "Epoch [1845/5000]: Train loss: 1.4305, Valid loss: 1.0946\n"
     ]
    },
    {
     "name": "stderr",
     "output_type": "stream",
     "text": [
      "Epoch [1846/5000]: 100%|██████████| 9/9 [00:00<00:00, 387.33it/s, loss=1.41]\n"
     ]
    },
    {
     "name": "stdout",
     "output_type": "stream",
     "text": [
      "Epoch [1846/5000]: Train loss: 1.4877, Valid loss: 1.0879\n"
     ]
    },
    {
     "name": "stderr",
     "output_type": "stream",
     "text": [
      "Epoch [1847/5000]: 100%|██████████| 9/9 [00:00<00:00, 396.80it/s, loss=1.44]\n"
     ]
    },
    {
     "name": "stdout",
     "output_type": "stream",
     "text": [
      "Epoch [1847/5000]: Train loss: 1.4638, Valid loss: 1.0347\n"
     ]
    },
    {
     "name": "stderr",
     "output_type": "stream",
     "text": [
      "Epoch [1848/5000]: 100%|██████████| 9/9 [00:00<00:00, 391.56it/s, loss=1.26]\n"
     ]
    },
    {
     "name": "stdout",
     "output_type": "stream",
     "text": [
      "Epoch [1848/5000]: Train loss: 1.4522, Valid loss: 1.0143\n"
     ]
    },
    {
     "name": "stderr",
     "output_type": "stream",
     "text": [
      "Epoch [1849/5000]: 100%|██████████| 9/9 [00:00<00:00, 403.08it/s, loss=1.33]\n"
     ]
    },
    {
     "name": "stdout",
     "output_type": "stream",
     "text": [
      "Epoch [1849/5000]: Train loss: 1.4673, Valid loss: 1.0763\n"
     ]
    },
    {
     "name": "stderr",
     "output_type": "stream",
     "text": [
      "Epoch [1850/5000]: 100%|██████████| 9/9 [00:00<00:00, 404.66it/s, loss=1.31]\n"
     ]
    },
    {
     "name": "stdout",
     "output_type": "stream",
     "text": [
      "Epoch [1850/5000]: Train loss: 1.4526, Valid loss: 1.1366\n"
     ]
    },
    {
     "name": "stderr",
     "output_type": "stream",
     "text": [
      "Epoch [1851/5000]: 100%|██████████| 9/9 [00:00<00:00, 394.05it/s, loss=1.59]\n"
     ]
    },
    {
     "name": "stdout",
     "output_type": "stream",
     "text": [
      "Epoch [1851/5000]: Train loss: 1.5382, Valid loss: 1.0367\n"
     ]
    },
    {
     "name": "stderr",
     "output_type": "stream",
     "text": [
      "Epoch [1852/5000]: 100%|██████████| 9/9 [00:00<00:00, 397.65it/s, loss=1.41]\n"
     ]
    },
    {
     "name": "stdout",
     "output_type": "stream",
     "text": [
      "Epoch [1852/5000]: Train loss: 1.4794, Valid loss: 1.1212\n"
     ]
    },
    {
     "name": "stderr",
     "output_type": "stream",
     "text": [
      "Epoch [1853/5000]: 100%|██████████| 9/9 [00:00<00:00, 433.30it/s, loss=1.33]\n"
     ]
    },
    {
     "name": "stdout",
     "output_type": "stream",
     "text": [
      "Epoch [1853/5000]: Train loss: 1.4971, Valid loss: 1.0210\n"
     ]
    },
    {
     "name": "stderr",
     "output_type": "stream",
     "text": [
      "Epoch [1854/5000]: 100%|██████████| 9/9 [00:00<00:00, 419.88it/s, loss=1.58]\n"
     ]
    },
    {
     "name": "stdout",
     "output_type": "stream",
     "text": [
      "Epoch [1854/5000]: Train loss: 1.5080, Valid loss: 1.1745\n"
     ]
    },
    {
     "name": "stderr",
     "output_type": "stream",
     "text": [
      "Epoch [1855/5000]: 100%|██████████| 9/9 [00:00<00:00, 412.29it/s, loss=1.5]\n"
     ]
    },
    {
     "name": "stdout",
     "output_type": "stream",
     "text": [
      "Epoch [1855/5000]: Train loss: 1.4341, Valid loss: 1.1492\n"
     ]
    },
    {
     "name": "stderr",
     "output_type": "stream",
     "text": [
      "Epoch [1856/5000]: 100%|██████████| 9/9 [00:00<00:00, 414.21it/s, loss=1.55]\n"
     ]
    },
    {
     "name": "stdout",
     "output_type": "stream",
     "text": [
      "Epoch [1856/5000]: Train loss: 1.4213, Valid loss: 1.0218\n"
     ]
    },
    {
     "name": "stderr",
     "output_type": "stream",
     "text": [
      "Epoch [1857/5000]: 100%|██████████| 9/9 [00:00<00:00, 444.02it/s, loss=1.52]\n"
     ]
    },
    {
     "name": "stdout",
     "output_type": "stream",
     "text": [
      "Epoch [1857/5000]: Train loss: 1.4370, Valid loss: 1.0566\n"
     ]
    },
    {
     "name": "stderr",
     "output_type": "stream",
     "text": [
      "Epoch [1858/5000]: 100%|██████████| 9/9 [00:00<00:00, 409.15it/s, loss=1.64]\n"
     ]
    },
    {
     "name": "stdout",
     "output_type": "stream",
     "text": [
      "Epoch [1858/5000]: Train loss: 1.5018, Valid loss: 0.9986\n"
     ]
    },
    {
     "name": "stderr",
     "output_type": "stream",
     "text": [
      "Epoch [1859/5000]: 100%|██████████| 9/9 [00:00<00:00, 428.13it/s, loss=1.42]\n"
     ]
    },
    {
     "name": "stdout",
     "output_type": "stream",
     "text": [
      "Epoch [1859/5000]: Train loss: 1.4724, Valid loss: 1.0520\n"
     ]
    },
    {
     "name": "stderr",
     "output_type": "stream",
     "text": [
      "Epoch [1860/5000]: 100%|██████████| 9/9 [00:00<00:00, 441.68it/s, loss=1.75]\n"
     ]
    },
    {
     "name": "stdout",
     "output_type": "stream",
     "text": [
      "Epoch [1860/5000]: Train loss: 1.4965, Valid loss: 1.1060\n"
     ]
    },
    {
     "name": "stderr",
     "output_type": "stream",
     "text": [
      "Epoch [1861/5000]: 100%|██████████| 9/9 [00:00<00:00, 434.65it/s, loss=1.84]\n"
     ]
    },
    {
     "name": "stdout",
     "output_type": "stream",
     "text": [
      "Epoch [1861/5000]: Train loss: 1.5188, Valid loss: 0.9915\n"
     ]
    },
    {
     "name": "stderr",
     "output_type": "stream",
     "text": [
      "Epoch [1862/5000]: 100%|██████████| 9/9 [00:00<00:00, 423.67it/s, loss=1.4]\n"
     ]
    },
    {
     "name": "stdout",
     "output_type": "stream",
     "text": [
      "Epoch [1862/5000]: Train loss: 1.4584, Valid loss: 1.1169\n"
     ]
    },
    {
     "name": "stderr",
     "output_type": "stream",
     "text": [
      "Epoch [1863/5000]: 100%|██████████| 9/9 [00:00<00:00, 424.87it/s, loss=1.42]\n"
     ]
    },
    {
     "name": "stdout",
     "output_type": "stream",
     "text": [
      "Epoch [1863/5000]: Train loss: 1.4658, Valid loss: 1.0744\n"
     ]
    },
    {
     "name": "stderr",
     "output_type": "stream",
     "text": [
      "Epoch [1864/5000]: 100%|██████████| 9/9 [00:00<00:00, 436.53it/s, loss=1.42]\n"
     ]
    },
    {
     "name": "stdout",
     "output_type": "stream",
     "text": [
      "Epoch [1864/5000]: Train loss: 1.5060, Valid loss: 1.0779\n"
     ]
    },
    {
     "name": "stderr",
     "output_type": "stream",
     "text": [
      "Epoch [1865/5000]: 100%|██████████| 9/9 [00:00<00:00, 379.99it/s, loss=1.47]\n"
     ]
    },
    {
     "name": "stdout",
     "output_type": "stream",
     "text": [
      "Epoch [1865/5000]: Train loss: 1.5098, Valid loss: 1.1126\n"
     ]
    },
    {
     "name": "stderr",
     "output_type": "stream",
     "text": [
      "Epoch [1866/5000]: 100%|██████████| 9/9 [00:00<00:00, 396.47it/s, loss=3.05]\n"
     ]
    },
    {
     "name": "stdout",
     "output_type": "stream",
     "text": [
      "Epoch [1866/5000]: Train loss: 1.6550, Valid loss: 1.0971\n"
     ]
    },
    {
     "name": "stderr",
     "output_type": "stream",
     "text": [
      "Epoch [1867/5000]: 100%|██████████| 9/9 [00:00<00:00, 428.13it/s, loss=1.42]\n"
     ]
    },
    {
     "name": "stdout",
     "output_type": "stream",
     "text": [
      "Epoch [1867/5000]: Train loss: 1.4398, Valid loss: 1.0723\n"
     ]
    },
    {
     "name": "stderr",
     "output_type": "stream",
     "text": [
      "Epoch [1868/5000]: 100%|██████████| 9/9 [00:00<00:00, 428.92it/s, loss=1.47]\n"
     ]
    },
    {
     "name": "stdout",
     "output_type": "stream",
     "text": [
      "Epoch [1868/5000]: Train loss: 1.4293, Valid loss: 1.1188\n"
     ]
    },
    {
     "name": "stderr",
     "output_type": "stream",
     "text": [
      "Epoch [1869/5000]: 100%|██████████| 9/9 [00:00<00:00, 447.54it/s, loss=1.75]\n"
     ]
    },
    {
     "name": "stdout",
     "output_type": "stream",
     "text": [
      "Epoch [1869/5000]: Train loss: 1.4967, Valid loss: 1.0402\n"
     ]
    },
    {
     "name": "stderr",
     "output_type": "stream",
     "text": [
      "Epoch [1870/5000]: 100%|██████████| 9/9 [00:00<00:00, 416.13it/s, loss=1.46]\n"
     ]
    },
    {
     "name": "stdout",
     "output_type": "stream",
     "text": [
      "Epoch [1870/5000]: Train loss: 1.4433, Valid loss: 1.0898\n"
     ]
    },
    {
     "name": "stderr",
     "output_type": "stream",
     "text": [
      "Epoch [1871/5000]: 100%|██████████| 9/9 [00:00<00:00, 411.13it/s, loss=2.77]\n"
     ]
    },
    {
     "name": "stdout",
     "output_type": "stream",
     "text": [
      "Epoch [1871/5000]: Train loss: 1.6452, Valid loss: 1.0688\n"
     ]
    },
    {
     "name": "stderr",
     "output_type": "stream",
     "text": [
      "Epoch [1872/5000]: 100%|██████████| 9/9 [00:00<00:00, 419.71it/s, loss=1.64]\n"
     ]
    },
    {
     "name": "stdout",
     "output_type": "stream",
     "text": [
      "Epoch [1872/5000]: Train loss: 1.4976, Valid loss: 1.0446\n"
     ]
    },
    {
     "name": "stderr",
     "output_type": "stream",
     "text": [
      "Epoch [1873/5000]: 100%|██████████| 9/9 [00:00<00:00, 402.18it/s, loss=1.5]\n"
     ]
    },
    {
     "name": "stdout",
     "output_type": "stream",
     "text": [
      "Epoch [1873/5000]: Train loss: 1.4555, Valid loss: 1.1750\n"
     ]
    },
    {
     "name": "stderr",
     "output_type": "stream",
     "text": [
      "Epoch [1874/5000]: 100%|██████████| 9/9 [00:00<00:00, 428.66it/s, loss=1.52]\n"
     ]
    },
    {
     "name": "stdout",
     "output_type": "stream",
     "text": [
      "Epoch [1874/5000]: Train loss: 1.5365, Valid loss: 1.0361\n"
     ]
    },
    {
     "name": "stderr",
     "output_type": "stream",
     "text": [
      "Epoch [1875/5000]: 100%|██████████| 9/9 [00:00<00:00, 395.71it/s, loss=1.33]\n"
     ]
    },
    {
     "name": "stdout",
     "output_type": "stream",
     "text": [
      "Epoch [1875/5000]: Train loss: 1.4097, Valid loss: 1.0846\n"
     ]
    },
    {
     "name": "stderr",
     "output_type": "stream",
     "text": [
      "Epoch [1876/5000]: 100%|██████████| 9/9 [00:00<00:00, 404.81it/s, loss=1.53]\n"
     ]
    },
    {
     "name": "stdout",
     "output_type": "stream",
     "text": [
      "Epoch [1876/5000]: Train loss: 1.5376, Valid loss: 1.1110\n"
     ]
    },
    {
     "name": "stderr",
     "output_type": "stream",
     "text": [
      "Epoch [1877/5000]: 100%|██████████| 9/9 [00:00<00:00, 432.30it/s, loss=1.32]\n"
     ]
    },
    {
     "name": "stdout",
     "output_type": "stream",
     "text": [
      "Epoch [1877/5000]: Train loss: 1.4753, Valid loss: 1.1674\n"
     ]
    },
    {
     "name": "stderr",
     "output_type": "stream",
     "text": [
      "Epoch [1878/5000]: 100%|██████████| 9/9 [00:00<00:00, 426.34it/s, loss=1.35]\n"
     ]
    },
    {
     "name": "stdout",
     "output_type": "stream",
     "text": [
      "Epoch [1878/5000]: Train loss: 1.4269, Valid loss: 1.0446\n"
     ]
    },
    {
     "name": "stderr",
     "output_type": "stream",
     "text": [
      "Epoch [1879/5000]: 100%|██████████| 9/9 [00:00<00:00, 425.89it/s, loss=1.33]\n"
     ]
    },
    {
     "name": "stdout",
     "output_type": "stream",
     "text": [
      "Epoch [1879/5000]: Train loss: 1.3813, Valid loss: 1.0243\n"
     ]
    },
    {
     "name": "stderr",
     "output_type": "stream",
     "text": [
      "Epoch [1880/5000]: 100%|██████████| 9/9 [00:00<00:00, 417.57it/s, loss=1.68]\n"
     ]
    },
    {
     "name": "stdout",
     "output_type": "stream",
     "text": [
      "Epoch [1880/5000]: Train loss: 1.3937, Valid loss: 1.2517\n"
     ]
    },
    {
     "name": "stderr",
     "output_type": "stream",
     "text": [
      "Epoch [1881/5000]: 100%|██████████| 9/9 [00:00<00:00, 448.45it/s, loss=1.58]\n"
     ]
    },
    {
     "name": "stdout",
     "output_type": "stream",
     "text": [
      "Epoch [1881/5000]: Train loss: 1.5413, Valid loss: 1.1196\n"
     ]
    },
    {
     "name": "stderr",
     "output_type": "stream",
     "text": [
      "Epoch [1882/5000]: 100%|██████████| 9/9 [00:00<00:00, 431.62it/s, loss=1.37]\n"
     ]
    },
    {
     "name": "stdout",
     "output_type": "stream",
     "text": [
      "Epoch [1882/5000]: Train loss: 1.4454, Valid loss: 1.0557\n"
     ]
    },
    {
     "name": "stderr",
     "output_type": "stream",
     "text": [
      "Epoch [1883/5000]: 100%|██████████| 9/9 [00:00<00:00, 408.03it/s, loss=1.48]\n"
     ]
    },
    {
     "name": "stdout",
     "output_type": "stream",
     "text": [
      "Epoch [1883/5000]: Train loss: 1.4535, Valid loss: 1.1182\n"
     ]
    },
    {
     "name": "stderr",
     "output_type": "stream",
     "text": [
      "Epoch [1884/5000]: 100%|██████████| 9/9 [00:00<00:00, 425.88it/s, loss=1.58]\n"
     ]
    },
    {
     "name": "stdout",
     "output_type": "stream",
     "text": [
      "Epoch [1884/5000]: Train loss: 1.5145, Valid loss: 1.1567\n"
     ]
    },
    {
     "name": "stderr",
     "output_type": "stream",
     "text": [
      "Epoch [1885/5000]: 100%|██████████| 9/9 [00:00<00:00, 406.23it/s, loss=1.31]\n"
     ]
    },
    {
     "name": "stdout",
     "output_type": "stream",
     "text": [
      "Epoch [1885/5000]: Train loss: 1.4227, Valid loss: 1.0589\n"
     ]
    },
    {
     "name": "stderr",
     "output_type": "stream",
     "text": [
      "Epoch [1886/5000]: 100%|██████████| 9/9 [00:00<00:00, 380.78it/s, loss=1.77]\n"
     ]
    },
    {
     "name": "stdout",
     "output_type": "stream",
     "text": [
      "Epoch [1886/5000]: Train loss: 1.4504, Valid loss: 1.0074\n"
     ]
    },
    {
     "name": "stderr",
     "output_type": "stream",
     "text": [
      "Epoch [1887/5000]: 100%|██████████| 9/9 [00:00<00:00, 364.62it/s, loss=1.59]\n"
     ]
    },
    {
     "name": "stdout",
     "output_type": "stream",
     "text": [
      "Epoch [1887/5000]: Train loss: 1.4913, Valid loss: 1.0283\n"
     ]
    },
    {
     "name": "stderr",
     "output_type": "stream",
     "text": [
      "Epoch [1888/5000]: 100%|██████████| 9/9 [00:00<00:00, 340.33it/s, loss=1.59]\n"
     ]
    },
    {
     "name": "stdout",
     "output_type": "stream",
     "text": [
      "Epoch [1888/5000]: Train loss: 1.5436, Valid loss: 1.0392\n"
     ]
    },
    {
     "name": "stderr",
     "output_type": "stream",
     "text": [
      "Epoch [1889/5000]: 100%|██████████| 9/9 [00:00<00:00, 368.52it/s, loss=1.44]\n"
     ]
    },
    {
     "name": "stdout",
     "output_type": "stream",
     "text": [
      "Epoch [1889/5000]: Train loss: 1.4945, Valid loss: 1.0244\n"
     ]
    },
    {
     "name": "stderr",
     "output_type": "stream",
     "text": [
      "Epoch [1890/5000]: 100%|██████████| 9/9 [00:00<00:00, 358.61it/s, loss=1.8]\n"
     ]
    },
    {
     "name": "stdout",
     "output_type": "stream",
     "text": [
      "Epoch [1890/5000]: Train loss: 1.5168, Valid loss: 1.0593\n"
     ]
    },
    {
     "name": "stderr",
     "output_type": "stream",
     "text": [
      "Epoch [1891/5000]: 100%|██████████| 9/9 [00:00<00:00, 334.62it/s, loss=1.22]\n"
     ]
    },
    {
     "name": "stdout",
     "output_type": "stream",
     "text": [
      "Epoch [1891/5000]: Train loss: 1.3802, Valid loss: 1.1418\n"
     ]
    },
    {
     "name": "stderr",
     "output_type": "stream",
     "text": [
      "Epoch [1892/5000]: 100%|██████████| 9/9 [00:00<00:00, 366.27it/s, loss=1.69]\n"
     ]
    },
    {
     "name": "stdout",
     "output_type": "stream",
     "text": [
      "Epoch [1892/5000]: Train loss: 1.4348, Valid loss: 1.0517\n"
     ]
    },
    {
     "name": "stderr",
     "output_type": "stream",
     "text": [
      "Epoch [1893/5000]: 100%|██████████| 9/9 [00:00<00:00, 324.08it/s, loss=1.6]\n"
     ]
    },
    {
     "name": "stdout",
     "output_type": "stream",
     "text": [
      "Epoch [1893/5000]: Train loss: 1.4620, Valid loss: 1.0639\n"
     ]
    },
    {
     "name": "stderr",
     "output_type": "stream",
     "text": [
      "Epoch [1894/5000]: 100%|██████████| 9/9 [00:00<00:00, 359.32it/s, loss=1.5]\n"
     ]
    },
    {
     "name": "stdout",
     "output_type": "stream",
     "text": [
      "Epoch [1894/5000]: Train loss: 1.4429, Valid loss: 1.0057\n"
     ]
    },
    {
     "name": "stderr",
     "output_type": "stream",
     "text": [
      "Epoch [1895/5000]: 100%|██████████| 9/9 [00:00<00:00, 392.41it/s, loss=1.8]\n"
     ]
    },
    {
     "name": "stdout",
     "output_type": "stream",
     "text": [
      "Epoch [1895/5000]: Train loss: 1.4638, Valid loss: 1.0556\n"
     ]
    },
    {
     "name": "stderr",
     "output_type": "stream",
     "text": [
      "Epoch [1896/5000]: 100%|██████████| 9/9 [00:00<00:00, 398.55it/s, loss=1.33]\n"
     ]
    },
    {
     "name": "stdout",
     "output_type": "stream",
     "text": [
      "Epoch [1896/5000]: Train loss: 1.4286, Valid loss: 1.1015\n"
     ]
    },
    {
     "name": "stderr",
     "output_type": "stream",
     "text": [
      "Epoch [1897/5000]: 100%|██████████| 9/9 [00:00<00:00, 402.86it/s, loss=1.32]\n"
     ]
    },
    {
     "name": "stdout",
     "output_type": "stream",
     "text": [
      "Epoch [1897/5000]: Train loss: 1.4812, Valid loss: 1.0559\n"
     ]
    },
    {
     "name": "stderr",
     "output_type": "stream",
     "text": [
      "Epoch [1898/5000]: 100%|██████████| 9/9 [00:00<00:00, 405.83it/s, loss=1.59]\n"
     ]
    },
    {
     "name": "stdout",
     "output_type": "stream",
     "text": [
      "Epoch [1898/5000]: Train loss: 1.5792, Valid loss: 1.0641\n"
     ]
    },
    {
     "name": "stderr",
     "output_type": "stream",
     "text": [
      "Epoch [1899/5000]: 100%|██████████| 9/9 [00:00<00:00, 391.20it/s, loss=1.65]\n"
     ]
    },
    {
     "name": "stdout",
     "output_type": "stream",
     "text": [
      "Epoch [1899/5000]: Train loss: 1.4562, Valid loss: 1.0698\n"
     ]
    },
    {
     "name": "stderr",
     "output_type": "stream",
     "text": [
      "Epoch [1900/5000]: 100%|██████████| 9/9 [00:00<00:00, 390.22it/s, loss=1.78]\n"
     ]
    },
    {
     "name": "stdout",
     "output_type": "stream",
     "text": [
      "Epoch [1900/5000]: Train loss: 1.6301, Valid loss: 1.0443\n"
     ]
    },
    {
     "name": "stderr",
     "output_type": "stream",
     "text": [
      "Epoch [1901/5000]: 100%|██████████| 9/9 [00:00<00:00, 397.87it/s, loss=1.29]\n"
     ]
    },
    {
     "name": "stdout",
     "output_type": "stream",
     "text": [
      "Epoch [1901/5000]: Train loss: 1.4425, Valid loss: 1.0794\n"
     ]
    },
    {
     "name": "stderr",
     "output_type": "stream",
     "text": [
      "Epoch [1902/5000]: 100%|██████████| 9/9 [00:00<00:00, 370.20it/s, loss=1.5]\n"
     ]
    },
    {
     "name": "stdout",
     "output_type": "stream",
     "text": [
      "Epoch [1902/5000]: Train loss: 1.4175, Valid loss: 1.1706\n"
     ]
    },
    {
     "name": "stderr",
     "output_type": "stream",
     "text": [
      "Epoch [1903/5000]: 100%|██████████| 9/9 [00:00<00:00, 394.70it/s, loss=1.92]\n"
     ]
    },
    {
     "name": "stdout",
     "output_type": "stream",
     "text": [
      "Epoch [1903/5000]: Train loss: 1.5307, Valid loss: 1.0628\n"
     ]
    },
    {
     "name": "stderr",
     "output_type": "stream",
     "text": [
      "Epoch [1904/5000]: 100%|██████████| 9/9 [00:00<00:00, 412.14it/s, loss=1.59]\n"
     ]
    },
    {
     "name": "stdout",
     "output_type": "stream",
     "text": [
      "Epoch [1904/5000]: Train loss: 1.4938, Valid loss: 1.1741\n"
     ]
    },
    {
     "name": "stderr",
     "output_type": "stream",
     "text": [
      "Epoch [1905/5000]: 100%|██████████| 9/9 [00:00<00:00, 421.56it/s, loss=1.6]\n"
     ]
    },
    {
     "name": "stdout",
     "output_type": "stream",
     "text": [
      "Epoch [1905/5000]: Train loss: 1.4290, Valid loss: 0.9666\n"
     ]
    },
    {
     "name": "stderr",
     "output_type": "stream",
     "text": [
      "Epoch [1906/5000]: 100%|██████████| 9/9 [00:00<00:00, 103.77it/s, loss=1.64]\n"
     ]
    },
    {
     "name": "stdout",
     "output_type": "stream",
     "text": [
      "Epoch [1906/5000]: Train loss: 1.4925, Valid loss: 1.0623\n"
     ]
    },
    {
     "name": "stderr",
     "output_type": "stream",
     "text": [
      "Epoch [1907/5000]: 100%|██████████| 9/9 [00:00<00:00, 418.51it/s, loss=1.36]\n"
     ]
    },
    {
     "name": "stdout",
     "output_type": "stream",
     "text": [
      "Epoch [1907/5000]: Train loss: 1.4365, Valid loss: 1.0786\n"
     ]
    },
    {
     "name": "stderr",
     "output_type": "stream",
     "text": [
      "Epoch [1908/5000]: 100%|██████████| 9/9 [00:00<00:00, 388.91it/s, loss=1.26]\n"
     ]
    },
    {
     "name": "stdout",
     "output_type": "stream",
     "text": [
      "Epoch [1908/5000]: Train loss: 1.4193, Valid loss: 1.1471\n"
     ]
    },
    {
     "name": "stderr",
     "output_type": "stream",
     "text": [
      "Epoch [1909/5000]: 100%|██████████| 9/9 [00:00<00:00, 377.49it/s, loss=1.28]\n"
     ]
    },
    {
     "name": "stdout",
     "output_type": "stream",
     "text": [
      "Epoch [1909/5000]: Train loss: 1.4787, Valid loss: 1.1289\n"
     ]
    },
    {
     "name": "stderr",
     "output_type": "stream",
     "text": [
      "Epoch [1910/5000]: 100%|██████████| 9/9 [00:00<00:00, 432.53it/s, loss=1.39]\n"
     ]
    },
    {
     "name": "stdout",
     "output_type": "stream",
     "text": [
      "Epoch [1910/5000]: Train loss: 1.4450, Valid loss: 1.1481\n"
     ]
    },
    {
     "name": "stderr",
     "output_type": "stream",
     "text": [
      "Epoch [1911/5000]: 100%|██████████| 9/9 [00:00<00:00, 427.05it/s, loss=1.57]\n"
     ]
    },
    {
     "name": "stdout",
     "output_type": "stream",
     "text": [
      "Epoch [1911/5000]: Train loss: 1.4632, Valid loss: 1.0485\n"
     ]
    },
    {
     "name": "stderr",
     "output_type": "stream",
     "text": [
      "Epoch [1912/5000]: 100%|██████████| 9/9 [00:00<00:00, 410.21it/s, loss=1.84]\n"
     ]
    },
    {
     "name": "stdout",
     "output_type": "stream",
     "text": [
      "Epoch [1912/5000]: Train loss: 1.4857, Valid loss: 1.1199\n"
     ]
    },
    {
     "name": "stderr",
     "output_type": "stream",
     "text": [
      "Epoch [1913/5000]: 100%|██████████| 9/9 [00:00<00:00, 415.58it/s, loss=1.51]\n"
     ]
    },
    {
     "name": "stdout",
     "output_type": "stream",
     "text": [
      "Epoch [1913/5000]: Train loss: 1.4501, Valid loss: 1.0750\n"
     ]
    },
    {
     "name": "stderr",
     "output_type": "stream",
     "text": [
      "Epoch [1914/5000]: 100%|██████████| 9/9 [00:00<00:00, 417.40it/s, loss=2.01]\n"
     ]
    },
    {
     "name": "stdout",
     "output_type": "stream",
     "text": [
      "Epoch [1914/5000]: Train loss: 1.5160, Valid loss: 1.2500\n"
     ]
    },
    {
     "name": "stderr",
     "output_type": "stream",
     "text": [
      "Epoch [1915/5000]: 100%|██████████| 9/9 [00:00<00:00, 403.07it/s, loss=1.72]\n"
     ]
    },
    {
     "name": "stdout",
     "output_type": "stream",
     "text": [
      "Epoch [1915/5000]: Train loss: 1.5461, Valid loss: 1.1415\n"
     ]
    },
    {
     "name": "stderr",
     "output_type": "stream",
     "text": [
      "Epoch [1916/5000]: 100%|██████████| 9/9 [00:00<00:00, 428.16it/s, loss=1.52]\n"
     ]
    },
    {
     "name": "stdout",
     "output_type": "stream",
     "text": [
      "Epoch [1916/5000]: Train loss: 1.5348, Valid loss: 1.0956\n"
     ]
    },
    {
     "name": "stderr",
     "output_type": "stream",
     "text": [
      "Epoch [1917/5000]: 100%|██████████| 9/9 [00:00<00:00, 425.71it/s, loss=1.52]\n"
     ]
    },
    {
     "name": "stdout",
     "output_type": "stream",
     "text": [
      "Epoch [1917/5000]: Train loss: 1.4623, Valid loss: 1.0992\n"
     ]
    },
    {
     "name": "stderr",
     "output_type": "stream",
     "text": [
      "Epoch [1918/5000]: 100%|██████████| 9/9 [00:00<00:00, 424.51it/s, loss=1.22]\n"
     ]
    },
    {
     "name": "stdout",
     "output_type": "stream",
     "text": [
      "Epoch [1918/5000]: Train loss: 1.4653, Valid loss: 1.0780\n"
     ]
    },
    {
     "name": "stderr",
     "output_type": "stream",
     "text": [
      "Epoch [1919/5000]: 100%|██████████| 9/9 [00:00<00:00, 405.30it/s, loss=1.43]\n"
     ]
    },
    {
     "name": "stdout",
     "output_type": "stream",
     "text": [
      "Epoch [1919/5000]: Train loss: 1.5054, Valid loss: 1.1130\n"
     ]
    },
    {
     "name": "stderr",
     "output_type": "stream",
     "text": [
      "Epoch [1920/5000]: 100%|██████████| 9/9 [00:00<00:00, 395.54it/s, loss=1.43]\n"
     ]
    },
    {
     "name": "stdout",
     "output_type": "stream",
     "text": [
      "Epoch [1920/5000]: Train loss: 1.4928, Valid loss: 1.1049\n"
     ]
    },
    {
     "name": "stderr",
     "output_type": "stream",
     "text": [
      "Epoch [1921/5000]: 100%|██████████| 9/9 [00:00<00:00, 378.04it/s, loss=1.53]\n"
     ]
    },
    {
     "name": "stdout",
     "output_type": "stream",
     "text": [
      "Epoch [1921/5000]: Train loss: 1.5218, Valid loss: 0.9874\n"
     ]
    },
    {
     "name": "stderr",
     "output_type": "stream",
     "text": [
      "Epoch [1922/5000]: 100%|██████████| 9/9 [00:00<00:00, 240.66it/s, loss=1.52]\n"
     ]
    },
    {
     "name": "stdout",
     "output_type": "stream",
     "text": [
      "Epoch [1922/5000]: Train loss: 1.5471, Valid loss: 1.0124\n"
     ]
    },
    {
     "name": "stderr",
     "output_type": "stream",
     "text": [
      "Epoch [1923/5000]: 100%|██████████| 9/9 [00:00<00:00, 362.82it/s, loss=1.59]\n"
     ]
    },
    {
     "name": "stdout",
     "output_type": "stream",
     "text": [
      "Epoch [1923/5000]: Train loss: 1.5244, Valid loss: 1.0415\n"
     ]
    },
    {
     "name": "stderr",
     "output_type": "stream",
     "text": [
      "Epoch [1924/5000]: 100%|██████████| 9/9 [00:00<00:00, 352.32it/s, loss=1.26]\n"
     ]
    },
    {
     "name": "stdout",
     "output_type": "stream",
     "text": [
      "Epoch [1924/5000]: Train loss: 1.4862, Valid loss: 1.0981\n"
     ]
    },
    {
     "name": "stderr",
     "output_type": "stream",
     "text": [
      "Epoch [1925/5000]: 100%|██████████| 9/9 [00:00<00:00, 359.72it/s, loss=1.74]\n"
     ]
    },
    {
     "name": "stdout",
     "output_type": "stream",
     "text": [
      "Epoch [1925/5000]: Train loss: 1.4387, Valid loss: 1.0401\n"
     ]
    },
    {
     "name": "stderr",
     "output_type": "stream",
     "text": [
      "Epoch [1926/5000]: 100%|██████████| 9/9 [00:00<00:00, 382.03it/s, loss=1.62]\n"
     ]
    },
    {
     "name": "stdout",
     "output_type": "stream",
     "text": [
      "Epoch [1926/5000]: Train loss: 1.4256, Valid loss: 1.0658\n"
     ]
    },
    {
     "name": "stderr",
     "output_type": "stream",
     "text": [
      "Epoch [1927/5000]: 100%|██████████| 9/9 [00:00<00:00, 357.64it/s, loss=1.6]\n"
     ]
    },
    {
     "name": "stdout",
     "output_type": "stream",
     "text": [
      "Epoch [1927/5000]: Train loss: 1.4550, Valid loss: 1.0948\n"
     ]
    },
    {
     "name": "stderr",
     "output_type": "stream",
     "text": [
      "Epoch [1928/5000]: 100%|██████████| 9/9 [00:00<00:00, 391.90it/s, loss=1.42]\n"
     ]
    },
    {
     "name": "stdout",
     "output_type": "stream",
     "text": [
      "Epoch [1928/5000]: Train loss: 1.4254, Valid loss: 0.9728\n"
     ]
    },
    {
     "name": "stderr",
     "output_type": "stream",
     "text": [
      "Epoch [1929/5000]: 100%|██████████| 9/9 [00:00<00:00, 396.75it/s, loss=1.91]\n"
     ]
    },
    {
     "name": "stdout",
     "output_type": "stream",
     "text": [
      "Epoch [1929/5000]: Train loss: 1.4590, Valid loss: 1.1867\n"
     ]
    },
    {
     "name": "stderr",
     "output_type": "stream",
     "text": [
      "Epoch [1930/5000]: 100%|██████████| 9/9 [00:00<00:00, 397.81it/s, loss=1.56]\n"
     ]
    },
    {
     "name": "stdout",
     "output_type": "stream",
     "text": [
      "Epoch [1930/5000]: Train loss: 1.5075, Valid loss: 0.9961\n"
     ]
    },
    {
     "name": "stderr",
     "output_type": "stream",
     "text": [
      "Epoch [1931/5000]: 100%|██████████| 9/9 [00:00<00:00, 394.42it/s, loss=2.7]\n"
     ]
    },
    {
     "name": "stdout",
     "output_type": "stream",
     "text": [
      "Epoch [1931/5000]: Train loss: 1.5841, Valid loss: 1.1448\n"
     ]
    },
    {
     "name": "stderr",
     "output_type": "stream",
     "text": [
      "Epoch [1932/5000]: 100%|██████████| 9/9 [00:00<00:00, 416.92it/s, loss=1.13]\n"
     ]
    },
    {
     "name": "stdout",
     "output_type": "stream",
     "text": [
      "Epoch [1932/5000]: Train loss: 1.4109, Valid loss: 1.0558\n"
     ]
    },
    {
     "name": "stderr",
     "output_type": "stream",
     "text": [
      "Epoch [1933/5000]: 100%|██████████| 9/9 [00:00<00:00, 414.04it/s, loss=1.35]\n"
     ]
    },
    {
     "name": "stdout",
     "output_type": "stream",
     "text": [
      "Epoch [1933/5000]: Train loss: 1.5242, Valid loss: 1.0348\n"
     ]
    },
    {
     "name": "stderr",
     "output_type": "stream",
     "text": [
      "Epoch [1934/5000]: 100%|██████████| 9/9 [00:00<00:00, 424.91it/s, loss=1.37]\n"
     ]
    },
    {
     "name": "stdout",
     "output_type": "stream",
     "text": [
      "Epoch [1934/5000]: Train loss: 1.4930, Valid loss: 1.0287\n"
     ]
    },
    {
     "name": "stderr",
     "output_type": "stream",
     "text": [
      "Epoch [1935/5000]: 100%|██████████| 9/9 [00:00<00:00, 404.50it/s, loss=1.23]\n"
     ]
    },
    {
     "name": "stdout",
     "output_type": "stream",
     "text": [
      "Epoch [1935/5000]: Train loss: 1.3921, Valid loss: 1.1073\n"
     ]
    },
    {
     "name": "stderr",
     "output_type": "stream",
     "text": [
      "Epoch [1936/5000]: 100%|██████████| 9/9 [00:00<00:00, 392.79it/s, loss=1.85]\n"
     ]
    },
    {
     "name": "stdout",
     "output_type": "stream",
     "text": [
      "Epoch [1936/5000]: Train loss: 1.5107, Valid loss: 1.0962\n"
     ]
    },
    {
     "name": "stderr",
     "output_type": "stream",
     "text": [
      "Epoch [1937/5000]: 100%|██████████| 9/9 [00:00<00:00, 397.46it/s, loss=1.43]\n"
     ]
    },
    {
     "name": "stdout",
     "output_type": "stream",
     "text": [
      "Epoch [1937/5000]: Train loss: 1.4400, Valid loss: 1.1570\n"
     ]
    },
    {
     "name": "stderr",
     "output_type": "stream",
     "text": [
      "Epoch [1938/5000]: 100%|██████████| 9/9 [00:00<00:00, 409.93it/s, loss=1.38]\n"
     ]
    },
    {
     "name": "stdout",
     "output_type": "stream",
     "text": [
      "Epoch [1938/5000]: Train loss: 1.3968, Valid loss: 1.1321\n"
     ]
    },
    {
     "name": "stderr",
     "output_type": "stream",
     "text": [
      "Epoch [1939/5000]: 100%|██████████| 9/9 [00:00<00:00, 441.24it/s, loss=1.46]\n"
     ]
    },
    {
     "name": "stdout",
     "output_type": "stream",
     "text": [
      "Epoch [1939/5000]: Train loss: 1.4738, Valid loss: 1.2272\n"
     ]
    },
    {
     "name": "stderr",
     "output_type": "stream",
     "text": [
      "Epoch [1940/5000]: 100%|██████████| 9/9 [00:00<00:00, 399.07it/s, loss=2.1]\n"
     ]
    },
    {
     "name": "stdout",
     "output_type": "stream",
     "text": [
      "Epoch [1940/5000]: Train loss: 1.5251, Valid loss: 0.9935\n"
     ]
    },
    {
     "name": "stderr",
     "output_type": "stream",
     "text": [
      "Epoch [1941/5000]: 100%|██████████| 9/9 [00:00<00:00, 408.50it/s, loss=1.82]\n"
     ]
    },
    {
     "name": "stdout",
     "output_type": "stream",
     "text": [
      "Epoch [1941/5000]: Train loss: 1.5491, Valid loss: 1.0704\n"
     ]
    },
    {
     "name": "stderr",
     "output_type": "stream",
     "text": [
      "Epoch [1942/5000]: 100%|██████████| 9/9 [00:00<00:00, 426.34it/s, loss=1.27]\n"
     ]
    },
    {
     "name": "stdout",
     "output_type": "stream",
     "text": [
      "Epoch [1942/5000]: Train loss: 1.4037, Valid loss: 1.0719\n"
     ]
    },
    {
     "name": "stderr",
     "output_type": "stream",
     "text": [
      "Epoch [1943/5000]: 100%|██████████| 9/9 [00:00<00:00, 410.50it/s, loss=2.68]\n"
     ]
    },
    {
     "name": "stdout",
     "output_type": "stream",
     "text": [
      "Epoch [1943/5000]: Train loss: 1.5871, Valid loss: 1.0786\n"
     ]
    },
    {
     "name": "stderr",
     "output_type": "stream",
     "text": [
      "Epoch [1944/5000]: 100%|██████████| 9/9 [00:00<00:00, 424.59it/s, loss=1.43]\n"
     ]
    },
    {
     "name": "stdout",
     "output_type": "stream",
     "text": [
      "Epoch [1944/5000]: Train loss: 1.4416, Valid loss: 1.0183\n"
     ]
    },
    {
     "name": "stderr",
     "output_type": "stream",
     "text": [
      "Epoch [1945/5000]: 100%|██████████| 9/9 [00:00<00:00, 408.74it/s, loss=1.64]\n"
     ]
    },
    {
     "name": "stdout",
     "output_type": "stream",
     "text": [
      "Epoch [1945/5000]: Train loss: 1.4604, Valid loss: 1.0110\n"
     ]
    },
    {
     "name": "stderr",
     "output_type": "stream",
     "text": [
      "Epoch [1946/5000]: 100%|██████████| 9/9 [00:00<00:00, 382.41it/s, loss=1.67]\n"
     ]
    },
    {
     "name": "stdout",
     "output_type": "stream",
     "text": [
      "Epoch [1946/5000]: Train loss: 1.4919, Valid loss: 0.9876\n"
     ]
    },
    {
     "name": "stderr",
     "output_type": "stream",
     "text": [
      "Epoch [1947/5000]: 100%|██████████| 9/9 [00:00<00:00, 387.03it/s, loss=1.76]\n"
     ]
    },
    {
     "name": "stdout",
     "output_type": "stream",
     "text": [
      "Epoch [1947/5000]: Train loss: 1.5113, Valid loss: 1.1487\n"
     ]
    },
    {
     "name": "stderr",
     "output_type": "stream",
     "text": [
      "Epoch [1948/5000]: 100%|██████████| 9/9 [00:00<00:00, 376.73it/s, loss=1.38]\n"
     ]
    },
    {
     "name": "stdout",
     "output_type": "stream",
     "text": [
      "Epoch [1948/5000]: Train loss: 1.4651, Valid loss: 1.0595\n"
     ]
    },
    {
     "name": "stderr",
     "output_type": "stream",
     "text": [
      "Epoch [1949/5000]: 100%|██████████| 9/9 [00:00<00:00, 419.89it/s, loss=1.53]\n"
     ]
    },
    {
     "name": "stdout",
     "output_type": "stream",
     "text": [
      "Epoch [1949/5000]: Train loss: 1.4114, Valid loss: 1.0638\n"
     ]
    },
    {
     "name": "stderr",
     "output_type": "stream",
     "text": [
      "Epoch [1950/5000]: 100%|██████████| 9/9 [00:00<00:00, 356.48it/s, loss=1.99]\n"
     ]
    },
    {
     "name": "stdout",
     "output_type": "stream",
     "text": [
      "Epoch [1950/5000]: Train loss: 1.4904, Valid loss: 1.0972\n"
     ]
    },
    {
     "name": "stderr",
     "output_type": "stream",
     "text": [
      "Epoch [1951/5000]: 100%|██████████| 9/9 [00:00<00:00, 352.93it/s, loss=1.86]\n"
     ]
    },
    {
     "name": "stdout",
     "output_type": "stream",
     "text": [
      "Epoch [1951/5000]: Train loss: 1.5269, Valid loss: 1.0675\n"
     ]
    },
    {
     "name": "stderr",
     "output_type": "stream",
     "text": [
      "Epoch [1952/5000]: 100%|██████████| 9/9 [00:00<00:00, 374.39it/s, loss=1.42]\n"
     ]
    },
    {
     "name": "stdout",
     "output_type": "stream",
     "text": [
      "Epoch [1952/5000]: Train loss: 1.4442, Valid loss: 1.1491\n"
     ]
    },
    {
     "name": "stderr",
     "output_type": "stream",
     "text": [
      "Epoch [1953/5000]: 100%|██████████| 9/9 [00:00<00:00, 344.50it/s, loss=1.8]\n"
     ]
    },
    {
     "name": "stdout",
     "output_type": "stream",
     "text": [
      "Epoch [1953/5000]: Train loss: 1.5484, Valid loss: 1.0850\n"
     ]
    },
    {
     "name": "stderr",
     "output_type": "stream",
     "text": [
      "Epoch [1954/5000]: 100%|██████████| 9/9 [00:00<00:00, 351.18it/s, loss=1.74]\n"
     ]
    },
    {
     "name": "stdout",
     "output_type": "stream",
     "text": [
      "Epoch [1954/5000]: Train loss: 1.5042, Valid loss: 1.1569\n"
     ]
    },
    {
     "name": "stderr",
     "output_type": "stream",
     "text": [
      "Epoch [1955/5000]: 100%|██████████| 9/9 [00:00<00:00, 403.22it/s, loss=1.38]\n"
     ]
    },
    {
     "name": "stdout",
     "output_type": "stream",
     "text": [
      "Epoch [1955/5000]: Train loss: 1.4948, Valid loss: 1.0081\n"
     ]
    },
    {
     "name": "stderr",
     "output_type": "stream",
     "text": [
      "Epoch [1956/5000]: 100%|██████████| 9/9 [00:00<00:00, 398.04it/s, loss=1.36]\n"
     ]
    },
    {
     "name": "stdout",
     "output_type": "stream",
     "text": [
      "Epoch [1956/5000]: Train loss: 1.5113, Valid loss: 1.0949\n"
     ]
    },
    {
     "name": "stderr",
     "output_type": "stream",
     "text": [
      "Epoch [1957/5000]: 100%|██████████| 9/9 [00:00<00:00, 403.76it/s, loss=1.57]\n"
     ]
    },
    {
     "name": "stdout",
     "output_type": "stream",
     "text": [
      "Epoch [1957/5000]: Train loss: 1.5582, Valid loss: 0.9593\n"
     ]
    },
    {
     "name": "stderr",
     "output_type": "stream",
     "text": [
      "Epoch [1958/5000]: 100%|██████████| 9/9 [00:00<00:00, 404.14it/s, loss=1.44]\n"
     ]
    },
    {
     "name": "stdout",
     "output_type": "stream",
     "text": [
      "Epoch [1958/5000]: Train loss: 1.5119, Valid loss: 1.0433\n"
     ]
    },
    {
     "name": "stderr",
     "output_type": "stream",
     "text": [
      "Epoch [1959/5000]: 100%|██████████| 9/9 [00:00<00:00, 396.84it/s, loss=1.67]\n"
     ]
    },
    {
     "name": "stdout",
     "output_type": "stream",
     "text": [
      "Epoch [1959/5000]: Train loss: 1.4615, Valid loss: 1.0305\n"
     ]
    },
    {
     "name": "stderr",
     "output_type": "stream",
     "text": [
      "Epoch [1960/5000]: 100%|██████████| 9/9 [00:00<00:00, 393.94it/s, loss=2.47]\n"
     ]
    },
    {
     "name": "stdout",
     "output_type": "stream",
     "text": [
      "Epoch [1960/5000]: Train loss: 1.5391, Valid loss: 1.0783\n"
     ]
    },
    {
     "name": "stderr",
     "output_type": "stream",
     "text": [
      "Epoch [1961/5000]: 100%|██████████| 9/9 [00:00<00:00, 394.80it/s, loss=1.36]\n"
     ]
    },
    {
     "name": "stdout",
     "output_type": "stream",
     "text": [
      "Epoch [1961/5000]: Train loss: 1.4481, Valid loss: 1.0661\n"
     ]
    },
    {
     "name": "stderr",
     "output_type": "stream",
     "text": [
      "Epoch [1962/5000]: 100%|██████████| 9/9 [00:00<00:00, 397.23it/s, loss=1.33]\n"
     ]
    },
    {
     "name": "stdout",
     "output_type": "stream",
     "text": [
      "Epoch [1962/5000]: Train loss: 1.4198, Valid loss: 1.1476\n"
     ]
    },
    {
     "name": "stderr",
     "output_type": "stream",
     "text": [
      "Epoch [1963/5000]: 100%|██████████| 9/9 [00:00<00:00, 372.42it/s, loss=1.36]\n"
     ]
    },
    {
     "name": "stdout",
     "output_type": "stream",
     "text": [
      "Epoch [1963/5000]: Train loss: 1.4192, Valid loss: 1.0478\n"
     ]
    },
    {
     "name": "stderr",
     "output_type": "stream",
     "text": [
      "Epoch [1964/5000]: 100%|██████████| 9/9 [00:00<00:00, 388.75it/s, loss=1.29]\n"
     ]
    },
    {
     "name": "stdout",
     "output_type": "stream",
     "text": [
      "Epoch [1964/5000]: Train loss: 1.4276, Valid loss: 1.0360\n"
     ]
    },
    {
     "name": "stderr",
     "output_type": "stream",
     "text": [
      "Epoch [1965/5000]: 100%|██████████| 9/9 [00:00<00:00, 394.82it/s, loss=1.55]\n"
     ]
    },
    {
     "name": "stdout",
     "output_type": "stream",
     "text": [
      "Epoch [1965/5000]: Train loss: 1.4104, Valid loss: 1.1069\n"
     ]
    },
    {
     "name": "stderr",
     "output_type": "stream",
     "text": [
      "Epoch [1966/5000]: 100%|██████████| 9/9 [00:00<00:00, 398.26it/s, loss=1.48]\n"
     ]
    },
    {
     "name": "stdout",
     "output_type": "stream",
     "text": [
      "Epoch [1966/5000]: Train loss: 1.4774, Valid loss: 1.0763\n"
     ]
    },
    {
     "name": "stderr",
     "output_type": "stream",
     "text": [
      "Epoch [1967/5000]: 100%|██████████| 9/9 [00:00<00:00, 388.17it/s, loss=1.69]\n"
     ]
    },
    {
     "name": "stdout",
     "output_type": "stream",
     "text": [
      "Epoch [1967/5000]: Train loss: 1.5166, Valid loss: 1.0771\n"
     ]
    },
    {
     "name": "stderr",
     "output_type": "stream",
     "text": [
      "Epoch [1968/5000]: 100%|██████████| 9/9 [00:00<00:00, 394.34it/s, loss=1.37]\n"
     ]
    },
    {
     "name": "stdout",
     "output_type": "stream",
     "text": [
      "Epoch [1968/5000]: Train loss: 1.5223, Valid loss: 1.0635\n"
     ]
    },
    {
     "name": "stderr",
     "output_type": "stream",
     "text": [
      "Epoch [1969/5000]: 100%|██████████| 9/9 [00:00<00:00, 410.53it/s, loss=1.64]\n"
     ]
    },
    {
     "name": "stdout",
     "output_type": "stream",
     "text": [
      "Epoch [1969/5000]: Train loss: 1.4967, Valid loss: 1.2234\n"
     ]
    },
    {
     "name": "stderr",
     "output_type": "stream",
     "text": [
      "Epoch [1970/5000]: 100%|██████████| 9/9 [00:00<00:00, 389.10it/s, loss=1.25]\n"
     ]
    },
    {
     "name": "stdout",
     "output_type": "stream",
     "text": [
      "Epoch [1970/5000]: Train loss: 1.4546, Valid loss: 1.1135\n"
     ]
    },
    {
     "name": "stderr",
     "output_type": "stream",
     "text": [
      "Epoch [1971/5000]: 100%|██████████| 9/9 [00:00<00:00, 403.95it/s, loss=1.24]\n"
     ]
    },
    {
     "name": "stdout",
     "output_type": "stream",
     "text": [
      "Epoch [1971/5000]: Train loss: 1.4578, Valid loss: 1.0227\n"
     ]
    },
    {
     "name": "stderr",
     "output_type": "stream",
     "text": [
      "Epoch [1972/5000]: 100%|██████████| 9/9 [00:00<00:00, 402.43it/s, loss=1.81]\n"
     ]
    },
    {
     "name": "stdout",
     "output_type": "stream",
     "text": [
      "Epoch [1972/5000]: Train loss: 1.4951, Valid loss: 1.0981\n"
     ]
    },
    {
     "name": "stderr",
     "output_type": "stream",
     "text": [
      "Epoch [1973/5000]: 100%|██████████| 9/9 [00:00<00:00, 391.44it/s, loss=1.83]\n"
     ]
    },
    {
     "name": "stdout",
     "output_type": "stream",
     "text": [
      "Epoch [1973/5000]: Train loss: 1.5821, Valid loss: 1.0668\n"
     ]
    },
    {
     "name": "stderr",
     "output_type": "stream",
     "text": [
      "Epoch [1974/5000]: 100%|██████████| 9/9 [00:00<00:00, 393.45it/s, loss=1.74]\n"
     ]
    },
    {
     "name": "stdout",
     "output_type": "stream",
     "text": [
      "Epoch [1974/5000]: Train loss: 1.4335, Valid loss: 0.9961\n"
     ]
    },
    {
     "name": "stderr",
     "output_type": "stream",
     "text": [
      "Epoch [1975/5000]: 100%|██████████| 9/9 [00:00<00:00, 402.00it/s, loss=2.04]\n"
     ]
    },
    {
     "name": "stdout",
     "output_type": "stream",
     "text": [
      "Epoch [1975/5000]: Train loss: 1.4941, Valid loss: 1.0372\n"
     ]
    },
    {
     "name": "stderr",
     "output_type": "stream",
     "text": [
      "Epoch [1976/5000]: 100%|██████████| 9/9 [00:00<00:00, 417.79it/s, loss=1.53]\n"
     ]
    },
    {
     "name": "stdout",
     "output_type": "stream",
     "text": [
      "Epoch [1976/5000]: Train loss: 1.3882, Valid loss: 1.1223\n"
     ]
    },
    {
     "name": "stderr",
     "output_type": "stream",
     "text": [
      "Epoch [1977/5000]: 100%|██████████| 9/9 [00:00<00:00, 423.79it/s, loss=1.4]\n"
     ]
    },
    {
     "name": "stdout",
     "output_type": "stream",
     "text": [
      "Epoch [1977/5000]: Train loss: 1.4332, Valid loss: 1.2004\n"
     ]
    },
    {
     "name": "stderr",
     "output_type": "stream",
     "text": [
      "Epoch [1978/5000]: 100%|██████████| 9/9 [00:00<00:00, 420.38it/s, loss=1.63]\n"
     ]
    },
    {
     "name": "stdout",
     "output_type": "stream",
     "text": [
      "Epoch [1978/5000]: Train loss: 1.4899, Valid loss: 1.0753\n"
     ]
    },
    {
     "name": "stderr",
     "output_type": "stream",
     "text": [
      "Epoch [1979/5000]: 100%|██████████| 9/9 [00:00<00:00, 402.43it/s, loss=1.67]\n"
     ]
    },
    {
     "name": "stdout",
     "output_type": "stream",
     "text": [
      "Epoch [1979/5000]: Train loss: 1.5371, Valid loss: 0.9751\n"
     ]
    },
    {
     "name": "stderr",
     "output_type": "stream",
     "text": [
      "Epoch [1980/5000]: 100%|██████████| 9/9 [00:00<00:00, 394.48it/s, loss=1.61]\n"
     ]
    },
    {
     "name": "stdout",
     "output_type": "stream",
     "text": [
      "Epoch [1980/5000]: Train loss: 1.4759, Valid loss: 1.0249\n"
     ]
    },
    {
     "name": "stderr",
     "output_type": "stream",
     "text": [
      "Epoch [1981/5000]: 100%|██████████| 9/9 [00:00<00:00, 387.44it/s, loss=1.4]\n"
     ]
    },
    {
     "name": "stdout",
     "output_type": "stream",
     "text": [
      "Epoch [1981/5000]: Train loss: 1.4212, Valid loss: 1.0283\n"
     ]
    },
    {
     "name": "stderr",
     "output_type": "stream",
     "text": [
      "Epoch [1982/5000]: 100%|██████████| 9/9 [00:00<00:00, 371.65it/s, loss=1.66]\n"
     ]
    },
    {
     "name": "stdout",
     "output_type": "stream",
     "text": [
      "Epoch [1982/5000]: Train loss: 1.4760, Valid loss: 1.0466\n"
     ]
    },
    {
     "name": "stderr",
     "output_type": "stream",
     "text": [
      "Epoch [1983/5000]: 100%|██████████| 9/9 [00:00<00:00, 367.95it/s, loss=1.27]\n"
     ]
    },
    {
     "name": "stdout",
     "output_type": "stream",
     "text": [
      "Epoch [1983/5000]: Train loss: 1.4293, Valid loss: 1.1074\n"
     ]
    },
    {
     "name": "stderr",
     "output_type": "stream",
     "text": [
      "Epoch [1984/5000]: 100%|██████████| 9/9 [00:00<00:00, 388.01it/s, loss=1.33]\n"
     ]
    },
    {
     "name": "stdout",
     "output_type": "stream",
     "text": [
      "Epoch [1984/5000]: Train loss: 1.4496, Valid loss: 1.1920\n"
     ]
    },
    {
     "name": "stderr",
     "output_type": "stream",
     "text": [
      "Epoch [1985/5000]: 100%|██████████| 9/9 [00:00<00:00, 388.43it/s, loss=1.43]\n"
     ]
    },
    {
     "name": "stdout",
     "output_type": "stream",
     "text": [
      "Epoch [1985/5000]: Train loss: 1.4462, Valid loss: 1.1242\n"
     ]
    },
    {
     "name": "stderr",
     "output_type": "stream",
     "text": [
      "Epoch [1986/5000]: 100%|██████████| 9/9 [00:00<00:00, 384.39it/s, loss=1.61]\n"
     ]
    },
    {
     "name": "stdout",
     "output_type": "stream",
     "text": [
      "Epoch [1986/5000]: Train loss: 1.4855, Valid loss: 1.1015\n"
     ]
    },
    {
     "name": "stderr",
     "output_type": "stream",
     "text": [
      "Epoch [1987/5000]: 100%|██████████| 9/9 [00:00<00:00, 388.15it/s, loss=2.06]\n"
     ]
    },
    {
     "name": "stdout",
     "output_type": "stream",
     "text": [
      "Epoch [1987/5000]: Train loss: 1.5587, Valid loss: 1.0778\n"
     ]
    },
    {
     "name": "stderr",
     "output_type": "stream",
     "text": [
      "Epoch [1988/5000]: 100%|██████████| 9/9 [00:00<00:00, 397.03it/s, loss=1.77]\n"
     ]
    },
    {
     "name": "stdout",
     "output_type": "stream",
     "text": [
      "Epoch [1988/5000]: Train loss: 1.5843, Valid loss: 1.0688\n"
     ]
    },
    {
     "name": "stderr",
     "output_type": "stream",
     "text": [
      "Epoch [1989/5000]: 100%|██████████| 9/9 [00:00<00:00, 379.30it/s, loss=1.49]\n"
     ]
    },
    {
     "name": "stdout",
     "output_type": "stream",
     "text": [
      "Epoch [1989/5000]: Train loss: 1.5489, Valid loss: 1.1315\n"
     ]
    },
    {
     "name": "stderr",
     "output_type": "stream",
     "text": [
      "Epoch [1990/5000]: 100%|██████████| 9/9 [00:00<00:00, 406.43it/s, loss=1.27]\n"
     ]
    },
    {
     "name": "stdout",
     "output_type": "stream",
     "text": [
      "Epoch [1990/5000]: Train loss: 1.4191, Valid loss: 1.0441\n"
     ]
    },
    {
     "name": "stderr",
     "output_type": "stream",
     "text": [
      "Epoch [1991/5000]: 100%|██████████| 9/9 [00:00<00:00, 381.97it/s, loss=1.66]\n"
     ]
    },
    {
     "name": "stdout",
     "output_type": "stream",
     "text": [
      "Epoch [1991/5000]: Train loss: 1.4583, Valid loss: 1.0846\n"
     ]
    },
    {
     "name": "stderr",
     "output_type": "stream",
     "text": [
      "Epoch [1992/5000]: 100%|██████████| 9/9 [00:00<00:00, 394.46it/s, loss=1.45]\n"
     ]
    },
    {
     "name": "stdout",
     "output_type": "stream",
     "text": [
      "Epoch [1992/5000]: Train loss: 1.4333, Valid loss: 1.0766\n"
     ]
    },
    {
     "name": "stderr",
     "output_type": "stream",
     "text": [
      "Epoch [1993/5000]: 100%|██████████| 9/9 [00:00<00:00, 381.34it/s, loss=1.59]\n"
     ]
    },
    {
     "name": "stdout",
     "output_type": "stream",
     "text": [
      "Epoch [1993/5000]: Train loss: 1.4405, Valid loss: 1.0336\n"
     ]
    },
    {
     "name": "stderr",
     "output_type": "stream",
     "text": [
      "Epoch [1994/5000]: 100%|██████████| 9/9 [00:00<00:00, 409.80it/s, loss=1.63]\n"
     ]
    },
    {
     "name": "stdout",
     "output_type": "stream",
     "text": [
      "Epoch [1994/5000]: Train loss: 1.4630, Valid loss: 1.2200\n"
     ]
    },
    {
     "name": "stderr",
     "output_type": "stream",
     "text": [
      "Epoch [1995/5000]: 100%|██████████| 9/9 [00:00<00:00, 419.44it/s, loss=1.68]\n"
     ]
    },
    {
     "name": "stdout",
     "output_type": "stream",
     "text": [
      "Epoch [1995/5000]: Train loss: 1.5707, Valid loss: 1.0375\n"
     ]
    },
    {
     "name": "stderr",
     "output_type": "stream",
     "text": [
      "Epoch [1996/5000]: 100%|██████████| 9/9 [00:00<00:00, 409.84it/s, loss=1.49]\n"
     ]
    },
    {
     "name": "stdout",
     "output_type": "stream",
     "text": [
      "Epoch [1996/5000]: Train loss: 1.5006, Valid loss: 1.0634\n"
     ]
    },
    {
     "name": "stderr",
     "output_type": "stream",
     "text": [
      "Epoch [1997/5000]: 100%|██████████| 9/9 [00:00<00:00, 416.40it/s, loss=1.88]\n"
     ]
    },
    {
     "name": "stdout",
     "output_type": "stream",
     "text": [
      "Epoch [1997/5000]: Train loss: 1.5191, Valid loss: 1.0014\n"
     ]
    },
    {
     "name": "stderr",
     "output_type": "stream",
     "text": [
      "Epoch [1998/5000]: 100%|██████████| 9/9 [00:00<00:00, 412.42it/s, loss=1.4]\n"
     ]
    },
    {
     "name": "stdout",
     "output_type": "stream",
     "text": [
      "Epoch [1998/5000]: Train loss: 1.4483, Valid loss: 1.1567\n"
     ]
    },
    {
     "name": "stderr",
     "output_type": "stream",
     "text": [
      "Epoch [1999/5000]: 100%|██████████| 9/9 [00:00<00:00, 403.73it/s, loss=1.84]\n"
     ]
    },
    {
     "name": "stdout",
     "output_type": "stream",
     "text": [
      "Epoch [1999/5000]: Train loss: 1.4608, Valid loss: 1.2057\n"
     ]
    },
    {
     "name": "stderr",
     "output_type": "stream",
     "text": [
      "Epoch [2000/5000]: 100%|██████████| 9/9 [00:00<00:00, 365.06it/s, loss=1.44]\n"
     ]
    },
    {
     "name": "stdout",
     "output_type": "stream",
     "text": [
      "Epoch [2000/5000]: Train loss: 1.4800, Valid loss: 1.0203\n",
      "\n",
      "Model is not improving, so we halt the training session.\n"
     ]
    }
   ],
   "source": [
    "model = My_Model(input_dim=x_train.shape[1]).to(device)\n",
    "train_losses, val_losses = trainer(train_loader, valid_loader, test_loader, model, config, device)"
   ]
  },
  {
   "cell_type": "markdown",
   "metadata": {
    "id": "Ik09KPqU-di-"
   },
   "source": [
    "# Plot learning curves with `tensorboard` (optional)\n",
    "\n",
    "`tensorboard` is a tool that allows you to visualize your training progress.\n",
    "\n",
    "If this block does not display your learning curve, please wait for few minutes, and re-run this block. It might take some time to load your logging information."
   ]
  },
  {
   "cell_type": "code",
   "execution_count": 11,
   "metadata": {
    "scrolled": true
   },
   "outputs": [
    {
     "data": {
      "image/png": "[encoded data removed]",
      "text/plain": [
       "<Figure size 800x300 with 2 Axes>"
      ]
     },
     "metadata": {},
     "output_type": "display_data"
    },
    {
     "name": "stdout",
     "output_type": "stream",
     "text": [
      "\n",
      "训练统计:\n",
      "  训练损失: 10.7270 → 1.4800\n",
      "  验证损失: 9.8857 → 1.0203\n"
     ]
    }
   ],
   "source": [
    "import matplotlib.pyplot as plt\n",
    "import os\n",
    "import glob\n",
    "from tensorboard.backend.event_processing.event_accumulator import EventAccumulator\n",
    "\n",
    "def plot_tensorboard_logs_simple():\n",
    "    \n",
    "    # 查找所有日志文件\n",
    "    log_files = glob.glob('./runs/**/events.out.tfevents.*', recursive=True)\n",
    "    \n",
    "    if not log_files:\n",
    "        print(\"没有找到tensorboard日志文件\")\n",
    "        return\n",
    "    \n",
    "    # 使用最新的日志文件\n",
    "    latest_log = max(log_files, key=os.path.getmtime)\n",
    "    \n",
    "    try:\n",
    "        # 加载日志\n",
    "        ea = EventAccumulator(latest_log)\n",
    "        ea.Reload()\n",
    "        \n",
    "        # 提取训练和验证损失\n",
    "        train_loss_data = ea.Scalars('Loss/train')\n",
    "        valid_loss_data = ea.Scalars('Loss/valid')\n",
    "        \n",
    "        # 提取数据\n",
    "        train_steps = [x.step for x in train_loss_data]\n",
    "        train_losses = [x.value for x in train_loss_data]\n",
    "        \n",
    "        valid_steps = [x.step for x in valid_loss_data] \n",
    "        valid_losses = [x.value for x in valid_loss_data]\n",
    "        \n",
    "        # 找到有效训练区间（跳过初始极高损失）\n",
    "        train_start_idx = next((i for i, loss in enumerate(train_losses) if loss < 20), 0)\n",
    "        valid_start_idx = next((i for i, loss in enumerate(valid_losses) if loss < 20), 0)\n",
    "        \n",
    "        # 截取有效数据\n",
    "        train_steps_clipped = train_steps[train_start_idx:]\n",
    "        train_losses_clipped = train_losses[train_start_idx:]\n",
    "        valid_steps_clipped = valid_steps[valid_start_idx:]\n",
    "        valid_losses_clipped = valid_losses[valid_start_idx:]\n",
    "        \n",
    "        # 只绘制两个图 - 类似示范图的风格\n",
    "        plt.figure(figsize=(8, 3))\n",
    "        \n",
    "        # 训练损失\n",
    "        plt.subplot(1, 2, 1)\n",
    "        plt.plot(train_steps_clipped, train_losses_clipped, 'orange', alpha=0.8, linewidth=1)\n",
    "        plt.xlabel('Step')\n",
    "        plt.ylabel('Loss')\n",
    "        plt.title('Loss/train\\ntag: Loss/train', fontsize=12)\n",
    "        plt.ylim(1, 8)  # 设置Y轴范围\n",
    "        plt.grid(True, alpha=0.3)\n",
    "        \n",
    "        # 验证损失\n",
    "        plt.subplot(1, 2, 2)\n",
    "        plt.plot(valid_steps_clipped, valid_losses_clipped, 'orange', alpha=0.8, linewidth=1)\n",
    "        plt.xlabel('Step')\n",
    "        plt.ylabel('Loss')\n",
    "        plt.title('Loss/valid\\ntag: Loss/valid', fontsize=12)\n",
    "        plt.ylim(1, 8)  # 设置Y轴范围\n",
    "        plt.grid(True, alpha=0.3)\n",
    "        \n",
    "        plt.tight_layout()\n",
    "        plt.show()\n",
    "        \n",
    "        # 打印简要统计信息\n",
    "        print(f\"\\n训练统计:\")\n",
    "        print(f\"  训练损失: {train_losses_clipped[0]:.4f} → {train_losses_clipped[-1]:.4f}\")\n",
    "        print(f\"  验证损失: {valid_losses_clipped[0]:.4f} → {valid_losses_clipped[-1]:.4f}\")\n",
    "        \n",
    "    except Exception as e:\n",
    "        print(f\"读取日志文件时出错: {e}\")\n",
    "\n",
    "# 运行简化版函数\n",
    "plot_tensorboard_logs_simple()"
   ]
  },
  {
   "cell_type": "code",
   "execution_count": 12,
   "metadata": {},
   "outputs": [
    {
     "data": {
      "image/png": "[encoded data removed]",
      "text/plain": [
       "<Figure size 1200x400 with 2 Axes>"
      ]
     },
     "metadata": {},
     "output_type": "display_data"
    }
   ],
   "source": [
    "# 1. 画损失曲线\n",
    "plt.figure(figsize=(12, 4))\n",
    "plt.subplot(1, 2, 1)\n",
    "plt.plot(train_losses, label='Train Loss')\n",
    "plt.plot(val_losses, label='Val Loss')\n",
    "plt.legend()\n",
    "plt.title('Training Curves')\n",
    "\n",
    "# 2. 画预测结果\n",
    "plt.subplot(1, 2, 2)\n",
    "model.load_state_dict(torch.load(config['save_path']))\n",
    "model.eval()\n",
    "val_preds = []\n",
    "with torch.no_grad():\n",
    "    for x, y in valid_loader:\n",
    "        val_preds.append(model(x.to(device)).cpu().numpy())\n",
    "val_preds = np.concatenate(val_preds)\n",
    "\n",
    "plt.scatter(y_valid, val_preds, alpha=0.6)\n",
    "plt.plot([y_valid.min(), y_valid.max()], [y_valid.min(), y_valid.max()], 'r--')\n",
    "plt.xlabel('Ground Truth')\n",
    "plt.ylabel('Prediction')\n",
    "plt.title('GT vs Prediction')\n",
    "plt.show()"
   ]
  },
  {
   "cell_type": "markdown",
   "metadata": {
    "id": "yhAHGqC9-woK"
   },
   "source": [
    "# Testing\n",
    "The predictions of your model on testing set will be stored at `pred.csv`."
   ]
  },
  {
   "cell_type": "code",
   "execution_count": 13,
   "metadata": {
    "colab": {
     "base_uri": "https://localhost:8080/"
    },
    "executionInfo": {
     "elapsed": 34,
     "status": "ok",
     "timestamp": 1645205504219,
     "user": {
      "displayName": "汪宣甫",
      "photoUrl": "https://lh3.googleusercontent.com/a-/AOh14GjBKotf4XJMKIqPny9QolMGdXtetpKDFJ3v7saxaw=s64",
      "userId": "03426905883558571052"
     },
     "user_tz": -480
    },
    "id": "Q5eVdpbvAlAe",
    "outputId": "53d0a7b8-20ed-4f83-8a9b-d860f16aed31"
   },
   "outputs": [
    {
     "name": "stderr",
     "output_type": "stream",
     "text": [
      "100%|██████████| 5/5 [00:00<00:00, 1205.68it/s]\n"
     ]
    }
   ],
   "source": [
    "def save_pred(preds, file):\n",
    "    ''' Save predictions to specified file '''\n",
    "    with open(file, 'w') as fp:\n",
    "        writer = csv.writer(fp)\n",
    "        writer.writerow(['id', 'tested_positive'])\n",
    "        for i, p in enumerate(preds):\n",
    "            writer.writerow([i, p])\n",
    "\n",
    "model = My_Model(input_dim=x_train.shape[1]).to(device)\n",
    "model.load_state_dict(torch.load(config['save_path']))\n",
    "preds = predict(test_loader, model, device)\n",
    "save_pred(preds, 'pred.csv')"
   ]
  },
  {
   "cell_type": "markdown",
   "metadata": {
    "id": "IJ_k5rY0GvSV"
   },
   "source": [
    "# Reference\n",
    "This notebook uses code written by Heng-Jui Chang @ NTUEE (https://github.com/ga642381/ML2021-Spring/blob/main/HW01/HW01.ipynb)"
   ]
  }
 ],
 "metadata": {
  "accelerator": "GPU",
  "colab": {
   "provenance": [
    {
     "file_id": "1FTcG6CE-HILnvFztEFKdauMlPKfQvm5Z",
     "timestamp": 1753096628053
    },
    {
     "file_id": "11ZsfGKBOCYwYgUFfRiPuRfStCDL0TK4i",
     "timestamp": 1643255172964
    }
   ]
  },
  "kernelspec": {
   "display_name": "Python 3 (ipykernel)",
   "language": "python",
   "name": "python3"
  },
  "language_info": {
   "codemirror_mode": {
    "name": "ipython",
    "version": 3
   },
   "file_extension": ".py",
   "mimetype": "text/x-python",
   "name": "python",
   "nbconvert_exporter": "python",
   "pygments_lexer": "ipython3",
   "version": "3.10.18"
  }
 },
 "nbformat": 4,
 "nbformat_minor": 4
}
